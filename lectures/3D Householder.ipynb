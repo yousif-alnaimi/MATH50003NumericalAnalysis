{
 "cells": [
  {
   "cell_type": "code",
   "execution_count": 12,
   "id": "0e612803",
   "metadata": {},
   "outputs": [],
   "source": [
    "using Plots, LinearAlgebra, Interact"
   ]
  },
  {
   "cell_type": "markdown",
   "id": "0221a07b",
   "metadata": {},
   "source": [
    "# 1. Householder reflections\n",
    "# 2. Nullspace & relationship to QR\n",
    "# 3. Unitary matrices\n",
    "# 4. Spectral theorem for normal matrices (e.g symmetric)"
   ]
  },
  {
   "cell_type": "code",
   "execution_count": 14,
   "id": "6052e008",
   "metadata": {
    "scrolled": false
   },
   "outputs": [
    {
     "data": {
      "application/vnd.webio.node+json": {
       "children": [
        {
         "children": [
          {
           "children": [
            {
             "children": [
              {
               "children": [
                {
                 "children": [
                  "x"
                 ],
                 "instanceArgs": {
                  "namespace": "html",
                  "tag": "label"
                 },
                 "nodeType": "DOM",
                 "props": {
                  "className": "interact ",
                  "style": {
                   "padding": "5px 10px 0px 10px"
                  }
                 },
                 "type": "node"
                }
               ],
               "instanceArgs": {
                "namespace": "html",
                "tag": "div"
               },
               "nodeType": "DOM",
               "props": {
                "className": "interact-flex-row-left"
               },
               "type": "node"
              },
              {
               "children": [
                {
                 "children": [],
                 "instanceArgs": {
                  "namespace": "html",
                  "tag": "input"
                 },
                 "nodeType": "DOM",
                 "props": {
                  "attributes": {
                   "data-bind": "numericValue: index, valueUpdate: 'input', event: {change: function (){this.changes(this.changes()+1)}}",
                   "orient": "horizontal",
                   "type": "range"
                  },
                  "className": "slider slider is-fullwidth",
                  "max": 40,
                  "min": 1,
                  "step": 1,
                  "style": {}
                 },
                 "type": "node"
                }
               ],
               "instanceArgs": {
                "namespace": "html",
                "tag": "div"
               },
               "nodeType": "DOM",
               "props": {
                "className": "interact-flex-row-center"
               },
               "type": "node"
              },
              {
               "children": [
                {
                 "children": [],
                 "instanceArgs": {
                  "namespace": "html",
                  "tag": "p"
                 },
                 "nodeType": "DOM",
                 "props": {
                  "attributes": {
                   "data-bind": "text: formatted_val"
                  }
                 },
                 "type": "node"
                }
               ],
               "instanceArgs": {
                "namespace": "html",
                "tag": "div"
               },
               "nodeType": "DOM",
               "props": {
                "className": "interact-flex-row-right"
               },
               "type": "node"
              }
             ],
             "instanceArgs": {
              "namespace": "html",
              "tag": "div"
             },
             "nodeType": "DOM",
             "props": {
              "className": "interact-flex-row interact-widget"
             },
             "type": "node"
            }
           ],
           "instanceArgs": {
            "handlers": {
             "changes": [
              "(function (val){return (val!=this.model[\"changes\"]()) ? (this.valueFromJulia[\"changes\"]=true, this.model[\"changes\"](val)) : undefined})"
             ],
             "index": [
              "(function (val){return (val!=this.model[\"index\"]()) ? (this.valueFromJulia[\"index\"]=true, this.model[\"index\"](val)) : undefined})"
             ]
            },
            "id": "10960401125933627339",
            "imports": {
             "data": [
              {
               "name": "knockout",
               "type": "js",
               "url": "/assetserver/fb6ca08aae97daeb80aa99104c4eddfe76bc6766-knockout.js"
              },
              {
               "name": "knockout_punches",
               "type": "js",
               "url": "/assetserver/1759964e1dbcc22fe1a19531f6579c45d2da7d3e-knockout_punches.js"
              },
              {
               "name": null,
               "type": "js",
               "url": "/assetserver/789869448aff3abaf20e8ce1df06db26f65f635b-all.js"
              },
              {
               "name": null,
               "type": "css",
               "url": "/assetserver/798d51a5869c99606bb76f940b7af91e76cb0487-style.css"
              },
              {
               "name": null,
               "type": "css",
               "url": "/assetserver/e2a2c92c154e10beb71b03c08b29cc3ad8175428-bulma_confined.min.css"
              }
             ],
             "type": "async_block"
            },
            "mount_callbacks": [
             "function () {\n    var handler = (function (ko, koPunches) {\n    ko.punches.enableAll();\n    ko.bindingHandlers.numericValue = {\n        init: function(element, valueAccessor, allBindings, data, context) {\n            var stringified = ko.observable(ko.unwrap(valueAccessor()));\n            stringified.subscribe(function(value) {\n                var val = parseFloat(value);\n                if (!isNaN(val)) {\n                    valueAccessor()(val);\n                }\n            });\n            valueAccessor().subscribe(function(value) {\n                var str = JSON.stringify(value);\n                if ((str == \"0\") && ([\"-0\", \"-0.\"].indexOf(stringified()) >= 0))\n                     return;\n                 if ([\"null\", \"\"].indexOf(str) >= 0)\n                     return;\n                stringified(str);\n            });\n            ko.applyBindingsToNode(\n                element,\n                {\n                    value: stringified,\n                    valueUpdate: allBindings.get('valueUpdate'),\n                },\n                context,\n            );\n        }\n    };\n    var json_data = {\"formatted_vals\":[\"-1.9\",\"-1.8\",\"-1.7\",\"-1.6\",\"-1.5\",\"-1.4\",\"-1.3\",\"-1.2\",\"-1.1\",\"-1.0\",\"-0.9\",\"-0.8\",\"-0.7\",\"-0.6\",\"-0.5\",\"-0.4\",\"-0.3\",\"-0.2\",\"-0.1\",\"0.0\",\"0.1\",\"0.2\",\"0.3\",\"0.4\",\"0.5\",\"0.6\",\"0.7\",\"0.8\",\"0.9\",\"1.0\",\"1.1\",\"1.2\",\"1.3\",\"1.4\",\"1.5\",\"1.6\",\"1.7\",\"1.8\",\"1.9\",\"2.0\"],\"changes\":WebIO.getval({\"name\":\"changes\",\"scope\":\"10960401125933627339\",\"id\":\"1944844972814111457\",\"type\":\"observable\"}),\"index\":WebIO.getval({\"name\":\"index\",\"scope\":\"10960401125933627339\",\"id\":\"12221569426109409221\",\"type\":\"observable\"})};\n    var self = this;\n    function AppViewModel() {\n        for (var key in json_data) {\n            var el = json_data[key];\n            this[key] = Array.isArray(el) ? ko.observableArray(el) : ko.observable(el);\n        }\n        \n        [this[\"formatted_val\"]=ko.computed(    function(){\n        return this.formatted_vals()[parseInt(this.index())-(1)];\n    }\n,this)]\n        [this[\"changes\"].subscribe((function (val){!(this.valueFromJulia[\"changes\"]) ? (WebIO.setval({\"name\":\"changes\",\"scope\":\"10960401125933627339\",\"id\":\"1944844972814111457\",\"type\":\"observable\"},val)) : undefined; return this.valueFromJulia[\"changes\"]=false}),self),this[\"index\"].subscribe((function (val){!(this.valueFromJulia[\"index\"]) ? (WebIO.setval({\"name\":\"index\",\"scope\":\"10960401125933627339\",\"id\":\"12221569426109409221\",\"type\":\"observable\"},val)) : undefined; return this.valueFromJulia[\"index\"]=false}),self)]\n        \n    }\n    self.model = new AppViewModel();\n    self.valueFromJulia = {};\n    for (var key in json_data) {\n        self.valueFromJulia[key] = false;\n    }\n    ko.applyBindings(self.model, self.dom);\n}\n);\n    (WebIO.importBlock({\"data\":[{\"name\":\"knockout\",\"type\":\"js\",\"url\":\"/assetserver/fb6ca08aae97daeb80aa99104c4eddfe76bc6766-knockout.js\"},{\"name\":\"knockout_punches\",\"type\":\"js\",\"url\":\"/assetserver/1759964e1dbcc22fe1a19531f6579c45d2da7d3e-knockout_punches.js\"}],\"type\":\"async_block\"})).then((imports) => handler.apply(this, imports));\n}\n"
            ],
            "observables": {
             "changes": {
              "id": "1944844972814111457",
              "sync": false,
              "value": 0
             },
             "index": {
              "id": "12221569426109409221",
              "sync": true,
              "value": 20
             }
            },
            "systemjs_options": null
           },
           "nodeType": "Scope",
           "props": {},
           "type": "node"
          }
         ],
         "instanceArgs": {
          "namespace": "html",
          "tag": "div"
         },
         "nodeType": "DOM",
         "props": {
          "className": "field interact-widget"
         },
         "type": "node"
        },
        {
         "children": [
          {
           "children": [
            {
             "children": [
              {
               "children": [
                {
                 "children": [
                  "y"
                 ],
                 "instanceArgs": {
                  "namespace": "html",
                  "tag": "label"
                 },
                 "nodeType": "DOM",
                 "props": {
                  "className": "interact ",
                  "style": {
                   "padding": "5px 10px 0px 10px"
                  }
                 },
                 "type": "node"
                }
               ],
               "instanceArgs": {
                "namespace": "html",
                "tag": "div"
               },
               "nodeType": "DOM",
               "props": {
                "className": "interact-flex-row-left"
               },
               "type": "node"
              },
              {
               "children": [
                {
                 "children": [],
                 "instanceArgs": {
                  "namespace": "html",
                  "tag": "input"
                 },
                 "nodeType": "DOM",
                 "props": {
                  "attributes": {
                   "data-bind": "numericValue: index, valueUpdate: 'input', event: {change: function (){this.changes(this.changes()+1)}}",
                   "orient": "horizontal",
                   "type": "range"
                  },
                  "className": "slider slider is-fullwidth",
                  "max": 40,
                  "min": 1,
                  "step": 1,
                  "style": {}
                 },
                 "type": "node"
                }
               ],
               "instanceArgs": {
                "namespace": "html",
                "tag": "div"
               },
               "nodeType": "DOM",
               "props": {
                "className": "interact-flex-row-center"
               },
               "type": "node"
              },
              {
               "children": [
                {
                 "children": [],
                 "instanceArgs": {
                  "namespace": "html",
                  "tag": "p"
                 },
                 "nodeType": "DOM",
                 "props": {
                  "attributes": {
                   "data-bind": "text: formatted_val"
                  }
                 },
                 "type": "node"
                }
               ],
               "instanceArgs": {
                "namespace": "html",
                "tag": "div"
               },
               "nodeType": "DOM",
               "props": {
                "className": "interact-flex-row-right"
               },
               "type": "node"
              }
             ],
             "instanceArgs": {
              "namespace": "html",
              "tag": "div"
             },
             "nodeType": "DOM",
             "props": {
              "className": "interact-flex-row interact-widget"
             },
             "type": "node"
            }
           ],
           "instanceArgs": {
            "handlers": {
             "changes": [
              "(function (val){return (val!=this.model[\"changes\"]()) ? (this.valueFromJulia[\"changes\"]=true, this.model[\"changes\"](val)) : undefined})"
             ],
             "index": [
              "(function (val){return (val!=this.model[\"index\"]()) ? (this.valueFromJulia[\"index\"]=true, this.model[\"index\"](val)) : undefined})"
             ]
            },
            "id": "8872045198623905502",
            "imports": {
             "data": [
              {
               "name": "knockout",
               "type": "js",
               "url": "/assetserver/fb6ca08aae97daeb80aa99104c4eddfe76bc6766-knockout.js"
              },
              {
               "name": "knockout_punches",
               "type": "js",
               "url": "/assetserver/1759964e1dbcc22fe1a19531f6579c45d2da7d3e-knockout_punches.js"
              },
              {
               "name": null,
               "type": "js",
               "url": "/assetserver/789869448aff3abaf20e8ce1df06db26f65f635b-all.js"
              },
              {
               "name": null,
               "type": "css",
               "url": "/assetserver/798d51a5869c99606bb76f940b7af91e76cb0487-style.css"
              },
              {
               "name": null,
               "type": "css",
               "url": "/assetserver/e2a2c92c154e10beb71b03c08b29cc3ad8175428-bulma_confined.min.css"
              }
             ],
             "type": "async_block"
            },
            "mount_callbacks": [
             "function () {\n    var handler = (function (ko, koPunches) {\n    ko.punches.enableAll();\n    ko.bindingHandlers.numericValue = {\n        init: function(element, valueAccessor, allBindings, data, context) {\n            var stringified = ko.observable(ko.unwrap(valueAccessor()));\n            stringified.subscribe(function(value) {\n                var val = parseFloat(value);\n                if (!isNaN(val)) {\n                    valueAccessor()(val);\n                }\n            });\n            valueAccessor().subscribe(function(value) {\n                var str = JSON.stringify(value);\n                if ((str == \"0\") && ([\"-0\", \"-0.\"].indexOf(stringified()) >= 0))\n                     return;\n                 if ([\"null\", \"\"].indexOf(str) >= 0)\n                     return;\n                stringified(str);\n            });\n            ko.applyBindingsToNode(\n                element,\n                {\n                    value: stringified,\n                    valueUpdate: allBindings.get('valueUpdate'),\n                },\n                context,\n            );\n        }\n    };\n    var json_data = {\"formatted_vals\":[\"-1.9\",\"-1.8\",\"-1.7\",\"-1.6\",\"-1.5\",\"-1.4\",\"-1.3\",\"-1.2\",\"-1.1\",\"-1.0\",\"-0.9\",\"-0.8\",\"-0.7\",\"-0.6\",\"-0.5\",\"-0.4\",\"-0.3\",\"-0.2\",\"-0.1\",\"0.0\",\"0.1\",\"0.2\",\"0.3\",\"0.4\",\"0.5\",\"0.6\",\"0.7\",\"0.8\",\"0.9\",\"1.0\",\"1.1\",\"1.2\",\"1.3\",\"1.4\",\"1.5\",\"1.6\",\"1.7\",\"1.8\",\"1.9\",\"2.0\"],\"changes\":WebIO.getval({\"name\":\"changes\",\"scope\":\"8872045198623905502\",\"id\":\"3144036643842626078\",\"type\":\"observable\"}),\"index\":WebIO.getval({\"name\":\"index\",\"scope\":\"8872045198623905502\",\"id\":\"9857793897598890138\",\"type\":\"observable\"})};\n    var self = this;\n    function AppViewModel() {\n        for (var key in json_data) {\n            var el = json_data[key];\n            this[key] = Array.isArray(el) ? ko.observableArray(el) : ko.observable(el);\n        }\n        \n        [this[\"formatted_val\"]=ko.computed(    function(){\n        return this.formatted_vals()[parseInt(this.index())-(1)];\n    }\n,this)]\n        [this[\"changes\"].subscribe((function (val){!(this.valueFromJulia[\"changes\"]) ? (WebIO.setval({\"name\":\"changes\",\"scope\":\"8872045198623905502\",\"id\":\"3144036643842626078\",\"type\":\"observable\"},val)) : undefined; return this.valueFromJulia[\"changes\"]=false}),self),this[\"index\"].subscribe((function (val){!(this.valueFromJulia[\"index\"]) ? (WebIO.setval({\"name\":\"index\",\"scope\":\"8872045198623905502\",\"id\":\"9857793897598890138\",\"type\":\"observable\"},val)) : undefined; return this.valueFromJulia[\"index\"]=false}),self)]\n        \n    }\n    self.model = new AppViewModel();\n    self.valueFromJulia = {};\n    for (var key in json_data) {\n        self.valueFromJulia[key] = false;\n    }\n    ko.applyBindings(self.model, self.dom);\n}\n);\n    (WebIO.importBlock({\"data\":[{\"name\":\"knockout\",\"type\":\"js\",\"url\":\"/assetserver/fb6ca08aae97daeb80aa99104c4eddfe76bc6766-knockout.js\"},{\"name\":\"knockout_punches\",\"type\":\"js\",\"url\":\"/assetserver/1759964e1dbcc22fe1a19531f6579c45d2da7d3e-knockout_punches.js\"}],\"type\":\"async_block\"})).then((imports) => handler.apply(this, imports));\n}\n"
            ],
            "observables": {
             "changes": {
              "id": "3144036643842626078",
              "sync": false,
              "value": 0
             },
             "index": {
              "id": "9857793897598890138",
              "sync": true,
              "value": 20
             }
            },
            "systemjs_options": null
           },
           "nodeType": "Scope",
           "props": {},
           "type": "node"
          }
         ],
         "instanceArgs": {
          "namespace": "html",
          "tag": "div"
         },
         "nodeType": "DOM",
         "props": {
          "className": "field interact-widget"
         },
         "type": "node"
        },
        {
         "children": [
          {
           "children": [
            {
             "children": [
              {
               "children": [
                {
                 "children": [
                  "z"
                 ],
                 "instanceArgs": {
                  "namespace": "html",
                  "tag": "label"
                 },
                 "nodeType": "DOM",
                 "props": {
                  "className": "interact ",
                  "style": {
                   "padding": "5px 10px 0px 10px"
                  }
                 },
                 "type": "node"
                }
               ],
               "instanceArgs": {
                "namespace": "html",
                "tag": "div"
               },
               "nodeType": "DOM",
               "props": {
                "className": "interact-flex-row-left"
               },
               "type": "node"
              },
              {
               "children": [
                {
                 "children": [],
                 "instanceArgs": {
                  "namespace": "html",
                  "tag": "input"
                 },
                 "nodeType": "DOM",
                 "props": {
                  "attributes": {
                   "data-bind": "numericValue: index, valueUpdate: 'input', event: {change: function (){this.changes(this.changes()+1)}}",
                   "orient": "horizontal",
                   "type": "range"
                  },
                  "className": "slider slider is-fullwidth",
                  "max": 40,
                  "min": 1,
                  "step": 1,
                  "style": {}
                 },
                 "type": "node"
                }
               ],
               "instanceArgs": {
                "namespace": "html",
                "tag": "div"
               },
               "nodeType": "DOM",
               "props": {
                "className": "interact-flex-row-center"
               },
               "type": "node"
              },
              {
               "children": [
                {
                 "children": [],
                 "instanceArgs": {
                  "namespace": "html",
                  "tag": "p"
                 },
                 "nodeType": "DOM",
                 "props": {
                  "attributes": {
                   "data-bind": "text: formatted_val"
                  }
                 },
                 "type": "node"
                }
               ],
               "instanceArgs": {
                "namespace": "html",
                "tag": "div"
               },
               "nodeType": "DOM",
               "props": {
                "className": "interact-flex-row-right"
               },
               "type": "node"
              }
             ],
             "instanceArgs": {
              "namespace": "html",
              "tag": "div"
             },
             "nodeType": "DOM",
             "props": {
              "className": "interact-flex-row interact-widget"
             },
             "type": "node"
            }
           ],
           "instanceArgs": {
            "handlers": {
             "changes": [
              "(function (val){return (val!=this.model[\"changes\"]()) ? (this.valueFromJulia[\"changes\"]=true, this.model[\"changes\"](val)) : undefined})"
             ],
             "index": [
              "(function (val){return (val!=this.model[\"index\"]()) ? (this.valueFromJulia[\"index\"]=true, this.model[\"index\"](val)) : undefined})"
             ]
            },
            "id": "10955116185814510155",
            "imports": {
             "data": [
              {
               "name": "knockout",
               "type": "js",
               "url": "/assetserver/fb6ca08aae97daeb80aa99104c4eddfe76bc6766-knockout.js"
              },
              {
               "name": "knockout_punches",
               "type": "js",
               "url": "/assetserver/1759964e1dbcc22fe1a19531f6579c45d2da7d3e-knockout_punches.js"
              },
              {
               "name": null,
               "type": "js",
               "url": "/assetserver/789869448aff3abaf20e8ce1df06db26f65f635b-all.js"
              },
              {
               "name": null,
               "type": "css",
               "url": "/assetserver/798d51a5869c99606bb76f940b7af91e76cb0487-style.css"
              },
              {
               "name": null,
               "type": "css",
               "url": "/assetserver/e2a2c92c154e10beb71b03c08b29cc3ad8175428-bulma_confined.min.css"
              }
             ],
             "type": "async_block"
            },
            "mount_callbacks": [
             "function () {\n    var handler = (function (ko, koPunches) {\n    ko.punches.enableAll();\n    ko.bindingHandlers.numericValue = {\n        init: function(element, valueAccessor, allBindings, data, context) {\n            var stringified = ko.observable(ko.unwrap(valueAccessor()));\n            stringified.subscribe(function(value) {\n                var val = parseFloat(value);\n                if (!isNaN(val)) {\n                    valueAccessor()(val);\n                }\n            });\n            valueAccessor().subscribe(function(value) {\n                var str = JSON.stringify(value);\n                if ((str == \"0\") && ([\"-0\", \"-0.\"].indexOf(stringified()) >= 0))\n                     return;\n                 if ([\"null\", \"\"].indexOf(str) >= 0)\n                     return;\n                stringified(str);\n            });\n            ko.applyBindingsToNode(\n                element,\n                {\n                    value: stringified,\n                    valueUpdate: allBindings.get('valueUpdate'),\n                },\n                context,\n            );\n        }\n    };\n    var json_data = {\"formatted_vals\":[\"-1.9\",\"-1.8\",\"-1.7\",\"-1.6\",\"-1.5\",\"-1.4\",\"-1.3\",\"-1.2\",\"-1.1\",\"-1.0\",\"-0.9\",\"-0.8\",\"-0.7\",\"-0.6\",\"-0.5\",\"-0.4\",\"-0.3\",\"-0.2\",\"-0.1\",\"0.0\",\"0.1\",\"0.2\",\"0.3\",\"0.4\",\"0.5\",\"0.6\",\"0.7\",\"0.8\",\"0.9\",\"1.0\",\"1.1\",\"1.2\",\"1.3\",\"1.4\",\"1.5\",\"1.6\",\"1.7\",\"1.8\",\"1.9\",\"2.0\"],\"changes\":WebIO.getval({\"name\":\"changes\",\"scope\":\"10955116185814510155\",\"id\":\"14328492106173526680\",\"type\":\"observable\"}),\"index\":WebIO.getval({\"name\":\"index\",\"scope\":\"10955116185814510155\",\"id\":\"3433830203541098064\",\"type\":\"observable\"})};\n    var self = this;\n    function AppViewModel() {\n        for (var key in json_data) {\n            var el = json_data[key];\n            this[key] = Array.isArray(el) ? ko.observableArray(el) : ko.observable(el);\n        }\n        \n        [this[\"formatted_val\"]=ko.computed(    function(){\n        return this.formatted_vals()[parseInt(this.index())-(1)];\n    }\n,this)]\n        [this[\"changes\"].subscribe((function (val){!(this.valueFromJulia[\"changes\"]) ? (WebIO.setval({\"name\":\"changes\",\"scope\":\"10955116185814510155\",\"id\":\"14328492106173526680\",\"type\":\"observable\"},val)) : undefined; return this.valueFromJulia[\"changes\"]=false}),self),this[\"index\"].subscribe((function (val){!(this.valueFromJulia[\"index\"]) ? (WebIO.setval({\"name\":\"index\",\"scope\":\"10955116185814510155\",\"id\":\"3433830203541098064\",\"type\":\"observable\"},val)) : undefined; return this.valueFromJulia[\"index\"]=false}),self)]\n        \n    }\n    self.model = new AppViewModel();\n    self.valueFromJulia = {};\n    for (var key in json_data) {\n        self.valueFromJulia[key] = false;\n    }\n    ko.applyBindings(self.model, self.dom);\n}\n);\n    (WebIO.importBlock({\"data\":[{\"name\":\"knockout\",\"type\":\"js\",\"url\":\"/assetserver/fb6ca08aae97daeb80aa99104c4eddfe76bc6766-knockout.js\"},{\"name\":\"knockout_punches\",\"type\":\"js\",\"url\":\"/assetserver/1759964e1dbcc22fe1a19531f6579c45d2da7d3e-knockout_punches.js\"}],\"type\":\"async_block\"})).then((imports) => handler.apply(this, imports));\n}\n"
            ],
            "observables": {
             "changes": {
              "id": "14328492106173526680",
              "sync": false,
              "value": 0
             },
             "index": {
              "id": "3433830203541098064",
              "sync": true,
              "value": 20
             }
            },
            "systemjs_options": null
           },
           "nodeType": "Scope",
           "props": {},
           "type": "node"
          }
         ],
         "instanceArgs": {
          "namespace": "html",
          "tag": "div"
         },
         "nodeType": "DOM",
         "props": {
          "className": "field interact-widget"
         },
         "type": "node"
        },
        {
         "children": [
          {
           "children": [],
           "instanceArgs": {
            "id": "10183614193261341606",
            "name": "obs-node"
           },
           "nodeType": "ObservableNode",
           "props": {},
           "type": "node"
          }
         ],
         "instanceArgs": {
          "handlers": {},
          "id": "14933881679763881540",
          "imports": {
           "data": [],
           "type": "async_block"
          },
          "mount_callbacks": [],
          "observables": {
           "obs-node": {
            "id": "10183614193261341606",
            "sync": false,
            "value": {
             "children": [
              {
               "children": [],
               "instanceArgs": {
                "namespace": "html",
                "tag": "div"
               },
               "nodeType": "DOM",
               "props": {
                "setInnerHtml": "<?xml version=\"1.0\" encoding=\"utf-8\"?>\n<svg xmlns=\"http://www.w3.org/2000/svg\" xmlns:xlink=\"http://www.w3.org/1999/xlink\" width=\"600\" height=\"400\" viewBox=\"0 0 2400 1600\">\n<defs>\n  <clipPath id=\"clip090\">\n    <rect x=\"0\" y=\"0\" width=\"2400\" height=\"1600\"/>\n  </clipPath>\n</defs>\n<path clip-path=\"url(#clip090)\" d=\"\nM0 1600 L2400 1600 L2400 0 L0 0  Z\n  \" fill=\"#ffffff\" fill-rule=\"evenodd\" fill-opacity=\"1\"/>\n<defs>\n  <clipPath id=\"clip091\">\n    <rect x=\"480\" y=\"0\" width=\"1681\" height=\"1600\"/>\n  </clipPath>\n</defs>\n<defs>\n  <clipPath id=\"clip092\">\n    <rect x=\"147\" y=\"47\" width=\"1846\" height=\"1440\"/>\n  </clipPath>\n</defs>\n<path clip-path=\"url(#clip092)\" d=\"\nM147.478 1401.43 L147.478 302.298 L822.897 47.2441 L1992.76 132.262 L1992.76 1231.39 L1317.34 1486.45 L147.478 1401.43  Z\n  \" fill=\"#ffffff\" fill-rule=\"evenodd\" fill-opacity=\"1\"/>\n<polyline clip-path=\"url(#clip092)\" style=\"stroke:#000000; stroke-linecap:butt; stroke-linejoin:round; stroke-width:2; stroke-opacity:0.1; fill:none\" points=\"\n  147.478,1401.43 822.897,1146.38 \n  \"/>\n<polyline clip-path=\"url(#clip092)\" style=\"stroke:#000000; stroke-linecap:butt; stroke-linejoin:round; stroke-width:2; stroke-opacity:0.1; fill:none\" points=\"\n  822.897,1146.38 822.897,47.2441 \n  \"/>\n<polyline clip-path=\"url(#clip092)\" style=\"stroke:#000000; stroke-linecap:butt; stroke-linejoin:round; stroke-width:2; stroke-opacity:0.1; fill:none\" points=\"\n  439.943,1422.68 1115.36,1167.63 \n  \"/>\n<polyline clip-path=\"url(#clip092)\" style=\"stroke:#000000; stroke-linecap:butt; stroke-linejoin:round; stroke-width:2; stroke-opacity:0.1; fill:none\" points=\"\n  1115.36,1167.63 1115.36,68.4986 \n  \"/>\n<polyline clip-path=\"url(#clip092)\" style=\"stroke:#000000; stroke-linecap:butt; stroke-linejoin:round; stroke-width:2; stroke-opacity:0.1; fill:none\" points=\"\n  732.408,1443.94 1407.83,1188.88 \n  \"/>\n<polyline clip-path=\"url(#clip092)\" style=\"stroke:#000000; stroke-linecap:butt; stroke-linejoin:round; stroke-width:2; stroke-opacity:0.1; fill:none\" points=\"\n  1407.83,1188.88 1407.83,89.7531 \n  \"/>\n<polyline clip-path=\"url(#clip092)\" style=\"stroke:#000000; stroke-linecap:butt; stroke-linejoin:round; stroke-width:2; stroke-opacity:0.1; fill:none\" points=\"\n  1024.87,1465.19 1700.29,1210.14 \n  \"/>\n<polyline clip-path=\"url(#clip092)\" style=\"stroke:#000000; stroke-linecap:butt; stroke-linejoin:round; stroke-width:2; stroke-opacity:0.1; fill:none\" points=\"\n  1700.29,1210.14 1700.29,111.008 \n  \"/>\n<polyline clip-path=\"url(#clip092)\" style=\"stroke:#000000; stroke-linecap:butt; stroke-linejoin:round; stroke-width:2; stroke-opacity:0.1; fill:none\" points=\"\n  1317.34,1486.45 1992.76,1231.39 \n  \"/>\n<polyline clip-path=\"url(#clip092)\" style=\"stroke:#000000; stroke-linecap:butt; stroke-linejoin:round; stroke-width:2; stroke-opacity:0.1; fill:none\" points=\"\n  1992.76,1231.39 1992.76,132.262 \n  \"/>\n<polyline clip-path=\"url(#clip090)\" style=\"stroke:#000000; stroke-linecap:butt; stroke-linejoin:round; stroke-width:4; stroke-opacity:1; fill:none\" points=\"\n  147.478,1401.43 1317.34,1486.45 \n  \"/>\n<polyline clip-path=\"url(#clip090)\" style=\"stroke:#000000; stroke-linecap:butt; stroke-linejoin:round; stroke-width:4; stroke-opacity:1; fill:none\" points=\"\n  147.478,1401.43 155.583,1398.37 \n  \"/>\n<polyline clip-path=\"url(#clip090)\" style=\"stroke:#000000; stroke-linecap:butt; stroke-linejoin:round; stroke-width:4; stroke-opacity:1; fill:none\" points=\"\n  439.943,1422.68 448.048,1419.62 \n  \"/>\n<polyline clip-path=\"url(#clip090)\" style=\"stroke:#000000; stroke-linecap:butt; stroke-linejoin:round; stroke-width:4; stroke-opacity:1; fill:none\" points=\"\n  732.408,1443.94 740.513,1440.88 \n  \"/>\n<polyline clip-path=\"url(#clip090)\" style=\"stroke:#000000; stroke-linecap:butt; stroke-linejoin:round; stroke-width:4; stroke-opacity:1; fill:none\" points=\"\n  1024.87,1465.19 1032.98,1462.13 \n  \"/>\n<polyline clip-path=\"url(#clip090)\" style=\"stroke:#000000; stroke-linecap:butt; stroke-linejoin:round; stroke-width:4; stroke-opacity:1; fill:none\" points=\"\n  1317.34,1486.45 1325.44,1483.39 \n  \"/>\n<path clip-path=\"url(#clip090)\" d=\"M85.275 1430.61 L114.951 1430.61 L114.951 1434.54 L85.275 1434.54 L85.275 1430.61 Z\" fill=\"#000000\" fill-rule=\"evenodd\" fill-opacity=\"1\" /><path clip-path=\"url(#clip090)\" d=\"M129.071 1443.5 L145.39 1443.5 L145.39 1447.43 L123.446 1447.43 L123.446 1443.5 Q126.108 1440.74 130.691 1436.11 Q135.298 1431.46 136.478 1430.12 Q138.724 1427.6 139.603 1425.86 Q140.506 1424.1 140.506 1422.41 Q140.506 1419.66 138.562 1417.92 Q136.64 1416.18 133.539 1416.18 Q131.34 1416.18 128.886 1416.95 Q126.455 1417.71 123.678 1419.26 L123.678 1414.54 Q126.502 1413.41 128.955 1412.83 Q131.409 1412.25 133.446 1412.25 Q138.816 1412.25 142.011 1414.93 Q145.205 1417.62 145.205 1422.11 Q145.205 1424.24 144.395 1426.16 Q143.608 1428.06 141.502 1430.65 Q140.923 1431.32 137.821 1434.54 Q134.719 1437.73 129.071 1443.5 Z\" fill=\"#000000\" fill-rule=\"evenodd\" fill-opacity=\"1\" /><path clip-path=\"url(#clip090)\" d=\"M377.369 1451.86 L407.045 1451.86 L407.045 1455.8 L377.369 1455.8 L377.369 1451.86 Z\" fill=\"#000000\" fill-rule=\"evenodd\" fill-opacity=\"1\" /><path clip-path=\"url(#clip090)\" d=\"M417.948 1464.75 L425.587 1464.75 L425.587 1438.39 L417.277 1440.05 L417.277 1435.8 L425.541 1434.13 L430.216 1434.13 L430.216 1464.75 L437.855 1464.75 L437.855 1468.69 L417.948 1468.69 L417.948 1464.75 Z\" fill=\"#000000\" fill-rule=\"evenodd\" fill-opacity=\"1\" /><path clip-path=\"url(#clip090)\" d=\"M718.376 1458.46 Q714.765 1458.46 712.936 1462.03 Q711.13 1465.57 711.13 1472.7 Q711.13 1479.8 712.936 1483.37 Q714.765 1486.91 718.376 1486.91 Q722.01 1486.91 723.816 1483.37 Q725.644 1479.8 725.644 1472.7 Q725.644 1465.57 723.816 1462.03 Q722.01 1458.46 718.376 1458.46 M718.376 1454.76 Q724.186 1454.76 727.241 1459.36 Q730.32 1463.95 730.32 1472.7 Q730.32 1481.42 727.241 1486.03 Q724.186 1490.61 718.376 1490.61 Q712.566 1490.61 709.487 1486.03 Q706.431 1481.42 706.431 1472.7 Q706.431 1463.95 709.487 1459.36 Q712.566 1454.76 718.376 1454.76 Z\" fill=\"#000000\" fill-rule=\"evenodd\" fill-opacity=\"1\" /><path clip-path=\"url(#clip090)\" d=\"M1002.88 1507.26 L1010.52 1507.26 L1010.52 1480.9 L1002.21 1482.56 L1002.21 1478.3 L1010.47 1476.64 L1015.15 1476.64 L1015.15 1507.26 L1022.78 1507.26 L1022.78 1511.2 L1002.88 1511.2 L1002.88 1507.26 Z\" fill=\"#000000\" fill-rule=\"evenodd\" fill-opacity=\"1\" /><path clip-path=\"url(#clip090)\" d=\"M1298.93 1528.52 L1315.25 1528.52 L1315.25 1532.45 L1293.31 1532.45 L1293.31 1528.52 Q1295.97 1525.76 1300.55 1521.13 Q1305.16 1516.48 1306.34 1515.14 Q1308.58 1512.61 1309.46 1510.88 Q1310.37 1509.12 1310.37 1507.43 Q1310.37 1504.67 1308.42 1502.94 Q1306.5 1501.2 1303.4 1501.2 Q1301.2 1501.2 1298.75 1501.97 Q1296.31 1502.73 1293.54 1504.28 L1293.54 1499.56 Q1296.36 1498.42 1298.81 1497.85 Q1301.27 1497.27 1303.31 1497.27 Q1308.68 1497.27 1311.87 1499.95 Q1315.06 1502.64 1315.06 1507.13 Q1315.06 1509.26 1314.25 1511.18 Q1313.47 1513.08 1311.36 1515.67 Q1310.78 1516.34 1307.68 1519.56 Q1304.58 1522.75 1298.93 1528.52 Z\" fill=\"#000000\" fill-rule=\"evenodd\" fill-opacity=\"1\" /><polyline clip-path=\"url(#clip092)\" style=\"stroke:#000000; stroke-linecap:butt; stroke-linejoin:round; stroke-width:2; stroke-opacity:0.1; fill:none\" points=\"\n  1317.34,1486.45 147.478,1401.43 \n  \"/>\n<polyline clip-path=\"url(#clip092)\" style=\"stroke:#000000; stroke-linecap:butt; stroke-linejoin:round; stroke-width:2; stroke-opacity:0.1; fill:none\" points=\"\n  147.478,1401.43 147.478,302.298 \n  \"/>\n<polyline clip-path=\"url(#clip092)\" style=\"stroke:#000000; stroke-linecap:butt; stroke-linejoin:round; stroke-width:2; stroke-opacity:0.1; fill:none\" points=\"\n  1486.19,1422.68 316.333,1337.67 \n  \"/>\n<polyline clip-path=\"url(#clip092)\" style=\"stroke:#000000; stroke-linecap:butt; stroke-linejoin:round; stroke-width:2; stroke-opacity:0.1; fill:none\" points=\"\n  316.333,1337.67 316.333,238.535 \n  \"/>\n<polyline clip-path=\"url(#clip092)\" style=\"stroke:#000000; stroke-linecap:butt; stroke-linejoin:round; stroke-width:2; stroke-opacity:0.1; fill:none\" points=\"\n  1655.05,1358.92 485.187,1273.9 \n  \"/>\n<polyline clip-path=\"url(#clip092)\" style=\"stroke:#000000; stroke-linecap:butt; stroke-linejoin:round; stroke-width:2; stroke-opacity:0.1; fill:none\" points=\"\n  485.187,1273.9 485.187,174.771 \n  \"/>\n<polyline clip-path=\"url(#clip092)\" style=\"stroke:#000000; stroke-linecap:butt; stroke-linejoin:round; stroke-width:2; stroke-opacity:0.1; fill:none\" points=\"\n  1823.9,1295.16 654.042,1210.14 \n  \"/>\n<polyline clip-path=\"url(#clip092)\" style=\"stroke:#000000; stroke-linecap:butt; stroke-linejoin:round; stroke-width:2; stroke-opacity:0.1; fill:none\" points=\"\n  654.042,1210.14 654.042,111.008 \n  \"/>\n<polyline clip-path=\"url(#clip092)\" style=\"stroke:#000000; stroke-linecap:butt; stroke-linejoin:round; stroke-width:2; stroke-opacity:0.1; fill:none\" points=\"\n  1992.76,1231.39 822.897,1146.38 \n  \"/>\n<polyline clip-path=\"url(#clip092)\" style=\"stroke:#000000; stroke-linecap:butt; stroke-linejoin:round; stroke-width:2; stroke-opacity:0.1; fill:none\" points=\"\n  822.897,1146.38 822.897,47.2441 \n  \"/>\n<polyline clip-path=\"url(#clip090)\" style=\"stroke:#000000; stroke-linecap:butt; stroke-linejoin:round; stroke-width:4; stroke-opacity:1; fill:none\" points=\"\n  1317.34,1486.45 1992.76,1231.39 \n  \"/>\n<polyline clip-path=\"url(#clip090)\" style=\"stroke:#000000; stroke-linecap:butt; stroke-linejoin:round; stroke-width:4; stroke-opacity:1; fill:none\" points=\"\n  1317.34,1486.45 1303.3,1485.43 \n  \"/>\n<polyline clip-path=\"url(#clip090)\" style=\"stroke:#000000; stroke-linecap:butt; stroke-linejoin:round; stroke-width:4; stroke-opacity:1; fill:none\" points=\"\n  1486.19,1422.68 1472.15,1421.66 \n  \"/>\n<polyline clip-path=\"url(#clip090)\" style=\"stroke:#000000; stroke-linecap:butt; stroke-linejoin:round; stroke-width:4; stroke-opacity:1; fill:none\" points=\"\n  1655.05,1358.92 1641.01,1357.9 \n  \"/>\n<polyline clip-path=\"url(#clip090)\" style=\"stroke:#000000; stroke-linecap:butt; stroke-linejoin:round; stroke-width:4; stroke-opacity:1; fill:none\" points=\"\n  1823.9,1295.16 1809.86,1294.14 \n  \"/>\n<polyline clip-path=\"url(#clip090)\" style=\"stroke:#000000; stroke-linecap:butt; stroke-linejoin:round; stroke-width:4; stroke-opacity:1; fill:none\" points=\"\n  1992.76,1231.39 1978.72,1230.37 \n  \"/>\n<path clip-path=\"url(#clip090)\" d=\"M1327.51 1513.84 L1357.19 1513.84 L1357.19 1517.78 L1327.51 1517.78 L1327.51 1513.84 Z\" fill=\"#000000\" fill-rule=\"evenodd\" fill-opacity=\"1\" /><path clip-path=\"url(#clip090)\" d=\"M1371.31 1526.74 L1387.63 1526.74 L1387.63 1530.67 L1365.68 1530.67 L1365.68 1526.74 Q1368.34 1523.98 1372.93 1519.35 Q1377.53 1514.7 1378.72 1513.36 Q1380.96 1510.83 1381.84 1509.1 Q1382.74 1507.34 1382.74 1505.65 Q1382.74 1502.89 1380.8 1501.16 Q1378.88 1499.42 1375.78 1499.42 Q1373.58 1499.42 1371.12 1500.18 Q1368.69 1500.95 1365.91 1502.5 L1365.91 1497.78 Q1368.74 1496.64 1371.19 1496.06 Q1373.65 1495.49 1375.68 1495.49 Q1381.05 1495.49 1384.25 1498.17 Q1387.44 1500.86 1387.44 1505.35 Q1387.44 1507.48 1386.63 1509.4 Q1385.84 1511.3 1383.74 1513.89 Q1383.16 1514.56 1380.06 1517.78 Q1376.96 1520.97 1371.31 1526.74 Z\" fill=\"#000000\" fill-rule=\"evenodd\" fill-opacity=\"1\" /><path clip-path=\"url(#clip090)\" d=\"M1496.37 1450.08 L1526.04 1450.08 L1526.04 1454.01 L1496.37 1454.01 L1496.37 1450.08 Z\" fill=\"#000000\" fill-rule=\"evenodd\" fill-opacity=\"1\" /><path clip-path=\"url(#clip090)\" d=\"M1536.94 1462.97 L1544.58 1462.97 L1544.58 1436.61 L1536.27 1438.27 L1536.27 1434.01 L1544.54 1432.35 L1549.21 1432.35 L1549.21 1462.97 L1556.85 1462.97 L1556.85 1466.91 L1536.94 1466.91 L1536.94 1462.97 Z\" fill=\"#000000\" fill-rule=\"evenodd\" fill-opacity=\"1\" /><path clip-path=\"url(#clip090)\" d=\"M1677.17 1371.66 Q1673.55 1371.66 1671.73 1375.23 Q1669.92 1378.77 1669.92 1385.9 Q1669.92 1393 1671.73 1396.57 Q1673.55 1400.11 1677.17 1400.11 Q1680.8 1400.11 1682.61 1396.57 Q1684.43 1393 1684.43 1385.9 Q1684.43 1378.77 1682.61 1375.23 Q1680.8 1371.66 1677.17 1371.66 M1677.17 1367.96 Q1682.98 1367.96 1686.03 1372.57 Q1689.11 1377.15 1689.11 1385.9 Q1689.11 1394.63 1686.03 1399.23 Q1682.98 1403.81 1677.17 1403.81 Q1671.36 1403.81 1668.28 1399.23 Q1665.22 1394.63 1665.22 1385.9 Q1665.22 1377.15 1668.28 1372.57 Q1671.36 1367.96 1677.17 1367.96 Z\" fill=\"#000000\" fill-rule=\"evenodd\" fill-opacity=\"1\" /><path clip-path=\"url(#clip090)\" d=\"M1834.75 1335.44 L1842.39 1335.44 L1842.39 1309.08 L1834.08 1310.75 L1834.08 1306.49 L1842.34 1304.82 L1847.02 1304.82 L1847.02 1335.44 L1854.65 1335.44 L1854.65 1339.38 L1834.75 1339.38 L1834.75 1335.44 Z\" fill=\"#000000\" fill-rule=\"evenodd\" fill-opacity=\"1\" /><path clip-path=\"url(#clip090)\" d=\"M2008.56 1271.68 L2024.87 1271.68 L2024.87 1275.62 L2002.93 1275.62 L2002.93 1271.68 Q2005.59 1268.93 2010.18 1264.3 Q2014.78 1259.64 2015.96 1258.3 Q2018.21 1255.78 2019.09 1254.04 Q2019.99 1252.28 2019.99 1250.59 Q2019.99 1247.84 2018.05 1246.1 Q2016.12 1244.37 2013.02 1244.37 Q2010.82 1244.37 2008.37 1245.13 Q2005.94 1245.89 2003.16 1247.45 L2003.16 1242.72 Q2005.99 1241.59 2008.44 1241.01 Q2010.89 1240.43 2012.93 1240.43 Q2018.3 1240.43 2021.49 1243.12 Q2024.69 1245.8 2024.69 1250.29 Q2024.69 1252.42 2023.88 1254.34 Q2023.09 1256.24 2020.99 1258.83 Q2020.41 1259.51 2017.31 1262.72 Q2014.2 1265.92 2008.56 1271.68 Z\" fill=\"#000000\" fill-rule=\"evenodd\" fill-opacity=\"1\" /><polyline clip-path=\"url(#clip092)\" style=\"stroke:#000000; stroke-linecap:butt; stroke-linejoin:round; stroke-width:2; stroke-opacity:0.1; fill:none\" points=\"\n  147.478,1401.43 822.897,1146.38 \n  \"/>\n<polyline clip-path=\"url(#clip092)\" style=\"stroke:#000000; stroke-linecap:butt; stroke-linejoin:round; stroke-width:2; stroke-opacity:0.1; fill:none\" points=\"\n  822.897,1146.38 1992.76,1231.39 \n  \"/>\n<polyline clip-path=\"url(#clip092)\" style=\"stroke:#000000; stroke-linecap:butt; stroke-linejoin:round; stroke-width:2; stroke-opacity:0.1; fill:none\" points=\"\n  147.478,1126.65 822.897,871.593 \n  \"/>\n<polyline clip-path=\"url(#clip092)\" style=\"stroke:#000000; stroke-linecap:butt; stroke-linejoin:round; stroke-width:2; stroke-opacity:0.1; fill:none\" points=\"\n  822.897,871.593 1992.76,956.611 \n  \"/>\n<polyline clip-path=\"url(#clip092)\" style=\"stroke:#000000; stroke-linecap:butt; stroke-linejoin:round; stroke-width:2; stroke-opacity:0.1; fill:none\" points=\"\n  147.478,851.864 822.897,596.81 \n  \"/>\n<polyline clip-path=\"url(#clip092)\" style=\"stroke:#000000; stroke-linecap:butt; stroke-linejoin:round; stroke-width:2; stroke-opacity:0.1; fill:none\" points=\"\n  822.897,596.81 1992.76,681.828 \n  \"/>\n<polyline clip-path=\"url(#clip092)\" style=\"stroke:#000000; stroke-linecap:butt; stroke-linejoin:round; stroke-width:2; stroke-opacity:0.1; fill:none\" points=\"\n  147.478,577.081 822.897,322.027 \n  \"/>\n<polyline clip-path=\"url(#clip092)\" style=\"stroke:#000000; stroke-linecap:butt; stroke-linejoin:round; stroke-width:2; stroke-opacity:0.1; fill:none\" points=\"\n  822.897,322.027 1992.76,407.045 \n  \"/>\n<polyline clip-path=\"url(#clip092)\" style=\"stroke:#000000; stroke-linecap:butt; stroke-linejoin:round; stroke-width:2; stroke-opacity:0.1; fill:none\" points=\"\n  147.478,302.298 822.897,47.2441 \n  \"/>\n<polyline clip-path=\"url(#clip092)\" style=\"stroke:#000000; stroke-linecap:butt; stroke-linejoin:round; stroke-width:2; stroke-opacity:0.1; fill:none\" points=\"\n  822.897,47.2441 1992.76,132.262 \n  \"/>\n<polyline clip-path=\"url(#clip090)\" style=\"stroke:#000000; stroke-linecap:butt; stroke-linejoin:round; stroke-width:4; stroke-opacity:1; fill:none\" points=\"\n  147.478,1401.43 147.478,302.298 \n  \"/>\n<polyline clip-path=\"url(#clip090)\" style=\"stroke:#000000; stroke-linecap:butt; stroke-linejoin:round; stroke-width:4; stroke-opacity:1; fill:none\" points=\"\n  147.478,1401.43 155.583,1398.37 \n  \"/>\n<polyline clip-path=\"url(#clip090)\" style=\"stroke:#000000; stroke-linecap:butt; stroke-linejoin:round; stroke-width:4; stroke-opacity:1; fill:none\" points=\"\n  147.478,1126.65 155.583,1123.59 \n  \"/>\n<polyline clip-path=\"url(#clip090)\" style=\"stroke:#000000; stroke-linecap:butt; stroke-linejoin:round; stroke-width:4; stroke-opacity:1; fill:none\" points=\"\n  147.478,851.864 155.583,848.803 \n  \"/>\n<polyline clip-path=\"url(#clip090)\" style=\"stroke:#000000; stroke-linecap:butt; stroke-linejoin:round; stroke-width:4; stroke-opacity:1; fill:none\" points=\"\n  147.478,577.081 155.583,574.021 \n  \"/>\n<polyline clip-path=\"url(#clip090)\" style=\"stroke:#000000; stroke-linecap:butt; stroke-linejoin:round; stroke-width:4; stroke-opacity:1; fill:none\" points=\"\n  147.478,302.298 155.583,299.238 \n  \"/>\n<path clip-path=\"url(#clip090)\" d=\"M58.5625 1401.88 L88.2383 1401.88 L88.2383 1405.82 L58.5625 1405.82 L58.5625 1401.88 Z\" fill=\"#000000\" fill-rule=\"evenodd\" fill-opacity=\"1\" /><path clip-path=\"url(#clip090)\" d=\"M102.359 1414.77 L118.678 1414.77 L118.678 1418.71 L96.7336 1418.71 L96.7336 1414.77 Q99.3956 1412.02 103.979 1407.39 Q108.585 1402.74 109.766 1401.4 Q112.011 1398.87 112.891 1397.14 Q113.794 1395.38 113.794 1393.69 Q113.794 1390.93 111.849 1389.2 Q109.928 1387.46 106.826 1387.46 Q104.627 1387.46 102.173 1388.22 Q99.7428 1388.99 96.9651 1390.54 L96.9651 1385.82 Q99.7891 1384.68 102.243 1384.1 Q104.697 1383.52 106.734 1383.52 Q112.104 1383.52 115.298 1386.21 Q118.493 1388.9 118.493 1393.39 Q118.493 1395.52 117.683 1397.44 Q116.896 1399.33 114.789 1401.93 Q114.21 1402.6 111.109 1405.82 Q108.007 1409.01 102.359 1414.77 Z\" fill=\"#000000\" fill-rule=\"evenodd\" fill-opacity=\"1\" /><path clip-path=\"url(#clip090)\" d=\"M58.1921 1127.1 L87.8679 1127.1 L87.8679 1131.03 L58.1921 1131.03 L58.1921 1127.1 Z\" fill=\"#000000\" fill-rule=\"evenodd\" fill-opacity=\"1\" /><path clip-path=\"url(#clip090)\" d=\"M98.7706 1139.99 L106.409 1139.99 L106.409 1113.63 L98.0993 1115.29 L98.0993 1111.03 L106.363 1109.37 L111.039 1109.37 L111.039 1139.99 L118.678 1139.99 L118.678 1143.93 L98.7706 1143.93 L98.7706 1139.99 Z\" fill=\"#000000\" fill-rule=\"evenodd\" fill-opacity=\"1\" /><path clip-path=\"url(#clip090)\" d=\"M106.734 837.663 Q103.122 837.663 101.294 841.228 Q99.4882 844.769 99.4882 851.899 Q99.4882 859.005 101.294 862.57 Q103.122 866.112 106.734 866.112 Q110.368 866.112 112.173 862.57 Q114.002 859.005 114.002 851.899 Q114.002 844.769 112.173 841.228 Q110.368 837.663 106.734 837.663 M106.734 833.959 Q112.544 833.959 115.599 838.566 Q118.678 843.149 118.678 851.899 Q118.678 860.626 115.599 865.232 Q112.544 869.815 106.734 869.815 Q100.923 869.815 97.8447 865.232 Q94.7892 860.626 94.7892 851.899 Q94.7892 843.149 97.8447 838.566 Q100.923 833.959 106.734 833.959 Z\" fill=\"#000000\" fill-rule=\"evenodd\" fill-opacity=\"1\" /><path clip-path=\"url(#clip090)\" d=\"M98.7706 590.426 L106.409 590.426 L106.409 564.06 L98.0993 565.727 L98.0993 561.468 L106.363 559.801 L111.039 559.801 L111.039 590.426 L118.678 590.426 L118.678 594.361 L98.7706 594.361 L98.7706 590.426 Z\" fill=\"#000000\" fill-rule=\"evenodd\" fill-opacity=\"1\" /><path clip-path=\"url(#clip090)\" d=\"M102.359 315.643 L118.678 315.643 L118.678 319.578 L96.7336 319.578 L96.7336 315.643 Q99.3956 312.889 103.979 308.259 Q108.585 303.606 109.766 302.264 Q112.011 299.741 112.891 298.004 Q113.794 296.245 113.794 294.555 Q113.794 291.801 111.849 290.065 Q109.928 288.329 106.826 288.329 Q104.627 288.329 102.173 289.092 Q99.7428 289.856 96.9651 291.407 L96.9651 286.685 Q99.7891 285.551 102.243 284.972 Q104.697 284.393 106.734 284.393 Q112.104 284.393 115.298 287.079 Q118.493 289.764 118.493 294.254 Q118.493 296.384 117.683 298.305 Q116.896 300.204 114.789 302.796 Q114.21 303.467 111.109 306.685 Q108.007 309.879 102.359 315.643 Z\" fill=\"#000000\" fill-rule=\"evenodd\" fill-opacity=\"1\" /><circle clip-path=\"url(#clip092)\" cx=\"1070.12\" cy=\"766.846\" r=\"14\" fill=\"#009af9\" fill-rule=\"evenodd\" fill-opacity=\"1\" stroke=\"#000000\" stroke-opacity=\"1\" stroke-width=\"3.2\"/>\n<circle clip-path=\"url(#clip092)\" cx=\"1070.12\" cy=\"766.846\" r=\"14\" fill=\"#e26f46\" fill-rule=\"evenodd\" fill-opacity=\"1\" stroke=\"#000000\" stroke-opacity=\"1\" stroke-width=\"3.2\"/>\n<polyline clip-path=\"url(#clip092)\" style=\"stroke:#0000ff; stroke-linecap:butt; stroke-linejoin:round; stroke-width:4; stroke-opacity:1; fill:none\" points=\"\n  1070.12,766.846 1070.12,766.846 \n  \"/>\n<polyline clip-path=\"url(#clip092)\" style=\"stroke:#ff0000; stroke-linecap:butt; stroke-linejoin:round; stroke-width:4; stroke-opacity:1; fill:none\" points=\"\n  1070.12,766.846 1070.12,766.846 \n  \"/>\n<path clip-path=\"url(#clip092)\" d=\"\nM822.897 596.81 L147.478 851.864 L1317.34 936.882 L1992.76 681.828  Z\n  \" fill=\"#bb3754\" fill-rule=\"evenodd\" fill-opacity=\"0.5\"/>\n<defs>\n  <clipPath id=\"clip093\">\n    <rect x=\"2160\" y=\"47\" width=\"73\" height=\"1440\"/>\n  </clipPath>\n</defs>\n<g clip-path=\"url(#clip093)\">\n<image width=\"72\" height=\"1439\" xlink:href=\"data:image/png;base64,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\nBYGCQOE/LrLuTX/wFc8AAAAASUVORK5CYII=\n\" transform=\"translate(2161, 47)\"/>\n</g>\n<path clip-path=\"url(#clip090)\" d=\"M2280.7 1468.62 Q2277.09 1468.62 2275.26 1472.18 Q2273.45 1475.72 2273.45 1482.85 Q2273.45 1489.96 2275.26 1493.53 Q2277.09 1497.07 2280.7 1497.07 Q2284.33 1497.07 2286.14 1493.53 Q2287.97 1489.96 2287.97 1482.85 Q2287.97 1475.72 2286.14 1472.18 Q2284.33 1468.62 2280.7 1468.62 M2280.7 1464.91 Q2286.51 1464.91 2289.57 1469.52 Q2292.64 1474.1 2292.64 1482.85 Q2292.64 1491.58 2289.57 1496.19 Q2286.51 1500.77 2280.7 1500.77 Q2274.89 1500.77 2271.81 1496.19 Q2268.76 1491.58 2268.76 1482.85 Q2268.76 1474.1 2271.81 1469.52 Q2274.89 1464.91 2280.7 1464.91 Z\" fill=\"#000000\" fill-rule=\"evenodd\" fill-opacity=\"1\" /><path clip-path=\"url(#clip090)\" d=\"M2280.7 1324.7 Q2277.09 1324.7 2275.26 1328.26 Q2273.45 1331.8 2273.45 1338.93 Q2273.45 1346.04 2275.26 1349.6 Q2277.09 1353.15 2280.7 1353.15 Q2284.33 1353.15 2286.14 1349.6 Q2287.97 1346.04 2287.97 1338.93 Q2287.97 1331.8 2286.14 1328.26 Q2284.33 1324.7 2280.7 1324.7 M2280.7 1320.99 Q2286.51 1320.99 2289.57 1325.6 Q2292.64 1330.18 2292.64 1338.93 Q2292.64 1347.66 2289.57 1352.27 Q2286.51 1356.85 2280.7 1356.85 Q2274.89 1356.85 2271.81 1352.27 Q2268.76 1347.66 2268.76 1338.93 Q2268.76 1330.18 2271.81 1325.6 Q2274.89 1320.99 2280.7 1320.99 Z\" fill=\"#000000\" fill-rule=\"evenodd\" fill-opacity=\"1\" /><path clip-path=\"url(#clip090)\" d=\"M2300.86 1350.3 L2305.75 1350.3 L2305.75 1356.18 L2300.86 1356.18 L2300.86 1350.3 Z\" fill=\"#000000\" fill-rule=\"evenodd\" fill-opacity=\"1\" /><path clip-path=\"url(#clip090)\" d=\"M2316.74 1352.24 L2324.38 1352.24 L2324.38 1325.88 L2316.07 1327.54 L2316.07 1323.29 L2324.33 1321.62 L2329.01 1321.62 L2329.01 1352.24 L2336.65 1352.24 L2336.65 1356.18 L2316.74 1356.18 L2316.74 1352.24 Z\" fill=\"#000000\" fill-rule=\"evenodd\" fill-opacity=\"1\" /><path clip-path=\"url(#clip090)\" d=\"M2280.7 1180.78 Q2277.09 1180.78 2275.26 1184.34 Q2273.45 1187.88 2273.45 1195.01 Q2273.45 1202.12 2275.26 1205.68 Q2277.09 1209.23 2280.7 1209.23 Q2284.33 1209.23 2286.14 1205.68 Q2287.97 1202.12 2287.97 1195.01 Q2287.97 1187.88 2286.14 1184.34 Q2284.33 1180.78 2280.7 1180.78 M2280.7 1177.07 Q2286.51 1177.07 2289.57 1181.68 Q2292.64 1186.26 2292.64 1195.01 Q2292.64 1203.74 2289.57 1208.35 Q2286.51 1212.93 2280.7 1212.93 Q2274.89 1212.93 2271.81 1208.35 Q2268.76 1203.74 2268.76 1195.01 Q2268.76 1186.26 2271.81 1181.68 Q2274.89 1177.07 2280.7 1177.07 Z\" fill=\"#000000\" fill-rule=\"evenodd\" fill-opacity=\"1\" /><path clip-path=\"url(#clip090)\" d=\"M2300.86 1206.38 L2305.75 1206.38 L2305.75 1212.26 L2300.86 1212.26 L2300.86 1206.38 Z\" fill=\"#000000\" fill-rule=\"evenodd\" fill-opacity=\"1\" /><path clip-path=\"url(#clip090)\" d=\"M2319.96 1208.32 L2336.28 1208.32 L2336.28 1212.26 L2314.33 1212.26 L2314.33 1208.32 Q2317 1205.57 2321.58 1200.94 Q2326.19 1196.29 2327.37 1194.94 Q2329.61 1192.42 2330.49 1190.68 Q2331.39 1188.93 2331.39 1187.24 Q2331.39 1184.48 2329.45 1182.74 Q2327.53 1181.01 2324.43 1181.01 Q2322.23 1181.01 2319.77 1181.77 Q2317.34 1182.54 2314.57 1184.09 L2314.57 1179.36 Q2317.39 1178.23 2319.84 1177.65 Q2322.3 1177.07 2324.33 1177.07 Q2329.7 1177.07 2332.9 1179.76 Q2336.09 1182.44 2336.09 1186.93 Q2336.09 1189.06 2335.28 1190.99 Q2334.5 1192.88 2332.39 1195.48 Q2331.81 1196.15 2328.71 1199.36 Q2325.61 1202.56 2319.96 1208.32 Z\" fill=\"#000000\" fill-rule=\"evenodd\" fill-opacity=\"1\" /><path clip-path=\"url(#clip090)\" d=\"M2280.7 1036.86 Q2277.09 1036.86 2275.26 1040.42 Q2273.45 1043.96 2273.45 1051.09 Q2273.45 1058.2 2275.26 1061.76 Q2277.09 1065.31 2280.7 1065.31 Q2284.33 1065.31 2286.14 1061.76 Q2287.97 1058.2 2287.97 1051.09 Q2287.97 1043.96 2286.14 1040.42 Q2284.33 1036.86 2280.7 1036.86 M2280.7 1033.15 Q2286.51 1033.15 2289.57 1037.76 Q2292.64 1042.34 2292.64 1051.09 Q2292.64 1059.82 2289.57 1064.43 Q2286.51 1069.01 2280.7 1069.01 Q2274.89 1069.01 2271.81 1064.43 Q2268.76 1059.82 2268.76 1051.09 Q2268.76 1042.34 2271.81 1037.76 Q2274.89 1033.15 2280.7 1033.15 Z\" fill=\"#000000\" fill-rule=\"evenodd\" fill-opacity=\"1\" /><path clip-path=\"url(#clip090)\" d=\"M2300.86 1062.46 L2305.75 1062.46 L2305.75 1068.34 L2300.86 1068.34 L2300.86 1062.46 Z\" fill=\"#000000\" fill-rule=\"evenodd\" fill-opacity=\"1\" /><path clip-path=\"url(#clip090)\" d=\"M2330.1 1049.7 Q2333.45 1050.42 2335.33 1052.69 Q2337.23 1054.96 2337.23 1058.29 Q2337.23 1063.41 2333.71 1066.21 Q2330.19 1069.01 2323.71 1069.01 Q2321.53 1069.01 2319.22 1068.57 Q2316.93 1068.15 2314.47 1067.3 L2314.47 1062.78 Q2316.42 1063.92 2318.73 1064.5 Q2321.05 1065.07 2323.57 1065.07 Q2327.97 1065.07 2330.26 1063.34 Q2332.58 1061.6 2332.58 1058.29 Q2332.58 1055.24 2330.42 1053.52 Q2328.29 1051.79 2324.47 1051.79 L2320.45 1051.79 L2320.45 1047.94 L2324.66 1047.94 Q2328.11 1047.94 2329.94 1046.58 Q2331.76 1045.19 2331.76 1042.6 Q2331.76 1039.94 2329.87 1038.52 Q2327.99 1037.09 2324.47 1037.09 Q2322.55 1037.09 2320.35 1037.5 Q2318.15 1037.92 2315.51 1038.8 L2315.51 1034.63 Q2318.18 1033.89 2320.49 1033.52 Q2322.83 1033.15 2324.89 1033.15 Q2330.21 1033.15 2333.32 1035.58 Q2336.42 1037.99 2336.42 1042.11 Q2336.42 1044.98 2334.77 1046.97 Q2333.13 1048.94 2330.1 1049.7 Z\" fill=\"#000000\" fill-rule=\"evenodd\" fill-opacity=\"1\" /><path clip-path=\"url(#clip090)\" d=\"M2280.7 892.936 Q2277.09 892.936 2275.26 896.501 Q2273.45 900.043 2273.45 907.172 Q2273.45 914.279 2275.26 917.844 Q2277.09 921.385 2280.7 921.385 Q2284.33 921.385 2286.14 917.844 Q2287.97 914.279 2287.97 907.172 Q2287.97 900.043 2286.14 896.501 Q2284.33 892.936 2280.7 892.936 M2280.7 889.233 Q2286.51 889.233 2289.57 893.839 Q2292.64 898.422 2292.64 907.172 Q2292.64 915.899 2289.57 920.506 Q2286.51 925.089 2280.7 925.089 Q2274.89 925.089 2271.81 920.506 Q2268.76 915.899 2268.76 907.172 Q2268.76 898.422 2271.81 893.839 Q2274.89 889.233 2280.7 889.233 Z\" fill=\"#000000\" fill-rule=\"evenodd\" fill-opacity=\"1\" /><path clip-path=\"url(#clip090)\" d=\"M2300.86 918.538 L2305.75 918.538 L2305.75 924.418 L2300.86 924.418 L2300.86 918.538 Z\" fill=\"#000000\" fill-rule=\"evenodd\" fill-opacity=\"1\" /><path clip-path=\"url(#clip090)\" d=\"M2328.78 893.932 L2316.97 912.381 L2328.78 912.381 L2328.78 893.932 M2327.55 889.858 L2333.43 889.858 L2333.43 912.381 L2338.36 912.381 L2338.36 916.269 L2333.43 916.269 L2333.43 924.418 L2328.78 924.418 L2328.78 916.269 L2313.18 916.269 L2313.18 911.756 L2327.55 889.858 Z\" fill=\"#000000\" fill-rule=\"evenodd\" fill-opacity=\"1\" /><path clip-path=\"url(#clip090)\" d=\"M2280.7 749.016 Q2277.09 749.016 2275.26 752.581 Q2273.45 756.122 2273.45 763.252 Q2273.45 770.358 2275.26 773.923 Q2277.09 777.465 2280.7 777.465 Q2284.33 777.465 2286.14 773.923 Q2287.97 770.358 2287.97 763.252 Q2287.97 756.122 2286.14 752.581 Q2284.33 749.016 2280.7 749.016 M2280.7 745.312 Q2286.51 745.312 2289.57 749.919 Q2292.64 754.502 2292.64 763.252 Q2292.64 771.979 2289.57 776.585 Q2286.51 781.168 2280.7 781.168 Q2274.89 781.168 2271.81 776.585 Q2268.76 771.979 2268.76 763.252 Q2268.76 754.502 2271.81 749.919 Q2274.89 745.312 2280.7 745.312 Z\" fill=\"#000000\" fill-rule=\"evenodd\" fill-opacity=\"1\" /><path clip-path=\"url(#clip090)\" d=\"M2300.86 774.618 L2305.75 774.618 L2305.75 780.497 L2300.86 780.497 L2300.86 774.618 Z\" fill=\"#000000\" fill-rule=\"evenodd\" fill-opacity=\"1\" /><path clip-path=\"url(#clip090)\" d=\"M2315.98 745.937 L2334.33 745.937 L2334.33 749.872 L2320.26 749.872 L2320.26 758.345 Q2321.28 757.997 2322.3 757.835 Q2323.32 757.65 2324.33 757.65 Q2330.12 757.65 2333.5 760.821 Q2336.88 763.993 2336.88 769.409 Q2336.88 774.988 2333.41 778.09 Q2329.94 781.168 2323.62 781.168 Q2321.44 781.168 2319.17 780.798 Q2316.93 780.428 2314.52 779.687 L2314.52 774.988 Q2316.6 776.122 2318.83 776.678 Q2321.05 777.233 2323.52 777.233 Q2327.53 777.233 2329.87 775.127 Q2332.2 773.02 2332.2 769.409 Q2332.2 765.798 2329.87 763.692 Q2327.53 761.585 2323.52 761.585 Q2321.65 761.585 2319.77 762.002 Q2317.92 762.419 2315.98 763.298 L2315.98 745.937 Z\" fill=\"#000000\" fill-rule=\"evenodd\" fill-opacity=\"1\" /><path clip-path=\"url(#clip090)\" d=\"M2280.7 605.095 Q2277.09 605.095 2275.26 608.66 Q2273.45 612.202 2273.45 619.332 Q2273.45 626.438 2275.26 630.003 Q2277.09 633.544 2280.7 633.544 Q2284.33 633.544 2286.14 630.003 Q2287.97 626.438 2287.97 619.332 Q2287.97 612.202 2286.14 608.66 Q2284.33 605.095 2280.7 605.095 M2280.7 601.392 Q2286.51 601.392 2289.57 605.998 Q2292.64 610.582 2292.64 619.332 Q2292.64 628.058 2289.57 632.665 Q2286.51 637.248 2280.7 637.248 Q2274.89 637.248 2271.81 632.665 Q2268.76 628.058 2268.76 619.332 Q2268.76 610.582 2271.81 605.998 Q2274.89 601.392 2280.7 601.392 Z\" fill=\"#000000\" fill-rule=\"evenodd\" fill-opacity=\"1\" /><path clip-path=\"url(#clip090)\" d=\"M2300.86 630.697 L2305.75 630.697 L2305.75 636.577 L2300.86 636.577 L2300.86 630.697 Z\" fill=\"#000000\" fill-rule=\"evenodd\" fill-opacity=\"1\" /><path clip-path=\"url(#clip090)\" d=\"M2326.51 617.433 Q2323.36 617.433 2321.51 619.586 Q2319.68 621.739 2319.68 625.489 Q2319.68 629.216 2321.51 631.392 Q2323.36 633.544 2326.51 633.544 Q2329.66 633.544 2331.49 631.392 Q2333.34 629.216 2333.34 625.489 Q2333.34 621.739 2331.49 619.586 Q2329.66 617.433 2326.51 617.433 M2335.79 602.781 L2335.79 607.04 Q2334.03 606.207 2332.23 605.767 Q2330.45 605.327 2328.69 605.327 Q2324.06 605.327 2321.6 608.452 Q2319.17 611.577 2318.83 617.896 Q2320.19 615.882 2322.25 614.818 Q2324.31 613.73 2326.79 613.73 Q2332 613.73 2335.01 616.901 Q2338.04 620.049 2338.04 625.489 Q2338.04 630.813 2334.89 634.031 Q2331.74 637.248 2326.51 637.248 Q2320.51 637.248 2317.34 632.665 Q2314.17 628.058 2314.17 619.332 Q2314.17 611.137 2318.06 606.276 Q2321.95 601.392 2328.5 601.392 Q2330.26 601.392 2332.04 601.739 Q2333.85 602.086 2335.79 602.781 Z\" fill=\"#000000\" fill-rule=\"evenodd\" fill-opacity=\"1\" /><path clip-path=\"url(#clip090)\" d=\"M2280.7 461.175 Q2277.09 461.175 2275.26 464.74 Q2273.45 468.282 2273.45 475.411 Q2273.45 482.518 2275.26 486.082 Q2277.09 489.624 2280.7 489.624 Q2284.33 489.624 2286.14 486.082 Q2287.97 482.518 2287.97 475.411 Q2287.97 468.282 2286.14 464.74 Q2284.33 461.175 2280.7 461.175 M2280.7 457.471 Q2286.51 457.471 2289.57 462.078 Q2292.64 466.661 2292.64 475.411 Q2292.64 484.138 2289.57 488.744 Q2286.51 493.328 2280.7 493.328 Q2274.89 493.328 2271.81 488.744 Q2268.76 484.138 2268.76 475.411 Q2268.76 466.661 2271.81 462.078 Q2274.89 457.471 2280.7 457.471 Z\" fill=\"#000000\" fill-rule=\"evenodd\" fill-opacity=\"1\" /><path clip-path=\"url(#clip090)\" d=\"M2300.86 486.777 L2305.75 486.777 L2305.75 492.656 L2300.86 492.656 L2300.86 486.777 Z\" fill=\"#000000\" fill-rule=\"evenodd\" fill-opacity=\"1\" /><path clip-path=\"url(#clip090)\" d=\"M2314.75 458.096 L2336.97 458.096 L2336.97 460.087 L2324.43 492.656 L2319.54 492.656 L2331.35 462.032 L2314.75 462.032 L2314.75 458.096 Z\" fill=\"#000000\" fill-rule=\"evenodd\" fill-opacity=\"1\" /><path clip-path=\"url(#clip090)\" d=\"M2280.7 317.255 Q2277.09 317.255 2275.26 320.82 Q2273.45 324.361 2273.45 331.491 Q2273.45 338.597 2275.26 342.162 Q2277.09 345.704 2280.7 345.704 Q2284.33 345.704 2286.14 342.162 Q2287.97 338.597 2287.97 331.491 Q2287.97 324.361 2286.14 320.82 Q2284.33 317.255 2280.7 317.255 M2280.7 313.551 Q2286.51 313.551 2289.57 318.158 Q2292.64 322.741 2292.64 331.491 Q2292.64 340.218 2289.57 344.824 Q2286.51 349.407 2280.7 349.407 Q2274.89 349.407 2271.81 344.824 Q2268.76 340.218 2268.76 331.491 Q2268.76 322.741 2271.81 318.158 Q2274.89 313.551 2280.7 313.551 Z\" fill=\"#000000\" fill-rule=\"evenodd\" fill-opacity=\"1\" /><path clip-path=\"url(#clip090)\" d=\"M2300.86 342.856 L2305.75 342.856 L2305.75 348.736 L2300.86 348.736 L2300.86 342.856 Z\" fill=\"#000000\" fill-rule=\"evenodd\" fill-opacity=\"1\" /><path clip-path=\"url(#clip090)\" d=\"M2325.93 332.324 Q2322.6 332.324 2320.68 334.106 Q2318.78 335.889 2318.78 339.014 Q2318.78 342.139 2320.68 343.921 Q2322.6 345.704 2325.93 345.704 Q2329.26 345.704 2331.19 343.921 Q2333.11 342.116 2333.11 339.014 Q2333.11 335.889 2331.19 334.106 Q2329.29 332.324 2325.93 332.324 M2321.26 330.333 Q2318.25 329.593 2316.56 327.532 Q2314.89 325.472 2314.89 322.509 Q2314.89 318.366 2317.83 315.958 Q2320.79 313.551 2325.93 313.551 Q2331.09 313.551 2334.03 315.958 Q2336.97 318.366 2336.97 322.509 Q2336.97 325.472 2335.28 327.532 Q2333.62 329.593 2330.63 330.333 Q2334.01 331.12 2335.89 333.412 Q2337.78 335.704 2337.78 339.014 Q2337.78 344.037 2334.7 346.722 Q2331.65 349.407 2325.93 349.407 Q2320.21 349.407 2317.14 346.722 Q2314.08 344.037 2314.08 339.014 Q2314.08 335.704 2315.98 333.412 Q2317.88 331.12 2321.26 330.333 M2319.54 322.949 Q2319.54 325.634 2321.21 327.139 Q2322.9 328.644 2325.93 328.644 Q2328.94 328.644 2330.63 327.139 Q2332.34 325.634 2332.34 322.949 Q2332.34 320.264 2330.63 318.759 Q2328.94 317.255 2325.93 317.255 Q2322.9 317.255 2321.21 318.759 Q2319.54 320.264 2319.54 322.949 Z\" fill=\"#000000\" fill-rule=\"evenodd\" fill-opacity=\"1\" /><path clip-path=\"url(#clip090)\" d=\"M2280.7 173.334 Q2277.09 173.334 2275.26 176.899 Q2273.45 180.441 2273.45 187.57 Q2273.45 194.677 2275.26 198.242 Q2277.09 201.783 2280.7 201.783 Q2284.33 201.783 2286.14 198.242 Q2287.97 194.677 2287.97 187.57 Q2287.97 180.441 2286.14 176.899 Q2284.33 173.334 2280.7 173.334 M2280.7 169.631 Q2286.51 169.631 2289.57 174.237 Q2292.64 178.82 2292.64 187.57 Q2292.64 196.297 2289.57 200.904 Q2286.51 205.487 2280.7 205.487 Q2274.89 205.487 2271.81 200.904 Q2268.76 196.297 2268.76 187.57 Q2268.76 178.82 2271.81 174.237 Q2274.89 169.631 2280.7 169.631 Z\" fill=\"#000000\" fill-rule=\"evenodd\" fill-opacity=\"1\" /><path clip-path=\"url(#clip090)\" d=\"M2300.86 198.936 L2305.75 198.936 L2305.75 204.816 L2300.86 204.816 L2300.86 198.936 Z\" fill=\"#000000\" fill-rule=\"evenodd\" fill-opacity=\"1\" /><path clip-path=\"url(#clip090)\" d=\"M2316.07 204.098 L2316.07 199.839 Q2317.83 200.672 2319.64 201.112 Q2321.44 201.552 2323.18 201.552 Q2327.81 201.552 2330.24 198.45 Q2332.69 195.325 2333.04 188.982 Q2331.7 190.973 2329.64 192.038 Q2327.58 193.103 2325.08 193.103 Q2319.89 193.103 2316.86 189.978 Q2313.85 186.83 2313.85 181.39 Q2313.85 176.066 2317 172.848 Q2320.14 169.631 2325.38 169.631 Q2331.37 169.631 2334.52 174.237 Q2337.69 178.82 2337.69 187.57 Q2337.69 195.742 2333.8 200.626 Q2329.94 205.487 2323.39 205.487 Q2321.63 205.487 2319.82 205.14 Q2318.01 204.793 2316.07 204.098 M2325.38 189.445 Q2328.52 189.445 2330.35 187.293 Q2332.2 185.14 2332.2 181.39 Q2332.2 177.663 2330.35 175.51 Q2328.52 173.334 2325.38 173.334 Q2322.23 173.334 2320.38 175.51 Q2318.55 177.663 2318.55 181.39 Q2318.55 185.14 2320.38 187.293 Q2322.23 189.445 2325.38 189.445 Z\" fill=\"#000000\" fill-rule=\"evenodd\" fill-opacity=\"1\" /><path clip-path=\"url(#clip090)\" d=\"M2269.43 56.9601 L2277.07 56.9601 L2277.07 30.5945 L2268.76 32.2612 L2268.76 28.002 L2277.02 26.3353 L2281.7 26.3353 L2281.7 56.9601 L2289.33 56.9601 L2289.33 60.8953 L2269.43 60.8953 L2269.43 56.9601 Z\" fill=\"#000000\" fill-rule=\"evenodd\" fill-opacity=\"1\" /><path clip-path=\"url(#clip090)\" d=\"M2298.78 55.0157 L2303.66 55.0157 L2303.66 60.8953 L2298.78 60.8953 L2298.78 55.0157 Z\" fill=\"#000000\" fill-rule=\"evenodd\" fill-opacity=\"1\" /><path clip-path=\"url(#clip090)\" d=\"M2323.85 29.414 Q2320.24 29.414 2318.41 32.9788 Q2316.6 36.5204 2316.6 43.65 Q2316.6 50.7565 2318.41 54.3213 Q2320.24 57.8629 2323.85 57.8629 Q2327.48 57.8629 2329.29 54.3213 Q2331.12 50.7565 2331.12 43.65 Q2331.12 36.5204 2329.29 32.9788 Q2327.48 29.414 2323.85 29.414 M2323.85 25.7103 Q2329.66 25.7103 2332.71 30.3168 Q2335.79 34.9001 2335.79 43.65 Q2335.79 52.3768 2332.71 56.9833 Q2329.66 61.5666 2323.85 61.5666 Q2318.04 61.5666 2314.96 56.9833 Q2311.9 52.3768 2311.9 43.65 Q2311.9 34.9001 2314.96 30.3168 Q2318.04 25.7103 2323.85 25.7103 Z\" fill=\"#000000\" fill-rule=\"evenodd\" fill-opacity=\"1\" /><polyline clip-path=\"url(#clip090)\" style=\"stroke:#000000; stroke-linecap:butt; stroke-linejoin:round; stroke-width:4; stroke-opacity:1; fill:none\" points=\"\n  2232.76,1486.45 2232.76,1486.45 2256.76,1486.45 2232.76,1486.45 2232.76,1342.53 2256.76,1342.53 2232.76,1342.53 2232.76,1198.61 2256.76,1198.61 2232.76,1198.61 \n  2232.76,1054.69 2256.76,1054.69 2232.76,1054.69 2232.76,910.766 2256.76,910.766 2232.76,910.766 2232.76,766.846 2256.76,766.846 2232.76,766.846 2232.76,622.926 \n  2256.76,622.926 2232.76,622.926 2232.76,479.005 2256.76,479.005 2232.76,479.005 2232.76,335.085 2256.76,335.085 2232.76,335.085 2232.76,191.164 2256.76,191.164 \n  2232.76,191.164 2232.76,47.2441 2256.76,47.2441 2232.76,47.2441 \n  \"/>\n<path clip-path=\"url(#clip090)\" d=\"\nM208.987 1438.47 L439.249 1438.47 L439.249 1282.95 L208.987 1282.95  Z\n  \" fill=\"#ffffff\" fill-rule=\"evenodd\" fill-opacity=\"1\"/>\n<polyline clip-path=\"url(#clip090)\" style=\"stroke:#000000; stroke-linecap:butt; stroke-linejoin:round; stroke-width:4; stroke-opacity:1; fill:none\" points=\"\n  208.987,1438.47 439.249,1438.47 439.249,1282.95 208.987,1282.95 208.987,1438.47 \n  \"/>\n<circle clip-path=\"url(#clip090)\" cx=\"291\" cy=\"1334.79\" r=\"23\" fill=\"#009af9\" fill-rule=\"evenodd\" fill-opacity=\"1\" stroke=\"#000000\" stroke-opacity=\"1\" stroke-width=\"5.12\"/>\n<path clip-path=\"url(#clip090)\" d=\"M397.665 1326.15 L388.29 1338.76 L398.151 1352.07 L393.128 1352.07 L385.581 1341.89 L378.035 1352.07 L373.012 1352.07 L383.081 1338.51 L373.868 1326.15 L378.891 1326.15 L385.766 1335.38 L392.641 1326.15 L397.665 1326.15 Z\" fill=\"#000000\" fill-rule=\"evenodd\" fill-opacity=\"1\" /><circle clip-path=\"url(#clip090)\" cx=\"291\" cy=\"1386.63\" r=\"23\" fill=\"#e26f46\" fill-rule=\"evenodd\" fill-opacity=\"1\" stroke=\"#000000\" stroke-opacity=\"1\" stroke-width=\"5.12\"/>\n<path clip-path=\"url(#clip090)\" d=\"M386.854 1406.32 Q385.049 1410.95 383.336 1412.36 Q381.623 1413.78 378.753 1413.78 L375.35 1413.78 L375.35 1410.21 L377.85 1410.21 Q379.609 1410.21 380.581 1409.38 Q381.554 1408.54 382.734 1405.44 L383.498 1403.5 L373.012 1377.99 L377.526 1377.99 L385.628 1398.27 L393.729 1377.99 L398.243 1377.99 L386.854 1406.32 Z\" fill=\"#000000\" fill-rule=\"evenodd\" fill-opacity=\"1\" /></svg>\n"
               },
               "type": "node"
              }
             ],
             "instanceArgs": {
              "namespace": "html",
              "tag": "div"
             },
             "nodeType": "DOM",
             "props": {
              "className": "interact-flex-row interact-widget"
             },
             "type": "node"
            }
           }
          },
          "systemjs_options": null
         },
         "nodeType": "Scope",
         "props": {},
         "type": "node"
        }
       ],
       "instanceArgs": {
        "namespace": "html",
        "tag": "div"
       },
       "nodeType": "DOM",
       "props": {},
       "type": "node"
      },
      "text/html": [
       "<div\n",
       "    class=\"webio-mountpoint\"\n",
       "    data-webio-mountpoint=\"10027172808914739583\"\n",
       ">\n",
       "    <script>\n",
       "    (function(){\n",
       "    // Some integrations (namely, IJulia/Jupyter) use an alternate render pathway than\n",
       "    // just putting the html on the page. If WebIO isn't defined, then it's pretty likely\n",
       "    // that we're in one of those situations and the integration just isn't installed\n",
       "    // correctly.\n",
       "    if (typeof window.WebIO === \"undefined\") {\n",
       "        document\n",
       "            .querySelector('[data-webio-mountpoint=\"10027172808914739583\"]')\n",
       "            .innerHTML = (\n",
       "                '<div style=\"padding: 1em; background-color: #f8d6da; border: 1px solid #f5c6cb; font-weight: bold;\">' +\n",
       "                '<p><strong>WebIO not detected.</strong></p>' +\n",
       "                '<p>Please read ' +\n",
       "                '<a href=\"https://juliagizmos.github.io/WebIO.jl/latest/troubleshooting/not-detected/\" target=\"_blank\">the troubleshooting guide</a> ' +\n",
       "                'for more information on how to resolve this issue.</p>' +\n",
       "                '<p><a href=\"https://juliagizmos.github.io/WebIO.jl/latest/troubleshooting/not-detected/\" target=\"_blank\">https://juliagizmos.github.io/WebIO.jl/latest/troubleshooting/not-detected/</a></p>' +\n",
       "                '</div>'\n",
       "            );\n",
       "        return;\n",
       "    }\n",
       "    WebIO.mount(\n",
       "        document.querySelector('[data-webio-mountpoint=\"10027172808914739583\"]'),\n",
       "        {\"props\":{},\"nodeType\":\"DOM\",\"type\":\"node\",\"instanceArgs\":{\"namespace\":\"html\",\"tag\":\"div\"},\"children\":[{\"props\":{\"className\":\"field interact-widget\"},\"nodeType\":\"DOM\",\"type\":\"node\",\"instanceArgs\":{\"namespace\":\"html\",\"tag\":\"div\"},\"children\":[{\"props\":{},\"nodeType\":\"Scope\",\"type\":\"node\",\"instanceArgs\":{\"imports\":{\"data\":[{\"name\":\"knockout\",\"type\":\"js\",\"url\":\"\\/assetserver\\/fb6ca08aae97daeb80aa99104c4eddfe76bc6766-knockout.js\"},{\"name\":\"knockout_punches\",\"type\":\"js\",\"url\":\"\\/assetserver\\/1759964e1dbcc22fe1a19531f6579c45d2da7d3e-knockout_punches.js\"},{\"name\":null,\"type\":\"js\",\"url\":\"\\/assetserver\\/789869448aff3abaf20e8ce1df06db26f65f635b-all.js\"},{\"name\":null,\"type\":\"css\",\"url\":\"\\/assetserver\\/798d51a5869c99606bb76f940b7af91e76cb0487-style.css\"},{\"name\":null,\"type\":\"css\",\"url\":\"\\/assetserver\\/e2a2c92c154e10beb71b03c08b29cc3ad8175428-bulma_confined.min.css\"}],\"type\":\"async_block\"},\"id\":\"10960401125933627339\",\"handlers\":{\"changes\":[\"(function (val){return (val!=this.model[\\\"changes\\\"]()) ? (this.valueFromJulia[\\\"changes\\\"]=true, this.model[\\\"changes\\\"](val)) : undefined})\"],\"index\":[\"(function (val){return (val!=this.model[\\\"index\\\"]()) ? (this.valueFromJulia[\\\"index\\\"]=true, this.model[\\\"index\\\"](val)) : undefined})\"]},\"systemjs_options\":null,\"mount_callbacks\":[\"function () {\\n    var handler = (function (ko, koPunches) {\\n    ko.punches.enableAll();\\n    ko.bindingHandlers.numericValue = {\\n        init: function(element, valueAccessor, allBindings, data, context) {\\n            var stringified = ko.observable(ko.unwrap(valueAccessor()));\\n            stringified.subscribe(function(value) {\\n                var val = parseFloat(value);\\n                if (!isNaN(val)) {\\n                    valueAccessor()(val);\\n                }\\n            });\\n            valueAccessor().subscribe(function(value) {\\n                var str = JSON.stringify(value);\\n                if ((str == \\\"0\\\") && ([\\\"-0\\\", \\\"-0.\\\"].indexOf(stringified()) >= 0))\\n                     return;\\n                 if ([\\\"null\\\", \\\"\\\"].indexOf(str) >= 0)\\n                     return;\\n                stringified(str);\\n            });\\n            ko.applyBindingsToNode(\\n                element,\\n                {\\n                    value: stringified,\\n                    valueUpdate: allBindings.get('valueUpdate'),\\n                },\\n                context,\\n            );\\n        }\\n    };\\n    var json_data = {\\\"formatted_vals\\\":[\\\"-1.9\\\",\\\"-1.8\\\",\\\"-1.7\\\",\\\"-1.6\\\",\\\"-1.5\\\",\\\"-1.4\\\",\\\"-1.3\\\",\\\"-1.2\\\",\\\"-1.1\\\",\\\"-1.0\\\",\\\"-0.9\\\",\\\"-0.8\\\",\\\"-0.7\\\",\\\"-0.6\\\",\\\"-0.5\\\",\\\"-0.4\\\",\\\"-0.3\\\",\\\"-0.2\\\",\\\"-0.1\\\",\\\"0.0\\\",\\\"0.1\\\",\\\"0.2\\\",\\\"0.3\\\",\\\"0.4\\\",\\\"0.5\\\",\\\"0.6\\\",\\\"0.7\\\",\\\"0.8\\\",\\\"0.9\\\",\\\"1.0\\\",\\\"1.1\\\",\\\"1.2\\\",\\\"1.3\\\",\\\"1.4\\\",\\\"1.5\\\",\\\"1.6\\\",\\\"1.7\\\",\\\"1.8\\\",\\\"1.9\\\",\\\"2.0\\\"],\\\"changes\\\":WebIO.getval({\\\"name\\\":\\\"changes\\\",\\\"scope\\\":\\\"10960401125933627339\\\",\\\"id\\\":\\\"1944844972814111457\\\",\\\"type\\\":\\\"observable\\\"}),\\\"index\\\":WebIO.getval({\\\"name\\\":\\\"index\\\",\\\"scope\\\":\\\"10960401125933627339\\\",\\\"id\\\":\\\"12221569426109409221\\\",\\\"type\\\":\\\"observable\\\"})};\\n    var self = this;\\n    function AppViewModel() {\\n        for (var key in json_data) {\\n            var el = json_data[key];\\n            this[key] = Array.isArray(el) ? ko.observableArray(el) : ko.observable(el);\\n        }\\n        \\n        [this[\\\"formatted_val\\\"]=ko.computed(    function(){\\n        return this.formatted_vals()[parseInt(this.index())-(1)];\\n    }\\n,this)]\\n        [this[\\\"changes\\\"].subscribe((function (val){!(this.valueFromJulia[\\\"changes\\\"]) ? (WebIO.setval({\\\"name\\\":\\\"changes\\\",\\\"scope\\\":\\\"10960401125933627339\\\",\\\"id\\\":\\\"1944844972814111457\\\",\\\"type\\\":\\\"observable\\\"},val)) : undefined; return this.valueFromJulia[\\\"changes\\\"]=false}),self),this[\\\"index\\\"].subscribe((function (val){!(this.valueFromJulia[\\\"index\\\"]) ? (WebIO.setval({\\\"name\\\":\\\"index\\\",\\\"scope\\\":\\\"10960401125933627339\\\",\\\"id\\\":\\\"12221569426109409221\\\",\\\"type\\\":\\\"observable\\\"},val)) : undefined; return this.valueFromJulia[\\\"index\\\"]=false}),self)]\\n        \\n    }\\n    self.model = new AppViewModel();\\n    self.valueFromJulia = {};\\n    for (var key in json_data) {\\n        self.valueFromJulia[key] = false;\\n    }\\n    ko.applyBindings(self.model, self.dom);\\n}\\n);\\n    (WebIO.importBlock({\\\"data\\\":[{\\\"name\\\":\\\"knockout\\\",\\\"type\\\":\\\"js\\\",\\\"url\\\":\\\"\\/assetserver\\/fb6ca08aae97daeb80aa99104c4eddfe76bc6766-knockout.js\\\"},{\\\"name\\\":\\\"knockout_punches\\\",\\\"type\\\":\\\"js\\\",\\\"url\\\":\\\"\\/assetserver\\/1759964e1dbcc22fe1a19531f6579c45d2da7d3e-knockout_punches.js\\\"}],\\\"type\\\":\\\"async_block\\\"})).then((imports) => handler.apply(this, imports));\\n}\\n\"],\"observables\":{\"changes\":{\"sync\":false,\"id\":\"1944844972814111457\",\"value\":0},\"index\":{\"sync\":true,\"id\":\"12221569426109409221\",\"value\":20}}},\"children\":[{\"props\":{\"className\":\"interact-flex-row interact-widget\"},\"nodeType\":\"DOM\",\"type\":\"node\",\"instanceArgs\":{\"namespace\":\"html\",\"tag\":\"div\"},\"children\":[{\"props\":{\"className\":\"interact-flex-row-left\"},\"nodeType\":\"DOM\",\"type\":\"node\",\"instanceArgs\":{\"namespace\":\"html\",\"tag\":\"div\"},\"children\":[{\"props\":{\"className\":\"interact \",\"style\":{\"padding\":\"5px 10px 0px 10px\"}},\"nodeType\":\"DOM\",\"type\":\"node\",\"instanceArgs\":{\"namespace\":\"html\",\"tag\":\"label\"},\"children\":[\"x\"]}]},{\"props\":{\"className\":\"interact-flex-row-center\"},\"nodeType\":\"DOM\",\"type\":\"node\",\"instanceArgs\":{\"namespace\":\"html\",\"tag\":\"div\"},\"children\":[{\"props\":{\"max\":40,\"min\":1,\"attributes\":{\"type\":\"range\",\"data-bind\":\"numericValue: index, valueUpdate: 'input', event: {change: function (){this.changes(this.changes()+1)}}\",\"orient\":\"horizontal\"},\"step\":1,\"className\":\"slider slider is-fullwidth\",\"style\":{}},\"nodeType\":\"DOM\",\"type\":\"node\",\"instanceArgs\":{\"namespace\":\"html\",\"tag\":\"input\"},\"children\":[]}]},{\"props\":{\"className\":\"interact-flex-row-right\"},\"nodeType\":\"DOM\",\"type\":\"node\",\"instanceArgs\":{\"namespace\":\"html\",\"tag\":\"div\"},\"children\":[{\"props\":{\"attributes\":{\"data-bind\":\"text: formatted_val\"}},\"nodeType\":\"DOM\",\"type\":\"node\",\"instanceArgs\":{\"namespace\":\"html\",\"tag\":\"p\"},\"children\":[]}]}]}]}]},{\"props\":{\"className\":\"field interact-widget\"},\"nodeType\":\"DOM\",\"type\":\"node\",\"instanceArgs\":{\"namespace\":\"html\",\"tag\":\"div\"},\"children\":[{\"props\":{},\"nodeType\":\"Scope\",\"type\":\"node\",\"instanceArgs\":{\"imports\":{\"data\":[{\"name\":\"knockout\",\"type\":\"js\",\"url\":\"\\/assetserver\\/fb6ca08aae97daeb80aa99104c4eddfe76bc6766-knockout.js\"},{\"name\":\"knockout_punches\",\"type\":\"js\",\"url\":\"\\/assetserver\\/1759964e1dbcc22fe1a19531f6579c45d2da7d3e-knockout_punches.js\"},{\"name\":null,\"type\":\"js\",\"url\":\"\\/assetserver\\/789869448aff3abaf20e8ce1df06db26f65f635b-all.js\"},{\"name\":null,\"type\":\"css\",\"url\":\"\\/assetserver\\/798d51a5869c99606bb76f940b7af91e76cb0487-style.css\"},{\"name\":null,\"type\":\"css\",\"url\":\"\\/assetserver\\/e2a2c92c154e10beb71b03c08b29cc3ad8175428-bulma_confined.min.css\"}],\"type\":\"async_block\"},\"id\":\"8872045198623905502\",\"handlers\":{\"changes\":[\"(function (val){return (val!=this.model[\\\"changes\\\"]()) ? (this.valueFromJulia[\\\"changes\\\"]=true, this.model[\\\"changes\\\"](val)) : undefined})\"],\"index\":[\"(function (val){return (val!=this.model[\\\"index\\\"]()) ? (this.valueFromJulia[\\\"index\\\"]=true, this.model[\\\"index\\\"](val)) : undefined})\"]},\"systemjs_options\":null,\"mount_callbacks\":[\"function () {\\n    var handler = (function (ko, koPunches) {\\n    ko.punches.enableAll();\\n    ko.bindingHandlers.numericValue = {\\n        init: function(element, valueAccessor, allBindings, data, context) {\\n            var stringified = ko.observable(ko.unwrap(valueAccessor()));\\n            stringified.subscribe(function(value) {\\n                var val = parseFloat(value);\\n                if (!isNaN(val)) {\\n                    valueAccessor()(val);\\n                }\\n            });\\n            valueAccessor().subscribe(function(value) {\\n                var str = JSON.stringify(value);\\n                if ((str == \\\"0\\\") && ([\\\"-0\\\", \\\"-0.\\\"].indexOf(stringified()) >= 0))\\n                     return;\\n                 if ([\\\"null\\\", \\\"\\\"].indexOf(str) >= 0)\\n                     return;\\n                stringified(str);\\n            });\\n            ko.applyBindingsToNode(\\n                element,\\n                {\\n                    value: stringified,\\n                    valueUpdate: allBindings.get('valueUpdate'),\\n                },\\n                context,\\n            );\\n        }\\n    };\\n    var json_data = {\\\"formatted_vals\\\":[\\\"-1.9\\\",\\\"-1.8\\\",\\\"-1.7\\\",\\\"-1.6\\\",\\\"-1.5\\\",\\\"-1.4\\\",\\\"-1.3\\\",\\\"-1.2\\\",\\\"-1.1\\\",\\\"-1.0\\\",\\\"-0.9\\\",\\\"-0.8\\\",\\\"-0.7\\\",\\\"-0.6\\\",\\\"-0.5\\\",\\\"-0.4\\\",\\\"-0.3\\\",\\\"-0.2\\\",\\\"-0.1\\\",\\\"0.0\\\",\\\"0.1\\\",\\\"0.2\\\",\\\"0.3\\\",\\\"0.4\\\",\\\"0.5\\\",\\\"0.6\\\",\\\"0.7\\\",\\\"0.8\\\",\\\"0.9\\\",\\\"1.0\\\",\\\"1.1\\\",\\\"1.2\\\",\\\"1.3\\\",\\\"1.4\\\",\\\"1.5\\\",\\\"1.6\\\",\\\"1.7\\\",\\\"1.8\\\",\\\"1.9\\\",\\\"2.0\\\"],\\\"changes\\\":WebIO.getval({\\\"name\\\":\\\"changes\\\",\\\"scope\\\":\\\"8872045198623905502\\\",\\\"id\\\":\\\"3144036643842626078\\\",\\\"type\\\":\\\"observable\\\"}),\\\"index\\\":WebIO.getval({\\\"name\\\":\\\"index\\\",\\\"scope\\\":\\\"8872045198623905502\\\",\\\"id\\\":\\\"9857793897598890138\\\",\\\"type\\\":\\\"observable\\\"})};\\n    var self = this;\\n    function AppViewModel() {\\n        for (var key in json_data) {\\n            var el = json_data[key];\\n            this[key] = Array.isArray(el) ? ko.observableArray(el) : ko.observable(el);\\n        }\\n        \\n        [this[\\\"formatted_val\\\"]=ko.computed(    function(){\\n        return this.formatted_vals()[parseInt(this.index())-(1)];\\n    }\\n,this)]\\n        [this[\\\"changes\\\"].subscribe((function (val){!(this.valueFromJulia[\\\"changes\\\"]) ? (WebIO.setval({\\\"name\\\":\\\"changes\\\",\\\"scope\\\":\\\"8872045198623905502\\\",\\\"id\\\":\\\"3144036643842626078\\\",\\\"type\\\":\\\"observable\\\"},val)) : undefined; return this.valueFromJulia[\\\"changes\\\"]=false}),self),this[\\\"index\\\"].subscribe((function (val){!(this.valueFromJulia[\\\"index\\\"]) ? (WebIO.setval({\\\"name\\\":\\\"index\\\",\\\"scope\\\":\\\"8872045198623905502\\\",\\\"id\\\":\\\"9857793897598890138\\\",\\\"type\\\":\\\"observable\\\"},val)) : undefined; return this.valueFromJulia[\\\"index\\\"]=false}),self)]\\n        \\n    }\\n    self.model = new AppViewModel();\\n    self.valueFromJulia = {};\\n    for (var key in json_data) {\\n        self.valueFromJulia[key] = false;\\n    }\\n    ko.applyBindings(self.model, self.dom);\\n}\\n);\\n    (WebIO.importBlock({\\\"data\\\":[{\\\"name\\\":\\\"knockout\\\",\\\"type\\\":\\\"js\\\",\\\"url\\\":\\\"\\/assetserver\\/fb6ca08aae97daeb80aa99104c4eddfe76bc6766-knockout.js\\\"},{\\\"name\\\":\\\"knockout_punches\\\",\\\"type\\\":\\\"js\\\",\\\"url\\\":\\\"\\/assetserver\\/1759964e1dbcc22fe1a19531f6579c45d2da7d3e-knockout_punches.js\\\"}],\\\"type\\\":\\\"async_block\\\"})).then((imports) => handler.apply(this, imports));\\n}\\n\"],\"observables\":{\"changes\":{\"sync\":false,\"id\":\"3144036643842626078\",\"value\":0},\"index\":{\"sync\":true,\"id\":\"9857793897598890138\",\"value\":20}}},\"children\":[{\"props\":{\"className\":\"interact-flex-row interact-widget\"},\"nodeType\":\"DOM\",\"type\":\"node\",\"instanceArgs\":{\"namespace\":\"html\",\"tag\":\"div\"},\"children\":[{\"props\":{\"className\":\"interact-flex-row-left\"},\"nodeType\":\"DOM\",\"type\":\"node\",\"instanceArgs\":{\"namespace\":\"html\",\"tag\":\"div\"},\"children\":[{\"props\":{\"className\":\"interact \",\"style\":{\"padding\":\"5px 10px 0px 10px\"}},\"nodeType\":\"DOM\",\"type\":\"node\",\"instanceArgs\":{\"namespace\":\"html\",\"tag\":\"label\"},\"children\":[\"y\"]}]},{\"props\":{\"className\":\"interact-flex-row-center\"},\"nodeType\":\"DOM\",\"type\":\"node\",\"instanceArgs\":{\"namespace\":\"html\",\"tag\":\"div\"},\"children\":[{\"props\":{\"max\":40,\"min\":1,\"attributes\":{\"type\":\"range\",\"data-bind\":\"numericValue: index, valueUpdate: 'input', event: {change: function (){this.changes(this.changes()+1)}}\",\"orient\":\"horizontal\"},\"step\":1,\"className\":\"slider slider is-fullwidth\",\"style\":{}},\"nodeType\":\"DOM\",\"type\":\"node\",\"instanceArgs\":{\"namespace\":\"html\",\"tag\":\"input\"},\"children\":[]}]},{\"props\":{\"className\":\"interact-flex-row-right\"},\"nodeType\":\"DOM\",\"type\":\"node\",\"instanceArgs\":{\"namespace\":\"html\",\"tag\":\"div\"},\"children\":[{\"props\":{\"attributes\":{\"data-bind\":\"text: formatted_val\"}},\"nodeType\":\"DOM\",\"type\":\"node\",\"instanceArgs\":{\"namespace\":\"html\",\"tag\":\"p\"},\"children\":[]}]}]}]}]},{\"props\":{\"className\":\"field interact-widget\"},\"nodeType\":\"DOM\",\"type\":\"node\",\"instanceArgs\":{\"namespace\":\"html\",\"tag\":\"div\"},\"children\":[{\"props\":{},\"nodeType\":\"Scope\",\"type\":\"node\",\"instanceArgs\":{\"imports\":{\"data\":[{\"name\":\"knockout\",\"type\":\"js\",\"url\":\"\\/assetserver\\/fb6ca08aae97daeb80aa99104c4eddfe76bc6766-knockout.js\"},{\"name\":\"knockout_punches\",\"type\":\"js\",\"url\":\"\\/assetserver\\/1759964e1dbcc22fe1a19531f6579c45d2da7d3e-knockout_punches.js\"},{\"name\":null,\"type\":\"js\",\"url\":\"\\/assetserver\\/789869448aff3abaf20e8ce1df06db26f65f635b-all.js\"},{\"name\":null,\"type\":\"css\",\"url\":\"\\/assetserver\\/798d51a5869c99606bb76f940b7af91e76cb0487-style.css\"},{\"name\":null,\"type\":\"css\",\"url\":\"\\/assetserver\\/e2a2c92c154e10beb71b03c08b29cc3ad8175428-bulma_confined.min.css\"}],\"type\":\"async_block\"},\"id\":\"10955116185814510155\",\"handlers\":{\"changes\":[\"(function (val){return (val!=this.model[\\\"changes\\\"]()) ? (this.valueFromJulia[\\\"changes\\\"]=true, this.model[\\\"changes\\\"](val)) : undefined})\"],\"index\":[\"(function (val){return (val!=this.model[\\\"index\\\"]()) ? (this.valueFromJulia[\\\"index\\\"]=true, this.model[\\\"index\\\"](val)) : undefined})\"]},\"systemjs_options\":null,\"mount_callbacks\":[\"function () {\\n    var handler = (function (ko, koPunches) {\\n    ko.punches.enableAll();\\n    ko.bindingHandlers.numericValue = {\\n        init: function(element, valueAccessor, allBindings, data, context) {\\n            var stringified = ko.observable(ko.unwrap(valueAccessor()));\\n            stringified.subscribe(function(value) {\\n                var val = parseFloat(value);\\n                if (!isNaN(val)) {\\n                    valueAccessor()(val);\\n                }\\n            });\\n            valueAccessor().subscribe(function(value) {\\n                var str = JSON.stringify(value);\\n                if ((str == \\\"0\\\") && ([\\\"-0\\\", \\\"-0.\\\"].indexOf(stringified()) >= 0))\\n                     return;\\n                 if ([\\\"null\\\", \\\"\\\"].indexOf(str) >= 0)\\n                     return;\\n                stringified(str);\\n            });\\n            ko.applyBindingsToNode(\\n                element,\\n                {\\n                    value: stringified,\\n                    valueUpdate: allBindings.get('valueUpdate'),\\n                },\\n                context,\\n            );\\n        }\\n    };\\n    var json_data = {\\\"formatted_vals\\\":[\\\"-1.9\\\",\\\"-1.8\\\",\\\"-1.7\\\",\\\"-1.6\\\",\\\"-1.5\\\",\\\"-1.4\\\",\\\"-1.3\\\",\\\"-1.2\\\",\\\"-1.1\\\",\\\"-1.0\\\",\\\"-0.9\\\",\\\"-0.8\\\",\\\"-0.7\\\",\\\"-0.6\\\",\\\"-0.5\\\",\\\"-0.4\\\",\\\"-0.3\\\",\\\"-0.2\\\",\\\"-0.1\\\",\\\"0.0\\\",\\\"0.1\\\",\\\"0.2\\\",\\\"0.3\\\",\\\"0.4\\\",\\\"0.5\\\",\\\"0.6\\\",\\\"0.7\\\",\\\"0.8\\\",\\\"0.9\\\",\\\"1.0\\\",\\\"1.1\\\",\\\"1.2\\\",\\\"1.3\\\",\\\"1.4\\\",\\\"1.5\\\",\\\"1.6\\\",\\\"1.7\\\",\\\"1.8\\\",\\\"1.9\\\",\\\"2.0\\\"],\\\"changes\\\":WebIO.getval({\\\"name\\\":\\\"changes\\\",\\\"scope\\\":\\\"10955116185814510155\\\",\\\"id\\\":\\\"14328492106173526680\\\",\\\"type\\\":\\\"observable\\\"}),\\\"index\\\":WebIO.getval({\\\"name\\\":\\\"index\\\",\\\"scope\\\":\\\"10955116185814510155\\\",\\\"id\\\":\\\"3433830203541098064\\\",\\\"type\\\":\\\"observable\\\"})};\\n    var self = this;\\n    function AppViewModel() {\\n        for (var key in json_data) {\\n            var el = json_data[key];\\n            this[key] = Array.isArray(el) ? ko.observableArray(el) : ko.observable(el);\\n        }\\n        \\n        [this[\\\"formatted_val\\\"]=ko.computed(    function(){\\n        return this.formatted_vals()[parseInt(this.index())-(1)];\\n    }\\n,this)]\\n        [this[\\\"changes\\\"].subscribe((function (val){!(this.valueFromJulia[\\\"changes\\\"]) ? (WebIO.setval({\\\"name\\\":\\\"changes\\\",\\\"scope\\\":\\\"10955116185814510155\\\",\\\"id\\\":\\\"14328492106173526680\\\",\\\"type\\\":\\\"observable\\\"},val)) : undefined; return this.valueFromJulia[\\\"changes\\\"]=false}),self),this[\\\"index\\\"].subscribe((function (val){!(this.valueFromJulia[\\\"index\\\"]) ? (WebIO.setval({\\\"name\\\":\\\"index\\\",\\\"scope\\\":\\\"10955116185814510155\\\",\\\"id\\\":\\\"3433830203541098064\\\",\\\"type\\\":\\\"observable\\\"},val)) : undefined; return this.valueFromJulia[\\\"index\\\"]=false}),self)]\\n        \\n    }\\n    self.model = new AppViewModel();\\n    self.valueFromJulia = {};\\n    for (var key in json_data) {\\n        self.valueFromJulia[key] = false;\\n    }\\n    ko.applyBindings(self.model, self.dom);\\n}\\n);\\n    (WebIO.importBlock({\\\"data\\\":[{\\\"name\\\":\\\"knockout\\\",\\\"type\\\":\\\"js\\\",\\\"url\\\":\\\"\\/assetserver\\/fb6ca08aae97daeb80aa99104c4eddfe76bc6766-knockout.js\\\"},{\\\"name\\\":\\\"knockout_punches\\\",\\\"type\\\":\\\"js\\\",\\\"url\\\":\\\"\\/assetserver\\/1759964e1dbcc22fe1a19531f6579c45d2da7d3e-knockout_punches.js\\\"}],\\\"type\\\":\\\"async_block\\\"})).then((imports) => handler.apply(this, imports));\\n}\\n\"],\"observables\":{\"changes\":{\"sync\":false,\"id\":\"14328492106173526680\",\"value\":0},\"index\":{\"sync\":true,\"id\":\"3433830203541098064\",\"value\":20}}},\"children\":[{\"props\":{\"className\":\"interact-flex-row interact-widget\"},\"nodeType\":\"DOM\",\"type\":\"node\",\"instanceArgs\":{\"namespace\":\"html\",\"tag\":\"div\"},\"children\":[{\"props\":{\"className\":\"interact-flex-row-left\"},\"nodeType\":\"DOM\",\"type\":\"node\",\"instanceArgs\":{\"namespace\":\"html\",\"tag\":\"div\"},\"children\":[{\"props\":{\"className\":\"interact \",\"style\":{\"padding\":\"5px 10px 0px 10px\"}},\"nodeType\":\"DOM\",\"type\":\"node\",\"instanceArgs\":{\"namespace\":\"html\",\"tag\":\"label\"},\"children\":[\"z\"]}]},{\"props\":{\"className\":\"interact-flex-row-center\"},\"nodeType\":\"DOM\",\"type\":\"node\",\"instanceArgs\":{\"namespace\":\"html\",\"tag\":\"div\"},\"children\":[{\"props\":{\"max\":40,\"min\":1,\"attributes\":{\"type\":\"range\",\"data-bind\":\"numericValue: index, valueUpdate: 'input', event: {change: function (){this.changes(this.changes()+1)}}\",\"orient\":\"horizontal\"},\"step\":1,\"className\":\"slider slider is-fullwidth\",\"style\":{}},\"nodeType\":\"DOM\",\"type\":\"node\",\"instanceArgs\":{\"namespace\":\"html\",\"tag\":\"input\"},\"children\":[]}]},{\"props\":{\"className\":\"interact-flex-row-right\"},\"nodeType\":\"DOM\",\"type\":\"node\",\"instanceArgs\":{\"namespace\":\"html\",\"tag\":\"div\"},\"children\":[{\"props\":{\"attributes\":{\"data-bind\":\"text: formatted_val\"}},\"nodeType\":\"DOM\",\"type\":\"node\",\"instanceArgs\":{\"namespace\":\"html\",\"tag\":\"p\"},\"children\":[]}]}]}]}]},{\"props\":{},\"nodeType\":\"Scope\",\"type\":\"node\",\"instanceArgs\":{\"imports\":{\"data\":[],\"type\":\"async_block\"},\"id\":\"553161678679629659\",\"handlers\":{},\"systemjs_options\":null,\"mount_callbacks\":[],\"observables\":{\"obs-node\":{\"sync\":false,\"id\":\"1111842200871379214\",\"value\":{\"props\":{\"className\":\"interact-flex-row interact-widget\"},\"nodeType\":\"DOM\",\"type\":\"node\",\"instanceArgs\":{\"namespace\":\"html\",\"tag\":\"div\"},\"children\":[{\"props\":{\"setInnerHtml\":\"<?xml version=\\\"1.0\\\" encoding=\\\"utf-8\\\"?>\\n<svg xmlns=\\\"http:\\/\\/www.w3.org\\/2000\\/svg\\\" xmlns:xlink=\\\"http:\\/\\/www.w3.org\\/1999\\/xlink\\\" width=\\\"600\\\" height=\\\"400\\\" viewBox=\\\"0 0 2400 1600\\\">\\n<defs>\\n  <clipPath id=\\\"clip050\\\">\\n    <rect x=\\\"0\\\" y=\\\"0\\\" width=\\\"2400\\\" height=\\\"1600\\\"\\/>\\n  <\\/clipPath>\\n<\\/defs>\\n<path clip-path=\\\"url(#clip050)\\\" d=\\\"\\nM0 1600 L2400 1600 L2400 0 L0 0  Z\\n  \\\" fill=\\\"#ffffff\\\" fill-rule=\\\"evenodd\\\" fill-opacity=\\\"1\\\"\\/>\\n<defs>\\n  <clipPath id=\\\"clip051\\\">\\n    <rect x=\\\"480\\\" y=\\\"0\\\" width=\\\"1681\\\" height=\\\"1600\\\"\\/>\\n  <\\/clipPath>\\n<\\/defs>\\n<defs>\\n  <clipPath id=\\\"clip052\\\">\\n    <rect x=\\\"147\\\" y=\\\"47\\\" width=\\\"1846\\\" height=\\\"1440\\\"\\/>\\n  <\\/clipPath>\\n<\\/defs>\\n<path clip-path=\\\"url(#clip052)\\\" d=\\\"\\nM147.478 1401.43 L147.478 302.298 L822.897 47.2441 L1992.76 132.262 L1992.76 1231.39 L1317.34 1486.45 L147.478 1401.43  Z\\n  \\\" fill=\\\"#ffffff\\\" fill-rule=\\\"evenodd\\\" fill-opacity=\\\"1\\\"\\/>\\n<polyline clip-path=\\\"url(#clip052)\\\" style=\\\"stroke:#000000; stroke-linecap:butt; stroke-linejoin:round; stroke-width:2; stroke-opacity:0.1; fill:none\\\" points=\\\"\\n  147.478,1401.43 822.897,1146.38 \\n  \\\"\\/>\\n<polyline clip-path=\\\"url(#clip052)\\\" style=\\\"stroke:#000000; stroke-linecap:butt; stroke-linejoin:round; stroke-width:2; stroke-opacity:0.1; fill:none\\\" points=\\\"\\n  822.897,1146.38 822.897,47.2441 \\n  \\\"\\/>\\n<polyline clip-path=\\\"url(#clip052)\\\" style=\\\"stroke:#000000; stroke-linecap:butt; stroke-linejoin:round; stroke-width:2; stroke-opacity:0.1; fill:none\\\" points=\\\"\\n  439.943,1422.68 1115.36,1167.63 \\n  \\\"\\/>\\n<polyline clip-path=\\\"url(#clip052)\\\" style=\\\"stroke:#000000; stroke-linecap:butt; stroke-linejoin:round; stroke-width:2; stroke-opacity:0.1; fill:none\\\" points=\\\"\\n  1115.36,1167.63 1115.36,68.4986 \\n  \\\"\\/>\\n<polyline clip-path=\\\"url(#clip052)\\\" style=\\\"stroke:#000000; stroke-linecap:butt; stroke-linejoin:round; stroke-width:2; stroke-opacity:0.1; fill:none\\\" points=\\\"\\n  732.408,1443.94 1407.83,1188.88 \\n  \\\"\\/>\\n<polyline clip-path=\\\"url(#clip052)\\\" style=\\\"stroke:#000000; stroke-linecap:butt; stroke-linejoin:round; stroke-width:2; stroke-opacity:0.1; fill:none\\\" points=\\\"\\n  1407.83,1188.88 1407.83,89.7531 \\n  \\\"\\/>\\n<polyline clip-path=\\\"url(#clip052)\\\" style=\\\"stroke:#000000; stroke-linecap:butt; stroke-linejoin:round; stroke-width:2; stroke-opacity:0.1; fill:none\\\" points=\\\"\\n  1024.87,1465.19 1700.29,1210.14 \\n  \\\"\\/>\\n<polyline clip-path=\\\"url(#clip052)\\\" style=\\\"stroke:#000000; stroke-linecap:butt; stroke-linejoin:round; stroke-width:2; stroke-opacity:0.1; fill:none\\\" points=\\\"\\n  1700.29,1210.14 1700.29,111.008 \\n  \\\"\\/>\\n<polyline clip-path=\\\"url(#clip052)\\\" style=\\\"stroke:#000000; stroke-linecap:butt; stroke-linejoin:round; stroke-width:2; stroke-opacity:0.1; fill:none\\\" points=\\\"\\n  1317.34,1486.45 1992.76,1231.39 \\n  \\\"\\/>\\n<polyline clip-path=\\\"url(#clip052)\\\" style=\\\"stroke:#000000; stroke-linecap:butt; stroke-linejoin:round; stroke-width:2; stroke-opacity:0.1; fill:none\\\" points=\\\"\\n  1992.76,1231.39 1992.76,132.262 \\n  \\\"\\/>\\n<polyline clip-path=\\\"url(#clip050)\\\" style=\\\"stroke:#000000; stroke-linecap:butt; stroke-linejoin:round; stroke-width:4; stroke-opacity:1; fill:none\\\" points=\\\"\\n  147.478,1401.43 1317.34,1486.45 \\n  \\\"\\/>\\n<polyline clip-path=\\\"url(#clip050)\\\" style=\\\"stroke:#000000; stroke-linecap:butt; stroke-linejoin:round; stroke-width:4; stroke-opacity:1; fill:none\\\" points=\\\"\\n  147.478,1401.43 155.583,1398.37 \\n  \\\"\\/>\\n<polyline clip-path=\\\"url(#clip050)\\\" style=\\\"stroke:#000000; stroke-linecap:butt; stroke-linejoin:round; stroke-width:4; stroke-opacity:1; fill:none\\\" points=\\\"\\n  439.943,1422.68 448.048,1419.62 \\n  \\\"\\/>\\n<polyline clip-path=\\\"url(#clip050)\\\" style=\\\"stroke:#000000; stroke-linecap:butt; stroke-linejoin:round; stroke-width:4; stroke-opacity:1; fill:none\\\" points=\\\"\\n  732.408,1443.94 740.513,1440.88 \\n  \\\"\\/>\\n<polyline clip-path=\\\"url(#clip050)\\\" style=\\\"stroke:#000000; stroke-linecap:butt; stroke-linejoin:round; stroke-width:4; stroke-opacity:1; fill:none\\\" points=\\\"\\n  1024.87,1465.19 1032.98,1462.13 \\n  \\\"\\/>\\n<polyline clip-path=\\\"url(#clip050)\\\" style=\\\"stroke:#000000; stroke-linecap:butt; stroke-linejoin:round; stroke-width:4; stroke-opacity:1; fill:none\\\" points=\\\"\\n  1317.34,1486.45 1325.44,1483.39 \\n  \\\"\\/>\\n<path clip-path=\\\"url(#clip050)\\\" d=\\\"M85.275 1430.61 L114.951 1430.61 L114.951 1434.54 L85.275 1434.54 L85.275 1430.61 Z\\\" fill=\\\"#000000\\\" fill-rule=\\\"evenodd\\\" fill-opacity=\\\"1\\\" \\/><path clip-path=\\\"url(#clip050)\\\" d=\\\"M129.071 1443.5 L145.39 1443.5 L145.39 1447.43 L123.446 1447.43 L123.446 1443.5 Q126.108 1440.74 130.691 1436.11 Q135.298 1431.46 136.478 1430.12 Q138.724 1427.6 139.603 1425.86 Q140.506 1424.1 140.506 1422.41 Q140.506 1419.66 138.562 1417.92 Q136.64 1416.18 133.539 1416.18 Q131.34 1416.18 128.886 1416.95 Q126.455 1417.71 123.678 1419.26 L123.678 1414.54 Q126.502 1413.41 128.955 1412.83 Q131.409 1412.25 133.446 1412.25 Q138.816 1412.25 142.011 1414.93 Q145.205 1417.62 145.205 1422.11 Q145.205 1424.24 144.395 1426.16 Q143.608 1428.06 141.502 1430.65 Q140.923 1431.32 137.821 1434.54 Q134.719 1437.73 129.071 1443.5 Z\\\" fill=\\\"#000000\\\" fill-rule=\\\"evenodd\\\" fill-opacity=\\\"1\\\" \\/><path clip-path=\\\"url(#clip050)\\\" d=\\\"M377.369 1451.86 L407.045 1451.86 L407.045 1455.8 L377.369 1455.8 L377.369 1451.86 Z\\\" fill=\\\"#000000\\\" fill-rule=\\\"evenodd\\\" fill-opacity=\\\"1\\\" \\/><path clip-path=\\\"url(#clip050)\\\" d=\\\"M417.948 1464.75 L425.587 1464.75 L425.587 1438.39 L417.277 1440.05 L417.277 1435.8 L425.541 1434.13 L430.216 1434.13 L430.216 1464.75 L437.855 1464.75 L437.855 1468.69 L417.948 1468.69 L417.948 1464.75 Z\\\" fill=\\\"#000000\\\" fill-rule=\\\"evenodd\\\" fill-opacity=\\\"1\\\" \\/><path clip-path=\\\"url(#clip050)\\\" d=\\\"M718.376 1458.46 Q714.765 1458.46 712.936 1462.03 Q711.13 1465.57 711.13 1472.7 Q711.13 1479.8 712.936 1483.37 Q714.765 1486.91 718.376 1486.91 Q722.01 1486.91 723.816 1483.37 Q725.644 1479.8 725.644 1472.7 Q725.644 1465.57 723.816 1462.03 Q722.01 1458.46 718.376 1458.46 M718.376 1454.76 Q724.186 1454.76 727.241 1459.36 Q730.32 1463.95 730.32 1472.7 Q730.32 1481.42 727.241 1486.03 Q724.186 1490.61 718.376 1490.61 Q712.566 1490.61 709.487 1486.03 Q706.431 1481.42 706.431 1472.7 Q706.431 1463.95 709.487 1459.36 Q712.566 1454.76 718.376 1454.76 Z\\\" fill=\\\"#000000\\\" fill-rule=\\\"evenodd\\\" fill-opacity=\\\"1\\\" \\/><path clip-path=\\\"url(#clip050)\\\" d=\\\"M1002.88 1507.26 L1010.52 1507.26 L1010.52 1480.9 L1002.21 1482.56 L1002.21 1478.3 L1010.47 1476.64 L1015.15 1476.64 L1015.15 1507.26 L1022.78 1507.26 L1022.78 1511.2 L1002.88 1511.2 L1002.88 1507.26 Z\\\" fill=\\\"#000000\\\" fill-rule=\\\"evenodd\\\" fill-opacity=\\\"1\\\" \\/><path clip-path=\\\"url(#clip050)\\\" d=\\\"M1298.93 1528.52 L1315.25 1528.52 L1315.25 1532.45 L1293.31 1532.45 L1293.31 1528.52 Q1295.97 1525.76 1300.55 1521.13 Q1305.16 1516.48 1306.34 1515.14 Q1308.58 1512.61 1309.46 1510.88 Q1310.37 1509.12 1310.37 1507.43 Q1310.37 1504.67 1308.42 1502.94 Q1306.5 1501.2 1303.4 1501.2 Q1301.2 1501.2 1298.75 1501.97 Q1296.31 1502.73 1293.54 1504.28 L1293.54 1499.56 Q1296.36 1498.42 1298.81 1497.85 Q1301.27 1497.27 1303.31 1497.27 Q1308.68 1497.27 1311.87 1499.95 Q1315.06 1502.64 1315.06 1507.13 Q1315.06 1509.26 1314.25 1511.18 Q1313.47 1513.08 1311.36 1515.67 Q1310.78 1516.34 1307.68 1519.56 Q1304.58 1522.75 1298.93 1528.52 Z\\\" fill=\\\"#000000\\\" fill-rule=\\\"evenodd\\\" fill-opacity=\\\"1\\\" \\/><polyline clip-path=\\\"url(#clip052)\\\" style=\\\"stroke:#000000; stroke-linecap:butt; stroke-linejoin:round; stroke-width:2; stroke-opacity:0.1; fill:none\\\" points=\\\"\\n  1317.34,1486.45 147.478,1401.43 \\n  \\\"\\/>\\n<polyline clip-path=\\\"url(#clip052)\\\" style=\\\"stroke:#000000; stroke-linecap:butt; stroke-linejoin:round; stroke-width:2; stroke-opacity:0.1; fill:none\\\" points=\\\"\\n  147.478,1401.43 147.478,302.298 \\n  \\\"\\/>\\n<polyline clip-path=\\\"url(#clip052)\\\" style=\\\"stroke:#000000; stroke-linecap:butt; stroke-linejoin:round; stroke-width:2; stroke-opacity:0.1; fill:none\\\" points=\\\"\\n  1486.19,1422.68 316.333,1337.67 \\n  \\\"\\/>\\n<polyline clip-path=\\\"url(#clip052)\\\" style=\\\"stroke:#000000; stroke-linecap:butt; stroke-linejoin:round; stroke-width:2; stroke-opacity:0.1; fill:none\\\" points=\\\"\\n  316.333,1337.67 316.333,238.535 \\n  \\\"\\/>\\n<polyline clip-path=\\\"url(#clip052)\\\" style=\\\"stroke:#000000; stroke-linecap:butt; stroke-linejoin:round; stroke-width:2; stroke-opacity:0.1; fill:none\\\" points=\\\"\\n  1655.05,1358.92 485.187,1273.9 \\n  \\\"\\/>\\n<polyline clip-path=\\\"url(#clip052)\\\" style=\\\"stroke:#000000; stroke-linecap:butt; stroke-linejoin:round; stroke-width:2; stroke-opacity:0.1; fill:none\\\" points=\\\"\\n  485.187,1273.9 485.187,174.771 \\n  \\\"\\/>\\n<polyline clip-path=\\\"url(#clip052)\\\" style=\\\"stroke:#000000; stroke-linecap:butt; stroke-linejoin:round; stroke-width:2; stroke-opacity:0.1; fill:none\\\" points=\\\"\\n  1823.9,1295.16 654.042,1210.14 \\n  \\\"\\/>\\n<polyline clip-path=\\\"url(#clip052)\\\" style=\\\"stroke:#000000; stroke-linecap:butt; stroke-linejoin:round; stroke-width:2; stroke-opacity:0.1; fill:none\\\" points=\\\"\\n  654.042,1210.14 654.042,111.008 \\n  \\\"\\/>\\n<polyline clip-path=\\\"url(#clip052)\\\" style=\\\"stroke:#000000; stroke-linecap:butt; stroke-linejoin:round; stroke-width:2; stroke-opacity:0.1; fill:none\\\" points=\\\"\\n  1992.76,1231.39 822.897,1146.38 \\n  \\\"\\/>\\n<polyline clip-path=\\\"url(#clip052)\\\" style=\\\"stroke:#000000; stroke-linecap:butt; stroke-linejoin:round; stroke-width:2; stroke-opacity:0.1; fill:none\\\" points=\\\"\\n  822.897,1146.38 822.897,47.2441 \\n  \\\"\\/>\\n<polyline clip-path=\\\"url(#clip050)\\\" style=\\\"stroke:#000000; stroke-linecap:butt; stroke-linejoin:round; stroke-width:4; stroke-opacity:1; fill:none\\\" points=\\\"\\n  1317.34,1486.45 1992.76,1231.39 \\n  \\\"\\/>\\n<polyline clip-path=\\\"url(#clip050)\\\" style=\\\"stroke:#000000; stroke-linecap:butt; stroke-linejoin:round; stroke-width:4; stroke-opacity:1; fill:none\\\" points=\\\"\\n  1317.34,1486.45 1303.3,1485.43 \\n  \\\"\\/>\\n<polyline clip-path=\\\"url(#clip050)\\\" style=\\\"stroke:#000000; stroke-linecap:butt; stroke-linejoin:round; stroke-width:4; stroke-opacity:1; fill:none\\\" points=\\\"\\n  1486.19,1422.68 1472.15,1421.66 \\n  \\\"\\/>\\n<polyline clip-path=\\\"url(#clip050)\\\" style=\\\"stroke:#000000; stroke-linecap:butt; stroke-linejoin:round; stroke-width:4; stroke-opacity:1; fill:none\\\" points=\\\"\\n  1655.05,1358.92 1641.01,1357.9 \\n  \\\"\\/>\\n<polyline clip-path=\\\"url(#clip050)\\\" style=\\\"stroke:#000000; stroke-linecap:butt; stroke-linejoin:round; stroke-width:4; stroke-opacity:1; fill:none\\\" points=\\\"\\n  1823.9,1295.16 1809.86,1294.14 \\n  \\\"\\/>\\n<polyline clip-path=\\\"url(#clip050)\\\" style=\\\"stroke:#000000; stroke-linecap:butt; stroke-linejoin:round; stroke-width:4; stroke-opacity:1; fill:none\\\" points=\\\"\\n  1992.76,1231.39 1978.72,1230.37 \\n  \\\"\\/>\\n<path clip-path=\\\"url(#clip050)\\\" d=\\\"M1327.51 1513.84 L1357.19 1513.84 L1357.19 1517.78 L1327.51 1517.78 L1327.51 1513.84 Z\\\" fill=\\\"#000000\\\" fill-rule=\\\"evenodd\\\" fill-opacity=\\\"1\\\" \\/><path clip-path=\\\"url(#clip050)\\\" d=\\\"M1371.31 1526.74 L1387.63 1526.74 L1387.63 1530.67 L1365.68 1530.67 L1365.68 1526.74 Q1368.34 1523.98 1372.93 1519.35 Q1377.53 1514.7 1378.72 1513.36 Q1380.96 1510.83 1381.84 1509.1 Q1382.74 1507.34 1382.74 1505.65 Q1382.74 1502.89 1380.8 1501.16 Q1378.88 1499.42 1375.78 1499.42 Q1373.58 1499.42 1371.12 1500.18 Q1368.69 1500.95 1365.91 1502.5 L1365.91 1497.78 Q1368.74 1496.64 1371.19 1496.06 Q1373.65 1495.49 1375.68 1495.49 Q1381.05 1495.49 1384.25 1498.17 Q1387.44 1500.86 1387.44 1505.35 Q1387.44 1507.48 1386.63 1509.4 Q1385.84 1511.3 1383.74 1513.89 Q1383.16 1514.56 1380.06 1517.78 Q1376.96 1520.97 1371.31 1526.74 Z\\\" fill=\\\"#000000\\\" fill-rule=\\\"evenodd\\\" fill-opacity=\\\"1\\\" \\/><path clip-path=\\\"url(#clip050)\\\" d=\\\"M1496.37 1450.08 L1526.04 1450.08 L1526.04 1454.01 L1496.37 1454.01 L1496.37 1450.08 Z\\\" fill=\\\"#000000\\\" fill-rule=\\\"evenodd\\\" fill-opacity=\\\"1\\\" \\/><path clip-path=\\\"url(#clip050)\\\" d=\\\"M1536.94 1462.97 L1544.58 1462.97 L1544.58 1436.61 L1536.27 1438.27 L1536.27 1434.01 L1544.54 1432.35 L1549.21 1432.35 L1549.21 1462.97 L1556.85 1462.97 L1556.85 1466.91 L1536.94 1466.91 L1536.94 1462.97 Z\\\" fill=\\\"#000000\\\" fill-rule=\\\"evenodd\\\" fill-opacity=\\\"1\\\" \\/><path clip-path=\\\"url(#clip050)\\\" d=\\\"M1677.17 1371.66 Q1673.55 1371.66 1671.73 1375.23 Q1669.92 1378.77 1669.92 1385.9 Q1669.92 1393 1671.73 1396.57 Q1673.55 1400.11 1677.17 1400.11 Q1680.8 1400.11 1682.61 1396.57 Q1684.43 1393 1684.43 1385.9 Q1684.43 1378.77 1682.61 1375.23 Q1680.8 1371.66 1677.17 1371.66 M1677.17 1367.96 Q1682.98 1367.96 1686.03 1372.57 Q1689.11 1377.15 1689.11 1385.9 Q1689.11 1394.63 1686.03 1399.23 Q1682.98 1403.81 1677.17 1403.81 Q1671.36 1403.81 1668.28 1399.23 Q1665.22 1394.63 1665.22 1385.9 Q1665.22 1377.15 1668.28 1372.57 Q1671.36 1367.96 1677.17 1367.96 Z\\\" fill=\\\"#000000\\\" fill-rule=\\\"evenodd\\\" fill-opacity=\\\"1\\\" \\/><path clip-path=\\\"url(#clip050)\\\" d=\\\"M1834.75 1335.44 L1842.39 1335.44 L1842.39 1309.08 L1834.08 1310.75 L1834.08 1306.49 L1842.34 1304.82 L1847.02 1304.82 L1847.02 1335.44 L1854.65 1335.44 L1854.65 1339.38 L1834.75 1339.38 L1834.75 1335.44 Z\\\" fill=\\\"#000000\\\" fill-rule=\\\"evenodd\\\" fill-opacity=\\\"1\\\" \\/><path clip-path=\\\"url(#clip050)\\\" d=\\\"M2008.56 1271.68 L2024.87 1271.68 L2024.87 1275.62 L2002.93 1275.62 L2002.93 1271.68 Q2005.59 1268.93 2010.18 1264.3 Q2014.78 1259.64 2015.96 1258.3 Q2018.21 1255.78 2019.09 1254.04 Q2019.99 1252.28 2019.99 1250.59 Q2019.99 1247.84 2018.05 1246.1 Q2016.12 1244.37 2013.02 1244.37 Q2010.82 1244.37 2008.37 1245.13 Q2005.94 1245.89 2003.16 1247.45 L2003.16 1242.72 Q2005.99 1241.59 2008.44 1241.01 Q2010.89 1240.43 2012.93 1240.43 Q2018.3 1240.43 2021.49 1243.12 Q2024.69 1245.8 2024.69 1250.29 Q2024.69 1252.42 2023.88 1254.34 Q2023.09 1256.24 2020.99 1258.83 Q2020.41 1259.51 2017.31 1262.72 Q2014.2 1265.92 2008.56 1271.68 Z\\\" fill=\\\"#000000\\\" fill-rule=\\\"evenodd\\\" fill-opacity=\\\"1\\\" \\/><polyline clip-path=\\\"url(#clip052)\\\" style=\\\"stroke:#000000; stroke-linecap:butt; stroke-linejoin:round; stroke-width:2; stroke-opacity:0.1; fill:none\\\" points=\\\"\\n  147.478,1401.43 822.897,1146.38 \\n  \\\"\\/>\\n<polyline clip-path=\\\"url(#clip052)\\\" style=\\\"stroke:#000000; stroke-linecap:butt; stroke-linejoin:round; stroke-width:2; stroke-opacity:0.1; fill:none\\\" points=\\\"\\n  822.897,1146.38 1992.76,1231.39 \\n  \\\"\\/>\\n<polyline clip-path=\\\"url(#clip052)\\\" style=\\\"stroke:#000000; stroke-linecap:butt; stroke-linejoin:round; stroke-width:2; stroke-opacity:0.1; fill:none\\\" points=\\\"\\n  147.478,1126.65 822.897,871.593 \\n  \\\"\\/>\\n<polyline clip-path=\\\"url(#clip052)\\\" style=\\\"stroke:#000000; stroke-linecap:butt; stroke-linejoin:round; stroke-width:2; stroke-opacity:0.1; fill:none\\\" points=\\\"\\n  822.897,871.593 1992.76,956.611 \\n  \\\"\\/>\\n<polyline clip-path=\\\"url(#clip052)\\\" style=\\\"stroke:#000000; stroke-linecap:butt; stroke-linejoin:round; stroke-width:2; stroke-opacity:0.1; fill:none\\\" points=\\\"\\n  147.478,851.864 822.897,596.81 \\n  \\\"\\/>\\n<polyline clip-path=\\\"url(#clip052)\\\" style=\\\"stroke:#000000; stroke-linecap:butt; stroke-linejoin:round; stroke-width:2; stroke-opacity:0.1; fill:none\\\" points=\\\"\\n  822.897,596.81 1992.76,681.828 \\n  \\\"\\/>\\n<polyline clip-path=\\\"url(#clip052)\\\" style=\\\"stroke:#000000; stroke-linecap:butt; stroke-linejoin:round; stroke-width:2; stroke-opacity:0.1; fill:none\\\" points=\\\"\\n  147.478,577.081 822.897,322.027 \\n  \\\"\\/>\\n<polyline clip-path=\\\"url(#clip052)\\\" style=\\\"stroke:#000000; stroke-linecap:butt; stroke-linejoin:round; stroke-width:2; stroke-opacity:0.1; fill:none\\\" points=\\\"\\n  822.897,322.027 1992.76,407.045 \\n  \\\"\\/>\\n<polyline clip-path=\\\"url(#clip052)\\\" style=\\\"stroke:#000000; stroke-linecap:butt; stroke-linejoin:round; stroke-width:2; stroke-opacity:0.1; fill:none\\\" points=\\\"\\n  147.478,302.298 822.897,47.2441 \\n  \\\"\\/>\\n<polyline clip-path=\\\"url(#clip052)\\\" style=\\\"stroke:#000000; stroke-linecap:butt; stroke-linejoin:round; stroke-width:2; stroke-opacity:0.1; fill:none\\\" points=\\\"\\n  822.897,47.2441 1992.76,132.262 \\n  \\\"\\/>\\n<polyline clip-path=\\\"url(#clip050)\\\" style=\\\"stroke:#000000; stroke-linecap:butt; stroke-linejoin:round; stroke-width:4; stroke-opacity:1; fill:none\\\" points=\\\"\\n  147.478,1401.43 147.478,302.298 \\n  \\\"\\/>\\n<polyline clip-path=\\\"url(#clip050)\\\" style=\\\"stroke:#000000; stroke-linecap:butt; stroke-linejoin:round; stroke-width:4; stroke-opacity:1; fill:none\\\" points=\\\"\\n  147.478,1401.43 155.583,1398.37 \\n  \\\"\\/>\\n<polyline clip-path=\\\"url(#clip050)\\\" style=\\\"stroke:#000000; stroke-linecap:butt; stroke-linejoin:round; stroke-width:4; stroke-opacity:1; fill:none\\\" points=\\\"\\n  147.478,1126.65 155.583,1123.59 \\n  \\\"\\/>\\n<polyline clip-path=\\\"url(#clip050)\\\" style=\\\"stroke:#000000; stroke-linecap:butt; stroke-linejoin:round; stroke-width:4; stroke-opacity:1; fill:none\\\" points=\\\"\\n  147.478,851.864 155.583,848.803 \\n  \\\"\\/>\\n<polyline clip-path=\\\"url(#clip050)\\\" style=\\\"stroke:#000000; stroke-linecap:butt; stroke-linejoin:round; stroke-width:4; stroke-opacity:1; fill:none\\\" points=\\\"\\n  147.478,577.081 155.583,574.021 \\n  \\\"\\/>\\n<polyline clip-path=\\\"url(#clip050)\\\" style=\\\"stroke:#000000; stroke-linecap:butt; stroke-linejoin:round; stroke-width:4; stroke-opacity:1; fill:none\\\" points=\\\"\\n  147.478,302.298 155.583,299.238 \\n  \\\"\\/>\\n<path clip-path=\\\"url(#clip050)\\\" d=\\\"M58.5625 1401.88 L88.2383 1401.88 L88.2383 1405.82 L58.5625 1405.82 L58.5625 1401.88 Z\\\" fill=\\\"#000000\\\" fill-rule=\\\"evenodd\\\" fill-opacity=\\\"1\\\" \\/><path clip-path=\\\"url(#clip050)\\\" d=\\\"M102.359 1414.77 L118.678 1414.77 L118.678 1418.71 L96.7336 1418.71 L96.7336 1414.77 Q99.3956 1412.02 103.979 1407.39 Q108.585 1402.74 109.766 1401.4 Q112.011 1398.87 112.891 1397.14 Q113.794 1395.38 113.794 1393.69 Q113.794 1390.93 111.849 1389.2 Q109.928 1387.46 106.826 1387.46 Q104.627 1387.46 102.173 1388.22 Q99.7428 1388.99 96.9651 1390.54 L96.9651 1385.82 Q99.7891 1384.68 102.243 1384.1 Q104.697 1383.52 106.734 1383.52 Q112.104 1383.52 115.298 1386.21 Q118.493 1388.9 118.493 1393.39 Q118.493 1395.52 117.683 1397.44 Q116.896 1399.33 114.789 1401.93 Q114.21 1402.6 111.109 1405.82 Q108.007 1409.01 102.359 1414.77 Z\\\" fill=\\\"#000000\\\" fill-rule=\\\"evenodd\\\" fill-opacity=\\\"1\\\" \\/><path clip-path=\\\"url(#clip050)\\\" d=\\\"M58.1921 1127.1 L87.8679 1127.1 L87.8679 1131.03 L58.1921 1131.03 L58.1921 1127.1 Z\\\" fill=\\\"#000000\\\" fill-rule=\\\"evenodd\\\" fill-opacity=\\\"1\\\" \\/><path clip-path=\\\"url(#clip050)\\\" d=\\\"M98.7706 1139.99 L106.409 1139.99 L106.409 1113.63 L98.0993 1115.29 L98.0993 1111.03 L106.363 1109.37 L111.039 1109.37 L111.039 1139.99 L118.678 1139.99 L118.678 1143.93 L98.7706 1143.93 L98.7706 1139.99 Z\\\" fill=\\\"#000000\\\" fill-rule=\\\"evenodd\\\" fill-opacity=\\\"1\\\" \\/><path clip-path=\\\"url(#clip050)\\\" d=\\\"M106.734 837.663 Q103.122 837.663 101.294 841.228 Q99.4882 844.769 99.4882 851.899 Q99.4882 859.005 101.294 862.57 Q103.122 866.112 106.734 866.112 Q110.368 866.112 112.173 862.57 Q114.002 859.005 114.002 851.899 Q114.002 844.769 112.173 841.228 Q110.368 837.663 106.734 837.663 M106.734 833.959 Q112.544 833.959 115.599 838.566 Q118.678 843.149 118.678 851.899 Q118.678 860.626 115.599 865.232 Q112.544 869.815 106.734 869.815 Q100.923 869.815 97.8447 865.232 Q94.7892 860.626 94.7892 851.899 Q94.7892 843.149 97.8447 838.566 Q100.923 833.959 106.734 833.959 Z\\\" fill=\\\"#000000\\\" fill-rule=\\\"evenodd\\\" fill-opacity=\\\"1\\\" \\/><path clip-path=\\\"url(#clip050)\\\" d=\\\"M98.7706 590.426 L106.409 590.426 L106.409 564.06 L98.0993 565.727 L98.0993 561.468 L106.363 559.801 L111.039 559.801 L111.039 590.426 L118.678 590.426 L118.678 594.361 L98.7706 594.361 L98.7706 590.426 Z\\\" fill=\\\"#000000\\\" fill-rule=\\\"evenodd\\\" fill-opacity=\\\"1\\\" \\/><path clip-path=\\\"url(#clip050)\\\" d=\\\"M102.359 315.643 L118.678 315.643 L118.678 319.578 L96.7336 319.578 L96.7336 315.643 Q99.3956 312.889 103.979 308.259 Q108.585 303.606 109.766 302.264 Q112.011 299.741 112.891 298.004 Q113.794 296.245 113.794 294.555 Q113.794 291.801 111.849 290.065 Q109.928 288.329 106.826 288.329 Q104.627 288.329 102.173 289.092 Q99.7428 289.856 96.9651 291.407 L96.9651 286.685 Q99.7891 285.551 102.243 284.972 Q104.697 284.393 106.734 284.393 Q112.104 284.393 115.298 287.079 Q118.493 289.764 118.493 294.254 Q118.493 296.384 117.683 298.305 Q116.896 300.204 114.789 302.796 Q114.21 303.467 111.109 306.685 Q108.007 309.879 102.359 315.643 Z\\\" fill=\\\"#000000\\\" fill-rule=\\\"evenodd\\\" fill-opacity=\\\"1\\\" \\/><circle clip-path=\\\"url(#clip052)\\\" cx=\\\"1070.12\\\" cy=\\\"766.846\\\" r=\\\"14\\\" fill=\\\"#009af9\\\" fill-rule=\\\"evenodd\\\" fill-opacity=\\\"1\\\" stroke=\\\"#000000\\\" stroke-opacity=\\\"1\\\" stroke-width=\\\"3.2\\\"\\/>\\n<circle clip-path=\\\"url(#clip052)\\\" cx=\\\"1070.12\\\" cy=\\\"766.846\\\" r=\\\"14\\\" fill=\\\"#e26f46\\\" fill-rule=\\\"evenodd\\\" fill-opacity=\\\"1\\\" stroke=\\\"#000000\\\" stroke-opacity=\\\"1\\\" stroke-width=\\\"3.2\\\"\\/>\\n<polyline clip-path=\\\"url(#clip052)\\\" style=\\\"stroke:#0000ff; stroke-linecap:butt; stroke-linejoin:round; stroke-width:4; stroke-opacity:1; fill:none\\\" points=\\\"\\n  1070.12,766.846 1070.12,766.846 \\n  \\\"\\/>\\n<polyline clip-path=\\\"url(#clip052)\\\" style=\\\"stroke:#ff0000; stroke-linecap:butt; stroke-linejoin:round; stroke-width:4; stroke-opacity:1; fill:none\\\" points=\\\"\\n  1070.12,766.846 1070.12,766.846 \\n  \\\"\\/>\\n<path clip-path=\\\"url(#clip052)\\\" d=\\\"\\nM822.897 596.81 L147.478 851.864 L1317.34 936.882 L1992.76 681.828  Z\\n  \\\" fill=\\\"#bb3754\\\" fill-rule=\\\"evenodd\\\" fill-opacity=\\\"0.5\\\"\\/>\\n<defs>\\n  <clipPath id=\\\"clip053\\\">\\n    <rect x=\\\"2160\\\" y=\\\"47\\\" width=\\\"73\\\" height=\\\"1440\\\"\\/>\\n  <\\/clipPath>\\n<\\/defs>\\n<g clip-path=\\\"url(#clip053)\\\">\\n<image width=\\\"72\\\" height=\\\"1439\\\" xlink:href=\\\"data:image\\/png;base64,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\\nBYGCQOE\\/LrLuTX\\/wFc8AAAAASUVORK5CYII=\\n\\\" transform=\\\"translate(2161, 47)\\\"\\/>\\n<\\/g>\\n<path clip-path=\\\"url(#clip050)\\\" d=\\\"M2280.7 1468.62 Q2277.09 1468.62 2275.26 1472.18 Q2273.45 1475.72 2273.45 1482.85 Q2273.45 1489.96 2275.26 1493.53 Q2277.09 1497.07 2280.7 1497.07 Q2284.33 1497.07 2286.14 1493.53 Q2287.97 1489.96 2287.97 1482.85 Q2287.97 1475.72 2286.14 1472.18 Q2284.33 1468.62 2280.7 1468.62 M2280.7 1464.91 Q2286.51 1464.91 2289.57 1469.52 Q2292.64 1474.1 2292.64 1482.85 Q2292.64 1491.58 2289.57 1496.19 Q2286.51 1500.77 2280.7 1500.77 Q2274.89 1500.77 2271.81 1496.19 Q2268.76 1491.58 2268.76 1482.85 Q2268.76 1474.1 2271.81 1469.52 Q2274.89 1464.91 2280.7 1464.91 Z\\\" fill=\\\"#000000\\\" fill-rule=\\\"evenodd\\\" fill-opacity=\\\"1\\\" \\/><path clip-path=\\\"url(#clip050)\\\" d=\\\"M2280.7 1324.7 Q2277.09 1324.7 2275.26 1328.26 Q2273.45 1331.8 2273.45 1338.93 Q2273.45 1346.04 2275.26 1349.6 Q2277.09 1353.15 2280.7 1353.15 Q2284.33 1353.15 2286.14 1349.6 Q2287.97 1346.04 2287.97 1338.93 Q2287.97 1331.8 2286.14 1328.26 Q2284.33 1324.7 2280.7 1324.7 M2280.7 1320.99 Q2286.51 1320.99 2289.57 1325.6 Q2292.64 1330.18 2292.64 1338.93 Q2292.64 1347.66 2289.57 1352.27 Q2286.51 1356.85 2280.7 1356.85 Q2274.89 1356.85 2271.81 1352.27 Q2268.76 1347.66 2268.76 1338.93 Q2268.76 1330.18 2271.81 1325.6 Q2274.89 1320.99 2280.7 1320.99 Z\\\" fill=\\\"#000000\\\" fill-rule=\\\"evenodd\\\" fill-opacity=\\\"1\\\" \\/><path clip-path=\\\"url(#clip050)\\\" d=\\\"M2300.86 1350.3 L2305.75 1350.3 L2305.75 1356.18 L2300.86 1356.18 L2300.86 1350.3 Z\\\" fill=\\\"#000000\\\" fill-rule=\\\"evenodd\\\" fill-opacity=\\\"1\\\" \\/><path clip-path=\\\"url(#clip050)\\\" d=\\\"M2316.74 1352.24 L2324.38 1352.24 L2324.38 1325.88 L2316.07 1327.54 L2316.07 1323.29 L2324.33 1321.62 L2329.01 1321.62 L2329.01 1352.24 L2336.65 1352.24 L2336.65 1356.18 L2316.74 1356.18 L2316.74 1352.24 Z\\\" fill=\\\"#000000\\\" fill-rule=\\\"evenodd\\\" fill-opacity=\\\"1\\\" \\/><path clip-path=\\\"url(#clip050)\\\" d=\\\"M2280.7 1180.78 Q2277.09 1180.78 2275.26 1184.34 Q2273.45 1187.88 2273.45 1195.01 Q2273.45 1202.12 2275.26 1205.68 Q2277.09 1209.23 2280.7 1209.23 Q2284.33 1209.23 2286.14 1205.68 Q2287.97 1202.12 2287.97 1195.01 Q2287.97 1187.88 2286.14 1184.34 Q2284.33 1180.78 2280.7 1180.78 M2280.7 1177.07 Q2286.51 1177.07 2289.57 1181.68 Q2292.64 1186.26 2292.64 1195.01 Q2292.64 1203.74 2289.57 1208.35 Q2286.51 1212.93 2280.7 1212.93 Q2274.89 1212.93 2271.81 1208.35 Q2268.76 1203.74 2268.76 1195.01 Q2268.76 1186.26 2271.81 1181.68 Q2274.89 1177.07 2280.7 1177.07 Z\\\" fill=\\\"#000000\\\" fill-rule=\\\"evenodd\\\" fill-opacity=\\\"1\\\" \\/><path clip-path=\\\"url(#clip050)\\\" d=\\\"M2300.86 1206.38 L2305.75 1206.38 L2305.75 1212.26 L2300.86 1212.26 L2300.86 1206.38 Z\\\" fill=\\\"#000000\\\" fill-rule=\\\"evenodd\\\" fill-opacity=\\\"1\\\" \\/><path clip-path=\\\"url(#clip050)\\\" d=\\\"M2319.96 1208.32 L2336.28 1208.32 L2336.28 1212.26 L2314.33 1212.26 L2314.33 1208.32 Q2317 1205.57 2321.58 1200.94 Q2326.19 1196.29 2327.37 1194.94 Q2329.61 1192.42 2330.49 1190.68 Q2331.39 1188.93 2331.39 1187.24 Q2331.39 1184.48 2329.45 1182.74 Q2327.53 1181.01 2324.43 1181.01 Q2322.23 1181.01 2319.77 1181.77 Q2317.34 1182.54 2314.57 1184.09 L2314.57 1179.36 Q2317.39 1178.23 2319.84 1177.65 Q2322.3 1177.07 2324.33 1177.07 Q2329.7 1177.07 2332.9 1179.76 Q2336.09 1182.44 2336.09 1186.93 Q2336.09 1189.06 2335.28 1190.99 Q2334.5 1192.88 2332.39 1195.48 Q2331.81 1196.15 2328.71 1199.36 Q2325.61 1202.56 2319.96 1208.32 Z\\\" fill=\\\"#000000\\\" fill-rule=\\\"evenodd\\\" fill-opacity=\\\"1\\\" \\/><path clip-path=\\\"url(#clip050)\\\" d=\\\"M2280.7 1036.86 Q2277.09 1036.86 2275.26 1040.42 Q2273.45 1043.96 2273.45 1051.09 Q2273.45 1058.2 2275.26 1061.76 Q2277.09 1065.31 2280.7 1065.31 Q2284.33 1065.31 2286.14 1061.76 Q2287.97 1058.2 2287.97 1051.09 Q2287.97 1043.96 2286.14 1040.42 Q2284.33 1036.86 2280.7 1036.86 M2280.7 1033.15 Q2286.51 1033.15 2289.57 1037.76 Q2292.64 1042.34 2292.64 1051.09 Q2292.64 1059.82 2289.57 1064.43 Q2286.51 1069.01 2280.7 1069.01 Q2274.89 1069.01 2271.81 1064.43 Q2268.76 1059.82 2268.76 1051.09 Q2268.76 1042.34 2271.81 1037.76 Q2274.89 1033.15 2280.7 1033.15 Z\\\" fill=\\\"#000000\\\" fill-rule=\\\"evenodd\\\" fill-opacity=\\\"1\\\" \\/><path clip-path=\\\"url(#clip050)\\\" d=\\\"M2300.86 1062.46 L2305.75 1062.46 L2305.75 1068.34 L2300.86 1068.34 L2300.86 1062.46 Z\\\" fill=\\\"#000000\\\" fill-rule=\\\"evenodd\\\" fill-opacity=\\\"1\\\" \\/><path clip-path=\\\"url(#clip050)\\\" d=\\\"M2330.1 1049.7 Q2333.45 1050.42 2335.33 1052.69 Q2337.23 1054.96 2337.23 1058.29 Q2337.23 1063.41 2333.71 1066.21 Q2330.19 1069.01 2323.71 1069.01 Q2321.53 1069.01 2319.22 1068.57 Q2316.93 1068.15 2314.47 1067.3 L2314.47 1062.78 Q2316.42 1063.92 2318.73 1064.5 Q2321.05 1065.07 2323.57 1065.07 Q2327.97 1065.07 2330.26 1063.34 Q2332.58 1061.6 2332.58 1058.29 Q2332.58 1055.24 2330.42 1053.52 Q2328.29 1051.79 2324.47 1051.79 L2320.45 1051.79 L2320.45 1047.94 L2324.66 1047.94 Q2328.11 1047.94 2329.94 1046.58 Q2331.76 1045.19 2331.76 1042.6 Q2331.76 1039.94 2329.87 1038.52 Q2327.99 1037.09 2324.47 1037.09 Q2322.55 1037.09 2320.35 1037.5 Q2318.15 1037.92 2315.51 1038.8 L2315.51 1034.63 Q2318.18 1033.89 2320.49 1033.52 Q2322.83 1033.15 2324.89 1033.15 Q2330.21 1033.15 2333.32 1035.58 Q2336.42 1037.99 2336.42 1042.11 Q2336.42 1044.98 2334.77 1046.97 Q2333.13 1048.94 2330.1 1049.7 Z\\\" fill=\\\"#000000\\\" fill-rule=\\\"evenodd\\\" fill-opacity=\\\"1\\\" \\/><path clip-path=\\\"url(#clip050)\\\" d=\\\"M2280.7 892.936 Q2277.09 892.936 2275.26 896.501 Q2273.45 900.043 2273.45 907.172 Q2273.45 914.279 2275.26 917.844 Q2277.09 921.385 2280.7 921.385 Q2284.33 921.385 2286.14 917.844 Q2287.97 914.279 2287.97 907.172 Q2287.97 900.043 2286.14 896.501 Q2284.33 892.936 2280.7 892.936 M2280.7 889.233 Q2286.51 889.233 2289.57 893.839 Q2292.64 898.422 2292.64 907.172 Q2292.64 915.899 2289.57 920.506 Q2286.51 925.089 2280.7 925.089 Q2274.89 925.089 2271.81 920.506 Q2268.76 915.899 2268.76 907.172 Q2268.76 898.422 2271.81 893.839 Q2274.89 889.233 2280.7 889.233 Z\\\" fill=\\\"#000000\\\" fill-rule=\\\"evenodd\\\" fill-opacity=\\\"1\\\" \\/><path clip-path=\\\"url(#clip050)\\\" d=\\\"M2300.86 918.538 L2305.75 918.538 L2305.75 924.418 L2300.86 924.418 L2300.86 918.538 Z\\\" fill=\\\"#000000\\\" fill-rule=\\\"evenodd\\\" fill-opacity=\\\"1\\\" \\/><path clip-path=\\\"url(#clip050)\\\" d=\\\"M2328.78 893.932 L2316.97 912.381 L2328.78 912.381 L2328.78 893.932 M2327.55 889.858 L2333.43 889.858 L2333.43 912.381 L2338.36 912.381 L2338.36 916.269 L2333.43 916.269 L2333.43 924.418 L2328.78 924.418 L2328.78 916.269 L2313.18 916.269 L2313.18 911.756 L2327.55 889.858 Z\\\" fill=\\\"#000000\\\" fill-rule=\\\"evenodd\\\" fill-opacity=\\\"1\\\" \\/><path clip-path=\\\"url(#clip050)\\\" d=\\\"M2280.7 749.016 Q2277.09 749.016 2275.26 752.581 Q2273.45 756.122 2273.45 763.252 Q2273.45 770.358 2275.26 773.923 Q2277.09 777.465 2280.7 777.465 Q2284.33 777.465 2286.14 773.923 Q2287.97 770.358 2287.97 763.252 Q2287.97 756.122 2286.14 752.581 Q2284.33 749.016 2280.7 749.016 M2280.7 745.312 Q2286.51 745.312 2289.57 749.919 Q2292.64 754.502 2292.64 763.252 Q2292.64 771.979 2289.57 776.585 Q2286.51 781.168 2280.7 781.168 Q2274.89 781.168 2271.81 776.585 Q2268.76 771.979 2268.76 763.252 Q2268.76 754.502 2271.81 749.919 Q2274.89 745.312 2280.7 745.312 Z\\\" fill=\\\"#000000\\\" fill-rule=\\\"evenodd\\\" fill-opacity=\\\"1\\\" \\/><path clip-path=\\\"url(#clip050)\\\" d=\\\"M2300.86 774.618 L2305.75 774.618 L2305.75 780.497 L2300.86 780.497 L2300.86 774.618 Z\\\" fill=\\\"#000000\\\" fill-rule=\\\"evenodd\\\" fill-opacity=\\\"1\\\" \\/><path clip-path=\\\"url(#clip050)\\\" d=\\\"M2315.98 745.937 L2334.33 745.937 L2334.33 749.872 L2320.26 749.872 L2320.26 758.345 Q2321.28 757.997 2322.3 757.835 Q2323.32 757.65 2324.33 757.65 Q2330.12 757.65 2333.5 760.821 Q2336.88 763.993 2336.88 769.409 Q2336.88 774.988 2333.41 778.09 Q2329.94 781.168 2323.62 781.168 Q2321.44 781.168 2319.17 780.798 Q2316.93 780.428 2314.52 779.687 L2314.52 774.988 Q2316.6 776.122 2318.83 776.678 Q2321.05 777.233 2323.52 777.233 Q2327.53 777.233 2329.87 775.127 Q2332.2 773.02 2332.2 769.409 Q2332.2 765.798 2329.87 763.692 Q2327.53 761.585 2323.52 761.585 Q2321.65 761.585 2319.77 762.002 Q2317.92 762.419 2315.98 763.298 L2315.98 745.937 Z\\\" fill=\\\"#000000\\\" fill-rule=\\\"evenodd\\\" fill-opacity=\\\"1\\\" \\/><path clip-path=\\\"url(#clip050)\\\" d=\\\"M2280.7 605.095 Q2277.09 605.095 2275.26 608.66 Q2273.45 612.202 2273.45 619.332 Q2273.45 626.438 2275.26 630.003 Q2277.09 633.544 2280.7 633.544 Q2284.33 633.544 2286.14 630.003 Q2287.97 626.438 2287.97 619.332 Q2287.97 612.202 2286.14 608.66 Q2284.33 605.095 2280.7 605.095 M2280.7 601.392 Q2286.51 601.392 2289.57 605.998 Q2292.64 610.582 2292.64 619.332 Q2292.64 628.058 2289.57 632.665 Q2286.51 637.248 2280.7 637.248 Q2274.89 637.248 2271.81 632.665 Q2268.76 628.058 2268.76 619.332 Q2268.76 610.582 2271.81 605.998 Q2274.89 601.392 2280.7 601.392 Z\\\" fill=\\\"#000000\\\" fill-rule=\\\"evenodd\\\" fill-opacity=\\\"1\\\" \\/><path clip-path=\\\"url(#clip050)\\\" d=\\\"M2300.86 630.697 L2305.75 630.697 L2305.75 636.577 L2300.86 636.577 L2300.86 630.697 Z\\\" fill=\\\"#000000\\\" fill-rule=\\\"evenodd\\\" fill-opacity=\\\"1\\\" \\/><path clip-path=\\\"url(#clip050)\\\" d=\\\"M2326.51 617.433 Q2323.36 617.433 2321.51 619.586 Q2319.68 621.739 2319.68 625.489 Q2319.68 629.216 2321.51 631.392 Q2323.36 633.544 2326.51 633.544 Q2329.66 633.544 2331.49 631.392 Q2333.34 629.216 2333.34 625.489 Q2333.34 621.739 2331.49 619.586 Q2329.66 617.433 2326.51 617.433 M2335.79 602.781 L2335.79 607.04 Q2334.03 606.207 2332.23 605.767 Q2330.45 605.327 2328.69 605.327 Q2324.06 605.327 2321.6 608.452 Q2319.17 611.577 2318.83 617.896 Q2320.19 615.882 2322.25 614.818 Q2324.31 613.73 2326.79 613.73 Q2332 613.73 2335.01 616.901 Q2338.04 620.049 2338.04 625.489 Q2338.04 630.813 2334.89 634.031 Q2331.74 637.248 2326.51 637.248 Q2320.51 637.248 2317.34 632.665 Q2314.17 628.058 2314.17 619.332 Q2314.17 611.137 2318.06 606.276 Q2321.95 601.392 2328.5 601.392 Q2330.26 601.392 2332.04 601.739 Q2333.85 602.086 2335.79 602.781 Z\\\" fill=\\\"#000000\\\" fill-rule=\\\"evenodd\\\" fill-opacity=\\\"1\\\" \\/><path clip-path=\\\"url(#clip050)\\\" d=\\\"M2280.7 461.175 Q2277.09 461.175 2275.26 464.74 Q2273.45 468.282 2273.45 475.411 Q2273.45 482.518 2275.26 486.082 Q2277.09 489.624 2280.7 489.624 Q2284.33 489.624 2286.14 486.082 Q2287.97 482.518 2287.97 475.411 Q2287.97 468.282 2286.14 464.74 Q2284.33 461.175 2280.7 461.175 M2280.7 457.471 Q2286.51 457.471 2289.57 462.078 Q2292.64 466.661 2292.64 475.411 Q2292.64 484.138 2289.57 488.744 Q2286.51 493.328 2280.7 493.328 Q2274.89 493.328 2271.81 488.744 Q2268.76 484.138 2268.76 475.411 Q2268.76 466.661 2271.81 462.078 Q2274.89 457.471 2280.7 457.471 Z\\\" fill=\\\"#000000\\\" fill-rule=\\\"evenodd\\\" fill-opacity=\\\"1\\\" \\/><path clip-path=\\\"url(#clip050)\\\" d=\\\"M2300.86 486.777 L2305.75 486.777 L2305.75 492.656 L2300.86 492.656 L2300.86 486.777 Z\\\" fill=\\\"#000000\\\" fill-rule=\\\"evenodd\\\" fill-opacity=\\\"1\\\" \\/><path clip-path=\\\"url(#clip050)\\\" d=\\\"M2314.75 458.096 L2336.97 458.096 L2336.97 460.087 L2324.43 492.656 L2319.54 492.656 L2331.35 462.032 L2314.75 462.032 L2314.75 458.096 Z\\\" fill=\\\"#000000\\\" fill-rule=\\\"evenodd\\\" fill-opacity=\\\"1\\\" \\/><path clip-path=\\\"url(#clip050)\\\" d=\\\"M2280.7 317.255 Q2277.09 317.255 2275.26 320.82 Q2273.45 324.361 2273.45 331.491 Q2273.45 338.597 2275.26 342.162 Q2277.09 345.704 2280.7 345.704 Q2284.33 345.704 2286.14 342.162 Q2287.97 338.597 2287.97 331.491 Q2287.97 324.361 2286.14 320.82 Q2284.33 317.255 2280.7 317.255 M2280.7 313.551 Q2286.51 313.551 2289.57 318.158 Q2292.64 322.741 2292.64 331.491 Q2292.64 340.218 2289.57 344.824 Q2286.51 349.407 2280.7 349.407 Q2274.89 349.407 2271.81 344.824 Q2268.76 340.218 2268.76 331.491 Q2268.76 322.741 2271.81 318.158 Q2274.89 313.551 2280.7 313.551 Z\\\" fill=\\\"#000000\\\" fill-rule=\\\"evenodd\\\" fill-opacity=\\\"1\\\" \\/><path clip-path=\\\"url(#clip050)\\\" d=\\\"M2300.86 342.856 L2305.75 342.856 L2305.75 348.736 L2300.86 348.736 L2300.86 342.856 Z\\\" fill=\\\"#000000\\\" fill-rule=\\\"evenodd\\\" fill-opacity=\\\"1\\\" \\/><path clip-path=\\\"url(#clip050)\\\" d=\\\"M2325.93 332.324 Q2322.6 332.324 2320.68 334.106 Q2318.78 335.889 2318.78 339.014 Q2318.78 342.139 2320.68 343.921 Q2322.6 345.704 2325.93 345.704 Q2329.26 345.704 2331.19 343.921 Q2333.11 342.116 2333.11 339.014 Q2333.11 335.889 2331.19 334.106 Q2329.29 332.324 2325.93 332.324 M2321.26 330.333 Q2318.25 329.593 2316.56 327.532 Q2314.89 325.472 2314.89 322.509 Q2314.89 318.366 2317.83 315.958 Q2320.79 313.551 2325.93 313.551 Q2331.09 313.551 2334.03 315.958 Q2336.97 318.366 2336.97 322.509 Q2336.97 325.472 2335.28 327.532 Q2333.62 329.593 2330.63 330.333 Q2334.01 331.12 2335.89 333.412 Q2337.78 335.704 2337.78 339.014 Q2337.78 344.037 2334.7 346.722 Q2331.65 349.407 2325.93 349.407 Q2320.21 349.407 2317.14 346.722 Q2314.08 344.037 2314.08 339.014 Q2314.08 335.704 2315.98 333.412 Q2317.88 331.12 2321.26 330.333 M2319.54 322.949 Q2319.54 325.634 2321.21 327.139 Q2322.9 328.644 2325.93 328.644 Q2328.94 328.644 2330.63 327.139 Q2332.34 325.634 2332.34 322.949 Q2332.34 320.264 2330.63 318.759 Q2328.94 317.255 2325.93 317.255 Q2322.9 317.255 2321.21 318.759 Q2319.54 320.264 2319.54 322.949 Z\\\" fill=\\\"#000000\\\" fill-rule=\\\"evenodd\\\" fill-opacity=\\\"1\\\" \\/><path clip-path=\\\"url(#clip050)\\\" d=\\\"M2280.7 173.334 Q2277.09 173.334 2275.26 176.899 Q2273.45 180.441 2273.45 187.57 Q2273.45 194.677 2275.26 198.242 Q2277.09 201.783 2280.7 201.783 Q2284.33 201.783 2286.14 198.242 Q2287.97 194.677 2287.97 187.57 Q2287.97 180.441 2286.14 176.899 Q2284.33 173.334 2280.7 173.334 M2280.7 169.631 Q2286.51 169.631 2289.57 174.237 Q2292.64 178.82 2292.64 187.57 Q2292.64 196.297 2289.57 200.904 Q2286.51 205.487 2280.7 205.487 Q2274.89 205.487 2271.81 200.904 Q2268.76 196.297 2268.76 187.57 Q2268.76 178.82 2271.81 174.237 Q2274.89 169.631 2280.7 169.631 Z\\\" fill=\\\"#000000\\\" fill-rule=\\\"evenodd\\\" fill-opacity=\\\"1\\\" \\/><path clip-path=\\\"url(#clip050)\\\" d=\\\"M2300.86 198.936 L2305.75 198.936 L2305.75 204.816 L2300.86 204.816 L2300.86 198.936 Z\\\" fill=\\\"#000000\\\" fill-rule=\\\"evenodd\\\" fill-opacity=\\\"1\\\" \\/><path clip-path=\\\"url(#clip050)\\\" d=\\\"M2316.07 204.098 L2316.07 199.839 Q2317.83 200.672 2319.64 201.112 Q2321.44 201.552 2323.18 201.552 Q2327.81 201.552 2330.24 198.45 Q2332.69 195.325 2333.04 188.982 Q2331.7 190.973 2329.64 192.038 Q2327.58 193.103 2325.08 193.103 Q2319.89 193.103 2316.86 189.978 Q2313.85 186.83 2313.85 181.39 Q2313.85 176.066 2317 172.848 Q2320.14 169.631 2325.38 169.631 Q2331.37 169.631 2334.52 174.237 Q2337.69 178.82 2337.69 187.57 Q2337.69 195.742 2333.8 200.626 Q2329.94 205.487 2323.39 205.487 Q2321.63 205.487 2319.82 205.14 Q2318.01 204.793 2316.07 204.098 M2325.38 189.445 Q2328.52 189.445 2330.35 187.293 Q2332.2 185.14 2332.2 181.39 Q2332.2 177.663 2330.35 175.51 Q2328.52 173.334 2325.38 173.334 Q2322.23 173.334 2320.38 175.51 Q2318.55 177.663 2318.55 181.39 Q2318.55 185.14 2320.38 187.293 Q2322.23 189.445 2325.38 189.445 Z\\\" fill=\\\"#000000\\\" fill-rule=\\\"evenodd\\\" fill-opacity=\\\"1\\\" \\/><path clip-path=\\\"url(#clip050)\\\" d=\\\"M2269.43 56.9601 L2277.07 56.9601 L2277.07 30.5945 L2268.76 32.2612 L2268.76 28.002 L2277.02 26.3353 L2281.7 26.3353 L2281.7 56.9601 L2289.33 56.9601 L2289.33 60.8953 L2269.43 60.8953 L2269.43 56.9601 Z\\\" fill=\\\"#000000\\\" fill-rule=\\\"evenodd\\\" fill-opacity=\\\"1\\\" \\/><path clip-path=\\\"url(#clip050)\\\" d=\\\"M2298.78 55.0157 L2303.66 55.0157 L2303.66 60.8953 L2298.78 60.8953 L2298.78 55.0157 Z\\\" fill=\\\"#000000\\\" fill-rule=\\\"evenodd\\\" fill-opacity=\\\"1\\\" \\/><path clip-path=\\\"url(#clip050)\\\" d=\\\"M2323.85 29.414 Q2320.24 29.414 2318.41 32.9788 Q2316.6 36.5204 2316.6 43.65 Q2316.6 50.7565 2318.41 54.3213 Q2320.24 57.8629 2323.85 57.8629 Q2327.48 57.8629 2329.29 54.3213 Q2331.12 50.7565 2331.12 43.65 Q2331.12 36.5204 2329.29 32.9788 Q2327.48 29.414 2323.85 29.414 M2323.85 25.7103 Q2329.66 25.7103 2332.71 30.3168 Q2335.79 34.9001 2335.79 43.65 Q2335.79 52.3768 2332.71 56.9833 Q2329.66 61.5666 2323.85 61.5666 Q2318.04 61.5666 2314.96 56.9833 Q2311.9 52.3768 2311.9 43.65 Q2311.9 34.9001 2314.96 30.3168 Q2318.04 25.7103 2323.85 25.7103 Z\\\" fill=\\\"#000000\\\" fill-rule=\\\"evenodd\\\" fill-opacity=\\\"1\\\" \\/><polyline clip-path=\\\"url(#clip050)\\\" style=\\\"stroke:#000000; stroke-linecap:butt; stroke-linejoin:round; stroke-width:4; stroke-opacity:1; fill:none\\\" points=\\\"\\n  2232.76,1486.45 2232.76,1486.45 2256.76,1486.45 2232.76,1486.45 2232.76,1342.53 2256.76,1342.53 2232.76,1342.53 2232.76,1198.61 2256.76,1198.61 2232.76,1198.61 \\n  2232.76,1054.69 2256.76,1054.69 2232.76,1054.69 2232.76,910.766 2256.76,910.766 2232.76,910.766 2232.76,766.846 2256.76,766.846 2232.76,766.846 2232.76,622.926 \\n  2256.76,622.926 2232.76,622.926 2232.76,479.005 2256.76,479.005 2232.76,479.005 2232.76,335.085 2256.76,335.085 2232.76,335.085 2232.76,191.164 2256.76,191.164 \\n  2232.76,191.164 2232.76,47.2441 2256.76,47.2441 2232.76,47.2441 \\n  \\\"\\/>\\n<path clip-path=\\\"url(#clip050)\\\" d=\\\"\\nM208.987 1438.47 L439.249 1438.47 L439.249 1282.95 L208.987 1282.95  Z\\n  \\\" fill=\\\"#ffffff\\\" fill-rule=\\\"evenodd\\\" fill-opacity=\\\"1\\\"\\/>\\n<polyline clip-path=\\\"url(#clip050)\\\" style=\\\"stroke:#000000; stroke-linecap:butt; stroke-linejoin:round; stroke-width:4; stroke-opacity:1; fill:none\\\" points=\\\"\\n  208.987,1438.47 439.249,1438.47 439.249,1282.95 208.987,1282.95 208.987,1438.47 \\n  \\\"\\/>\\n<circle clip-path=\\\"url(#clip050)\\\" cx=\\\"291\\\" cy=\\\"1334.79\\\" r=\\\"23\\\" fill=\\\"#009af9\\\" fill-rule=\\\"evenodd\\\" fill-opacity=\\\"1\\\" stroke=\\\"#000000\\\" stroke-opacity=\\\"1\\\" stroke-width=\\\"5.12\\\"\\/>\\n<path clip-path=\\\"url(#clip050)\\\" d=\\\"M397.665 1326.15 L388.29 1338.76 L398.151 1352.07 L393.128 1352.07 L385.581 1341.89 L378.035 1352.07 L373.012 1352.07 L383.081 1338.51 L373.868 1326.15 L378.891 1326.15 L385.766 1335.38 L392.641 1326.15 L397.665 1326.15 Z\\\" fill=\\\"#000000\\\" fill-rule=\\\"evenodd\\\" fill-opacity=\\\"1\\\" \\/><circle clip-path=\\\"url(#clip050)\\\" cx=\\\"291\\\" cy=\\\"1386.63\\\" r=\\\"23\\\" fill=\\\"#e26f46\\\" fill-rule=\\\"evenodd\\\" fill-opacity=\\\"1\\\" stroke=\\\"#000000\\\" stroke-opacity=\\\"1\\\" stroke-width=\\\"5.12\\\"\\/>\\n<path clip-path=\\\"url(#clip050)\\\" d=\\\"M386.854 1406.32 Q385.049 1410.95 383.336 1412.36 Q381.623 1413.78 378.753 1413.78 L375.35 1413.78 L375.35 1410.21 L377.85 1410.21 Q379.609 1410.21 380.581 1409.38 Q381.554 1408.54 382.734 1405.44 L383.498 1403.5 L373.012 1377.99 L377.526 1377.99 L385.628 1398.27 L393.729 1377.99 L398.243 1377.99 L386.854 1406.32 Z\\\" fill=\\\"#000000\\\" fill-rule=\\\"evenodd\\\" fill-opacity=\\\"1\\\" \\/><\\/svg>\\n\"},\"nodeType\":\"DOM\",\"type\":\"node\",\"instanceArgs\":{\"namespace\":\"html\",\"tag\":\"div\"},\"children\":[]}]}}}},\"children\":[{\"props\":{},\"nodeType\":\"ObservableNode\",\"type\":\"node\",\"instanceArgs\":{\"id\":\"1111842200871379214\",\"name\":\"obs-node\"},\"children\":[]}]}]},\n",
       "        window,\n",
       "    );\n",
       "    })()\n",
       "    </script>\n",
       "</div>\n"
      ],
      "text/plain": [
       "Node{WebIO.DOM}(WebIO.DOM(:html, :div), Any[Node{WebIO.DOM}(WebIO.DOM(:html, :div), Any[Scope(Node{WebIO.DOM}(WebIO.DOM(:html, :div), Any[Node{WebIO.DOM}(WebIO.DOM(:html, :div), Any[Node{WebIO.DOM}(WebIO.DOM(:html, :label), Any[\"x\"], Dict{Symbol, Any}(:className => \"interact \", :style => Dict{Any, Any}(:padding => \"5px 10px 0px 10px\")))], Dict{Symbol, Any}(:className => \"interact-flex-row-left\")), Node{WebIO.DOM}(WebIO.DOM(:html, :div), Any[Node{WebIO.DOM}(WebIO.DOM(:html, :input), Any[], Dict{Symbol, Any}(:max => 40, :min => 1, :attributes => Dict{Any, Any}(:type => \"range\", Symbol(\"data-bind\") => \"numericValue: index, valueUpdate: 'input', event: {change: function (){this.changes(this.changes()+1)}}\", \"orient\" => \"horizontal\"), :step => 1, :className => \"slider slider is-fullwidth\", :style => Dict{Any, Any}()))], Dict{Symbol, Any}(:className => \"interact-flex-row-center\")), Node{WebIO.DOM}(WebIO.DOM(:html, :div), Any[Node{WebIO.DOM}(WebIO.DOM(:html, :p), Any[], Dict{Symbol, Any}(:attributes => Dict(\"data-bind\" => \"text: formatted_val\")))], Dict{Symbol, Any}(:className => \"interact-flex-row-right\"))], Dict{Symbol, Any}(:className => \"interact-flex-row interact-widget\")), Dict{String, Tuple{Observables.AbstractObservable, Union{Nothing, Bool}}}(\"changes\" => (Observable{Int64} with 1 listeners. Value:\n",
       "0, nothing), \"index\" => (Observable{Any} with 2 listeners. Value:\n",
       "20, nothing)), Set{String}(), nothing, Asset[Asset(\"js\", \"knockout\", \"/Users/sheehanolver/.julia/packages/Knockout/3gjS1/src/../assets/knockout.js\"), Asset(\"js\", \"knockout_punches\", \"/Users/sheehanolver/.julia/packages/Knockout/3gjS1/src/../assets/knockout_punches.js\"), Asset(\"js\", nothing, \"/Users/sheehanolver/.julia/packages/InteractBase/o1I6G/src/../assets/all.js\"), Asset(\"css\", nothing, \"/Users/sheehanolver/.julia/packages/InteractBase/o1I6G/src/../assets/style.css\"), Asset(\"css\", nothing, \"/Users/sheehanolver/.julia/packages/Interact/pVyN2/src/../assets/bulma_confined.min.css\")], Dict{Any, Any}(\"changes\" => Any[WebIO.JSString(\"(function (val){return (val!=this.model[\\\"changes\\\"]()) ? (this.valueFromJulia[\\\"changes\\\"]=true, this.model[\\\"changes\\\"](val)) : undefined})\")], \"index\" => Any[WebIO.JSString(\"(function (val){return (val!=this.model[\\\"index\\\"]()) ? (this.valueFromJulia[\\\"index\\\"]=true, this.model[\\\"index\\\"](val)) : undefined})\")]), WebIO.ConnectionPool(Channel{Any}(32), Set{AbstractConnection}(), Condition(Base.InvasiveLinkedList{Task}(Task (runnable) @0x000000013d9a7340, Task (runnable) @0x000000013d9a7340), Base.AlwaysLockedST(1))), WebIO.JSString[WebIO.JSString(\"function () {\\n    var handler = (function (ko, koPunches) {\\n    ko.punches.enableAll();\\n    ko.bindingHandlers.numericValue = {\\n        init: function(element, valueAccessor, allBindings, data, context) {\\n            var stringified = ko.observable(ko.unwrap(valueAccessor()));\\n            stringified.subscribe(function(value) {\\n                var val = parseFloat(value);\\n                if (!isNaN(val)) {\\n                    valueAccessor()(val);\\n                }\\n            });\\n            valueAccessor().subscribe(function(value) {\\n                var str = JSON.stringify(value);\\n                if ((str == \\\"0\\\") && ([\\\"-0\\\", \\\"-0.\\\"].indexOf(stringified()) >= 0))\\n                     return;\\n                 if ([\\\"null\\\", \\\"\\\"].indexOf(str) >= 0)\\n                     return;\\n                stringified(str);\\n            });\\n            ko.applyBindingsToNode(\\n                element,\\n                {\\n                    value: stringified,\\n                    valueUpdate: allBindings.get('valueUpdate'),\\n                },\\n                context,\\n            );\\n        }\\n    };\\n    var json_data = {\\\"formatted_vals\\\":[\\\"-1.9\\\",\\\"-1.8\\\",\\\"-1.7\\\",\\\"-1.6\\\",\\\"-1.5\\\",\\\"-1.4\\\",\\\"-1.3\\\",\\\"-1.2\\\",\\\"-1.1\\\",\\\"-1.0\\\",\\\"-0.9\\\",\\\"-0.8\\\",\\\"-0.7\\\",\\\"-0.6\\\",\\\"-0.5\\\",\\\"-0.4\\\",\\\"-0.3\\\",\\\"-0.2\\\",\\\"-0.1\\\",\\\"0.0\\\",\\\"0.1\\\",\\\"0.2\\\",\\\"0.3\\\",\\\"0.4\\\",\\\"0.5\\\",\\\"0.6\\\",\\\"0.7\\\",\\\"0.8\\\",\\\"0.9\\\",\\\"1.0\\\",\\\"1.1\\\",\\\"1.2\\\",\\\"1.3\\\",\\\"1.4\\\",\\\"1.5\\\",\\\"1.6\\\",\\\"1.7\\\",\\\"1.8\\\",\\\"1.9\\\",\\\"2.0\\\"],\\\"changes\\\":WebIO.getval({\\\"name\\\":\\\"changes\\\",\\\"scope\\\":\\\"10960401125933627339\\\",\\\"id\\\":\\\"1944844972814111457\\\",\\\"type\\\":\\\"observable\\\"}),\\\"index\\\":WebIO.getval({\\\"name\\\":\\\"index\\\",\\\"scope\\\":\\\"10960401125933627339\\\",\\\"id\\\":\\\"12221569426109409221\\\",\\\"type\\\":\\\"observable\\\"})};\\n    var self = this;\\n    function AppViewModel() {\\n        for (var key in json_data) {\\n            var el = json_data[key];\\n            this[key] = Array.isArray(el) ? ko.observableArray(el) : ko.observable(el);\\n        }\\n        \\n        [this[\\\"formatted_val\\\"]=ko.computed(    function(){\\n        return this.formatted_vals()[parseInt(this.index())-(1)];\\n    }\\n,this)]\\n        [this[\\\"changes\\\"].subscribe((function (val){!(this.valueFromJulia[\\\"changes\\\"]) ? (WebIO.setval({\\\"name\\\":\\\"changes\\\",\\\"scope\\\":\\\"10960401125933627339\\\",\\\"id\\\":\\\"1944844972814111457\\\",\\\"type\\\":\\\"observable\\\"},val)) : undefined; return this.valueFromJulia[\\\"changes\\\"]=false}),self),this[\\\"index\\\"].subscribe((function (val){!(this.valueFromJulia[\\\"index\\\"]) ? (WebIO.setval({\\\"name\\\":\\\"index\\\",\\\"scope\\\":\\\"10960401125933627339\\\",\\\"id\\\":\\\"12221569426109409221\\\",\\\"type\\\":\\\"observable\\\"},val)) : undefined; return this.valueFromJulia[\\\"index\\\"]=false}),self)]\\n        \\n    }\\n    self.model = new AppViewModel();\\n    self.valueFromJulia = {};\\n    for (var key in json_data) {\\n        self.valueFromJulia[key] = false;\\n    }\\n    ko.applyBindings(self.model, self.dom);\\n}\\n);\\n    (WebIO.importBlock({\\\"data\\\":[{\\\"name\\\":\\\"knockout\\\",\\\"type\\\":\\\"js\\\",\\\"url\\\":\\\"/assetserver/fb6ca08aae97daeb80aa99104c4eddfe76bc6766-knockout.js\\\"},{\\\"name\\\":\\\"knockout_punches\\\",\\\"type\\\":\\\"js\\\",\\\"url\\\":\\\"/assetserver/1759964e1dbcc22fe1a19531f6579c45d2da7d3e-knockout_punches.js\\\"}],\\\"type\\\":\\\"async_block\\\"})).then((imports) => handler.apply(this, imports));\\n}\\n\")])], Dict{Symbol, Any}(:className => \"field interact-widget\")), Node{WebIO.DOM}(WebIO.DOM(:html, :div), Any[Scope(Node{WebIO.DOM}(WebIO.DOM(:html, :div), Any[Node{WebIO.DOM}(WebIO.DOM(:html, :div), Any[Node{WebIO.DOM}(WebIO.DOM(:html, :label), Any[\"y\"], Dict{Symbol, Any}(:className => \"interact \", :style => Dict{Any, Any}(:padding => \"5px 10px 0px 10px\")))], Dict{Symbol, Any}(:className => \"interact-flex-row-left\")), Node{WebIO.DOM}(WebIO.DOM(:html, :div), Any[Node{WebIO.DOM}(WebIO.DOM(:html, :input), Any[], Dict{Symbol, Any}(:max => 40, :min => 1, :attributes => Dict{Any, Any}(:type => \"range\", Symbol(\"data-bind\") => \"numericValue: index, valueUpdate: 'input', event: {change: function (){this.changes(this.changes()+1)}}\", \"orient\" => \"horizontal\"), :step => 1, :className => \"slider slider is-fullwidth\", :style => Dict{Any, Any}()))], Dict{Symbol, Any}(:className => \"interact-flex-row-center\")), Node{WebIO.DOM}(WebIO.DOM(:html, :div), Any[Node{WebIO.DOM}(WebIO.DOM(:html, :p), Any[], Dict{Symbol, Any}(:attributes => Dict(\"data-bind\" => \"text: formatted_val\")))], Dict{Symbol, Any}(:className => \"interact-flex-row-right\"))], Dict{Symbol, Any}(:className => \"interact-flex-row interact-widget\")), Dict{String, Tuple{Observables.AbstractObservable, Union{Nothing, Bool}}}(\"changes\" => (Observable{Int64} with 1 listeners. Value:\n",
       "0, nothing), \"index\" => (Observable{Any} with 2 listeners. Value:\n",
       "20, nothing)), Set{String}(), nothing, Asset[Asset(\"js\", \"knockout\", \"/Users/sheehanolver/.julia/packages/Knockout/3gjS1/src/../assets/knockout.js\"), Asset(\"js\", \"knockout_punches\", \"/Users/sheehanolver/.julia/packages/Knockout/3gjS1/src/../assets/knockout_punches.js\"), Asset(\"js\", nothing, \"/Users/sheehanolver/.julia/packages/InteractBase/o1I6G/src/../assets/all.js\"), Asset(\"css\", nothing, \"/Users/sheehanolver/.julia/packages/InteractBase/o1I6G/src/../assets/style.css\"), Asset(\"css\", nothing, \"/Users/sheehanolver/.julia/packages/Interact/pVyN2/src/../assets/bulma_confined.min.css\")], Dict{Any, Any}(\"changes\" => Any[WebIO.JSString(\"(function (val){return (val!=this.model[\\\"changes\\\"]()) ? (this.valueFromJulia[\\\"changes\\\"]=true, this.model[\\\"changes\\\"](val)) : undefined})\")], \"index\" => Any[WebIO.JSString(\"(function (val){return (val!=this.model[\\\"index\\\"]()) ? (this.valueFromJulia[\\\"index\\\"]=true, this.model[\\\"index\\\"](val)) : undefined})\")]), WebIO.ConnectionPool(Channel{Any}(32), Set{AbstractConnection}(), Condition(Base.InvasiveLinkedList{Task}(Task (runnable) @0x000000013dae0e80, Task (runnable) @0x000000013dae0e80), Base.AlwaysLockedST(1))), WebIO.JSString[WebIO.JSString(\"function () {\\n    var handler = (function (ko, koPunches) {\\n    ko.punches.enableAll();\\n    ko.bindingHandlers.numericValue = {\\n        init: function(element, valueAccessor, allBindings, data, context) {\\n            var stringified = ko.observable(ko.unwrap(valueAccessor()));\\n            stringified.subscribe(function(value) {\\n                var val = parseFloat(value);\\n                if (!isNaN(val)) {\\n                    valueAccessor()(val);\\n                }\\n            });\\n            valueAccessor().subscribe(function(value) {\\n                var str = JSON.stringify(value);\\n                if ((str == \\\"0\\\") && ([\\\"-0\\\", \\\"-0.\\\"].indexOf(stringified()) >= 0))\\n                     return;\\n                 if ([\\\"null\\\", \\\"\\\"].indexOf(str) >= 0)\\n                     return;\\n                stringified(str);\\n            });\\n            ko.applyBindingsToNode(\\n                element,\\n                {\\n                    value: stringified,\\n                    valueUpdate: allBindings.get('valueUpdate'),\\n                },\\n                context,\\n            );\\n        }\\n    };\\n    var json_data = {\\\"formatted_vals\\\":[\\\"-1.9\\\",\\\"-1.8\\\",\\\"-1.7\\\",\\\"-1.6\\\",\\\"-1.5\\\",\\\"-1.4\\\",\\\"-1.3\\\",\\\"-1.2\\\",\\\"-1.1\\\",\\\"-1.0\\\",\\\"-0.9\\\",\\\"-0.8\\\",\\\"-0.7\\\",\\\"-0.6\\\",\\\"-0.5\\\",\\\"-0.4\\\",\\\"-0.3\\\",\\\"-0.2\\\",\\\"-0.1\\\",\\\"0.0\\\",\\\"0.1\\\",\\\"0.2\\\",\\\"0.3\\\",\\\"0.4\\\",\\\"0.5\\\",\\\"0.6\\\",\\\"0.7\\\",\\\"0.8\\\",\\\"0.9\\\",\\\"1.0\\\",\\\"1.1\\\",\\\"1.2\\\",\\\"1.3\\\",\\\"1.4\\\",\\\"1.5\\\",\\\"1.6\\\",\\\"1.7\\\",\\\"1.8\\\",\\\"1.9\\\",\\\"2.0\\\"],\\\"changes\\\":WebIO.getval({\\\"name\\\":\\\"changes\\\",\\\"scope\\\":\\\"8872045198623905502\\\",\\\"id\\\":\\\"3144036643842626078\\\",\\\"type\\\":\\\"observable\\\"}),\\\"index\\\":WebIO.getval({\\\"name\\\":\\\"index\\\",\\\"scope\\\":\\\"8872045198623905502\\\",\\\"id\\\":\\\"9857793897598890138\\\",\\\"type\\\":\\\"observable\\\"})};\\n    var self = this;\\n    function AppViewModel() {\\n        for (var key in json_data) {\\n            var el = json_data[key];\\n            this[key] = Array.isArray(el) ? ko.observableArray(el) : ko.observable(el);\\n        }\\n        \\n        [this[\\\"formatted_val\\\"]=ko.computed(    function(){\\n        return this.formatted_vals()[parseInt(this.index())-(1)];\\n    }\\n,this)]\\n        [this[\\\"changes\\\"].subscribe((function (val){!(this.valueFromJulia[\\\"changes\\\"]) ? (WebIO.setval({\\\"name\\\":\\\"changes\\\",\\\"scope\\\":\\\"8872045198623905502\\\",\\\"id\\\":\\\"3144036643842626078\\\",\\\"type\\\":\\\"observable\\\"},val)) : undefined; return this.valueFromJulia[\\\"changes\\\"]=false}),self),this[\\\"index\\\"].subscribe((function (val){!(this.valueFromJulia[\\\"index\\\"]) ? (WebIO.setval({\\\"name\\\":\\\"index\\\",\\\"scope\\\":\\\"8872045198623905502\\\",\\\"id\\\":\\\"9857793897598890138\\\",\\\"type\\\":\\\"observable\\\"},val)) : undefined; return this.valueFromJulia[\\\"index\\\"]=false}),self)]\\n        \\n    }\\n    self.model = new AppViewModel();\\n    self.valueFromJulia = {};\\n    for (var key in json_data) {\\n        self.valueFromJulia[key] = false;\\n    }\\n    ko.applyBindings(self.model, self.dom);\\n}\\n);\\n    (WebIO.importBlock({\\\"data\\\":[{\\\"name\\\":\\\"knockout\\\",\\\"type\\\":\\\"js\\\",\\\"url\\\":\\\"/assetserver/fb6ca08aae97daeb80aa99104c4eddfe76bc6766-knockout.js\\\"},{\\\"name\\\":\\\"knockout_punches\\\",\\\"type\\\":\\\"js\\\",\\\"url\\\":\\\"/assetserver/1759964e1dbcc22fe1a19531f6579c45d2da7d3e-knockout_punches.js\\\"}],\\\"type\\\":\\\"async_block\\\"})).then((imports) => handler.apply(this, imports));\\n}\\n\")])], Dict{Symbol, Any}(:className => \"field interact-widget\")), Node{WebIO.DOM}(WebIO.DOM(:html, :div), Any[Scope(Node{WebIO.DOM}(WebIO.DOM(:html, :div), Any[Node{WebIO.DOM}(WebIO.DOM(:html, :div), Any[Node{WebIO.DOM}(WebIO.DOM(:html, :label), Any[\"z\"], Dict{Symbol, Any}(:className => \"interact \", :style => Dict{Any, Any}(:padding => \"5px 10px 0px 10px\")))], Dict{Symbol, Any}(:className => \"interact-flex-row-left\")), Node{WebIO.DOM}(WebIO.DOM(:html, :div), Any[Node{WebIO.DOM}(WebIO.DOM(:html, :input), Any[], Dict{Symbol, Any}(:max => 40, :min => 1, :attributes => Dict{Any, Any}(:type => \"range\", Symbol(\"data-bind\") => \"numericValue: index, valueUpdate: 'input', event: {change: function (){this.changes(this.changes()+1)}}\", \"orient\" => \"horizontal\"), :step => 1, :className => \"slider slider is-fullwidth\", :style => Dict{Any, Any}()))], Dict{Symbol, Any}(:className => \"interact-flex-row-center\")), Node{WebIO.DOM}(WebIO.DOM(:html, :div), Any[Node{WebIO.DOM}(WebIO.DOM(:html, :p), Any[], Dict{Symbol, Any}(:attributes => Dict(\"data-bind\" => \"text: formatted_val\")))], Dict{Symbol, Any}(:className => \"interact-flex-row-right\"))], Dict{Symbol, Any}(:className => \"interact-flex-row interact-widget\")), Dict{String, Tuple{Observables.AbstractObservable, Union{Nothing, Bool}}}(\"changes\" => (Observable{Int64} with 1 listeners. Value:\n",
       "0, nothing), \"index\" => (Observable{Any} with 2 listeners. Value:\n",
       "20, nothing)), Set{String}(), nothing, Asset[Asset(\"js\", \"knockout\", \"/Users/sheehanolver/.julia/packages/Knockout/3gjS1/src/../assets/knockout.js\"), Asset(\"js\", \"knockout_punches\", \"/Users/sheehanolver/.julia/packages/Knockout/3gjS1/src/../assets/knockout_punches.js\"), Asset(\"js\", nothing, \"/Users/sheehanolver/.julia/packages/InteractBase/o1I6G/src/../assets/all.js\"), Asset(\"css\", nothing, \"/Users/sheehanolver/.julia/packages/InteractBase/o1I6G/src/../assets/style.css\"), Asset(\"css\", nothing, \"/Users/sheehanolver/.julia/packages/Interact/pVyN2/src/../assets/bulma_confined.min.css\")], Dict{Any, Any}(\"changes\" => Any[WebIO.JSString(\"(function (val){return (val!=this.model[\\\"changes\\\"]()) ? (this.valueFromJulia[\\\"changes\\\"]=true, this.model[\\\"changes\\\"](val)) : undefined})\")], \"index\" => Any[WebIO.JSString(\"(function (val){return (val!=this.model[\\\"index\\\"]()) ? (this.valueFromJulia[\\\"index\\\"]=true, this.model[\\\"index\\\"](val)) : undefined})\")]), WebIO.ConnectionPool(Channel{Any}(32), Set{AbstractConnection}(), Condition(Base.InvasiveLinkedList{Task}(Task (runnable) @0x000000013dae1900, Task (runnable) @0x000000013dae1900), Base.AlwaysLockedST(1))), WebIO.JSString[WebIO.JSString(\"function () {\\n    var handler = (function (ko, koPunches) {\\n    ko.punches.enableAll();\\n    ko.bindingHandlers.numericValue = {\\n        init: function(element, valueAccessor, allBindings, data, context) {\\n            var stringified = ko.observable(ko.unwrap(valueAccessor()));\\n            stringified.subscribe(function(value) {\\n                var val = parseFloat(value);\\n                if (!isNaN(val)) {\\n                    valueAccessor()(val);\\n                }\\n            });\\n            valueAccessor().subscribe(function(value) {\\n                var str = JSON.stringify(value);\\n                if ((str == \\\"0\\\") && ([\\\"-0\\\", \\\"-0.\\\"].indexOf(stringified()) >= 0))\\n                     return;\\n                 if ([\\\"null\\\", \\\"\\\"].indexOf(str) >= 0)\\n                     return;\\n                stringified(str);\\n            });\\n            ko.applyBindingsToNode(\\n                element,\\n                {\\n                    value: stringified,\\n                    valueUpdate: allBindings.get('valueUpdate'),\\n                },\\n                context,\\n            );\\n        }\\n    };\\n    var json_data = {\\\"formatted_vals\\\":[\\\"-1.9\\\",\\\"-1.8\\\",\\\"-1.7\\\",\\\"-1.6\\\",\\\"-1.5\\\",\\\"-1.4\\\",\\\"-1.3\\\",\\\"-1.2\\\",\\\"-1.1\\\",\\\"-1.0\\\",\\\"-0.9\\\",\\\"-0.8\\\",\\\"-0.7\\\",\\\"-0.6\\\",\\\"-0.5\\\",\\\"-0.4\\\",\\\"-0.3\\\",\\\"-0.2\\\",\\\"-0.1\\\",\\\"0.0\\\",\\\"0.1\\\",\\\"0.2\\\",\\\"0.3\\\",\\\"0.4\\\",\\\"0.5\\\",\\\"0.6\\\",\\\"0.7\\\",\\\"0.8\\\",\\\"0.9\\\",\\\"1.0\\\",\\\"1.1\\\",\\\"1.2\\\",\\\"1.3\\\",\\\"1.4\\\",\\\"1.5\\\",\\\"1.6\\\",\\\"1.7\\\",\\\"1.8\\\",\\\"1.9\\\",\\\"2.0\\\"],\\\"changes\\\":WebIO.getval({\\\"name\\\":\\\"changes\\\",\\\"scope\\\":\\\"10955116185814510155\\\",\\\"id\\\":\\\"14328492106173526680\\\",\\\"type\\\":\\\"observable\\\"}),\\\"index\\\":WebIO.getval({\\\"name\\\":\\\"index\\\",\\\"scope\\\":\\\"10955116185814510155\\\",\\\"id\\\":\\\"3433830203541098064\\\",\\\"type\\\":\\\"observable\\\"})};\\n    var self = this;\\n    function AppViewModel() {\\n        for (var key in json_data) {\\n            var el = json_data[key];\\n            this[key] = Array.isArray(el) ? ko.observableArray(el) : ko.observable(el);\\n        }\\n        \\n        [this[\\\"formatted_val\\\"]=ko.computed(    function(){\\n        return this.formatted_vals()[parseInt(this.index())-(1)];\\n    }\\n,this)]\\n        [this[\\\"changes\\\"].subscribe((function (val){!(this.valueFromJulia[\\\"changes\\\"]) ? (WebIO.setval({\\\"name\\\":\\\"changes\\\",\\\"scope\\\":\\\"10955116185814510155\\\",\\\"id\\\":\\\"14328492106173526680\\\",\\\"type\\\":\\\"observable\\\"},val)) : undefined; return this.valueFromJulia[\\\"changes\\\"]=false}),self),this[\\\"index\\\"].subscribe((function (val){!(this.valueFromJulia[\\\"index\\\"]) ? (WebIO.setval({\\\"name\\\":\\\"index\\\",\\\"scope\\\":\\\"10955116185814510155\\\",\\\"id\\\":\\\"3433830203541098064\\\",\\\"type\\\":\\\"observable\\\"},val)) : undefined; return this.valueFromJulia[\\\"index\\\"]=false}),self)]\\n        \\n    }\\n    self.model = new AppViewModel();\\n    self.valueFromJulia = {};\\n    for (var key in json_data) {\\n        self.valueFromJulia[key] = false;\\n    }\\n    ko.applyBindings(self.model, self.dom);\\n}\\n);\\n    (WebIO.importBlock({\\\"data\\\":[{\\\"name\\\":\\\"knockout\\\",\\\"type\\\":\\\"js\\\",\\\"url\\\":\\\"/assetserver/fb6ca08aae97daeb80aa99104c4eddfe76bc6766-knockout.js\\\"},{\\\"name\\\":\\\"knockout_punches\\\",\\\"type\\\":\\\"js\\\",\\\"url\\\":\\\"/assetserver/1759964e1dbcc22fe1a19531f6579c45d2da7d3e-knockout_punches.js\\\"}],\\\"type\\\":\\\"async_block\\\"})).then((imports) => handler.apply(this, imports));\\n}\\n\")])], Dict{Symbol, Any}(:className => \"field interact-widget\")), Observable{Node{WebIO.DOM}} with 0 listeners. Value:\n",
       "Node{WebIO.DOM}(WebIO.DOM(:html, :div), Any[Plot{Plots.GRBackend() n=5}], Dict{Symbol, Any}(:className => \"interact-flex-row interact-widget\"))], Dict{Symbol, Any}())"
      ]
     },
     "execution_count": 14,
     "metadata": {
      "application/vnd.webio.node+json": {
       "kernelId": "1da4a556-aad2-4549-a8ff-2424daec2774"
      }
     },
     "output_type": "execute_result"
    }
   ],
   "source": [
    "# use Interact.jl for sliders via @manipulate\n",
    "@manipulate for x=-1.9:0.1:2, y=-1.9:0.1:2, z=-1.9:0.1:2\n",
    "    𝐱 = [x,y,z]\n",
    "    𝐲 = sign(x)norm(𝐱)*[1,0,0] + 𝐱\n",
    "\n",
    "    scatter3d([𝐱[1]], [𝐱[2]], [𝐱[3]]; label=\"x\", legend=:bottomleft, xlims=(-2,2), ylims=(-2,2), zlims=(-2,2))\n",
    "    scatter3d!([𝐲[1]], [𝐲[2]], [𝐲[3]]; label=\"y\")\n",
    "    plot!([0,𝐱[1]], [0,𝐱[2]], [0,𝐱[3]]; arrow=true, label=nothing, linecolor=:blue)\n",
    "    plot!([0,𝐲[1]], [0,𝐲[2]], [0,𝐲[3]]; arrow=true, label=nothing, linecolor=:red)\n",
    "\n",
    "    xs, ys = [-2,2], [-2,2]\n",
    "\n",
    "    Q = nullspace(𝐲')\n",
    "    a,b = svd(Q[1:2,:]') \\ Q[3,:]\n",
    "    p = (x,y) -> a*x + b*y\n",
    "\n",
    "    surface!(xs, ys, p.(xs', ys); alpha=0.5)\n",
    "end"
   ]
  },
  {
   "cell_type": "markdown",
   "id": "1cfda802",
   "metadata": {},
   "source": [
    "# 2. nullspace & QR"
   ]
  },
  {
   "cell_type": "code",
   "execution_count": 17,
   "id": "7d3d677a",
   "metadata": {},
   "outputs": [
    {
     "data": {
      "text/plain": [
       "3×2 Matrix{Float64}:\n",
       " -0.312579   -0.435032\n",
       "  0.947026   -0.0737261\n",
       " -0.0737261   0.897392"
      ]
     },
     "execution_count": 17,
     "metadata": {},
     "output_type": "execute_result"
    }
   ],
   "source": [
    "x = randn(3)\n",
    "Q = nullspace(x')"
   ]
  },
  {
   "cell_type": "code",
   "execution_count": 19,
   "id": "a08b1a65",
   "metadata": {},
   "outputs": [
    {
     "data": {
      "text/plain": [
       "1×2 adjoint(::Vector{Float64}) with eltype Float64:\n",
       " 4.85723e-17  5.55112e-17"
      ]
     },
     "execution_count": 19,
     "metadata": {},
     "output_type": "execute_result"
    }
   ],
   "source": [
    "x'*Q"
   ]
  },
  {
   "cell_type": "code",
   "execution_count": 20,
   "id": "f2dce473",
   "metadata": {},
   "outputs": [
    {
     "data": {
      "text/plain": [
       "3×5 Matrix{Float64}:\n",
       " -1.92751   0.805431   0.0607317  -0.429444   0.276918\n",
       "  0.497713  0.335423  -1.35182     0.0984736  1.21255\n",
       " -0.297309  0.858589   0.853053    1.51698    0.512603"
      ]
     },
     "execution_count": 20,
     "metadata": {},
     "output_type": "execute_result"
    }
   ],
   "source": [
    "A = randn(3, 5)"
   ]
  },
  {
   "cell_type": "code",
   "execution_count": 23,
   "id": "76c6be5e",
   "metadata": {},
   "outputs": [
    {
     "data": {
      "text/plain": [
       "3×2 Matrix{Float64}:\n",
       "  1.11765e-17   8.64739e-17\n",
       "  2.26358e-16   7.77359e-17\n",
       " -8.2989e-17   -8.80754e-17"
      ]
     },
     "execution_count": 23,
     "metadata": {},
     "output_type": "execute_result"
    }
   ],
   "source": [
    "Q = nullspace(A)\n",
    "A*Q"
   ]
  },
  {
   "cell_type": "code",
   "execution_count": 26,
   "id": "b06c100f",
   "metadata": {},
   "outputs": [
    {
     "data": {
      "text/plain": [
       "5×5 Matrix{Float64}:\n",
       " -1.92751     0.497713   -0.297309  1.0  0.0\n",
       "  0.805431    0.335423    0.858589  0.0  1.0\n",
       "  0.0607317  -1.35182     0.853053  0.0  0.0\n",
       " -0.429444    0.0984736   1.51698   0.0  0.0\n",
       "  0.276918    1.21255     0.512603  0.0  0.0"
      ]
     },
     "execution_count": 26,
     "metadata": {},
     "output_type": "execute_result"
    }
   ],
   "source": [
    "At_ex = [A' Matrix(I, 5, 2)]"
   ]
  },
  {
   "cell_type": "code",
   "execution_count": 27,
   "id": "c6c3e6a0",
   "metadata": {},
   "outputs": [
    {
     "data": {
      "text/plain": [
       "LinearAlgebra.QRCompactWY{Float64, Matrix{Float64}}\n",
       "Q factor:\n",
       "5×5 LinearAlgebra.QRCompactWYQ{Float64, Matrix{Float64}}:\n",
       " -0.895905   -0.157057   -0.0260085   0.414742    2.77556e-17\n",
       "  0.374364   -0.220043   -0.369692    0.702172   -0.426281\n",
       "  0.0282281   0.707373   -0.393178    0.304193    0.501701\n",
       " -0.199606   -0.0284649  -0.800154   -0.492135   -0.277316\n",
       "  0.128712   -0.652478   -0.260414    0.0146214   0.699769\n",
       "R factor:\n",
       "5×5 Matrix{Float64}:\n",
       " 2.15146  -0.222079   0.375046   -0.895905    0.374364\n",
       " 0.0      -1.90218    0.0835515  -0.157057   -0.220043\n",
       " 0.0       0.0       -1.99239    -0.0260085  -0.369692\n",
       " 0.0       0.0        0.0         0.414742    0.702172\n",
       " 0.0       0.0        0.0         0.0        -0.426281"
      ]
     },
     "execution_count": 27,
     "metadata": {},
     "output_type": "execute_result"
    }
   ],
   "source": [
    "Q,R = qr(At_ex)"
   ]
  },
  {
   "cell_type": "code",
   "execution_count": 32,
   "id": "8d7df5a8",
   "metadata": {},
   "outputs": [
    {
     "data": {
      "text/plain": [
       "5×2 Matrix{Float64}:\n",
       "  0.414742    2.77556e-17\n",
       "  0.702172   -0.426281\n",
       "  0.304193    0.501701\n",
       " -0.492135   -0.277316\n",
       "  0.0146214   0.699769"
      ]
     },
     "execution_count": 32,
     "metadata": {},
     "output_type": "execute_result"
    }
   ],
   "source": [
    "Q[:,1:3]  # Span same as columns of A' / rows of A\n",
    "K = Q[:,4:5] # is orthogonal to Q[:,1:3] i.e., orthogonal to rows of A"
   ]
  },
  {
   "cell_type": "code",
   "execution_count": 33,
   "id": "f5311a8d",
   "metadata": {},
   "outputs": [
    {
     "data": {
      "text/plain": [
       "3×2 Matrix{Float64}:\n",
       " -3.63088e-17  3.01987e-17\n",
       " -1.39276e-16  1.64954e-16\n",
       "  1.27883e-16  1.50969e-16"
      ]
     },
     "execution_count": 33,
     "metadata": {},
     "output_type": "execute_result"
    }
   ],
   "source": [
    "A*K # K is an orthogonal basis for the kernel of A"
   ]
  },
  {
   "cell_type": "markdown",
   "id": "f84a17c9",
   "metadata": {},
   "source": [
    "# 3. global variables in functions"
   ]
  },
  {
   "cell_type": "code",
   "execution_count": 35,
   "id": "2a1fbd0d",
   "metadata": {},
   "outputs": [],
   "source": [
    "struct Foo\n",
    "    x\n",
    "end"
   ]
  },
  {
   "cell_type": "code",
   "execution_count": 45,
   "id": "52625e7b",
   "metadata": {},
   "outputs": [
    {
     "data": {
      "text/plain": [
       "f (generic function with 1 method)"
      ]
     },
     "execution_count": 45,
     "metadata": {},
     "output_type": "execute_result"
    }
   ],
   "source": [
    "function f(f::Foo)\n",
    "   x + 1 # forgot to do f.x so uses global x\n",
    "end"
   ]
  },
  {
   "cell_type": "code",
   "execution_count": 46,
   "id": "321e18cb",
   "metadata": {},
   "outputs": [
    {
     "data": {
      "text/plain": [
       "f (generic function with 1 method)"
      ]
     },
     "execution_count": 46,
     "metadata": {},
     "output_type": "execute_result"
    }
   ],
   "source": [
    "function f(f::Foo)\n",
    "   x = f.x # new x is not related to global x\n",
    "   x + 1 # forgot to do f.x\n",
    "end"
   ]
  },
  {
   "cell_type": "code",
   "execution_count": 47,
   "id": "e5b98073",
   "metadata": {},
   "outputs": [
    {
     "data": {
      "text/plain": [
       "4"
      ]
     },
     "execution_count": 47,
     "metadata": {},
     "output_type": "execute_result"
    }
   ],
   "source": [
    "f(Foo(3))"
   ]
  },
  {
   "cell_type": "code",
   "execution_count": 43,
   "id": "2edb3c1c",
   "metadata": {},
   "outputs": [
    {
     "data": {
      "text/plain": [
       "-1"
      ]
     },
     "execution_count": 43,
     "metadata": {},
     "output_type": "execute_result"
    }
   ],
   "source": [
    "x = -1"
   ]
  },
  {
   "cell_type": "code",
   "execution_count": 48,
   "id": "420b2941",
   "metadata": {},
   "outputs": [
    {
     "data": {
      "text/plain": [
       "-1"
      ]
     },
     "execution_count": 48,
     "metadata": {},
     "output_type": "execute_result"
    }
   ],
   "source": [
    "x"
   ]
  },
  {
   "cell_type": "markdown",
   "id": "be3d7d6c",
   "metadata": {},
   "source": [
    "# 6. PLU Decomposition"
   ]
  },
  {
   "cell_type": "code",
   "execution_count": 51,
   "id": "779ac5f8",
   "metadata": {},
   "outputs": [
    {
     "data": {
      "text/plain": [
       "5-element Vector{Float64}:\n",
       " -0.5256166438064742\n",
       "  1.0020975225799644\n",
       " -1.7309511100809838\n",
       " -0.06733853550112741\n",
       "  2.225089334126922"
      ]
     },
     "execution_count": 51,
     "metadata": {},
     "output_type": "execute_result"
    }
   ],
   "source": [
    "A = randn(5,5)\n",
    "b = randn(5)"
   ]
  },
  {
   "cell_type": "code",
   "execution_count": 53,
   "id": "fb99a6be",
   "metadata": {},
   "outputs": [
    {
     "data": {
      "text/plain": [
       "5-element Vector{Float64}:\n",
       "  1.5090645860069503\n",
       " -0.5331464422627641\n",
       "  1.5403999380850075\n",
       "  0.2538660344520536\n",
       " -1.0911567571174723"
      ]
     },
     "execution_count": 53,
     "metadata": {},
     "output_type": "execute_result"
    }
   ],
   "source": [
    "x_qr = qr(A) \\ b\n",
    "x_lu = lu(A) \\ b"
   ]
  },
  {
   "cell_type": "code",
   "execution_count": 56,
   "id": "b868d834",
   "metadata": {},
   "outputs": [
    {
     "data": {
      "text/plain": [
       "5-element Vector{Float64}:\n",
       " 4.440892098500626e-16\n",
       " 2.220446049250313e-16\n",
       " 2.220446049250313e-16\n",
       " 2.220446049250313e-16\n",
       " 0.0"
      ]
     },
     "execution_count": 56,
     "metadata": {},
     "output_type": "execute_result"
    }
   ],
   "source": [
    "x_lu - x_qr"
   ]
  },
  {
   "cell_type": "code",
   "execution_count": 57,
   "id": "ae89e463",
   "metadata": {},
   "outputs": [
    {
     "data": {
      "text/plain": [
       "5-element Vector{Float64}:\n",
       "  1.5090645860069503\n",
       " -0.5331464422627641\n",
       "  1.5403999380850075\n",
       "  0.2538660344520536\n",
       " -1.0911567571174723"
      ]
     },
     "execution_count": 57,
     "metadata": {},
     "output_type": "execute_result"
    }
   ],
   "source": [
    "A \\ b # uses LU. Why?"
   ]
  },
  {
   "cell_type": "code",
   "execution_count": 63,
   "id": "5974fa5e",
   "metadata": {},
   "outputs": [
    {
     "name": "stdout",
     "output_type": "stream",
     "text": [
      "  203.275 μs (7 allocations: 134.55 KiB)\n",
      "  56.187 μs (4 allocations: 79.08 KiB)\n"
     ]
    }
   ],
   "source": [
    "n = 100\n",
    "A = randn(n,n)\n",
    "b = randn(n)\n",
    "\n",
    "@btime qr(A);\n",
    "@btime lu(A);"
   ]
  },
  {
   "cell_type": "code",
   "execution_count": 72,
   "id": "d863fc91",
   "metadata": {},
   "outputs": [],
   "source": [
    "\n",
    "n = 100\n",
    "A = randn(n,n)\n",
    "b = randn(n)\n",
    "\n",
    "x_lu = A \\ b;\n",
    "x_qr = qr(A) \\ b;"
   ]
  },
  {
   "cell_type": "code",
   "execution_count": 73,
   "id": "15edacd7",
   "metadata": {},
   "outputs": [
    {
     "data": {
      "text/plain": [
       "2.385770822771597243032090589811276883678781897541718389444591191101242625733643e-12"
      ]
     },
     "execution_count": 73,
     "metadata": {},
     "output_type": "execute_result"
    }
   ],
   "source": [
    "norm((big.(A) \\ b) - x_lu)"
   ]
  },
  {
   "cell_type": "code",
   "execution_count": 74,
   "id": "d83bdaf8",
   "metadata": {},
   "outputs": [
    {
     "data": {
      "text/plain": [
       "2.611309765393680819091862494941147315514755797015178945885595298091839016252224e-13"
      ]
     },
     "execution_count": 74,
     "metadata": {},
     "output_type": "execute_result"
    }
   ],
   "source": [
    "norm((big.(A) \\ b) - x_qr)"
   ]
  },
  {
   "cell_type": "code",
   "execution_count": 75,
   "id": "d9cfca0d",
   "metadata": {},
   "outputs": [
    {
     "data": {
      "text/plain": [
       "5×5 Matrix{Int64}:\n",
       "  1   0   0   0  1\n",
       " -1   1   0   0  1\n",
       " -1  -1   1   0  1\n",
       " -1  -1  -1   1  1\n",
       " -1  -1  -1  -1  1"
      ]
     },
     "execution_count": 75,
     "metadata": {},
     "output_type": "execute_result"
    }
   ],
   "source": [
    "function badmatrix(n)\n",
    "    A = Matrix(1I, n, n)\n",
    "    A[:,end] .= 1\n",
    "    for j = 1:n-1\n",
    "        A[j+1:end,j] .= -1\n",
    "    end\n",
    "    A\n",
    "end\n",
    "A = badmatrix(5)"
   ]
  },
  {
   "cell_type": "code",
   "execution_count": 76,
   "id": "40ca9b67",
   "metadata": {},
   "outputs": [
    {
     "data": {
      "text/plain": [
       "LU{Float64, Matrix{Float64}}\n",
       "L factor:\n",
       "5×5 Matrix{Float64}:\n",
       "  1.0   0.0   0.0   0.0  0.0\n",
       " -1.0   1.0   0.0   0.0  0.0\n",
       " -1.0  -1.0   1.0   0.0  0.0\n",
       " -1.0  -1.0  -1.0   1.0  0.0\n",
       " -1.0  -1.0  -1.0  -1.0  1.0\n",
       "U factor:\n",
       "5×5 Matrix{Float64}:\n",
       " 1.0  0.0  0.0  0.0   1.0\n",
       " 0.0  1.0  0.0  0.0   2.0\n",
       " 0.0  0.0  1.0  0.0   4.0\n",
       " 0.0  0.0  0.0  1.0   8.0\n",
       " 0.0  0.0  0.0  0.0  16.0"
      ]
     },
     "execution_count": 76,
     "metadata": {},
     "output_type": "execute_result"
    }
   ],
   "source": [
    "lu(A)"
   ]
  },
  {
   "cell_type": "code",
   "execution_count": 84,
   "id": "07ed2734",
   "metadata": {},
   "outputs": [
    {
     "data": {
      "text/plain": [
       "7.433517009924015"
      ]
     },
     "execution_count": 84,
     "metadata": {},
     "output_type": "execute_result"
    }
   ],
   "source": [
    "n = 200\n",
    "A = badmatrix(n)\n",
    "b = randn(n)\n",
    "norm(A \\ b - qr(A) \\ b) # lu fails on this matrix"
   ]
  },
  {
   "cell_type": "code",
   "execution_count": 87,
   "id": "bdbeed6f",
   "metadata": {},
   "outputs": [],
   "source": [
    "A_ϵ = A .+ 0.0001randn.();"
   ]
  },
  {
   "cell_type": "code",
   "execution_count": 89,
   "id": "f8351405",
   "metadata": {},
   "outputs": [
    {
     "data": {
      "text/plain": [
       "5.087866217629122e-12"
      ]
     },
     "execution_count": 89,
     "metadata": {},
     "output_type": "execute_result"
    }
   ],
   "source": [
    "norm(A_ϵ \\b - qr(A_ϵ)\\b) # perturbed LU is fine"
   ]
  },
  {
   "cell_type": "code",
   "execution_count": null,
   "id": "f45a1358",
   "metadata": {},
   "outputs": [],
   "source": []
  }
 ],
 "metadata": {
  "@webio": {
   "lastCommId": "814094f714f640718cf949902b662af1",
   "lastKernelId": "1da4a556-aad2-4549-a8ff-2424daec2774"
  },
  "kernelspec": {
   "display_name": "Julia 1.7.1",
   "language": "julia",
   "name": "julia-1.7"
  },
  "language_info": {
   "file_extension": ".jl",
   "mimetype": "application/julia",
   "name": "julia",
   "version": "1.7.1"
  }
 },
 "nbformat": 4,
 "nbformat_minor": 5
}
