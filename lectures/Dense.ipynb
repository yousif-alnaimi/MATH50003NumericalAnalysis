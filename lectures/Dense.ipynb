{
 "cells": [
  {
   "cell_type": "markdown",
   "id": "caa88ebe",
   "metadata": {},
   "source": [
    "# Vectors"
   ]
  },
  {
   "cell_type": "code",
   "execution_count": 9,
   "id": "13048644",
   "metadata": {},
   "outputs": [
    {
     "data": {
      "text/plain": [
       "10"
      ]
     },
     "execution_count": 9,
     "metadata": {},
     "output_type": "execute_result"
    }
   ],
   "source": [
    "x = Int16[10,5,3,11]\n",
    "\n",
    "length(x)\n",
    "Base.unsafe_load(pointer(x))"
   ]
  },
  {
   "cell_type": "code",
   "execution_count": 17,
   "id": "3689b524",
   "metadata": {},
   "outputs": [
    {
     "data": {
      "text/plain": [
       "11"
      ]
     },
     "execution_count": 17,
     "metadata": {},
     "output_type": "execute_result"
    }
   ],
   "source": [
    "sz = sizeof(eltype(x))\n",
    "Base.unsafe_load(pointer(x)+3sz)"
   ]
  },
  {
   "cell_type": "code",
   "execution_count": 21,
   "id": "5d4f329f",
   "metadata": {},
   "outputs": [
    {
     "data": {
      "text/plain": [
       "-26620"
      ]
     },
     "execution_count": 21,
     "metadata": {},
     "output_type": "execute_result"
    }
   ],
   "source": [
    "# WARNING: High performance languages are not SAFE\n",
    "Base.unsafe_load(pointer(x)+20sz) # this may crash Julia"
   ]
  },
  {
   "cell_type": "code",
   "execution_count": 30,
   "id": "af37159c",
   "metadata": {},
   "outputs": [
    {
     "data": {
      "text/plain": [
       "1.2"
      ]
     },
     "execution_count": 30,
     "metadata": {},
     "output_type": "execute_result"
    }
   ],
   "source": [
    "x = [1.3, 1.2, 1.5]\n",
    "sz = sizeof(eltype(x))\n",
    "Base.unsafe_load(pointer(x)+sz) # 8 bytes in 64 bits"
   ]
  },
  {
   "cell_type": "markdown",
   "id": "aa4130e0",
   "metadata": {},
   "source": [
    "# Matrices"
   ]
  },
  {
   "cell_type": "code",
   "execution_count": 33,
   "id": "228a9a1c",
   "metadata": {},
   "outputs": [
    {
     "data": {
      "text/plain": [
       "3×2 Matrix{Int64}:\n",
       " 1  2\n",
       " 4  5\n",
       " 7  8"
      ]
     },
     "execution_count": 33,
     "metadata": {},
     "output_type": "execute_result"
    }
   ],
   "source": [
    "A = [1 2; \n",
    "     4 5;\n",
    "     7 8]"
   ]
  },
  {
   "cell_type": "code",
   "execution_count": 39,
   "id": "6dee93ab",
   "metadata": {},
   "outputs": [
    {
     "data": {
      "text/plain": [
       "2"
      ]
     },
     "execution_count": 39,
     "metadata": {},
     "output_type": "execute_result"
    }
   ],
   "source": [
    "size(A)\n",
    "sz = sizeof(eltype(A))\n",
    "Base.unsafe_load(pointer(A) + 3sz)"
   ]
  },
  {
   "cell_type": "code",
   "execution_count": 40,
   "id": "2f2eaa99",
   "metadata": {},
   "outputs": [
    {
     "data": {
      "text/plain": [
       "6-element Vector{Int64}:\n",
       " 1\n",
       " 4\n",
       " 7\n",
       " 2\n",
       " 5\n",
       " 8"
      ]
     },
     "execution_count": 40,
     "metadata": {},
     "output_type": "execute_result"
    }
   ],
   "source": [
    "vec(A)"
   ]
  },
  {
   "cell_type": "markdown",
   "id": "10ef1b15",
   "metadata": {},
   "source": [
    "## Matrix multiplication"
   ]
  },
  {
   "cell_type": "code",
   "execution_count": 51,
   "id": "5cd761d9",
   "metadata": {},
   "outputs": [
    {
     "data": {
      "text/plain": [
       "mul (generic function with 1 method)"
      ]
     },
     "execution_count": 51,
     "metadata": {},
     "output_type": "execute_result"
    }
   ],
   "source": [
    "function mul_rows(A, x)\n",
    "    m, n = size(A)\n",
    "    ret = zeros(m) # assumes Float64\n",
    "    for k = 1:m\n",
    "        for j = 1:n\n",
    "            ret[k] += A[k,j] * x[j]\n",
    "        end\n",
    "    end\n",
    "    ret\n",
    "end\n",
    "\n",
    "function mul(A, x) # go down columns, access A in order\n",
    "    m, n = size(A)\n",
    "    ret = zeros(m) # assumes Float64\n",
    "    for j = 1:n\n",
    "        for k = 1:m\n",
    "            ret[k] += A[k,j] * x[j]\n",
    "        end\n",
    "    end\n",
    "    ret\n",
    "end"
   ]
  },
  {
   "cell_type": "code",
   "execution_count": 57,
   "id": "24f9b516",
   "metadata": {},
   "outputs": [
    {
     "name": "stdout",
     "output_type": "stream",
     "text": [
      "  18.206 μs (1 allocation: 896 bytes)\n",
      "  6.631 μs (1 allocation: 896 bytes)\n"
     ]
    }
   ],
   "source": [
    "n = 100\n",
    "A = randn(n,n)\n",
    "x = rand(n);\n",
    "\n",
    "using BenchmarkTools\n",
    "@btime mul_rows(A, x);\n",
    "@btime mul(A, x);"
   ]
  },
  {
   "cell_type": "code",
   "execution_count": 59,
   "id": "6f4fdece",
   "metadata": {},
   "outputs": [
    {
     "name": "stdout",
     "output_type": "stream",
     "text": [
      "  1.875 μs (1 allocation: 896 bytes)\n"
     ]
    }
   ],
   "source": [
    "@btime A*x;"
   ]
  },
  {
   "cell_type": "code",
   "execution_count": 58,
   "id": "e104de50",
   "metadata": {},
   "outputs": [
    {
     "data": {
      "text/plain": [
       "true"
      ]
     },
     "execution_count": 58,
     "metadata": {},
     "output_type": "execute_result"
    }
   ],
   "source": [
    "mul_rows(A, x) ≈ mul(A, x) ≈ A*x"
   ]
  },
  {
   "cell_type": "markdown",
   "id": "28e65576",
   "metadata": {},
   "source": [
    "## Triangular matrices"
   ]
  },
  {
   "cell_type": "code",
   "execution_count": 72,
   "id": "71323ccf",
   "metadata": {},
   "outputs": [
    {
     "data": {
      "text/plain": [
       "3-element Vector{Float64}:\n",
       "  6.0\n",
       " -4.0\n",
       " -0.7777777777777778"
      ]
     },
     "execution_count": 72,
     "metadata": {},
     "output_type": "execute_result"
    }
   ],
   "source": [
    "using LinearAlgebra\n",
    "\n",
    "data = [1 2 3;\n",
    "        4 5 6;\n",
    "        7 8 9]\n",
    "U = UpperTriangular(data) # ignore below diagonal\n",
    "L = LowerTriangular(data) # ignore above diagonal\n",
    "\n",
    "b = [6,4,3]\n",
    "x = U \\ b\n",
    "y = L \\ b"
   ]
  },
  {
   "cell_type": "code",
   "execution_count": 76,
   "id": "ed7c38ae",
   "metadata": {},
   "outputs": [
    {
     "data": {
      "text/plain": [
       "true"
      ]
     },
     "execution_count": 76,
     "metadata": {},
     "output_type": "execute_result"
    }
   ],
   "source": [
    "U*x ≈ b\n",
    "L*y ≈ b"
   ]
  },
  {
   "cell_type": "markdown",
   "id": "320f440c",
   "metadata": {},
   "source": [
    "## Diagonal matrices"
   ]
  },
  {
   "cell_type": "code",
   "execution_count": 111,
   "id": "b3b3a154",
   "metadata": {},
   "outputs": [],
   "source": [
    "n = 200\n",
    "x = randn(n)\n",
    "A = randn(n,n)\n",
    "D = Diagonal(randn(n));"
   ]
  },
  {
   "cell_type": "code",
   "execution_count": 113,
   "id": "ca37b7e8",
   "metadata": {},
   "outputs": [
    {
     "name": "stdout",
     "output_type": "stream",
     "text": [
      "  126.301 ns (1 allocation: 1.77 KiB)\n",
      "  3.960 μs (1 allocation: 1.77 KiB)\n"
     ]
    }
   ],
   "source": [
    "@btime D*x;\n",
    "@btime A*x;"
   ]
  },
  {
   "cell_type": "code",
   "execution_count": 115,
   "id": "3a4acdac",
   "metadata": {},
   "outputs": [
    {
     "name": "stdout",
     "output_type": "stream",
     "text": [
      "  148.671 ns (1 allocation: 1.77 KiB)\n",
      "  232.014 μs (4 allocations: 316.08 KiB)\n"
     ]
    }
   ],
   "source": [
    "@btime D\\x;\n",
    "@btime A\\x;"
   ]
  },
  {
   "cell_type": "markdown",
   "id": "f6047608",
   "metadata": {},
   "source": [
    "## Bidiagonal"
   ]
  },
  {
   "cell_type": "code",
   "execution_count": 120,
   "id": "7dd00082",
   "metadata": {},
   "outputs": [
    {
     "name": "stdout",
     "output_type": "stream",
     "text": [
      "  1.115 μs (1 allocation: 1.77 KiB)\n"
     ]
    }
   ],
   "source": [
    "U = Bidiagonal(randn(n), randn(n-1), :U)\n",
    "L = Bidiagonal(randn(n), randn(n-1), :L);\n",
    "\n",
    "@btime U \\ x;"
   ]
  },
  {
   "cell_type": "markdown",
   "id": "00ad2e89",
   "metadata": {},
   "source": [
    "## Tridiagonal"
   ]
  },
  {
   "cell_type": "code",
   "execution_count": 125,
   "id": "9d50d893",
   "metadata": {},
   "outputs": [
    {
     "name": "stdout",
     "output_type": "stream",
     "text": [
      "  234.062 ns (1 allocation: 1.77 KiB)\n"
     ]
    },
    {
     "data": {
      "text/plain": [
       "200-element Vector{Float64}:\n",
       " -1.8032288411133814\n",
       "  1.3483582075439555\n",
       " -2.4882024715679836\n",
       "  2.646568887163777\n",
       " -4.764836422499411\n",
       " -1.133009691303415\n",
       " -1.005592672745377\n",
       "  0.6725978542547606\n",
       "  1.679039198340986\n",
       "  0.8926420235242756\n",
       " -0.9375286129463626\n",
       " -1.356943759968118\n",
       "  0.3118038613602252\n",
       "  ⋮\n",
       "  0.5906182790359616\n",
       " -0.6683875913127153\n",
       " -2.3189332838835\n",
       "  0.5224201240780477\n",
       "  1.10220326349299\n",
       "  1.825020329154461\n",
       "  0.8848964486589632\n",
       "  1.0264158788361584\n",
       "  0.08669767235818893\n",
       " -0.7163637406637045\n",
       " -1.1603467712437037\n",
       "  1.8690881363441245"
      ]
     },
     "execution_count": 125,
     "metadata": {},
     "output_type": "execute_result"
    }
   ],
   "source": [
    "T = Tridiagonal(randn(n-1),randn(n), randn(n-1))\n",
    "\n",
    "@btime T * x"
   ]
  },
  {
   "cell_type": "code",
   "execution_count": null,
   "id": "201d815f",
   "metadata": {},
   "outputs": [],
   "source": []
  },
  {
   "cell_type": "code",
   "execution_count": null,
   "id": "986a19c2",
   "metadata": {},
   "outputs": [],
   "source": [
    "\n",
    "\n",
    "\n",
    "\n",
    "\n",
    "\n",
    "\n",
    "\n",
    "\n",
    "\n",
    "\n",
    "\n",
    "\n",
    "\n",
    "\n",
    "\n",
    "\n",
    "\n",
    "\n",
    "\n",
    "\n",
    "\n",
    "\n",
    "\n"
   ]
  }
 ],
 "metadata": {
  "kernelspec": {
   "display_name": "Julia 1.7.1",
   "language": "julia",
   "name": "julia-1.7"
  },
  "language_info": {
   "file_extension": ".jl",
   "mimetype": "application/julia",
   "name": "julia",
   "version": "1.7.1"
  }
 },
 "nbformat": 4,
 "nbformat_minor": 5
}
