{
 "cells": [
  {
   "cell_type": "code",
   "execution_count": 37,
   "id": "8dd512d6",
   "metadata": {},
   "outputs": [
    {
     "data": {
      "text/plain": [
       "sin (generic function with 14 methods)"
      ]
     },
     "execution_count": 37,
     "metadata": {},
     "output_type": "execute_result"
    }
   ],
   "source": [
    "# Dual(a,b) represents a + b*ϵ\n",
    "struct Dual{T}\n",
    "    a::T\n",
    "    b::T\n",
    "end\n",
    "\n",
    "const ϵ = Dual(0,1)\n",
    "\n",
    "import Base: +, -, ^, /, *, exp, sin\n",
    "\n",
    "+(x::Real, y::Dual) = Dual(x + y.a, y.b)\n",
    "+(x::Dual, y::Real) = Dual(x.a + y, x.b)\n",
    "+(x::Dual, y::Dual) = Dual(x.a + y.a, x.b + y.b)\n",
    "-(x::Real, y::Dual) = Dual(x - y.a, -y.b)\n",
    "-(x::Dual, y::Real) = Dual(x.a - y, x.b)\n",
    "-(x::Dual, y::Dual) = Dual(x.a - y.a, x.b - y.b)\n",
    "\n",
    "/(x::Dual, y::Real) = Dual(x.a/y, x.b/y)\n",
    "*(x::Dual, y::Dual) = Dual(x.a*y.a, x.a*y.b + x.b*y.a)\n",
    "\n",
    "\n",
    "function ^(x::Dual, k::Integer)\n",
    "    if k ≤ 0\n",
    "        error(\"Not implemented\")\n",
    "    elseif k == 1\n",
    "        x\n",
    "    else # k > 1\n",
    "        Dual(x.a^k, k* x.b * x.a^(k-1))\n",
    "    end\n",
    "end\n",
    "\n",
    "exp(x::Dual) = Dual(exp(x.a), x.b*exp(x.a))\n",
    "sin(x::Dual) = Dual(sin(x.a), x.b*cos(x.a))\n",
    "        "
   ]
  },
  {
   "cell_type": "code",
   "execution_count": 29,
   "id": "4321fe18",
   "metadata": {},
   "outputs": [
    {
     "data": {
      "text/plain": [
       "2.3333333333333335"
      ]
     },
     "execution_count": 29,
     "metadata": {},
     "output_type": "execute_result"
    }
   ],
   "source": [
    "f = x -> 1 + x + x^2\n",
    "g = x -> 1 + x/3 + x^2\n",
    "\n",
    "f(1 + ϵ).b # f'(1) == 3\n",
    "g(1 + ϵ).b"
   ]
  },
  {
   "cell_type": "code",
   "execution_count": 36,
   "id": "888214ac",
   "metadata": {},
   "outputs": [
    {
     "data": {
      "text/plain": [
       "Dual{Int64}(4, 5)"
      ]
     },
     "execution_count": 36,
     "metadata": {},
     "output_type": "execute_result"
    }
   ],
   "source": [
    "f = x -> (x-1)*(x-2) + x^2\n",
    "f(2 + ϵ)"
   ]
  },
  {
   "cell_type": "code",
   "execution_count": 39,
   "id": "3e377586",
   "metadata": {},
   "outputs": [
    {
     "data": {
      "text/plain": [
       "Dual{Float64}(71.52736276745335, -505.2129571436543)"
      ]
     },
     "execution_count": 39,
     "metadata": {},
     "output_type": "execute_result"
    }
   ],
   "source": [
    "f = x -> exp(x^2 * sin(x) + x)\n",
    "f(3 + ϵ)"
   ]
  },
  {
   "cell_type": "code",
   "execution_count": 40,
   "id": "61ce2962",
   "metadata": {},
   "outputs": [
    {
     "data": {
      "text/plain": [
       "-505.2129571436543"
      ]
     },
     "execution_count": 40,
     "metadata": {},
     "output_type": "execute_result"
    }
   ],
   "source": [
    "exp(9sin(3) + 3) * (9cos(3) + 6sin(3)+1)"
   ]
  },
  {
   "cell_type": "code",
   "execution_count": null,
   "id": "26bf8181",
   "metadata": {},
   "outputs": [],
   "source": [
    "# 1 + … + x^n\n",
    "\n",
    "function s(n, x)\n",
    "    ret = 1 + x\n",
    "    for k = 2:n\n",
    "        ret = ret + x^k\n",
    "    end\n",
    "    ret\n",
    "end\n",
    "    "
   ]
  }
 ],
 "metadata": {
  "kernelspec": {
   "display_name": "Julia 1.7.0",
   "language": "julia",
   "name": "julia-1.7"
  },
  "language_info": {
   "file_extension": ".jl",
   "mimetype": "application/julia",
   "name": "julia",
   "version": "1.7.0"
  }
 },
 "nbformat": 4,
 "nbformat_minor": 5
}
