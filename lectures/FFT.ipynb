{
 "cells": [
  {
   "cell_type": "code",
   "execution_count": 3,
   "id": "e447a405",
   "metadata": {},
   "outputs": [],
   "source": [
    "using FFTW"
   ]
  },
  {
   "cell_type": "code",
   "execution_count": 27,
   "id": "3971385c",
   "metadata": {},
   "outputs": [
    {
     "data": {
      "text/plain": [
       "2.999301662503971e-14"
      ]
     },
     "execution_count": 27,
     "metadata": {},
     "output_type": "execute_result"
    }
   ],
   "source": [
    "q = 5\n",
    "n = 2^q\n",
    "\n",
    "θ = range(0, 2π; length=n+1)[1:end-1]\n",
    "Q = 1/sqrt(n) * [exp(-im*(k*θ[j])) for k=0:n-1, j=1:n]\n",
    "\n",
    "\n",
    "b = randn(n)\n",
    "\n",
    "norm(Q'b - sqrt(n)*ifft(b))\n",
    "\n",
    "norm(Q*b - 1/sqrt(n)*fft(b))"
   ]
  },
  {
   "cell_type": "code",
   "execution_count": 14,
   "id": "39a097f2",
   "metadata": {},
   "outputs": [
    {
     "name": "stdout",
     "output_type": "stream",
     "text": [
      "  0.000017 seconds (3 allocations: 1.141 KiB)\n"
     ]
    }
   ],
   "source": [
    "@time Q'b;"
   ]
  },
  {
   "cell_type": "code",
   "execution_count": 15,
   "id": "be0357d1",
   "metadata": {},
   "outputs": [
    {
     "name": "stdout",
     "output_type": "stream",
     "text": [
      "  0.000062 seconds (35 allocations: 3.094 KiB)\n"
     ]
    }
   ],
   "source": [
    "@time ifft(b);"
   ]
  },
  {
   "cell_type": "code",
   "execution_count": 31,
   "id": "43073350",
   "metadata": {},
   "outputs": [
    {
     "name": "stdout",
     "output_type": "stream",
     "text": [
      "  0.043449 seconds (37 allocations: 32.002 MiB)\n"
     ]
    }
   ],
   "source": [
    "q = 20\n",
    "n = 2^q\n",
    "b = randn(n)\n",
    "\n",
    "@time ifft(b);"
   ]
  },
  {
   "cell_type": "code",
   "execution_count": 30,
   "id": "f47f30e1",
   "metadata": {},
   "outputs": [
    {
     "name": "stdout",
     "output_type": "stream",
     "text": [
      "  0.036335 seconds (37 allocations: 30.520 MiB, 9.98% gc time)\n"
     ]
    }
   ],
   "source": [
    "n = 1_000_000\n",
    "b = randn(n)\n",
    "\n",
    "@time ifft(b);"
   ]
  },
  {
   "cell_type": "code",
   "execution_count": null,
   "id": "c38c910c",
   "metadata": {},
   "outputs": [],
   "source": []
  }
 ],
 "metadata": {
  "kernelspec": {
   "display_name": "Julia 1.7.0",
   "language": "julia",
   "name": "julia-1.7"
  },
  "language_info": {
   "file_extension": ".jl",
   "mimetype": "application/julia",
   "name": "julia",
   "version": "1.7.0"
  }
 },
 "nbformat": 4,
 "nbformat_minor": 5
}
