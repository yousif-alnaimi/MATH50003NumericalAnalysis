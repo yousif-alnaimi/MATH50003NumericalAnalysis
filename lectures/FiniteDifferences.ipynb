{
 "cells": [
  {
   "cell_type": "code",
   "execution_count": 1,
   "id": "40be8e53",
   "metadata": {},
   "outputs": [],
   "source": [
    "using Plots"
   ]
  },
  {
   "cell_type": "code",
   "execution_count": 11,
   "id": "4c68dd34",
   "metadata": {},
   "outputs": [
    {
     "data": {
      "text/plain": [
       "1.0"
      ]
     },
     "execution_count": 11,
     "metadata": {},
     "output_type": "execute_result"
    }
   ],
   "source": [
    "# Example 1\n",
    "\n",
    "f(x) = 1 + x + x^2\n",
    "\n",
    "S = 52\n",
    "h = 2.0^(-S)\n",
    "x = 0.0\n",
    "(f(x + h) - f(x))/h # True answer: 1, for h small, its exact!"
   ]
  },
  {
   "cell_type": "code",
   "execution_count": 15,
   "id": "0b17159a",
   "metadata": {},
   "outputs": [
    {
     "data": {
      "text/plain": [
       "0.0"
      ]
     },
     "execution_count": 15,
     "metadata": {},
     "output_type": "execute_result"
    }
   ],
   "source": [
    "h = 2.0^(-60)\n",
    "x = 0.0\n",
    "(f(x + h) - f(x))/h # True answer: 1, for h small, its wrong!"
   ]
  },
  {
   "cell_type": "code",
   "execution_count": 18,
   "id": "111f1bdc",
   "metadata": {},
   "outputs": [
    {
     "data": {
      "text/plain": [
       "56-element Vector{Float64}:\n",
       " 1.0\n",
       " 0.5\n",
       " 0.25\n",
       " 0.125\n",
       " 0.0625\n",
       " 0.03125\n",
       " 0.015625\n",
       " 0.0078125\n",
       " 0.00390625\n",
       " 0.001953125\n",
       " 0.0009765625\n",
       " 0.00048828125\n",
       " 0.000244140625\n",
       " ⋮\n",
       " 0.0\n",
       " 0.0\n",
       " 0.0\n",
       " 0.0\n",
       " 0.0\n",
       " 0.0\n",
       " 0.0\n",
       " 0.0\n",
       " 0.0\n",
       " 1.0\n",
       " 1.0\n",
       " 1.0"
      ]
     },
     "execution_count": 18,
     "metadata": {},
     "output_type": "execute_result"
    }
   ],
   "source": [
    "h = 2.0 .^ (-(0:55))\n",
    "abs_err_f = abs.((f.(h) .- f(0)) ./ h .- 1)"
   ]
  },
  {
   "cell_type": "code",
   "execution_count": 25,
   "id": "c2a3c10d",
   "metadata": {},
   "outputs": [
    {
     "data": {
      "text/plain": [
       "1.000088900582341"
      ]
     },
     "execution_count": 25,
     "metadata": {},
     "output_type": "execute_result"
    }
   ],
   "source": [
    "h = 0.000000000001\n",
    "\n",
    "(f(x + h) - f(x))/h # True answer: 1, for h small, starts to converge, but then diverges!"
   ]
  },
  {
   "cell_type": "code",
   "execution_count": 34,
   "id": "8aa306f1",
   "metadata": {},
   "outputs": [
    {
     "data": {
      "text/plain": [
       "0.3333333656191826"
      ]
     },
     "execution_count": 34,
     "metadata": {},
     "output_type": "execute_result"
    }
   ],
   "source": [
    "# Example 2\n",
    "\n",
    "g(x) = 1 + x/3 + x^2\n",
    "\n",
    "h = 2.0^(-25)\n",
    "x = 0.0\n",
    "(g(x + h) - g(x))/h # True answer: 1, for h small, starts to converge, but then diverges!"
   ]
  },
  {
   "cell_type": "code",
   "execution_count": 40,
   "id": "0cc86a3f",
   "metadata": {},
   "outputs": [
    {
     "data": {
      "image/svg+xml": [
       "<?xml version=\"1.0\" encoding=\"utf-8\"?>\n",
       "<svg xmlns=\"http://www.w3.org/2000/svg\" xmlns:xlink=\"http://www.w3.org/1999/xlink\" width=\"600\" height=\"400\" viewBox=\"0 0 2400 1600\">\n",
       "<defs>\n",
       "  <clipPath id=\"clip730\">\n",
       "    <rect x=\"0\" y=\"0\" width=\"2400\" height=\"1600\"/>\n",
       "  </clipPath>\n",
       "</defs>\n",
       "<path clip-path=\"url(#clip730)\" d=\"\n",
       "M0 1600 L2400 1600 L2400 0 L0 0  Z\n",
       "  \" fill=\"#ffffff\" fill-rule=\"evenodd\" fill-opacity=\"1\"/>\n",
       "<defs>\n",
       "  <clipPath id=\"clip731\">\n",
       "    <rect x=\"480\" y=\"0\" width=\"1681\" height=\"1600\"/>\n",
       "  </clipPath>\n",
       "</defs>\n",
       "<path clip-path=\"url(#clip730)\" d=\"\n",
       "M188.292 1486.45 L2352.76 1486.45 L2352.76 47.2441 L188.292 47.2441  Z\n",
       "  \" fill=\"#ffffff\" fill-rule=\"evenodd\" fill-opacity=\"1\"/>\n",
       "<defs>\n",
       "  <clipPath id=\"clip732\">\n",
       "    <rect x=\"188\" y=\"47\" width=\"2165\" height=\"1440\"/>\n",
       "  </clipPath>\n",
       "</defs>\n",
       "<polyline clip-path=\"url(#clip732)\" style=\"stroke:#000000; stroke-linecap:butt; stroke-linejoin:round; stroke-width:2; stroke-opacity:0.1; fill:none\" points=\"\n",
       "  657.94,1486.45 657.94,47.2441 \n",
       "  \"/>\n",
       "<polyline clip-path=\"url(#clip732)\" style=\"stroke:#000000; stroke-linecap:butt; stroke-linejoin:round; stroke-width:2; stroke-opacity:0.1; fill:none\" points=\"\n",
       "  1168.43,1486.45 1168.43,47.2441 \n",
       "  \"/>\n",
       "<polyline clip-path=\"url(#clip732)\" style=\"stroke:#000000; stroke-linecap:butt; stroke-linejoin:round; stroke-width:2; stroke-opacity:0.1; fill:none\" points=\"\n",
       "  1678.91,1486.45 1678.91,47.2441 \n",
       "  \"/>\n",
       "<polyline clip-path=\"url(#clip732)\" style=\"stroke:#000000; stroke-linecap:butt; stroke-linejoin:round; stroke-width:2; stroke-opacity:0.1; fill:none\" points=\"\n",
       "  2189.4,1486.45 2189.4,47.2441 \n",
       "  \"/>\n",
       "<polyline clip-path=\"url(#clip730)\" style=\"stroke:#000000; stroke-linecap:butt; stroke-linejoin:round; stroke-width:4; stroke-opacity:1; fill:none\" points=\"\n",
       "  188.292,1486.45 2352.76,1486.45 \n",
       "  \"/>\n",
       "<polyline clip-path=\"url(#clip730)\" style=\"stroke:#000000; stroke-linecap:butt; stroke-linejoin:round; stroke-width:4; stroke-opacity:1; fill:none\" points=\"\n",
       "  657.94,1486.45 657.94,1467.55 \n",
       "  \"/>\n",
       "<polyline clip-path=\"url(#clip730)\" style=\"stroke:#000000; stroke-linecap:butt; stroke-linejoin:round; stroke-width:4; stroke-opacity:1; fill:none\" points=\"\n",
       "  1168.43,1486.45 1168.43,1467.55 \n",
       "  \"/>\n",
       "<polyline clip-path=\"url(#clip730)\" style=\"stroke:#000000; stroke-linecap:butt; stroke-linejoin:round; stroke-width:4; stroke-opacity:1; fill:none\" points=\"\n",
       "  1678.91,1486.45 1678.91,1467.55 \n",
       "  \"/>\n",
       "<polyline clip-path=\"url(#clip730)\" style=\"stroke:#000000; stroke-linecap:butt; stroke-linejoin:round; stroke-width:4; stroke-opacity:1; fill:none\" points=\"\n",
       "  2189.4,1486.45 2189.4,1467.55 \n",
       "  \"/>\n",
       "<path clip-path=\"url(#clip730)\" d=\"M648.218 1514.29 L666.574 1514.29 L666.574 1518.22 L652.5 1518.22 L652.5 1526.7 Q653.519 1526.35 654.537 1526.19 Q655.556 1526 656.574 1526 Q662.361 1526 665.741 1529.17 Q669.12 1532.34 669.12 1537.76 Q669.12 1543.34 665.648 1546.44 Q662.176 1549.52 655.857 1549.52 Q653.681 1549.52 651.412 1549.15 Q649.167 1548.78 646.76 1548.04 L646.76 1543.34 Q648.843 1544.47 651.065 1545.03 Q653.287 1545.58 655.764 1545.58 Q659.769 1545.58 662.107 1543.48 Q664.445 1541.37 664.445 1537.76 Q664.445 1534.15 662.107 1532.04 Q659.769 1529.94 655.764 1529.94 Q653.889 1529.94 652.014 1530.35 Q650.162 1530.77 648.218 1531.65 L648.218 1514.29 Z\" fill=\"#000000\" fill-rule=\"evenodd\" fill-opacity=\"1\" /><path clip-path=\"url(#clip730)\" d=\"M1143.11 1544.91 L1150.75 1544.91 L1150.75 1518.55 L1142.44 1520.21 L1142.44 1515.95 L1150.71 1514.29 L1155.38 1514.29 L1155.38 1544.91 L1163.02 1544.91 L1163.02 1548.85 L1143.11 1548.85 L1143.11 1544.91 Z\" fill=\"#000000\" fill-rule=\"evenodd\" fill-opacity=\"1\" /><path clip-path=\"url(#clip730)\" d=\"M1182.47 1517.37 Q1178.85 1517.37 1177.03 1520.93 Q1175.22 1524.47 1175.22 1531.6 Q1175.22 1538.71 1177.03 1542.27 Q1178.85 1545.82 1182.47 1545.82 Q1186.1 1545.82 1187.91 1542.27 Q1189.73 1538.71 1189.73 1531.6 Q1189.73 1524.47 1187.91 1520.93 Q1186.1 1517.37 1182.47 1517.37 M1182.47 1513.66 Q1188.28 1513.66 1191.33 1518.27 Q1194.41 1522.85 1194.41 1531.6 Q1194.41 1540.33 1191.33 1544.94 Q1188.28 1549.52 1182.47 1549.52 Q1176.66 1549.52 1173.58 1544.94 Q1170.52 1540.33 1170.52 1531.6 Q1170.52 1522.85 1173.58 1518.27 Q1176.66 1513.66 1182.47 1513.66 Z\" fill=\"#000000\" fill-rule=\"evenodd\" fill-opacity=\"1\" /><path clip-path=\"url(#clip730)\" d=\"M1654.1 1544.91 L1661.74 1544.91 L1661.74 1518.55 L1653.43 1520.21 L1653.43 1515.95 L1661.69 1514.29 L1666.37 1514.29 L1666.37 1544.91 L1674.01 1544.91 L1674.01 1548.85 L1654.1 1548.85 L1654.1 1544.91 Z\" fill=\"#000000\" fill-rule=\"evenodd\" fill-opacity=\"1\" /><path clip-path=\"url(#clip730)\" d=\"M1683.5 1514.29 L1701.85 1514.29 L1701.85 1518.22 L1687.78 1518.22 L1687.78 1526.7 Q1688.8 1526.35 1689.82 1526.19 Q1690.83 1526 1691.85 1526 Q1697.64 1526 1701.02 1529.17 Q1704.4 1532.34 1704.4 1537.76 Q1704.4 1543.34 1700.93 1546.44 Q1697.46 1549.52 1691.14 1549.52 Q1688.96 1549.52 1686.69 1549.15 Q1684.45 1548.78 1682.04 1548.04 L1682.04 1543.34 Q1684.12 1544.47 1686.34 1545.03 Q1688.57 1545.58 1691.04 1545.58 Q1695.05 1545.58 1697.39 1543.48 Q1699.72 1541.37 1699.72 1537.76 Q1699.72 1534.15 1697.39 1532.04 Q1695.05 1529.94 1691.04 1529.94 Q1689.17 1529.94 1687.29 1530.35 Q1685.44 1530.77 1683.5 1531.65 L1683.5 1514.29 Z\" fill=\"#000000\" fill-rule=\"evenodd\" fill-opacity=\"1\" /><path clip-path=\"url(#clip730)\" d=\"M2168.17 1544.91 L2184.49 1544.91 L2184.49 1548.85 L2162.55 1548.85 L2162.55 1544.91 Q2165.21 1542.16 2169.79 1537.53 Q2174.4 1532.88 2175.58 1531.53 Q2177.83 1529.01 2178.71 1527.27 Q2179.61 1525.51 2179.61 1523.82 Q2179.61 1521.07 2177.66 1519.33 Q2175.74 1517.6 2172.64 1517.6 Q2170.44 1517.6 2167.99 1518.36 Q2165.56 1519.13 2162.78 1520.68 L2162.78 1515.95 Q2165.6 1514.82 2168.06 1514.24 Q2170.51 1513.66 2172.55 1513.66 Q2177.92 1513.66 2181.11 1516.35 Q2184.31 1519.03 2184.31 1523.52 Q2184.31 1525.65 2183.5 1527.57 Q2182.71 1529.47 2180.6 1532.07 Q2180.03 1532.74 2176.92 1535.95 Q2173.82 1539.15 2168.17 1544.91 Z\" fill=\"#000000\" fill-rule=\"evenodd\" fill-opacity=\"1\" /><path clip-path=\"url(#clip730)\" d=\"M2204.31 1517.37 Q2200.7 1517.37 2198.87 1520.93 Q2197.06 1524.47 2197.06 1531.6 Q2197.06 1538.71 2198.87 1542.27 Q2200.7 1545.82 2204.31 1545.82 Q2207.94 1545.82 2209.75 1542.27 Q2211.58 1538.71 2211.58 1531.6 Q2211.58 1524.47 2209.75 1520.93 Q2207.94 1517.37 2204.31 1517.37 M2204.31 1513.66 Q2210.12 1513.66 2213.17 1518.27 Q2216.25 1522.85 2216.25 1531.6 Q2216.25 1540.33 2213.17 1544.94 Q2210.12 1549.52 2204.31 1549.52 Q2198.5 1549.52 2195.42 1544.94 Q2192.36 1540.33 2192.36 1531.6 Q2192.36 1522.85 2195.42 1518.27 Q2198.5 1513.66 2204.31 1513.66 Z\" fill=\"#000000\" fill-rule=\"evenodd\" fill-opacity=\"1\" /><polyline clip-path=\"url(#clip732)\" style=\"stroke:#000000; stroke-linecap:butt; stroke-linejoin:round; stroke-width:2; stroke-opacity:0.1; fill:none\" points=\"\n",
       "  188.292,908.902 2352.76,908.902 \n",
       "  \"/>\n",
       "<polyline clip-path=\"url(#clip732)\" style=\"stroke:#000000; stroke-linecap:butt; stroke-linejoin:round; stroke-width:2; stroke-opacity:0.1; fill:none\" points=\"\n",
       "  188.292,87.9763 2352.76,87.9763 \n",
       "  \"/>\n",
       "<polyline clip-path=\"url(#clip730)\" style=\"stroke:#000000; stroke-linecap:butt; stroke-linejoin:round; stroke-width:4; stroke-opacity:1; fill:none\" points=\"\n",
       "  188.292,1486.45 188.292,47.2441 \n",
       "  \"/>\n",
       "<polyline clip-path=\"url(#clip730)\" style=\"stroke:#000000; stroke-linecap:butt; stroke-linejoin:round; stroke-width:4; stroke-opacity:1; fill:none\" points=\"\n",
       "  188.292,908.902 207.19,908.902 \n",
       "  \"/>\n",
       "<polyline clip-path=\"url(#clip730)\" style=\"stroke:#000000; stroke-linecap:butt; stroke-linejoin:round; stroke-width:4; stroke-opacity:1; fill:none\" points=\"\n",
       "  188.292,87.9763 207.19,87.9763 \n",
       "  \"/>\n",
       "<path clip-path=\"url(#clip730)\" d=\"M51.6634 928.694 L59.3023 928.694 L59.3023 902.328 L50.9921 903.995 L50.9921 899.736 L59.256 898.069 L63.9319 898.069 L63.9319 928.694 L71.5707 928.694 L71.5707 932.629 L51.6634 932.629 L51.6634 928.694 Z\" fill=\"#000000\" fill-rule=\"evenodd\" fill-opacity=\"1\" /><path clip-path=\"url(#clip730)\" d=\"M91.0151 901.148 Q87.404 901.148 85.5753 904.713 Q83.7697 908.254 83.7697 915.384 Q83.7697 922.49 85.5753 926.055 Q87.404 929.597 91.0151 929.597 Q94.6493 929.597 96.4548 926.055 Q98.2835 922.49 98.2835 915.384 Q98.2835 908.254 96.4548 904.713 Q94.6493 901.148 91.0151 901.148 M91.0151 897.444 Q96.8252 897.444 99.8808 902.051 Q102.959 906.634 102.959 915.384 Q102.959 924.111 99.8808 928.717 Q96.8252 933.3 91.0151 933.3 Q85.2049 933.3 82.1262 928.717 Q79.0707 924.111 79.0707 915.384 Q79.0707 906.634 82.1262 902.051 Q85.2049 897.444 91.0151 897.444 Z\" fill=\"#000000\" fill-rule=\"evenodd\" fill-opacity=\"1\" /><path clip-path=\"url(#clip730)\" d=\"M102.959 891.545 L127.071 891.545 L127.071 894.743 L102.959 894.743 L102.959 891.545 Z\" fill=\"#000000\" fill-rule=\"evenodd\" fill-opacity=\"1\" /><path clip-path=\"url(#clip730)\" d=\"M135.309 877.139 L150.223 877.139 L150.223 880.336 L138.788 880.336 L138.788 887.22 Q139.616 886.938 140.443 886.806 Q141.271 886.655 142.098 886.655 Q146.8 886.655 149.546 889.232 Q152.292 891.809 152.292 896.21 Q152.292 900.742 149.471 903.263 Q146.65 905.764 141.515 905.764 Q139.747 905.764 137.904 905.463 Q136.08 905.162 134.124 904.56 L134.124 900.742 Q135.817 901.664 137.622 902.115 Q139.428 902.567 141.44 902.567 Q144.694 902.567 146.593 900.855 Q148.493 899.144 148.493 896.21 Q148.493 893.276 146.593 891.564 Q144.694 889.853 141.44 889.853 Q139.917 889.853 138.393 890.191 Q136.889 890.53 135.309 891.245 L135.309 877.139 Z\" fill=\"#000000\" fill-rule=\"evenodd\" fill-opacity=\"1\" /><path clip-path=\"url(#clip730)\" d=\"M81.5866 107.769 L89.2254 107.769 L89.2254 81.4031 L80.9153 83.0698 L80.9153 78.8105 L89.1791 77.1439 L93.855 77.1439 L93.855 107.769 L101.494 107.769 L101.494 111.704 L81.5866 111.704 L81.5866 107.769 Z\" fill=\"#000000\" fill-rule=\"evenodd\" fill-opacity=\"1\" /><path clip-path=\"url(#clip730)\" d=\"M120.938 80.2226 Q117.327 80.2226 115.498 83.7874 Q113.693 87.329 113.693 94.4586 Q113.693 101.565 115.498 105.13 Q117.327 108.671 120.938 108.671 Q124.572 108.671 126.378 105.13 Q128.207 101.565 128.207 94.4586 Q128.207 87.329 126.378 83.7874 Q124.572 80.2226 120.938 80.2226 M120.938 76.5189 Q126.748 76.5189 129.804 81.1253 Q132.883 85.7086 132.883 94.4586 Q132.883 103.185 129.804 107.792 Q126.748 112.375 120.938 112.375 Q115.128 112.375 112.049 107.792 Q108.994 103.185 108.994 94.4586 Q108.994 85.7086 112.049 81.1253 Q115.128 76.5189 120.938 76.5189 Z\" fill=\"#000000\" fill-rule=\"evenodd\" fill-opacity=\"1\" /><path clip-path=\"url(#clip730)\" d=\"M142.587 58.7149 Q139.653 58.7149 138.168 61.6113 Q136.701 64.4889 136.701 70.2817 Q136.701 76.0557 138.168 78.9521 Q139.653 81.8297 142.587 81.8297 Q145.54 81.8297 147.007 78.9521 Q148.493 76.0557 148.493 70.2817 Q148.493 64.4889 147.007 61.6113 Q145.54 58.7149 142.587 58.7149 M142.587 55.7057 Q147.308 55.7057 149.791 59.4484 Q152.292 63.1724 152.292 70.2817 Q152.292 77.3722 149.791 81.115 Q147.308 84.8389 142.587 84.8389 Q137.867 84.8389 135.365 81.115 Q132.883 77.3722 132.883 70.2817 Q132.883 63.1724 135.365 59.4484 Q137.867 55.7057 142.587 55.7057 Z\" fill=\"#000000\" fill-rule=\"evenodd\" fill-opacity=\"1\" /><polyline clip-path=\"url(#clip732)\" style=\"stroke:#009af9; stroke-linecap:butt; stroke-linejoin:round; stroke-width:4; stroke-opacity:1; fill:none\" points=\"\n",
       "  249.551,87.9763 351.648,252.161 453.745,416.346 555.843,580.531 657.94,744.716 760.037,908.901 862.135,1073.09 964.232,1236.91 1066.33,1436.97 1168.43,1250.78 \n",
       "  1270.52,1250.78 1372.62,1250.78 1474.72,753.106 1576.82,596.507 1678.91,596.507 1781.01,245.221 1883.11,87.9763 1985.21,87.9763 2087.3,87.9763 2189.4,87.9763 \n",
       "  2291.5,87.9763 \n",
       "  \"/>\n",
       "<polyline clip-path=\"url(#clip732)\" style=\"stroke:#e26f46; stroke-linecap:butt; stroke-linejoin:round; stroke-width:4; stroke-opacity:1; fill:none\" points=\"\n",
       "  249.551,87.9763 351.648,252.161 453.745,416.346 555.843,580.531 657.94,744.716 760.037,908.901 862.135,1073.08 964.232,1236.66 1066.33,1445.72 1168.43,1329.12 \n",
       "  1270.52,1329.12 1372.62,1329.12 1474.72,802.641 1576.82,674.843 1678.91,674.843 1781.01,244.877 1883.11,166.312 1985.21,166.312 2087.3,166.312 2189.4,166.312 \n",
       "  2291.5,166.312 \n",
       "  \"/>\n",
       "<path clip-path=\"url(#clip730)\" d=\"\n",
       "M2016.94 250.738 L2280.61 250.738 L2280.61 95.2176 L2016.94 95.2176  Z\n",
       "  \" fill=\"#ffffff\" fill-rule=\"evenodd\" fill-opacity=\"1\"/>\n",
       "<polyline clip-path=\"url(#clip730)\" style=\"stroke:#000000; stroke-linecap:butt; stroke-linejoin:round; stroke-width:4; stroke-opacity:1; fill:none\" points=\"\n",
       "  2016.94,250.738 2280.61,250.738 2280.61,95.2176 2016.94,95.2176 2016.94,250.738 \n",
       "  \"/>\n",
       "<polyline clip-path=\"url(#clip730)\" style=\"stroke:#009af9; stroke-linecap:butt; stroke-linejoin:round; stroke-width:4; stroke-opacity:1; fill:none\" points=\"\n",
       "  2040.99,147.058 2185.29,147.058 \n",
       "  \"/>\n",
       "<path clip-path=\"url(#clip730)\" d=\"M2225.84 128.319 L2225.84 131.861 L2221.77 131.861 Q2219.48 131.861 2218.57 132.787 Q2217.69 133.713 2217.69 136.12 L2217.69 138.412 L2224.71 138.412 L2224.71 141.722 L2217.69 141.722 L2217.69 164.338 L2213.41 164.338 L2213.41 141.722 L2209.34 141.722 L2209.34 138.412 L2213.41 138.412 L2213.41 136.606 Q2213.41 132.278 2215.42 130.31 Q2217.44 128.319 2221.81 128.319 L2225.84 128.319 Z\" fill=\"#000000\" fill-rule=\"evenodd\" fill-opacity=\"1\" /><polyline clip-path=\"url(#clip730)\" style=\"stroke:#e26f46; stroke-linecap:butt; stroke-linejoin:round; stroke-width:4; stroke-opacity:1; fill:none\" points=\"\n",
       "  2040.99,198.898 2185.29,198.898 \n",
       "  \"/>\n",
       "<path clip-path=\"url(#clip730)\" d=\"M2228.25 202.914 Q2228.25 198.284 2226.33 195.738 Q2224.43 193.192 2220.98 193.192 Q2217.55 193.192 2215.63 195.738 Q2213.73 198.284 2213.73 202.914 Q2213.73 207.52 2215.63 210.066 Q2217.55 212.613 2220.98 212.613 Q2224.43 212.613 2226.33 210.066 Q2228.25 207.52 2228.25 202.914 M2232.51 212.96 Q2232.51 219.58 2229.57 222.798 Q2226.63 226.039 2220.56 226.039 Q2218.32 226.039 2216.33 225.691 Q2214.34 225.367 2212.46 224.673 L2212.46 220.529 Q2214.34 221.548 2216.17 222.034 Q2217.99 222.52 2219.89 222.52 Q2224.08 222.52 2226.17 220.321 Q2228.25 218.145 2228.25 213.724 L2228.25 211.617 Q2226.93 213.909 2224.87 215.043 Q2222.81 216.178 2219.94 216.178 Q2215.17 216.178 2212.25 212.543 Q2209.34 208.909 2209.34 202.914 Q2209.34 196.895 2212.25 193.261 Q2215.17 189.627 2219.94 189.627 Q2222.81 189.627 2224.87 190.761 Q2226.93 191.895 2228.25 194.187 L2228.25 190.252 L2232.51 190.252 L2232.51 212.96 Z\" fill=\"#000000\" fill-rule=\"evenodd\" fill-opacity=\"1\" /></svg>\n"
      ]
     },
     "execution_count": 40,
     "metadata": {},
     "output_type": "execute_result"
    }
   ],
   "source": [
    "h = 10.0 .^ (-(0:20))\n",
    "\n",
    "abs_err_f = abs.((f.(h) .- f(0)) ./ h .- 1)\n",
    "abs_err_g = abs.((g.(h) .- g(0)) ./ h .- 1/3)\n",
    "\n",
    "plot(abs_err_f; yscale=:log10, label=\"f\")\n",
    "plot!(abs_err_g; yscale=:log10, label=\"g\")\n"
   ]
  },
  {
   "cell_type": "code",
   "execution_count": null,
   "id": "cd39edf4",
   "metadata": {},
   "outputs": [],
   "source": []
  }
 ],
 "metadata": {
  "kernelspec": {
   "display_name": "Julia 1.7.1",
   "language": "julia",
   "name": "julia-1.7"
  },
  "language_info": {
   "file_extension": ".jl",
   "mimetype": "application/julia",
   "name": "julia",
   "version": "1.7.1"
  }
 },
 "nbformat": 4,
 "nbformat_minor": 5
}
