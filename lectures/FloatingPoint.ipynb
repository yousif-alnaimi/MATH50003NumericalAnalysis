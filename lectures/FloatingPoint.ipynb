{
 "cells": [
  {
   "cell_type": "code",
   "execution_count": 1,
   "id": "c818168b",
   "metadata": {},
   "outputs": [],
   "source": [
    "using ColorBitstring"
   ]
  },
  {
   "cell_type": "markdown",
   "id": "ff099ca8",
   "metadata": {},
   "source": [
    "Floating point numbers are typically 64-bit"
   ]
  },
  {
   "cell_type": "code",
   "execution_count": 6,
   "id": "b39e2ccd",
   "metadata": {},
   "outputs": [
    {
     "name": "stdout",
     "output_type": "stream",
     "text": [
      "\u001b[31m1\u001b[0m\u001b[32m10000000011\u001b[0m\u001b[34m0111010011001100110011001100110011001100110011001101\u001b[0m"
     ]
    }
   ],
   "source": [
    "printbits(-23.3)"
   ]
  },
  {
   "cell_type": "code",
   "execution_count": 10,
   "id": "8042b673",
   "metadata": {},
   "outputs": [
    {
     "data": {
      "text/plain": [
       "1027"
      ]
     },
     "execution_count": 10,
     "metadata": {},
     "output_type": "execute_result"
    }
   ],
   "source": [
    "q = parse(Int, \"10000000011\"; base=2)"
   ]
  },
  {
   "cell_type": "code",
   "execution_count": 8,
   "id": "cb38294b",
   "metadata": {},
   "outputs": [
    {
     "data": {
      "text/plain": [
       "1023"
      ]
     },
     "execution_count": 8,
     "metadata": {},
     "output_type": "execute_result"
    }
   ],
   "source": [
    "S = 52\n",
    "Q = 11\n",
    "σ = 1023"
   ]
  },
  {
   "cell_type": "code",
   "execution_count": 11,
   "id": "f8401965",
   "metadata": {},
   "outputs": [
    {
     "data": {
      "text/plain": [
       "0"
      ]
     },
     "execution_count": 11,
     "metadata": {},
     "output_type": "execute_result"
    }
   ],
   "source": [
    "-2^(q-σ)"
   ]
  },
  {
   "cell_type": "code",
   "execution_count": 15,
   "id": "29f3d69e",
   "metadata": {},
   "outputs": [
    {
     "data": {
      "text/plain": [
       "1.45625"
      ]
     },
     "execution_count": 15,
     "metadata": {},
     "output_type": "execute_result"
    }
   ],
   "source": [
    "sig = 2^(-1.0*S) * parse(Int, \"1\" * \"0111010011001100110011001100110011001100110011001101\"; base=2)"
   ]
  },
  {
   "cell_type": "code",
   "execution_count": 16,
   "id": "625a4b56",
   "metadata": {},
   "outputs": [
    {
     "data": {
      "text/plain": [
       "-23.3"
      ]
     },
     "execution_count": 16,
     "metadata": {},
     "output_type": "execute_result"
    }
   ],
   "source": [
    "-2^(q-σ) * sig"
   ]
  },
  {
   "cell_type": "code",
   "execution_count": 18,
   "id": "25ee7dfe",
   "metadata": {},
   "outputs": [
    {
     "name": "stdout",
     "output_type": "stream",
     "text": [
      "\u001b[31m0\u001b[0m\u001b[32m01101\u001b[0m\u001b[34m0101010101\u001b[0m"
     ]
    }
   ],
   "source": [
    "x = Float16(1/3)\n",
    "printbits(x)"
   ]
  },
  {
   "cell_type": "markdown",
   "id": "dcfbdd84",
   "metadata": {},
   "source": [
    "Sub-normal number:"
   ]
  },
  {
   "cell_type": "code",
   "execution_count": 21,
   "id": "4b93deea",
   "metadata": {},
   "outputs": [
    {
     "name": "stdout",
     "output_type": "stream",
     "text": [
      "\u001b[31m0\u001b[0m\u001b[32m00000\u001b[0m\u001b[34m0000101011\u001b[0m"
     ]
    }
   ],
   "source": [
    "x = Float16(2^(-17)/3)\n",
    "printbits(x)"
   ]
  },
  {
   "cell_type": "markdown",
   "id": "bd2f6a84",
   "metadata": {},
   "source": [
    "two types of zeros:"
   ]
  },
  {
   "cell_type": "code",
   "execution_count": 24,
   "id": "2716a07b",
   "metadata": {},
   "outputs": [
    {
     "name": "stdout",
     "output_type": "stream",
     "text": [
      "\u001b[31m0\u001b[0m\u001b[32m00000000000\u001b[0m\u001b[34m0000000000000000000000000000000000000000000000000000\u001b[0m\n",
      "\u001b[31m1\u001b[0m\u001b[32m00000000000\u001b[0m\u001b[34m0000000000000000000000000000000000000000000000000000\u001b[0m"
     ]
    },
    {
     "data": {
      "text/plain": [
       "true"
      ]
     },
     "execution_count": 24,
     "metadata": {},
     "output_type": "execute_result"
    }
   ],
   "source": [
    "printlnbits(0.0)\n",
    "printbits(-0.0)\n",
    "0.0 == -0.0"
   ]
  },
  {
   "cell_type": "code",
   "execution_count": 25,
   "id": "10ac4e7d",
   "metadata": {},
   "outputs": [
    {
     "data": {
      "text/plain": [
       "Inf"
      ]
     },
     "execution_count": 25,
     "metadata": {},
     "output_type": "execute_result"
    }
   ],
   "source": [
    "1/0.0"
   ]
  },
  {
   "cell_type": "code",
   "execution_count": 26,
   "id": "cb2e489f",
   "metadata": {},
   "outputs": [
    {
     "data": {
      "text/plain": [
       "-Inf"
      ]
     },
     "execution_count": 26,
     "metadata": {},
     "output_type": "execute_result"
    }
   ],
   "source": [
    "1/(-0.0)"
   ]
  },
  {
   "cell_type": "code",
   "execution_count": 27,
   "id": "31f3c886",
   "metadata": {},
   "outputs": [
    {
     "data": {
      "text/plain": [
       "NaN"
      ]
     },
     "execution_count": 27,
     "metadata": {},
     "output_type": "execute_result"
    }
   ],
   "source": [
    "0.0/0.0"
   ]
  },
  {
   "cell_type": "code",
   "execution_count": 28,
   "id": "1b5d30d4",
   "metadata": {},
   "outputs": [
    {
     "name": "stdout",
     "output_type": "stream",
     "text": [
      "\u001b[31m0\u001b[0m\u001b[32m11111111111\u001b[0m\u001b[34m1000000000000000000000000000000000000000000000000000\u001b[0m"
     ]
    }
   ],
   "source": [
    "printbits(NaN)"
   ]
  },
  {
   "cell_type": "code",
   "execution_count": 30,
   "id": "07dfe1ce",
   "metadata": {},
   "outputs": [
    {
     "data": {
      "text/plain": [
       "NaN"
      ]
     },
     "execution_count": 30,
     "metadata": {},
     "output_type": "execute_result"
    }
   ],
   "source": [
    "1 / NaN"
   ]
  },
  {
   "cell_type": "code",
   "execution_count": 31,
   "id": "e353710b",
   "metadata": {},
   "outputs": [
    {
     "data": {
      "text/plain": [
       "false"
      ]
     },
     "execution_count": 31,
     "metadata": {},
     "output_type": "execute_result"
    }
   ],
   "source": [
    "NaN == NaN"
   ]
  },
  {
   "cell_type": "code",
   "execution_count": null,
   "id": "5dadcfbe",
   "metadata": {},
   "outputs": [],
   "source": []
  }
 ],
 "metadata": {
  "kernelspec": {
   "display_name": "Julia 1.7.0",
   "language": "julia",
   "name": "julia-1.7"
  },
  "language_info": {
   "file_extension": ".jl",
   "mimetype": "application/julia",
   "name": "julia",
   "version": "1.7.0"
  }
 },
 "nbformat": 4,
 "nbformat_minor": 5
}
