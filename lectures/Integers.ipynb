{
 "cells": [
  {
   "cell_type": "code",
   "execution_count": 4,
   "id": "cae3418b",
   "metadata": {},
   "outputs": [],
   "source": [
    "using ColorBitstring"
   ]
  },
  {
   "cell_type": "markdown",
   "id": "040f7247",
   "metadata": {},
   "source": [
    "Integers are typically 64-bit"
   ]
  },
  {
   "cell_type": "code",
   "execution_count": 7,
   "id": "9a894a66",
   "metadata": {},
   "outputs": [
    {
     "name": "stdout",
     "output_type": "stream",
     "text": [
      "\u001b[31m0\u001b[0m\u001b[34m000000000000000000000000000000000000000000000000000000101100101\u001b[0m"
     ]
    },
    {
     "data": {
      "text/plain": [
       "Int64"
      ]
     },
     "execution_count": 7,
     "metadata": {},
     "output_type": "execute_result"
    }
   ],
   "source": [
    "x = 357\n",
    "printbits(x)\n",
    "typeof(x)"
   ]
  },
  {
   "cell_type": "code",
   "execution_count": 11,
   "id": "d6d5a282",
   "metadata": {},
   "outputs": [
    {
     "name": "stdout",
     "output_type": "stream",
     "text": [
      "\u001b[31m1\u001b[0m\u001b[34m0000101\u001b[0m"
     ]
    }
   ],
   "source": [
    "x = Int8(-123)\n",
    "printbits(x)"
   ]
  },
  {
   "cell_type": "markdown",
   "id": "7ec7a1cb",
   "metadata": {},
   "source": [
    "Can create numbers from their bits by parsing a string.\n",
    "We need to first create an unsigned integer to avoid issues with overflow"
   ]
  },
  {
   "cell_type": "code",
   "execution_count": 16,
   "id": "8d3a9831",
   "metadata": {},
   "outputs": [
    {
     "name": "stdout",
     "output_type": "stream",
     "text": [
      "\u001b[31m1\u001b[0m\u001b[34m0000101\u001b[0m"
     ]
    },
    {
     "data": {
      "text/plain": [
       "-123"
      ]
     },
     "execution_count": 16,
     "metadata": {},
     "output_type": "execute_result"
    }
   ],
   "source": [
    "u = parse(UInt8,\"10000101\"; base=2) # unsigned 8-bit integer\n",
    "x = reinterpret(Int8, u)\n",
    "printbits(x)\n",
    "x"
   ]
  },
  {
   "cell_type": "code",
   "execution_count": 21,
   "id": "6cc39724",
   "metadata": {},
   "outputs": [
    {
     "name": "stdout",
     "output_type": "stream",
     "text": [
      "\u001b[31m0\u001b[0m\u001b[34m1111111\u001b[0m\n",
      "\u001b[31m0\u001b[0m\u001b[34m0000001\u001b[0m\n",
      "\u001b[31m1\u001b[0m\u001b[34m0000000\u001b[0m"
     ]
    }
   ],
   "source": [
    "x = Int8(127)\n",
    "y = Int8(1)\n",
    "printlnbits(x)\n",
    "printlnbits(y)\n",
    "printbits(x+y)"
   ]
  },
  {
   "cell_type": "code",
   "execution_count": 23,
   "id": "ee913f5c",
   "metadata": {},
   "outputs": [
    {
     "data": {
      "text/plain": [
       "125"
      ]
     },
     "execution_count": 23,
     "metadata": {},
     "output_type": "execute_result"
    }
   ],
   "source": [
    "x * Int8(3)"
   ]
  },
  {
   "cell_type": "markdown",
   "id": "e8864348",
   "metadata": {},
   "source": [
    "4. Variable bit-length integers (`BigInt`)"
   ]
  },
  {
   "cell_type": "code",
   "execution_count": 26,
   "id": "1d164c84",
   "metadata": {},
   "outputs": [
    {
     "data": {
      "text/plain": [
       "BigInt"
      ]
     },
     "execution_count": 26,
     "metadata": {},
     "output_type": "execute_result"
    }
   ],
   "source": [
    "x = big(10)\n",
    "typeof(x)"
   ]
  },
  {
   "cell_type": "code",
   "execution_count": 29,
   "id": "ca99774c",
   "metadata": {},
   "outputs": [
    {
     "ename": "LoadError",
     "evalue": "OverflowError: exponent 10000000000000000000000000000000000000000000000000000000000000000000000000000000000000000000000000000 is too large and computation will overflow",
     "output_type": "error",
     "traceback": [
      "OverflowError: exponent 10000000000000000000000000000000000000000000000000000000000000000000000000000000000000000000000000000 is too large and computation will overflow",
      "",
      "Stacktrace:",
      " [1] (::Base.GMP.var\"#throw1#3\")(y::BigInt)",
      "   @ Base.GMP ./gmp.jl:584",
      " [2] bigint_pow(x::BigInt, y::BigInt)",
      "   @ Base.GMP ./gmp.jl:599",
      " [3] ^(x::BigInt, y::BigInt)",
      "   @ Base.GMP ./gmp.jl:604",
      " [4] top-level scope",
      "   @ In[29]:2",
      " [5] eval",
      "   @ ./boot.jl:373 [inlined]",
      " [6] include_string(mapexpr::typeof(REPL.softscope), mod::Module, code::String, filename::String)",
      "   @ Base ./loading.jl:1196"
     ]
    }
   ],
   "source": [
    "y = (x^x)^x\n",
    "y^y"
   ]
  },
  {
   "cell_type": "code",
   "execution_count": null,
   "id": "6dfba563",
   "metadata": {},
   "outputs": [],
   "source": []
  }
 ],
 "metadata": {
  "kernelspec": {
   "display_name": "Julia 1.7.0",
   "language": "julia",
   "name": "julia-1.7"
  },
  "language_info": {
   "file_extension": ".jl",
   "mimetype": "application/julia",
   "name": "julia",
   "version": "1.7.0"
  }
 },
 "nbformat": 4,
 "nbformat_minor": 5
}
