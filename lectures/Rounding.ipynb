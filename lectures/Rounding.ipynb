{
 "cells": [
  {
   "cell_type": "code",
   "execution_count": 28,
   "id": "33040f45",
   "metadata": {},
   "outputs": [],
   "source": [
    "using ColorBitstring, SetRounding"
   ]
  },
  {
   "cell_type": "code",
   "execution_count": 35,
   "id": "fd1a8165",
   "metadata": {},
   "outputs": [
    {
     "name": "stdout",
     "output_type": "stream",
     "text": [
      "\u001b[31m0\u001b[0m\u001b[32m01101\u001b[0m\u001b[34m0101010101\u001b[0m\n",
      "\u001b[31m0\u001b[0m\u001b[32m01101\u001b[0m\u001b[34m0101010110\u001b[0m\n",
      "\u001b[31m0\u001b[0m\u001b[32m01101\u001b[0m\u001b[34m0101010101\u001b[0m\n"
     ]
    }
   ],
   "source": [
    "printlnbits(Float16(1/3, RoundNearest))\n",
    "printlnbits(Float16(1/3, RoundUp))\n",
    "printlnbits(Float16(1/3, RoundDown))"
   ]
  },
  {
   "cell_type": "code",
   "execution_count": 45,
   "id": "ccd67687",
   "metadata": {},
   "outputs": [
    {
     "name": "stdout",
     "output_type": "stream",
     "text": [
      "\u001b[31m0\u001b[0m\u001b[32m01111111111\u001b[0m\u001b[34m0000000000000000000000000000000000000000000000000001\u001b[0m\n"
     ]
    }
   ],
   "source": [
    "x = 1.0\n",
    "y = 2.0^(-53)\n",
    "z = setrounding(Float64, RoundUp) do\n",
    "    x + y\n",
    "end\n",
    "printlnbits(z)"
   ]
  },
  {
   "cell_type": "code",
   "execution_count": 47,
   "id": "4b41d39e",
   "metadata": {},
   "outputs": [
    {
     "data": {
      "text/plain": [
       "1.0"
      ]
     },
     "execution_count": 47,
     "metadata": {},
     "output_type": "execute_result"
    }
   ],
   "source": [
    "(x + y) + y"
   ]
  },
  {
   "cell_type": "code",
   "execution_count": 61,
   "id": "06018ed9",
   "metadata": {},
   "outputs": [
    {
     "data": {
      "text/plain": [
       "0.3332519531250002"
      ]
     },
     "execution_count": 61,
     "metadata": {},
     "output_type": "execute_result"
    }
   ],
   "source": [
    "x + (y+y)"
   ]
  },
  {
   "cell_type": "code",
   "execution_count": null,
   "id": "8e3e06ff",
   "metadata": {},
   "outputs": [],
   "source": []
  }
 ],
 "metadata": {
  "kernelspec": {
   "display_name": "Julia 1.7.0",
   "language": "julia",
   "name": "julia-1.7"
  },
  "language_info": {
   "file_extension": ".jl",
   "mimetype": "application/julia",
   "name": "julia",
   "version": "1.7.0"
  }
 },
 "nbformat": 4,
 "nbformat_minor": 5
}
