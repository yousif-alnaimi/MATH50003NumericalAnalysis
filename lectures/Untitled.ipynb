{
 "cells": [
  {
   "cell_type": "code",
   "execution_count": 3,
   "id": "7ac020a2",
   "metadata": {},
   "outputs": [],
   "source": [
    "using ColorBitstring, SetRounding"
   ]
  },
  {
   "cell_type": "markdown",
   "id": "66235c46",
   "metadata": {},
   "source": [
    "We can set rounding"
   ]
  },
  {
   "cell_type": "code",
   "execution_count": 10,
   "id": "72f2f7b4",
   "metadata": {},
   "outputs": [
    {
     "name": "stdout",
     "output_type": "stream",
     "text": [
      "\u001b[31m0\u001b[0m\u001b[32m01101\u001b[0m\u001b[34m0101010101\u001b[0m\n",
      "\u001b[31m0\u001b[0m\u001b[32m01101\u001b[0m\u001b[34m0101010101\u001b[0m\n",
      "\u001b[31m0\u001b[0m\u001b[32m01101\u001b[0m\u001b[34m0101010110\u001b[0m"
     ]
    }
   ],
   "source": [
    "printlnbits(Float16(1/3, RoundDown))\n",
    "printlnbits(Float16(1/3, RoundNearest))\n",
    "printbits(Float16(1/3, RoundUp))"
   ]
  },
  {
   "cell_type": "code",
   "execution_count": 25,
   "id": "00f6bdcd",
   "metadata": {},
   "outputs": [
    {
     "data": {
      "text/plain": [
       "Float16(1.0)"
      ]
     },
     "execution_count": 25,
     "metadata": {},
     "output_type": "execute_result"
    }
   ],
   "source": [
    "x = Float16(1)\n",
    "y = Float16(2^(-12))\n",
    "x + y"
   ]
  },
  {
   "cell_type": "markdown",
   "id": "73e3f21a",
   "metadata": {},
   "source": [
    "nonassociativity:"
   ]
  },
  {
   "cell_type": "code",
   "execution_count": 26,
   "id": "35998a6c",
   "metadata": {},
   "outputs": [
    {
     "data": {
      "text/plain": [
       "Float16(1.0)"
      ]
     },
     "execution_count": 26,
     "metadata": {},
     "output_type": "execute_result"
    }
   ],
   "source": [
    "x + y + y"
   ]
  },
  {
   "cell_type": "code",
   "execution_count": 27,
   "id": "885c7ba4",
   "metadata": {},
   "outputs": [
    {
     "data": {
      "text/plain": [
       "Float16(1.0)"
      ]
     },
     "execution_count": 27,
     "metadata": {},
     "output_type": "execute_result"
    }
   ],
   "source": [
    "x + (y + y)"
   ]
  },
  {
   "cell_type": "code",
   "execution_count": 24,
   "id": "c830bc10",
   "metadata": {},
   "outputs": [
    {
     "data": {
      "text/plain": [
       "1.00048828125"
      ]
     },
     "execution_count": 24,
     "metadata": {},
     "output_type": "execute_result"
    }
   ],
   "source": [
    "Float16(1 + 2^(-11))"
   ]
  },
  {
   "cell_type": "code",
   "execution_count": 34,
   "id": "f9574339",
   "metadata": {},
   "outputs": [
    {
     "name": "stdout",
     "output_type": "stream",
     "text": [
      "\u001b[31m0\u001b[0m\u001b[32m01111\u001b[0m\u001b[34m0000000001\u001b[0m"
     ]
    }
   ],
   "source": [
    "printbits(x + 4y)"
   ]
  },
  {
   "cell_type": "code",
   "execution_count": 36,
   "id": "503d9164",
   "metadata": {},
   "outputs": [
    {
     "data": {
      "text/plain": [
       "Float16(1.0)"
      ]
     },
     "execution_count": 36,
     "metadata": {},
     "output_type": "execute_result"
    }
   ],
   "source": [
    "(x + 4y) - 4y"
   ]
  },
  {
   "cell_type": "code",
   "execution_count": 37,
   "id": "d0a738e2",
   "metadata": {},
   "outputs": [
    {
     "data": {
      "text/plain": [
       "0.00048828125"
      ]
     },
     "execution_count": 37,
     "metadata": {},
     "output_type": "execute_result"
    }
   ],
   "source": [
    "2^(-11)"
   ]
  },
  {
   "cell_type": "code",
   "execution_count": null,
   "id": "6e290063",
   "metadata": {},
   "outputs": [],
   "source": []
  }
 ],
 "metadata": {
  "kernelspec": {
   "display_name": "Julia 1.7.0",
   "language": "julia",
   "name": "julia-1.7"
  },
  "language_info": {
   "file_extension": ".jl",
   "mimetype": "application/julia",
   "name": "julia",
   "version": "1.7.0"
  }
 },
 "nbformat": 4,
 "nbformat_minor": 5
}
