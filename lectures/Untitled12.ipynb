{
 "cells": [
  {
   "cell_type": "markdown",
   "id": "4a08ec34",
   "metadata": {},
   "source": [
    "# LU and PLU Decompositions\n",
    "\n",
    "Gaussian elimination can be interpreted as:\n",
    "$$\n",
    "A = L U = \\begin{bmatrix} \\times \\\\ \\vdots & \\ddots \\\\ \\times & \\cdots & \\times\n",
    "\\end{bmatrix}  \\begin{bmatrix} \\times & \\cdots & \\times \\\\ & \\ddots & \\vdots \\\\ && \\times\n",
    "\\end{bmatrix}\n",
    "$$\n",
    "Gaussian elimination with pivoting can be interpreted as:\n",
    "$$\n",
    "A = P^\\top L U = P_\\sigma^\\top\\begin{bmatrix} \\times \\\\ \\vdots & \\ddots \\\\ \\times & \\cdots & \\times\n",
    "\\end{bmatrix}  \\begin{bmatrix} \\times & \\cdots & \\times \\\\ & \\ddots & \\vdots \\\\ && \\times\n",
    "\\end{bmatrix}\n",
    "$$"
   ]
  },
  {
   "cell_type": "code",
   "execution_count": 3,
   "id": "06ca90a1",
   "metadata": {},
   "outputs": [],
   "source": [
    "using LinearAlgebra, BenchmarkTools"
   ]
  },
  {
   "cell_type": "code",
   "execution_count": 6,
   "id": "080a194e",
   "metadata": {},
   "outputs": [
    {
     "name": "stdout",
     "output_type": "stream",
     "text": [
      "  203.301 μs (7 allocations: 134.55 KiB)\n"
     ]
    }
   ],
   "source": [
    "n = 100\n",
    "A = randn(n,n)\n",
    "\n",
    "@btime qr(A);"
   ]
  },
  {
   "cell_type": "code",
   "execution_count": 7,
   "id": "b5622e37",
   "metadata": {},
   "outputs": [
    {
     "name": "stdout",
     "output_type": "stream",
     "text": [
      "  55.969 μs (4 allocations: 79.08 KiB)\n"
     ]
    }
   ],
   "source": [
    "@btime lu(A); # returns the PLU Decomposition"
   ]
  },
  {
   "cell_type": "code",
   "execution_count": 10,
   "id": "8890c728",
   "metadata": {},
   "outputs": [],
   "source": [
    "b = rand(n);"
   ]
  },
  {
   "cell_type": "code",
   "execution_count": 12,
   "id": "1d0e48be",
   "metadata": {},
   "outputs": [
    {
     "data": {
      "text/plain": [
       "0.0"
      ]
     },
     "execution_count": 12,
     "metadata": {},
     "output_type": "execute_result"
    }
   ],
   "source": [
    "norm(lu(A) \\ b - A \\ b)"
   ]
  },
  {
   "cell_type": "code",
   "execution_count": 13,
   "id": "4223dab8",
   "metadata": {},
   "outputs": [
    {
     "data": {
      "text/plain": [
       "8.597325713189271e-14"
      ]
     },
     "execution_count": 13,
     "metadata": {},
     "output_type": "execute_result"
    }
   ],
   "source": [
    "norm(qr(A) \\ b - A \\ b)"
   ]
  },
  {
   "cell_type": "code",
   "execution_count": 14,
   "id": "50e033b2",
   "metadata": {},
   "outputs": [
    {
     "data": {
      "text/plain": [
       "1.425358539790752198650802673203131638232571083112364022139213085517791007107324e-13"
      ]
     },
     "execution_count": 14,
     "metadata": {},
     "output_type": "execute_result"
    }
   ],
   "source": [
    "norm(lu(A) \\ b - big.(A) \\ b)"
   ]
  },
  {
   "cell_type": "code",
   "execution_count": 16,
   "id": "c3e29046",
   "metadata": {},
   "outputs": [
    {
     "data": {
      "text/plain": [
       "7.927522338547764273693946389183225501504147654085037810246615786067216082179432e-14"
      ]
     },
     "execution_count": 16,
     "metadata": {},
     "output_type": "execute_result"
    }
   ],
   "source": [
    "norm(qr(A) \\ b - big.(A) \\ b)"
   ]
  },
  {
   "cell_type": "markdown",
   "id": "8ba67923",
   "metadata": {},
   "source": [
    "Conclusion: \n",
    "\n",
    "PLU decompositions are 4x faster, and only slightly less accurate than QR (on this example)\n",
    "\n",
    "**WARNING** there is an extremely small chance PLU will give very inaccurate results, whereas QR is fine."
   ]
  },
  {
   "cell_type": "markdown",
   "id": "3a0b7c1d",
   "metadata": {},
   "source": [
    "## LU Decomposition\n",
    "$$\n",
    "L_{n-1} \\cdots L_1 A = U\n",
    "$$\n",
    "so that\n",
    "$$\n",
    "L = L_1^{-1}\\cdots L_{n-1}^{-1}\n",
    "$$"
   ]
  },
  {
   "cell_type": "code",
   "execution_count": 23,
   "id": "c9f8e2e5",
   "metadata": {},
   "outputs": [
    {
     "data": {
      "text/plain": [
       "6.2001239763046875e-12"
      ]
     },
     "execution_count": 23,
     "metadata": {},
     "output_type": "execute_result"
    }
   ],
   "source": [
    "L,U = lu(A, NoPivot())\n",
    "norm(L*U - A)"
   ]
  },
  {
   "cell_type": "code",
   "execution_count": 39,
   "id": "83912d3d",
   "metadata": {},
   "outputs": [
    {
     "data": {
      "text/plain": [
       "3×3 Matrix{Float64}:\n",
       " 2.0  1.0  1.0\n",
       " 0.0  3.0  8.0\n",
       " 0.0  0.0  0.166667"
      ]
     },
     "execution_count": 39,
     "metadata": {},
     "output_type": "execute_result"
    }
   ],
   "source": [
    "A = [2 1 1; \n",
    "     2 4 9; \n",
    "     3 2 3]\n",
    "\n",
    "n = size(A,1)\n",
    "L₁ = Matrix(1.0I, n, n)\n",
    "L₁[2:end,1] = -A[2:end,1]/A[1,1]\n",
    "\n",
    "A₁ = L₁*A\n",
    "\n",
    "L₂ = Matrix(1.0I, n, n)\n",
    "L₂[3:end,2] = -A₁[3:end,2]/A₁[2,2]\n",
    "\n",
    "L₂*L₁*A\n",
    "\n"
   ]
  },
  {
   "cell_type": "code",
   "execution_count": null,
   "id": "5ba4b3ea",
   "metadata": {},
   "outputs": [],
   "source": []
  },
  {
   "cell_type": "code",
   "execution_count": 40,
   "id": "74152ad7",
   "metadata": {},
   "outputs": [
    {
     "ename": "LoadError",
     "evalue": "syntax: incomplete: \"function\" at In[40]:1 requires end",
     "output_type": "error",
     "traceback": [
      "syntax: incomplete: \"function\" at In[40]:1 requires end",
      "",
      "Stacktrace:",
      " [1] top-level scope",
      "   @ In[40]:1",
      " [2] eval",
      "   @ ./boot.jl:373 [inlined]",
      " [3] include_string(mapexpr::typeof(REPL.softscope), mod::Module, code::String, filename::String)",
      "   @ Base ./loading.jl:1196"
     ]
    }
   ],
   "source": [
    "function lu_nopivot(A)\n",
    "    n = size(A,1)"
   ]
  }
 ],
 "metadata": {
  "kernelspec": {
   "display_name": "Julia 1.7.1",
   "language": "julia",
   "name": "julia-1.7"
  },
  "language_info": {
   "file_extension": ".jl",
   "mimetype": "application/julia",
   "name": "julia",
   "version": "1.7.1"
  }
 },
 "nbformat": 4,
 "nbformat_minor": 5
}
