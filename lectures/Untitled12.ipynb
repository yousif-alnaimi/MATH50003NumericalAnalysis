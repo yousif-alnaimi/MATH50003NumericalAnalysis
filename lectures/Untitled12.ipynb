{
 "cells": [
  {
   "cell_type": "markdown",
   "id": "7eafca5b",
   "metadata": {},
   "source": [
    "# LU and PLU Decompositions\n",
    "\n",
    "Gaussian elimination can be interpreted as:\n",
    "$$\n",
    "A = L U = \\begin{bmatrix} \\times \\\\ \\vdots & \\ddots \\\\ \\times & \\cdots & \\times\n",
    "\\end{bmatrix}  \\begin{bmatrix} \\times & \\cdots & \\times \\\\ & \\ddots & \\vdots \\\\ && \\times\n",
    "\\end{bmatrix}\n",
    "$$\n",
    "Gaussian elimination with pivoting can be interpreted as:\n",
    "$$\n",
    "A = P^\\top L U = P_\\sigma^\\top\\begin{bmatrix} \\times \\\\ \\vdots & \\ddots \\\\ \\times & \\cdots & \\times\n",
    "\\end{bmatrix}  \\begin{bmatrix} \\times & \\cdots & \\times \\\\ & \\ddots & \\vdots \\\\ && \\times\n",
    "\\end{bmatrix}\n",
    "$$"
   ]
  },
  {
   "cell_type": "code",
   "execution_count": 3,
   "id": "53a310f9",
   "metadata": {},
   "outputs": [],
   "source": [
    "using LinearAlgebra, BenchmarkTools"
   ]
  },
  {
   "cell_type": "code",
   "execution_count": 6,
   "id": "df94920c",
   "metadata": {},
   "outputs": [
    {
     "name": "stdout",
     "output_type": "stream",
     "text": [
      "  203.301 μs (7 allocations: 134.55 KiB)\n"
     ]
    }
   ],
   "source": [
    "n = 100\n",
    "A = randn(n,n)\n",
    "\n",
    "@btime qr(A);"
   ]
  },
  {
   "cell_type": "code",
   "execution_count": 7,
   "id": "7ea554e6",
   "metadata": {},
   "outputs": [
    {
     "name": "stdout",
     "output_type": "stream",
     "text": [
      "  55.969 μs (4 allocations: 79.08 KiB)\n"
     ]
    }
   ],
   "source": [
    "@btime lu(A); # returns the PLU Decomposition"
   ]
  },
  {
   "cell_type": "code",
   "execution_count": 10,
   "id": "8a53a0cf",
   "metadata": {},
   "outputs": [],
   "source": [
    "b = rand(n);"
   ]
  },
  {
   "cell_type": "code",
   "execution_count": 12,
   "id": "5ea2fd49",
   "metadata": {},
   "outputs": [
    {
     "data": {
      "text/plain": [
       "0.0"
      ]
     },
     "execution_count": 12,
     "metadata": {},
     "output_type": "execute_result"
    }
   ],
   "source": [
    "norm(lu(A) \\ b - A \\ b)"
   ]
  },
  {
   "cell_type": "code",
   "execution_count": 13,
   "id": "cbec307f",
   "metadata": {},
   "outputs": [
    {
     "data": {
      "text/plain": [
       "8.597325713189271e-14"
      ]
     },
     "execution_count": 13,
     "metadata": {},
     "output_type": "execute_result"
    }
   ],
   "source": [
    "norm(qr(A) \\ b - A \\ b)"
   ]
  },
  {
   "cell_type": "code",
   "execution_count": 14,
   "id": "f28e3868",
   "metadata": {},
   "outputs": [
    {
     "data": {
      "text/plain": [
       "1.425358539790752198650802673203131638232571083112364022139213085517791007107324e-13"
      ]
     },
     "execution_count": 14,
     "metadata": {},
     "output_type": "execute_result"
    }
   ],
   "source": [
    "norm(lu(A) \\ b - big.(A) \\ b)"
   ]
  },
  {
   "cell_type": "code",
   "execution_count": 16,
   "id": "e8a49e12",
   "metadata": {},
   "outputs": [
    {
     "data": {
      "text/plain": [
       "7.927522338547764273693946389183225501504147654085037810246615786067216082179432e-14"
      ]
     },
     "execution_count": 16,
     "metadata": {},
     "output_type": "execute_result"
    }
   ],
   "source": [
    "norm(qr(A) \\ b - big.(A) \\ b)"
   ]
  },
  {
   "cell_type": "markdown",
   "id": "1d20454e",
   "metadata": {},
   "source": [
    "Conclusion: \n",
    "\n",
    "PLU decompositions are 4x faster, and only slightly less accurate than QR (on this example)\n",
    "\n",
    "**WARNING** there is an extremely small chance PLU will give very inaccurate results, whereas QR is fine."
   ]
  },
  {
   "cell_type": "markdown",
   "id": "7079a738",
   "metadata": {},
   "source": [
    "## LU Decomposition\n",
    "$$\n",
    "L_{n-1} \\cdots L_1 A = U\n",
    "$$\n",
    "so that\n",
    "$$\n",
    "L = L_1^{-1}\\cdots L_{n-1}^{-1}\n",
    "$$"
   ]
  },
  {
   "cell_type": "code",
   "execution_count": 23,
   "id": "ffaeec68",
   "metadata": {},
   "outputs": [
    {
     "data": {
      "text/plain": [
       "6.2001239763046875e-12"
      ]
     },
     "execution_count": 23,
     "metadata": {},
     "output_type": "execute_result"
    }
   ],
   "source": [
    "L,U = lu(A, NoPivot())\n",
    "norm(L*U - A)"
   ]
  },
  {
   "cell_type": "code",
   "execution_count": 39,
   "id": "ad098ffb",
   "metadata": {},
   "outputs": [
    {
     "data": {
      "text/plain": [
       "3×3 Matrix{Float64}:\n",
       " 2.0  1.0  1.0\n",
       " 0.0  3.0  8.0\n",
       " 0.0  0.0  0.166667"
      ]
     },
     "execution_count": 39,
     "metadata": {},
     "output_type": "execute_result"
    }
   ],
   "source": [
    "A = [2 1 1; \n",
    "     2 4 9; \n",
    "     3 2 3]\n",
    "\n",
    "n = size(A,1)\n",
    "L₁ = Matrix(1.0I, n, n)\n",
    "L₁[2:end,1] = -A[2:end,1]/A[1,1]\n",
    "\n",
    "A₁ = L₁*A\n",
    "\n",
    "L₂ = Matrix(1.0I, n, n)\n",
    "L₂[3:end,2] = -A₁[3:end,2]/A₁[2,2]\n",
    "\n",
    "L₂*L₁*A\n",
    "\n"
   ]
  },
  {
   "cell_type": "code",
   "execution_count": null,
   "id": "0e86702b",
   "metadata": {},
   "outputs": [],
   "source": []
  }
 ],
 "metadata": {
  "kernelspec": {
   "display_name": "Julia 1.7.1",
   "language": "julia",
   "name": "julia-1.7"
  },
  "language_info": {
   "file_extension": ".jl",
   "mimetype": "application/julia",
   "name": "julia",
   "version": "1.7.1"
  }
 },
 "nbformat": 4,
 "nbformat_minor": 5
}
