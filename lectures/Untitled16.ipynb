{
 "cells": [
  {
   "cell_type": "markdown",
   "id": "88e92ada",
   "metadata": {},
   "source": [
    "# 1. Pitfalls in Julia"
   ]
  },
  {
   "cell_type": "code",
   "execution_count": 1,
   "id": "36a8ea4f",
   "metadata": {},
   "outputs": [
    {
     "data": {
      "text/plain": [
       "f (generic function with 1 method)"
      ]
     },
     "execution_count": 1,
     "metadata": {},
     "output_type": "execute_result"
    }
   ],
   "source": [
    "# StackOverflow\n",
    "\n",
    "function f(x)\n",
    "    f(x)\n",
    "end"
   ]
  },
  {
   "cell_type": "code",
   "execution_count": 2,
   "id": "66e159c7",
   "metadata": {},
   "outputs": [
    {
     "ename": "LoadError",
     "evalue": "StackOverflowError:",
     "output_type": "error",
     "traceback": [
      "StackOverflowError:",
      "",
      "Stacktrace:",
      " [1] f(x::Int64) (repeats 79984 times)",
      "   @ Main ./In[1]:4"
     ]
    }
   ],
   "source": [
    "f(5)"
   ]
  },
  {
   "cell_type": "code",
   "execution_count": 23,
   "id": "a9d00f74",
   "metadata": {},
   "outputs": [
    {
     "data": {
      "text/plain": [
       "getindex (generic function with 220 methods)"
      ]
     },
     "execution_count": 23,
     "metadata": {},
     "output_type": "execute_result"
    }
   ],
   "source": [
    "# MyMatrix(A) will have same entries as A, defined by A*x\n",
    "\n",
    "struct MyMatrix <: AbstractMatrix{Float64}\n",
    "    A::Matrix{Float64}\n",
    "end\n",
    "import Base: size, getindex, *\n",
    "\n",
    "size(A::MyMatrix) = size(A.A)\n",
    "\n",
    "*(A::MyMatrix, x::AbstractVector) = A.A * x\n",
    "\n",
    "\n",
    "function getindex(A::MyMatrix, k::Int, j::Int)\n",
    "    n = size(A,1)\n",
    "    eⱼ = zeros(n) # Now it is a Vector\n",
    "    eⱼ[j] = 1\n",
    "    (A * eⱼ)[k] # eₖ' * A * eⱼ == A[k,j]\n",
    "end\n"
   ]
  },
  {
   "cell_type": "code",
   "execution_count": 24,
   "id": "94f0fe5b",
   "metadata": {},
   "outputs": [
    {
     "data": {
      "text/plain": [
       "3×3 MyMatrix:\n",
       " -0.646254  -0.150629   0.51607\n",
       "  0.850809   0.183315  -2.40301\n",
       " -1.54714   -0.908848  -2.0737"
      ]
     },
     "execution_count": 24,
     "metadata": {},
     "output_type": "execute_result"
    }
   ],
   "source": [
    "A = MyMatrix(randn(3,3)) # error is because printing calls size"
   ]
  },
  {
   "cell_type": "code",
   "execution_count": 25,
   "id": "ea76a429",
   "metadata": {},
   "outputs": [
    {
     "data": {
      "text/plain": [
       "3×3 Matrix{Float64}:\n",
       " -0.646254  -0.150629   0.51607\n",
       "  0.850809   0.183315  -2.40301\n",
       " -1.54714   -0.908848  -2.0737"
      ]
     },
     "execution_count": 25,
     "metadata": {},
     "output_type": "execute_result"
    }
   ],
   "source": [
    "A.A"
   ]
  },
  {
   "cell_type": "markdown",
   "id": "8cb52a19",
   "metadata": {},
   "source": [
    "# 2. Using decompositions\n",
    "\n",
    "## 1. LU (no pivoting)"
   ]
  },
  {
   "cell_type": "code",
   "execution_count": 2,
   "id": "96ce0ef6",
   "metadata": {},
   "outputs": [
    {
     "data": {
      "text/plain": [
       "4.598248683588176e-10"
      ]
     },
     "execution_count": 2,
     "metadata": {},
     "output_type": "execute_result"
    }
   ],
   "source": [
    "using LinearAlgebra\n",
    "n = 1000\n",
    "\n",
    "A = randn(n,n)\n",
    "L, U = lu(A, NoPivot())\n",
    "\n",
    "norm(L*U - A)"
   ]
  },
  {
   "cell_type": "code",
   "execution_count": null,
   "id": "70cae6c8",
   "metadata": {},
   "outputs": [],
   "source": [
    "T = Tridiagonal(randn(n-1), randn(n), randn(n-1))\n",
    "L,U = lu(T, NoPivot()) # L and U (should be) Bidiagonal"
   ]
  },
  {
   "cell_type": "code",
   "execution_count": 7,
   "id": "97093948",
   "metadata": {},
   "outputs": [
    {
     "data": {
      "text/plain": [
       "4.7814256932425605e-12"
      ]
     },
     "execution_count": 7,
     "metadata": {},
     "output_type": "execute_result"
    }
   ],
   "source": [
    "L,U,p = lu(A)\n",
    "\n",
    "P = I(n)[p,:]\n",
    "\n",
    "norm(P'*L*U - A)"
   ]
  },
  {
   "cell_type": "code",
   "execution_count": 1,
   "id": "71307189",
   "metadata": {},
   "outputs": [
    {
     "data": {
      "text/plain": [
       "1"
      ]
     },
     "execution_count": 1,
     "metadata": {},
     "output_type": "execute_result"
    }
   ],
   "source": []
  },
  {
   "cell_type": "code",
   "execution_count": null,
   "id": "5d5939a8",
   "metadata": {},
   "outputs": [],
   "source": []
  },
  {
   "cell_type": "code",
   "execution_count": null,
   "id": "855b9626",
   "metadata": {},
   "outputs": [],
   "source": []
  }
 ],
 "metadata": {
  "@webio": {
   "lastCommId": null,
   "lastKernelId": null
  },
  "kernelspec": {
   "display_name": "Julia 1.7.1",
   "language": "julia",
   "name": "julia-1.7"
  },
  "language_info": {
   "file_extension": ".jl",
   "mimetype": "application/julia",
   "name": "julia",
   "version": "1.7.1"
  }
 },
 "nbformat": 4,
 "nbformat_minor": 5
}
