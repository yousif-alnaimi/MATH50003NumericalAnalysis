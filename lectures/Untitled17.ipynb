{
 "cells": [
  {
   "cell_type": "code",
   "execution_count": 1,
   "id": "8545a878",
   "metadata": {},
   "outputs": [
    {
     "data": {
      "text/plain": [
       "5.175482508108779e-10"
      ]
     },
     "execution_count": 1,
     "metadata": {},
     "output_type": "execute_result"
    }
   ],
   "source": [
    "using LinearAlgebra\n",
    "n = 1000\n",
    "\n",
    "A = randn(n,n)\n",
    "L, U = lu(A, NoPivot())\n",
    "\n",
    "norm(L*U - A)"
   ]
  },
  {
   "cell_type": "code",
   "execution_count": null,
   "id": "c1368757",
   "metadata": {},
   "outputs": [],
   "source": []
  }
 ],
 "metadata": {
  "kernelspec": {
   "display_name": "Julia 1.7.1",
   "language": "julia",
   "name": "julia-1.7"
  },
  "language_info": {
   "file_extension": ".jl",
   "mimetype": "application/julia",
   "name": "julia",
   "version": "1.7.1"
  }
 },
 "nbformat": 4,
 "nbformat_minor": 5
}
