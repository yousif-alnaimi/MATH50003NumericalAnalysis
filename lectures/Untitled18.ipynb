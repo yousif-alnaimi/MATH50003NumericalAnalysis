{
 "cells": [
  {
   "cell_type": "code",
   "execution_count": 27,
   "id": "d34c5ecc",
   "metadata": {},
   "outputs": [],
   "source": [
    "using InfiniteArrays, LinearAlgebra, BandedMatrices, InfiniteLinearAlgebra"
   ]
  },
  {
   "cell_type": "code",
   "execution_count": 26,
   "id": "7daeade0",
   "metadata": {},
   "outputs": [
    {
     "name": "stderr",
     "output_type": "stream",
     "text": [
      "\u001b[32m\u001b[1m   Resolving\u001b[22m\u001b[39m package versions...\n",
      "\u001b[32m\u001b[1m    Updating\u001b[22m\u001b[39m `~/.julia/environments/v1.7/Project.toml`\n",
      " \u001b[90m [cde9dba0] \u001b[39m\u001b[92m+ InfiniteLinearAlgebra v0.6.5\u001b[39m\n",
      "\u001b[32m\u001b[1m  No Changes\u001b[22m\u001b[39m to `~/.julia/environments/v1.7/Manifest.toml`\n"
     ]
    }
   ],
   "source": [
    "] add InfiniteLinearAlgebra"
   ]
  },
  {
   "cell_type": "code",
   "execution_count": 14,
   "id": "cd5df487",
   "metadata": {},
   "outputs": [
    {
     "data": {
      "text/plain": [
       "ℵ₀"
      ]
     },
     "execution_count": 14,
     "metadata": {},
     "output_type": "execute_result"
    }
   ],
   "source": [
    "x = 2:∞\n",
    "\n",
    "length(x)"
   ]
  },
  {
   "cell_type": "code",
   "execution_count": 20,
   "id": "ade4f477",
   "metadata": {},
   "outputs": [
    {
     "data": {
      "text/plain": [
       "BroadcastVector{Float64, typeof(exp), Tuple{InfUnitRange{Int64}}} (alias for BroadcastArray{Float64, 1, typeof(exp), Tuple{InfiniteArrays.InfUnitRange{Int64}}})"
      ]
     },
     "execution_count": 20,
     "metadata": {},
     "output_type": "execute_result"
    }
   ],
   "source": [
    "exp.(x) |> typeof"
   ]
  },
  {
   "cell_type": "code",
   "execution_count": 42,
   "id": "15085484",
   "metadata": {},
   "outputs": [
    {
     "data": {
      "text/plain": [
       "ℵ₀×ℵ₀ BandedMatrix{Float64} with bandwidths (2, 2) with data (5×3 Matrix{Float64}) * (vcat(hcat(1×2 Zeros{Float64}, 1×ℵ₀ InfiniteArrays.ReshapedArray{Float64, 2, LazyArrays.BroadcastVector{Float64, typeof(/), Tuple{Int64, LazyArrays.BroadcastVector{Float64, typeof(+), Tuple{LazyArrays.BroadcastVector{Float64, typeof(exp), Tuple{InfiniteArrays.InfUnitRange{Int64}}}, Int64}}}}, Tuple{Int64, Infinities.InfiniteCardinal{0}}, Tuple{}} with indices Base.OneTo(1)×OneToInf()) with indices Base.OneTo(1)×OneToInf(), hcat(1×0 Zeros{Float64}, 1×ℵ₀ InfiniteArrays.ReshapedArray{Int64, 2, InfiniteArrays.InfUnitRange{Int64}, Tuple{Int64, Infinities.InfiniteCardinal{0}}, Tuple{}} with indices Base.OneTo(1)×OneToInf()) with indices Base.OneTo(1)×OneToInf(), 1×ℵ₀ Fill{Int64, 2, Tuple{Base.OneTo{Int64}, InfiniteArrays.OneToInf{Int64}}} with indices Base.OneTo(1)×OneToInf()) with indices Base.OneTo(3)×OneToInf()) with indices Base.OneTo(5)×OneToInf() with indices OneToInf()×OneToInf():\n",
       " 2.0  0.0  0.119203   ⋅         …  \n",
       " 0.0  3.0  0.0       0.0474259     \n",
       " 2.0  0.0  4.0       0.0           \n",
       "  ⋅   2.0  0.0       5.0           \n",
       "  ⋅    ⋅   2.0       0.0           \n",
       "  ⋅    ⋅    ⋅        2.0        …  \n",
       "  ⋅    ⋅    ⋅         ⋅            \n",
       "  ⋅    ⋅    ⋅         ⋅            \n",
       "  ⋅    ⋅    ⋅         ⋅            \n",
       "  ⋅    ⋅    ⋅         ⋅            \n",
       "  ⋅    ⋅    ⋅         ⋅         …  \n",
       "  ⋅    ⋅    ⋅         ⋅            \n",
       "  ⋅    ⋅    ⋅         ⋅            \n",
       " ⋮                              ⋱  "
      ]
     },
     "execution_count": 42,
     "metadata": {},
     "output_type": "execute_result"
    }
   ],
   "source": [
    "B = BandedMatrix(2 => 1 ./(exp.(x) .+ 1), 0 => 2:∞, -2 => Fill(2,∞))"
   ]
  },
  {
   "cell_type": "code",
   "execution_count": 33,
   "id": "afe2a9c1",
   "metadata": {},
   "outputs": [
    {
     "data": {
      "text/plain": [
       "ℵ₀×ℵ₀ MatrixFactorizations.QRPackedQ{Float64, InfiniteLinearAlgebra.AdaptiveQRFactors{Float64, BandedMatrix{Float64, Matrix{Float64}, Base.OneTo{Int64}}, BandedMatrix{Float64, LazyArrays.ApplyArray{Float64, 2, typeof(*), Tuple{Matrix{Float64}, LazyArrays.ApplyArray{Float64, 2, typeof(vcat), Tuple{LazyArrays.ApplyArray{Float64, 2, typeof(hcat), Tuple{Zeros{Float64, 2, Tuple{Base.OneTo{Int64}, Base.OneTo{Int64}}}, InfiniteArrays.ReshapedArray{Float64, 2, LazyArrays.BroadcastVector{Float64, typeof(/), Tuple{Int64, LazyArrays.BroadcastVector{Float64, typeof(+), Tuple{LazyArrays.BroadcastVector{Float64, typeof(exp), Tuple{InfiniteArrays.InfUnitRange{Int64}}}, Int64}}}}, Tuple{Int64, Infinities.InfiniteCardinal{0}}, Tuple{}}}}, Fill{Int64, 2, Tuple{Base.OneTo{Int64}, InfiniteArrays.OneToInf{Int64}}}}}}}, InfiniteArrays.OneToInf{Int64}}}, InfiniteLinearAlgebra.AdaptiveQRTau{Float64, BandedMatrix{Float64, Matrix{Float64}, Base.OneTo{Int64}}, BandedMatrix{Float64, LazyArrays.ApplyArray{Float64, 2, typeof(*), Tuple{Matrix{Float64}, LazyArrays.ApplyArray{Float64, 2, typeof(vcat), Tuple{LazyArrays.ApplyArray{Float64, 2, typeof(hcat), Tuple{Zeros{Float64, 2, Tuple{Base.OneTo{Int64}, Base.OneTo{Int64}}}, InfiniteArrays.ReshapedArray{Float64, 2, LazyArrays.BroadcastVector{Float64, typeof(/), Tuple{Int64, LazyArrays.BroadcastVector{Float64, typeof(+), Tuple{LazyArrays.BroadcastVector{Float64, typeof(exp), Tuple{InfiniteArrays.InfUnitRange{Int64}}}, Int64}}}}, Tuple{Int64, Infinities.InfiniteCardinal{0}}, Tuple{}}}}, Fill{Int64, 2, Tuple{Base.OneTo{Int64}, InfiniteArrays.OneToInf{Int64}}}}}}}, InfiniteArrays.OneToInf{Int64}}}} with indices OneToInf()×OneToInf():\n",
       "  0.0  -0.0594959  -8.23994e-17   0.0  …  \n",
       "  0.0   0.0        -0.0237063     0.0     \n",
       " -1.0   0.0         0.0           0.0     \n",
       "  0.0  -0.998229    6.93889e-18   0.0     \n",
       "  0.0   0.0        -0.999719      0.0     \n",
       "  0.0   0.0         0.0          -1.0  …  \n",
       "  0.0   0.0         0.0           0.0     \n",
       "  0.0   0.0         0.0           0.0     \n",
       "  0.0   0.0         0.0           0.0     \n",
       "  0.0   0.0         0.0           0.0     \n",
       "  0.0   0.0         0.0           0.0  …  \n",
       "  0.0   0.0         0.0           0.0     \n",
       "  0.0   0.0         0.0           0.0     \n",
       "  ⋮                                    ⋱  "
      ]
     },
     "execution_count": 33,
     "metadata": {},
     "output_type": "execute_result"
    }
   ],
   "source": [
    "Q"
   ]
  },
  {
   "cell_type": "code",
   "execution_count": 48,
   "id": "c6cd9284",
   "metadata": {
    "scrolled": false
   },
   "outputs": [
    {
     "name": "stdout",
     "output_type": "stream",
     "text": [
      "  0.000497 seconds (1.02 k allocations: 817.266 KiB)\n"
     ]
    },
    {
     "data": {
      "text/plain": [
       "ℵ₀-element LazyArrays.CachedArray{Float64, 1, Vector{Float64}, Zeros{Float64, 1, Tuple{InfiniteArrays.OneToInf{Int64}}}} with indices OneToInf():\n",
       "  0.39134204255400545\n",
       "  0.01234323396819117\n",
       "  0.059097404220803194\n",
       "  0.02970021202214158\n",
       " -0.07296603611475548\n",
       "  0.1156408985879014\n",
       " -0.12887769102686933\n",
       "  0.07773309615416192\n",
       " -0.05889165649950909\n",
       " -0.17624418351580798\n",
       " -0.11068103653173865\n",
       " -0.062448931200840496\n",
       "  0.1489057736432325\n",
       "  ⋮"
      ]
     },
     "execution_count": 48,
     "metadata": {},
     "output_type": "execute_result"
    }
   ],
   "source": [
    "b = [randn(1000); zeros(∞)]\n",
    "@time x = B \\ b"
   ]
  },
  {
   "cell_type": "code",
   "execution_count": 57,
   "id": "492426b5",
   "metadata": {},
   "outputs": [
    {
     "data": {
      "text/plain": [
       "-0.0"
      ]
     },
     "execution_count": 57,
     "metadata": {},
     "output_type": "execute_result"
    }
   ],
   "source": [
    "x[1300]"
   ]
  },
  {
   "cell_type": "code",
   "execution_count": 58,
   "id": "e14884f7",
   "metadata": {},
   "outputs": [
    {
     "data": {
      "text/plain": [
       "inv(ℵ₀×ℵ₀ BandedMatrix{Float64} with bandwidths (2, 2) with data (5×3 Matrix{Float64}) * (vcat(hcat(1×2 Zeros{Float64}, 1×ℵ₀ InfiniteArrays.ReshapedArray{Float64, 2, LazyArrays.BroadcastVector{Float64, typeof(/), Tuple{Int64, LazyArrays.BroadcastVector{Float64, typeof(+), Tuple{LazyArrays.BroadcastVector{Float64, typeof(exp), Tuple{InfiniteArrays.InfUnitRange{Int64}}}, Int64}}}}, Tuple{Int64, Infinities.InfiniteCardinal{0}}, Tuple{}} with indices Base.OneTo(1)×OneToInf()) with indices Base.OneTo(1)×OneToInf(), hcat(1×0 Zeros{Float64}, 1×ℵ₀ InfiniteArrays.ReshapedArray{Int64, 2, InfiniteArrays.InfUnitRange{Int64}, Tuple{Int64, Infinities.InfiniteCardinal{0}}, Tuple{}} with indices Base.OneTo(1)×OneToInf()) with indices Base.OneTo(1)×OneToInf(), 1×ℵ₀ Fill{Int64, 2, Tuple{Base.OneTo{Int64}, InfiniteArrays.OneToInf{Int64}}} with indices Base.OneTo(1)×OneToInf()) with indices Base.OneTo(3)×OneToInf()) with indices Base.OneTo(5)×OneToInf() with indices OneToInf()×OneToInf()) with indices OneToInf()×OneToInf():\n",
       "  0.515382     -0.0          -0.0153818    …  \n",
       " -0.0           0.335455     -0.0             \n",
       " -0.258078     -0.0           0.258078        \n",
       " -0.0          -0.134233     -0.0             \n",
       "  0.0860348    -0.0          -0.0860348       \n",
       " -0.0           0.0383535    -0.0          …  \n",
       " -0.0215089    -0.0           0.0215089       \n",
       " -0.0          -0.00852303   -0.0             \n",
       "  0.00430178   -0.0          -0.00430178      \n",
       " -0.0           0.00154964   -0.0             \n",
       " -0.000716963  -0.0           0.000716963  …  \n",
       " -0.0          -0.000238406  -0.0             \n",
       "  0.000102423  -0.0          -0.000102423     \n",
       "  ⋮                                        ⋱  "
      ]
     },
     "execution_count": 58,
     "metadata": {},
     "output_type": "execute_result"
    }
   ],
   "source": [
    "inv(B)"
   ]
  },
  {
   "cell_type": "code",
   "execution_count": 71,
   "id": "72bf4b2d",
   "metadata": {},
   "outputs": [
    {
     "data": {
      "text/plain": [
       "ℵ₀-element LazyArrays.CachedArray{Float64, 1, Vector{Float64}, Zeros{Float64, 1, Tuple{InfiniteArrays.OneToInf{Int64}}}} with indices OneToInf():\n",
       " 0.0\n",
       " 0.5\n",
       " 0.0\n",
       " 0.0\n",
       " 0.0\n",
       " 0.0\n",
       " 0.0\n",
       " 0.0\n",
       " 0.0\n",
       " 0.0\n",
       " 0.0\n",
       " 0.0\n",
       " 0.0\n",
       " ⋮"
      ]
     },
     "execution_count": 71,
     "metadata": {},
     "output_type": "execute_result"
    }
   ],
   "source": [
    "b = zeros(∞)\n",
    "\n",
    "b[2] = 1\n",
    "Diagonal(1:∞) \\ b"
   ]
  },
  {
   "cell_type": "code",
   "execution_count": 72,
   "id": "5f06d699",
   "metadata": {},
   "outputs": [],
   "source": [
    "using ArrayLayouts"
   ]
  },
  {
   "cell_type": "code",
   "execution_count": 73,
   "id": "b6ca91b0",
   "metadata": {},
   "outputs": [
    {
     "data": {
      "text/plain": [
       "LazyArrays.PaddedLayout{DenseColumnMajor}()"
      ]
     },
     "execution_count": 73,
     "metadata": {},
     "output_type": "execute_result"
    }
   ],
   "source": [
    "MemoryLayout(b)"
   ]
  },
  {
   "cell_type": "code",
   "execution_count": 81,
   "id": "77337a89",
   "metadata": {},
   "outputs": [
    {
     "data": {
      "text/html": [
       "MemoryLayout(A::<b>Type{<:SubArray{T, N, P, I}}</b>)<i> where {T, N, P, I}</i> in ArrayLayouts at <a href=\"file:///Users/sheehanolver/.julia/packages/ArrayLayouts/CV0IA/src/memorylayout.jl\" target=\"_blank\">/Users/sheehanolver/.julia/packages/ArrayLayouts/CV0IA/src/memorylayout.jl:186</a>"
      ],
      "text/plain": [
       "MemoryLayout(A::Type{<:SubArray{T, N, P, I}}) where {T, N, P, I} in ArrayLayouts at /Users/sheehanolver/.julia/packages/ArrayLayouts/CV0IA/src/memorylayout.jl:186"
      ]
     },
     "execution_count": 81,
     "metadata": {},
     "output_type": "execute_result"
    }
   ],
   "source": [
    "A = randn(100,100)\n",
    "@which MemoryLayout(typeof(view(A,1:5,2:6)))"
   ]
  },
  {
   "cell_type": "code",
   "execution_count": 79,
   "id": "943d0a4d",
   "metadata": {},
   "outputs": [
    {
     "data": {
      "text/plain": [
       "BandedMatrices.BandedColumns{LazyArrays.LazyLayout}()"
      ]
     },
     "execution_count": 79,
     "metadata": {},
     "output_type": "execute_result"
    }
   ],
   "source": [
    "MemoryLayout(B)"
   ]
  },
  {
   "cell_type": "code",
   "execution_count": null,
   "id": "2ade921d",
   "metadata": {},
   "outputs": [],
   "source": []
  }
 ],
 "metadata": {
  "kernelspec": {
   "display_name": "Julia 1.7.1",
   "language": "julia",
   "name": "julia-1.7"
  },
  "language_info": {
   "file_extension": ".jl",
   "mimetype": "application/julia",
   "name": "julia",
   "version": "1.7.1"
  }
 },
 "nbformat": 4,
 "nbformat_minor": 5
}
