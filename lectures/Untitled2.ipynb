{
 "cells": [
  {
   "cell_type": "markdown",
   "id": "46f6b5c2",
   "metadata": {},
   "source": [
    "## Vectors"
   ]
  },
  {
   "cell_type": "code",
   "execution_count": 34,
   "id": "96a1f90b",
   "metadata": {},
   "outputs": [
    {
     "data": {
      "text/plain": [
       "3"
      ]
     },
     "execution_count": 34,
     "metadata": {},
     "output_type": "execute_result"
    }
   ],
   "source": [
    "x = Int16[10, 5, 3, 11]\n",
    "\n",
    "# we can access memory directly\n",
    "\n",
    "x_1 = Base.unsafe_load(pointer(x)) \n",
    "# memory is laid out in bytes (8 bits)\n",
    "x_h = Base.unsafe_load(pointer(x) + 1) \n",
    "# Advanced: bits combine half of bits of 4 and bits of 5\n",
    "# but not as expected since bits are stored \"backward\" (little-Endian)\n",
    "\n",
    "sz = sizeof(eltype(x))\n",
    "x_3 = Base.unsafe_load(pointer(x) + 2sz)"
   ]
  },
  {
   "cell_type": "code",
   "execution_count": 29,
   "id": "336d93c8",
   "metadata": {},
   "outputs": [
    {
     "data": {
      "text/plain": [
       "21504"
      ]
     },
     "execution_count": 29,
     "metadata": {},
     "output_type": "execute_result"
    }
   ],
   "source": [
    "Base.unsafe_load(pointer(x) + 4sz) \n",
    "# WARNING: May crash. High-performance languages are NOT safe"
   ]
  },
  {
   "cell_type": "code",
   "execution_count": 30,
   "id": "78492e8f",
   "metadata": {},
   "outputs": [
    {
     "data": {
      "text/plain": [
       "4-element Vector{Int16}:\n",
       " 10\n",
       "  5\n",
       "  3\n",
       " 11"
      ]
     },
     "execution_count": 30,
     "metadata": {},
     "output_type": "execute_result"
    }
   ],
   "source": [
    "x"
   ]
  },
  {
   "cell_type": "code",
   "execution_count": 33,
   "id": "f8e15ab5",
   "metadata": {},
   "outputs": [
    {
     "data": {
      "text/plain": [
       "3-element Vector{Float64}:\n",
       " 1.3\n",
       " 1.2\n",
       " 1.5"
      ]
     },
     "execution_count": 33,
     "metadata": {},
     "output_type": "execute_result"
    }
   ],
   "source": [
    "x = [1.3, 1.2, 1.5]"
   ]
  },
  {
   "cell_type": "markdown",
   "id": "ba9c1738",
   "metadata": {},
   "source": [
    "## Matrices"
   ]
  },
  {
   "cell_type": "code",
   "execution_count": 35,
   "id": "c29ee286",
   "metadata": {},
   "outputs": [
    {
     "data": {
      "text/plain": [
       "3×3 Matrix{Int64}:\n",
       " 1  2  3\n",
       " 4  5  6\n",
       " 7  8  9"
      ]
     },
     "execution_count": 35,
     "metadata": {},
     "output_type": "execute_result"
    }
   ],
   "source": [
    "A = [1 2 3; 4 5 6; 7 8 9]"
   ]
  },
  {
   "cell_type": "code",
   "execution_count": 41,
   "id": "8d4ae25c",
   "metadata": {},
   "outputs": [
    {
     "data": {
      "text/plain": [
       "2"
      ]
     },
     "execution_count": 41,
     "metadata": {},
     "output_type": "execute_result"
    }
   ],
   "source": [
    "sz = sizeof(Int)\n",
    "Base.unsafe_load(pointer(A) + 3sz)"
   ]
  },
  {
   "cell_type": "code",
   "execution_count": 42,
   "id": "5342180f",
   "metadata": {},
   "outputs": [
    {
     "data": {
      "text/plain": [
       "9-element Vector{Int64}:\n",
       " 1\n",
       " 4\n",
       " 7\n",
       " 2\n",
       " 5\n",
       " 8\n",
       " 3\n",
       " 6\n",
       " 9"
      ]
     },
     "execution_count": 42,
     "metadata": {},
     "output_type": "execute_result"
    }
   ],
   "source": [
    "vec(A)"
   ]
  },
  {
   "cell_type": "code",
   "execution_count": 57,
   "id": "529fa083",
   "metadata": {},
   "outputs": [
    {
     "data": {
      "text/plain": [
       "mul (generic function with 1 method)"
      ]
     },
     "execution_count": 57,
     "metadata": {},
     "output_type": "execute_result"
    }
   ],
   "source": [
    "function mul_rows(A, x)\n",
    "    m,n = size(A)\n",
    "    ret =  zeros(m)\n",
    "    for k = 1:m\n",
    "        for j = 1:n\n",
    "            ret[k] += A[k,j] * x[j]\n",
    "        end\n",
    "    end\n",
    "    ret\n",
    "end\n",
    "\n",
    "function mul(A, x)\n",
    "    m,n = size(A)\n",
    "    ret =  zeros(m)\n",
    "    for j = 1:n\n",
    "        for k = 1:m\n",
    "            ret[k] += A[k,j] * x[j]\n",
    "        end\n",
    "    end\n",
    "    ret\n",
    "end"
   ]
  },
  {
   "cell_type": "code",
   "execution_count": 79,
   "id": "1cedad3c",
   "metadata": {},
   "outputs": [
    {
     "data": {
      "text/plain": [
       "true"
      ]
     },
     "execution_count": 79,
     "metadata": {},
     "output_type": "execute_result"
    }
   ],
   "source": [
    "n = 100\n",
    "A = randn(n,n)\n",
    "x = randn(n)\n",
    "mul_rows(A,x) ≈ A*x"
   ]
  },
  {
   "cell_type": "code",
   "execution_count": null,
   "id": "0f97be35",
   "metadata": {},
   "outputs": [],
   "source": []
  },
  {
   "cell_type": "code",
   "execution_count": 51,
   "id": "4c9918fd",
   "metadata": {},
   "outputs": [
    {
     "name": "stderr",
     "output_type": "stream",
     "text": [
      "\u001b[32m\u001b[1m   Resolving\u001b[22m\u001b[39m package versions...\n",
      "\u001b[32m\u001b[1m  No Changes\u001b[22m\u001b[39m to `~/Documents/Lectures/MATH50003NumericalAnalysis/Project.toml`\n",
      "\u001b[32m\u001b[1m  No Changes\u001b[22m\u001b[39m to `~/Documents/Lectures/MATH50003NumericalAnalysis/Manifest.toml`\n"
     ]
    }
   ],
   "source": [
    "] add BenchmarkTools"
   ]
  },
  {
   "cell_type": "code",
   "execution_count": 58,
   "id": "256392e5",
   "metadata": {},
   "outputs": [],
   "source": [
    "using BenchmarkTools"
   ]
  },
  {
   "cell_type": "code",
   "execution_count": 62,
   "id": "e6a555a5",
   "metadata": {},
   "outputs": [
    {
     "name": "stdout",
     "output_type": "stream",
     "text": [
      "  18.228 μs (1 allocation: 896 bytes)\n",
      "  6.637 μs (1 allocation: 896 bytes)\n",
      "  1.883 μs (1 allocation: 896 bytes)\n"
     ]
    },
    {
     "data": {
      "text/plain": [
       "100-element Vector{Float64}:\n",
       " -11.091082683943975\n",
       "  15.375023837352812\n",
       "   1.7863169866347457\n",
       "   3.7581125078770223\n",
       " -11.382201133296679\n",
       " -12.391297354798967\n",
       "  -9.666072728450594\n",
       "  17.852819140415107\n",
       "  -6.526323923317621\n",
       "   2.3809426807502265\n",
       " -26.6358042787717\n",
       "   0.3943165121789224\n",
       "  -2.6864548720750006\n",
       "   ⋮\n",
       "  -8.39162579412428\n",
       "  12.791452114985063\n",
       "  -7.941425454384663\n",
       "  12.516025757522588\n",
       " -14.57435214893141\n",
       "  -7.375001104828355\n",
       "   4.095507806518102\n",
       "   4.643869749457856\n",
       "  -7.70968610579241\n",
       "   9.519075191195832\n",
       "  10.605253221605262\n",
       "  -7.2323433646541035"
      ]
     },
     "execution_count": 62,
     "metadata": {},
     "output_type": "execute_result"
    }
   ],
   "source": [
    "@btime mul_rows(A, x)\n",
    "@btime mul(A, x)\n",
    "@btime A*x"
   ]
  },
  {
   "cell_type": "markdown",
   "id": "074ead22",
   "metadata": {},
   "source": [
    "We can estimate algorithm complexity by considering `n` and `2n` at same time. E.g. if algorithm takes `~Cn^p` operations on `n` then it will take `~2^pCn^p`operations on `2n`, in other words `time on 2n / time on n -> 2^p`"
   ]
  },
  {
   "cell_type": "code",
   "execution_count": 80,
   "id": "e90632ce",
   "metadata": {},
   "outputs": [],
   "source": [
    "n = 100\n",
    "A = randn(n,n)\n",
    "x = randn(n)\n",
    "\n",
    "B = randn(2n,2n)\n",
    "y = randn(2n);"
   ]
  },
  {
   "cell_type": "code",
   "execution_count": 81,
   "id": "09784619",
   "metadata": {},
   "outputs": [
    {
     "data": {
      "text/plain": [
       "4.411648351648352"
      ]
     },
     "execution_count": 81,
     "metadata": {},
     "output_type": "execute_result"
    }
   ],
   "source": [
    "(@belapsed mul_rows(B,y))/(@belapsed mul_rows(A,x))"
   ]
  },
  {
   "cell_type": "code",
   "execution_count": 82,
   "id": "2b5a5d13",
   "metadata": {},
   "outputs": [
    {
     "data": {
      "text/plain": [
       "3.8463392588128955"
      ]
     },
     "execution_count": 82,
     "metadata": {},
     "output_type": "execute_result"
    }
   ],
   "source": [
    "(@belapsed mul(B,y))/(@belapsed mul(A,x))"
   ]
  },
  {
   "cell_type": "code",
   "execution_count": 83,
   "id": "186de0e8",
   "metadata": {},
   "outputs": [
    {
     "data": {
      "text/plain": [
       "2.187420284925831"
      ]
     },
     "execution_count": 83,
     "metadata": {},
     "output_type": "execute_result"
    }
   ],
   "source": [
    "(@belapsed B*y)/(@belapsed A*x)"
   ]
  },
  {
   "cell_type": "code",
   "execution_count": null,
   "id": "60e1e27a",
   "metadata": {},
   "outputs": [],
   "source": []
  }
 ],
 "metadata": {
  "kernelspec": {
   "display_name": "Julia 1.7.1",
   "language": "julia",
   "name": "julia-1.7"
  },
  "language_info": {
   "file_extension": ".jl",
   "mimetype": "application/julia",
   "name": "julia",
   "version": "1.7.1"
  }
 },
 "nbformat": 4,
 "nbformat_minor": 5
}
