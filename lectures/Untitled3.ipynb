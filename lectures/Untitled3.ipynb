{
 "cells": [
  {
   "cell_type": "code",
   "execution_count": 22,
   "id": "1cda7723",
   "metadata": {},
   "outputs": [],
   "source": [
    "using LinearAlgebra"
   ]
  },
  {
   "cell_type": "code",
   "execution_count": 24,
   "id": "a56b4a01",
   "metadata": {},
   "outputs": [
    {
     "data": {
      "text/plain": [
       "5-element Vector{Int64}:\n",
       "  6\n",
       "  9\n",
       "  7\n",
       " 10\n",
       "  8"
      ]
     },
     "execution_count": 24,
     "metadata": {},
     "output_type": "execute_result"
    }
   ],
   "source": [
    "σ = [1, 4, 2, 5, 3] # 1->1, 2->4, 3->2, 4->5, 5->3\n",
    "v = [6, 7, 8, 9, 10]\n",
    "\n",
    "v[σ]"
   ]
  },
  {
   "cell_type": "code",
   "execution_count": 27,
   "id": "1c0a52db",
   "metadata": {},
   "outputs": [
    {
     "data": {
      "text/plain": [
       "5-element Vector{Int64}:\n",
       "  6\n",
       "  9\n",
       "  7\n",
       " 10\n",
       "  8"
      ]
     },
     "execution_count": 27,
     "metadata": {},
     "output_type": "execute_result"
    }
   ],
   "source": [
    "P = I(5)[σ,:]\n",
    "P * v"
   ]
  },
  {
   "cell_type": "code",
   "execution_count": 32,
   "id": "6edaa176",
   "metadata": {},
   "outputs": [
    {
     "data": {
      "text/plain": [
       "true"
      ]
     },
     "execution_count": 32,
     "metadata": {},
     "output_type": "execute_result"
    }
   ],
   "source": [
    "inv(Matrix(P)) == P'"
   ]
  },
  {
   "cell_type": "code",
   "execution_count": 35,
   "id": "8c2f8496",
   "metadata": {},
   "outputs": [
    {
     "data": {
      "text/plain": [
       "true"
      ]
     },
     "execution_count": 35,
     "metadata": {},
     "output_type": "execute_result"
    }
   ],
   "source": [
    "σ⁻¹ = [1,3,5,2,4]\n",
    "P⁻¹ = I(5)[σ⁻¹,:]\n",
    "P⁻¹ == P' == inv(Matrix(P))"
   ]
  },
  {
   "cell_type": "code",
   "execution_count": null,
   "id": "ee9d3266",
   "metadata": {},
   "outputs": [],
   "source": [
    "σ"
   ]
  }
 ],
 "metadata": {
  "kernelspec": {
   "display_name": "Julia 1.7.1",
   "language": "julia",
   "name": "julia-1.7"
  },
  "language_info": {
   "file_extension": ".jl",
   "mimetype": "application/julia",
   "name": "julia",
   "version": "1.7.1"
  }
 },
 "nbformat": 4,
 "nbformat_minor": 5
}
