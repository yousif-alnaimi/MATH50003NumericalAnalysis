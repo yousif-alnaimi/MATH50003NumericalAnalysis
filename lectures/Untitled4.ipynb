{
 "cells": [
  {
   "cell_type": "code",
   "execution_count": 4,
   "id": "2488a308",
   "metadata": {},
   "outputs": [
    {
     "data": {
      "text/plain": [
       "householder (generic function with 1 method)"
      ]
     },
     "execution_count": 4,
     "metadata": {},
     "output_type": "execute_result"
    }
   ],
   "source": [
    "using LinearAlgebra\n",
    "\n",
    "function householder(s, x) # s = ±1\n",
    "    n = length(x)\n",
    "    e1 = [1; zeros(n-1)]\n",
    "    y = -s*norm(x)*e1 + x\n",
    "    w = y/norm(y)\n",
    "    I - 2w*w'\n",
    "end"
   ]
  },
  {
   "cell_type": "code",
   "execution_count": 23,
   "id": "cc758781",
   "metadata": {},
   "outputs": [
    {
     "data": {
      "text/plain": [
       "2-element Vector{Float64}:\n",
       " -1.0\n",
       "  0.0"
      ]
     },
     "execution_count": 23,
     "metadata": {},
     "output_type": "execute_result"
    }
   ],
   "source": [
    "h = 0.0\n",
    "x = [1,h]\n",
    "Q = householder(-sign(x[1]), x)\n",
    "Q*x"
   ]
  },
  {
   "cell_type": "code",
   "execution_count": 17,
   "id": "4689b822",
   "metadata": {},
   "outputs": [
    {
     "data": {
      "text/plain": [
       "([-1.0, -0.0], [1.0, 1.0e-9])"
      ]
     },
     "execution_count": 17,
     "metadata": {},
     "output_type": "execute_result"
    }
   ],
   "source": [
    "n = length(x)\n",
    "e1 = [1; zeros(n-1)]\n",
    "-norm(x)*e1 , x"
   ]
  },
  {
   "cell_type": "code",
   "execution_count": 13,
   "id": "72a4d100",
   "metadata": {},
   "outputs": [
    {
     "data": {
      "text/plain": [
       "1.0"
      ]
     },
     "execution_count": 13,
     "metadata": {},
     "output_type": "execute_result"
    }
   ],
   "source": [
    "norm(x)"
   ]
  },
  {
   "cell_type": "code",
   "execution_count": null,
   "id": "fe54e08c",
   "metadata": {},
   "outputs": [],
   "source": []
  }
 ],
 "metadata": {
  "kernelspec": {
   "display_name": "Julia 1.7.1",
   "language": "julia",
   "name": "julia-1.7"
  },
  "language_info": {
   "file_extension": ".jl",
   "mimetype": "application/julia",
   "name": "julia",
   "version": "1.7.1"
  }
 },
 "nbformat": 4,
 "nbformat_minor": 5
}
