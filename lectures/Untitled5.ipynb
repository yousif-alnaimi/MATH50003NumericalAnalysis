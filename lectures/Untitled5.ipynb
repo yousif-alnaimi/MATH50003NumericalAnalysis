{
 "cells": [
  {
   "cell_type": "code",
   "execution_count": 1,
   "id": "7ccaf522",
   "metadata": {},
   "outputs": [],
   "source": [
    "using LinearAlgebra"
   ]
  },
  {
   "cell_type": "markdown",
   "id": "f87bd359",
   "metadata": {},
   "source": [
    "# 1. QR, reduced QR and least squares"
   ]
  },
  {
   "cell_type": "code",
   "execution_count": 21,
   "id": "7ae026ee",
   "metadata": {},
   "outputs": [
    {
     "data": {
      "text/plain": [
       "true"
      ]
     },
     "execution_count": 21,
     "metadata": {},
     "output_type": "execute_result"
    }
   ],
   "source": [
    "m,n = 20,5\n",
    "A = randn(m,n)\n",
    "Q,R̂ = qr(A)\n",
    "R = [R̂; zeros(m-n,n)]\n",
    "Q̂ = Q[:,1:n]\n",
    "Q*R ≈ Q̂*R̂ ≈ A"
   ]
  },
  {
   "cell_type": "code",
   "execution_count": 25,
   "id": "d8de55b5",
   "metadata": {},
   "outputs": [
    {
     "data": {
      "text/plain": [
       "5-element Vector{Float64}:\n",
       "  0.13172727086676028\n",
       "  0.0606694290513271\n",
       "  0.17053012521313177\n",
       " -0.16270227847195728\n",
       "  0.15477983752319258"
      ]
     },
     "execution_count": 25,
     "metadata": {},
     "output_type": "execute_result"
    }
   ],
   "source": [
    "b = randn(m)\n",
    "c = Q̂'b\n",
    "x = R̂\\c"
   ]
  },
  {
   "cell_type": "code",
   "execution_count": 33,
   "id": "9e04fd63",
   "metadata": {},
   "outputs": [
    {
     "data": {
      "text/plain": [
       "4.142558068680029"
      ]
     },
     "execution_count": 33,
     "metadata": {},
     "output_type": "execute_result"
    }
   ],
   "source": [
    "norm(A*x - b)"
   ]
  },
  {
   "cell_type": "markdown",
   "id": "bbbbf83f",
   "metadata": {},
   "source": [
    "# 2. Quadratic fit"
   ]
  },
  {
   "cell_type": "code",
   "execution_count": 39,
   "id": "336871a7",
   "metadata": {},
   "outputs": [],
   "source": [
    "using Plots"
   ]
  },
  {
   "cell_type": "code",
   "execution_count": 48,
   "id": "f41da4d9",
   "metadata": {},
   "outputs": [
    {
     "data": {
      "text/plain": [
       "3-element Vector{Float64}:\n",
       " 1.9499381961862148\n",
       " 1.2436649102021584\n",
       " 1.7909459006599178"
      ]
     },
     "execution_count": 48,
     "metadata": {},
     "output_type": "execute_result"
    }
   ],
   "source": [
    "m,n = 100,3\n",
    "x = range(0, 1; length=m) # 100 evenly spaced points between 0 and 1 (inclusive)\n",
    "f = 2 .+ x .+ 2x.^2 .+ 0.1 .* randn.() # adds different noise to each sample\n",
    "scatter(x, f; label=\"samples\", legend=:bottomright)\n",
    "\n",
    "A = [ones(m) x x.^2]\n",
    "Q,R̂ = qr(A)\n",
    "R = [R̂; zeros(m-n,n)]\n",
    "Q̂ = Q[:,1:n]\n",
    "a,b,c = R̂\\(Q̂'f)µ"
   ]
  },
  {
   "cell_type": "code",
   "execution_count": null,
   "id": "6a085774",
   "metadata": {},
   "outputs": [],
   "source": []
  }
 ],
 "metadata": {
  "kernelspec": {
   "display_name": "Julia 1.7.1",
   "language": "julia",
   "name": "julia-1.7"
  },
  "language_info": {
   "file_extension": ".jl",
   "mimetype": "application/julia",
   "name": "julia",
   "version": "1.7.1"
  }
 },
 "nbformat": 4,
 "nbformat_minor": 5
}
