{
 "cells": [
  {
   "cell_type": "markdown",
   "id": "e4ef08df",
   "metadata": {},
   "source": [
    "# 1. QR and least squares"
   ]
  },
  {
   "cell_type": "code",
   "execution_count": 8,
   "id": "4f2035d1",
   "metadata": {},
   "outputs": [
    {
     "data": {
      "text/plain": [
       "5-element Vector{Float64}:\n",
       " -0.3004446270002751\n",
       " -0.014083016930344045\n",
       "  0.2227741388330604\n",
       " -0.7972148832422374\n",
       " -0.15035578725079685"
      ]
     },
     "execution_count": 8,
     "metadata": {},
     "output_type": "execute_result"
    }
   ],
   "source": [
    "using LinearAlgebra, Plots\n",
    "\n",
    "m,n = 20,5\n",
    "A = randn(m,n)\n",
    "b = randn(m)\n",
    "# want to find x that minimizes norm(A*x-b)\n",
    "# inbuilt way: is use \\\n",
    "x = A \\ b"
   ]
  },
  {
   "cell_type": "code",
   "execution_count": 21,
   "id": "93e2fe1a",
   "metadata": {},
   "outputs": [
    {
     "data": {
      "text/plain": [
       "true"
      ]
     },
     "execution_count": 21,
     "metadata": {},
     "output_type": "execute_result"
    }
   ],
   "source": [
    "Q,R̂ = qr(A)\n",
    "Q̂ = Q[:,1:n]\n",
    "Q̂*R̂ ≈ A"
   ]
  },
  {
   "cell_type": "code",
   "execution_count": 22,
   "id": "b818a9c6",
   "metadata": {},
   "outputs": [
    {
     "data": {
      "text/plain": [
       "5×5 Matrix{Float64}:\n",
       " 5.26389  -0.513364  -1.52818   -1.95431   0.907681\n",
       " 0.0       5.25654   -0.475475  -0.721602  0.774718\n",
       " 0.0       0.0        4.4463     0.909929  0.879141\n",
       " 0.0       0.0        0.0       -3.57665   1.08843\n",
       " 0.0       0.0        0.0        0.0       3.36431"
      ]
     },
     "execution_count": 22,
     "metadata": {},
     "output_type": "execute_result"
    }
   ],
   "source": [
    "R̂"
   ]
  },
  {
   "cell_type": "code",
   "execution_count": 26,
   "id": "c0bccddf",
   "metadata": {},
   "outputs": [
    {
     "data": {
      "text/plain": [
       "true"
      ]
     },
     "execution_count": 26,
     "metadata": {},
     "output_type": "execute_result"
    }
   ],
   "source": [
    "R̂ \\ (Q̂'b) ≈ x"
   ]
  },
  {
   "cell_type": "code",
   "execution_count": 28,
   "id": "a0aeb81e",
   "metadata": {},
   "outputs": [
    {
     "data": {
      "text/plain": [
       "4.2648620991424"
      ]
     },
     "execution_count": 28,
     "metadata": {},
     "output_type": "execute_result"
    }
   ],
   "source": [
    "norm(A*x - b)"
   ]
  },
  {
   "cell_type": "code",
   "execution_count": 30,
   "id": "588fa6b7",
   "metadata": {},
   "outputs": [
    {
     "data": {
      "text/plain": [
       "4.26489476197898"
      ]
     },
     "execution_count": 30,
     "metadata": {},
     "output_type": "execute_result"
    }
   ],
   "source": [
    "norm(A*(x .+ 0.001randn.()) - b)"
   ]
  },
  {
   "cell_type": "markdown",
   "id": "501a088f",
   "metadata": {},
   "source": [
    "# 2. Quadratic fit\n",
    "\n",
    "Approximate data by\n",
    "$$\n",
    "p(x) = p_0 + p_1 x + p_2 x^2\n",
    "$$"
   ]
  },
  {
   "cell_type": "code",
   "execution_count": 37,
   "id": "50ca0d1d",
   "metadata": {},
   "outputs": [
    {
     "data": {
      "image/svg+xml": [
       "<?xml version=\"1.0\" encoding=\"utf-8\"?>\n",
       "<svg xmlns=\"http://www.w3.org/2000/svg\" xmlns:xlink=\"http://www.w3.org/1999/xlink\" width=\"600\" height=\"400\" viewBox=\"0 0 2400 1600\">\n",
       "<defs>\n",
       "  <clipPath id=\"clip380\">\n",
       "    <rect x=\"0\" y=\"0\" width=\"2400\" height=\"1600\"/>\n",
       "  </clipPath>\n",
       "</defs>\n",
       "<path clip-path=\"url(#clip380)\" d=\"\n",
       "M0 1600 L2400 1600 L2400 0 L0 0  Z\n",
       "  \" fill=\"#ffffff\" fill-rule=\"evenodd\" fill-opacity=\"1\"/>\n",
       "<defs>\n",
       "  <clipPath id=\"clip381\">\n",
       "    <rect x=\"480\" y=\"0\" width=\"1681\" height=\"1600\"/>\n",
       "  </clipPath>\n",
       "</defs>\n",
       "<path clip-path=\"url(#clip380)\" d=\"\n",
       "M156.274 1486.45 L2352.76 1486.45 L2352.76 47.2441 L156.274 47.2441  Z\n",
       "  \" fill=\"#ffffff\" fill-rule=\"evenodd\" fill-opacity=\"1\"/>\n",
       "<defs>\n",
       "  <clipPath id=\"clip382\">\n",
       "    <rect x=\"156\" y=\"47\" width=\"2197\" height=\"1440\"/>\n",
       "  </clipPath>\n",
       "</defs>\n",
       "<polyline clip-path=\"url(#clip382)\" style=\"stroke:#000000; stroke-linecap:butt; stroke-linejoin:round; stroke-width:2; stroke-opacity:0.1; fill:none\" points=\"\n",
       "  218.439,1486.45 218.439,47.2441 \n",
       "  \"/>\n",
       "<polyline clip-path=\"url(#clip382)\" style=\"stroke:#000000; stroke-linecap:butt; stroke-linejoin:round; stroke-width:2; stroke-opacity:0.1; fill:none\" points=\"\n",
       "  736.477,1486.45 736.477,47.2441 \n",
       "  \"/>\n",
       "<polyline clip-path=\"url(#clip382)\" style=\"stroke:#000000; stroke-linecap:butt; stroke-linejoin:round; stroke-width:2; stroke-opacity:0.1; fill:none\" points=\"\n",
       "  1254.52,1486.45 1254.52,47.2441 \n",
       "  \"/>\n",
       "<polyline clip-path=\"url(#clip382)\" style=\"stroke:#000000; stroke-linecap:butt; stroke-linejoin:round; stroke-width:2; stroke-opacity:0.1; fill:none\" points=\"\n",
       "  1772.55,1486.45 1772.55,47.2441 \n",
       "  \"/>\n",
       "<polyline clip-path=\"url(#clip382)\" style=\"stroke:#000000; stroke-linecap:butt; stroke-linejoin:round; stroke-width:2; stroke-opacity:0.1; fill:none\" points=\"\n",
       "  2290.59,1486.45 2290.59,47.2441 \n",
       "  \"/>\n",
       "<polyline clip-path=\"url(#clip380)\" style=\"stroke:#000000; stroke-linecap:butt; stroke-linejoin:round; stroke-width:4; stroke-opacity:1; fill:none\" points=\"\n",
       "  156.274,1486.45 2352.76,1486.45 \n",
       "  \"/>\n",
       "<polyline clip-path=\"url(#clip380)\" style=\"stroke:#000000; stroke-linecap:butt; stroke-linejoin:round; stroke-width:4; stroke-opacity:1; fill:none\" points=\"\n",
       "  218.439,1486.45 218.439,1467.55 \n",
       "  \"/>\n",
       "<polyline clip-path=\"url(#clip380)\" style=\"stroke:#000000; stroke-linecap:butt; stroke-linejoin:round; stroke-width:4; stroke-opacity:1; fill:none\" points=\"\n",
       "  736.477,1486.45 736.477,1467.55 \n",
       "  \"/>\n",
       "<polyline clip-path=\"url(#clip380)\" style=\"stroke:#000000; stroke-linecap:butt; stroke-linejoin:round; stroke-width:4; stroke-opacity:1; fill:none\" points=\"\n",
       "  1254.52,1486.45 1254.52,1467.55 \n",
       "  \"/>\n",
       "<polyline clip-path=\"url(#clip380)\" style=\"stroke:#000000; stroke-linecap:butt; stroke-linejoin:round; stroke-width:4; stroke-opacity:1; fill:none\" points=\"\n",
       "  1772.55,1486.45 1772.55,1467.55 \n",
       "  \"/>\n",
       "<polyline clip-path=\"url(#clip380)\" style=\"stroke:#000000; stroke-linecap:butt; stroke-linejoin:round; stroke-width:4; stroke-opacity:1; fill:none\" points=\"\n",
       "  2290.59,1486.45 2290.59,1467.55 \n",
       "  \"/>\n",
       "<path clip-path=\"url(#clip380)\" d=\"M180.742 1517.37 Q177.131 1517.37 175.302 1520.93 Q173.497 1524.47 173.497 1531.6 Q173.497 1538.71 175.302 1542.27 Q177.131 1545.82 180.742 1545.82 Q184.376 1545.82 186.182 1542.27 Q188.011 1538.71 188.011 1531.6 Q188.011 1524.47 186.182 1520.93 Q184.376 1517.37 180.742 1517.37 M180.742 1513.66 Q186.552 1513.66 189.608 1518.27 Q192.687 1522.85 192.687 1531.6 Q192.687 1540.33 189.608 1544.94 Q186.552 1549.52 180.742 1549.52 Q174.932 1549.52 171.853 1544.94 Q168.798 1540.33 168.798 1531.6 Q168.798 1522.85 171.853 1518.27 Q174.932 1513.66 180.742 1513.66 Z\" fill=\"#000000\" fill-rule=\"evenodd\" fill-opacity=\"1\" /><path clip-path=\"url(#clip380)\" d=\"M200.904 1542.97 L205.788 1542.97 L205.788 1548.85 L200.904 1548.85 L200.904 1542.97 Z\" fill=\"#000000\" fill-rule=\"evenodd\" fill-opacity=\"1\" /><path clip-path=\"url(#clip380)\" d=\"M225.973 1517.37 Q222.362 1517.37 220.534 1520.93 Q218.728 1524.47 218.728 1531.6 Q218.728 1538.71 220.534 1542.27 Q222.362 1545.82 225.973 1545.82 Q229.608 1545.82 231.413 1542.27 Q233.242 1538.71 233.242 1531.6 Q233.242 1524.47 231.413 1520.93 Q229.608 1517.37 225.973 1517.37 M225.973 1513.66 Q231.784 1513.66 234.839 1518.27 Q237.918 1522.85 237.918 1531.6 Q237.918 1540.33 234.839 1544.94 Q231.784 1549.52 225.973 1549.52 Q220.163 1549.52 217.085 1544.94 Q214.029 1540.33 214.029 1531.6 Q214.029 1522.85 217.085 1518.27 Q220.163 1513.66 225.973 1513.66 Z\" fill=\"#000000\" fill-rule=\"evenodd\" fill-opacity=\"1\" /><path clip-path=\"url(#clip380)\" d=\"M256.135 1517.37 Q252.524 1517.37 250.696 1520.93 Q248.89 1524.47 248.89 1531.6 Q248.89 1538.71 250.696 1542.27 Q252.524 1545.82 256.135 1545.82 Q259.77 1545.82 261.575 1542.27 Q263.404 1538.71 263.404 1531.6 Q263.404 1524.47 261.575 1520.93 Q259.77 1517.37 256.135 1517.37 M256.135 1513.66 Q261.945 1513.66 265.001 1518.27 Q268.08 1522.85 268.08 1531.6 Q268.08 1540.33 265.001 1544.94 Q261.945 1549.52 256.135 1549.52 Q250.325 1549.52 247.246 1544.94 Q244.191 1540.33 244.191 1531.6 Q244.191 1522.85 247.246 1518.27 Q250.325 1513.66 256.135 1513.66 Z\" fill=\"#000000\" fill-rule=\"evenodd\" fill-opacity=\"1\" /><path clip-path=\"url(#clip380)\" d=\"M699.278 1517.37 Q695.667 1517.37 693.838 1520.93 Q692.033 1524.47 692.033 1531.6 Q692.033 1538.71 693.838 1542.27 Q695.667 1545.82 699.278 1545.82 Q702.912 1545.82 704.718 1542.27 Q706.546 1538.71 706.546 1531.6 Q706.546 1524.47 704.718 1520.93 Q702.912 1517.37 699.278 1517.37 M699.278 1513.66 Q705.088 1513.66 708.144 1518.27 Q711.222 1522.85 711.222 1531.6 Q711.222 1540.33 708.144 1544.94 Q705.088 1549.52 699.278 1549.52 Q693.468 1549.52 690.389 1544.94 Q687.334 1540.33 687.334 1531.6 Q687.334 1522.85 690.389 1518.27 Q693.468 1513.66 699.278 1513.66 Z\" fill=\"#000000\" fill-rule=\"evenodd\" fill-opacity=\"1\" /><path clip-path=\"url(#clip380)\" d=\"M719.44 1542.97 L724.324 1542.97 L724.324 1548.85 L719.44 1548.85 L719.44 1542.97 Z\" fill=\"#000000\" fill-rule=\"evenodd\" fill-opacity=\"1\" /><path clip-path=\"url(#clip380)\" d=\"M738.537 1544.91 L754.856 1544.91 L754.856 1548.85 L732.912 1548.85 L732.912 1544.91 Q735.574 1542.16 740.157 1537.53 Q744.764 1532.88 745.944 1531.53 Q748.19 1529.01 749.069 1527.27 Q749.972 1525.51 749.972 1523.82 Q749.972 1521.07 748.028 1519.33 Q746.106 1517.6 743.005 1517.6 Q740.806 1517.6 738.352 1518.36 Q735.921 1519.13 733.144 1520.68 L733.144 1515.95 Q735.968 1514.82 738.421 1514.24 Q740.875 1513.66 742.912 1513.66 Q748.282 1513.66 751.477 1516.35 Q754.671 1519.03 754.671 1523.52 Q754.671 1525.65 753.861 1527.57 Q753.074 1529.47 750.968 1532.07 Q750.389 1532.74 747.287 1535.95 Q744.185 1539.15 738.537 1544.91 Z\" fill=\"#000000\" fill-rule=\"evenodd\" fill-opacity=\"1\" /><path clip-path=\"url(#clip380)\" d=\"M764.717 1514.29 L783.074 1514.29 L783.074 1518.22 L769 1518.22 L769 1526.7 Q770.018 1526.35 771.037 1526.19 Q772.055 1526 773.074 1526 Q778.861 1526 782.241 1529.17 Q785.62 1532.34 785.62 1537.76 Q785.62 1543.34 782.148 1546.44 Q778.676 1549.52 772.356 1549.52 Q770.18 1549.52 767.912 1549.15 Q765.667 1548.78 763.259 1548.04 L763.259 1543.34 Q765.342 1544.47 767.565 1545.03 Q769.787 1545.58 772.264 1545.58 Q776.268 1545.58 778.606 1543.48 Q780.944 1541.37 780.944 1537.76 Q780.944 1534.15 778.606 1532.04 Q776.268 1529.94 772.264 1529.94 Q770.389 1529.94 768.514 1530.35 Q766.662 1530.77 764.717 1531.65 L764.717 1514.29 Z\" fill=\"#000000\" fill-rule=\"evenodd\" fill-opacity=\"1\" /><path clip-path=\"url(#clip380)\" d=\"M1216.82 1517.37 Q1213.21 1517.37 1211.38 1520.93 Q1209.57 1524.47 1209.57 1531.6 Q1209.57 1538.71 1211.38 1542.27 Q1213.21 1545.82 1216.82 1545.82 Q1220.45 1545.82 1222.26 1542.27 Q1224.09 1538.71 1224.09 1531.6 Q1224.09 1524.47 1222.26 1520.93 Q1220.45 1517.37 1216.82 1517.37 M1216.82 1513.66 Q1222.63 1513.66 1225.68 1518.27 Q1228.76 1522.85 1228.76 1531.6 Q1228.76 1540.33 1225.68 1544.94 Q1222.63 1549.52 1216.82 1549.52 Q1211.01 1549.52 1207.93 1544.94 Q1204.87 1540.33 1204.87 1531.6 Q1204.87 1522.85 1207.93 1518.27 Q1211.01 1513.66 1216.82 1513.66 Z\" fill=\"#000000\" fill-rule=\"evenodd\" fill-opacity=\"1\" /><path clip-path=\"url(#clip380)\" d=\"M1236.98 1542.97 L1241.86 1542.97 L1241.86 1548.85 L1236.98 1548.85 L1236.98 1542.97 Z\" fill=\"#000000\" fill-rule=\"evenodd\" fill-opacity=\"1\" /><path clip-path=\"url(#clip380)\" d=\"M1252.1 1514.29 L1270.45 1514.29 L1270.45 1518.22 L1256.38 1518.22 L1256.38 1526.7 Q1257.4 1526.35 1258.42 1526.19 Q1259.43 1526 1260.45 1526 Q1266.24 1526 1269.62 1529.17 Q1273 1532.34 1273 1537.76 Q1273 1543.34 1269.53 1546.44 Q1266.05 1549.52 1259.73 1549.52 Q1257.56 1549.52 1255.29 1549.15 Q1253.05 1548.78 1250.64 1548.04 L1250.64 1543.34 Q1252.72 1544.47 1254.94 1545.03 Q1257.17 1545.58 1259.64 1545.58 Q1263.65 1545.58 1265.98 1543.48 Q1268.32 1541.37 1268.32 1537.76 Q1268.32 1534.15 1265.98 1532.04 Q1263.65 1529.94 1259.64 1529.94 Q1257.77 1529.94 1255.89 1530.35 Q1254.04 1530.77 1252.1 1531.65 L1252.1 1514.29 Z\" fill=\"#000000\" fill-rule=\"evenodd\" fill-opacity=\"1\" /><path clip-path=\"url(#clip380)\" d=\"M1292.21 1517.37 Q1288.6 1517.37 1286.77 1520.93 Q1284.97 1524.47 1284.97 1531.6 Q1284.97 1538.71 1286.77 1542.27 Q1288.6 1545.82 1292.21 1545.82 Q1295.85 1545.82 1297.65 1542.27 Q1299.48 1538.71 1299.48 1531.6 Q1299.48 1524.47 1297.65 1520.93 Q1295.85 1517.37 1292.21 1517.37 M1292.21 1513.66 Q1298.02 1513.66 1301.08 1518.27 Q1304.16 1522.85 1304.16 1531.6 Q1304.16 1540.33 1301.08 1544.94 Q1298.02 1549.52 1292.21 1549.52 Q1286.4 1549.52 1283.32 1544.94 Q1280.27 1540.33 1280.27 1531.6 Q1280.27 1522.85 1283.32 1518.27 Q1286.4 1513.66 1292.21 1513.66 Z\" fill=\"#000000\" fill-rule=\"evenodd\" fill-opacity=\"1\" /><path clip-path=\"url(#clip380)\" d=\"M1735.35 1517.37 Q1731.74 1517.37 1729.91 1520.93 Q1728.11 1524.47 1728.11 1531.6 Q1728.11 1538.71 1729.91 1542.27 Q1731.74 1545.82 1735.35 1545.82 Q1738.99 1545.82 1740.79 1542.27 Q1742.62 1538.71 1742.62 1531.6 Q1742.62 1524.47 1740.79 1520.93 Q1738.99 1517.37 1735.35 1517.37 M1735.35 1513.66 Q1741.16 1513.66 1744.22 1518.27 Q1747.3 1522.85 1747.3 1531.6 Q1747.3 1540.33 1744.22 1544.94 Q1741.16 1549.52 1735.35 1549.52 Q1729.54 1549.52 1726.47 1544.94 Q1723.41 1540.33 1723.41 1531.6 Q1723.41 1522.85 1726.47 1518.27 Q1729.54 1513.66 1735.35 1513.66 Z\" fill=\"#000000\" fill-rule=\"evenodd\" fill-opacity=\"1\" /><path clip-path=\"url(#clip380)\" d=\"M1755.52 1542.97 L1760.4 1542.97 L1760.4 1548.85 L1755.52 1548.85 L1755.52 1542.97 Z\" fill=\"#000000\" fill-rule=\"evenodd\" fill-opacity=\"1\" /><path clip-path=\"url(#clip380)\" d=\"M1769.41 1514.29 L1791.63 1514.29 L1791.63 1516.28 L1779.08 1548.85 L1774.2 1548.85 L1786 1518.22 L1769.41 1518.22 L1769.41 1514.29 Z\" fill=\"#000000\" fill-rule=\"evenodd\" fill-opacity=\"1\" /><path clip-path=\"url(#clip380)\" d=\"M1800.79 1514.29 L1819.15 1514.29 L1819.15 1518.22 L1805.08 1518.22 L1805.08 1526.7 Q1806.09 1526.35 1807.11 1526.19 Q1808.13 1526 1809.15 1526 Q1814.94 1526 1818.32 1529.17 Q1821.7 1532.34 1821.7 1537.76 Q1821.7 1543.34 1818.22 1546.44 Q1814.75 1549.52 1808.43 1549.52 Q1806.26 1549.52 1803.99 1549.15 Q1801.74 1548.78 1799.34 1548.04 L1799.34 1543.34 Q1801.42 1544.47 1803.64 1545.03 Q1805.86 1545.58 1808.34 1545.58 Q1812.34 1545.58 1814.68 1543.48 Q1817.02 1541.37 1817.02 1537.76 Q1817.02 1534.15 1814.68 1532.04 Q1812.34 1529.94 1808.34 1529.94 Q1806.47 1529.94 1804.59 1530.35 Q1802.74 1530.77 1800.79 1531.65 L1800.79 1514.29 Z\" fill=\"#000000\" fill-rule=\"evenodd\" fill-opacity=\"1\" /><path clip-path=\"url(#clip380)\" d=\"M2242.66 1544.91 L2250.3 1544.91 L2250.3 1518.55 L2241.99 1520.21 L2241.99 1515.95 L2250.26 1514.29 L2254.93 1514.29 L2254.93 1544.91 L2262.57 1544.91 L2262.57 1548.85 L2242.66 1548.85 L2242.66 1544.91 Z\" fill=\"#000000\" fill-rule=\"evenodd\" fill-opacity=\"1\" /><path clip-path=\"url(#clip380)\" d=\"M2272.02 1542.97 L2276.9 1542.97 L2276.9 1548.85 L2272.02 1548.85 L2272.02 1542.97 Z\" fill=\"#000000\" fill-rule=\"evenodd\" fill-opacity=\"1\" /><path clip-path=\"url(#clip380)\" d=\"M2297.08 1517.37 Q2293.47 1517.37 2291.64 1520.93 Q2289.84 1524.47 2289.84 1531.6 Q2289.84 1538.71 2291.64 1542.27 Q2293.47 1545.82 2297.08 1545.82 Q2300.72 1545.82 2302.52 1542.27 Q2304.35 1538.71 2304.35 1531.6 Q2304.35 1524.47 2302.52 1520.93 Q2300.72 1517.37 2297.08 1517.37 M2297.08 1513.66 Q2302.89 1513.66 2305.95 1518.27 Q2309.03 1522.85 2309.03 1531.6 Q2309.03 1540.33 2305.95 1544.94 Q2302.89 1549.52 2297.08 1549.52 Q2291.27 1549.52 2288.2 1544.94 Q2285.14 1540.33 2285.14 1531.6 Q2285.14 1522.85 2288.2 1518.27 Q2291.27 1513.66 2297.08 1513.66 Z\" fill=\"#000000\" fill-rule=\"evenodd\" fill-opacity=\"1\" /><path clip-path=\"url(#clip380)\" d=\"M2327.25 1517.37 Q2323.64 1517.37 2321.81 1520.93 Q2320 1524.47 2320 1531.6 Q2320 1538.71 2321.81 1542.27 Q2323.64 1545.82 2327.25 1545.82 Q2330.88 1545.82 2332.69 1542.27 Q2334.51 1538.71 2334.51 1531.6 Q2334.51 1524.47 2332.69 1520.93 Q2330.88 1517.37 2327.25 1517.37 M2327.25 1513.66 Q2333.06 1513.66 2336.11 1518.27 Q2339.19 1522.85 2339.19 1531.6 Q2339.19 1540.33 2336.11 1544.94 Q2333.06 1549.52 2327.25 1549.52 Q2321.44 1549.52 2318.36 1544.94 Q2315.3 1540.33 2315.3 1531.6 Q2315.3 1522.85 2318.36 1518.27 Q2321.44 1513.66 2327.25 1513.66 Z\" fill=\"#000000\" fill-rule=\"evenodd\" fill-opacity=\"1\" /><polyline clip-path=\"url(#clip382)\" style=\"stroke:#000000; stroke-linecap:butt; stroke-linejoin:round; stroke-width:2; stroke-opacity:0.1; fill:none\" points=\"\n",
       "  156.274,1261.54 2352.76,1261.54 \n",
       "  \"/>\n",
       "<polyline clip-path=\"url(#clip382)\" style=\"stroke:#000000; stroke-linecap:butt; stroke-linejoin:round; stroke-width:2; stroke-opacity:0.1; fill:none\" points=\"\n",
       "  156.274,977.042 2352.76,977.042 \n",
       "  \"/>\n",
       "<polyline clip-path=\"url(#clip382)\" style=\"stroke:#000000; stroke-linecap:butt; stroke-linejoin:round; stroke-width:2; stroke-opacity:0.1; fill:none\" points=\"\n",
       "  156.274,692.545 2352.76,692.545 \n",
       "  \"/>\n",
       "<polyline clip-path=\"url(#clip382)\" style=\"stroke:#000000; stroke-linecap:butt; stroke-linejoin:round; stroke-width:2; stroke-opacity:0.1; fill:none\" points=\"\n",
       "  156.274,408.049 2352.76,408.049 \n",
       "  \"/>\n",
       "<polyline clip-path=\"url(#clip382)\" style=\"stroke:#000000; stroke-linecap:butt; stroke-linejoin:round; stroke-width:2; stroke-opacity:0.1; fill:none\" points=\"\n",
       "  156.274,123.553 2352.76,123.553 \n",
       "  \"/>\n",
       "<polyline clip-path=\"url(#clip380)\" style=\"stroke:#000000; stroke-linecap:butt; stroke-linejoin:round; stroke-width:4; stroke-opacity:1; fill:none\" points=\"\n",
       "  156.274,1486.45 156.274,47.2441 \n",
       "  \"/>\n",
       "<polyline clip-path=\"url(#clip380)\" style=\"stroke:#000000; stroke-linecap:butt; stroke-linejoin:round; stroke-width:4; stroke-opacity:1; fill:none\" points=\"\n",
       "  156.274,1261.54 175.172,1261.54 \n",
       "  \"/>\n",
       "<polyline clip-path=\"url(#clip380)\" style=\"stroke:#000000; stroke-linecap:butt; stroke-linejoin:round; stroke-width:4; stroke-opacity:1; fill:none\" points=\"\n",
       "  156.274,977.042 175.172,977.042 \n",
       "  \"/>\n",
       "<polyline clip-path=\"url(#clip380)\" style=\"stroke:#000000; stroke-linecap:butt; stroke-linejoin:round; stroke-width:4; stroke-opacity:1; fill:none\" points=\"\n",
       "  156.274,692.545 175.172,692.545 \n",
       "  \"/>\n",
       "<polyline clip-path=\"url(#clip380)\" style=\"stroke:#000000; stroke-linecap:butt; stroke-linejoin:round; stroke-width:4; stroke-opacity:1; fill:none\" points=\"\n",
       "  156.274,408.049 175.172,408.049 \n",
       "  \"/>\n",
       "<polyline clip-path=\"url(#clip380)\" style=\"stroke:#000000; stroke-linecap:butt; stroke-linejoin:round; stroke-width:4; stroke-opacity:1; fill:none\" points=\"\n",
       "  156.274,123.553 175.172,123.553 \n",
       "  \"/>\n",
       "<path clip-path=\"url(#clip380)\" d=\"M62.9365 1247.34 Q59.3254 1247.34 57.4967 1250.9 Q55.6912 1254.44 55.6912 1261.57 Q55.6912 1268.68 57.4967 1272.24 Q59.3254 1275.79 62.9365 1275.79 Q66.5707 1275.79 68.3763 1272.24 Q70.205 1268.68 70.205 1261.57 Q70.205 1254.44 68.3763 1250.9 Q66.5707 1247.34 62.9365 1247.34 M62.9365 1243.63 Q68.7467 1243.63 71.8022 1248.24 Q74.8809 1252.82 74.8809 1261.57 Q74.8809 1270.3 71.8022 1274.91 Q68.7467 1279.49 62.9365 1279.49 Q57.1264 1279.49 54.0477 1274.91 Q50.9921 1270.3 50.9921 1261.57 Q50.9921 1252.82 54.0477 1248.24 Q57.1264 1243.63 62.9365 1243.63 Z\" fill=\"#000000\" fill-rule=\"evenodd\" fill-opacity=\"1\" /><path clip-path=\"url(#clip380)\" d=\"M83.0984 1272.94 L87.9827 1272.94 L87.9827 1278.82 L83.0984 1278.82 L83.0984 1272.94 Z\" fill=\"#000000\" fill-rule=\"evenodd\" fill-opacity=\"1\" /><path clip-path=\"url(#clip380)\" d=\"M108.746 1259.68 Q105.598 1259.68 103.746 1261.83 Q101.918 1263.98 101.918 1267.73 Q101.918 1271.46 103.746 1273.63 Q105.598 1275.79 108.746 1275.79 Q111.895 1275.79 113.723 1273.63 Q115.575 1271.46 115.575 1267.73 Q115.575 1263.98 113.723 1261.83 Q111.895 1259.68 108.746 1259.68 M118.029 1245.02 L118.029 1249.28 Q116.27 1248.45 114.464 1248.01 Q112.682 1247.57 110.922 1247.57 Q106.293 1247.57 103.839 1250.69 Q101.409 1253.82 101.061 1260.14 Q102.427 1258.12 104.487 1257.06 Q106.547 1255.97 109.024 1255.97 Q114.233 1255.97 117.242 1259.14 Q120.274 1262.29 120.274 1267.73 Q120.274 1273.05 117.126 1276.27 Q113.978 1279.49 108.746 1279.49 Q102.751 1279.49 99.5798 1274.91 Q96.4085 1270.3 96.4085 1261.57 Q96.4085 1253.38 100.297 1248.52 Q104.186 1243.63 110.737 1243.63 Q112.496 1243.63 114.279 1243.98 Q116.084 1244.33 118.029 1245.02 Z\" fill=\"#000000\" fill-rule=\"evenodd\" fill-opacity=\"1\" /><path clip-path=\"url(#clip380)\" d=\"M64.0013 962.841 Q60.3902 962.841 58.5615 966.405 Q56.756 969.947 56.756 977.077 Q56.756 984.183 58.5615 987.748 Q60.3902 991.29 64.0013 991.29 Q67.6356 991.29 69.4411 987.748 Q71.2698 984.183 71.2698 977.077 Q71.2698 969.947 69.4411 966.405 Q67.6356 962.841 64.0013 962.841 M64.0013 959.137 Q69.8115 959.137 72.867 963.743 Q75.9457 968.327 75.9457 977.077 Q75.9457 985.803 72.867 990.41 Q69.8115 994.993 64.0013 994.993 Q58.1912 994.993 55.1125 990.41 Q52.0569 985.803 52.0569 977.077 Q52.0569 968.327 55.1125 963.743 Q58.1912 959.137 64.0013 959.137 Z\" fill=\"#000000\" fill-rule=\"evenodd\" fill-opacity=\"1\" /><path clip-path=\"url(#clip380)\" d=\"M84.1632 988.442 L89.0475 988.442 L89.0475 994.322 L84.1632 994.322 L84.1632 988.442 Z\" fill=\"#000000\" fill-rule=\"evenodd\" fill-opacity=\"1\" /><path clip-path=\"url(#clip380)\" d=\"M98.0521 959.762 L120.274 959.762 L120.274 961.753 L107.728 994.322 L102.844 994.322 L114.649 963.697 L98.0521 963.697 L98.0521 959.762 Z\" fill=\"#000000\" fill-rule=\"evenodd\" fill-opacity=\"1\" /><path clip-path=\"url(#clip380)\" d=\"M63.1911 678.344 Q59.58 678.344 57.7513 681.909 Q55.9458 685.451 55.9458 692.58 Q55.9458 699.687 57.7513 703.251 Q59.58 706.793 63.1911 706.793 Q66.8254 706.793 68.6309 703.251 Q70.4596 699.687 70.4596 692.58 Q70.4596 685.451 68.6309 681.909 Q66.8254 678.344 63.1911 678.344 M63.1911 674.641 Q69.0013 674.641 72.0568 679.247 Q75.1355 683.83 75.1355 692.58 Q75.1355 701.307 72.0568 705.913 Q69.0013 710.497 63.1911 710.497 Q57.381 710.497 54.3023 705.913 Q51.2468 701.307 51.2468 692.58 Q51.2468 683.83 54.3023 679.247 Q57.381 674.641 63.1911 674.641 Z\" fill=\"#000000\" fill-rule=\"evenodd\" fill-opacity=\"1\" /><path clip-path=\"url(#clip380)\" d=\"M83.3531 703.946 L88.2373 703.946 L88.2373 709.825 L83.3531 709.825 L83.3531 703.946 Z\" fill=\"#000000\" fill-rule=\"evenodd\" fill-opacity=\"1\" /><path clip-path=\"url(#clip380)\" d=\"M108.422 693.414 Q105.089 693.414 103.168 695.196 Q101.27 696.978 101.27 700.103 Q101.27 703.228 103.168 705.011 Q105.089 706.793 108.422 706.793 Q111.756 706.793 113.677 705.011 Q115.598 703.205 115.598 700.103 Q115.598 696.978 113.677 695.196 Q111.779 693.414 108.422 693.414 M103.746 691.423 Q100.737 690.682 99.0474 688.622 Q97.3808 686.562 97.3808 683.599 Q97.3808 679.455 100.321 677.048 Q103.284 674.641 108.422 674.641 Q113.584 674.641 116.524 677.048 Q119.464 679.455 119.464 683.599 Q119.464 686.562 117.774 688.622 Q116.108 690.682 113.121 691.423 Q116.501 692.21 118.376 694.502 Q120.274 696.793 120.274 700.103 Q120.274 705.126 117.195 707.812 Q114.14 710.497 108.422 710.497 Q102.705 710.497 99.6261 707.812 Q96.5706 705.126 96.5706 700.103 Q96.5706 696.793 98.4687 694.502 Q100.367 692.21 103.746 691.423 M102.034 684.039 Q102.034 686.724 103.7 688.228 Q105.39 689.733 108.422 689.733 Q111.432 689.733 113.121 688.228 Q114.834 686.724 114.834 684.039 Q114.834 681.353 113.121 679.849 Q111.432 678.344 108.422 678.344 Q105.39 678.344 103.7 679.849 Q102.034 681.353 102.034 684.039 Z\" fill=\"#000000\" fill-rule=\"evenodd\" fill-opacity=\"1\" /><path clip-path=\"url(#clip380)\" d=\"M63.2837 393.848 Q59.6726 393.848 57.8439 397.413 Q56.0384 400.954 56.0384 408.084 Q56.0384 415.19 57.8439 418.755 Q59.6726 422.297 63.2837 422.297 Q66.918 422.297 68.7235 418.755 Q70.5522 415.19 70.5522 408.084 Q70.5522 400.954 68.7235 397.413 Q66.918 393.848 63.2837 393.848 M63.2837 390.144 Q69.0939 390.144 72.1494 394.75 Q75.2281 399.334 75.2281 408.084 Q75.2281 416.811 72.1494 421.417 Q69.0939 426 63.2837 426 Q57.4736 426 54.3949 421.417 Q51.3393 416.811 51.3393 408.084 Q51.3393 399.334 54.3949 394.75 Q57.4736 390.144 63.2837 390.144 Z\" fill=\"#000000\" fill-rule=\"evenodd\" fill-opacity=\"1\" /><path clip-path=\"url(#clip380)\" d=\"M83.4457 419.449 L88.3299 419.449 L88.3299 425.329 L83.4457 425.329 L83.4457 419.449 Z\" fill=\"#000000\" fill-rule=\"evenodd\" fill-opacity=\"1\" /><path clip-path=\"url(#clip380)\" d=\"M98.6539 424.611 L98.6539 420.352 Q100.413 421.186 102.219 421.625 Q104.024 422.065 105.76 422.065 Q110.39 422.065 112.82 418.963 Q115.274 415.838 115.621 409.496 Q114.279 411.487 112.219 412.551 Q110.158 413.616 107.658 413.616 Q102.473 413.616 99.4409 410.491 Q96.4317 407.343 96.4317 401.903 Q96.4317 396.579 99.5798 393.362 Q102.728 390.144 107.959 390.144 Q113.955 390.144 117.103 394.75 Q120.274 399.334 120.274 408.084 Q120.274 416.255 116.385 421.139 Q112.52 426 105.969 426 Q104.209 426 102.404 425.653 Q100.598 425.306 98.6539 424.611 M107.959 409.959 Q111.108 409.959 112.936 407.806 Q114.788 405.653 114.788 401.903 Q114.788 398.176 112.936 396.024 Q111.108 393.848 107.959 393.848 Q104.811 393.848 102.959 396.024 Q101.131 398.176 101.131 401.903 Q101.131 405.653 102.959 407.806 Q104.811 409.959 107.959 409.959 Z\" fill=\"#000000\" fill-rule=\"evenodd\" fill-opacity=\"1\" /><path clip-path=\"url(#clip380)\" d=\"M53.9088 136.897 L61.5476 136.897 L61.5476 110.532 L53.2375 112.198 L53.2375 107.939 L61.5013 106.273 L66.1772 106.273 L66.1772 136.897 L73.8161 136.897 L73.8161 140.833 L53.9088 140.833 L53.9088 136.897 Z\" fill=\"#000000\" fill-rule=\"evenodd\" fill-opacity=\"1\" /><path clip-path=\"url(#clip380)\" d=\"M83.2605 134.953 L88.1447 134.953 L88.1447 140.833 L83.2605 140.833 L83.2605 134.953 Z\" fill=\"#000000\" fill-rule=\"evenodd\" fill-opacity=\"1\" /><path clip-path=\"url(#clip380)\" d=\"M108.33 109.351 Q104.719 109.351 102.89 112.916 Q101.084 116.458 101.084 123.587 Q101.084 130.694 102.89 134.259 Q104.719 137.8 108.33 137.8 Q111.964 137.8 113.77 134.259 Q115.598 130.694 115.598 123.587 Q115.598 116.458 113.77 112.916 Q111.964 109.351 108.33 109.351 M108.33 105.648 Q114.14 105.648 117.195 110.254 Q120.274 114.837 120.274 123.587 Q120.274 132.314 117.195 136.921 Q114.14 141.504 108.33 141.504 Q102.52 141.504 99.4409 136.921 Q96.3854 132.314 96.3854 123.587 Q96.3854 114.837 99.4409 110.254 Q102.52 105.648 108.33 105.648 Z\" fill=\"#000000\" fill-rule=\"evenodd\" fill-opacity=\"1\" /><circle clip-path=\"url(#clip382)\" cx=\"218.439\" cy=\"170.695\" r=\"14\" fill=\"#009af9\" fill-rule=\"evenodd\" fill-opacity=\"1\" stroke=\"#000000\" stroke-opacity=\"1\" stroke-width=\"3.2\"/>\n",
       "<circle clip-path=\"url(#clip382)\" cx=\"239.37\" cy=\"135.883\" r=\"14\" fill=\"#009af9\" fill-rule=\"evenodd\" fill-opacity=\"1\" stroke=\"#000000\" stroke-opacity=\"1\" stroke-width=\"3.2\"/>\n",
       "<circle clip-path=\"url(#clip382)\" cx=\"260.3\" cy=\"133.794\" r=\"14\" fill=\"#009af9\" fill-rule=\"evenodd\" fill-opacity=\"1\" stroke=\"#000000\" stroke-opacity=\"1\" stroke-width=\"3.2\"/>\n",
       "<circle clip-path=\"url(#clip382)\" cx=\"281.231\" cy=\"106.416\" r=\"14\" fill=\"#009af9\" fill-rule=\"evenodd\" fill-opacity=\"1\" stroke=\"#000000\" stroke-opacity=\"1\" stroke-width=\"3.2\"/>\n",
       "<circle clip-path=\"url(#clip382)\" cx=\"302.162\" cy=\"125.74\" r=\"14\" fill=\"#009af9\" fill-rule=\"evenodd\" fill-opacity=\"1\" stroke=\"#000000\" stroke-opacity=\"1\" stroke-width=\"3.2\"/>\n",
       "<circle clip-path=\"url(#clip382)\" cx=\"323.093\" cy=\"141.175\" r=\"14\" fill=\"#009af9\" fill-rule=\"evenodd\" fill-opacity=\"1\" stroke=\"#000000\" stroke-opacity=\"1\" stroke-width=\"3.2\"/>\n",
       "<circle clip-path=\"url(#clip382)\" cx=\"344.024\" cy=\"129.725\" r=\"14\" fill=\"#009af9\" fill-rule=\"evenodd\" fill-opacity=\"1\" stroke=\"#000000\" stroke-opacity=\"1\" stroke-width=\"3.2\"/>\n",
       "<circle clip-path=\"url(#clip382)\" cx=\"364.955\" cy=\"146.557\" r=\"14\" fill=\"#009af9\" fill-rule=\"evenodd\" fill-opacity=\"1\" stroke=\"#000000\" stroke-opacity=\"1\" stroke-width=\"3.2\"/>\n",
       "<circle clip-path=\"url(#clip382)\" cx=\"385.885\" cy=\"153.494\" r=\"14\" fill=\"#009af9\" fill-rule=\"evenodd\" fill-opacity=\"1\" stroke=\"#000000\" stroke-opacity=\"1\" stroke-width=\"3.2\"/>\n",
       "<circle clip-path=\"url(#clip382)\" cx=\"406.816\" cy=\"145.437\" r=\"14\" fill=\"#009af9\" fill-rule=\"evenodd\" fill-opacity=\"1\" stroke=\"#000000\" stroke-opacity=\"1\" stroke-width=\"3.2\"/>\n",
       "<circle clip-path=\"url(#clip382)\" cx=\"427.747\" cy=\"150.929\" r=\"14\" fill=\"#009af9\" fill-rule=\"evenodd\" fill-opacity=\"1\" stroke=\"#000000\" stroke-opacity=\"1\" stroke-width=\"3.2\"/>\n",
       "<circle clip-path=\"url(#clip382)\" cx=\"448.678\" cy=\"189.578\" r=\"14\" fill=\"#009af9\" fill-rule=\"evenodd\" fill-opacity=\"1\" stroke=\"#000000\" stroke-opacity=\"1\" stroke-width=\"3.2\"/>\n",
       "<circle clip-path=\"url(#clip382)\" cx=\"469.609\" cy=\"179.078\" r=\"14\" fill=\"#009af9\" fill-rule=\"evenodd\" fill-opacity=\"1\" stroke=\"#000000\" stroke-opacity=\"1\" stroke-width=\"3.2\"/>\n",
       "<circle clip-path=\"url(#clip382)\" cx=\"490.54\" cy=\"87.9763\" r=\"14\" fill=\"#009af9\" fill-rule=\"evenodd\" fill-opacity=\"1\" stroke=\"#000000\" stroke-opacity=\"1\" stroke-width=\"3.2\"/>\n",
       "<circle clip-path=\"url(#clip382)\" cx=\"511.47\" cy=\"149.354\" r=\"14\" fill=\"#009af9\" fill-rule=\"evenodd\" fill-opacity=\"1\" stroke=\"#000000\" stroke-opacity=\"1\" stroke-width=\"3.2\"/>\n",
       "<circle clip-path=\"url(#clip382)\" cx=\"532.401\" cy=\"172.953\" r=\"14\" fill=\"#009af9\" fill-rule=\"evenodd\" fill-opacity=\"1\" stroke=\"#000000\" stroke-opacity=\"1\" stroke-width=\"3.2\"/>\n",
       "<circle clip-path=\"url(#clip382)\" cx=\"553.332\" cy=\"166.273\" r=\"14\" fill=\"#009af9\" fill-rule=\"evenodd\" fill-opacity=\"1\" stroke=\"#000000\" stroke-opacity=\"1\" stroke-width=\"3.2\"/>\n",
       "<circle clip-path=\"url(#clip382)\" cx=\"574.263\" cy=\"155.22\" r=\"14\" fill=\"#009af9\" fill-rule=\"evenodd\" fill-opacity=\"1\" stroke=\"#000000\" stroke-opacity=\"1\" stroke-width=\"3.2\"/>\n",
       "<circle clip-path=\"url(#clip382)\" cx=\"595.194\" cy=\"214.159\" r=\"14\" fill=\"#009af9\" fill-rule=\"evenodd\" fill-opacity=\"1\" stroke=\"#000000\" stroke-opacity=\"1\" stroke-width=\"3.2\"/>\n",
       "<circle clip-path=\"url(#clip382)\" cx=\"616.125\" cy=\"175.263\" r=\"14\" fill=\"#009af9\" fill-rule=\"evenodd\" fill-opacity=\"1\" stroke=\"#000000\" stroke-opacity=\"1\" stroke-width=\"3.2\"/>\n",
       "<circle clip-path=\"url(#clip382)\" cx=\"637.055\" cy=\"190.007\" r=\"14\" fill=\"#009af9\" fill-rule=\"evenodd\" fill-opacity=\"1\" stroke=\"#000000\" stroke-opacity=\"1\" stroke-width=\"3.2\"/>\n",
       "<circle clip-path=\"url(#clip382)\" cx=\"657.986\" cy=\"183.69\" r=\"14\" fill=\"#009af9\" fill-rule=\"evenodd\" fill-opacity=\"1\" stroke=\"#000000\" stroke-opacity=\"1\" stroke-width=\"3.2\"/>\n",
       "<circle clip-path=\"url(#clip382)\" cx=\"678.917\" cy=\"198.401\" r=\"14\" fill=\"#009af9\" fill-rule=\"evenodd\" fill-opacity=\"1\" stroke=\"#000000\" stroke-opacity=\"1\" stroke-width=\"3.2\"/>\n",
       "<circle clip-path=\"url(#clip382)\" cx=\"699.848\" cy=\"170.008\" r=\"14\" fill=\"#009af9\" fill-rule=\"evenodd\" fill-opacity=\"1\" stroke=\"#000000\" stroke-opacity=\"1\" stroke-width=\"3.2\"/>\n",
       "<circle clip-path=\"url(#clip382)\" cx=\"720.779\" cy=\"188.831\" r=\"14\" fill=\"#009af9\" fill-rule=\"evenodd\" fill-opacity=\"1\" stroke=\"#000000\" stroke-opacity=\"1\" stroke-width=\"3.2\"/>\n",
       "<circle clip-path=\"url(#clip382)\" cx=\"741.71\" cy=\"218.263\" r=\"14\" fill=\"#009af9\" fill-rule=\"evenodd\" fill-opacity=\"1\" stroke=\"#000000\" stroke-opacity=\"1\" stroke-width=\"3.2\"/>\n",
       "<circle clip-path=\"url(#clip382)\" cx=\"762.64\" cy=\"242.984\" r=\"14\" fill=\"#009af9\" fill-rule=\"evenodd\" fill-opacity=\"1\" stroke=\"#000000\" stroke-opacity=\"1\" stroke-width=\"3.2\"/>\n",
       "<circle clip-path=\"url(#clip382)\" cx=\"783.571\" cy=\"200.963\" r=\"14\" fill=\"#009af9\" fill-rule=\"evenodd\" fill-opacity=\"1\" stroke=\"#000000\" stroke-opacity=\"1\" stroke-width=\"3.2\"/>\n",
       "<circle clip-path=\"url(#clip382)\" cx=\"804.502\" cy=\"217.722\" r=\"14\" fill=\"#009af9\" fill-rule=\"evenodd\" fill-opacity=\"1\" stroke=\"#000000\" stroke-opacity=\"1\" stroke-width=\"3.2\"/>\n",
       "<circle clip-path=\"url(#clip382)\" cx=\"825.433\" cy=\"236.755\" r=\"14\" fill=\"#009af9\" fill-rule=\"evenodd\" fill-opacity=\"1\" stroke=\"#000000\" stroke-opacity=\"1\" stroke-width=\"3.2\"/>\n",
       "<circle clip-path=\"url(#clip382)\" cx=\"846.364\" cy=\"240.988\" r=\"14\" fill=\"#009af9\" fill-rule=\"evenodd\" fill-opacity=\"1\" stroke=\"#000000\" stroke-opacity=\"1\" stroke-width=\"3.2\"/>\n",
       "<circle clip-path=\"url(#clip382)\" cx=\"867.295\" cy=\"310.261\" r=\"14\" fill=\"#009af9\" fill-rule=\"evenodd\" fill-opacity=\"1\" stroke=\"#000000\" stroke-opacity=\"1\" stroke-width=\"3.2\"/>\n",
       "<circle clip-path=\"url(#clip382)\" cx=\"888.225\" cy=\"244.904\" r=\"14\" fill=\"#009af9\" fill-rule=\"evenodd\" fill-opacity=\"1\" stroke=\"#000000\" stroke-opacity=\"1\" stroke-width=\"3.2\"/>\n",
       "<circle clip-path=\"url(#clip382)\" cx=\"909.156\" cy=\"294.331\" r=\"14\" fill=\"#009af9\" fill-rule=\"evenodd\" fill-opacity=\"1\" stroke=\"#000000\" stroke-opacity=\"1\" stroke-width=\"3.2\"/>\n",
       "<circle clip-path=\"url(#clip382)\" cx=\"930.087\" cy=\"287.537\" r=\"14\" fill=\"#009af9\" fill-rule=\"evenodd\" fill-opacity=\"1\" stroke=\"#000000\" stroke-opacity=\"1\" stroke-width=\"3.2\"/>\n",
       "<circle clip-path=\"url(#clip382)\" cx=\"951.018\" cy=\"286.104\" r=\"14\" fill=\"#009af9\" fill-rule=\"evenodd\" fill-opacity=\"1\" stroke=\"#000000\" stroke-opacity=\"1\" stroke-width=\"3.2\"/>\n",
       "<circle clip-path=\"url(#clip382)\" cx=\"971.949\" cy=\"293.199\" r=\"14\" fill=\"#009af9\" fill-rule=\"evenodd\" fill-opacity=\"1\" stroke=\"#000000\" stroke-opacity=\"1\" stroke-width=\"3.2\"/>\n",
       "<circle clip-path=\"url(#clip382)\" cx=\"992.88\" cy=\"313.272\" r=\"14\" fill=\"#009af9\" fill-rule=\"evenodd\" fill-opacity=\"1\" stroke=\"#000000\" stroke-opacity=\"1\" stroke-width=\"3.2\"/>\n",
       "<circle clip-path=\"url(#clip382)\" cx=\"1013.81\" cy=\"311.572\" r=\"14\" fill=\"#009af9\" fill-rule=\"evenodd\" fill-opacity=\"1\" stroke=\"#000000\" stroke-opacity=\"1\" stroke-width=\"3.2\"/>\n",
       "<circle clip-path=\"url(#clip382)\" cx=\"1034.74\" cy=\"338.249\" r=\"14\" fill=\"#009af9\" fill-rule=\"evenodd\" fill-opacity=\"1\" stroke=\"#000000\" stroke-opacity=\"1\" stroke-width=\"3.2\"/>\n",
       "<circle clip-path=\"url(#clip382)\" cx=\"1055.67\" cy=\"364.037\" r=\"14\" fill=\"#009af9\" fill-rule=\"evenodd\" fill-opacity=\"1\" stroke=\"#000000\" stroke-opacity=\"1\" stroke-width=\"3.2\"/>\n",
       "<circle clip-path=\"url(#clip382)\" cx=\"1076.6\" cy=\"360.181\" r=\"14\" fill=\"#009af9\" fill-rule=\"evenodd\" fill-opacity=\"1\" stroke=\"#000000\" stroke-opacity=\"1\" stroke-width=\"3.2\"/>\n",
       "<circle clip-path=\"url(#clip382)\" cx=\"1097.53\" cy=\"361.19\" r=\"14\" fill=\"#009af9\" fill-rule=\"evenodd\" fill-opacity=\"1\" stroke=\"#000000\" stroke-opacity=\"1\" stroke-width=\"3.2\"/>\n",
       "<circle clip-path=\"url(#clip382)\" cx=\"1118.46\" cy=\"390.745\" r=\"14\" fill=\"#009af9\" fill-rule=\"evenodd\" fill-opacity=\"1\" stroke=\"#000000\" stroke-opacity=\"1\" stroke-width=\"3.2\"/>\n",
       "<circle clip-path=\"url(#clip382)\" cx=\"1139.4\" cy=\"356.213\" r=\"14\" fill=\"#009af9\" fill-rule=\"evenodd\" fill-opacity=\"1\" stroke=\"#000000\" stroke-opacity=\"1\" stroke-width=\"3.2\"/>\n",
       "<circle clip-path=\"url(#clip382)\" cx=\"1160.33\" cy=\"409.63\" r=\"14\" fill=\"#009af9\" fill-rule=\"evenodd\" fill-opacity=\"1\" stroke=\"#000000\" stroke-opacity=\"1\" stroke-width=\"3.2\"/>\n",
       "<circle clip-path=\"url(#clip382)\" cx=\"1181.26\" cy=\"430.34\" r=\"14\" fill=\"#009af9\" fill-rule=\"evenodd\" fill-opacity=\"1\" stroke=\"#000000\" stroke-opacity=\"1\" stroke-width=\"3.2\"/>\n",
       "<circle clip-path=\"url(#clip382)\" cx=\"1202.19\" cy=\"397.893\" r=\"14\" fill=\"#009af9\" fill-rule=\"evenodd\" fill-opacity=\"1\" stroke=\"#000000\" stroke-opacity=\"1\" stroke-width=\"3.2\"/>\n",
       "<circle clip-path=\"url(#clip382)\" cx=\"1223.12\" cy=\"433.943\" r=\"14\" fill=\"#009af9\" fill-rule=\"evenodd\" fill-opacity=\"1\" stroke=\"#000000\" stroke-opacity=\"1\" stroke-width=\"3.2\"/>\n",
       "<circle clip-path=\"url(#clip382)\" cx=\"1244.05\" cy=\"464.525\" r=\"14\" fill=\"#009af9\" fill-rule=\"evenodd\" fill-opacity=\"1\" stroke=\"#000000\" stroke-opacity=\"1\" stroke-width=\"3.2\"/>\n",
       "<circle clip-path=\"url(#clip382)\" cx=\"1264.98\" cy=\"402.652\" r=\"14\" fill=\"#009af9\" fill-rule=\"evenodd\" fill-opacity=\"1\" stroke=\"#000000\" stroke-opacity=\"1\" stroke-width=\"3.2\"/>\n",
       "<circle clip-path=\"url(#clip382)\" cx=\"1285.91\" cy=\"488.01\" r=\"14\" fill=\"#009af9\" fill-rule=\"evenodd\" fill-opacity=\"1\" stroke=\"#000000\" stroke-opacity=\"1\" stroke-width=\"3.2\"/>\n",
       "<circle clip-path=\"url(#clip382)\" cx=\"1306.84\" cy=\"470.635\" r=\"14\" fill=\"#009af9\" fill-rule=\"evenodd\" fill-opacity=\"1\" stroke=\"#000000\" stroke-opacity=\"1\" stroke-width=\"3.2\"/>\n",
       "<circle clip-path=\"url(#clip382)\" cx=\"1327.77\" cy=\"438.552\" r=\"14\" fill=\"#009af9\" fill-rule=\"evenodd\" fill-opacity=\"1\" stroke=\"#000000\" stroke-opacity=\"1\" stroke-width=\"3.2\"/>\n",
       "<circle clip-path=\"url(#clip382)\" cx=\"1348.7\" cy=\"524.548\" r=\"14\" fill=\"#009af9\" fill-rule=\"evenodd\" fill-opacity=\"1\" stroke=\"#000000\" stroke-opacity=\"1\" stroke-width=\"3.2\"/>\n",
       "<circle clip-path=\"url(#clip382)\" cx=\"1369.63\" cy=\"609.749\" r=\"14\" fill=\"#009af9\" fill-rule=\"evenodd\" fill-opacity=\"1\" stroke=\"#000000\" stroke-opacity=\"1\" stroke-width=\"3.2\"/>\n",
       "<circle clip-path=\"url(#clip382)\" cx=\"1390.57\" cy=\"588.466\" r=\"14\" fill=\"#009af9\" fill-rule=\"evenodd\" fill-opacity=\"1\" stroke=\"#000000\" stroke-opacity=\"1\" stroke-width=\"3.2\"/>\n",
       "<circle clip-path=\"url(#clip382)\" cx=\"1411.5\" cy=\"577.092\" r=\"14\" fill=\"#009af9\" fill-rule=\"evenodd\" fill-opacity=\"1\" stroke=\"#000000\" stroke-opacity=\"1\" stroke-width=\"3.2\"/>\n",
       "<circle clip-path=\"url(#clip382)\" cx=\"1432.43\" cy=\"594.609\" r=\"14\" fill=\"#009af9\" fill-rule=\"evenodd\" fill-opacity=\"1\" stroke=\"#000000\" stroke-opacity=\"1\" stroke-width=\"3.2\"/>\n",
       "<circle clip-path=\"url(#clip382)\" cx=\"1453.36\" cy=\"597.623\" r=\"14\" fill=\"#009af9\" fill-rule=\"evenodd\" fill-opacity=\"1\" stroke=\"#000000\" stroke-opacity=\"1\" stroke-width=\"3.2\"/>\n",
       "<circle clip-path=\"url(#clip382)\" cx=\"1474.29\" cy=\"648.249\" r=\"14\" fill=\"#009af9\" fill-rule=\"evenodd\" fill-opacity=\"1\" stroke=\"#000000\" stroke-opacity=\"1\" stroke-width=\"3.2\"/>\n",
       "<circle clip-path=\"url(#clip382)\" cx=\"1495.22\" cy=\"637.147\" r=\"14\" fill=\"#009af9\" fill-rule=\"evenodd\" fill-opacity=\"1\" stroke=\"#000000\" stroke-opacity=\"1\" stroke-width=\"3.2\"/>\n",
       "<circle clip-path=\"url(#clip382)\" cx=\"1516.15\" cy=\"623.542\" r=\"14\" fill=\"#009af9\" fill-rule=\"evenodd\" fill-opacity=\"1\" stroke=\"#000000\" stroke-opacity=\"1\" stroke-width=\"3.2\"/>\n",
       "<circle clip-path=\"url(#clip382)\" cx=\"1537.08\" cy=\"671.397\" r=\"14\" fill=\"#009af9\" fill-rule=\"evenodd\" fill-opacity=\"1\" stroke=\"#000000\" stroke-opacity=\"1\" stroke-width=\"3.2\"/>\n",
       "<circle clip-path=\"url(#clip382)\" cx=\"1558.01\" cy=\"675.994\" r=\"14\" fill=\"#009af9\" fill-rule=\"evenodd\" fill-opacity=\"1\" stroke=\"#000000\" stroke-opacity=\"1\" stroke-width=\"3.2\"/>\n",
       "<circle clip-path=\"url(#clip382)\" cx=\"1578.94\" cy=\"677.993\" r=\"14\" fill=\"#009af9\" fill-rule=\"evenodd\" fill-opacity=\"1\" stroke=\"#000000\" stroke-opacity=\"1\" stroke-width=\"3.2\"/>\n",
       "<circle clip-path=\"url(#clip382)\" cx=\"1599.87\" cy=\"771.765\" r=\"14\" fill=\"#009af9\" fill-rule=\"evenodd\" fill-opacity=\"1\" stroke=\"#000000\" stroke-opacity=\"1\" stroke-width=\"3.2\"/>\n",
       "<circle clip-path=\"url(#clip382)\" cx=\"1620.8\" cy=\"772.148\" r=\"14\" fill=\"#009af9\" fill-rule=\"evenodd\" fill-opacity=\"1\" stroke=\"#000000\" stroke-opacity=\"1\" stroke-width=\"3.2\"/>\n",
       "<circle clip-path=\"url(#clip382)\" cx=\"1641.74\" cy=\"771.744\" r=\"14\" fill=\"#009af9\" fill-rule=\"evenodd\" fill-opacity=\"1\" stroke=\"#000000\" stroke-opacity=\"1\" stroke-width=\"3.2\"/>\n",
       "<circle clip-path=\"url(#clip382)\" cx=\"1662.67\" cy=\"801.243\" r=\"14\" fill=\"#009af9\" fill-rule=\"evenodd\" fill-opacity=\"1\" stroke=\"#000000\" stroke-opacity=\"1\" stroke-width=\"3.2\"/>\n",
       "<circle clip-path=\"url(#clip382)\" cx=\"1683.6\" cy=\"887.782\" r=\"14\" fill=\"#009af9\" fill-rule=\"evenodd\" fill-opacity=\"1\" stroke=\"#000000\" stroke-opacity=\"1\" stroke-width=\"3.2\"/>\n",
       "<circle clip-path=\"url(#clip382)\" cx=\"1704.53\" cy=\"815.524\" r=\"14\" fill=\"#009af9\" fill-rule=\"evenodd\" fill-opacity=\"1\" stroke=\"#000000\" stroke-opacity=\"1\" stroke-width=\"3.2\"/>\n",
       "<circle clip-path=\"url(#clip382)\" cx=\"1725.46\" cy=\"851.214\" r=\"14\" fill=\"#009af9\" fill-rule=\"evenodd\" fill-opacity=\"1\" stroke=\"#000000\" stroke-opacity=\"1\" stroke-width=\"3.2\"/>\n",
       "<circle clip-path=\"url(#clip382)\" cx=\"1746.39\" cy=\"852.46\" r=\"14\" fill=\"#009af9\" fill-rule=\"evenodd\" fill-opacity=\"1\" stroke=\"#000000\" stroke-opacity=\"1\" stroke-width=\"3.2\"/>\n",
       "<circle clip-path=\"url(#clip382)\" cx=\"1767.32\" cy=\"894.334\" r=\"14\" fill=\"#009af9\" fill-rule=\"evenodd\" fill-opacity=\"1\" stroke=\"#000000\" stroke-opacity=\"1\" stroke-width=\"3.2\"/>\n",
       "<circle clip-path=\"url(#clip382)\" cx=\"1788.25\" cy=\"939.085\" r=\"14\" fill=\"#009af9\" fill-rule=\"evenodd\" fill-opacity=\"1\" stroke=\"#000000\" stroke-opacity=\"1\" stroke-width=\"3.2\"/>\n",
       "<circle clip-path=\"url(#clip382)\" cx=\"1809.18\" cy=\"916.904\" r=\"14\" fill=\"#009af9\" fill-rule=\"evenodd\" fill-opacity=\"1\" stroke=\"#000000\" stroke-opacity=\"1\" stroke-width=\"3.2\"/>\n",
       "<circle clip-path=\"url(#clip382)\" cx=\"1830.11\" cy=\"938.607\" r=\"14\" fill=\"#009af9\" fill-rule=\"evenodd\" fill-opacity=\"1\" stroke=\"#000000\" stroke-opacity=\"1\" stroke-width=\"3.2\"/>\n",
       "<circle clip-path=\"url(#clip382)\" cx=\"1851.04\" cy=\"907.842\" r=\"14\" fill=\"#009af9\" fill-rule=\"evenodd\" fill-opacity=\"1\" stroke=\"#000000\" stroke-opacity=\"1\" stroke-width=\"3.2\"/>\n",
       "<circle clip-path=\"url(#clip382)\" cx=\"1871.97\" cy=\"981.626\" r=\"14\" fill=\"#009af9\" fill-rule=\"evenodd\" fill-opacity=\"1\" stroke=\"#000000\" stroke-opacity=\"1\" stroke-width=\"3.2\"/>\n",
       "<circle clip-path=\"url(#clip382)\" cx=\"1892.91\" cy=\"1051.04\" r=\"14\" fill=\"#009af9\" fill-rule=\"evenodd\" fill-opacity=\"1\" stroke=\"#000000\" stroke-opacity=\"1\" stroke-width=\"3.2\"/>\n",
       "<circle clip-path=\"url(#clip382)\" cx=\"1913.84\" cy=\"1051.37\" r=\"14\" fill=\"#009af9\" fill-rule=\"evenodd\" fill-opacity=\"1\" stroke=\"#000000\" stroke-opacity=\"1\" stroke-width=\"3.2\"/>\n",
       "<circle clip-path=\"url(#clip382)\" cx=\"1934.77\" cy=\"1053.71\" r=\"14\" fill=\"#009af9\" fill-rule=\"evenodd\" fill-opacity=\"1\" stroke=\"#000000\" stroke-opacity=\"1\" stroke-width=\"3.2\"/>\n",
       "<circle clip-path=\"url(#clip382)\" cx=\"1955.7\" cy=\"1027.85\" r=\"14\" fill=\"#009af9\" fill-rule=\"evenodd\" fill-opacity=\"1\" stroke=\"#000000\" stroke-opacity=\"1\" stroke-width=\"3.2\"/>\n",
       "<circle clip-path=\"url(#clip382)\" cx=\"1976.63\" cy=\"1115.5\" r=\"14\" fill=\"#009af9\" fill-rule=\"evenodd\" fill-opacity=\"1\" stroke=\"#000000\" stroke-opacity=\"1\" stroke-width=\"3.2\"/>\n",
       "<circle clip-path=\"url(#clip382)\" cx=\"1997.56\" cy=\"1134.04\" r=\"14\" fill=\"#009af9\" fill-rule=\"evenodd\" fill-opacity=\"1\" stroke=\"#000000\" stroke-opacity=\"1\" stroke-width=\"3.2\"/>\n",
       "<circle clip-path=\"url(#clip382)\" cx=\"2018.49\" cy=\"1099.49\" r=\"14\" fill=\"#009af9\" fill-rule=\"evenodd\" fill-opacity=\"1\" stroke=\"#000000\" stroke-opacity=\"1\" stroke-width=\"3.2\"/>\n",
       "<circle clip-path=\"url(#clip382)\" cx=\"2039.42\" cy=\"1170.46\" r=\"14\" fill=\"#009af9\" fill-rule=\"evenodd\" fill-opacity=\"1\" stroke=\"#000000\" stroke-opacity=\"1\" stroke-width=\"3.2\"/>\n",
       "<circle clip-path=\"url(#clip382)\" cx=\"2060.35\" cy=\"1151.36\" r=\"14\" fill=\"#009af9\" fill-rule=\"evenodd\" fill-opacity=\"1\" stroke=\"#000000\" stroke-opacity=\"1\" stroke-width=\"3.2\"/>\n",
       "<circle clip-path=\"url(#clip382)\" cx=\"2081.28\" cy=\"1252.44\" r=\"14\" fill=\"#009af9\" fill-rule=\"evenodd\" fill-opacity=\"1\" stroke=\"#000000\" stroke-opacity=\"1\" stroke-width=\"3.2\"/>\n",
       "<circle clip-path=\"url(#clip382)\" cx=\"2102.21\" cy=\"1236.61\" r=\"14\" fill=\"#009af9\" fill-rule=\"evenodd\" fill-opacity=\"1\" stroke=\"#000000\" stroke-opacity=\"1\" stroke-width=\"3.2\"/>\n",
       "<circle clip-path=\"url(#clip382)\" cx=\"2123.14\" cy=\"1246.97\" r=\"14\" fill=\"#009af9\" fill-rule=\"evenodd\" fill-opacity=\"1\" stroke=\"#000000\" stroke-opacity=\"1\" stroke-width=\"3.2\"/>\n",
       "<circle clip-path=\"url(#clip382)\" cx=\"2144.08\" cy=\"1269.8\" r=\"14\" fill=\"#009af9\" fill-rule=\"evenodd\" fill-opacity=\"1\" stroke=\"#000000\" stroke-opacity=\"1\" stroke-width=\"3.2\"/>\n",
       "<circle clip-path=\"url(#clip382)\" cx=\"2165.01\" cy=\"1236.71\" r=\"14\" fill=\"#009af9\" fill-rule=\"evenodd\" fill-opacity=\"1\" stroke=\"#000000\" stroke-opacity=\"1\" stroke-width=\"3.2\"/>\n",
       "<circle clip-path=\"url(#clip382)\" cx=\"2185.94\" cy=\"1286.37\" r=\"14\" fill=\"#009af9\" fill-rule=\"evenodd\" fill-opacity=\"1\" stroke=\"#000000\" stroke-opacity=\"1\" stroke-width=\"3.2\"/>\n",
       "<circle clip-path=\"url(#clip382)\" cx=\"2206.87\" cy=\"1337.07\" r=\"14\" fill=\"#009af9\" fill-rule=\"evenodd\" fill-opacity=\"1\" stroke=\"#000000\" stroke-opacity=\"1\" stroke-width=\"3.2\"/>\n",
       "<circle clip-path=\"url(#clip382)\" cx=\"2227.8\" cy=\"1374.34\" r=\"14\" fill=\"#009af9\" fill-rule=\"evenodd\" fill-opacity=\"1\" stroke=\"#000000\" stroke-opacity=\"1\" stroke-width=\"3.2\"/>\n",
       "<circle clip-path=\"url(#clip382)\" cx=\"2248.73\" cy=\"1432.77\" r=\"14\" fill=\"#009af9\" fill-rule=\"evenodd\" fill-opacity=\"1\" stroke=\"#000000\" stroke-opacity=\"1\" stroke-width=\"3.2\"/>\n",
       "<circle clip-path=\"url(#clip382)\" cx=\"2269.66\" cy=\"1421.06\" r=\"14\" fill=\"#009af9\" fill-rule=\"evenodd\" fill-opacity=\"1\" stroke=\"#000000\" stroke-opacity=\"1\" stroke-width=\"3.2\"/>\n",
       "<circle clip-path=\"url(#clip382)\" cx=\"2290.59\" cy=\"1445.72\" r=\"14\" fill=\"#009af9\" fill-rule=\"evenodd\" fill-opacity=\"1\" stroke=\"#000000\" stroke-opacity=\"1\" stroke-width=\"3.2\"/>\n",
       "<path clip-path=\"url(#clip380)\" d=\"\n",
       "M1843.31 198.898 L2279.54 198.898 L2279.54 95.2176 L1843.31 95.2176  Z\n",
       "  \" fill=\"#ffffff\" fill-rule=\"evenodd\" fill-opacity=\"1\"/>\n",
       "<polyline clip-path=\"url(#clip380)\" style=\"stroke:#000000; stroke-linecap:butt; stroke-linejoin:round; stroke-width:4; stroke-opacity:1; fill:none\" points=\"\n",
       "  1843.31,198.898 2279.54,198.898 2279.54,95.2176 1843.31,95.2176 1843.31,198.898 \n",
       "  \"/>\n",
       "<circle clip-path=\"url(#clip380)\" cx=\"1940.93\" cy=\"147.058\" r=\"23\" fill=\"#009af9\" fill-rule=\"evenodd\" fill-opacity=\"1\" stroke=\"#000000\" stroke-opacity=\"1\" stroke-width=\"5.12\"/>\n",
       "<path clip-path=\"url(#clip380)\" d=\"M2056.98 139.176 L2056.98 143.203 Q2055.17 142.277 2053.23 141.815 Q2051.29 141.352 2049.2 141.352 Q2046.03 141.352 2044.43 142.324 Q2042.86 143.296 2042.86 145.24 Q2042.86 146.722 2043.99 147.578 Q2045.13 148.412 2048.55 149.176 L2050.01 149.5 Q2054.55 150.472 2056.45 152.254 Q2058.37 154.014 2058.37 157.185 Q2058.37 160.796 2055.5 162.902 Q2052.65 165.009 2047.65 165.009 Q2045.57 165.009 2043.3 164.592 Q2041.05 164.199 2038.55 163.388 L2038.55 158.99 Q2040.92 160.217 2043.21 160.842 Q2045.5 161.444 2047.74 161.444 Q2050.75 161.444 2052.37 160.426 Q2053.99 159.384 2053.99 157.509 Q2053.99 155.773 2052.81 154.847 Q2051.66 153.921 2047.7 153.064 L2046.22 152.717 Q2042.26 151.884 2040.5 150.171 Q2038.74 148.435 2038.74 145.426 Q2038.74 141.768 2041.33 139.778 Q2043.92 137.787 2048.69 137.787 Q2051.05 137.787 2053.14 138.134 Q2055.22 138.481 2056.98 139.176 Z\" fill=\"#000000\" fill-rule=\"evenodd\" fill-opacity=\"1\" /><path clip-path=\"url(#clip380)\" d=\"M2076.93 151.305 Q2071.77 151.305 2069.78 152.486 Q2067.79 153.666 2067.79 156.514 Q2067.79 158.782 2069.27 160.125 Q2070.78 161.444 2073.35 161.444 Q2076.89 161.444 2079.02 158.944 Q2081.17 156.421 2081.17 152.254 L2081.17 151.305 L2076.93 151.305 M2085.43 149.546 L2085.43 164.338 L2081.17 164.338 L2081.17 160.402 Q2079.71 162.763 2077.54 163.898 Q2075.36 165.009 2072.21 165.009 Q2068.23 165.009 2065.87 162.787 Q2063.53 160.541 2063.53 156.791 Q2063.53 152.416 2066.45 150.194 Q2069.39 147.972 2075.2 147.972 L2081.17 147.972 L2081.17 147.555 Q2081.17 144.615 2079.23 143.018 Q2077.3 141.398 2073.81 141.398 Q2071.59 141.398 2069.48 141.93 Q2067.37 142.463 2065.43 143.527 L2065.43 139.592 Q2067.77 138.69 2069.97 138.25 Q2072.17 137.787 2074.25 137.787 Q2079.87 137.787 2082.65 140.703 Q2085.43 143.62 2085.43 149.546 Z\" fill=\"#000000\" fill-rule=\"evenodd\" fill-opacity=\"1\" /><path clip-path=\"url(#clip380)\" d=\"M2114.39 143.389 Q2115.98 140.518 2118.21 139.153 Q2120.43 137.787 2123.44 137.787 Q2127.49 137.787 2129.69 140.634 Q2131.89 143.458 2131.89 148.689 L2131.89 164.338 L2127.6 164.338 L2127.6 148.828 Q2127.6 145.102 2126.29 143.296 Q2124.97 141.49 2122.26 141.49 Q2118.95 141.49 2117.03 143.69 Q2115.1 145.889 2115.1 149.685 L2115.1 164.338 L2110.82 164.338 L2110.82 148.828 Q2110.82 145.078 2109.5 143.296 Q2108.18 141.49 2105.43 141.49 Q2102.17 141.49 2100.24 143.713 Q2098.32 145.912 2098.32 149.685 L2098.32 164.338 L2094.04 164.338 L2094.04 138.412 L2098.32 138.412 L2098.32 142.44 Q2099.78 140.055 2101.82 138.921 Q2103.85 137.787 2106.66 137.787 Q2109.48 137.787 2111.45 139.222 Q2113.44 140.657 2114.39 143.389 Z\" fill=\"#000000\" fill-rule=\"evenodd\" fill-opacity=\"1\" /><path clip-path=\"url(#clip380)\" d=\"M2144.5 160.449 L2144.5 174.199 L2140.22 174.199 L2140.22 138.412 L2144.5 138.412 L2144.5 142.347 Q2145.85 140.032 2147.88 138.921 Q2149.94 137.787 2152.79 137.787 Q2157.51 137.787 2160.45 141.537 Q2163.41 145.287 2163.41 151.398 Q2163.41 157.509 2160.45 161.259 Q2157.51 165.009 2152.79 165.009 Q2149.94 165.009 2147.88 163.898 Q2145.85 162.763 2144.5 160.449 M2158.99 151.398 Q2158.99 146.699 2157.05 144.037 Q2155.13 141.352 2151.75 141.352 Q2148.37 141.352 2146.42 144.037 Q2144.5 146.699 2144.5 151.398 Q2144.5 156.097 2146.42 158.782 Q2148.37 161.444 2151.75 161.444 Q2155.13 161.444 2157.05 158.782 Q2158.99 156.097 2158.99 151.398 Z\" fill=\"#000000\" fill-rule=\"evenodd\" fill-opacity=\"1\" /><path clip-path=\"url(#clip380)\" d=\"M2170.47 128.319 L2174.73 128.319 L2174.73 164.338 L2170.47 164.338 L2170.47 128.319 Z\" fill=\"#000000\" fill-rule=\"evenodd\" fill-opacity=\"1\" /><path clip-path=\"url(#clip380)\" d=\"M2205.82 150.31 L2205.82 152.393 L2186.24 152.393 Q2186.52 156.791 2188.88 159.106 Q2191.26 161.398 2195.5 161.398 Q2197.95 161.398 2200.24 160.796 Q2202.56 160.194 2204.83 158.99 L2204.83 163.018 Q2202.53 163.99 2200.13 164.5 Q2197.72 165.009 2195.24 165.009 Q2189.04 165.009 2185.41 161.398 Q2181.79 157.787 2181.79 151.629 Q2181.79 145.264 2185.22 141.537 Q2188.67 137.787 2194.5 137.787 Q2199.73 137.787 2202.77 141.166 Q2205.82 144.523 2205.82 150.31 M2201.56 149.06 Q2201.52 145.565 2199.6 143.481 Q2197.7 141.398 2194.55 141.398 Q2190.98 141.398 2188.83 143.412 Q2186.7 145.426 2186.38 149.083 L2201.56 149.06 Z\" fill=\"#000000\" fill-rule=\"evenodd\" fill-opacity=\"1\" /><path clip-path=\"url(#clip380)\" d=\"M2229.34 139.176 L2229.34 143.203 Q2227.53 142.277 2225.59 141.815 Q2223.65 141.352 2221.56 141.352 Q2218.39 141.352 2216.79 142.324 Q2215.22 143.296 2215.22 145.24 Q2215.22 146.722 2216.35 147.578 Q2217.49 148.412 2220.91 149.176 L2222.37 149.5 Q2226.91 150.472 2228.81 152.254 Q2230.73 154.014 2230.73 157.185 Q2230.73 160.796 2227.86 162.902 Q2225.01 165.009 2220.01 165.009 Q2217.93 165.009 2215.66 164.592 Q2213.41 164.199 2210.91 163.388 L2210.91 158.99 Q2213.28 160.217 2215.57 160.842 Q2217.86 161.444 2220.1 161.444 Q2223.11 161.444 2224.73 160.426 Q2226.35 159.384 2226.35 157.509 Q2226.35 155.773 2225.17 154.847 Q2224.02 153.921 2220.06 153.064 L2218.58 152.717 Q2214.62 151.884 2212.86 150.171 Q2211.1 148.435 2211.1 145.426 Q2211.1 141.768 2213.69 139.778 Q2216.28 137.787 2221.05 137.787 Q2223.41 137.787 2225.5 138.134 Q2227.58 138.481 2229.34 139.176 Z\" fill=\"#000000\" fill-rule=\"evenodd\" fill-opacity=\"1\" /></svg>\n"
      ]
     },
     "execution_count": 37,
     "metadata": {},
     "output_type": "execute_result"
    }
   ],
   "source": [
    "m,n = 100,3\n",
    "x = range(0,1; length=100) # 100 evenly spaced points between 0 and 1, inclusive\n",
    "f = cos.(x) .+ 0.01 .* randn.()\n",
    "\n",
    "scatter(x, f; label=\"samples\")"
   ]
  },
  {
   "cell_type": "code",
   "execution_count": 43,
   "id": "012672ce",
   "metadata": {},
   "outputs": [
    {
     "data": {
      "text/plain": [
       "3-element Vector{Float64}:\n",
       "  0.9978074165198638\n",
       " -0.0032545430550723216\n",
       " -0.4642443749241754"
      ]
     },
     "execution_count": 43,
     "metadata": {},
     "output_type": "execute_result"
    }
   ],
   "source": [
    "# p.(x) == [ones(m) x x.^2] * [p₀,p₁,p₂] == x .^ (0:2)' * [p₀,p₁,p₂]\n",
    "\n",
    "A = x  .^ (0:2)'\n",
    "p₀,p₁,p₂ = A \\ f\n",
    "p = x -> p₀ + p₁*x + p₂*x^2\n",
    "scatter(x, f; label=\"samples\")\n",
    "plot!(x, p.(x); la)"
   ]
  },
  {
   "cell_type": "code",
   "execution_count": null,
   "id": "971ad51b",
   "metadata": {},
   "outputs": [],
   "source": []
  }
 ],
 "metadata": {
  "kernelspec": {
   "display_name": "Julia 1.7.1",
   "language": "julia",
   "name": "julia-1.7"
  },
  "language_info": {
   "file_extension": ".jl",
   "mimetype": "application/julia",
   "name": "julia",
   "version": "1.7.1"
  }
 },
 "nbformat": 4,
 "nbformat_minor": 5
}
