{
 "cells": [
  {
   "cell_type": "markdown",
   "id": "23ef8a2c",
   "metadata": {},
   "source": [
    "# Gram-Schmidt"
   ]
  },
  {
   "cell_type": "code",
   "execution_count": 3,
   "id": "66add3be",
   "metadata": {},
   "outputs": [],
   "source": [
    "using LinearAlgebra"
   ]
  },
  {
   "cell_type": "code",
   "execution_count": 38,
   "id": "38ae4724",
   "metadata": {},
   "outputs": [
    {
     "data": {
      "text/plain": [
       "4-element Vector{Float64}:\n",
       "  0.1995930819792704\n",
       "  0.11405318970244017\n",
       "  0.5132393536609808\n",
       " -0.8268856253426914"
      ]
     },
     "execution_count": 38,
     "metadata": {},
     "output_type": "execute_result"
    }
   ],
   "source": [
    "A = [1 1 1;\n",
    "     1 2 3;\n",
    "     1 4 9;\n",
    "     1 3 2]\n",
    "\n",
    "rank(A)\n",
    "\n",
    "m,n = size(A)\n",
    "Q = zeros(m,n) # reduced QR, so Q̂\n",
    "R = UpperTriangular(zeros(n,n))\n",
    "\n",
    "v₁ = A[:,1]\n",
    "R[1,1] = norm(v₁)\n",
    "q₁ = Q[:,1] = v₁/R[1,1]\n",
    "\n",
    "a₂ = A[:,2] \n",
    "R[1,2] = q₁'*a₂\n",
    "v₂ = a₂ - R[1,2] * q₁\n",
    "R[2,2] = norm(v₂)\n",
    "\n",
    "q₂ = Q[:,2] = v₂/R[2,2]\n",
    "\n",
    "a₃ = A[:,3]\n",
    "R[1,3] = q₁'*a₃\n",
    "R[2,3] = q₂'*a₃\n",
    "v₃ = a₃ - R[1,3] * q₁ - R[2,3] * q₂\n",
    "R[3,3] = norm(v₃)\n",
    "Q[:,3] = v₃/R[3,3]"
   ]
  },
  {
   "cell_type": "code",
   "execution_count": 40,
   "id": "77820608",
   "metadata": {},
   "outputs": [
    {
     "data": {
      "text/plain": [
       "4×3 Matrix{Float64}:\n",
       " 1.0  1.0  1.0\n",
       " 1.0  2.0  3.0\n",
       " 1.0  4.0  9.0\n",
       " 1.0  3.0  2.0"
      ]
     },
     "execution_count": 40,
     "metadata": {},
     "output_type": "execute_result"
    }
   ],
   "source": [
    "Q*R"
   ]
  },
  {
   "cell_type": "markdown",
   "id": "5f0baff7",
   "metadata": {},
   "source": [
    "Note  $O(mn^2)$"
   ]
  },
  {
   "cell_type": "code",
   "execution_count": 41,
   "id": "117d5a35",
   "metadata": {},
   "outputs": [
    {
     "data": {
      "text/plain": [
       "gramschmidt (generic function with 1 method)"
      ]
     },
     "execution_count": 41,
     "metadata": {},
     "output_type": "execute_result"
    }
   ],
   "source": [
    "# returns the reduced QR\n",
    "function gramschmidt(A)\n",
    "    m,n = size(A)\n",
    "    Q = zeros(m,n) # reduced QR, so Q̂\n",
    "    R = UpperTriangular(zeros(n,n))\n",
    "    for j = 1:n\n",
    "        aⱼ = A[:,j]\n",
    "        for k = 1:j-1\n",
    "            R[k,j] = Q[:,k]'aⱼ\n",
    "        end\n",
    "        vⱼ = aⱼ - Q[:,1:j-1] * R[1:j-1,j]\n",
    "        R[j,j] = norm(vⱼ)\n",
    "        Q[:,j] = vⱼ/R[j,j]\n",
    "    end\n",
    "    Q,R\n",
    "end\n",
    "\n"
   ]
  },
  {
   "cell_type": "code",
   "execution_count": 44,
   "id": "6122e7b9",
   "metadata": {},
   "outputs": [
    {
     "data": {
      "text/plain": [
       "3×3 Matrix{Float64}:\n",
       "  1.0           1.38778e-17  -5.55112e-17\n",
       "  1.38778e-17   1.0          -7.31824e-17\n",
       " -5.55112e-17  -7.31824e-17   1.0"
      ]
     },
     "execution_count": 44,
     "metadata": {},
     "output_type": "execute_result"
    }
   ],
   "source": [
    "Q, R = gramschmidt(A)\n",
    "Q'Q"
   ]
  },
  {
   "cell_type": "markdown",
   "id": "d1be32e8",
   "metadata": {},
   "source": [
    "## Instability as dimension becomes large"
   ]
  },
  {
   "cell_type": "code",
   "execution_count": 48,
   "id": "14718fe0",
   "metadata": {},
   "outputs": [],
   "source": [
    "A = randn(300,300);"
   ]
  },
  {
   "cell_type": "code",
   "execution_count": 50,
   "id": "40f492b5",
   "metadata": {},
   "outputs": [
    {
     "data": {
      "text/plain": [
       "1.115988908646552e-13"
      ]
     },
     "execution_count": 50,
     "metadata": {},
     "output_type": "execute_result"
    }
   ],
   "source": [
    "Q,R = gramschmidt(A)\n",
    "norm(Q*R - A)"
   ]
  },
  {
   "cell_type": "code",
   "execution_count": 57,
   "id": "2fae718d",
   "metadata": {},
   "outputs": [
    {
     "data": {
      "text/plain": [
       "1.8601923656787078e-12"
      ]
     },
     "execution_count": 57,
     "metadata": {},
     "output_type": "execute_result"
    }
   ],
   "source": [
    "norm(Q'Q - I) # Numerically is unstable: loss of orthogonality"
   ]
  },
  {
   "cell_type": "markdown",
   "id": "5ae88676",
   "metadata": {},
   "source": [
    "What about `qr`?"
   ]
  },
  {
   "cell_type": "code",
   "execution_count": 59,
   "id": "261e15ce",
   "metadata": {},
   "outputs": [
    {
     "data": {
      "text/plain": [
       "2.5714988731054025e-13"
      ]
     },
     "execution_count": 59,
     "metadata": {},
     "output_type": "execute_result"
    }
   ],
   "source": [
    "Q,R = qr(A)\n",
    "norm(Q*R - A)"
   ]
  },
  {
   "cell_type": "code",
   "execution_count": 64,
   "id": "9bb84270",
   "metadata": {},
   "outputs": [
    {
     "data": {
      "text/plain": [
       "1.885974411483999e-14"
      ]
     },
     "execution_count": 64,
     "metadata": {},
     "output_type": "execute_result"
    }
   ],
   "source": [
    "Q = Matrix(Q)\n",
    "norm(Q'Q - I)  # orthogonality is maintained (as much as possible)"
   ]
  },
  {
   "cell_type": "code",
   "execution_count": null,
   "id": "f25cc756",
   "metadata": {},
   "outputs": [],
   "source": []
  }
 ],
 "metadata": {
  "kernelspec": {
   "display_name": "Julia 1.7.1",
   "language": "julia",
   "name": "julia-1.7"
  },
  "language_info": {
   "file_extension": ".jl",
   "mimetype": "application/julia",
   "name": "julia",
   "version": "1.7.1"
  }
 },
 "nbformat": 4,
 "nbformat_minor": 5
}
