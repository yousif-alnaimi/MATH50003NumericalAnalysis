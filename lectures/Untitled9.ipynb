{
 "cells": [
  {
   "cell_type": "markdown",
   "id": "19a0c8a6",
   "metadata": {},
   "source": [
    "# Householder"
   ]
  },
  {
   "cell_type": "code",
   "execution_count": 34,
   "id": "0d5779c4",
   "metadata": {},
   "outputs": [
    {
     "data": {
      "text/plain": [
       "4×3 Matrix{Float64}:\n",
       " 1.0  1.0  1.0\n",
       " 1.0  2.0  3.0\n",
       " 1.0  4.0  9.0\n",
       " 1.0  3.0  2.0"
      ]
     },
     "execution_count": 34,
     "metadata": {},
     "output_type": "execute_result"
    }
   ],
   "source": [
    "using LinearAlgebra\n",
    "\n",
    "A = [1 1 1;\n",
    "     1 2 3;\n",
    "     1 4 9;\n",
    "     1 3 2]\n",
    "\n",
    "a₁ = A[:,1]\n",
    "e₁ = [1,0,0,0]\n",
    "\n",
    "y₁ = +norm(a₁)*e₁ + a₁ # + since sign(A[1,1])\n",
    "w₁ = y₁/norm(y₁)\n",
    "Q₁ = I - 2w₁ * w₁'\n",
    "\n",
    "a¹₂ = (Q₁*A)[2:end,2]\n",
    "e₁ = [1,0,0]\n",
    "y₂ = -norm(a¹₂)*e₁ + a¹₂\n",
    "w₂ = [0; y₂/norm(y₂)]\n",
    "Q₂ = I - 2w₂ * w₂'\n",
    "\n",
    "a²₃ = (Q₂*Q₁*A)[3:end,3]\n",
    "e₁ = [1,0]\n",
    "y₃ = -norm(a²₃)*e₁ + a²₃\n",
    "w₃ = [0; 0; y₃/norm(y₃)]\n",
    "Q₃ = I - 2w₃ * w₃'\n",
    "\n",
    "R = Q₃*Q₂*Q₁*A\n",
    "triu!(R) # sets all entries below diagonal to exact 0\n",
    "\n",
    "Q = Q₁*Q₂*Q₃\n",
    "\n",
    "Q*R"
   ]
  },
  {
   "cell_type": "code",
   "execution_count": 39,
   "id": "0eb25942",
   "metadata": {},
   "outputs": [
    {
     "data": {
      "text/plain": [
       "4×3 Matrix{Float64}:\n",
       " 1.0  1.0  1.0\n",
       " 1.0  2.0  3.0\n",
       " 1.0  4.0  9.0\n",
       " 1.0  3.0  2.0"
      ]
     },
     "execution_count": 39,
     "metadata": {},
     "output_type": "execute_result"
    }
   ],
   "source": [
    "Q̂ = Q[:,1:3]\n",
    "R̂ = R[1:3,1:3]\n",
    "\n",
    "Q̂*R̂"
   ]
  },
  {
   "cell_type": "code",
   "execution_count": 64,
   "id": "254fbde4",
   "metadata": {},
   "outputs": [
    {
     "data": {
      "text/plain": [
       "householderqr (generic function with 1 method)"
      ]
     },
     "execution_count": 64,
     "metadata": {},
     "output_type": "execute_result"
    }
   ],
   "source": [
    "\n",
    "\n",
    "function householderreflection(x)\n",
    "    y = copy(x)\n",
    "    y[1] += (x[1] ≥ 0 ? 1 : -1)*norm(x)\n",
    "    w = y/norm(y)\n",
    "    I - 2w * w'\n",
    "end # created a full m x m matrix, m^2 operations \n",
    "\n",
    "function householderqr(A)\n",
    "    m,n = size(A)\n",
    "    R = copy(A)\n",
    "    Q = Matrix(1.0I, m, m)\n",
    "    for j = 1:n\n",
    "        Qⱼ = householderreflection(R[j:end,j]) # O(m^2)\n",
    "        R[j:end,:] = Qⱼ*R[j:end,:] # O(m^2*n)\n",
    "        Q[:,j:end] = Q[:,j:end]*Qⱼ # O(m^2*n)\n",
    "    end # O(m^2*n^2) operations\n",
    "    Q,R\n",
    "end"
   ]
  },
  {
   "cell_type": "code",
   "execution_count": 63,
   "id": "5cf4c426",
   "metadata": {},
   "outputs": [
    {
     "data": {
      "text/plain": [
       "([-0.543292330529727 0.8289969893804807 … -0.05546174197595224 0.08655216328260636; -0.33099656879563877 -0.08821184001113105 … -0.042197195805381484 -0.4765334995229451; … ; 0.7253661208730787 0.4896542588148441 … -0.21353887727169082 0.1282265741419465; -0.2583004415660153 -0.25538304234656106 … -0.5777519228187887 0.6894968956618123], [-1.6841729636405733 0.8178195480599021 1.1636659476245057 1.2448984448641258; 3.797783816741242e-16 2.4707371346408697 -0.49064176553045175 -0.2756153105425074; … ; -7.629301370339078e-17 3.3079114109316946e-17 2.4311650497690955e-17 -1.4487394122956738; 5.77118033070349e-17 1.2796361519230945e-16 1.6239607132615985e-17 1.1609326863437107e-16])"
      ]
     },
     "execution_count": 63,
     "metadata": {},
     "output_type": "execute_result"
    }
   ],
   "source": [
    "A = randn(5,4)\n",
    "Q,R = householderqr(A)"
   ]
  },
  {
   "cell_type": "markdown",
   "id": "121d0d74",
   "metadata": {},
   "source": [
    "What's the computational cost? Remember, Gram–Schmidt was $O(mn^2)$. $O(m^2 n^2)$. BECAUSE, we formed the dense $Q_j$. PS will look at reducing this to $O(mn^2)$."
   ]
  },
  {
   "cell_type": "code",
   "execution_count": 54,
   "id": "2a15bf9f",
   "metadata": {},
   "outputs": [
    {
     "data": {
      "text/plain": [
       "5×5 Matrix{Float64}:\n",
       " 1.0  0.0  0.0  0.0  0.0\n",
       " 0.0  1.0  0.0  0.0  0.0\n",
       " 0.0  0.0  1.0  0.0  0.0\n",
       " 0.0  0.0  0.0  1.0  0.0\n",
       " 0.0  0.0  0.0  0.0  1.0"
      ]
     },
     "execution_count": 54,
     "metadata": {},
     "output_type": "execute_result"
    }
   ],
   "source": [
    "m = 5\n",
    "Matrix(1.0I, m, m)"
   ]
  },
  {
   "cell_type": "code",
   "execution_count": 49,
   "id": "b90b09cf",
   "metadata": {},
   "outputs": [
    {
     "data": {
      "text/plain": [
       "3×3 Matrix{Float64}:\n",
       " 1.0          2.77556e-16  2.22045e-16\n",
       " 2.77556e-16  1.0          8.32667e-17\n",
       " 2.22045e-16  8.32667e-17  1.0"
      ]
     },
     "execution_count": 49,
     "metadata": {},
     "output_type": "execute_result"
    }
   ],
   "source": [
    "Q'Q"
   ]
  },
  {
   "cell_type": "code",
   "execution_count": null,
   "id": "74e3c883",
   "metadata": {},
   "outputs": [],
   "source": []
  }
 ],
 "metadata": {
  "kernelspec": {
   "display_name": "Julia 1.7.1",
   "language": "julia",
   "name": "julia-1.7"
  },
  "language_info": {
   "file_extension": ".jl",
   "mimetype": "application/julia",
   "name": "julia",
   "version": "1.7.1"
  }
 },
 "nbformat": 4,
 "nbformat_minor": 5
}
