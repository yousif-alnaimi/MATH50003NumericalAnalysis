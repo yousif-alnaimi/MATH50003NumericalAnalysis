{
 "cells": [
  {
   "cell_type": "markdown",
   "metadata": {},
   "source": [
    "# Decompositions and least squares\n",
    "\n",
    "\n",
    "In this lecture, we look at several factorizations of a matrix. For a square or rectangular matrix $A ∈ ℝ^{m × n}$ with more rows than columns ($m ≥ n$), we consider:\n",
    "1. The _QR decomposition_\n",
    "$$\n",
    "A = Q R = \\underbrace{\\begin{bmatrix} 𝐪_1 | \\cdots | 𝐪_m \\end{bmatrix}}_{m × m} \\underbrace{\\begin{bmatrix} × & \\cdots & × \\\\ & \\ddots & \\vdots \\\\ && × \\\\ &&0 \\\\ &&\\vdots \\\\ && 0 \\end{bmatrix}}_{m × n}\n",
    "$$\n",
    "where $Q$ is orthogonal ($Q^⊤Q = I$, $𝐪_j ∈ ℝ^m$) and $R$ is _right triangular_, which means it \n",
    "is only nonzero on or to the right of the diagonal.\n",
    "\n",
    "2. The _reduced QR decomposition_\n",
    "$$\n",
    "A = Q̂ R̂ = \\underbrace{\\begin{bmatrix} 𝐪_1 | \\cdots | 𝐪_n \\end{bmatrix}}_{m × n} \\underbrace{\\begin{bmatrix} × & \\cdots & × \\\\ & \\ddots & \\vdots \\\\ && ×  \\end{bmatrix}}_{n × n}\n",
    "$$\n",
    "where $Q$ has orthogonal columns ($Q^⊤Q = I$, $𝐪_j ∈ ℝ^m$) \n",
    "\n",
    "For a square matrix we consider the _PLU decomposition_:\n",
    "$$\n",
    "A = P^⊤ LU\n",
    "$$\n",
    "where $P$ is a permutation matrix, $L$ is lower triangular and $U$ is upper triangular.\n",
    "\n",
    "Finally, for a square, _symmetric positive definite_ ($𝐱^⊤ A 𝐱 > 0$ for all $𝐱 ∈ ℝ^n$) \n",
    "matrix we consider the _Cholesky decomposition_:\n",
    "$$\n",
    "A = L L^⊤\n",
    "$$\n",
    "\n",
    "The importance of these decomposition for square matrices is that their component pieces are easy to invert on a computer:\n",
    "$$\n",
    "\\begin{align*}\n",
    "A = P^⊤ LU &\\Rightarrow\\qquad A^{-1}𝐛 = U^{-1} L^{-1} P 𝐛 \\\\\n",
    "A = QR &\\Rightarrow\\qquad A^{-1}𝐛 = R^{-1} Q^\\top 𝐛 \\\\\n",
    "A = L L^⊤ &\\Rightarrow\\qquad A^{-1}𝐛 = L^{-⊤} L^{-1} 𝐛\n",
    "\\end{align*}\n",
    "$$\n",
    "and we saw last lecture that triangular and orthogonal matrices are easy to invert when applied to a vector $𝐛$,\n",
    "e.g., using forward/back-substitution.\n",
    "For rectangular matrices we will see that they lead to efficient solutions to the _least squares problem_: find\n",
    "$𝐱$ that minimizes the 2-norm\n",
    "$$\n",
    "\\| A 𝐱 - 𝐛 \\|.\n",
    "$$\n",
    "\n",
    "In this lecture we discuss the followng:\n",
    "\n",
    "1. QR,  Reduced QR, and least squares: We discuss the QR decomposition and its usage in solving least squares problems.\n",
    "We discuss computation of the Reduced QR decomposition using Gram–Schmidt, and the Full QR decomposition using \n",
    "Householder reflections.\n",
    "2. PLU decomposition: we discuss how the LU decomposition can be computed using Gaussian elimination, and the computation of\n",
    "the PLU decomposition via Gaussian elimination with pivoting.\n",
    "3. Cholesky decomposition: we introduce symmetric positive definite matrices and show that their LU decomposition can be re-interpreted\n",
    "as a Cholesky decomposition.\n",
    "4. Timings: we see the relative trade-off in speed between the different decompositions."
   ]
  },
  {
   "cell_type": "code",
   "execution_count": 1,
   "metadata": {
    "execution": {
     "iopub.execute_input": "2022-01-27T12:54:54.750225Z",
     "iopub.status.busy": "2022-01-27T12:54:54.369613Z",
     "iopub.status.idle": "2022-01-27T12:55:01.990646Z",
     "shell.execute_reply": "2022-01-27T12:55:01.989994Z"
    }
   },
   "outputs": [],
   "source": [
    "using LinearAlgebra, Plots, BenchmarkTools"
   ]
  },
  {
   "cell_type": "markdown",
   "metadata": {},
   "source": [
    "## 1. QR, Reduced QR, and least squares\n",
    "\n",
    "Here we consider rectangular matrices with more rows than columns.\n",
    "A QR decomposition decomposes a matrix into an orthogonal matrix $Q$ times a right triangular matrix $R$. \n",
    "Note the QR decomposition contains within it the reduced QR decomposition:\n",
    "$$\n",
    "A = QR = \\begin{bmatrix} Q̂ | 𝐪_{n+1} | ⋯ | 𝐪_m \\end{bmatrix} \\begin{bmatrix} R̂ \\\\  𝟎_{m-n × n} \\end{bmatrix} = Q̂ R̂.\n",
    "$$\n",
    "\n",
    "### Relationship with least squares\n",
    "\n",
    "We can use it to solve a least squares problem using the norm-preserving property (see PS3) of orthogonal matrices:\n",
    "$$\n",
    "\\| A 𝐱 - 𝐛 \\| = \\| Q R 𝐱 - 𝐛 \\| = \\| R 𝐱 - Q^⊤ 𝐛 \\| = \\left \\| \n",
    "\\begin{bmatrix} R̂ \\\\ 𝟎_{m-n × n} \\end{bmatrix} 𝐱 - \\begin{bmatrix} Q̂^⊤ \\\\ 𝐪_{n+1}^⊤ \\\\ \\vdots \\\\ 𝐪_m^⊤ \\end{bmatrix}     𝐛 \\right \\|\n",
    "$$\n",
    "Now note that the rows $k > n$ are independent of $𝐱$ and are a fixed contribution. Thus to minimise this norm it suffices to\n",
    "drop them and minimise:\n",
    "$$\n",
    "\\| R̂ 𝐱 - Q̂^⊤ 𝐛 \\|\n",
    "$$\n",
    "This norm is minimisable if it is attained. Provided the column rank of $A$ is full, $R̂$ will be invertible (Exercise: why is this?).\n",
    "Thus we have the solution\n",
    "$$\n",
    "𝐱 = R̂^{-1} Q̂^⊤ 𝐛\n",
    "$$\n",
    "\n",
    "**Example (quadratic fit)** Suppose we want to find noisy data by a quadratic\n",
    "$$\n",
    "p(x) = a + bx + cx^2\n",
    "$$\n",
    "That is, we want to choose $a,b,c$ at data samples $x_1, \\ldots, x_m$ so that the following is true:\n",
    "$$\n",
    "a + b x_k + c x_k^2 ≈ f_k\n",
    "$$\n",
    "where $f_k$ are given by data. We can reinterpret this as a least squares problem: minimise the norm\n",
    "$$\n",
    "\\left\\| \\begin{bmatrix} 1 & x_1 & x_1^2 \\\\ \\vdots & \\vdots & \\vdots \\\\ 1 & x_m & x_m^2 \\end{bmatrix}\n",
    "\\begin{bmatrix} a \\\\ b \\\\ c \\end{bmatrix} - \\begin{bmatrix} f_1 \\\\ \\vdots \\\\ f_m \\end{bmatrix} \\right \\|\n",
    "$$\n",
    "We can solve this using the QR decomposition:"
   ]
  },
  {
   "cell_type": "code",
   "execution_count": 2,
   "metadata": {
    "execution": {
     "iopub.execute_input": "2022-01-27T12:55:02.845522Z",
     "iopub.status.busy": "2022-01-27T12:55:01.992111Z",
     "iopub.status.idle": "2022-01-27T12:55:05.366876Z",
     "shell.execute_reply": "2022-01-27T12:55:05.366489Z"
    }
   },
   "outputs": [
    {
     "data": {
      "text/plain": [
       "3-element Vector{Float64}:\n",
       " 1.993405537560798\n",
       " 1.1005121973366017\n",
       " 1.8435561578617732"
      ]
     },
     "execution_count": 2,
     "metadata": {},
     "output_type": "execute_result"
    }
   ],
   "source": [
    "m,n = 100,3\n",
    "\n",
    "x = range(0,1; length=m) # 100 points\n",
    "f = 2 .+ x .+ 2x.^2 .+ 0.1 .* randn.() # Noisy quadratic\n",
    "\n",
    "A = x .^ (0:2)'  # 100 x 3 matrix, equivalent to [ones(m) x x.^2]\n",
    "Q,R̂ = qr(A)\n",
    "Q̂ = Q[:,1:n] # Q represents full orthogonal matrix so we take first 3 columns\n",
    "\n",
    "a,b,c = R̂ \\ Q̂'f"
   ]
  },
  {
   "cell_type": "markdown",
   "metadata": {},
   "source": [
    "We can visualise the fit:"
   ]
  },
  {
   "cell_type": "code",
   "execution_count": 3,
   "metadata": {
    "execution": {
     "iopub.execute_input": "2022-01-27T12:55:05.368865Z",
     "iopub.status.busy": "2022-01-27T12:55:05.368380Z",
     "iopub.status.idle": "2022-01-27T12:55:14.659809Z",
     "shell.execute_reply": "2022-01-27T12:55:14.659187Z"
    }
   },
   "outputs": [
    {
     "data": {
      "image/svg+xml": [
       "<?xml version=\"1.0\" encoding=\"utf-8\"?>\n",
       "<svg xmlns=\"http://www.w3.org/2000/svg\" xmlns:xlink=\"http://www.w3.org/1999/xlink\" width=\"600\" height=\"400\" viewBox=\"0 0 2400 1600\">\n",
       "<defs>\n",
       "  <clipPath id=\"clip590\">\n",
       "    <rect x=\"0\" y=\"0\" width=\"2400\" height=\"1600\"/>\n",
       "  </clipPath>\n",
       "</defs>\n",
       "<path clip-path=\"url(#clip590)\" d=\"\n",
       "M0 1600 L2400 1600 L2400 0 L0 0  Z\n",
       "  \" fill=\"#ffffff\" fill-rule=\"evenodd\" fill-opacity=\"1\"/>\n",
       "<defs>\n",
       "  <clipPath id=\"clip591\">\n",
       "    <rect x=\"480\" y=\"0\" width=\"1681\" height=\"1600\"/>\n",
       "  </clipPath>\n",
       "</defs>\n",
       "<path clip-path=\"url(#clip590)\" d=\"\n",
       "M112.177 1486.45 L2352.76 1486.45 L2352.76 47.2441 L112.177 47.2441  Z\n",
       "  \" fill=\"#ffffff\" fill-rule=\"evenodd\" fill-opacity=\"1\"/>\n",
       "<defs>\n",
       "  <clipPath id=\"clip592\">\n",
       "    <rect x=\"112\" y=\"47\" width=\"2242\" height=\"1440\"/>\n",
       "  </clipPath>\n",
       "</defs>\n",
       "<polyline clip-path=\"url(#clip592)\" style=\"stroke:#000000; stroke-linecap:butt; stroke-linejoin:round; stroke-width:2; stroke-opacity:0.1; fill:none\" points=\"\n",
       "  175.59,1486.45 175.59,47.2441 \n",
       "  \"/>\n",
       "<polyline clip-path=\"url(#clip592)\" style=\"stroke:#000000; stroke-linecap:butt; stroke-linejoin:round; stroke-width:2; stroke-opacity:0.1; fill:none\" points=\"\n",
       "  704.028,1486.45 704.028,47.2441 \n",
       "  \"/>\n",
       "<polyline clip-path=\"url(#clip592)\" style=\"stroke:#000000; stroke-linecap:butt; stroke-linejoin:round; stroke-width:2; stroke-opacity:0.1; fill:none\" points=\"\n",
       "  1232.47,1486.45 1232.47,47.2441 \n",
       "  \"/>\n",
       "<polyline clip-path=\"url(#clip592)\" style=\"stroke:#000000; stroke-linecap:butt; stroke-linejoin:round; stroke-width:2; stroke-opacity:0.1; fill:none\" points=\"\n",
       "  1760.9,1486.45 1760.9,47.2441 \n",
       "  \"/>\n",
       "<polyline clip-path=\"url(#clip592)\" style=\"stroke:#000000; stroke-linecap:butt; stroke-linejoin:round; stroke-width:2; stroke-opacity:0.1; fill:none\" points=\"\n",
       "  2289.34,1486.45 2289.34,47.2441 \n",
       "  \"/>\n",
       "<polyline clip-path=\"url(#clip590)\" style=\"stroke:#000000; stroke-linecap:butt; stroke-linejoin:round; stroke-width:4; stroke-opacity:1; fill:none\" points=\"\n",
       "  112.177,1486.45 2352.76,1486.45 \n",
       "  \"/>\n",
       "<polyline clip-path=\"url(#clip590)\" style=\"stroke:#000000; stroke-linecap:butt; stroke-linejoin:round; stroke-width:4; stroke-opacity:1; fill:none\" points=\"\n",
       "  175.59,1486.45 175.59,1467.55 \n",
       "  \"/>\n",
       "<polyline clip-path=\"url(#clip590)\" style=\"stroke:#000000; stroke-linecap:butt; stroke-linejoin:round; stroke-width:4; stroke-opacity:1; fill:none\" points=\"\n",
       "  704.028,1486.45 704.028,1467.55 \n",
       "  \"/>\n",
       "<polyline clip-path=\"url(#clip590)\" style=\"stroke:#000000; stroke-linecap:butt; stroke-linejoin:round; stroke-width:4; stroke-opacity:1; fill:none\" points=\"\n",
       "  1232.47,1486.45 1232.47,1467.55 \n",
       "  \"/>\n",
       "<polyline clip-path=\"url(#clip590)\" style=\"stroke:#000000; stroke-linecap:butt; stroke-linejoin:round; stroke-width:4; stroke-opacity:1; fill:none\" points=\"\n",
       "  1760.9,1486.45 1760.9,1467.55 \n",
       "  \"/>\n",
       "<polyline clip-path=\"url(#clip590)\" style=\"stroke:#000000; stroke-linecap:butt; stroke-linejoin:round; stroke-width:4; stroke-opacity:1; fill:none\" points=\"\n",
       "  2289.34,1486.45 2289.34,1467.55 \n",
       "  \"/>\n",
       "<path clip-path=\"url(#clip590)\" d=\"M137.893 1517.37 Q134.282 1517.37 132.453 1520.93 Q130.648 1524.47 130.648 1531.6 Q130.648 1538.71 132.453 1542.27 Q134.282 1545.82 137.893 1545.82 Q141.527 1545.82 143.333 1542.27 Q145.162 1538.71 145.162 1531.6 Q145.162 1524.47 143.333 1520.93 Q141.527 1517.37 137.893 1517.37 M137.893 1513.66 Q143.703 1513.66 146.759 1518.27 Q149.838 1522.85 149.838 1531.6 Q149.838 1540.33 146.759 1544.94 Q143.703 1549.52 137.893 1549.52 Q132.083 1549.52 129.004 1544.94 Q125.949 1540.33 125.949 1531.6 Q125.949 1522.85 129.004 1518.27 Q132.083 1513.66 137.893 1513.66 Z\" fill=\"#000000\" fill-rule=\"evenodd\" fill-opacity=\"1\" /><path clip-path=\"url(#clip590)\" d=\"M158.055 1542.97 L162.939 1542.97 L162.939 1548.85 L158.055 1548.85 L158.055 1542.97 Z\" fill=\"#000000\" fill-rule=\"evenodd\" fill-opacity=\"1\" /><path clip-path=\"url(#clip590)\" d=\"M183.124 1517.37 Q179.513 1517.37 177.685 1520.93 Q175.879 1524.47 175.879 1531.6 Q175.879 1538.71 177.685 1542.27 Q179.513 1545.82 183.124 1545.82 Q186.759 1545.82 188.564 1542.27 Q190.393 1538.71 190.393 1531.6 Q190.393 1524.47 188.564 1520.93 Q186.759 1517.37 183.124 1517.37 M183.124 1513.66 Q188.935 1513.66 191.99 1518.27 Q195.069 1522.85 195.069 1531.6 Q195.069 1540.33 191.99 1544.94 Q188.935 1549.52 183.124 1549.52 Q177.314 1549.52 174.236 1544.94 Q171.18 1540.33 171.18 1531.6 Q171.18 1522.85 174.236 1518.27 Q177.314 1513.66 183.124 1513.66 Z\" fill=\"#000000\" fill-rule=\"evenodd\" fill-opacity=\"1\" /><path clip-path=\"url(#clip590)\" d=\"M213.286 1517.37 Q209.675 1517.37 207.847 1520.93 Q206.041 1524.47 206.041 1531.6 Q206.041 1538.71 207.847 1542.27 Q209.675 1545.82 213.286 1545.82 Q216.921 1545.82 218.726 1542.27 Q220.555 1538.71 220.555 1531.6 Q220.555 1524.47 218.726 1520.93 Q216.921 1517.37 213.286 1517.37 M213.286 1513.66 Q219.096 1513.66 222.152 1518.27 Q225.231 1522.85 225.231 1531.6 Q225.231 1540.33 222.152 1544.94 Q219.096 1549.52 213.286 1549.52 Q207.476 1549.52 204.397 1544.94 Q201.342 1540.33 201.342 1531.6 Q201.342 1522.85 204.397 1518.27 Q207.476 1513.66 213.286 1513.66 Z\" fill=\"#000000\" fill-rule=\"evenodd\" fill-opacity=\"1\" /><path clip-path=\"url(#clip590)\" d=\"M666.829 1517.37 Q663.218 1517.37 661.39 1520.93 Q659.584 1524.47 659.584 1531.6 Q659.584 1538.71 661.39 1542.27 Q663.218 1545.82 666.829 1545.82 Q670.464 1545.82 672.269 1542.27 Q674.098 1538.71 674.098 1531.6 Q674.098 1524.47 672.269 1520.93 Q670.464 1517.37 666.829 1517.37 M666.829 1513.66 Q672.639 1513.66 675.695 1518.27 Q678.774 1522.85 678.774 1531.6 Q678.774 1540.33 675.695 1544.94 Q672.639 1549.52 666.829 1549.52 Q661.019 1549.52 657.94 1544.94 Q654.885 1540.33 654.885 1531.6 Q654.885 1522.85 657.94 1518.27 Q661.019 1513.66 666.829 1513.66 Z\" fill=\"#000000\" fill-rule=\"evenodd\" fill-opacity=\"1\" /><path clip-path=\"url(#clip590)\" d=\"M686.991 1542.97 L691.875 1542.97 L691.875 1548.85 L686.991 1548.85 L686.991 1542.97 Z\" fill=\"#000000\" fill-rule=\"evenodd\" fill-opacity=\"1\" /><path clip-path=\"url(#clip590)\" d=\"M706.088 1544.91 L722.408 1544.91 L722.408 1548.85 L700.463 1548.85 L700.463 1544.91 Q703.125 1542.16 707.709 1537.53 Q712.315 1532.88 713.496 1531.53 Q715.741 1529.01 716.621 1527.27 Q717.523 1525.51 717.523 1523.82 Q717.523 1521.07 715.579 1519.33 Q713.658 1517.6 710.556 1517.6 Q708.357 1517.6 705.903 1518.36 Q703.473 1519.13 700.695 1520.68 L700.695 1515.95 Q703.519 1514.82 705.973 1514.24 Q708.426 1513.66 710.463 1513.66 Q715.834 1513.66 719.028 1516.35 Q722.223 1519.03 722.223 1523.52 Q722.223 1525.65 721.412 1527.57 Q720.625 1529.47 718.519 1532.07 Q717.94 1532.74 714.838 1535.95 Q711.736 1539.15 706.088 1544.91 Z\" fill=\"#000000\" fill-rule=\"evenodd\" fill-opacity=\"1\" /><path clip-path=\"url(#clip590)\" d=\"M732.269 1514.29 L750.625 1514.29 L750.625 1518.22 L736.551 1518.22 L736.551 1526.7 Q737.57 1526.35 738.588 1526.19 Q739.607 1526 740.625 1526 Q746.412 1526 749.792 1529.17 Q753.171 1532.34 753.171 1537.76 Q753.171 1543.34 749.699 1546.44 Q746.227 1549.52 739.908 1549.52 Q737.732 1549.52 735.463 1549.15 Q733.218 1548.78 730.81 1548.04 L730.81 1543.34 Q732.894 1544.47 735.116 1545.03 Q737.338 1545.58 739.815 1545.58 Q743.82 1545.58 746.158 1543.48 Q748.496 1541.37 748.496 1537.76 Q748.496 1534.15 746.158 1532.04 Q743.82 1529.94 739.815 1529.94 Q737.94 1529.94 736.065 1530.35 Q734.213 1530.77 732.269 1531.65 L732.269 1514.29 Z\" fill=\"#000000\" fill-rule=\"evenodd\" fill-opacity=\"1\" /><path clip-path=\"url(#clip590)\" d=\"M1194.77 1517.37 Q1191.16 1517.37 1189.33 1520.93 Q1187.52 1524.47 1187.52 1531.6 Q1187.52 1538.71 1189.33 1542.27 Q1191.16 1545.82 1194.77 1545.82 Q1198.4 1545.82 1200.21 1542.27 Q1202.04 1538.71 1202.04 1531.6 Q1202.04 1524.47 1200.21 1520.93 Q1198.4 1517.37 1194.77 1517.37 M1194.77 1513.66 Q1200.58 1513.66 1203.64 1518.27 Q1206.71 1522.85 1206.71 1531.6 Q1206.71 1540.33 1203.64 1544.94 Q1200.58 1549.52 1194.77 1549.52 Q1188.96 1549.52 1185.88 1544.94 Q1182.83 1540.33 1182.83 1531.6 Q1182.83 1522.85 1185.88 1518.27 Q1188.96 1513.66 1194.77 1513.66 Z\" fill=\"#000000\" fill-rule=\"evenodd\" fill-opacity=\"1\" /><path clip-path=\"url(#clip590)\" d=\"M1214.93 1542.97 L1219.82 1542.97 L1219.82 1548.85 L1214.93 1548.85 L1214.93 1542.97 Z\" fill=\"#000000\" fill-rule=\"evenodd\" fill-opacity=\"1\" /><path clip-path=\"url(#clip590)\" d=\"M1230.05 1514.29 L1248.4 1514.29 L1248.4 1518.22 L1234.33 1518.22 L1234.33 1526.7 Q1235.35 1526.35 1236.37 1526.19 Q1237.39 1526 1238.4 1526 Q1244.19 1526 1247.57 1529.17 Q1250.95 1532.34 1250.95 1537.76 Q1250.95 1543.34 1247.48 1546.44 Q1244.01 1549.52 1237.69 1549.52 Q1235.51 1549.52 1233.24 1549.15 Q1231 1548.78 1228.59 1548.04 L1228.59 1543.34 Q1230.67 1544.47 1232.89 1545.03 Q1235.12 1545.58 1237.59 1545.58 Q1241.6 1545.58 1243.94 1543.48 Q1246.27 1541.37 1246.27 1537.76 Q1246.27 1534.15 1243.94 1532.04 Q1241.6 1529.94 1237.59 1529.94 Q1235.72 1529.94 1233.84 1530.35 Q1231.99 1530.77 1230.05 1531.65 L1230.05 1514.29 Z\" fill=\"#000000\" fill-rule=\"evenodd\" fill-opacity=\"1\" /><path clip-path=\"url(#clip590)\" d=\"M1270.16 1517.37 Q1266.55 1517.37 1264.72 1520.93 Q1262.92 1524.47 1262.92 1531.6 Q1262.92 1538.71 1264.72 1542.27 Q1266.55 1545.82 1270.16 1545.82 Q1273.8 1545.82 1275.6 1542.27 Q1277.43 1538.71 1277.43 1531.6 Q1277.43 1524.47 1275.6 1520.93 Q1273.8 1517.37 1270.16 1517.37 M1270.16 1513.66 Q1275.97 1513.66 1279.03 1518.27 Q1282.11 1522.85 1282.11 1531.6 Q1282.11 1540.33 1279.03 1544.94 Q1275.97 1549.52 1270.16 1549.52 Q1264.35 1549.52 1261.27 1544.94 Q1258.22 1540.33 1258.22 1531.6 Q1258.22 1522.85 1261.27 1518.27 Q1264.35 1513.66 1270.16 1513.66 Z\" fill=\"#000000\" fill-rule=\"evenodd\" fill-opacity=\"1\" /><path clip-path=\"url(#clip590)\" d=\"M1723.71 1517.37 Q1720.09 1517.37 1718.27 1520.93 Q1716.46 1524.47 1716.46 1531.6 Q1716.46 1538.71 1718.27 1542.27 Q1720.09 1545.82 1723.71 1545.82 Q1727.34 1545.82 1729.15 1542.27 Q1730.97 1538.71 1730.97 1531.6 Q1730.97 1524.47 1729.15 1520.93 Q1727.34 1517.37 1723.71 1517.37 M1723.71 1513.66 Q1729.52 1513.66 1732.57 1518.27 Q1735.65 1522.85 1735.65 1531.6 Q1735.65 1540.33 1732.57 1544.94 Q1729.52 1549.52 1723.71 1549.52 Q1717.9 1549.52 1714.82 1544.94 Q1711.76 1540.33 1711.76 1531.6 Q1711.76 1522.85 1714.82 1518.27 Q1717.9 1513.66 1723.71 1513.66 Z\" fill=\"#000000\" fill-rule=\"evenodd\" fill-opacity=\"1\" /><path clip-path=\"url(#clip590)\" d=\"M1743.87 1542.97 L1748.75 1542.97 L1748.75 1548.85 L1743.87 1548.85 L1743.87 1542.97 Z\" fill=\"#000000\" fill-rule=\"evenodd\" fill-opacity=\"1\" /><path clip-path=\"url(#clip590)\" d=\"M1757.76 1514.29 L1779.98 1514.29 L1779.98 1516.28 L1767.43 1548.85 L1762.55 1548.85 L1774.35 1518.22 L1757.76 1518.22 L1757.76 1514.29 Z\" fill=\"#000000\" fill-rule=\"evenodd\" fill-opacity=\"1\" /><path clip-path=\"url(#clip590)\" d=\"M1789.15 1514.29 L1807.5 1514.29 L1807.5 1518.22 L1793.43 1518.22 L1793.43 1526.7 Q1794.45 1526.35 1795.46 1526.19 Q1796.48 1526 1797.5 1526 Q1803.29 1526 1806.67 1529.17 Q1810.05 1532.34 1810.05 1537.76 Q1810.05 1543.34 1806.58 1546.44 Q1803.1 1549.52 1796.78 1549.52 Q1794.61 1549.52 1792.34 1549.15 Q1790.09 1548.78 1787.69 1548.04 L1787.69 1543.34 Q1789.77 1544.47 1791.99 1545.03 Q1794.21 1545.58 1796.69 1545.58 Q1800.7 1545.58 1803.03 1543.48 Q1805.37 1541.37 1805.37 1537.76 Q1805.37 1534.15 1803.03 1532.04 Q1800.7 1529.94 1796.69 1529.94 Q1794.82 1529.94 1792.94 1530.35 Q1791.09 1530.77 1789.15 1531.65 L1789.15 1514.29 Z\" fill=\"#000000\" fill-rule=\"evenodd\" fill-opacity=\"1\" /><path clip-path=\"url(#clip590)\" d=\"M2241.42 1544.91 L2249.05 1544.91 L2249.05 1518.55 L2240.74 1520.21 L2240.74 1515.95 L2249.01 1514.29 L2253.68 1514.29 L2253.68 1544.91 L2261.32 1544.91 L2261.32 1548.85 L2241.42 1548.85 L2241.42 1544.91 Z\" fill=\"#000000\" fill-rule=\"evenodd\" fill-opacity=\"1\" /><path clip-path=\"url(#clip590)\" d=\"M2270.77 1542.97 L2275.65 1542.97 L2275.65 1548.85 L2270.77 1548.85 L2270.77 1542.97 Z\" fill=\"#000000\" fill-rule=\"evenodd\" fill-opacity=\"1\" /><path clip-path=\"url(#clip590)\" d=\"M2295.84 1517.37 Q2292.23 1517.37 2290.4 1520.93 Q2288.59 1524.47 2288.59 1531.6 Q2288.59 1538.71 2290.4 1542.27 Q2292.23 1545.82 2295.84 1545.82 Q2299.47 1545.82 2301.28 1542.27 Q2303.1 1538.71 2303.1 1531.6 Q2303.1 1524.47 2301.28 1520.93 Q2299.47 1517.37 2295.84 1517.37 M2295.84 1513.66 Q2301.65 1513.66 2304.7 1518.27 Q2307.78 1522.85 2307.78 1531.6 Q2307.78 1540.33 2304.7 1544.94 Q2301.65 1549.52 2295.84 1549.52 Q2290.03 1549.52 2286.95 1544.94 Q2283.89 1540.33 2283.89 1531.6 Q2283.89 1522.85 2286.95 1518.27 Q2290.03 1513.66 2295.84 1513.66 Z\" fill=\"#000000\" fill-rule=\"evenodd\" fill-opacity=\"1\" /><path clip-path=\"url(#clip590)\" d=\"M2326 1517.37 Q2322.39 1517.37 2320.56 1520.93 Q2318.75 1524.47 2318.75 1531.6 Q2318.75 1538.71 2320.56 1542.27 Q2322.39 1545.82 2326 1545.82 Q2329.63 1545.82 2331.44 1542.27 Q2333.27 1538.71 2333.27 1531.6 Q2333.27 1524.47 2331.44 1520.93 Q2329.63 1517.37 2326 1517.37 M2326 1513.66 Q2331.81 1513.66 2334.86 1518.27 Q2337.94 1522.85 2337.94 1531.6 Q2337.94 1540.33 2334.86 1544.94 Q2331.81 1549.52 2326 1549.52 Q2320.19 1549.52 2317.11 1544.94 Q2314.05 1540.33 2314.05 1531.6 Q2314.05 1522.85 2317.11 1518.27 Q2320.19 1513.66 2326 1513.66 Z\" fill=\"#000000\" fill-rule=\"evenodd\" fill-opacity=\"1\" /><polyline clip-path=\"url(#clip592)\" style=\"stroke:#000000; stroke-linecap:butt; stroke-linejoin:round; stroke-width:2; stroke-opacity:0.1; fill:none\" points=\"\n",
       "  112.177,1388.91 2352.76,1388.91 \n",
       "  \"/>\n",
       "<polyline clip-path=\"url(#clip592)\" style=\"stroke:#000000; stroke-linecap:butt; stroke-linejoin:round; stroke-width:2; stroke-opacity:0.1; fill:none\" points=\"\n",
       "  112.177,953.29 2352.76,953.29 \n",
       "  \"/>\n",
       "<polyline clip-path=\"url(#clip592)\" style=\"stroke:#000000; stroke-linecap:butt; stroke-linejoin:round; stroke-width:2; stroke-opacity:0.1; fill:none\" points=\"\n",
       "  112.177,517.67 2352.76,517.67 \n",
       "  \"/>\n",
       "<polyline clip-path=\"url(#clip592)\" style=\"stroke:#000000; stroke-linecap:butt; stroke-linejoin:round; stroke-width:2; stroke-opacity:0.1; fill:none\" points=\"\n",
       "  112.177,82.0507 2352.76,82.0507 \n",
       "  \"/>\n",
       "<polyline clip-path=\"url(#clip590)\" style=\"stroke:#000000; stroke-linecap:butt; stroke-linejoin:round; stroke-width:4; stroke-opacity:1; fill:none\" points=\"\n",
       "  112.177,1486.45 112.177,47.2441 \n",
       "  \"/>\n",
       "<polyline clip-path=\"url(#clip590)\" style=\"stroke:#000000; stroke-linecap:butt; stroke-linejoin:round; stroke-width:4; stroke-opacity:1; fill:none\" points=\"\n",
       "  112.177,1388.91 131.075,1388.91 \n",
       "  \"/>\n",
       "<polyline clip-path=\"url(#clip590)\" style=\"stroke:#000000; stroke-linecap:butt; stroke-linejoin:round; stroke-width:4; stroke-opacity:1; fill:none\" points=\"\n",
       "  112.177,953.29 131.075,953.29 \n",
       "  \"/>\n",
       "<polyline clip-path=\"url(#clip590)\" style=\"stroke:#000000; stroke-linecap:butt; stroke-linejoin:round; stroke-width:4; stroke-opacity:1; fill:none\" points=\"\n",
       "  112.177,517.67 131.075,517.67 \n",
       "  \"/>\n",
       "<polyline clip-path=\"url(#clip590)\" style=\"stroke:#000000; stroke-linecap:butt; stroke-linejoin:round; stroke-width:4; stroke-opacity:1; fill:none\" points=\"\n",
       "  112.177,82.0507 131.075,82.0507 \n",
       "  \"/>\n",
       "<path clip-path=\"url(#clip590)\" d=\"M59.8578 1402.25 L76.1772 1402.25 L76.1772 1406.19 L54.2328 1406.19 L54.2328 1402.25 Q56.8949 1399.5 61.4782 1394.87 Q66.0846 1390.22 67.2652 1388.88 Q69.5105 1386.35 70.3902 1384.62 Q71.2929 1382.86 71.2929 1381.17 Q71.2929 1378.41 69.3485 1376.68 Q67.4272 1374.94 64.3254 1374.94 Q62.1263 1374.94 59.6726 1375.7 Q57.2421 1376.47 54.4643 1378.02 L54.4643 1373.3 Q57.2884 1372.16 59.7421 1371.58 Q62.1958 1371 64.2328 1371 Q69.6031 1371 72.7976 1373.69 Q75.992 1376.38 75.992 1380.87 Q75.992 1383 75.1818 1384.92 Q74.3948 1386.81 72.2883 1389.41 Q71.7096 1390.08 68.6078 1393.3 Q65.5059 1396.49 59.8578 1402.25 Z\" fill=\"#000000\" fill-rule=\"evenodd\" fill-opacity=\"1\" /><path clip-path=\"url(#clip590)\" d=\"M69.0476 951.936 Q72.404 952.653 74.279 954.922 Q76.1772 957.19 76.1772 960.524 Q76.1772 965.64 72.6587 968.44 Q69.1402 971.241 62.6587 971.241 Q60.4828 971.241 58.168 970.802 Q55.8764 970.385 53.4227 969.528 L53.4227 965.015 Q55.3671 966.149 57.6819 966.727 Q59.9967 967.306 62.5198 967.306 Q66.918 967.306 69.2096 965.57 Q71.5244 963.834 71.5244 960.524 Q71.5244 957.468 69.3717 955.755 Q67.242 954.019 63.4226 954.019 L59.3949 954.019 L59.3949 950.177 L63.6078 950.177 Q67.0569 950.177 68.8855 948.811 Q70.7142 947.422 70.7142 944.829 Q70.7142 942.167 68.8161 940.755 Q66.9411 939.32 63.4226 939.32 Q61.5013 939.32 59.3023 939.737 Q57.1032 940.154 54.4643 941.033 L54.4643 936.867 Q57.1264 936.126 59.4412 935.755 Q61.7791 935.385 63.8393 935.385 Q69.1633 935.385 72.2652 937.816 Q75.367 940.223 75.367 944.343 Q75.367 947.214 73.7235 949.204 Q72.08 951.172 69.0476 951.936 Z\" fill=\"#000000\" fill-rule=\"evenodd\" fill-opacity=\"1\" /><path clip-path=\"url(#clip590)\" d=\"M66.5939 504.464 L54.7884 522.913 L66.5939 522.913 L66.5939 504.464 M65.367 500.39 L71.2466 500.39 L71.2466 522.913 L76.1772 522.913 L76.1772 526.802 L71.2466 526.802 L71.2466 534.95 L66.5939 534.95 L66.5939 526.802 L50.9921 526.802 L50.9921 522.288 L65.367 500.39 Z\" fill=\"#000000\" fill-rule=\"evenodd\" fill-opacity=\"1\" /><path clip-path=\"url(#clip590)\" d=\"M55.2745 64.7707 L73.6309 64.7707 L73.6309 68.7058 L59.5569 68.7058 L59.5569 77.178 Q60.5754 76.8308 61.5939 76.6687 Q62.6124 76.4836 63.6309 76.4836 Q69.418 76.4836 72.7976 79.6548 Q76.1772 82.8261 76.1772 88.2428 Q76.1772 93.8214 72.705 96.9233 Q69.2328 100.002 62.9134 100.002 Q60.7374 100.002 58.4689 99.6316 Q56.2236 99.2612 53.8162 98.5205 L53.8162 93.8214 Q55.8995 94.9557 58.1217 95.5112 Q60.3439 96.0668 62.8208 96.0668 Q66.8254 96.0668 69.1633 93.9603 Q71.5013 91.8538 71.5013 88.2428 Q71.5013 84.6317 69.1633 82.5252 Q66.8254 80.4187 62.8208 80.4187 Q60.9458 80.4187 59.0708 80.8354 Q57.2189 81.2521 55.2745 82.1317 L55.2745 64.7707 Z\" fill=\"#000000\" fill-rule=\"evenodd\" fill-opacity=\"1\" /><circle clip-path=\"url(#clip592)\" cx=\"175.59\" cy=\"1372.95\" r=\"14\" fill=\"#009af9\" fill-rule=\"evenodd\" fill-opacity=\"1\" stroke=\"#000000\" stroke-opacity=\"1\" stroke-width=\"3.2\"/>\n",
       "<circle clip-path=\"url(#clip592)\" cx=\"196.941\" cy=\"1403.3\" r=\"14\" fill=\"#009af9\" fill-rule=\"evenodd\" fill-opacity=\"1\" stroke=\"#000000\" stroke-opacity=\"1\" stroke-width=\"3.2\"/>\n",
       "<circle clip-path=\"url(#clip592)\" cx=\"218.292\" cy=\"1428.23\" r=\"14\" fill=\"#009af9\" fill-rule=\"evenodd\" fill-opacity=\"1\" stroke=\"#000000\" stroke-opacity=\"1\" stroke-width=\"3.2\"/>\n",
       "<circle clip-path=\"url(#clip592)\" cx=\"239.643\" cy=\"1445.72\" r=\"14\" fill=\"#009af9\" fill-rule=\"evenodd\" fill-opacity=\"1\" stroke=\"#000000\" stroke-opacity=\"1\" stroke-width=\"3.2\"/>\n",
       "<circle clip-path=\"url(#clip592)\" cx=\"260.994\" cy=\"1329.89\" r=\"14\" fill=\"#009af9\" fill-rule=\"evenodd\" fill-opacity=\"1\" stroke=\"#000000\" stroke-opacity=\"1\" stroke-width=\"3.2\"/>\n",
       "<circle clip-path=\"url(#clip592)\" cx=\"282.345\" cy=\"1385.17\" r=\"14\" fill=\"#009af9\" fill-rule=\"evenodd\" fill-opacity=\"1\" stroke=\"#000000\" stroke-opacity=\"1\" stroke-width=\"3.2\"/>\n",
       "<circle clip-path=\"url(#clip592)\" cx=\"303.696\" cy=\"1416.92\" r=\"14\" fill=\"#009af9\" fill-rule=\"evenodd\" fill-opacity=\"1\" stroke=\"#000000\" stroke-opacity=\"1\" stroke-width=\"3.2\"/>\n",
       "<circle clip-path=\"url(#clip592)\" cx=\"325.047\" cy=\"1348.32\" r=\"14\" fill=\"#009af9\" fill-rule=\"evenodd\" fill-opacity=\"1\" stroke=\"#000000\" stroke-opacity=\"1\" stroke-width=\"3.2\"/>\n",
       "<circle clip-path=\"url(#clip592)\" cx=\"346.398\" cy=\"1288.06\" r=\"14\" fill=\"#009af9\" fill-rule=\"evenodd\" fill-opacity=\"1\" stroke=\"#000000\" stroke-opacity=\"1\" stroke-width=\"3.2\"/>\n",
       "<circle clip-path=\"url(#clip592)\" cx=\"367.749\" cy=\"1344.74\" r=\"14\" fill=\"#009af9\" fill-rule=\"evenodd\" fill-opacity=\"1\" stroke=\"#000000\" stroke-opacity=\"1\" stroke-width=\"3.2\"/>\n",
       "<circle clip-path=\"url(#clip592)\" cx=\"389.1\" cy=\"1270.74\" r=\"14\" fill=\"#009af9\" fill-rule=\"evenodd\" fill-opacity=\"1\" stroke=\"#000000\" stroke-opacity=\"1\" stroke-width=\"3.2\"/>\n",
       "<circle clip-path=\"url(#clip592)\" cx=\"410.451\" cy=\"1279.83\" r=\"14\" fill=\"#009af9\" fill-rule=\"evenodd\" fill-opacity=\"1\" stroke=\"#000000\" stroke-opacity=\"1\" stroke-width=\"3.2\"/>\n",
       "<circle clip-path=\"url(#clip592)\" cx=\"431.802\" cy=\"1355.92\" r=\"14\" fill=\"#009af9\" fill-rule=\"evenodd\" fill-opacity=\"1\" stroke=\"#000000\" stroke-opacity=\"1\" stroke-width=\"3.2\"/>\n",
       "<circle clip-path=\"url(#clip592)\" cx=\"453.153\" cy=\"1282.47\" r=\"14\" fill=\"#009af9\" fill-rule=\"evenodd\" fill-opacity=\"1\" stroke=\"#000000\" stroke-opacity=\"1\" stroke-width=\"3.2\"/>\n",
       "<circle clip-path=\"url(#clip592)\" cx=\"474.504\" cy=\"1282.37\" r=\"14\" fill=\"#009af9\" fill-rule=\"evenodd\" fill-opacity=\"1\" stroke=\"#000000\" stroke-opacity=\"1\" stroke-width=\"3.2\"/>\n",
       "<circle clip-path=\"url(#clip592)\" cx=\"495.855\" cy=\"1287.11\" r=\"14\" fill=\"#009af9\" fill-rule=\"evenodd\" fill-opacity=\"1\" stroke=\"#000000\" stroke-opacity=\"1\" stroke-width=\"3.2\"/>\n",
       "<circle clip-path=\"url(#clip592)\" cx=\"517.207\" cy=\"1316.18\" r=\"14\" fill=\"#009af9\" fill-rule=\"evenodd\" fill-opacity=\"1\" stroke=\"#000000\" stroke-opacity=\"1\" stroke-width=\"3.2\"/>\n",
       "<circle clip-path=\"url(#clip592)\" cx=\"538.558\" cy=\"1305.3\" r=\"14\" fill=\"#009af9\" fill-rule=\"evenodd\" fill-opacity=\"1\" stroke=\"#000000\" stroke-opacity=\"1\" stroke-width=\"3.2\"/>\n",
       "<circle clip-path=\"url(#clip592)\" cx=\"559.909\" cy=\"1244.35\" r=\"14\" fill=\"#009af9\" fill-rule=\"evenodd\" fill-opacity=\"1\" stroke=\"#000000\" stroke-opacity=\"1\" stroke-width=\"3.2\"/>\n",
       "<circle clip-path=\"url(#clip592)\" cx=\"581.26\" cy=\"1210.8\" r=\"14\" fill=\"#009af9\" fill-rule=\"evenodd\" fill-opacity=\"1\" stroke=\"#000000\" stroke-opacity=\"1\" stroke-width=\"3.2\"/>\n",
       "<circle clip-path=\"url(#clip592)\" cx=\"602.611\" cy=\"1247.71\" r=\"14\" fill=\"#009af9\" fill-rule=\"evenodd\" fill-opacity=\"1\" stroke=\"#000000\" stroke-opacity=\"1\" stroke-width=\"3.2\"/>\n",
       "<circle clip-path=\"url(#clip592)\" cx=\"623.962\" cy=\"1210.41\" r=\"14\" fill=\"#009af9\" fill-rule=\"evenodd\" fill-opacity=\"1\" stroke=\"#000000\" stroke-opacity=\"1\" stroke-width=\"3.2\"/>\n",
       "<circle clip-path=\"url(#clip592)\" cx=\"645.313\" cy=\"1242.36\" r=\"14\" fill=\"#009af9\" fill-rule=\"evenodd\" fill-opacity=\"1\" stroke=\"#000000\" stroke-opacity=\"1\" stroke-width=\"3.2\"/>\n",
       "<circle clip-path=\"url(#clip592)\" cx=\"666.664\" cy=\"1236.72\" r=\"14\" fill=\"#009af9\" fill-rule=\"evenodd\" fill-opacity=\"1\" stroke=\"#000000\" stroke-opacity=\"1\" stroke-width=\"3.2\"/>\n",
       "<circle clip-path=\"url(#clip592)\" cx=\"688.015\" cy=\"1283.7\" r=\"14\" fill=\"#009af9\" fill-rule=\"evenodd\" fill-opacity=\"1\" stroke=\"#000000\" stroke-opacity=\"1\" stroke-width=\"3.2\"/>\n",
       "<circle clip-path=\"url(#clip592)\" cx=\"709.366\" cy=\"1198.22\" r=\"14\" fill=\"#009af9\" fill-rule=\"evenodd\" fill-opacity=\"1\" stroke=\"#000000\" stroke-opacity=\"1\" stroke-width=\"3.2\"/>\n",
       "<circle clip-path=\"url(#clip592)\" cx=\"730.717\" cy=\"1166.04\" r=\"14\" fill=\"#009af9\" fill-rule=\"evenodd\" fill-opacity=\"1\" stroke=\"#000000\" stroke-opacity=\"1\" stroke-width=\"3.2\"/>\n",
       "<circle clip-path=\"url(#clip592)\" cx=\"752.068\" cy=\"1238.46\" r=\"14\" fill=\"#009af9\" fill-rule=\"evenodd\" fill-opacity=\"1\" stroke=\"#000000\" stroke-opacity=\"1\" stroke-width=\"3.2\"/>\n",
       "<circle clip-path=\"url(#clip592)\" cx=\"773.419\" cy=\"1244.31\" r=\"14\" fill=\"#009af9\" fill-rule=\"evenodd\" fill-opacity=\"1\" stroke=\"#000000\" stroke-opacity=\"1\" stroke-width=\"3.2\"/>\n",
       "<circle clip-path=\"url(#clip592)\" cx=\"794.77\" cy=\"1129.25\" r=\"14\" fill=\"#009af9\" fill-rule=\"evenodd\" fill-opacity=\"1\" stroke=\"#000000\" stroke-opacity=\"1\" stroke-width=\"3.2\"/>\n",
       "<circle clip-path=\"url(#clip592)\" cx=\"816.121\" cy=\"1218.31\" r=\"14\" fill=\"#009af9\" fill-rule=\"evenodd\" fill-opacity=\"1\" stroke=\"#000000\" stroke-opacity=\"1\" stroke-width=\"3.2\"/>\n",
       "<circle clip-path=\"url(#clip592)\" cx=\"837.472\" cy=\"1126.53\" r=\"14\" fill=\"#009af9\" fill-rule=\"evenodd\" fill-opacity=\"1\" stroke=\"#000000\" stroke-opacity=\"1\" stroke-width=\"3.2\"/>\n",
       "<circle clip-path=\"url(#clip592)\" cx=\"858.823\" cy=\"1210.43\" r=\"14\" fill=\"#009af9\" fill-rule=\"evenodd\" fill-opacity=\"1\" stroke=\"#000000\" stroke-opacity=\"1\" stroke-width=\"3.2\"/>\n",
       "<circle clip-path=\"url(#clip592)\" cx=\"880.174\" cy=\"1122.31\" r=\"14\" fill=\"#009af9\" fill-rule=\"evenodd\" fill-opacity=\"1\" stroke=\"#000000\" stroke-opacity=\"1\" stroke-width=\"3.2\"/>\n",
       "<circle clip-path=\"url(#clip592)\" cx=\"901.525\" cy=\"1190.4\" r=\"14\" fill=\"#009af9\" fill-rule=\"evenodd\" fill-opacity=\"1\" stroke=\"#000000\" stroke-opacity=\"1\" stroke-width=\"3.2\"/>\n",
       "<circle clip-path=\"url(#clip592)\" cx=\"922.876\" cy=\"1093.93\" r=\"14\" fill=\"#009af9\" fill-rule=\"evenodd\" fill-opacity=\"1\" stroke=\"#000000\" stroke-opacity=\"1\" stroke-width=\"3.2\"/>\n",
       "<circle clip-path=\"url(#clip592)\" cx=\"944.227\" cy=\"1097.56\" r=\"14\" fill=\"#009af9\" fill-rule=\"evenodd\" fill-opacity=\"1\" stroke=\"#000000\" stroke-opacity=\"1\" stroke-width=\"3.2\"/>\n",
       "<circle clip-path=\"url(#clip592)\" cx=\"965.578\" cy=\"1130.68\" r=\"14\" fill=\"#009af9\" fill-rule=\"evenodd\" fill-opacity=\"1\" stroke=\"#000000\" stroke-opacity=\"1\" stroke-width=\"3.2\"/>\n",
       "<circle clip-path=\"url(#clip592)\" cx=\"986.93\" cy=\"1043.21\" r=\"14\" fill=\"#009af9\" fill-rule=\"evenodd\" fill-opacity=\"1\" stroke=\"#000000\" stroke-opacity=\"1\" stroke-width=\"3.2\"/>\n",
       "<circle clip-path=\"url(#clip592)\" cx=\"1008.28\" cy=\"1179.66\" r=\"14\" fill=\"#009af9\" fill-rule=\"evenodd\" fill-opacity=\"1\" stroke=\"#000000\" stroke-opacity=\"1\" stroke-width=\"3.2\"/>\n",
       "<circle clip-path=\"url(#clip592)\" cx=\"1029.63\" cy=\"1096.41\" r=\"14\" fill=\"#009af9\" fill-rule=\"evenodd\" fill-opacity=\"1\" stroke=\"#000000\" stroke-opacity=\"1\" stroke-width=\"3.2\"/>\n",
       "<circle clip-path=\"url(#clip592)\" cx=\"1050.98\" cy=\"1089.44\" r=\"14\" fill=\"#009af9\" fill-rule=\"evenodd\" fill-opacity=\"1\" stroke=\"#000000\" stroke-opacity=\"1\" stroke-width=\"3.2\"/>\n",
       "<circle clip-path=\"url(#clip592)\" cx=\"1072.33\" cy=\"1061.36\" r=\"14\" fill=\"#009af9\" fill-rule=\"evenodd\" fill-opacity=\"1\" stroke=\"#000000\" stroke-opacity=\"1\" stroke-width=\"3.2\"/>\n",
       "<circle clip-path=\"url(#clip592)\" cx=\"1093.68\" cy=\"1047.06\" r=\"14\" fill=\"#009af9\" fill-rule=\"evenodd\" fill-opacity=\"1\" stroke=\"#000000\" stroke-opacity=\"1\" stroke-width=\"3.2\"/>\n",
       "<circle clip-path=\"url(#clip592)\" cx=\"1115.04\" cy=\"1024.97\" r=\"14\" fill=\"#009af9\" fill-rule=\"evenodd\" fill-opacity=\"1\" stroke=\"#000000\" stroke-opacity=\"1\" stroke-width=\"3.2\"/>\n",
       "<circle clip-path=\"url(#clip592)\" cx=\"1136.39\" cy=\"1036.28\" r=\"14\" fill=\"#009af9\" fill-rule=\"evenodd\" fill-opacity=\"1\" stroke=\"#000000\" stroke-opacity=\"1\" stroke-width=\"3.2\"/>\n",
       "<circle clip-path=\"url(#clip592)\" cx=\"1157.74\" cy=\"985.662\" r=\"14\" fill=\"#009af9\" fill-rule=\"evenodd\" fill-opacity=\"1\" stroke=\"#000000\" stroke-opacity=\"1\" stroke-width=\"3.2\"/>\n",
       "<circle clip-path=\"url(#clip592)\" cx=\"1179.09\" cy=\"995.657\" r=\"14\" fill=\"#009af9\" fill-rule=\"evenodd\" fill-opacity=\"1\" stroke=\"#000000\" stroke-opacity=\"1\" stroke-width=\"3.2\"/>\n",
       "<circle clip-path=\"url(#clip592)\" cx=\"1200.44\" cy=\"936.635\" r=\"14\" fill=\"#009af9\" fill-rule=\"evenodd\" fill-opacity=\"1\" stroke=\"#000000\" stroke-opacity=\"1\" stroke-width=\"3.2\"/>\n",
       "<circle clip-path=\"url(#clip592)\" cx=\"1221.79\" cy=\"1018.96\" r=\"14\" fill=\"#009af9\" fill-rule=\"evenodd\" fill-opacity=\"1\" stroke=\"#000000\" stroke-opacity=\"1\" stroke-width=\"3.2\"/>\n",
       "<circle clip-path=\"url(#clip592)\" cx=\"1243.14\" cy=\"914.482\" r=\"14\" fill=\"#009af9\" fill-rule=\"evenodd\" fill-opacity=\"1\" stroke=\"#000000\" stroke-opacity=\"1\" stroke-width=\"3.2\"/>\n",
       "<circle clip-path=\"url(#clip592)\" cx=\"1264.49\" cy=\"977.665\" r=\"14\" fill=\"#009af9\" fill-rule=\"evenodd\" fill-opacity=\"1\" stroke=\"#000000\" stroke-opacity=\"1\" stroke-width=\"3.2\"/>\n",
       "<circle clip-path=\"url(#clip592)\" cx=\"1285.84\" cy=\"939.861\" r=\"14\" fill=\"#009af9\" fill-rule=\"evenodd\" fill-opacity=\"1\" stroke=\"#000000\" stroke-opacity=\"1\" stroke-width=\"3.2\"/>\n",
       "<circle clip-path=\"url(#clip592)\" cx=\"1307.2\" cy=\"887.023\" r=\"14\" fill=\"#009af9\" fill-rule=\"evenodd\" fill-opacity=\"1\" stroke=\"#000000\" stroke-opacity=\"1\" stroke-width=\"3.2\"/>\n",
       "<circle clip-path=\"url(#clip592)\" cx=\"1328.55\" cy=\"876.24\" r=\"14\" fill=\"#009af9\" fill-rule=\"evenodd\" fill-opacity=\"1\" stroke=\"#000000\" stroke-opacity=\"1\" stroke-width=\"3.2\"/>\n",
       "<circle clip-path=\"url(#clip592)\" cx=\"1349.9\" cy=\"857.738\" r=\"14\" fill=\"#009af9\" fill-rule=\"evenodd\" fill-opacity=\"1\" stroke=\"#000000\" stroke-opacity=\"1\" stroke-width=\"3.2\"/>\n",
       "<circle clip-path=\"url(#clip592)\" cx=\"1371.25\" cy=\"870.241\" r=\"14\" fill=\"#009af9\" fill-rule=\"evenodd\" fill-opacity=\"1\" stroke=\"#000000\" stroke-opacity=\"1\" stroke-width=\"3.2\"/>\n",
       "<circle clip-path=\"url(#clip592)\" cx=\"1392.6\" cy=\"805.207\" r=\"14\" fill=\"#009af9\" fill-rule=\"evenodd\" fill-opacity=\"1\" stroke=\"#000000\" stroke-opacity=\"1\" stroke-width=\"3.2\"/>\n",
       "<circle clip-path=\"url(#clip592)\" cx=\"1413.95\" cy=\"814.796\" r=\"14\" fill=\"#009af9\" fill-rule=\"evenodd\" fill-opacity=\"1\" stroke=\"#000000\" stroke-opacity=\"1\" stroke-width=\"3.2\"/>\n",
       "<circle clip-path=\"url(#clip592)\" cx=\"1435.3\" cy=\"789.628\" r=\"14\" fill=\"#009af9\" fill-rule=\"evenodd\" fill-opacity=\"1\" stroke=\"#000000\" stroke-opacity=\"1\" stroke-width=\"3.2\"/>\n",
       "<circle clip-path=\"url(#clip592)\" cx=\"1456.65\" cy=\"810.878\" r=\"14\" fill=\"#009af9\" fill-rule=\"evenodd\" fill-opacity=\"1\" stroke=\"#000000\" stroke-opacity=\"1\" stroke-width=\"3.2\"/>\n",
       "<circle clip-path=\"url(#clip592)\" cx=\"1478\" cy=\"799.835\" r=\"14\" fill=\"#009af9\" fill-rule=\"evenodd\" fill-opacity=\"1\" stroke=\"#000000\" stroke-opacity=\"1\" stroke-width=\"3.2\"/>\n",
       "<circle clip-path=\"url(#clip592)\" cx=\"1499.35\" cy=\"798.678\" r=\"14\" fill=\"#009af9\" fill-rule=\"evenodd\" fill-opacity=\"1\" stroke=\"#000000\" stroke-opacity=\"1\" stroke-width=\"3.2\"/>\n",
       "<circle clip-path=\"url(#clip592)\" cx=\"1520.71\" cy=\"782.612\" r=\"14\" fill=\"#009af9\" fill-rule=\"evenodd\" fill-opacity=\"1\" stroke=\"#000000\" stroke-opacity=\"1\" stroke-width=\"3.2\"/>\n",
       "<circle clip-path=\"url(#clip592)\" cx=\"1542.06\" cy=\"744.762\" r=\"14\" fill=\"#009af9\" fill-rule=\"evenodd\" fill-opacity=\"1\" stroke=\"#000000\" stroke-opacity=\"1\" stroke-width=\"3.2\"/>\n",
       "<circle clip-path=\"url(#clip592)\" cx=\"1563.41\" cy=\"778.921\" r=\"14\" fill=\"#009af9\" fill-rule=\"evenodd\" fill-opacity=\"1\" stroke=\"#000000\" stroke-opacity=\"1\" stroke-width=\"3.2\"/>\n",
       "<circle clip-path=\"url(#clip592)\" cx=\"1584.76\" cy=\"643.004\" r=\"14\" fill=\"#009af9\" fill-rule=\"evenodd\" fill-opacity=\"1\" stroke=\"#000000\" stroke-opacity=\"1\" stroke-width=\"3.2\"/>\n",
       "<circle clip-path=\"url(#clip592)\" cx=\"1606.11\" cy=\"693.159\" r=\"14\" fill=\"#009af9\" fill-rule=\"evenodd\" fill-opacity=\"1\" stroke=\"#000000\" stroke-opacity=\"1\" stroke-width=\"3.2\"/>\n",
       "<circle clip-path=\"url(#clip592)\" cx=\"1627.46\" cy=\"623.467\" r=\"14\" fill=\"#009af9\" fill-rule=\"evenodd\" fill-opacity=\"1\" stroke=\"#000000\" stroke-opacity=\"1\" stroke-width=\"3.2\"/>\n",
       "<circle clip-path=\"url(#clip592)\" cx=\"1648.81\" cy=\"694.937\" r=\"14\" fill=\"#009af9\" fill-rule=\"evenodd\" fill-opacity=\"1\" stroke=\"#000000\" stroke-opacity=\"1\" stroke-width=\"3.2\"/>\n",
       "<circle clip-path=\"url(#clip592)\" cx=\"1670.16\" cy=\"575.871\" r=\"14\" fill=\"#009af9\" fill-rule=\"evenodd\" fill-opacity=\"1\" stroke=\"#000000\" stroke-opacity=\"1\" stroke-width=\"3.2\"/>\n",
       "<circle clip-path=\"url(#clip592)\" cx=\"1691.51\" cy=\"636.74\" r=\"14\" fill=\"#009af9\" fill-rule=\"evenodd\" fill-opacity=\"1\" stroke=\"#000000\" stroke-opacity=\"1\" stroke-width=\"3.2\"/>\n",
       "<circle clip-path=\"url(#clip592)\" cx=\"1712.87\" cy=\"661.258\" r=\"14\" fill=\"#009af9\" fill-rule=\"evenodd\" fill-opacity=\"1\" stroke=\"#000000\" stroke-opacity=\"1\" stroke-width=\"3.2\"/>\n",
       "<circle clip-path=\"url(#clip592)\" cx=\"1734.22\" cy=\"606.252\" r=\"14\" fill=\"#009af9\" fill-rule=\"evenodd\" fill-opacity=\"1\" stroke=\"#000000\" stroke-opacity=\"1\" stroke-width=\"3.2\"/>\n",
       "<circle clip-path=\"url(#clip592)\" cx=\"1755.57\" cy=\"614.781\" r=\"14\" fill=\"#009af9\" fill-rule=\"evenodd\" fill-opacity=\"1\" stroke=\"#000000\" stroke-opacity=\"1\" stroke-width=\"3.2\"/>\n",
       "<circle clip-path=\"url(#clip592)\" cx=\"1776.92\" cy=\"555.898\" r=\"14\" fill=\"#009af9\" fill-rule=\"evenodd\" fill-opacity=\"1\" stroke=\"#000000\" stroke-opacity=\"1\" stroke-width=\"3.2\"/>\n",
       "<circle clip-path=\"url(#clip592)\" cx=\"1798.27\" cy=\"506.523\" r=\"14\" fill=\"#009af9\" fill-rule=\"evenodd\" fill-opacity=\"1\" stroke=\"#000000\" stroke-opacity=\"1\" stroke-width=\"3.2\"/>\n",
       "<circle clip-path=\"url(#clip592)\" cx=\"1819.62\" cy=\"466.922\" r=\"14\" fill=\"#009af9\" fill-rule=\"evenodd\" fill-opacity=\"1\" stroke=\"#000000\" stroke-opacity=\"1\" stroke-width=\"3.2\"/>\n",
       "<circle clip-path=\"url(#clip592)\" cx=\"1840.97\" cy=\"483.862\" r=\"14\" fill=\"#009af9\" fill-rule=\"evenodd\" fill-opacity=\"1\" stroke=\"#000000\" stroke-opacity=\"1\" stroke-width=\"3.2\"/>\n",
       "<circle clip-path=\"url(#clip592)\" cx=\"1862.32\" cy=\"479.277\" r=\"14\" fill=\"#009af9\" fill-rule=\"evenodd\" fill-opacity=\"1\" stroke=\"#000000\" stroke-opacity=\"1\" stroke-width=\"3.2\"/>\n",
       "<circle clip-path=\"url(#clip592)\" cx=\"1883.67\" cy=\"560.606\" r=\"14\" fill=\"#009af9\" fill-rule=\"evenodd\" fill-opacity=\"1\" stroke=\"#000000\" stroke-opacity=\"1\" stroke-width=\"3.2\"/>\n",
       "<circle clip-path=\"url(#clip592)\" cx=\"1905.02\" cy=\"468.145\" r=\"14\" fill=\"#009af9\" fill-rule=\"evenodd\" fill-opacity=\"1\" stroke=\"#000000\" stroke-opacity=\"1\" stroke-width=\"3.2\"/>\n",
       "<circle clip-path=\"url(#clip592)\" cx=\"1926.38\" cy=\"407.087\" r=\"14\" fill=\"#009af9\" fill-rule=\"evenodd\" fill-opacity=\"1\" stroke=\"#000000\" stroke-opacity=\"1\" stroke-width=\"3.2\"/>\n",
       "<circle clip-path=\"url(#clip592)\" cx=\"1947.73\" cy=\"429.663\" r=\"14\" fill=\"#009af9\" fill-rule=\"evenodd\" fill-opacity=\"1\" stroke=\"#000000\" stroke-opacity=\"1\" stroke-width=\"3.2\"/>\n",
       "<circle clip-path=\"url(#clip592)\" cx=\"1969.08\" cy=\"390.967\" r=\"14\" fill=\"#009af9\" fill-rule=\"evenodd\" fill-opacity=\"1\" stroke=\"#000000\" stroke-opacity=\"1\" stroke-width=\"3.2\"/>\n",
       "<circle clip-path=\"url(#clip592)\" cx=\"1990.43\" cy=\"384.301\" r=\"14\" fill=\"#009af9\" fill-rule=\"evenodd\" fill-opacity=\"1\" stroke=\"#000000\" stroke-opacity=\"1\" stroke-width=\"3.2\"/>\n",
       "<circle clip-path=\"url(#clip592)\" cx=\"2011.78\" cy=\"383.827\" r=\"14\" fill=\"#009af9\" fill-rule=\"evenodd\" fill-opacity=\"1\" stroke=\"#000000\" stroke-opacity=\"1\" stroke-width=\"3.2\"/>\n",
       "<circle clip-path=\"url(#clip592)\" cx=\"2033.13\" cy=\"321.938\" r=\"14\" fill=\"#009af9\" fill-rule=\"evenodd\" fill-opacity=\"1\" stroke=\"#000000\" stroke-opacity=\"1\" stroke-width=\"3.2\"/>\n",
       "<circle clip-path=\"url(#clip592)\" cx=\"2054.48\" cy=\"349.398\" r=\"14\" fill=\"#009af9\" fill-rule=\"evenodd\" fill-opacity=\"1\" stroke=\"#000000\" stroke-opacity=\"1\" stroke-width=\"3.2\"/>\n",
       "<circle clip-path=\"url(#clip592)\" cx=\"2075.83\" cy=\"342.07\" r=\"14\" fill=\"#009af9\" fill-rule=\"evenodd\" fill-opacity=\"1\" stroke=\"#000000\" stroke-opacity=\"1\" stroke-width=\"3.2\"/>\n",
       "<circle clip-path=\"url(#clip592)\" cx=\"2097.18\" cy=\"325.463\" r=\"14\" fill=\"#009af9\" fill-rule=\"evenodd\" fill-opacity=\"1\" stroke=\"#000000\" stroke-opacity=\"1\" stroke-width=\"3.2\"/>\n",
       "<circle clip-path=\"url(#clip592)\" cx=\"2118.53\" cy=\"262.743\" r=\"14\" fill=\"#009af9\" fill-rule=\"evenodd\" fill-opacity=\"1\" stroke=\"#000000\" stroke-opacity=\"1\" stroke-width=\"3.2\"/>\n",
       "<circle clip-path=\"url(#clip592)\" cx=\"2139.89\" cy=\"276.216\" r=\"14\" fill=\"#009af9\" fill-rule=\"evenodd\" fill-opacity=\"1\" stroke=\"#000000\" stroke-opacity=\"1\" stroke-width=\"3.2\"/>\n",
       "<circle clip-path=\"url(#clip592)\" cx=\"2161.24\" cy=\"231.284\" r=\"14\" fill=\"#009af9\" fill-rule=\"evenodd\" fill-opacity=\"1\" stroke=\"#000000\" stroke-opacity=\"1\" stroke-width=\"3.2\"/>\n",
       "<circle clip-path=\"url(#clip592)\" cx=\"2182.59\" cy=\"231.651\" r=\"14\" fill=\"#009af9\" fill-rule=\"evenodd\" fill-opacity=\"1\" stroke=\"#000000\" stroke-opacity=\"1\" stroke-width=\"3.2\"/>\n",
       "<circle clip-path=\"url(#clip592)\" cx=\"2203.94\" cy=\"203.392\" r=\"14\" fill=\"#009af9\" fill-rule=\"evenodd\" fill-opacity=\"1\" stroke=\"#000000\" stroke-opacity=\"1\" stroke-width=\"3.2\"/>\n",
       "<circle clip-path=\"url(#clip592)\" cx=\"2225.29\" cy=\"123.914\" r=\"14\" fill=\"#009af9\" fill-rule=\"evenodd\" fill-opacity=\"1\" stroke=\"#000000\" stroke-opacity=\"1\" stroke-width=\"3.2\"/>\n",
       "<circle clip-path=\"url(#clip592)\" cx=\"2246.64\" cy=\"139.442\" r=\"14\" fill=\"#009af9\" fill-rule=\"evenodd\" fill-opacity=\"1\" stroke=\"#000000\" stroke-opacity=\"1\" stroke-width=\"3.2\"/>\n",
       "<circle clip-path=\"url(#clip592)\" cx=\"2267.99\" cy=\"87.9763\" r=\"14\" fill=\"#009af9\" fill-rule=\"evenodd\" fill-opacity=\"1\" stroke=\"#000000\" stroke-opacity=\"1\" stroke-width=\"3.2\"/>\n",
       "<circle clip-path=\"url(#clip592)\" cx=\"2289.34\" cy=\"191.582\" r=\"14\" fill=\"#009af9\" fill-rule=\"evenodd\" fill-opacity=\"1\" stroke=\"#000000\" stroke-opacity=\"1\" stroke-width=\"3.2\"/>\n",
       "<polyline clip-path=\"url(#clip592)\" style=\"stroke:#e26f46; stroke-linecap:butt; stroke-linejoin:round; stroke-width:4; stroke-opacity:1; fill:none\" points=\"\n",
       "  175.59,1391.78 196.941,1386.86 218.292,1381.77 239.643,1376.52 260.994,1371.1 282.345,1365.52 303.696,1359.78 325.047,1353.87 346.398,1347.8 367.749,1341.56 \n",
       "  389.1,1335.16 410.451,1328.6 431.802,1321.87 453.153,1314.98 474.504,1307.93 495.855,1300.71 517.207,1293.33 538.558,1285.78 559.909,1278.07 581.26,1270.2 \n",
       "  602.611,1262.16 623.962,1253.96 645.313,1245.59 666.664,1237.06 688.015,1228.37 709.366,1219.51 730.717,1210.49 752.068,1201.3 773.419,1191.95 794.77,1182.44 \n",
       "  816.121,1172.76 837.472,1162.92 858.823,1152.92 880.174,1142.75 901.525,1132.42 922.876,1121.92 944.227,1111.26 965.578,1100.44 986.93,1089.45 1008.28,1078.3 \n",
       "  1029.63,1066.98 1050.98,1055.5 1072.33,1043.86 1093.68,1032.05 1115.04,1020.08 1136.39,1007.94 1157.74,995.645 1179.09,983.182 1200.44,970.555 1221.79,957.764 \n",
       "  1243.14,944.81 1264.49,931.692 1285.84,918.409 1307.2,904.963 1328.55,891.353 1349.9,877.579 1371.25,863.642 1392.6,849.54 1413.95,835.274 1435.3,820.845 \n",
       "  1456.65,806.252 1478,791.495 1499.35,776.574 1520.71,761.489 1542.06,746.24 1563.41,730.827 1584.76,715.251 1606.11,699.51 1627.46,683.606 1648.81,667.538 \n",
       "  1670.16,651.306 1691.51,634.91 1712.87,618.35 1734.22,601.626 1755.57,584.739 1776.92,567.687 1798.27,550.472 1819.62,533.093 1840.97,515.549 1862.32,497.842 \n",
       "  1883.67,479.972 1905.02,461.937 1926.38,443.738 1947.73,425.376 1969.08,406.849 1990.43,388.159 2011.78,369.305 2033.13,350.287 2054.48,331.105 2075.83,311.759 \n",
       "  2097.18,292.25 2118.53,272.576 2139.89,252.739 2161.24,232.737 2182.59,212.572 2203.94,192.243 2225.29,171.75 2246.64,151.094 2267.99,130.273 2289.34,109.288 \n",
       "  \n",
       "  \"/>\n",
       "<path clip-path=\"url(#clip590)\" d=\"\n",
       "M1809.03 1438.47 L2278.07 1438.47 L2278.07 1282.95 L1809.03 1282.95  Z\n",
       "  \" fill=\"#ffffff\" fill-rule=\"evenodd\" fill-opacity=\"1\"/>\n",
       "<polyline clip-path=\"url(#clip590)\" style=\"stroke:#000000; stroke-linecap:butt; stroke-linejoin:round; stroke-width:4; stroke-opacity:1; fill:none\" points=\"\n",
       "  1809.03,1438.47 2278.07,1438.47 2278.07,1282.95 1809.03,1282.95 1809.03,1438.47 \n",
       "  \"/>\n",
       "<circle clip-path=\"url(#clip590)\" cx=\"1908.61\" cy=\"1334.79\" r=\"23\" fill=\"#009af9\" fill-rule=\"evenodd\" fill-opacity=\"1\" stroke=\"#000000\" stroke-opacity=\"1\" stroke-width=\"5.12\"/>\n",
       "<path clip-path=\"url(#clip590)\" d=\"M2026.61 1326.91 L2026.61 1330.94 Q2024.81 1330.01 2022.86 1329.55 Q2020.92 1329.09 2018.84 1329.09 Q2015.66 1329.09 2014.07 1330.06 Q2012.49 1331.03 2012.49 1332.98 Q2012.49 1334.46 2013.63 1335.32 Q2014.76 1336.15 2018.19 1336.91 L2019.65 1337.24 Q2024.18 1338.21 2026.08 1339.99 Q2028 1341.75 2028 1344.92 Q2028 1348.53 2025.13 1350.64 Q2022.29 1352.75 2017.29 1352.75 Q2015.2 1352.75 2012.93 1352.33 Q2010.69 1351.94 2008.19 1351.13 L2008.19 1346.73 Q2010.55 1347.95 2012.84 1348.58 Q2015.13 1349.18 2017.38 1349.18 Q2020.39 1349.18 2022.01 1348.16 Q2023.63 1347.12 2023.63 1345.25 Q2023.63 1343.51 2022.45 1342.58 Q2021.29 1341.66 2017.33 1340.8 L2015.85 1340.45 Q2011.89 1339.62 2010.13 1337.91 Q2008.37 1336.17 2008.37 1333.16 Q2008.37 1329.51 2010.97 1327.51 Q2013.56 1325.52 2018.33 1325.52 Q2020.69 1325.52 2022.77 1325.87 Q2024.85 1326.22 2026.61 1326.91 Z\" fill=\"#000000\" fill-rule=\"evenodd\" fill-opacity=\"1\" /><path clip-path=\"url(#clip590)\" d=\"M2046.57 1339.04 Q2041.41 1339.04 2039.41 1340.22 Q2037.42 1341.4 2037.42 1344.25 Q2037.42 1346.52 2038.91 1347.86 Q2040.41 1349.18 2042.98 1349.18 Q2046.52 1349.18 2048.65 1346.68 Q2050.8 1344.16 2050.8 1339.99 L2050.8 1339.04 L2046.57 1339.04 M2055.06 1337.28 L2055.06 1352.07 L2050.8 1352.07 L2050.8 1348.14 Q2049.35 1350.5 2047.17 1351.63 Q2044.99 1352.75 2041.85 1352.75 Q2037.86 1352.75 2035.5 1350.52 Q2033.16 1348.28 2033.16 1344.53 Q2033.16 1340.15 2036.08 1337.93 Q2039.02 1335.71 2044.83 1335.71 L2050.8 1335.71 L2050.8 1335.29 Q2050.8 1332.35 2048.86 1330.76 Q2046.94 1329.13 2043.44 1329.13 Q2041.22 1329.13 2039.11 1329.67 Q2037.01 1330.2 2035.06 1331.26 L2035.06 1327.33 Q2037.4 1326.43 2039.6 1325.99 Q2041.8 1325.52 2043.88 1325.52 Q2049.51 1325.52 2052.28 1328.44 Q2055.06 1331.36 2055.06 1337.28 Z\" fill=\"#000000\" fill-rule=\"evenodd\" fill-opacity=\"1\" /><path clip-path=\"url(#clip590)\" d=\"M2084.02 1331.13 Q2085.62 1328.26 2087.84 1326.89 Q2090.06 1325.52 2093.07 1325.52 Q2097.12 1325.52 2099.32 1328.37 Q2101.52 1331.19 2101.52 1336.43 L2101.52 1352.07 L2097.24 1352.07 L2097.24 1336.57 Q2097.24 1332.84 2095.92 1331.03 Q2094.6 1329.23 2091.89 1329.23 Q2088.58 1329.23 2086.66 1331.43 Q2084.74 1333.63 2084.74 1337.42 L2084.74 1352.07 L2080.46 1352.07 L2080.46 1336.57 Q2080.46 1332.82 2079.14 1331.03 Q2077.82 1329.23 2075.06 1329.23 Q2071.8 1329.23 2069.88 1331.45 Q2067.96 1333.65 2067.96 1337.42 L2067.96 1352.07 L2063.67 1352.07 L2063.67 1326.15 L2067.96 1326.15 L2067.96 1330.18 Q2069.41 1327.79 2071.45 1326.66 Q2073.49 1325.52 2076.29 1325.52 Q2079.11 1325.52 2081.08 1326.96 Q2083.07 1328.39 2084.02 1331.13 Z\" fill=\"#000000\" fill-rule=\"evenodd\" fill-opacity=\"1\" /><path clip-path=\"url(#clip590)\" d=\"M2114.14 1348.19 L2114.14 1361.94 L2109.85 1361.94 L2109.85 1326.15 L2114.14 1326.15 L2114.14 1330.08 Q2115.48 1327.77 2117.52 1326.66 Q2119.58 1325.52 2122.42 1325.52 Q2127.15 1325.52 2130.09 1329.27 Q2133.05 1333.02 2133.05 1339.13 Q2133.05 1345.25 2130.09 1349 Q2127.15 1352.75 2122.42 1352.75 Q2119.58 1352.75 2117.52 1351.63 Q2115.48 1350.5 2114.14 1348.19 M2128.63 1339.13 Q2128.63 1334.44 2126.68 1331.77 Q2124.76 1329.09 2121.38 1329.09 Q2118 1329.09 2116.06 1331.77 Q2114.14 1334.44 2114.14 1339.13 Q2114.14 1343.83 2116.06 1346.52 Q2118 1349.18 2121.38 1349.18 Q2124.76 1349.18 2126.68 1346.52 Q2128.63 1343.83 2128.63 1339.13 Z\" fill=\"#000000\" fill-rule=\"evenodd\" fill-opacity=\"1\" /><path clip-path=\"url(#clip590)\" d=\"M2140.11 1316.06 L2144.37 1316.06 L2144.37 1352.07 L2140.11 1352.07 L2140.11 1316.06 Z\" fill=\"#000000\" fill-rule=\"evenodd\" fill-opacity=\"1\" /><path clip-path=\"url(#clip590)\" d=\"M2175.46 1338.05 L2175.46 1340.13 L2155.87 1340.13 Q2156.15 1344.53 2158.51 1346.84 Q2160.9 1349.13 2165.13 1349.13 Q2167.59 1349.13 2169.88 1348.53 Q2172.19 1347.93 2174.46 1346.73 L2174.46 1350.75 Q2172.17 1351.73 2169.76 1352.24 Q2167.35 1352.75 2164.88 1352.75 Q2158.67 1352.75 2155.04 1349.13 Q2151.43 1345.52 2151.43 1339.37 Q2151.43 1333 2154.85 1329.27 Q2158.3 1325.52 2164.14 1325.52 Q2169.37 1325.52 2172.4 1328.9 Q2175.46 1332.26 2175.46 1338.05 M2171.2 1336.8 Q2171.15 1333.3 2169.23 1331.22 Q2167.33 1329.13 2164.18 1329.13 Q2160.62 1329.13 2158.46 1331.15 Q2156.34 1333.16 2156.01 1336.82 L2171.2 1336.8 Z\" fill=\"#000000\" fill-rule=\"evenodd\" fill-opacity=\"1\" /><path clip-path=\"url(#clip590)\" d=\"M2198.97 1326.91 L2198.97 1330.94 Q2197.17 1330.01 2195.22 1329.55 Q2193.28 1329.09 2191.2 1329.09 Q2188.02 1329.09 2186.43 1330.06 Q2184.85 1331.03 2184.85 1332.98 Q2184.85 1334.46 2185.99 1335.32 Q2187.12 1336.15 2190.55 1336.91 L2192.01 1337.24 Q2196.54 1338.21 2198.44 1339.99 Q2200.36 1341.75 2200.36 1344.92 Q2200.36 1348.53 2197.49 1350.64 Q2194.65 1352.75 2189.65 1352.75 Q2187.56 1352.75 2185.29 1352.33 Q2183.05 1351.94 2180.55 1351.13 L2180.55 1346.73 Q2182.91 1347.95 2185.2 1348.58 Q2187.49 1349.18 2189.74 1349.18 Q2192.75 1349.18 2194.37 1348.16 Q2195.99 1347.12 2195.99 1345.25 Q2195.99 1343.51 2194.81 1342.58 Q2193.65 1341.66 2189.69 1340.8 L2188.21 1340.45 Q2184.25 1339.62 2182.49 1337.91 Q2180.73 1336.17 2180.73 1333.16 Q2180.73 1329.51 2183.33 1327.51 Q2185.92 1325.52 2190.69 1325.52 Q2193.05 1325.52 2195.13 1325.87 Q2197.21 1326.22 2198.97 1326.91 Z\" fill=\"#000000\" fill-rule=\"evenodd\" fill-opacity=\"1\" /><polyline clip-path=\"url(#clip590)\" style=\"stroke:#e26f46; stroke-linecap:butt; stroke-linejoin:round; stroke-width:4; stroke-opacity:1; fill:none\" points=\"\n",
       "  1833.92,1386.63 1983.29,1386.63 \n",
       "  \"/>\n",
       "<path clip-path=\"url(#clip590)\" d=\"M2012.59 1390.97 Q2012.59 1395.67 2014.51 1398.36 Q2016.45 1401.02 2019.83 1401.02 Q2023.21 1401.02 2025.16 1398.36 Q2027.1 1395.67 2027.1 1390.97 Q2027.1 1386.28 2025.16 1383.61 Q2023.21 1380.93 2019.83 1380.93 Q2016.45 1380.93 2014.51 1383.61 Q2012.59 1386.28 2012.59 1390.97 M2027.1 1400.03 Q2025.76 1402.34 2023.7 1403.47 Q2021.66 1404.59 2018.79 1404.59 Q2014.09 1404.59 2011.13 1400.84 Q2008.19 1397.09 2008.19 1390.97 Q2008.19 1384.86 2011.13 1381.11 Q2014.09 1377.36 2018.79 1377.36 Q2021.66 1377.36 2023.7 1378.5 Q2025.76 1379.61 2027.1 1381.92 L2027.1 1377.99 L2031.36 1377.99 L2031.36 1413.78 L2027.1 1413.78 L2027.1 1400.03 Z\" fill=\"#000000\" fill-rule=\"evenodd\" fill-opacity=\"1\" /><path clip-path=\"url(#clip590)\" d=\"M2039.69 1393.68 L2039.69 1377.99 L2043.95 1377.99 L2043.95 1393.52 Q2043.95 1397.2 2045.39 1399.05 Q2046.82 1400.88 2049.69 1400.88 Q2053.14 1400.88 2055.13 1398.68 Q2057.15 1396.48 2057.15 1392.69 L2057.15 1377.99 L2061.41 1377.99 L2061.41 1403.91 L2057.15 1403.91 L2057.15 1399.93 Q2055.6 1402.29 2053.53 1403.45 Q2051.5 1404.59 2048.79 1404.59 Q2044.32 1404.59 2042.01 1401.81 Q2039.69 1399.03 2039.69 1393.68 M2050.41 1377.36 L2050.41 1377.36 Z\" fill=\"#000000\" fill-rule=\"evenodd\" fill-opacity=\"1\" /><path clip-path=\"url(#clip590)\" d=\"M2081.96 1390.88 Q2076.8 1390.88 2074.81 1392.06 Q2072.82 1393.24 2072.82 1396.09 Q2072.82 1398.36 2074.3 1399.7 Q2075.8 1401.02 2078.37 1401.02 Q2081.91 1401.02 2084.04 1398.52 Q2086.2 1396 2086.2 1391.83 L2086.2 1390.88 L2081.96 1390.88 M2090.46 1389.12 L2090.46 1403.91 L2086.2 1403.91 L2086.2 1399.98 Q2084.74 1402.34 2082.56 1403.47 Q2080.39 1404.59 2077.24 1404.59 Q2073.26 1404.59 2070.9 1402.36 Q2068.56 1400.12 2068.56 1396.37 Q2068.56 1391.99 2071.47 1389.77 Q2074.41 1387.55 2080.22 1387.55 L2086.2 1387.55 L2086.2 1387.13 Q2086.2 1384.19 2084.25 1382.6 Q2082.33 1380.97 2078.84 1380.97 Q2076.61 1380.97 2074.51 1381.51 Q2072.4 1382.04 2070.46 1383.1 L2070.46 1379.17 Q2072.79 1378.27 2074.99 1377.83 Q2077.19 1377.36 2079.28 1377.36 Q2084.9 1377.36 2087.68 1380.28 Q2090.46 1383.2 2090.46 1389.12 Z\" fill=\"#000000\" fill-rule=\"evenodd\" fill-opacity=\"1\" /><path clip-path=\"url(#clip590)\" d=\"M2116.29 1381.92 L2116.29 1367.9 L2120.55 1367.9 L2120.55 1403.91 L2116.29 1403.91 L2116.29 1400.03 Q2114.95 1402.34 2112.89 1403.47 Q2110.85 1404.59 2107.98 1404.59 Q2103.28 1404.59 2100.32 1400.84 Q2097.38 1397.09 2097.38 1390.97 Q2097.38 1384.86 2100.32 1381.11 Q2103.28 1377.36 2107.98 1377.36 Q2110.85 1377.36 2112.89 1378.5 Q2114.95 1379.61 2116.29 1381.92 M2101.78 1390.97 Q2101.78 1395.67 2103.7 1398.36 Q2105.64 1401.02 2109.02 1401.02 Q2112.4 1401.02 2114.34 1398.36 Q2116.29 1395.67 2116.29 1390.97 Q2116.29 1386.28 2114.34 1383.61 Q2112.4 1380.93 2109.02 1380.93 Q2105.64 1380.93 2103.7 1383.61 Q2101.78 1386.28 2101.78 1390.97 Z\" fill=\"#000000\" fill-rule=\"evenodd\" fill-opacity=\"1\" /><path clip-path=\"url(#clip590)\" d=\"M2144.34 1381.97 Q2143.63 1381.55 2142.77 1381.37 Q2141.94 1381.16 2140.92 1381.16 Q2137.31 1381.16 2135.36 1383.52 Q2133.44 1385.86 2133.44 1390.26 L2133.44 1403.91 L2129.16 1403.91 L2129.16 1377.99 L2133.44 1377.99 L2133.44 1382.02 Q2134.78 1379.66 2136.94 1378.52 Q2139.09 1377.36 2142.17 1377.36 Q2142.61 1377.36 2143.14 1377.43 Q2143.67 1377.48 2144.32 1377.6 L2144.34 1381.97 Z\" fill=\"#000000\" fill-rule=\"evenodd\" fill-opacity=\"1\" /><path clip-path=\"url(#clip590)\" d=\"M2160.59 1390.88 Q2155.43 1390.88 2153.44 1392.06 Q2151.45 1393.24 2151.45 1396.09 Q2151.45 1398.36 2152.93 1399.7 Q2154.44 1401.02 2157.01 1401.02 Q2160.55 1401.02 2162.68 1398.52 Q2164.83 1396 2164.83 1391.83 L2164.83 1390.88 L2160.59 1390.88 M2169.09 1389.12 L2169.09 1403.91 L2164.83 1403.91 L2164.83 1399.98 Q2163.37 1402.34 2161.2 1403.47 Q2159.02 1404.59 2155.87 1404.59 Q2151.89 1404.59 2149.53 1402.36 Q2147.19 1400.12 2147.19 1396.37 Q2147.19 1391.99 2150.11 1389.77 Q2153.05 1387.55 2158.86 1387.55 L2164.83 1387.55 L2164.83 1387.13 Q2164.83 1384.19 2162.89 1382.6 Q2160.96 1380.97 2157.47 1380.97 Q2155.25 1380.97 2153.14 1381.51 Q2151.03 1382.04 2149.09 1383.1 L2149.09 1379.17 Q2151.43 1378.27 2153.63 1377.83 Q2155.83 1377.36 2157.91 1377.36 Q2163.53 1377.36 2166.31 1380.28 Q2169.09 1383.2 2169.09 1389.12 Z\" fill=\"#000000\" fill-rule=\"evenodd\" fill-opacity=\"1\" /><path clip-path=\"url(#clip590)\" d=\"M2182.08 1370.63 L2182.08 1377.99 L2190.85 1377.99 L2190.85 1381.3 L2182.08 1381.3 L2182.08 1395.37 Q2182.08 1398.54 2182.93 1399.45 Q2183.81 1400.35 2186.47 1400.35 L2190.85 1400.35 L2190.85 1403.91 L2186.47 1403.91 Q2181.54 1403.91 2179.67 1402.09 Q2177.79 1400.23 2177.79 1395.37 L2177.79 1381.3 L2174.67 1381.3 L2174.67 1377.99 L2177.79 1377.99 L2177.79 1370.63 L2182.08 1370.63 Z\" fill=\"#000000\" fill-rule=\"evenodd\" fill-opacity=\"1\" /><path clip-path=\"url(#clip590)\" d=\"M2196.45 1377.99 L2200.71 1377.99 L2200.71 1403.91 L2196.45 1403.91 L2196.45 1377.99 M2196.45 1367.9 L2200.71 1367.9 L2200.71 1373.29 L2196.45 1373.29 L2196.45 1367.9 Z\" fill=\"#000000\" fill-rule=\"evenodd\" fill-opacity=\"1\" /><path clip-path=\"url(#clip590)\" d=\"M2228.28 1378.98 L2228.28 1382.97 Q2226.47 1381.97 2224.65 1381.48 Q2222.84 1380.97 2220.99 1380.97 Q2216.84 1380.97 2214.55 1383.61 Q2212.26 1386.23 2212.26 1390.97 Q2212.26 1395.72 2214.55 1398.36 Q2216.84 1400.97 2220.99 1400.97 Q2222.84 1400.97 2224.65 1400.49 Q2226.47 1399.98 2228.28 1398.98 L2228.28 1402.92 Q2226.5 1403.75 2224.58 1404.17 Q2222.68 1404.59 2220.52 1404.59 Q2214.67 1404.59 2211.22 1400.91 Q2207.77 1397.22 2207.77 1390.97 Q2207.77 1384.63 2211.24 1381 Q2214.74 1377.36 2220.8 1377.36 Q2222.77 1377.36 2224.65 1377.78 Q2226.52 1378.17 2228.28 1378.98 Z\" fill=\"#000000\" fill-rule=\"evenodd\" fill-opacity=\"1\" /></svg>\n"
      ]
     },
     "execution_count": 3,
     "metadata": {},
     "output_type": "execute_result"
    }
   ],
   "source": [
    "p = x -> a + b*x + c*x^2\n",
    "\n",
    "scatter(x, f; label=\"samples\", legend=:bottomright)\n",
    "plot!(x, p.(x); label=\"quadratic\")"
   ]
  },
  {
   "cell_type": "markdown",
   "metadata": {},
   "source": [
    "Note that `\\` with a rectangular system does the least squares by default:"
   ]
  },
  {
   "cell_type": "code",
   "execution_count": 4,
   "metadata": {
    "execution": {
     "iopub.execute_input": "2022-01-27T12:55:14.661873Z",
     "iopub.status.busy": "2022-01-27T12:55:14.661378Z",
     "iopub.status.idle": "2022-01-27T12:55:14.664479Z",
     "shell.execute_reply": "2022-01-27T12:55:14.663952Z"
    }
   },
   "outputs": [
    {
     "data": {
      "text/plain": [
       "3-element Vector{Float64}:\n",
       " 1.9934055375607993\n",
       " 1.100512197336599\n",
       " 1.8435561578617752"
      ]
     },
     "execution_count": 4,
     "metadata": {},
     "output_type": "execute_result"
    }
   ],
   "source": [
    "A \\ f"
   ]
  },
  {
   "cell_type": "markdown",
   "metadata": {},
   "source": [
    "### Gram–Schmidt and reduced QR\n",
    "\n",
    "\n",
    "How do we compute the QR decomposition? We begin with a method\n",
    "you may have seen before in another guise. Write\n",
    "$$\n",
    "A = \\begin{bmatrix} 𝐚_1 | \\dots | 𝐚_n \\end{bmatrix}\n",
    "$$\n",
    "where $𝐚_k \\in  ℝ^m$.\n",
    "Note that the column span of the first $j$ columns of $A$\n",
    "will be the same as the first $j$ columns of $Q̂$, assuming that \n",
    "$R̂$ is non-singular:\n",
    "$$\n",
    "\\hbox{span}(𝐚_1,\\ldots,𝐚_j) = \\hbox{span}(𝐪_1,\\ldots,𝐪_j)\n",
    "$$\n",
    "In other words: the columns of $Q̂$ are an orthogonal basis\n",
    "of the column span of $A$.\n",
    "To see thism note that since `R̂` is triangular we have\n",
    "$$\n",
    "\\begin{bmatrix} 𝐚_1 | \\dots | 𝐚_j \\end{bmatrix} = \\begin{bmatrix} 𝐪_1 | \\dots | 𝐪_j \\end{bmatrix} * R̂[1:j,1:j]\n",
    "$$\n",
    "for all $j$.\n",
    " \n",
    "It is possible to find an orthogonal basis using the _Gram–Schmidt algorithm_,\n",
    "We construct it via induction:\n",
    "assume that\n",
    "$$\n",
    "\\hbox{span}(𝐚_1,\\ldots,𝐚_{j-1}) = \\hbox{span}(𝐪_1,\\ldots,𝐪_{j-1})\n",
    "$$\n",
    "where $𝐪_1,\\ldots,𝐪_{j-1}$ are orthogonal:\n",
    "$$\n",
    "𝐪_k^\\top 𝐪_ℓ = δ_{kℓ} = \\begin{cases} 1 & k  ℓ \\\\\n",
    "                                            0 & \\hbox{otherwise} \\end{cases}.\n",
    "$$\n",
    "for $k,ℓ < 1$.\n",
    "Define\n",
    "$$\n",
    "𝐯_j := 𝐚_j - \\sum_{k=1}^{j-1} \\underbrace{𝐪_k^\\top 𝐚_j}_{r_{kj}} 𝐪_k\n",
    "$$\n",
    "so that for $k < j$\n",
    "$$\n",
    "𝐪_k^\\top 𝐯_j = 𝐪_k^\\top 𝐚_j - \\sum_{k=1}^{j-1} \\underbrace{𝐪_k^\\top 𝐚_j}_{r_{kj}} 𝐪_k^\\top 𝐪_k = 0.\n",
    "$$\n",
    "Then we define\n",
    "$$\n",
    "𝐪_j := {𝐯_j \\over \\|𝐯_j\\|}.\n",
    "$$\n",
    "which sastisfies the same properties as the assumption.\n",
    "\n",
    "We now reinterpret this construction as a reduced QR decomposition.\n",
    "Define\n",
    "$$\n",
    "r_{jj} := {\\|𝐯_j\\|}, \\qquad r_{kj} := r_{kj}.\n",
    "$$\n",
    "Then rearrange the definition we have\n",
    "$$\n",
    "𝐚_j = \\begin{bmatrix} 𝐪_1|\\cdots|𝐪_j \\end{bmatrix} \\begin{bmatrix} r_{1j} \\\\ \\vdots \\\\ r_{jj} \\end{bmatrix}\n",
    "$$\n",
    "Thus\n",
    "$$\n",
    "\\begin{bmatrix} 𝐚_1|\\cdots|𝐚_j \\end{bmatrix} \n",
    "\\begin{bmatrix} r_{11} & \\cdots & r_{1j} \\\\ & \\ddots & \\vdots \\\\ && r_{jj} \\end{bmatrix}\n",
    "$$\n",
    "That is, we are computing the reduced QR decomposition column-by-column. Running this algorithm to $j = n$ completes the decomposition.\n",
    "\n",
    "We now see this in action: we are going to compute the reduced QR of a random matrix"
   ]
  },
  {
   "cell_type": "code",
   "execution_count": 5,
   "metadata": {
    "execution": {
     "iopub.execute_input": "2022-01-27T12:55:14.666477Z",
     "iopub.status.busy": "2022-01-27T12:55:14.665976Z",
     "iopub.status.idle": "2022-01-27T12:55:15.178848Z",
     "shell.execute_reply": "2022-01-27T12:55:15.178386Z"
    }
   },
   "outputs": [
    {
     "data": {
      "text/plain": [
       "5×4 Matrix{Float64}:\n",
       " -0.369696    0.756191    0.0790538  -0.462543\n",
       "  0.0909861  -0.457487   -0.0727869  -0.878095\n",
       " -0.297037    0.0910467  -0.87819     0.0267829\n",
       "  0.0464023   0.249774    0.374698   -0.0775168\n",
       " -0.87445    -0.384973    0.277195    0.090975"
      ]
     },
     "execution_count": 5,
     "metadata": {},
     "output_type": "execute_result"
    }
   ],
   "source": [
    "m,n = 5,4\n",
    "A = randn(m,n)\n",
    "Q,R̂ = qr(A)\n",
    "Q̂ = Q[:,1:n]"
   ]
  },
  {
   "cell_type": "code",
   "execution_count": 6,
   "metadata": {
    "execution": {
     "iopub.execute_input": "2022-01-27T12:55:15.180723Z",
     "iopub.status.busy": "2022-01-27T12:55:15.180201Z",
     "iopub.status.idle": "2022-01-27T12:55:15.183354Z",
     "shell.execute_reply": "2022-01-27T12:55:15.182968Z"
    }
   },
   "outputs": [
    {
     "data": {
      "text/plain": [
       "4×4 Matrix{Float64}:\n",
       " 1.64104  -0.396842  -1.02978   0.461145\n",
       " 0.0      -1.86871   -0.945953  0.850716\n",
       " 0.0       0.0       -2.31435   0.590741\n",
       " 0.0       0.0        0.0       2.00013"
      ]
     },
     "execution_count": 6,
     "metadata": {},
     "output_type": "execute_result"
    }
   ],
   "source": [
    "R̂"
   ]
  },
  {
   "cell_type": "markdown",
   "metadata": {},
   "source": [
    "The first column of `Q̂` is indeed a normalised first column of `A`:"
   ]
  },
  {
   "cell_type": "code",
   "execution_count": 7,
   "metadata": {
    "execution": {
     "iopub.execute_input": "2022-01-27T12:55:15.185164Z",
     "iopub.status.busy": "2022-01-27T12:55:15.184670Z",
     "iopub.status.idle": "2022-01-27T12:55:15.356485Z",
     "shell.execute_reply": "2022-01-27T12:55:15.356024Z"
    }
   },
   "outputs": [
    {
     "data": {
      "text/plain": [
       "5-element Vector{Float64}:\n",
       " -0.36969570259539347\n",
       "  0.09098614771064727\n",
       " -0.29703665012362696\n",
       "  0.046402266072449544\n",
       " -0.8744499222905507"
      ]
     },
     "execution_count": 7,
     "metadata": {},
     "output_type": "execute_result"
    }
   ],
   "source": [
    "R = zeros(n,n)\n",
    "Q = zeros(m,n)\n",
    "R[1,1] = norm(A[:,1])\n",
    "Q[:,1] = A[:,1]/R[1,1]"
   ]
  },
  {
   "cell_type": "markdown",
   "metadata": {},
   "source": [
    "We now determine the next entries as"
   ]
  },
  {
   "cell_type": "code",
   "execution_count": 8,
   "metadata": {
    "execution": {
     "iopub.execute_input": "2022-01-27T12:55:15.358897Z",
     "iopub.status.busy": "2022-01-27T12:55:15.358168Z",
     "iopub.status.idle": "2022-01-27T12:55:15.458780Z",
     "shell.execute_reply": "2022-01-27T12:55:15.458167Z"
    }
   },
   "outputs": [
    {
     "data": {
      "text/plain": [
       "5-element Vector{Float64}:\n",
       " -0.7561912188542081\n",
       "  0.4574866564648364\n",
       " -0.09104665086586611\n",
       " -0.2497739161085708\n",
       "  0.3849731131940379"
      ]
     },
     "execution_count": 8,
     "metadata": {},
     "output_type": "execute_result"
    }
   ],
   "source": [
    "R[1,2] = Q[:,1]'A[:,2]\n",
    "v = A[:,2] - Q[:,1]*R[1,2]\n",
    "R[2,2] = norm(v)\n",
    "Q[:,2] = v/R[2,2]"
   ]
  },
  {
   "cell_type": "markdown",
   "metadata": {},
   "source": [
    "And the third column is then:"
   ]
  },
  {
   "cell_type": "code",
   "execution_count": 9,
   "metadata": {
    "execution": {
     "iopub.execute_input": "2022-01-27T12:55:15.461290Z",
     "iopub.status.busy": "2022-01-27T12:55:15.460785Z",
     "iopub.status.idle": "2022-01-27T12:55:15.508941Z",
     "shell.execute_reply": "2022-01-27T12:55:15.508528Z"
    }
   },
   "outputs": [
    {
     "data": {
      "text/plain": [
       "5-element Vector{Float64}:\n",
       " -0.07905381801563263\n",
       "  0.07278690174258332\n",
       "  0.8781895117748354\n",
       " -0.3746983472903358\n",
       " -0.2771946802130837"
      ]
     },
     "execution_count": 9,
     "metadata": {},
     "output_type": "execute_result"
    }
   ],
   "source": [
    "R[1,3] = Q[:,1]'A[:,3]\n",
    "R[2,3] = Q[:,2]'A[:,3]\n",
    "v = A[:,3] - Q[:,1:2]*R[1:2,3]\n",
    "R[3,3] = norm(v)\n",
    "Q[:,3] = v/R[3,3]"
   ]
  },
  {
   "cell_type": "markdown",
   "metadata": {},
   "source": [
    "(Note the signs may not necessarily match.)\n",
    "\n",
    "We can clean this up as a simple algorithm:"
   ]
  },
  {
   "cell_type": "code",
   "execution_count": 10,
   "metadata": {
    "execution": {
     "iopub.execute_input": "2022-01-27T12:55:15.511464Z",
     "iopub.status.busy": "2022-01-27T12:55:15.510935Z",
     "iopub.status.idle": "2022-01-27T12:55:16.477501Z",
     "shell.execute_reply": "2022-01-27T12:55:16.476981Z"
    }
   },
   "outputs": [
    {
     "data": {
      "text/plain": [
       "2.8313748239171495e-16"
      ]
     },
     "execution_count": 10,
     "metadata": {},
     "output_type": "execute_result"
    }
   ],
   "source": [
    "function gramschmidt(A)\n",
    "    m,n = size(A)\n",
    "    m ≥ n || error(\"Not supported\")\n",
    "    R = zeros(n,n)\n",
    "    Q = zeros(m,n)\n",
    "    for j = 1:n\n",
    "        for k = 1:j-1\n",
    "            R[k,j] = Q[:,k]'*A[:,j]\n",
    "        end\n",
    "        v = A[:,j] - Q[:,1:j-1]*R[1:j-1,j]\n",
    "        R[j,j] = norm(v)\n",
    "        Q[:,j] = v/R[j,j]\n",
    "    end\n",
    "    Q,R\n",
    "end\n",
    "\n",
    "Q,R = gramschmidt(A)\n",
    "norm(A - Q*R)"
   ]
  },
  {
   "cell_type": "markdown",
   "metadata": {},
   "source": [
    "Unfortunately, the Gram–Schmidt algorithm is _unstable_: the rounding errors when implemented in floating point\n",
    "accumulate in a way that we lose orthogonality:"
   ]
  },
  {
   "cell_type": "code",
   "execution_count": 11,
   "metadata": {
    "execution": {
     "iopub.execute_input": "2022-01-27T12:55:16.479471Z",
     "iopub.status.busy": "2022-01-27T12:55:16.478952Z",
     "iopub.status.idle": "2022-01-27T12:55:16.757110Z",
     "shell.execute_reply": "2022-01-27T12:55:16.756671Z"
    }
   },
   "outputs": [
    {
     "data": {
      "text/plain": [
       "1.0802568964667228e-10"
      ]
     },
     "execution_count": 11,
     "metadata": {},
     "output_type": "execute_result"
    }
   ],
   "source": [
    "A = randn(300,300)\n",
    "Q,R = gramschmidt(A)\n",
    "norm(Q'Q-I)"
   ]
  },
  {
   "cell_type": "markdown",
   "metadata": {},
   "source": [
    "### Householder reflections and QR\n",
    "\n",
    "As an alternative, we will consider using Householder reflections to introduce zeros below\n",
    "the diagonal.\n",
    "Thus, if Gram–Schmidt is a process of _triangular orthogonalisation_ (using triangular matrices\n",
    "to orthogonalise), Householder reflections is a process of _orthogonal triangularisation_ \n",
    "(using orthogonal matrices to triangularise).\n",
    "\n",
    "Consider multiplication by the Householder reflection corresponding to the first column,\n",
    "that is, for\n",
    "$$\n",
    "Q_1 := Q_{𝐚_1}^{\\rm H},\n",
    "$$\n",
    "consider\n",
    "$$\n",
    "Q_1 A = \\begin{bmatrix} \\times & \\times & \\cdots & \\times \\\\\n",
    "& \\times & \\cdots & \\times \\\\\n",
    "                    & \\vdots & \\ddots & \\vdots \\\\\n",
    "                    & \\times & \\cdots & \\times \\end{bmatrix} = \n",
    "\\begin{bmatrix} r_{11} & r_{12} & \\cdots & r_{1n} \\\\ \n",
    "& 𝐚_2^1 & \\cdots & 𝐚_n^1   \\end{bmatrix}\n",
    "$$\n",
    "where \n",
    "$$\n",
    "r_{1j} :=  (Q_1 𝐚_j)[1] \\qquad \\hbox{and} \\qquad 𝐚_j^1 := (Q_1 𝐚_j)[2:m],\n",
    "$$\n",
    "noting $r_{11} = -\\hbox{sign}(a_{11})\\|𝐚_1\\|$ and all entries of $𝐚_1^1$ are zero (thus not included).\n",
    "That is, we have made the first column triangular.\n",
    "\n",
    "But now consider\n",
    "$$\n",
    "Q_2 := \\begin{bmatrix} 1  \\\\ & Q_{𝐚_2^1}^{\\rm H} \\end{bmatrix} = Q_{\\begin{bmatrix} 0 \\\\ 𝐚_2^1 \\end{bmatrix}}^H\n",
    "$$\n",
    "so that\n",
    "$$\n",
    "Q_2 Q_1A = \\begin{bmatrix} \\times & \\times & \\times & \\cdots & \\times \\\\\n",
    "& \\times & \\times  & \\cdots & \\times \\\\\n",
    "                    && \\vdots & \\ddots & \\vdots \\\\\n",
    "                    && \\times & \\cdots & \\times \\end{bmatrix}  =  \\begin{bmatrix} r_{11} & r_{12} & r_{13} & \\cdots & r_{1n} \\\\ \n",
    "    & r_{22} & r_{23} & \\cdots & r_{2n} \\\\\n",
    "&& 𝐚_3^2 & \\cdots & 𝐚_n^2   \\end{bmatrix}\n",
    "$$\n",
    "where \n",
    "$$\n",
    "r_{2j} :=  (Q_2 𝐚_j^1)[1] \\qquad \\hbox{and} \\qquad 𝐚_j^2 := (Q_2 𝐚_j^1)[2:m-1]\n",
    "$$\n",
    "Thus the first two columns are triangular. \n",
    "\n",
    "The inductive construction is thus clear. If we define $𝐚_j^0 := 𝐚_j$ we\n",
    "have the construction\n",
    "$$\n",
    "\\begin{align*}\n",
    "Q_j &:= \\begin{bmatrix} I_{j-1 \\times j-1}  \\\\ & Q_{𝐚_j^j}^{±,\\rm H} \\end{bmatrix} \\\\\n",
    "𝐚_j^k &:= (Q_k 𝐚_j^{k-1})[2:m-k+1] \\\\\n",
    "r_{kj} &:= (Q_k 𝐚_j^{k-1})[1]\n",
    "\\end{align*}\n",
    "$$\n",
    "Then\n",
    "$$\n",
    "Q_n \\cdots Q_1 A = \\underbrace{\\begin{bmatrix} \n",
    "r_{11} & \\cdots & r_{1n} \\\\ & \\ddots & \\vdots\\\\\n",
    "                                        && r_{nn} \\\\&& 0 \\\\ && \\vdots \\\\ && 0 \\end{bmatrix}}_R\n",
    "$$\n",
    "i.e.\n",
    "$$\n",
    "A = \\underbrace{Q_n \\cdots Q_1}_Q R.\n",
    "$$\n",
    "\n",
    "The implementation is cleaner. We do a naive implementation here:"
   ]
  },
  {
   "cell_type": "code",
   "execution_count": 12,
   "metadata": {
    "execution": {
     "iopub.execute_input": "2022-01-27T12:55:16.759211Z",
     "iopub.status.busy": "2022-01-27T12:55:16.758530Z",
     "iopub.status.idle": "2022-01-27T12:55:17.181006Z",
     "shell.execute_reply": "2022-01-27T12:55:17.180542Z"
    }
   },
   "outputs": [
    {
     "data": {
      "text/plain": [
       "true"
      ]
     },
     "execution_count": 12,
     "metadata": {},
     "output_type": "execute_result"
    }
   ],
   "source": [
    "function householderreflection(x)\n",
    "    y = copy(x)\n",
    "    # we cannot use sign(x[1]) in case x[1] == 0\n",
    "    y[1] += (x[1] ≥ 0 ? 1 : -1)*norm(x) \n",
    "    w = y/norm(y)\n",
    "    I - 2*w*w'\n",
    "end\n",
    "function householderqr(A)\n",
    "    m,n = size(A)\n",
    "    R = copy(A)\n",
    "    Q = Matrix(1.0I, m, m)\n",
    "    for j = 1:n\n",
    "        Qⱼ = householderreflection(R[j:end,j])\n",
    "        R[j:end,:] = Qⱼ*R[j:end,:]\n",
    "        Q[:,j:end] = Q[:,j:end]*Qⱼ\n",
    "    end\n",
    "    Q,R\n",
    "end\n",
    "\n",
    "m,n = 7,5\n",
    "A = randn(m, n)\n",
    "Q,R = householderqr(A)\n",
    "Q*R ≈ A"
   ]
  },
  {
   "cell_type": "markdown",
   "metadata": {},
   "source": [
    "Note because we are forming a full matrix representation of each Householder\n",
    "reflection this is a slow algorithm, taking $O(n^4)$ operations. The problem sheet\n",
    "will consider a better implementation that takes $O(n^3)$ operations.\n",
    "\n",
    "\n",
    "**Example** We will now do an example by hand. Consider the $4 \\times 3$ matrix\n",
    "$$\n",
    "A = \\begin{bmatrix} \n",
    "1 & 2 & -1 \\\\ \n",
    "0 & 15 & 18 \\\\\n",
    "-2 & -4 & -4 \\\\\n",
    "-2 & -4 & -10\n",
    "\\end{bmatrix}\n",
    "$$\n",
    "For the first column we have\n",
    "$$\n",
    "Q_1 = I - {1 \\over 12} \\begin{bmatrix} 4 \\\\ 0 \\\\ -2 \\\\ -2 \\end{bmatrix} \\begin{bmatrix} 4 & 0 & -2 & -2 \\end{bmatrix} =\n",
    "{1 \\over 3} \\begin{bmatrix}\n",
    "-1 & 0 & 2 & 2 \\\\\n",
    "0 & 3 & 0 & 0 \\\\\n",
    "2 & 0 & 2 & -1 \\\\\n",
    "2 & 0 & -1 &2\n",
    "\\end{bmatrix}\n",
    "$$\n",
    "so that\n",
    "$$\n",
    "Q_1 A = \\begin{bmatrix} -3 & -6 & -9 \\\\\n",
    " & 15 & 18 \\\\\n",
    "  & 0 & 0 \\\\\n",
    "& 0 & -6\n",
    "\\end{bmatrix}\n",
    "$$\n",
    "In this example the next column is already upper-triangular,\n",
    "but because of our choice of reflection we will end up swapping the sign, that is\n",
    "$$\n",
    "Q_2 = \\begin{bmatrix} 1 \\\\ & -1 \\\\ && 1 \\\\ &&& 1 \\end{bmatrix}\n",
    "$$\n",
    "so that\n",
    "$$\n",
    "Q_2 Q_1 A = \\begin{bmatrix} -3 & -6 & -9 \\\\\n",
    " & -15 & -18 \\\\\n",
    "  & 0 & 0 \\\\\n",
    "& 0 & -6\n",
    "\\end{bmatrix}\n",
    "$$\n",
    "The final reflection is\n",
    "$$\n",
    "Q_3 = \\begin{bmatrix} I_{2 \\times 2} \\\\ &  I - \\begin{bmatrix} 1 \\\\ -1 \\end{bmatrix} \\begin{bmatrix}1 & -1 \\end{bmatrix} \n",
    "\\end{bmatrix}= \\begin{bmatrix}1 \\\\ & 1 \\\\ & & 0 & 1 \\\\ & & 1 & 0 \\end{bmatrix}\n",
    "$$\n",
    "giving us\n",
    "$$\n",
    "Q_3 Q_2 Q_1 A = \\underbrace{\\begin{bmatrix} -3 & -6 & -9 \\\\\n",
    " & -15 & -18 \\\\\n",
    "  &  & -6 \\\\\n",
    "&  & 0\n",
    "\\end{bmatrix}}_R\n",
    "$$\n",
    "That is,\n",
    "$$\n",
    "A = Q_1 Q_2 Q_3 R = \\underbrace{{1 \\over 3} \\begin{bmatrix}\n",
    "-1 & 0 & 2 & 2 \\\\\n",
    "0 & 3 & 0 & 0 \\\\\n",
    "2 & 0 & -1 & 2 \\\\\n",
    "2 & 0 & 2 &-1\n",
    "\\end{bmatrix}}_Q \\underbrace{\\begin{bmatrix} -3 & -6 & -9 \\\\\n",
    " & -15 & -18 \\\\\n",
    "  &  & -6 \\\\\n",
    "&  & 0\n",
    "\\end{bmatrix}}_R = \\underbrace{{1 \\over 3} \\begin{bmatrix}\n",
    "-1 & 0 & 2  \\\\\n",
    "0 & 3 & 0  \\\\\n",
    "2 & 0 & -1  \\\\\n",
    "2 & 0 & 2 \n",
    "\\end{bmatrix}}_Q̂  \\underbrace{\\begin{bmatrix} -3 & -6 & -9 \\\\\n",
    " & -15 & -18 \\\\\n",
    "  &  & -6 \n",
    "\\end{bmatrix}}_R̂\n",
    "$$\n",
    "\n",
    "\n",
    "\n",
    "## 2. PLU Decomposition\n",
    "\n",
    "Just as Gram–Schmidt can be reinterpreted as a reduced QR decomposition,\n",
    "Gaussian elimination with pivoting can be interpreted as a PLU decomposition.\n",
    "\n",
    "\n",
    "### LU Decomposition\n",
    "\n",
    "Before discussing pivoting, consider standard Gaussian elimation where one row-reduces\n",
    "to introduce zeros column-by-column. We will mimick the computation of the QR decomposition\n",
    "to view this as a _triangular triangularisation_.\n",
    "\n",
    "Consider the matrix\n",
    "$$\n",
    "L_𝐯 = \\begin{bmatrix} 1 \\\\ -{v_2 \\over v_1} & 1 \\\\ \\vdots &&\\ddots \\\\\n",
    "                -{v_n \\over v_1}  &&& 1\n",
    "                \\end{bmatrix} = I -\\left[{𝐯 \\over v_1}  - 𝐞_1 \\right] 𝐞_1^\\top\n",
    "$$\n",
    "so that\n",
    "$$\n",
    "L_𝐯 𝐯 = 𝐯 - (𝐯 - v_1 𝐞_1) = v_1 𝐞_1.\n",
    "$$\n",
    "\n",
    "\n",
    "\n",
    "For $L_1 := L_{𝐚_1}$ we have \n",
    "$$\n",
    "L_1 A =  \\begin{bmatrix} u_{11} & u_{12} & \\cdots & u_{1n} \\\\ \n",
    "& 𝐚_2^1 & \\cdots & 𝐚_n^1   \\end{bmatrix}\n",
    "$$\n",
    "where $𝐚_j^1 := (L_1 𝐚_j)[2:m]$ and $u_{1j} = a_{1j}$. But now consider\n",
    "$$\n",
    "L_2 := \\begin{bmatrix} 1  \\\\ & L_{𝐚_2^1} \\end{bmatrix}.\n",
    "$$\n",
    "Then\n",
    "$$\n",
    "L_2 L_1 A = \\begin{bmatrix} u_{11} & u_{12} & u_{13} & \\cdots & u_{1n} \\\\ \n",
    "    & u_{22} & u_{23} & \\cdots & u_{2n} \\\\\n",
    "&& 𝐚_3^2 & \\cdots & 𝐚_n^2   \\end{bmatrix}\n",
    "$$\n",
    "where \n",
    "$$\n",
    "r_{2j} :=  (𝐚_j^1)[1] \\qquad \\hbox{and} \\qquad 𝐚_j^2 := (L_2 𝐚_j^1)[2:m-1]\n",
    "$$\n",
    "Thus the first two columns are triangular. \n",
    "\n",
    "The inductive construction is again clear. If we define $𝐚_j^0 := 𝐚_j$ we\n",
    "have the construction\n",
    "$$\n",
    "\\begin{align*}\n",
    "L_j &:= \\begin{bmatrix} I_{j-1 \\times j-1}  \\\\ & L_{𝐚_j^j} \\end{bmatrix} \\\\\n",
    "𝐚_j^k &:= (L_k 𝐚_j^{k-1})[2:m-k+1]\n",
    " \\\\\n",
    "u_{kj} &:= (L_k 𝐚_j^{k-1})[1]\n",
    "\\end{align*}\n",
    "$$\n",
    "Then\n",
    "$$\n",
    "L_n \\cdots L_1 A = \\underbrace{\\begin{bmatrix} \n",
    "u_{11} & \\cdots & u_{1n} \\\\ & \\ddots & \\vdots\\\\\n",
    "                                        && u_{nn}\\end{bmatrix}}_U\n",
    "$$\n",
    "i.e.\n",
    "$$\n",
    "A = \\underbrace{L_{n-1}^{-1} \\cdots L_1^{-1}}_L U.\n",
    "$$\n",
    "\n",
    "Finally, note  that the $L_k$ are immediately invertible:\n",
    "$$\n",
    "L_𝐯^{-1} = \\begin{bmatrix} 1 \\\\ {v_2 \\over v_1} & 1 \\\\ \\vdots &&\\ddots \\\\\n",
    "                {v_n \\over v_1}  &&& 1\n",
    "                \\end{bmatrix} = I + \\left[{𝐯 \\over v_1}  - 𝐞_1 \\right] 𝐞_1^\\top\n",
    "$$\n",
    "Moreover, as $L_k$ \n",
    " we note that $L$ simplifies:\n",
    "\n",
    "**Example**\n",
    "We will do a numerical example (by-hand is equivalent to Gaussian elimination).\n",
    "The first lower triangular matrix is:"
   ]
  },
  {
   "cell_type": "code",
   "execution_count": 13,
   "metadata": {
    "execution": {
     "iopub.execute_input": "2022-01-27T12:55:17.182906Z",
     "iopub.status.busy": "2022-01-27T12:55:17.182419Z",
     "iopub.status.idle": "2022-01-27T12:55:17.532802Z",
     "shell.execute_reply": "2022-01-27T12:55:17.532421Z"
    }
   },
   "outputs": [
    {
     "data": {
      "text/plain": [
       "4×4 Matrix{Float64}:\n",
       "  1.0       -0.0  -0.0  -0.0\n",
       " -0.157922   1.0  -0.0  -0.0\n",
       " -0.977475  -0.0   1.0  -0.0\n",
       "  1.0501    -0.0  -0.0   1.0"
      ]
     },
     "execution_count": 13,
     "metadata": {},
     "output_type": "execute_result"
    }
   ],
   "source": [
    "n = 4\n",
    "A = randn(n,n)\n",
    "L₁ = I -[0; A[2:end,1]/A[1,1]] * [1 zeros(1,n-1)]"
   ]
  },
  {
   "cell_type": "markdown",
   "metadata": {},
   "source": [
    "Which indeed introduces zeros in the first column:"
   ]
  },
  {
   "cell_type": "code",
   "execution_count": 14,
   "metadata": {
    "execution": {
     "iopub.execute_input": "2022-01-27T12:55:17.534647Z",
     "iopub.status.busy": "2022-01-27T12:55:17.534151Z",
     "iopub.status.idle": "2022-01-27T12:55:17.537308Z",
     "shell.execute_reply": "2022-01-27T12:55:17.536818Z"
    }
   },
   "outputs": [
    {
     "data": {
      "text/plain": [
       "4×4 Matrix{Float64}:\n",
       " 0.89756   0.367246   1.63822    0.863699\n",
       " 0.0      -0.167934   0.124238  -0.719144\n",
       " 0.0       0.411062  -2.00338   -0.477911\n",
       " 0.0       0.696679   0.435702  -0.495634"
      ]
     },
     "execution_count": 14,
     "metadata": {},
     "output_type": "execute_result"
    }
   ],
   "source": [
    "A₁ = L₁*A"
   ]
  },
  {
   "cell_type": "markdown",
   "metadata": {},
   "source": [
    "Now we make the next lower triangular operator:"
   ]
  },
  {
   "cell_type": "code",
   "execution_count": 15,
   "metadata": {
    "execution": {
     "iopub.execute_input": "2022-01-27T12:55:17.539389Z",
     "iopub.status.busy": "2022-01-27T12:55:17.538858Z",
     "iopub.status.idle": "2022-01-27T12:55:17.612604Z",
     "shell.execute_reply": "2022-01-27T12:55:17.612103Z"
    }
   },
   "outputs": [
    {
     "data": {
      "text/plain": [
       "4×4 Matrix{Float64}:\n",
       "  1.0  -0.0      -0.0  -0.0\n",
       " -0.0   1.0      -0.0  -0.0\n",
       " -0.0   2.44776   1.0  -0.0\n",
       " -0.0   4.14854  -0.0   1.0"
      ]
     },
     "execution_count": 15,
     "metadata": {},
     "output_type": "execute_result"
    }
   ],
   "source": [
    "L₂ = I - [0; 0; A₁[3:end,2]/A₁[2,2]] * [0 1 zeros(1,n-2)]"
   ]
  },
  {
   "cell_type": "markdown",
   "metadata": {},
   "source": [
    "So that"
   ]
  },
  {
   "cell_type": "code",
   "execution_count": 16,
   "metadata": {
    "execution": {
     "iopub.execute_input": "2022-01-27T12:55:17.614543Z",
     "iopub.status.busy": "2022-01-27T12:55:17.614054Z",
     "iopub.status.idle": "2022-01-27T12:55:17.625475Z",
     "shell.execute_reply": "2022-01-27T12:55:17.624993Z"
    }
   },
   "outputs": [
    {
     "data": {
      "text/plain": [
       "4×4 Matrix{Float64}:\n",
       " 0.89756       0.367246   1.63822    0.863699\n",
       " 0.0          -0.167934   0.124238  -0.719144\n",
       " 0.0           0.0       -1.69927   -2.23821\n",
       " 1.11022e-16   0.0        0.951109  -3.47903"
      ]
     },
     "execution_count": 16,
     "metadata": {},
     "output_type": "execute_result"
    }
   ],
   "source": [
    "A₂ = L₂*L₁*A"
   ]
  },
  {
   "cell_type": "markdown",
   "metadata": {},
   "source": [
    "The last one is:"
   ]
  },
  {
   "cell_type": "code",
   "execution_count": 17,
   "metadata": {
    "execution": {
     "iopub.execute_input": "2022-01-27T12:55:17.627754Z",
     "iopub.status.busy": "2022-01-27T12:55:17.627129Z",
     "iopub.status.idle": "2022-01-27T12:55:17.756140Z",
     "shell.execute_reply": "2022-01-27T12:55:17.755686Z"
    }
   },
   "outputs": [
    {
     "data": {
      "text/plain": [
       "4×4 Matrix{Float64}:\n",
       "  1.0  -0.0  -0.0       -0.0\n",
       " -0.0   1.0  -0.0       -0.0\n",
       " -0.0  -0.0   1.0       -0.0\n",
       " -0.0  -0.0   0.559716   1.0"
      ]
     },
     "execution_count": 17,
     "metadata": {},
     "output_type": "execute_result"
    }
   ],
   "source": [
    "L₃ = I - [0; 0; 0; A₂[4:end,3]/A₂[3,3]] * [0 0 1 zeros(1,n-3)]"
   ]
  },
  {
   "cell_type": "markdown",
   "metadata": {},
   "source": [
    "Giving us"
   ]
  },
  {
   "cell_type": "code",
   "execution_count": 18,
   "metadata": {
    "execution": {
     "iopub.execute_input": "2022-01-27T12:55:17.758689Z",
     "iopub.status.busy": "2022-01-27T12:55:17.757841Z",
     "iopub.status.idle": "2022-01-27T12:55:17.785835Z",
     "shell.execute_reply": "2022-01-27T12:55:17.785337Z"
    }
   },
   "outputs": [
    {
     "data": {
      "text/plain": [
       "4×4 Matrix{Float64}:\n",
       " 0.89756   0.367246      1.63822       0.863699\n",
       " 0.0      -0.167934      0.124238     -0.719144\n",
       " 0.0       0.0          -1.69927      -2.23821\n",
       " 0.0       1.11022e-16  -2.77556e-16  -4.73179"
      ]
     },
     "execution_count": 18,
     "metadata": {},
     "output_type": "execute_result"
    }
   ],
   "source": [
    "U = L₃*L₂*L₁*A"
   ]
  },
  {
   "cell_type": "markdown",
   "metadata": {},
   "source": [
    "and"
   ]
  },
  {
   "cell_type": "code",
   "execution_count": 19,
   "metadata": {
    "execution": {
     "iopub.execute_input": "2022-01-27T12:55:17.787905Z",
     "iopub.status.busy": "2022-01-27T12:55:17.787331Z",
     "iopub.status.idle": "2022-01-27T12:55:17.863019Z",
     "shell.execute_reply": "2022-01-27T12:55:17.862592Z"
    }
   },
   "outputs": [
    {
     "data": {
      "text/plain": [
       "4×4 Matrix{Float64}:\n",
       "  1.0        0.0       0.0       0.0\n",
       "  0.157922   1.0       0.0       0.0\n",
       "  0.977475  -2.44776   1.0       0.0\n",
       " -1.0501    -4.14854  -0.559716  1.0"
      ]
     },
     "execution_count": 19,
     "metadata": {},
     "output_type": "execute_result"
    }
   ],
   "source": [
    "L = inv(L₁)*inv(L₂)*inv(L₃)"
   ]
  },
  {
   "cell_type": "markdown",
   "metadata": {},
   "source": [
    "Note how the entries of `L` are indeed identical to the negative\n",
    "lower entries of `L₁`, `L₂` and `L₃`.\n",
    "\n",
    "\n",
    "### PLU Decomposition\n",
    "\n",
    "We learned in first year linear algebra that if a diagonal entry is zero\n",
    "when doing Gaussian elimnation one has to _row pivot_. For stability, \n",
    "in implementation one _always_ pivots: move the largest in magnitude entry to the diagonal.\n",
    "In terms of a decomposition, this leads to \n",
    "\n",
    "\n",
    "## 3. Cholesky Decomposition\n",
    "\n",
    "Cholesky Decomposition is a form of Gaussian elimination (without pivoting)\n",
    "that exploits symmetry in the problem, resulting in a substantial speedup. \n",
    "It is only relevant for _symmetric positive definite_\n",
    "matrices.\n",
    "\n",
    "**Definition (positive definite)** A square matrix $A \\in ℝ^{n \\times n}$ is _positive definite_ if\n",
    "for all $𝐱 \\in ℝ^n$ we have\n",
    "$$\n",
    "𝐱^\\top A 𝐱 > 0\n",
    "$$\n",
    "\n",
    "**Proposition (conj. pos. def.)** If  $A \\in ℝ^{n \\times n}$ is positive definite and \n",
    "$V \\in ℝ^{n \\times n}$ is non-singular then\n",
    "$$\n",
    "V^\\top A V\n",
    "$$\n",
    "is positive definite.\n",
    "\n",
    "**Proposition (diag positivity)** If $A \\in ℝ^{n \\times n}$ is positive definite\n",
    "then its diagonal entries are positive: $a_{kk} > 0$.\n",
    "\n",
    "\n",
    "**Theorem (subslice pos. def.)** If $A \\in ℝ^{n \\times n}$ is positive definite\n",
    "and $𝐤 \\in \\{1,\\ldots,n\\}^n$ where any integer appears only once then $A[𝐤,𝐤]$ is also\n",
    "positive definite.\n",
    "\n",
    "\n",
    "\n",
    "We leave the proofs to the problem sheets.\n",
    "\n",
    "\n",
    "Write a symmetric pos. def. matrix as\n",
    "$$\n",
    "A = \\begin{bmatrix} α & 𝐯^\\top \\\\\n",
    "                    𝐯   & K\n",
    "                    \\end{bmatrix} = \\underbrace{\\begin{bmatrix} \\sqrt{α} \\\\ \n",
    "                                    {𝐯 \\over \\sqrt{α}} & I \\end{bmatrix}}_{L_1}\n",
    "                                    \\underbrace{\\begin{bmatrix} 1  \\\\ & K - {𝐯 𝐯^\\top \\over α} \\end{bmatrix}}_{A_1}\n",
    "                                    \\underbrace{\\begin{bmatrix} \\sqrt{α} & {𝐯^\\top \\over \\sqrt{α}} \\\\\n",
    "                                     & I \\end{bmatrix}}_{L_1^\\top}.\n",
    "$$\n",
    "Note that $A_1$ is positive definite (because $A_1 = L_1^{-1} A L_1^{-\\top}$) and therefore\n",
    "$K - {𝐯 𝐯^\\top \\over α}$ is also positive definite (as it is a subslice of $A_1$).\n",
    "Thus we can repeat. \n",
    "\n",
    "\n",
    "# 4. Timings\n",
    "\n",
    "The different decompositions have trade-offs between speed and stability.\n",
    "First we compare the speed of the different decompositions on a symmetric positive\n",
    "definite matrix, from fastest to slowest:"
   ]
  },
  {
   "cell_type": "code",
   "execution_count": 20,
   "metadata": {
    "execution": {
     "iopub.execute_input": "2022-01-27T12:55:17.864785Z",
     "iopub.status.busy": "2022-01-27T12:55:17.864248Z",
     "iopub.status.idle": "2022-01-27T12:55:52.071598Z",
     "shell.execute_reply": "2022-01-27T12:55:52.070789Z"
    }
   },
   "outputs": [
    {
     "name": "stdout",
     "output_type": "stream",
     "text": [
      "  4.221 ms (5 allocations: 7.63 MiB)\n",
      "  7.622 ms (4 allocations: 7.64 MiB)\n",
      "  24.841 ms (7 allocations: 8.18 MiB)\n"
     ]
    }
   ],
   "source": [
    "n = 1000\n",
    "A = Symmetric(rand(n,n)) + 100I # shift by 10 ensures positivity\n",
    "@btime cholesky(A);\n",
    "@btime lu(A);\n",
    "@btime qr(A);"
   ]
  },
  {
   "cell_type": "markdown",
   "metadata": {},
   "source": [
    "On my machine, `cholesky` is ~1.5x faster than `lu`,  which is ~2x faster than \n",
    "\n",
    "\n",
    "\n",
    "In terms of stability, QR computed with Householder reflections\n",
    "(and Cholesky for positive definite matrices) are stable, whereas LU is usually unstable (unless the matrix\n",
    "is diagonally dominant). PLU is a very complicated story: in theory it is unstable,\n",
    "but the set of matrices for which it is unstable is extremely small, so small one does not\n",
    "normally run into them.\n",
    "\n",
    "For this reason,"
   ]
  }
 ],
 "metadata": {
  "kernelspec": {
   "display_name": "Julia 1.7.0",
   "language": "julia",
   "name": "julia-1.7"
  },
  "language_info": {
   "file_extension": ".jl",
   "mimetype": "application/julia",
   "name": "julia",
   "version": "1.7.1"
  }
 },
 "nbformat": 4,
 "nbformat_minor": 2
}
