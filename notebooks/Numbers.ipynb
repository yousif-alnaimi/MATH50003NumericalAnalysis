{
 "cells": [
  {
   "cell_type": "markdown",
   "metadata": {},
   "source": [
    "# I.1 Numbers\n",
    "\n",
    "\n",
    "Reference: [Overton](https://cs.nyu.edu/~overton/book/)\n",
    "\n",
    "In this chapter, we introduce the [Two's-complement](https://en.wikipedia.org/wiki/Two's_complement)\n",
    "storage for integers and the \n",
    "[IEEE Standard for Floating-Point Arithmetic](https://en.wikipedia.org/wiki/IEEE_754).\n",
    "There are many  possible ways of representing real numbers on a computer, as well as \n",
    "the precise behaviour of operations such as addition, multiplication, etc.\n",
    "Before the 1980s each processor had potentially a different representation for \n",
    "real numbers, as well as different behaviour for operations.  \n",
    "IEEE introduced in 1985 was a means to standardise this across\n",
    "processors so that algorithms would produce consistent and reliable results.\n",
    "\n",
    "This chapter may seem very low level for a mathematics course but there are\n",
    "two important reasons to understand the behaviour of integers and floating-point numbers:\n",
    "1. Integer arithmetic can suddenly start giving wrong negative answers when numbers\n",
    "become large.\n",
    "2. Floating-point arithmetic is very precisely defined, and can even be used\n",
    "in rigorous computations as we shall see in the problem sheets. But it is not exact\n",
    "and its important to understand how errors in computations can accumulate.\n",
    "3. Failure to understand floating-point arithmetic can cause catastrophic issues\n",
    "in practice, with the extreme example being the \n",
    "[explosion of the Ariane 5 rocket](https://youtu.be/N6PWATvLQCY?t=86).\n",
    "\n",
    "\n",
    "In this chapter we discuss the following:\n",
    "\n",
    "1. Binary representation: Any real number can be represented in binary, that is,\n",
    "by an infinite sequence of 0s and 1s (bits). We review  binary representation.\n",
    "2. Integers:  There are multiple ways of representing integers on a computer. We discuss the \n",
    "the different types of integers and their representation as bits, and how arithmetic operations behave \n",
    "like modular arithmetic. As an advanced topic we discuss `BigInt`, which uses variable bit length storage.\n",
    "2. Floating-point numbers: Real numbers are stored on a computer with a finite number of bits. \n",
    "There are three types of floating-point numbers: _normal numbers_, _subnormal numbers_, and _special numbers_.\n",
    "3. Arithmetic: Arithmetic operations in floating-point are exact up to rounding, and how the\n",
    "rounding mode can be set. This allows us to bound  errors computations.\n",
    "4. High-precision floating-point numbers: As an advanced topic, we discuss how the precision of floating-point arithmetic can be increased arbitrary\n",
    "using `BigFloat`. \n",
    "\n",
    "Before we begin, we load two external packages. SetRounding.jl allows us \n",
    "to set the rounding mode of floating-point arithmetic. ColorBitstring.jl\n",
    "  implements functions `printbits` (and `printlnbits`)\n",
    "which print the bits (and with a newline) of floating-point numbers in colour."
   ]
  },
  {
   "cell_type": "code",
   "execution_count": 1,
   "metadata": {
    "execution": {
     "iopub.execute_input": "2022-01-04T16:22:09.108893Z",
     "iopub.status.busy": "2022-01-04T16:22:08.718085Z",
     "iopub.status.idle": "2022-01-04T16:22:09.326264Z",
     "shell.execute_reply": "2022-01-04T16:22:09.325791Z"
    }
   },
   "outputs": [],
   "source": [
    "using SetRounding, ColorBitstring"
   ]
  },
  {
   "cell_type": "markdown",
   "metadata": {},
   "source": [
    "## 1.  Binary representation\n",
    "\n",
    "Any integer can be presented in binary format, that is, a sequence of `0`s and `1`s.\n",
    "\n",
    "**Definition**\n",
    "For $B_0,\\ldots,B_p \\in \\{0,1\\}$ denote a non-negative integer in _binary format_ by:\n",
    "$$\n",
    "(B_p\\ldots B_1B_0)_2 := 2^pB_p + \\cdots + 2B_1 + B_0\n",
    "$$\n",
    "For $b_1,b_2,\\ldots \\in \\{0,1\\}$, Denote a non-negative real number in _binary format_ by:\n",
    "$$\n",
    "(B_p \\ldots B_0.b_1b_2b_3\\ldots)_2 = (B_p \\ldots B_0)_2 + {b_1 \\over 2} + {b_2 \\over 2^2} + {b_3 \\over 2^3} + \\cdots\n",
    "$$\n",
    "\n",
    "\n",
    "\n",
    "First we show some examples of verifying a numbers binary representation:\n",
    "\n",
    "**Example (integer in binary)**\n",
    "A simple integer example is $5 = 2^2 + 2^0 = (101)_2$.\n",
    "\n",
    "**Example (rational in binary)**\n",
    "Consider the number `1/3`.  In decimal recall that:\n",
    "$$\n",
    "1/3 = 0.3333\\ldots =  \\sum_{k=1}^\\infty {3 \\over 10^k}\n",
    "$$\n",
    "We will see that in binary\n",
    "$$\n",
    "1/3 = (0.010101\\ldots)_2 = \\sum_{k=1}^\\infty {1 \\over 2^{2k}}\n",
    "$$\n",
    "Both results can be proven using the geometric series:\n",
    "$$\n",
    "\\sum_{k=0}^\\infty z^k = {1 \\over 1 - z}\n",
    "$$\n",
    "provided $|z| < 1$. That is, with $z = {1 \\over 4}$ we verify the binary expansion:\n",
    "$$\n",
    "\\sum_{k=1}^\\infty {1 \\over 4^k} = {1 \\over 1 - 1/4} - 1 = {1 \\over 3}\n",
    "$$\n",
    "A similar argument with $z = 1/10$ shows the decimal case.\n",
    "\n",
    "\n",
    "\n",
    "## 2. Integers\n",
    "\n",
    "\n",
    "On a computer one typically represents integers by a finite number of $p$ bits,\n",
    "with $2^p$ possible combinations of 0s and 1s. For _unsigned integers_ (non-negative integers) \n",
    "these bits are just the first $p$ binary digits: $(B_{p-1}\\ldots B_1B_0)_2$.\n",
    " \n",
    "Integers on a computer follow [modular arithmetic](https://en.wikipedia.org/wiki/Modular_arithmetic):\n",
    "\n",
    "**Definition (ring of integers modulo $m$)** Denote the ring\n",
    "$$\n",
    "{\\mathbb Z}_{m} := \\{0 \\ ({\\rm mod}\\ m), 1 \\ ({\\rm mod}\\ m), \\ldots, m-1 \\ ({\\rm mod}\\ m) \\}\n",
    "$$\n",
    "\n",
    "Integers represented with $p$-bits on a computer actually \n",
    "represent elements of ${\\mathbb Z}_{2^p}$ and integer arithmetic on a computer is \n",
    "equivalent to arithmetic modulo $2^p$.\n",
    "\n",
    "**Example (addition of 8-bit unsigned integers)** Consider the addition of\n",
    "two 8-bit numbers:\n",
    "$$\n",
    "255 + 1 = (11111111)_2 + (00000001)_2 = (100000000)_2 = 256\n",
    "$$\n",
    "The result is impossible to store in just 8-bits! It is way too slow\n",
    "for a computer to increase the number of bits, or to throw an error (checks are slow).\n",
    "So instead it treats the integers as elements of ${\\mathbb Z}_{256}$:\n",
    "$$\n",
    "255 + 1 \\ ({\\rm mod}\\ 256) = (00000000)_2 \\ ({\\rm mod}\\ 256) = 0 \\ ({\\rm mod}\\ 256)\n",
    "$$\n",
    "We can see this in Julia:"
   ]
  },
  {
   "cell_type": "code",
   "execution_count": 2,
   "metadata": {
    "execution": {
     "iopub.execute_input": "2022-01-04T16:22:09.328496Z",
     "iopub.status.busy": "2022-01-04T16:22:09.328006Z",
     "iopub.status.idle": "2022-01-04T16:22:09.360010Z",
     "shell.execute_reply": "2022-01-04T16:22:09.359646Z"
    }
   },
   "outputs": [
    {
     "name": "stdout",
     "output_type": "stream",
     "text": [
      "\u001b[34m11111111\u001b[0m + \n",
      "\u001b[34m00000001\u001b[0m = \n",
      "\u001b[34m00000000\u001b[0m"
     ]
    }
   ],
   "source": [
    "x = UInt8(255)\n",
    "y = UInt8(1)\n",
    "printbits(x); println(\" + \"); printbits(y); println(\" = \")\n",
    "printbits(x + y)"
   ]
  },
  {
   "cell_type": "markdown",
   "metadata": {},
   "source": [
    "**Example (multiplication of 8-bit unsigned integers)** \n",
    "Multiplication works similarly: for example,\n",
    "$$\n",
    "254 * 2 \\ ({\\rm mod}\\ 256) = 252 \\ ({\\rm mod}\\ 256) = (11111100)_2 \\ ({\\rm mod}\\ 256)\n",
    "$$\n",
    "We can see this behaviour in code by printing the bits:"
   ]
  },
  {
   "cell_type": "code",
   "execution_count": 3,
   "metadata": {
    "execution": {
     "iopub.execute_input": "2022-01-04T16:22:09.362313Z",
     "iopub.status.busy": "2022-01-04T16:22:09.361508Z",
     "iopub.status.idle": "2022-01-04T16:22:09.367758Z",
     "shell.execute_reply": "2022-01-04T16:22:09.367342Z"
    }
   },
   "outputs": [
    {
     "name": "stdout",
     "output_type": "stream",
     "text": [
      "\u001b[34m11111110\u001b[0m * \n",
      "\u001b[34m00000010\u001b[0m = \n",
      "\u001b[34m11111100\u001b[0m"
     ]
    }
   ],
   "source": [
    "x = UInt8(254) # 254 represented in 8-bits as an unsigned integer\n",
    "y = UInt8(2)   #   2 represented in 8-bits as an unsigned integer\n",
    "printbits(x); println(\" * \"); printbits(y); println(\" = \")\n",
    "printbits(x * y)"
   ]
  },
  {
   "cell_type": "markdown",
   "metadata": {},
   "source": [
    "### Signed integer\n",
    "\n",
    "Signed integers use the [Two's complemement](https://epubs.siam.org/doi/abs/10.1137/1.9780898718072.ch3)\n",
    "convention. The convention is if the first bit is 1 then the number is negative: the number $2^p - y$\n",
    "is interpreted as $-y$.\n",
    "Thus for $p = 8$ we are interpreting\n",
    "$2^7$ through $2^8-1$ as negative numbers. \n",
    "\n",
    "**Example (converting bits to signed integers)** \n",
    "What 8-bit integer has the bits `01001001`? Adding the corresponding decimal places we get:"
   ]
  },
  {
   "cell_type": "code",
   "execution_count": 4,
   "metadata": {
    "execution": {
     "iopub.execute_input": "2022-01-04T16:22:09.369741Z",
     "iopub.status.busy": "2022-01-04T16:22:09.369239Z",
     "iopub.status.idle": "2022-01-04T16:22:09.767760Z",
     "shell.execute_reply": "2022-01-04T16:22:09.767238Z"
    }
   },
   "outputs": [
    {
     "data": {
      "text/plain": [
       "73"
      ]
     },
     "execution_count": 4,
     "metadata": {},
     "output_type": "execute_result"
    }
   ],
   "source": [
    "2^0 + 2^3 + 2^6"
   ]
  },
  {
   "cell_type": "markdown",
   "metadata": {},
   "source": [
    "What 8-bit (signed) integer has the bits `11001001`? Because the first bit is `1` we know it's a negative \n",
    "number, hence we need to sum the bits but then subtract `2^p`:"
   ]
  },
  {
   "cell_type": "code",
   "execution_count": 5,
   "metadata": {
    "execution": {
     "iopub.execute_input": "2022-01-04T16:22:09.769972Z",
     "iopub.status.busy": "2022-01-04T16:22:09.769297Z",
     "iopub.status.idle": "2022-01-04T16:22:09.779094Z",
     "shell.execute_reply": "2022-01-04T16:22:09.778683Z"
    }
   },
   "outputs": [
    {
     "data": {
      "text/plain": [
       "-55"
      ]
     },
     "execution_count": 5,
     "metadata": {},
     "output_type": "execute_result"
    }
   ],
   "source": [
    "2^0 + 2^3 + 2^6 + 2^7 - 2^8"
   ]
  },
  {
   "cell_type": "markdown",
   "metadata": {},
   "source": [
    "We can check the results using `printbits`:"
   ]
  },
  {
   "cell_type": "code",
   "execution_count": 6,
   "metadata": {
    "execution": {
     "iopub.execute_input": "2022-01-04T16:22:09.781089Z",
     "iopub.status.busy": "2022-01-04T16:22:09.780528Z",
     "iopub.status.idle": "2022-01-04T16:22:09.854258Z",
     "shell.execute_reply": "2022-01-04T16:22:09.853806Z"
    }
   },
   "outputs": [
    {
     "name": "stdout",
     "output_type": "stream",
     "text": [
      "\u001b[31m0\u001b[0m\u001b[34m1001001\u001b[0m\n",
      "\u001b[31m1\u001b[0m\u001b[34m1001001\u001b[0m"
     ]
    }
   ],
   "source": [
    "printlnbits(Int8(73))\n",
    "printbits(-Int8(55))"
   ]
  },
  {
   "cell_type": "markdown",
   "metadata": {},
   "source": [
    "Arithmetic works precisely\n",
    "the same for signed and unsigned integers.\n",
    "\n",
    "**Example (addition of 8-bit integers)**\n",
    "Consider `(-1) + 1` in 8-bit arithmetic. The number $-1$ has the same bits as\n",
    "$2^8 - 1 = 255$. Thus this is equivalent to the previous question and we get the correct\n",
    "result of `0`. In other words:\n",
    "$$\n",
    "-1 + 1 \\ ({\\rm mod}\\ 2^p) = 2^p-1  + 1 \\ ({\\rm mod}\\ 2^p) = 2^p \\ ({\\rm mod}\\ 2^p) = 0 \\ ({\\rm mod}\\ 2^p)\n",
    "$$\n",
    "\n",
    "\n",
    "**Example (multiplication of 8-bit integers)**\n",
    "Consider `(-2) * 2`. $-2$ has the same bits as $2^{256} - 2 = 254$ and $-4$ has the\n",
    "same bits as $2^{256}-4 = 252$, and hence from the previous example we get the correct result of `-4`.\n",
    "In other words:\n",
    "$$\n",
    "(-2) * 2 \\ ({\\rm mod}\\ 2^p) = (2^p-2) * 2 \\ ({\\rm mod}\\ 2^p) = 2^{p+1}-4 \\ ({\\rm mod}\\ 2^p) = -4 \\ ({\\rm mod}\\ 2^p)\n",
    "$$\n",
    "\n",
    "\n",
    "\n",
    "\n",
    "\n",
    "**Example (overflow)** We can find the largest and smallest instances of a type using `typemax` and `typemin`:"
   ]
  },
  {
   "cell_type": "code",
   "execution_count": 7,
   "metadata": {
    "execution": {
     "iopub.execute_input": "2022-01-04T16:22:09.856532Z",
     "iopub.status.busy": "2022-01-04T16:22:09.855770Z",
     "iopub.status.idle": "2022-01-04T16:22:09.858289Z",
     "shell.execute_reply": "2022-01-04T16:22:09.857849Z"
    }
   },
   "outputs": [
    {
     "name": "stdout",
     "output_type": "stream",
     "text": [
      "\u001b[31m0\u001b[0m\u001b[34m1111111\u001b[0m\n",
      "\u001b[31m1\u001b[0m\u001b[34m0000000\u001b[0m"
     ]
    }
   ],
   "source": [
    "printlnbits(typemax(Int8)) # 2^7-1 = 127\n",
    "printbits(typemin(Int8)) # -2^7 = -128"
   ]
  },
  {
   "cell_type": "markdown",
   "metadata": {},
   "source": [
    "As explained, due to modular arithmetic, when we add `1` to the largest 8-bit integer we get the smallest:"
   ]
  },
  {
   "cell_type": "code",
   "execution_count": 8,
   "metadata": {
    "execution": {
     "iopub.execute_input": "2022-01-04T16:22:09.860159Z",
     "iopub.status.busy": "2022-01-04T16:22:09.859644Z",
     "iopub.status.idle": "2022-01-04T16:22:10.061649Z",
     "shell.execute_reply": "2022-01-04T16:22:10.061213Z"
    }
   },
   "outputs": [
    {
     "data": {
      "text/plain": [
       "-128"
      ]
     },
     "execution_count": 8,
     "metadata": {},
     "output_type": "execute_result"
    }
   ],
   "source": [
    "typemax(Int8) + Int8(1) # returns typemin(Int8)"
   ]
  },
  {
   "cell_type": "markdown",
   "metadata": {},
   "source": [
    "This behaviour is often not desired and is known as _overflow_, and one must be wary\n",
    "of using integers close to their largest value.\n",
    "\n",
    "\n",
    "### Variable bit representation (**advanced**)\n",
    "\n",
    "An alternative representation for integers uses a variable number of bits,\n",
    "with the advantage of avoiding overflow but with the disadvantage of a substantial\n",
    "speed penalty. In Julia these are `BigInt`s, which we can create by calling `big` on an\n",
    "integer:"
   ]
  },
  {
   "cell_type": "code",
   "execution_count": 9,
   "metadata": {
    "execution": {
     "iopub.execute_input": "2022-01-04T16:22:10.063676Z",
     "iopub.status.busy": "2022-01-04T16:22:10.063168Z",
     "iopub.status.idle": "2022-01-04T16:22:10.260446Z",
     "shell.execute_reply": "2022-01-04T16:22:10.259961Z"
    }
   },
   "outputs": [
    {
     "data": {
      "text/plain": [
       "9223372036854775808"
      ]
     },
     "execution_count": 9,
     "metadata": {},
     "output_type": "execute_result"
    }
   ],
   "source": [
    "x = typemax(Int64) + big(1) # Too big to be an `Int64`"
   ]
  },
  {
   "cell_type": "markdown",
   "metadata": {},
   "source": [
    "Note in this case addition automatically promotes an `Int64` to a `BigInt`.\n",
    "We can create very large numbers using `BigInt`:"
   ]
  },
  {
   "cell_type": "code",
   "execution_count": 10,
   "metadata": {
    "execution": {
     "iopub.execute_input": "2022-01-04T16:22:10.262389Z",
     "iopub.status.busy": "2022-01-04T16:22:10.261893Z",
     "iopub.status.idle": "2022-01-04T16:22:10.266217Z",
     "shell.execute_reply": "2022-01-04T16:22:10.265824Z"
    }
   },
   "outputs": [
    {
     "data": {
      "text/plain": [
       "3082994025277634745700106821545665721371798533305697458855342277921093731984476404705966539412410898240561729912372038501228893141921080152404642393776599077294434061519905424124601394226943601430916434383714716724720227331596950613701661034548948388721097667275438763758128508403297199458260277707301202460980093818414167080563342761482395862435185093942443540722363151770022221783243959592531336062998494209914752408019060720805124534382646051093613814848646062038662423487504326044361203708430489305864234333801401547140023376295718383390360728662900230671437151716615826286842267917560749586018165739492101920429719261285640125596833063891562865262157026023955919873792846823095854484520920509345944712871675691790827690907778485058829248588945681685288179787963931181062068092463984296225973082494056307958089189726701678735576365394146232076917088075949053636690459581128773097212746967276496496010810878000638239143750075543163240049874489986642327436441234458040254480825038220479904594615300602390556385799245276805580024937804723029319565942013515817048714543455250235208789745701165279569026248145395218985062991831707830217974393158466067785199581037714968820628241051867119832966361530047910339065726550260741036716100932205969655083257714244071120221654679340461084001560321676025443801248355439305974923873624147980728110581452806109011739005060060604228087667499288851218705078807364237925455813890575257569981450090997117697469299234094394984840574025401463942099019413361096233909056117427663439764954916401592565651111571414769257187704568268701243082044838400201357613851006471104244828842270232637747398962711875413488415772647088571125272932490717217468263604683325933469555629785507020775366368002753612709901526248456328209643292122899677436613886360765877886748185299249994921843183573130403496311896614949399409796011301191280067209053259341918813967552543176532349157376"
      ]
     },
     "execution_count": 10,
     "metadata": {},
     "output_type": "execute_result"
    }
   ],
   "source": [
    "x^100"
   ]
  },
  {
   "cell_type": "markdown",
   "metadata": {},
   "source": [
    "Note the number of bits is not fixed, the larger the number, the more bits required \n",
    "to represent it, so while overflow is impossible, it is possible to run out of memory if a number is\n",
    "astronomically large: go ahead and try `x^x` (at your own risk).\n",
    "\n",
    "\n",
    "## Division\n",
    "\n",
    " In addition to `+`, `-`, and `*` we have integer division `÷`, which rounds down:"
   ]
  },
  {
   "cell_type": "code",
   "execution_count": 11,
   "metadata": {
    "execution": {
     "iopub.execute_input": "2022-01-04T16:22:10.269064Z",
     "iopub.status.busy": "2022-01-04T16:22:10.268262Z",
     "iopub.status.idle": "2022-01-04T16:22:10.270865Z",
     "shell.execute_reply": "2022-01-04T16:22:10.269631Z"
    }
   },
   "outputs": [
    {
     "data": {
      "text/plain": [
       "2"
      ]
     },
     "execution_count": 11,
     "metadata": {},
     "output_type": "execute_result"
    }
   ],
   "source": [
    "5 ÷ 2 # equivalent to div(5,2)"
   ]
  },
  {
   "cell_type": "markdown",
   "metadata": {},
   "source": [
    "Standard division `/` (or `\\` for division on the right) creates a floating-point number,\n",
    "which will be discussed shortly:"
   ]
  },
  {
   "cell_type": "code",
   "execution_count": 12,
   "metadata": {
    "execution": {
     "iopub.execute_input": "2022-01-04T16:22:10.272675Z",
     "iopub.status.busy": "2022-01-04T16:22:10.272189Z",
     "iopub.status.idle": "2022-01-04T16:22:10.477048Z",
     "shell.execute_reply": "2022-01-04T16:22:10.476564Z"
    }
   },
   "outputs": [
    {
     "data": {
      "text/plain": [
       "2.5"
      ]
     },
     "execution_count": 12,
     "metadata": {},
     "output_type": "execute_result"
    }
   ],
   "source": [
    "5 / 2 # alternatively 2 \\ 5"
   ]
  },
  {
   "cell_type": "markdown",
   "metadata": {},
   "source": [
    "We can also create rational numbers using `//`:"
   ]
  },
  {
   "cell_type": "code",
   "execution_count": 13,
   "metadata": {
    "execution": {
     "iopub.execute_input": "2022-01-04T16:22:10.479152Z",
     "iopub.status.busy": "2022-01-04T16:22:10.478646Z",
     "iopub.status.idle": "2022-01-04T16:22:10.726946Z",
     "shell.execute_reply": "2022-01-04T16:22:10.726562Z"
    }
   },
   "outputs": [
    {
     "data": {
      "text/plain": [
       "5//4"
      ]
     },
     "execution_count": 13,
     "metadata": {},
     "output_type": "execute_result"
    }
   ],
   "source": [
    "(1//2) + (3//4)"
   ]
  },
  {
   "cell_type": "markdown",
   "metadata": {},
   "source": [
    "Rational arithmetic often leads to overflow so it\n",
    "is often best to combine `big` with rationals:"
   ]
  },
  {
   "cell_type": "code",
   "execution_count": 14,
   "metadata": {
    "execution": {
     "iopub.execute_input": "2022-01-04T16:22:10.728873Z",
     "iopub.status.busy": "2022-01-04T16:22:10.728381Z",
     "iopub.status.idle": "2022-01-04T16:22:11.007667Z",
     "shell.execute_reply": "2022-01-04T16:22:11.007152Z"
    }
   },
   "outputs": [
    {
     "data": {
      "text/plain": [
       "26339037835007648477541540//4767804878707544364596461"
      ]
     },
     "execution_count": 14,
     "metadata": {},
     "output_type": "execute_result"
    }
   ],
   "source": [
    "big(102324)//132413023 + 23434545//4243061 + 23434545//42430534435"
   ]
  },
  {
   "cell_type": "markdown",
   "metadata": {},
   "source": [
    "## 3. Floating-point numbers\n",
    "\n",
    "Floating-point numbers are a subset of real numbers that are representable using\n",
    "a fixed number of bits.\n",
    "\n",
    "**Definition (floating-point numbers)**\n",
    "Given integers $σ$ (the \"exponential shift\") $Q$ (the number of exponent bits) and \n",
    "$S$ (the precision), define the set of\n",
    "_Floating-point numbers_ by dividing into _normal_, _sub-normal_, and _special number_ subsets:\n",
    "$$\n",
    "F_{σ,Q,S} := F^{\\rm normal}_{σ,Q,S} \\cup F^{\\rm sub}_{σ,Q,S} \\cup F^{\\rm special}.\n",
    "$$\n",
    "The _normal numbers_\n",
    "$F^{\\rm normal}_{σ,Q,S} \\subset {\\mathbb R}$ are defined by\n",
    "$$\n",
    "F^{\\rm normal}_{σ,Q,S} = \\{\\pm 2^{q-σ} \\times (1.b_1b_2b_3\\ldots b_S)_2 : 1 \\leq q < 2^Q-1 \\}.\n",
    "$$\n",
    "The _sub-normal numbers_ $F^{\\rm sub}_{σ,Q,S} \\subset {\\mathbb R}$ are defined as\n",
    "$$\n",
    "F^{\\rm sub}_{σ,Q,S} = \\{\\pm 2^{1-σ} \\times (0.b_1b_2b_3\\ldots b_S)_2\\}.\n",
    "$$\n",
    "The _special numbers_ $F^{\\rm special} \\not\\subset {\\mathbb R}$ are defined later.\n",
    "\n",
    "Note this set of real numbers has no nice algebraic structure: it is not closed under addition, subtraction, etc.\n",
    "We will therefore need to define approximate versions of algebraic operations later.\n",
    "\n",
    "Floating-point numbers are stored in $1 + Q + S$ total number of bits, in the format\n",
    "$$\n",
    "sq_{Q-1}\\ldots q_0 b_1 \\ldots b_S\n",
    "$$\n",
    "The first bit ($s$) is the <span style=\"color:red\">sign bit</span>: 0 means positive and 1 means\n",
    "negative. The bits $q_{Q-1}\\ldots q_0$ are the <span style=\"color:green\">exponent bits</span>:\n",
    "they are the binary digits of the unsigned integer $q$: \n",
    "$$\n",
    "q = (q_{Q-1}\\ldots q_0)_2.\n",
    "$$\n",
    "Finally, the bits $b_1\\ldots b_S$ are the <span style=\"color:blue\">significand bits</span>.\n",
    "If $1 \\leq q < 2^Q-1$ then the bits represent the normal number\n",
    "$$\n",
    "x = \\pm 2^{q-σ} \\times (1.b_1b_2b_3\\ldots b_S)_2.\n",
    "$$\n",
    "If $q = 0$ (i.e. all bits are 0) then the bits represent the sub-normal number\n",
    "$$\n",
    "x = \\pm 2^{1-σ} \\times (0.b_1b_2b_3\\ldots b_S)_2.\n",
    "$$\n",
    "If $q = 2^Q-1$  (i.e. all bits are 1) then the bits represent a special number, discussed\n",
    "later.\n",
    "\n",
    "\n",
    "### IEEE floating-point numbers\n",
    "\n",
    "**Definition (IEEE floating-point numbers)** \n",
    "IEEE has 3 standard floating-point formats: 16-bit (half precision), 32-bit (single precision) and\n",
    "64-bit (double precision) defined by:\n",
    "$$\n",
    "\\begin{align*}\n",
    "F_{16} &:= F_{15,5,10} \\\\\n",
    "F_{32} &:= F_{127,8,23} \\\\\n",
    "F_{64} &:= F_{1023,11,52}\n",
    "\\end{align*}\n",
    "$$\n",
    "\n",
    "In Julia these correspond to 3 different floating-point types:\n",
    "\n",
    "1.  `Float64` is a type representing double precision ($F_{64}$).\n",
    "We can create a `Float64` by including a \n",
    "decimal point when writing the number: \n",
    "`1.0` is a `Float64`. `Float64` is the default format for \n",
    "scientific computing (on the _Floating-Point Unit_, FPU).  \n",
    "2. `Float32` is a type representing single precision ($F_{32}$).  We can create a `Float32` by including a \n",
    "`f0` when writing the number: \n",
    "`1f0` is a `Float32`. `Float32` is generally the default format for graphics (on the _Graphics Processing Unit_, GPU), \n",
    "as the difference between 32 bits and 64 bits is indistinguishable to the eye in visualisation,\n",
    "and more data can be fit into a GPU's limitted memory.\n",
    "3.  `Float16` is a type representing half-precision ($F_{16}$).\n",
    "It is important in machine learning where one wants to maximise the amount of data\n",
    "and high accuracy is not necessarily helpful. \n",
    "\n",
    "\n",
    "**Example (rational in `Float32`)** How is the number $1/3$ stored in `Float32`?\n",
    "Recall that\n",
    "$$\n",
    "1/3 = (0.010101\\ldots)_2 = 2^{-2} (1.0101\\ldots)_2 = 2^{125-127} (1.0101\\ldots)_2\n",
    "$$\n",
    "and since $\n",
    "125 = (1111101)_2\n",
    "$  the <span style=\"color:green\">exponent bits</span> are `01111101`.\n",
    ". \n",
    "For the significand we round the last bit to the nearest element of $F_{32}$, (this is explained in detail in\n",
    "the section on rounding), so we have\n",
    "$$\n",
    "1.010101010101010101010101\\ldots \\approx 1.01010101010101010101011 \\in F_{32} \n",
    "$$\n",
    "and the <span style=\"color:blue\">significand bits</span> are `01010101010101010101011`.\n",
    "Thus the `Float32` bits for $1/3$ are:"
   ]
  },
  {
   "cell_type": "code",
   "execution_count": 15,
   "metadata": {
    "execution": {
     "iopub.execute_input": "2022-01-04T16:22:11.009673Z",
     "iopub.status.busy": "2022-01-04T16:22:11.009168Z",
     "iopub.status.idle": "2022-01-04T16:22:11.095265Z",
     "shell.execute_reply": "2022-01-04T16:22:11.094759Z"
    }
   },
   "outputs": [
    {
     "name": "stdout",
     "output_type": "stream",
     "text": [
      "\u001b[31m0\u001b[0m\u001b[32m01111101\u001b[0m\u001b[34m01010101010101010101011\u001b[0m"
     ]
    }
   ],
   "source": [
    "printbits(1f0/3)"
   ]
  },
  {
   "cell_type": "markdown",
   "metadata": {},
   "source": [
    "For sub-normal numbers, the simplest example is zero, which has $q=0$ and all significand bits zero:"
   ]
  },
  {
   "cell_type": "code",
   "execution_count": 16,
   "metadata": {
    "execution": {
     "iopub.execute_input": "2022-01-04T16:22:11.097352Z",
     "iopub.status.busy": "2022-01-04T16:22:11.096795Z",
     "iopub.status.idle": "2022-01-04T16:22:11.169063Z",
     "shell.execute_reply": "2022-01-04T16:22:11.168707Z"
    }
   },
   "outputs": [
    {
     "name": "stdout",
     "output_type": "stream",
     "text": [
      "\u001b[31m0\u001b[0m\u001b[32m00000000000\u001b[0m\u001b[34m0000000000000000000000000000000000000000000000000000\u001b[0m"
     ]
    }
   ],
   "source": [
    "printbits(0.0)"
   ]
  },
  {
   "cell_type": "markdown",
   "metadata": {},
   "source": [
    "Unlike integers, we also have a negative zero:"
   ]
  },
  {
   "cell_type": "code",
   "execution_count": 17,
   "metadata": {
    "execution": {
     "iopub.execute_input": "2022-01-04T16:22:11.171412Z",
     "iopub.status.busy": "2022-01-04T16:22:11.170591Z",
     "iopub.status.idle": "2022-01-04T16:22:11.172865Z",
     "shell.execute_reply": "2022-01-04T16:22:11.171918Z"
    }
   },
   "outputs": [
    {
     "name": "stdout",
     "output_type": "stream",
     "text": [
      "\u001b[31m1\u001b[0m\u001b[32m00000000000\u001b[0m\u001b[34m0000000000000000000000000000000000000000000000000000\u001b[0m"
     ]
    }
   ],
   "source": [
    "printbits(-0.0)"
   ]
  },
  {
   "cell_type": "markdown",
   "metadata": {},
   "source": [
    "This is treated as identical to `0.0` (except for degenerate operations as explained in special numbers).\n",
    "\n",
    "\n",
    "\n",
    "### Special normal numbers\n",
    "\n",
    "When dealing with normal numbers there are some important constants that we will use\n",
    "to bound errors.\n",
    "\n",
    "**Definition (machine epsilon/smallest positive normal number/largest normal number)** _Machine epsilon_ is denoted\n",
    "$$\n",
    "ϵ_{{\\rm m},S} := 2^{-S}.\n",
    "$$\n",
    "When $S$ is implied by context we use the notation $ϵ_{\\rm m}$.\n",
    "The _smallest positive normal number_ is $q = 1$ and $b_k$ all zero:\n",
    "$$\n",
    "\\min |F_{σ,Q,S}^{\\rm normal}| = 2^{1-σ}\n",
    "$$ \n",
    "where $|A| := $\\{|x| : x \\in A \\}$.\n",
    "The _largest (positive) normal number_ is \n",
    "$$\n",
    "\\max F_{σ,Q,S}^{\\rm normal} = 2^{2^Q-2-σ} (1.11\\ldots1)_2 = 2^{2^Q-2-σ} (2-ϵ_{\\rm m})\n",
    "$$\n",
    "\n",
    "\n",
    "We confirm the simple bit representations:"
   ]
  },
  {
   "cell_type": "code",
   "execution_count": 18,
   "metadata": {
    "execution": {
     "iopub.execute_input": "2022-01-04T16:22:11.174824Z",
     "iopub.status.busy": "2022-01-04T16:22:11.174283Z",
     "iopub.status.idle": "2022-01-04T16:22:11.190600Z",
     "shell.execute_reply": "2022-01-04T16:22:11.190230Z"
    }
   },
   "outputs": [
    {
     "name": "stdout",
     "output_type": "stream",
     "text": [
      "\u001b[31m0\u001b[0m\u001b[32m00000001\u001b[0m\u001b[34m00000000000000000000000\u001b[0m\n",
      "\u001b[31m0\u001b[0m\u001b[32m11111111\u001b[0m\u001b[34m00000000000000000000000\u001b[0m\n"
     ]
    }
   ],
   "source": [
    "σ,Q,S = 127,23,8 # Float32\n",
    "εₘ = 2.0^(-S)\n",
    "printlnbits(Float32(2.0^(1-σ))) # smallest positive Float32\n",
    "printlnbits(Float32(2.0^(2^Q-2-σ) * (2-εₘ))) # largest Float32"
   ]
  },
  {
   "cell_type": "markdown",
   "metadata": {},
   "source": [
    "For a given floating-point type, we can find these constants using the following functions:"
   ]
  },
  {
   "cell_type": "code",
   "execution_count": 19,
   "metadata": {
    "execution": {
     "iopub.execute_input": "2022-01-04T16:22:11.192484Z",
     "iopub.status.busy": "2022-01-04T16:22:11.191960Z",
     "iopub.status.idle": "2022-01-04T16:22:11.476910Z",
     "shell.execute_reply": "2022-01-04T16:22:11.476529Z"
    }
   },
   "outputs": [
    {
     "data": {
      "text/plain": [
       "(1.1920929f-7, 1.1754944f-38, 3.4028235f38)"
      ]
     },
     "execution_count": 19,
     "metadata": {},
     "output_type": "execute_result"
    }
   ],
   "source": [
    "eps(Float32),floatmin(Float32),floatmax(Float32)"
   ]
  },
  {
   "cell_type": "markdown",
   "metadata": {},
   "source": [
    "**Example (creating a sub-normal number)** If we divide the smallest normal number by two, we get a subnormal number:"
   ]
  },
  {
   "cell_type": "code",
   "execution_count": 20,
   "metadata": {
    "execution": {
     "iopub.execute_input": "2022-01-04T16:22:11.479071Z",
     "iopub.status.busy": "2022-01-04T16:22:11.478371Z",
     "iopub.status.idle": "2022-01-04T16:22:11.480933Z",
     "shell.execute_reply": "2022-01-04T16:22:11.480367Z"
    }
   },
   "outputs": [
    {
     "name": "stdout",
     "output_type": "stream",
     "text": [
      "\u001b[31m0\u001b[0m\u001b[32m00000001\u001b[0m\u001b[34m00000000000000000000000\u001b[0m\n",
      "\u001b[31m0\u001b[0m\u001b[32m00000000\u001b[0m\u001b[34m10000000000000000000000\u001b[0m"
     ]
    }
   ],
   "source": [
    "mn = floatmin(Float32) # smallest normal Float32\n",
    "printlnbits(mn)\n",
    "printbits(mn/2)"
   ]
  },
  {
   "cell_type": "markdown",
   "metadata": {},
   "source": [
    "Can you explain the bits?\n",
    "\n",
    "\n",
    "\n",
    "\n",
    "### Special numbers\n",
    "\n",
    "The special numbers extend the real line by adding $\\pm \\infty$ but also a notion of \"not-a-number\".\n",
    "\n",
    "**Definition (not a number)**\n",
    "Let ${\\rm NaN}$ represent \"not a number\" and define\n",
    "$$\n",
    "F^{\\rm special} := \\{\\infty, -\\infty, {\\rm NaN}\\}\n",
    "$$\n",
    "\n",
    "Whenever the bits of $q$ of a floating-point number are all 1 then they represent an element of $F^{\\rm special}$.\n",
    "If all $b_k=0$, then the number represents either $\\pm\\infty$, called `Inf` and `-Inf` for 64-bit floating-point numbers (or `Inf16`, `Inf32`\n",
    "for 16-bit and 32-bit, respectively):"
   ]
  },
  {
   "cell_type": "code",
   "execution_count": 21,
   "metadata": {
    "execution": {
     "iopub.execute_input": "2022-01-04T16:22:11.482957Z",
     "iopub.status.busy": "2022-01-04T16:22:11.482413Z",
     "iopub.status.idle": "2022-01-04T16:22:11.567745Z",
     "shell.execute_reply": "2022-01-04T16:22:11.567170Z"
    }
   },
   "outputs": [
    {
     "name": "stdout",
     "output_type": "stream",
     "text": [
      "\u001b[31m0\u001b[0m\u001b[32m11111\u001b[0m\u001b[34m0000000000\u001b[0m\n",
      "\u001b[31m1\u001b[0m\u001b[32m11111\u001b[0m\u001b[34m0000000000\u001b[0m"
     ]
    }
   ],
   "source": [
    "printlnbits(Inf16)\n",
    "printbits(-Inf16)"
   ]
  },
  {
   "cell_type": "markdown",
   "metadata": {},
   "source": [
    "All other special floating-point numbers represent ${\\rm NaN}$. One particular representation of ${\\rm NaN}$ \n",
    "is denoted by `NaN` for 64-bit floating-point numbers (or `NaN16`, `NaN32` for 16-bit and 32-bit, respectively):"
   ]
  },
  {
   "cell_type": "code",
   "execution_count": 22,
   "metadata": {
    "execution": {
     "iopub.execute_input": "2022-01-04T16:22:11.570115Z",
     "iopub.status.busy": "2022-01-04T16:22:11.569359Z",
     "iopub.status.idle": "2022-01-04T16:22:11.571826Z",
     "shell.execute_reply": "2022-01-04T16:22:11.570553Z"
    }
   },
   "outputs": [
    {
     "name": "stdout",
     "output_type": "stream",
     "text": [
      "\u001b[31m0\u001b[0m\u001b[32m11111\u001b[0m\u001b[34m1000000000\u001b[0m"
     ]
    }
   ],
   "source": [
    "printbits(NaN16)"
   ]
  },
  {
   "cell_type": "markdown",
   "metadata": {},
   "source": [
    "These are needed for undefined algebraic operations such as:"
   ]
  },
  {
   "cell_type": "code",
   "execution_count": 23,
   "metadata": {
    "execution": {
     "iopub.execute_input": "2022-01-04T16:22:11.573987Z",
     "iopub.status.busy": "2022-01-04T16:22:11.573265Z",
     "iopub.status.idle": "2022-01-04T16:22:11.575641Z",
     "shell.execute_reply": "2022-01-04T16:22:11.574496Z"
    }
   },
   "outputs": [
    {
     "data": {
      "text/plain": [
       "NaN"
      ]
     },
     "execution_count": 23,
     "metadata": {},
     "output_type": "execute_result"
    }
   ],
   "source": [
    "0/0"
   ]
  },
  {
   "cell_type": "markdown",
   "metadata": {},
   "source": [
    "**Example (many `NaN`s)** What happens if we change some other $b_k$ to be nonzero?\n",
    "We can create bits as a string and see:"
   ]
  },
  {
   "cell_type": "code",
   "execution_count": 24,
   "metadata": {
    "execution": {
     "iopub.execute_input": "2022-01-04T16:22:11.577603Z",
     "iopub.status.busy": "2022-01-04T16:22:11.577012Z",
     "iopub.status.idle": "2022-01-04T16:22:11.850730Z",
     "shell.execute_reply": "2022-01-04T16:22:11.850253Z"
    }
   },
   "outputs": [
    {
     "data": {
      "text/plain": [
       "NaN16"
      ]
     },
     "execution_count": 24,
     "metadata": {},
     "output_type": "execute_result"
    }
   ],
   "source": [
    "i = parse(UInt16, \"0111110000010001\"; base=2)\n",
    "reinterpret(Float16, i)"
   ]
  },
  {
   "cell_type": "markdown",
   "metadata": {},
   "source": [
    "Thus, there are more than one `NaN`s on a computer.  \n",
    "\n",
    "\n",
    "## 4. Arithmetic\n",
    "\n",
    "\n",
    "Arithmetic operations on floating-point numbers are  _exact up to rounding_.\n",
    "There are three basic rounding strategies: round up/down/nearest.\n",
    "Mathematically we introduce a function to capture the notion of rounding:\n",
    "\n",
    "**Definition (rounding)** ${\\rm fl}^{\\rm up}_{σ,Q,S} : \\mathbb R \\rightarrow F_{σ,Q,S}$ denotes \n",
    "the function that rounds a real number up to the nearest floating-point number that is greater or equal.\n",
    "${\\rm fl}^{\\rm down}_{σ,Q,S} : \\mathbb R \\rightarrow F_{σ,Q,S}$ denotes \n",
    "the function that rounds a real number down to the nearest floating-point number that is greater or equal.\n",
    "${\\rm fl}^{\\rm nearest}_{σ,Q,S} : \\mathbb R \\rightarrow F_{σ,Q,S}$ denotes \n",
    "the function that rounds a real number to the nearest floating-point number. In case of a tie,\n",
    "it returns the floating-point number whose least significant bit is equal to zero.\n",
    "We use the notation ${\\rm fl}$ when $σ,Q,S$ and the rounding mode are implied by context,\n",
    "with ${\\rm fl}^{\\rm nearest}$ being the default rounding mode.\n",
    "\n",
    "\n",
    "\n",
    "In Julia, the rounding mode is specified by tags `RoundUp`, `RoundDown`, and\n",
    "`RoundNearest`. (There are also more exotic rounding strategies `RoundToZero`, `RoundNearestTiesAway` and\n",
    "`RoundNearestTiesUp` that we won't use.)\n",
    "\n",
    "\n",
    "\n",
    "**WARNING (rounding performance, advanced)** These rounding modes are part\n",
    "of the FPU instruction set so will be (roughly) equally fast as the default, `RoundNearest`.\n",
    "Unfortunately, changing the rounding mode is expensive, and is not thread-safe.\n",
    "\n",
    "\n",
    "\n",
    "\n",
    "Let's try rounding a `Float64` to a `Float32`."
   ]
  },
  {
   "cell_type": "code",
   "execution_count": 25,
   "metadata": {
    "execution": {
     "iopub.execute_input": "2022-01-04T16:22:11.852884Z",
     "iopub.status.busy": "2022-01-04T16:22:11.852354Z",
     "iopub.status.idle": "2022-01-04T16:22:11.857527Z",
     "shell.execute_reply": "2022-01-04T16:22:11.857104Z"
    }
   },
   "outputs": [
    {
     "name": "stdout",
     "output_type": "stream",
     "text": [
      "\u001b[31m0\u001b[0m\u001b[32m01111111101\u001b[0m\u001b[34m0101010101010101010101010101010101010101010101010101\u001b[0m\n",
      "\u001b[31m0\u001b[0m\u001b[32m01111101\u001b[0m\u001b[34m01010101010101010101011\u001b[0m"
     ]
    }
   ],
   "source": [
    "printlnbits(1/3)  # 64 bits\n",
    "printbits(Float32(1/3))  # round to nearest 32-bit"
   ]
  },
  {
   "cell_type": "markdown",
   "metadata": {},
   "source": [
    "The default rounding mode can be changed:"
   ]
  },
  {
   "cell_type": "code",
   "execution_count": 26,
   "metadata": {
    "execution": {
     "iopub.execute_input": "2022-01-04T16:22:11.859392Z",
     "iopub.status.busy": "2022-01-04T16:22:11.858904Z",
     "iopub.status.idle": "2022-01-04T16:22:11.870546Z",
     "shell.execute_reply": "2022-01-04T16:22:11.869615Z"
    }
   },
   "outputs": [
    {
     "name": "stdout",
     "output_type": "stream",
     "text": [
      "\u001b[31m0\u001b[0m\u001b[32m01111101\u001b[0m\u001b[34m01010101010101010101010\u001b[0m"
     ]
    }
   ],
   "source": [
    "printbits(Float32(1/3,RoundDown) )"
   ]
  },
  {
   "cell_type": "markdown",
   "metadata": {},
   "source": [
    "Or alternatively we can change the rounding mode for a chunk of code\n",
    "using `setrounding`. The following computes upper and lower bounds for `/`:"
   ]
  },
  {
   "cell_type": "code",
   "execution_count": 27,
   "metadata": {
    "execution": {
     "iopub.execute_input": "2022-01-04T16:22:11.872945Z",
     "iopub.status.busy": "2022-01-04T16:22:11.872388Z",
     "iopub.status.idle": "2022-01-04T16:22:12.172160Z",
     "shell.execute_reply": "2022-01-04T16:22:12.171767Z"
    }
   },
   "outputs": [
    {
     "data": {
      "text/plain": [
       "(0.3333333f0, 0.33333334f0)"
      ]
     },
     "execution_count": 27,
     "metadata": {},
     "output_type": "execute_result"
    }
   ],
   "source": [
    "x = 1f0\n",
    "setrounding(Float32, RoundDown) do\n",
    "    x/3\n",
    "end,\n",
    "setrounding(Float32, RoundUp) do\n",
    "    x/3\n",
    "end"
   ]
  },
  {
   "cell_type": "markdown",
   "metadata": {},
   "source": [
    "**WARNING (compiled constants, advanced)**: Why did we first create a variable `x` instead of typing `1f0/3`?\n",
    "This is due to a very subtle issue where the compiler is _too clever for it's own good_: \n",
    "it recognises `1f0/3` can be computed at compile time, but failed to recognise the rounding mode\n",
    "was changed. \n",
    "\n",
    "In IEEE arithmetic, the arithmetic operations `+`, `-`, `*`, `/` are defined by the property\n",
    "that they are exact up to rounding.  Mathematically we denote these operations as follows:\n",
    "$$\n",
    "\\begin{align*}\n",
    "x\\oplus y &:= {\\rm fl}(x+y) \\\\\n",
    "x\\ominus y &:= {\\rm fl}(x - y) \\\\\n",
    "x\\otimes y &:= {\\rm fl}(x * y) \\\\\n",
    "x\\oslash y &:= {\\rm fl}(x / y)\n",
    "\\end{align*}\n",
    "$$\n",
    "Note also that  `^` and `sqrt` are similarly exact up to rounding.\n",
    "\n",
    "\n",
    "**Example (decimal is not exact)** `1.1+0.1` gives a different result than `1.2`:"
   ]
  },
  {
   "cell_type": "code",
   "execution_count": 28,
   "metadata": {
    "execution": {
     "iopub.execute_input": "2022-01-04T16:22:12.174403Z",
     "iopub.status.busy": "2022-01-04T16:22:12.173567Z",
     "iopub.status.idle": "2022-01-04T16:22:12.176377Z",
     "shell.execute_reply": "2022-01-04T16:22:12.175932Z"
    }
   },
   "outputs": [
    {
     "data": {
      "text/plain": [
       "2.220446049250313e-16"
      ]
     },
     "execution_count": 28,
     "metadata": {},
     "output_type": "execute_result"
    }
   ],
   "source": [
    "x = 1.1\n",
    "y = 0.1\n",
    "x + y - 1.2 # Not Zero?!?"
   ]
  },
  {
   "cell_type": "markdown",
   "metadata": {},
   "source": [
    "This is because ${\\rm fl}(1.1) \\neq 1+1/10$, but rather:\n",
    "$$\n",
    "{\\rm fl}(1.1) = 1 + 2^{-4}+2^{-5} + 2^{-8}+2^{-9}+\\cdots + 2^{-48}+2^{-49} + 2^{-51}\n",
    "$$\n",
    "\n",
    "**WARNING (non-associative)** These operations are not associative! E.g. $(x \\oplus y) \\oplus z$ is not necessarily equal to $x \\oplus (y \\oplus z)$. \n",
    "Commutativity is preserved, at least.\n",
    "Here is a surprising example of non-associativity:"
   ]
  },
  {
   "cell_type": "code",
   "execution_count": 29,
   "metadata": {
    "execution": {
     "iopub.execute_input": "2022-01-04T16:22:12.178176Z",
     "iopub.status.busy": "2022-01-04T16:22:12.177660Z",
     "iopub.status.idle": "2022-01-04T16:22:12.467506Z",
     "shell.execute_reply": "2022-01-04T16:22:12.466749Z"
    }
   },
   "outputs": [
    {
     "data": {
      "text/plain": [
       "(3.5999999999999996, 3.6)"
      ]
     },
     "execution_count": 29,
     "metadata": {},
     "output_type": "execute_result"
    }
   ],
   "source": [
    "(1.1 + 1.2) + 1.3, 1.1 + (1.2 + 1.3)"
   ]
  },
  {
   "cell_type": "markdown",
   "metadata": {},
   "source": [
    "Can you explain this in terms of bits?\n",
    "\n",
    "\n",
    "### Bounding errors in floating point arithmetic\n",
    "\n",
    "Before we dicuss bounds on errors, we need to talk about the two notions of errors:\n",
    "\n",
    "**Definition (absolute/relative error)** If $\\tilde x = x + δ_{rm a} = x (1 + δ_{\\rm r})$ then \n",
    "$|δ_{\\rm a}|$ is called the _absolute error_ and $|δ_{\\rm r}|$ is called the \n",
    "_relative error_ in approximating $x$ by $\\tilde x$.\n",
    "\n",
    "We can bound the error of basic arithmetic operations in terms of machine epsilon, provided\n",
    "a real number is close to a normal number:\n",
    "\n",
    "**Definition (normalised range)** The _normalised range_ ${\\cal N}_{σ,Q,S} \\subset {\\mathbb R}$\n",
    "is the subset of real numbers that lies\n",
    "between the smallest and largest normal floating-point number:\n",
    "$$\n",
    "{\\cal N}_{σ,Q,S} := \\{x : \\min |F_{σ,Q,S}| \\leq |x| \\leq \\max F_{σ,Q,S} \\}\n",
    "$$\n",
    "When $σ,Q,S$ are implied by context we use the notation ${\\cal N}$.\n",
    "\n",
    "We can use machine epsilon to determine bounds on rounding:\n",
    "\n",
    "**Proposition (rounding arithmetic)**\n",
    "If $x \\in {\\cal N}$ then \n",
    "$$\n",
    "{\\rm fl}^{\\rm mode}(x) = x (1 + \\delta_x^{\\rm mode})\n",
    "$$\n",
    "where the _relative error_ is\n",
    "$$\n",
    "\\begin{align*}\n",
    "|\\delta_x^{\\rm nearest}| &\\leq {ϵ_{\\rm m} \\over 2} \\\\\n",
    "|\\delta_x^{\\rm up/down}| &< {ϵ_{\\rm m}}.\n",
    "\\end{align*}\n",
    "$$\n",
    "\n",
    "\n",
    "This immediately implies relative error bounds on all IEEE arithmetic operations, e.g., \n",
    "if $x+y \\in {\\cal N}$ then\n",
    "we have\n",
    "$$\n",
    "x \\oplus y = (x+y) (1 + \\delta_1)\n",
    "$$\n",
    "where (assuming the default nearest rounding)\n",
    "$\n",
    "|\\delta_1| \\leq {ϵ_{\\rm m} \\over 2}.\n",
    "$\n",
    "\n",
    "**Example (bounding a simple computation)** We show how to bound the error in computing\n",
    "$$\n",
    "(1.1 + 1.2) + 1.3\n",
    "$$\n",
    "using floating-point arithmetic. First note that `1.1` on a computer is in\n",
    "fact ${\\rm fl}(1.1)$. Thus this computation becomes\n",
    "$$\n",
    "({\\rm fl}(1.1) \\oplus {\\rm fl}(1.2)) \\oplus {\\rm fl}(1.3)\n",
    "$$\n",
    "First we find\n",
    "$$\n",
    "({\\rm fl}(1.1) \\oplus {\\rm fl}(1.2)) = (1.1(1 + δ_1) + 1.2 (1+δ_2))(1 + δ_3)\n",
    " = 2.3 + 1.1 δ_1 + 1.2 δ_2 + 2.3 δ_3 + 1.1 δ_1 δ_3 + 1.2 δ_2 δ_3\n",
    " = 2.3 + δ_4\n",
    " $$\n",
    "where (note $δ_1 δ_3$ and $δ_2 δ_3$ are tiny so we just round up our bound to the nearest decimal)\n",
    "$$\n",
    "|δ_4| \\leq 2.3 ϵ_{\\rm m}\n",
    "$$\n",
    "Thus the computation becomes\n",
    "$$\n",
    "((2.3 + δ_4) + 1.3 (1 + δ_5)) (1 + δ_6) = 3.6 + δ_4 + 1.3 δ_5 + 3.6 δ_6 + δ_4 δ_6  + 1.3 δ_5 δ_6 = 3.6 + δ_7\n",
    "$$\n",
    "where the _absolute error_ is\n",
    "$$\n",
    "|δ_7| \\leq 4.8 ϵ_{\\rm m}\n",
    "$$\n",
    "Indeed, this bound is bigger than the observed error:"
   ]
  },
  {
   "cell_type": "code",
   "execution_count": 30,
   "metadata": {
    "execution": {
     "iopub.execute_input": "2022-01-04T16:22:12.469557Z",
     "iopub.status.busy": "2022-01-04T16:22:12.469058Z",
     "iopub.status.idle": "2022-01-04T16:22:12.474284Z",
     "shell.execute_reply": "2022-01-04T16:22:12.473837Z"
    }
   },
   "outputs": [
    {
     "data": {
      "text/plain": [
       "(4.440892098500626e-16, 1.0658141036401502e-15)"
      ]
     },
     "execution_count": 30,
     "metadata": {},
     "output_type": "execute_result"
    }
   ],
   "source": [
    "abs(3.6 - (1.1+1.2+1.3)), 4.8eps()"
   ]
  },
  {
   "cell_type": "markdown",
   "metadata": {},
   "source": [
    "### Arithmetic and special numbers\n",
    "\n",
    "Arithmetic works differently on `Inf` and `NaN` and for undefined operations. \n",
    "In particular we have:"
   ]
  },
  {
   "cell_type": "code",
   "execution_count": 31,
   "metadata": {
    "execution": {
     "iopub.execute_input": "2022-01-04T16:22:12.476120Z",
     "iopub.status.busy": "2022-01-04T16:22:12.475629Z",
     "iopub.status.idle": "2022-01-04T16:22:12.686393Z",
     "shell.execute_reply": "2022-01-04T16:22:12.685939Z"
    }
   },
   "outputs": [
    {
     "data": {
      "text/plain": [
       "true"
      ]
     },
     "execution_count": 31,
     "metadata": {},
     "output_type": "execute_result"
    }
   ],
   "source": [
    "1/0.0        #  Inf\n",
    "1/(-0.0)     # -Inf\n",
    "0.0/0.0      #  NaN\n",
    "  \n",
    "Inf*0        #  NaN\n",
    "Inf+5        #  Inf\n",
    "(-1)*Inf     # -Inf\n",
    "1/Inf        #  0.0\n",
    "1/(-Inf)     # -0.0\n",
    "Inf - Inf    #  NaN\n",
    "Inf ==  Inf  #  true\n",
    "Inf == -Inf  #  false\n",
    "\n",
    "NaN*0        #  NaN\n",
    "NaN+5        #  NaN\n",
    "1/NaN        #  NaN\n",
    "NaN == NaN   #  false\n",
    "NaN != NaN   #  true"
   ]
  },
  {
   "cell_type": "markdown",
   "metadata": {},
   "source": [
    "### Special functions (advanced)\n",
    "\n",
    "Other special functions like `cos`, `sin`, `exp`, etc. are _not_ part of the IEEE standard.\n",
    "Instead, they are implemented by composing the basic arithmetic operations, which accumulate\n",
    "errors. Fortunately many are  designed to have _relative accuracy_, that is, `s = sin(x)` \n",
    "(that is, the Julia implementation of $\\sin x$) satisfies\n",
    "$$\n",
    "{\\tt s} = (\\sin x) ( 1 + \\delta)\n",
    "$$\n",
    "where $|\\delta| < cϵ_{\\rm m}$ for a reasonably small $c > 0$,\n",
    "_provided_ that $x \\in {\\rm F}^{\\rm normal}$.\n",
    "Note these special functions are written in (advanced) Julia code, for example, \n",
    "[sin](https://github.com/JuliaLang/julia/blob/d08b05df6f01cf4ec6e4c28ad94cedda76cc62e8/base/special/trig.jl#L76).\n",
    "\n",
    "\n",
    "**WARNING (sin(fl(x)) is not always close to sin(x))** This is possibly a misleading statement\n",
    "when one thinks of $x$ as a real number. Consider $x = \\pi$ so that $\\sin x = 0$.\n",
    "However, as ${\\rm fl}(\\pi) \\neq \\pi$. Thus we only have relative accuracy compared\n",
    "to the floating point approximation:"
   ]
  },
  {
   "cell_type": "code",
   "execution_count": 32,
   "metadata": {
    "execution": {
     "iopub.execute_input": "2022-01-04T16:22:12.688555Z",
     "iopub.status.busy": "2022-01-04T16:22:12.687937Z",
     "iopub.status.idle": "2022-01-04T16:22:13.226594Z",
     "shell.execute_reply": "2022-01-04T16:22:13.226149Z"
    }
   },
   "outputs": [
    {
     "data": {
      "text/plain": [
       "(1.2246467991473532e-16, 2.994769809718339860754263822337778811430799841054596882794158676581342467643355e-33)"
      ]
     },
     "execution_count": 32,
     "metadata": {},
     "output_type": "execute_result"
    }
   ],
   "source": [
    "π₆₄ = Float64(π)\n",
    "πᵦ = big(π₆₄) # Convert 64-bit approximation of π to higher precision. Note its the same number.\n",
    "abs(sin(π₆₄)), abs(sin(π₆₄) - sin(πᵦ)) # only has relative accuracy compared to sin(πᵦ), not sin(π)"
   ]
  },
  {
   "cell_type": "markdown",
   "metadata": {},
   "source": [
    "Another issue is when $x$ is very large:"
   ]
  },
  {
   "cell_type": "code",
   "execution_count": 33,
   "metadata": {
    "execution": {
     "iopub.execute_input": "2022-01-04T16:22:13.228588Z",
     "iopub.status.busy": "2022-01-04T16:22:13.228074Z",
     "iopub.status.idle": "2022-01-04T16:22:13.244706Z",
     "shell.execute_reply": "2022-01-04T16:22:13.244233Z"
    }
   },
   "outputs": [
    {
     "data": {
      "text/plain": [
       "true"
      ]
     },
     "execution_count": 33,
     "metadata": {},
     "output_type": "execute_result"
    }
   ],
   "source": [
    "ε = eps() # machine epsilon, 2^(-52)\n",
    "x = 2*10.0^100\n",
    "abs(sin(x) - sin(big(x)))  ≤  abs(sin(big(x))) * ε"
   ]
  },
  {
   "cell_type": "markdown",
   "metadata": {},
   "source": [
    "But if we instead compute `10^100` using `BigFloat` we get a completely different\n",
    "answer that even has the wrong sign!"
   ]
  },
  {
   "cell_type": "code",
   "execution_count": 34,
   "metadata": {
    "execution": {
     "iopub.execute_input": "2022-01-04T16:22:13.246737Z",
     "iopub.status.busy": "2022-01-04T16:22:13.246218Z",
     "iopub.status.idle": "2022-01-04T16:22:13.264025Z",
     "shell.execute_reply": "2022-01-04T16:22:13.263570Z"
    }
   },
   "outputs": [
    {
     "data": {
      "text/plain": [
       "(-0.703969872087777, 0.6911910845037462219623751594978914260403966392716944990360937340001300242965408)"
      ]
     },
     "execution_count": 34,
     "metadata": {},
     "output_type": "execute_result"
    }
   ],
   "source": [
    "x̃ = 2*big(10.0)^100\n",
    "sin(x), sin(x̃)"
   ]
  },
  {
   "cell_type": "markdown",
   "metadata": {},
   "source": [
    "This is because we commit an error on the order of roughly\n",
    "$$\n",
    "2 * 10^{100} * ϵ_{\\rm m} \\approx 4.44 * 10^{84}\n",
    "$$\n",
    "when we round $2*10^{100}$ to the nearest float. \n",
    "\n",
    "\n",
    "**Example (polynomial near root)** \n",
    "For general functions we do not generally have relative accuracy. \n",
    "For example, consider a simple\n",
    "polynomial $1 + 4x + x^2$ which has a root at $\\sqrt 3 - 2$. But"
   ]
  },
  {
   "cell_type": "code",
   "execution_count": 35,
   "metadata": {
    "execution": {
     "iopub.execute_input": "2022-01-04T16:22:13.266105Z",
     "iopub.status.busy": "2022-01-04T16:22:13.265602Z",
     "iopub.status.idle": "2022-01-04T16:22:13.559377Z",
     "shell.execute_reply": "2022-01-04T16:22:13.558998Z"
    }
   },
   "outputs": [
    {
     "data": {
      "text/plain": [
       "(6.808194126854568545271553503125001640528110233296921194323658710345625877380371e-19, 0.001962328354097166993597056716680526733398437500000000000000000000000000000000008)"
      ]
     },
     "execution_count": 35,
     "metadata": {},
     "output_type": "execute_result"
    }
   ],
   "source": [
    "f = x -> 1 + 4x + x^2\n",
    "x = sqrt(3) - 2\n",
    "abserr = abs(f(big(x)) - f(x))\n",
    "relerr = abserr/abs(f(x))\n",
    "abserr, relerr # very large relative error"
   ]
  },
  {
   "cell_type": "markdown",
   "metadata": {},
   "source": [
    "We can see this in the error bound (note that $4x$ is exact for floating point numbers\n",
    "and adding $1$ is exact for this particular $x$):\n",
    "$$\n",
    "(x \\otimes x \\oplus 4x) + 1 = (x^2 (1 + \\delta_1) + 4x)(1+\\delta_2) + 1 = x^2 + 4x + 1 + \\delta_1 x^2 + 4x \\delta_2 + x^2 \\delta_1 \\delta_2\n",
    "$$\n",
    "Using a simple bound $|x| < 1$ we get a (pessimistic) bound on the absolute error of\n",
    "$3 ϵ_{\\rm m}$. Here `f(x)` itself is less than $2 ϵ_{\\rm m}$ so this does not imply\n",
    "relative accuracy. (Of course, a bad upper bound is not the same as a proof of inaccuracy,\n",
    "but here we observe the inaccuracy in practice.)\n",
    "\n",
    "\n",
    "\n",
    "\n",
    "\n",
    "\n",
    "## 5. High-precision floating-point numbers (advanced)\n",
    "\n",
    "It is possible to set the precision of a floating-point number\n",
    "using the `BigFloat` type, which results from the usage of `big`\n",
    "when the result is not an integer.\n",
    "For example, here is an approximation of 1/3 accurate\n",
    "to 77 decimal digits:"
   ]
  },
  {
   "cell_type": "code",
   "execution_count": 36,
   "metadata": {
    "execution": {
     "iopub.execute_input": "2022-01-04T16:22:13.561340Z",
     "iopub.status.busy": "2022-01-04T16:22:13.560808Z",
     "iopub.status.idle": "2022-01-04T16:22:13.740695Z",
     "shell.execute_reply": "2022-01-04T16:22:13.740192Z"
    }
   },
   "outputs": [
    {
     "data": {
      "text/plain": [
       "0.3333333333333333333333333333333333333333333333333333333333333333333333333333348"
      ]
     },
     "execution_count": 36,
     "metadata": {},
     "output_type": "execute_result"
    }
   ],
   "source": [
    "big(1)/3"
   ]
  },
  {
   "cell_type": "markdown",
   "metadata": {},
   "source": [
    "Note we can set the rounding mode as in `Float64`, e.g., \n",
    "this gives (rigorous) bounds on\n",
    "`1/3`:"
   ]
  },
  {
   "cell_type": "code",
   "execution_count": 37,
   "metadata": {
    "execution": {
     "iopub.execute_input": "2022-01-04T16:22:13.742631Z",
     "iopub.status.busy": "2022-01-04T16:22:13.742114Z",
     "iopub.status.idle": "2022-01-04T16:22:13.756696Z",
     "shell.execute_reply": "2022-01-04T16:22:13.756254Z"
    }
   },
   "outputs": [
    {
     "data": {
      "text/plain": [
       "(0.3333333333333333333333333333333333333333333333333333333333333333333333333333305, 0.3333333333333333333333333333333333333333333333333333333333333333333333333333348)"
      ]
     },
     "execution_count": 37,
     "metadata": {},
     "output_type": "execute_result"
    }
   ],
   "source": [
    "setrounding(BigFloat, RoundDown) do\n",
    "  big(1)/3\n",
    "end, setrounding(BigFloat, RoundUp) do\n",
    "  big(1)/3\n",
    "end"
   ]
  },
  {
   "cell_type": "markdown",
   "metadata": {},
   "source": [
    "We can also increase the precision, e.g., this finds bounds on `1/3` accurate to \n",
    "more than 1000 decimal places:"
   ]
  },
  {
   "cell_type": "code",
   "execution_count": 38,
   "metadata": {
    "execution": {
     "iopub.execute_input": "2022-01-04T16:22:13.758541Z",
     "iopub.status.busy": "2022-01-04T16:22:13.758059Z",
     "iopub.status.idle": "2022-01-04T16:22:13.783305Z",
     "shell.execute_reply": "2022-01-04T16:22:13.782792Z"
    }
   },
   "outputs": [
    {
     "data": {
      "text/plain": [
       "(0.333333333333333333333333333333333333333333333333333333333333333333333333333333333333333333333333333333333333333333333333333333333333333333333333333333333333333333333333333333333333333333333333333333333333333333333333333333333333333333333333333333333333333333333333333333333333333333333333333333333333333333333333333333333333333333333333333333333333333333333333333333333333333333333333333333333333333333333333333333333333333333333333333333333333333333333333333333333333333333333333333333333333333333333333333333333333333333333333333333333333333333333333333333333333333333333333333333333333333333333333333333333333333333333333333333333333333333333333333333333333333333333333333333333333333333333333333333333333333333333333333333333333333333333333333333333333333333333333333333333333333333333333333333333333333333333333333333333333333333333333333333333333333333333333333333333333333333333333333333333333333333333333333333333333333333333333333333333333333333333333333333333333333333333333333333333333333333333333333333333333333333333333333333333333333333333333333333333333333333333333333333333333333333333333333333333333333333333333333333333333333333333333333333333333333333333333333333333333333333333333333308, 0.333333333333333333333333333333333333333333333333333333333333333333333333333333333333333333333333333333333333333333333333333333333333333333333333333333333333333333333333333333333333333333333333333333333333333333333333333333333333333333333333333333333333333333333333333333333333333333333333333333333333333333333333333333333333333333333333333333333333333333333333333333333333333333333333333333333333333333333333333333333333333333333333333333333333333333333333333333333333333333333333333333333333333333333333333333333333333333333333333333333333333333333333333333333333333333333333333333333333333333333333333333333333333333333333333333333333333333333333333333333333333333333333333333333333333333333333333333333333333333333333333333333333333333333333333333333333333333333333333333333333333333333333333333333333333333333333333333333333333333333333333333333333333333333333333333333333333333333333333333333333333333333333333333333333333333333333333333333333333333333333333333333333333333333333333333333333333333333333333333333333333333333333333333333333333333333333333333333333333333333333333333333333333333333333333333333333333333333333333333333333333333333333333333333333333333333333333333333333333333333333333346)"
      ]
     },
     "execution_count": 38,
     "metadata": {},
     "output_type": "execute_result"
    }
   ],
   "source": [
    "setprecision(4_000) do # 4000 bit precision\n",
    "  setrounding(BigFloat, RoundDown) do\n",
    "    big(1)/3\n",
    "  end, setrounding(BigFloat, RoundUp) do\n",
    "    big(1)/3\n",
    "  end\n",
    "end"
   ]
  },
  {
   "cell_type": "markdown",
   "metadata": {},
   "source": [
    "In the problem sheet we shall see how this can be used to rigorously bound ${\\rm e}$,\n",
    "accurate to 1000 digits."
   ]
  }
 ],
 "metadata": {
  "kernelspec": {
   "display_name": "Julia 1.7.0",
   "language": "julia",
   "name": "julia-1.7"
  },
  "language_info": {
   "file_extension": ".jl",
   "mimetype": "application/julia",
   "name": "julia",
   "version": "1.7.0"
  }
 },
 "nbformat": 4,
 "nbformat_minor": 2
}
