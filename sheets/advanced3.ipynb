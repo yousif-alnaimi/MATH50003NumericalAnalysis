{
 "cells": [
  {
   "cell_type": "markdown",
   "metadata": {},
   "source": [
    "**Problem 1** Deduce a reflection that reflects a vector $𝐱$ to $\\|𝐱\\| 𝐞_n$.\n",
    "\n",
    "**Problem 2** A unitary matrix $Q ∈ ℂ^{n × n}$ satisfies $Q^⋆Q = I$ where $Q^⋆ := Q̄^⊤$\n",
    "is conjugate transpose. For $𝐱 ∈ ℂ^n$, construct a unitary matrix such that\n",
    "$$\n",
    "    Q 𝐱 = ± \\| 𝐱 \\| 𝐞_1\n",
    "$$\n",
    "\n",
    "**Problem 3 (advanced)** The _generators_ of $S₃$ are the permutations that swap two consecutive entries:\n",
    "$$\n",
    "\\begin{align*}\n",
    "σ_1 &= \\begin{pmatrix} 1 & 2 & 3 \\\\  2 & 1 & 3 \\end{pmatrix} \\\\\n",
    "σ_2 &= \\begin{pmatrix} 1 & 2 & 3 \\\\  1 & 3 & 2 \\end{pmatrix}\n",
    "\\end{align*}\n",
    "$$\n",
    "Every $σ \\in S₃$ can be written as products of $σ_1$ and $σ_2$. Show that $S₃$ also has a $2 × 2$ representation\n",
    "that can be deduced from the maps\n",
    "$$\n",
    "σ_1 ↦ \\begin{bmatrix} 1  \\\\ & -1 \\end{bmatrix} \\\\\n",
    "σ_2 ↦ {1 \\over 2} \\begin{bmatrix} -1 & \\sqrt 3  \\\\ \\sqrt 3 & 1 \\end{bmatrix}.\n",
    "$$"
   ]
  },
  {
   "cell_type": "markdown",
   "metadata": {},
   "source": []
  }
 ],
 "metadata": {
  "kernelspec": {
   "display_name": "Julia 1.7.1",
   "language": "julia",
   "name": "julia-1.7"
  },
  "language_info": {
   "file_extension": ".jl",
   "mimetype": "application/julia",
   "name": "julia",
   "version": "1.7.1"
  }
 },
 "nbformat": 4,
 "nbformat_minor": 2
}
