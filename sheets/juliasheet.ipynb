{
 "cells": [
  {
   "cell_type": "markdown",
   "metadata": {},
   "source": [
    "# Julia Problem Sheet\n",
    "\n",
    "This problem sheet is designed to test some basic Julia\n",
    "knowledge. Note each problem has multiple solutions, and the solution\n",
    "sheet will show different ways of solving the same problem.\n",
    "\n",
    "In assessment, _any_ \"solution\" will be accepted provided it does the right thing!\n",
    "So you do not need to be able to write broadcasting or comprehensions\n",
    "if you can do for loops.\n",
    "\n",
    "\n",
    "\n",
    "## 1. Array creation and broadcasting\n",
    "\n",
    "**Problem 1.1** Create a vector of length 5 whose entries are `Int` which is\n",
    "zero in all entries.\n",
    "\n",
    "**SOLUTIONS**\n",
    "\n",
    "1. `zeros`"
   ]
  },
  {
   "cell_type": "code",
   "execution_count": 1,
   "metadata": {
    "execution": {
     "iopub.execute_input": "2022-03-01T21:38:46.108935Z",
     "iopub.status.busy": "2022-03-01T21:38:45.660978Z",
     "iopub.status.idle": "2022-03-01T21:38:47.465200Z",
     "shell.execute_reply": "2022-03-01T21:38:47.464638Z"
    }
   },
   "outputs": [
    {
     "data": {
      "text/plain": [
       "5-element Vector{Int64}:\n",
       " 0\n",
       " 0\n",
       " 0\n",
       " 0\n",
       " 0"
      ]
     },
     "execution_count": 1,
     "metadata": {},
     "output_type": "execute_result"
    }
   ],
   "source": [
    "zeros(Int, 5)"
   ]
  },
  {
   "cell_type": "markdown",
   "metadata": {},
   "source": [
    "2. `fill`"
   ]
  },
  {
   "cell_type": "code",
   "execution_count": 2,
   "metadata": {
    "execution": {
     "iopub.execute_input": "2022-03-01T21:38:47.467464Z",
     "iopub.status.busy": "2022-03-01T21:38:47.466814Z",
     "iopub.status.idle": "2022-03-01T21:38:47.477188Z",
     "shell.execute_reply": "2022-03-01T21:38:47.476553Z"
    }
   },
   "outputs": [
    {
     "data": {
      "text/plain": [
       "5-element Vector{Int64}:\n",
       " 0\n",
       " 0\n",
       " 0\n",
       " 0\n",
       " 0"
      ]
     },
     "execution_count": 2,
     "metadata": {},
     "output_type": "execute_result"
    }
   ],
   "source": [
    "fill(0, 5)"
   ]
  },
  {
   "cell_type": "markdown",
   "metadata": {},
   "source": [
    "3. Comprehension"
   ]
  },
  {
   "cell_type": "code",
   "execution_count": 3,
   "metadata": {
    "execution": {
     "iopub.execute_input": "2022-03-01T21:38:47.479864Z",
     "iopub.status.busy": "2022-03-01T21:38:47.479297Z",
     "iopub.status.idle": "2022-03-01T21:38:47.501730Z",
     "shell.execute_reply": "2022-03-01T21:38:47.500905Z"
    }
   },
   "outputs": [
    {
     "data": {
      "text/plain": [
       "5-element Vector{Int64}:\n",
       " 0\n",
       " 0\n",
       " 0\n",
       " 0\n",
       " 0"
      ]
     },
     "execution_count": 3,
     "metadata": {},
     "output_type": "execute_result"
    }
   ],
   "source": [
    "[0 for k=1:5]"
   ]
  },
  {
   "cell_type": "markdown",
   "metadata": {},
   "source": [
    "**Problem 1.2** Create a 5×6 matrix whose entries are `Int` which is\n",
    "one in all entries.\n",
    "\n",
    "**SOLUTIONS**\n",
    "\n",
    "1. For-loop:"
   ]
  },
  {
   "cell_type": "code",
   "execution_count": 4,
   "metadata": {
    "execution": {
     "iopub.execute_input": "2022-03-01T21:38:47.524287Z",
     "iopub.status.busy": "2022-03-01T21:38:47.523725Z",
     "iopub.status.idle": "2022-03-01T21:38:47.937674Z",
     "shell.execute_reply": "2022-03-01T21:38:47.937229Z"
    }
   },
   "outputs": [
    {
     "data": {
      "text/plain": [
       "5×6 Matrix{Int64}:\n",
       " 1  1  1  1  1  1\n",
       " 1  1  1  1  1  1\n",
       " 1  1  1  1  1  1\n",
       " 1  1  1  1  1  1\n",
       " 1  1  1  1  1  1"
      ]
     },
     "execution_count": 4,
     "metadata": {},
     "output_type": "execute_result"
    }
   ],
   "source": [
    "ret = zeros(Int, 5, 6)\n",
    "for k=1:5, j=1:6\n",
    "    ret[k,j] = 1\n",
    "end\n",
    "ret"
   ]
  },
  {
   "cell_type": "markdown",
   "metadata": {},
   "source": [
    "2. Ones:"
   ]
  },
  {
   "cell_type": "code",
   "execution_count": 5,
   "metadata": {
    "execution": {
     "iopub.execute_input": "2022-03-01T21:38:47.939864Z",
     "iopub.status.busy": "2022-03-01T21:38:47.939316Z",
     "iopub.status.idle": "2022-03-01T21:38:47.951040Z",
     "shell.execute_reply": "2022-03-01T21:38:47.950606Z"
    }
   },
   "outputs": [
    {
     "data": {
      "text/plain": [
       "5×6 Matrix{Int64}:\n",
       " 1  1  1  1  1  1\n",
       " 1  1  1  1  1  1\n",
       " 1  1  1  1  1  1\n",
       " 1  1  1  1  1  1\n",
       " 1  1  1  1  1  1"
      ]
     },
     "execution_count": 5,
     "metadata": {},
     "output_type": "execute_result"
    }
   ],
   "source": [
    "ones(Int, 5, 6)"
   ]
  },
  {
   "cell_type": "markdown",
   "metadata": {},
   "source": [
    "3. Fill:"
   ]
  },
  {
   "cell_type": "code",
   "execution_count": 6,
   "metadata": {
    "execution": {
     "iopub.execute_input": "2022-03-01T21:38:47.953144Z",
     "iopub.status.busy": "2022-03-01T21:38:47.952600Z",
     "iopub.status.idle": "2022-03-01T21:38:47.963484Z",
     "shell.execute_reply": "2022-03-01T21:38:47.963043Z"
    }
   },
   "outputs": [
    {
     "data": {
      "text/plain": [
       "5×6 Matrix{Int64}:\n",
       " 1  1  1  1  1  1\n",
       " 1  1  1  1  1  1\n",
       " 1  1  1  1  1  1\n",
       " 1  1  1  1  1  1\n",
       " 1  1  1  1  1  1"
      ]
     },
     "execution_count": 6,
     "metadata": {},
     "output_type": "execute_result"
    }
   ],
   "source": [
    "fill(1, 5, 6)"
   ]
  },
  {
   "cell_type": "markdown",
   "metadata": {},
   "source": [
    "4. Comprehension"
   ]
  },
  {
   "cell_type": "code",
   "execution_count": 7,
   "metadata": {
    "execution": {
     "iopub.execute_input": "2022-03-01T21:38:47.965550Z",
     "iopub.status.busy": "2022-03-01T21:38:47.965015Z",
     "iopub.status.idle": "2022-03-01T21:38:48.017543Z",
     "shell.execute_reply": "2022-03-01T21:38:48.016962Z"
    }
   },
   "outputs": [
    {
     "data": {
      "text/plain": [
       "5×6 Matrix{Int64}:\n",
       " 1  1  1  1  1  1\n",
       " 1  1  1  1  1  1\n",
       " 1  1  1  1  1  1\n",
       " 1  1  1  1  1  1\n",
       " 1  1  1  1  1  1"
      ]
     },
     "execution_count": 7,
     "metadata": {},
     "output_type": "execute_result"
    }
   ],
   "source": [
    "[1 for k=1:5, j=1:6]"
   ]
  },
  {
   "cell_type": "markdown",
   "metadata": {},
   "source": [
    "**Problem 1.3** Create a 1 × 5 `Matrix{Int}` with entries `A[k,j] = j`.\n",
    "\n",
    "1. For-loop"
   ]
  },
  {
   "cell_type": "code",
   "execution_count": 8,
   "metadata": {
    "execution": {
     "iopub.execute_input": "2022-03-01T21:38:48.019674Z",
     "iopub.status.busy": "2022-03-01T21:38:48.019115Z",
     "iopub.status.idle": "2022-03-01T21:38:48.043398Z",
     "shell.execute_reply": "2022-03-01T21:38:48.042978Z"
    }
   },
   "outputs": [],
   "source": [
    "A = zeros(Int, 1, 5)\n",
    "for j = 1:5\n",
    "    A[1,j] = j\n",
    "end"
   ]
  },
  {
   "cell_type": "markdown",
   "metadata": {},
   "source": [
    "2. Comprehension"
   ]
  },
  {
   "cell_type": "code",
   "execution_count": 9,
   "metadata": {
    "execution": {
     "iopub.execute_input": "2022-03-01T21:38:48.045536Z",
     "iopub.status.busy": "2022-03-01T21:38:48.044996Z",
     "iopub.status.idle": "2022-03-01T21:38:48.069739Z",
     "shell.execute_reply": "2022-03-01T21:38:48.069312Z"
    }
   },
   "outputs": [
    {
     "data": {
      "text/plain": [
       "1×5 Matrix{Int64}:\n",
       " 1  2  3  4  5"
      ]
     },
     "execution_count": 9,
     "metadata": {},
     "output_type": "execute_result"
    }
   ],
   "source": [
    "[j for k=1:1, j=1:5]"
   ]
  },
  {
   "cell_type": "markdown",
   "metadata": {},
   "source": [
    "3. convert transpose:"
   ]
  },
  {
   "cell_type": "code",
   "execution_count": 10,
   "metadata": {
    "execution": {
     "iopub.execute_input": "2022-03-01T21:38:48.071780Z",
     "iopub.status.busy": "2022-03-01T21:38:48.071225Z",
     "iopub.status.idle": "2022-03-01T21:38:48.114525Z",
     "shell.execute_reply": "2022-03-01T21:38:48.114101Z"
    }
   },
   "outputs": [
    {
     "data": {
      "text/plain": [
       "1×5 Matrix{Int64}:\n",
       " 1  2  3  4  5"
      ]
     },
     "execution_count": 10,
     "metadata": {},
     "output_type": "execute_result"
    }
   ],
   "source": [
    "# Note: (1:5)' is a \"row-vector\" which behaves differently than a matrix\n",
    "Matrix((1:5)')"
   ]
  },
  {
   "cell_type": "markdown",
   "metadata": {},
   "source": [
    "**Problem 1.4** Create a vector of length 5 whose entries are `Float64`\n",
    "approximations of `exp(-k)`. (Two solutions: one using a for loop and\n",
    "one using broadcasting.)\n",
    "\n",
    "**SOLUTIONS**\n",
    "\n",
    "1. For-loop"
   ]
  },
  {
   "cell_type": "code",
   "execution_count": 11,
   "metadata": {
    "execution": {
     "iopub.execute_input": "2022-03-01T21:38:48.116732Z",
     "iopub.status.busy": "2022-03-01T21:38:48.116054Z",
     "iopub.status.idle": "2022-03-01T21:38:48.163096Z",
     "shell.execute_reply": "2022-03-01T21:38:48.162667Z"
    }
   },
   "outputs": [],
   "source": [
    "v = zeros(5) # defaults to Float64\n",
    "for k = 1:5\n",
    "    v[k] = exp(-k)\n",
    "end"
   ]
  },
  {
   "cell_type": "markdown",
   "metadata": {},
   "source": [
    "2. Broadcast:"
   ]
  },
  {
   "cell_type": "code",
   "execution_count": 12,
   "metadata": {
    "execution": {
     "iopub.execute_input": "2022-03-01T21:38:48.165132Z",
     "iopub.status.busy": "2022-03-01T21:38:48.164587Z",
     "iopub.status.idle": "2022-03-01T21:38:48.725682Z",
     "shell.execute_reply": "2022-03-01T21:38:48.725246Z"
    }
   },
   "outputs": [
    {
     "data": {
      "text/plain": [
       "5-element Vector{Float64}:\n",
       " 0.36787944117144233\n",
       " 0.1353352832366127\n",
       " 0.049787068367863944\n",
       " 0.01831563888873418\n",
       " 0.006737946999085467"
      ]
     },
     "execution_count": 12,
     "metadata": {},
     "output_type": "execute_result"
    }
   ],
   "source": [
    "exp.(-(1:5))"
   ]
  },
  {
   "cell_type": "markdown",
   "metadata": {},
   "source": [
    "3. Explicit broadcsat:"
   ]
  },
  {
   "cell_type": "code",
   "execution_count": 13,
   "metadata": {
    "execution": {
     "iopub.execute_input": "2022-03-01T21:38:48.728171Z",
     "iopub.status.busy": "2022-03-01T21:38:48.727422Z",
     "iopub.status.idle": "2022-03-01T21:38:48.761518Z",
     "shell.execute_reply": "2022-03-01T21:38:48.761042Z"
    }
   },
   "outputs": [
    {
     "data": {
      "text/plain": [
       "5-element Vector{Float64}:\n",
       " 0.36787944117144233\n",
       " 0.1353352832366127\n",
       " 0.049787068367863944\n",
       " 0.01831563888873418\n",
       " 0.006737946999085467"
      ]
     },
     "execution_count": 13,
     "metadata": {},
     "output_type": "execute_result"
    }
   ],
   "source": [
    "broadcast(k -> exp(-k), 1:5)"
   ]
  },
  {
   "cell_type": "markdown",
   "metadata": {},
   "source": [
    "4. Comprehension:"
   ]
  },
  {
   "cell_type": "code",
   "execution_count": 14,
   "metadata": {
    "execution": {
     "iopub.execute_input": "2022-03-01T21:38:48.764250Z",
     "iopub.status.busy": "2022-03-01T21:38:48.763363Z",
     "iopub.status.idle": "2022-03-01T21:38:48.787081Z",
     "shell.execute_reply": "2022-03-01T21:38:48.786656Z"
    }
   },
   "outputs": [
    {
     "data": {
      "text/plain": [
       "5-element Vector{Float64}:\n",
       " 0.36787944117144233\n",
       " 0.1353352832366127\n",
       " 0.049787068367863944\n",
       " 0.01831563888873418\n",
       " 0.006737946999085467"
      ]
     },
     "execution_count": 14,
     "metadata": {},
     "output_type": "execute_result"
    }
   ],
   "source": [
    "[exp(-k) for k=1:5]"
   ]
  },
  {
   "cell_type": "markdown",
   "metadata": {},
   "source": [
    "**Problem 1.5** Create a 5 × 6 matrix `A` whose entries `A[k,j] == cos(k+j)`.\n",
    "\n",
    "**SOLUTIONS**\n",
    "\n",
    "1. For-loop:"
   ]
  },
  {
   "cell_type": "code",
   "execution_count": 15,
   "metadata": {
    "execution": {
     "iopub.execute_input": "2022-03-01T21:38:48.789132Z",
     "iopub.status.busy": "2022-03-01T21:38:48.788595Z",
     "iopub.status.idle": "2022-03-01T21:38:49.269384Z",
     "shell.execute_reply": "2022-03-01T21:38:49.268957Z"
    }
   },
   "outputs": [
    {
     "data": {
      "text/plain": [
       "5×6 Matrix{Float64}:\n",
       " -0.416147  -0.989992  -0.653644   0.283662   0.96017    0.753902\n",
       " -0.989992  -0.653644   0.283662   0.96017    0.753902  -0.1455\n",
       " -0.653644   0.283662   0.96017    0.753902  -0.1455    -0.91113\n",
       "  0.283662   0.96017    0.753902  -0.1455    -0.91113   -0.839072\n",
       "  0.96017    0.753902  -0.1455    -0.91113   -0.839072   0.0044257"
      ]
     },
     "execution_count": 15,
     "metadata": {},
     "output_type": "execute_result"
    }
   ],
   "source": [
    "A = zeros(5,6)\n",
    "for k = 1:5, j = 1:6\n",
    "    A[k,j] = cos(k+j)\n",
    "end\n",
    "A"
   ]
  },
  {
   "cell_type": "markdown",
   "metadata": {},
   "source": [
    "2. Broadcasting:"
   ]
  },
  {
   "cell_type": "code",
   "execution_count": 16,
   "metadata": {
    "execution": {
     "iopub.execute_input": "2022-03-01T21:38:49.271633Z",
     "iopub.status.busy": "2022-03-01T21:38:49.271076Z",
     "iopub.status.idle": "2022-03-01T21:38:49.395221Z",
     "shell.execute_reply": "2022-03-01T21:38:49.394794Z"
    }
   },
   "outputs": [
    {
     "data": {
      "text/plain": [
       "5×6 Matrix{Float64}:\n",
       " -0.416147  -0.989992  -0.653644   0.283662   0.96017    0.753902\n",
       " -0.989992  -0.653644   0.283662   0.96017    0.753902  -0.1455\n",
       " -0.653644   0.283662   0.96017    0.753902  -0.1455    -0.91113\n",
       "  0.283662   0.96017    0.753902  -0.1455    -0.91113   -0.839072\n",
       "  0.96017    0.753902  -0.1455    -0.91113   -0.839072   0.0044257"
      ]
     },
     "execution_count": 16,
     "metadata": {},
     "output_type": "execute_result"
    }
   ],
   "source": [
    "k = 1:5\n",
    "j = 1:6\n",
    "cos.(k .+ j')"
   ]
  },
  {
   "cell_type": "markdown",
   "metadata": {},
   "source": [
    "3. Broadcasting (explicit):"
   ]
  },
  {
   "cell_type": "code",
   "execution_count": 17,
   "metadata": {
    "execution": {
     "iopub.execute_input": "2022-03-01T21:38:49.397358Z",
     "iopub.status.busy": "2022-03-01T21:38:49.396817Z",
     "iopub.status.idle": "2022-03-01T21:38:49.448701Z",
     "shell.execute_reply": "2022-03-01T21:38:49.448280Z"
    }
   },
   "outputs": [
    {
     "data": {
      "text/plain": [
       "5×6 Matrix{Float64}:\n",
       " -0.416147  -0.989992  -0.653644   0.283662   0.96017    0.753902\n",
       " -0.989992  -0.653644   0.283662   0.96017    0.753902  -0.1455\n",
       " -0.653644   0.283662   0.96017    0.753902  -0.1455    -0.91113\n",
       "  0.283662   0.96017    0.753902  -0.1455    -0.91113   -0.839072\n",
       "  0.96017    0.753902  -0.1455    -0.91113   -0.839072   0.0044257"
      ]
     },
     "execution_count": 17,
     "metadata": {},
     "output_type": "execute_result"
    }
   ],
   "source": [
    "broadcast((k,j) -> cos(k+j), 1:5, (1:6)')"
   ]
  },
  {
   "cell_type": "markdown",
   "metadata": {},
   "source": [
    "## 2. Types\n",
    "\n",
    "**Problem 2.1** Create a type `Rat` with two `Int` fields, `p` and `q`,\n",
    "representing a rational function including `+`, `*`, `-`, and `/`.\n",
    "Bonus points: Use `gcd` and `div` to reduce.\n",
    "\n",
    "**SOLUTION**"
   ]
  },
  {
   "cell_type": "code",
   "execution_count": 18,
   "metadata": {
    "execution": {
     "iopub.execute_input": "2022-03-01T21:38:49.450872Z",
     "iopub.status.busy": "2022-03-01T21:38:49.450310Z",
     "iopub.status.idle": "2022-03-01T21:38:49.998144Z",
     "shell.execute_reply": "2022-03-01T21:38:49.997718Z"
    }
   },
   "outputs": [
    {
     "data": {
      "text/plain": [
       "\u001b[32m\u001b[1mTest Passed\u001b[22m\u001b[39m\n",
       "  Expression: Rat(1, 2) / Rat(2, 3) == Rat(3, 4)\n",
       "   Evaluated: Rat(3, 4) == Rat(3, 4)"
      ]
     },
     "execution_count": 18,
     "metadata": {},
     "output_type": "execute_result"
    }
   ],
   "source": [
    "# import allows us to overload basic operations\n",
    "import Base: +, *, -, /\n",
    "\n",
    "# struct creates a new type called `Rational`\n",
    "struct Rat\n",
    "    # Here the two fields are both Int\n",
    "    p::Int\n",
    "    q::Int\n",
    "end\n",
    "\n",
    "# overload + for adding two rationals.\n",
    "function +(a::Rat, b::Rat)\n",
    "    p = a.p*b.q + b.p*a.q\n",
    "    q = a.q*b.q\n",
    "    d = gcd(p,q)\n",
    "    Rat(p ÷ d, q ÷ d)\n",
    "end\n",
    "\n",
    "-(a::Rat) = Rat(-a.p, a.q)\n",
    "-(a::Rat, b::Rat) = a + (-b)\n",
    "\n",
    "function *(a::Rat, b::Rat)\n",
    "    p = a.p * b.p\n",
    "    q = a.q * b.q\n",
    "    d = gcd(p,q)\n",
    "    Rat(p ÷ d, q ÷ d)\n",
    "end\n",
    "\n",
    "/(a::Rat, b::Rat) = a * Rat(b.q, b.p)\n",
    "\n",
    "\n",
    "@test Rat(1,2) + Rat(2,3) == Rat(7,6)\n",
    "@test Rat(1,2) * Rat(2,3) == Rat(1,3)\n",
    "@test Rat(1,2) / Rat(2,3) == Rat(3,4)"
   ]
  }
 ],
 "metadata": {
  "kernelspec": {
   "display_name": "Julia 1.7.0",
   "language": "julia",
   "name": "julia-1.7"
  },
  "language_info": {
   "file_extension": ".jl",
   "mimetype": "application/julia",
   "name": "julia",
   "version": "1.7.0"
  }
 },
 "nbformat": 4,
 "nbformat_minor": 2
}
