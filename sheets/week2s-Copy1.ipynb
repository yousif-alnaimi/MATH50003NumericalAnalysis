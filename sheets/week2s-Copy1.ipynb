{
 "cells": [
  {
   "cell_type": "markdown",
   "metadata": {},
   "source": [
    "# MATH50003 Problem Sheet 2\n",
    "\n",
    "This week we look at other variants of finite-differences, including central differences and second-order\n",
    "finite-differences. We also investigate mathematical properties of dual numbers, extend their implementation to\n",
    "other functions. Finally, we see how dual numbers can be combined with Newton iteration for root finding."
   ]
  },
  {
   "cell_type": "code",
   "execution_count": 1,
   "metadata": {
    "execution": {
     "iopub.execute_input": "2022-01-16T20:33:56.587048Z",
     "iopub.status.busy": "2022-01-16T20:33:56.127845Z",
     "iopub.status.idle": "2022-01-16T20:33:56.816484Z",
     "shell.execute_reply": "2022-01-16T20:33:56.815555Z"
    }
   },
   "outputs": [],
   "source": [
    "using ColorBitstring, SetRounding"
   ]
  },
  {
   "cell_type": "markdown",
   "metadata": {},
   "source": [
    "Questions marked with a ⋆ are meant to be completed without using a computer.\n",
    "\n",
    "## 1. Finite-differences\n",
    "\n",
    "**Problem 1.1⋆** Use Taylor's theorem to derive an error bound for central differences\n",
    "$$\n",
    "f'(x) ≈ {f(x + h) - f(x - h) \\over h}\n",
    "$$\n",
    "Find an error bound when implemented in floating point arithmetic, assuming that\n",
    "$$\n",
    "f^{\\rm FP}(x) = f(x) + δ_x\n",
    "$$\n",
    "where $|δ_x| \\leq c ϵ_{\\rm m}$.\n",
    "\n",
    "**Problem 1.2** Implement central differences for $f(x) = 1 + x + x^2$ and $g(x) = 1 + x/3 + x^2$. \n",
    "Plot the errors. \n",
    "Derive the error exactly for the different cases to explain the observed behaviour.\n",
    "\n",
    "\n",
    "**Problem 1.3⋆** Use Taylor's theorem to derive an error bound on the second-order derivative approximation\n",
    "$$\n",
    "f''(x) ≈ {f(x+h) - 2f(x) + f(x-h) \\over h^2}\n",
    "$$\n",
    "Find an error bound when implemented in floating point arithmetic, assuming that\n",
    "$$\n",
    "f^{\\rm FP}(x) = f(x) + δ_x\n",
    "$$\n",
    "where $|δ_x| \\leq c ϵ_{\\rm m}$.\n",
    "\n",
    "**Problem 1.4** Use finite-differences, central differences, and second-order finite-differences to approximate to 5-digits the first and second \n",
    "derivatives to the following functions:\n",
    "at the point $x = 0.1$:\n",
    "$$\n",
    "\\exp(\\exp x \\cos x + \\sin x), \\prod_{k=1}^{1000} \\left({x \\over k}-1\\right), \\hbox{ and } f^{\\rm s}_{1000}(x)\n",
    "$$\n",
    "where $f^{\\rm s}_n(x)$ corresponds to $n$-terms of the following continued fraction:\n",
    "$$\n",
    "1 + {x-1 \\over 2 + {x-1 \\over 2 + {x-1 \\over 2 + \\ddots}}},\n",
    "$$\n",
    "e.g.:\n",
    "$$\n",
    "\\begin{align*}\n",
    "f^{\\rm s}_1(x) &= 1 + {x-1 \\over 2} \\\\\n",
    "f^{\\rm s}_2(x) &= 1 + {x-1 \\over 2 + {x -1 \\over 2}} \\\\\n",
    "f^{\\rm s}_3(x) &= 1 + {x-1 \\over 2 + {x -1 \\over 2 + {x-1 \\over 2}}}\n",
    "\\end{align*}\n",
    "$$\n",
    "\n",
    "\n",
    "**SOLUTION**"
   ]
  },
  {
   "cell_type": "code",
   "execution_count": 2,
   "metadata": {
    "execution": {
     "iopub.execute_input": "2022-01-16T20:33:56.818892Z",
     "iopub.status.busy": "2022-01-16T20:33:56.818338Z",
     "iopub.status.idle": "2022-01-16T20:33:57.333414Z",
     "shell.execute_reply": "2022-01-16T20:33:57.332973Z"
    }
   },
   "outputs": [
    {
     "data": {
      "text/plain": [
       "1.5811387598514557"
      ]
     },
     "execution_count": 2,
     "metadata": {},
     "output_type": "execute_result"
    }
   ],
   "source": [
    "f = x -> exp(exp(x)cos(x) + sin(x))\n",
    "\n",
    "g = x -> prod(x ./ (1:1000) .- 1)\n",
    "\n",
    "function cont(n, x)\n",
    "    ret = 2one(x)\n",
    "    for k = 1:n-1\n",
    "        ret = 2 + (x-1)/ret\n",
    "    end\n",
    "    1 + (x-1)/ret\n",
    "end\n",
    "\n",
    "h = sqrt(eps())\n",
    "(cont(1000, 0.1+h)-cont(1000, 0.1))/h"
   ]
  },
  {
   "cell_type": "markdown",
   "metadata": {},
   "source": [
    "## 2. Dual numbers\n",
    "\n",
    "**Problem 2.1⋆** \n",
    "Show that dual numbers $𝔻$ are a _commutative ring_, that is, for all $a,b,c ∈ 𝔻$ the following are satisfied:\n",
    "1. _additive associativity_: $(a + b) + c = a + (b + c)$\n",
    "2. _additive commutativity_: $a + b = b + a$\n",
    "3. _additive identity_: There exists $0 ∈ 𝔻$ such that $a + 0 = a$.\n",
    "4. _additive inverse_: There exists $-a$ such that $(-a) + a = 0$.\n",
    "5. _multiplicative associativity_: $(ab)c = a(bc)$\n",
    "6. _multiplictive commutativity_: $ab = ba$\n",
    "7. _multiplictive identity_: There exists $1 ∈ 𝔻$ such that $1a= a$.\n",
    "8. _distributive_: $a(b+c) = ab + ac$\n",
    "\n",
    "**Problem 2.2⋆** A _field_ is a commutative ring such that $0 ≠ 1$ and all nonzero elements have a multiplicative inverse, i.e.,\n",
    "there exists $a^{-1}$ such that $a a^{-1} = 1$. Why isn't $𝔻$ a field?\n",
    "\n",
    "**Problem 2.3⋆** A _matrix representation_ of a ring/field are maps from a group/ring/field to matrices such that matrix addition and multiplication\n",
    "behaves exactly like addition and multiplication that of the ring/field. Show that the following are matrix representations of complex numbers and\n",
    "dual numbers (respectively):\n",
    "$$\n",
    "\\begin{align*}\n",
    "a + b {\\rm i} &\\mapsto \\begin{pmatrix} a & b \\\\ -b & a \\end{pmatrix} \\\\\n",
    "a + b {\\rm i} &\\mapsto \\begin{pmatrix} a & b \\\\ 0 & a \\end{pmatrix}\n",
    "\\end{align*}\n",
    "$$\n",
    "\n",
    "\n",
    "**Problem 2.4⋆** What is the correct definition of division on dual numbers, i.e.,\n",
    "$$\n",
    "(a + b \\epsilon )/(c + d \\epsilon ) = s + t \\epsilon\n",
    "$$\n",
    "for what choice of $s$ and $t$? Use dual numbers to compute the derivative of the following functions at $x = 0.1$:\n",
    "$$\n",
    "\\exp(\\exp x \\cos x + \\sin x), \\prod_{k=1}^3 \\left({x \\over k}-1\\right),\\hbox{ and } f^{\\rm s}_2(x) = {1 + {x - 1 \\over 2 + {x-1 \\over 2}}}\n",
    "$$\n",
    "\n",
    "\n",
    "**Problem 2.5** Add support for `cos`, `sin`, and `/` to the type `Dual`:"
   ]
  },
  {
   "cell_type": "code",
   "execution_count": 3,
   "metadata": {
    "execution": {
     "iopub.execute_input": "2022-01-16T20:33:57.335666Z",
     "iopub.status.busy": "2022-01-16T20:33:57.335081Z",
     "iopub.status.idle": "2022-01-16T20:33:57.589551Z",
     "shell.execute_reply": "2022-01-16T20:33:57.589122Z"
    }
   },
   "outputs": [
    {
     "data": {
      "text/plain": [
       "/ (generic function with 119 methods)"
      ]
     },
     "execution_count": 3,
     "metadata": {},
     "output_type": "execute_result"
    }
   ],
   "source": [
    "# Dual(a,b) represents a + b*ϵ\n",
    "struct Dual{T}\n",
    "    a::T\n",
    "    b::T\n",
    "end\n",
    "\n",
    "# Dual(a) represents a + 0*ϵ\n",
    "Dual(a::Real) = Dual(a, zero(a)) # for real numbers we use a + 0ϵ\n",
    "\n",
    "# Allow for a + b*ϵ syntax\n",
    "const ϵ = Dual(0, 1)\n",
    "\n",
    "import Base: +, *, -, /, ^, zero, exp, cos, sin\n",
    "\n",
    "# support polynomials like 1 + x, x - 1, 2x or x*2 by reducing to Dual\n",
    "+(x::Real, y::Dual) = Dual(x) + y\n",
    "+(x::Dual, y::Real) = x + Dual(y)\n",
    "-(x::Real, y::Dual) = Dual(x) - y\n",
    "-(x::Dual, y::Real) = x - Dual(y)\n",
    "*(x::Real, y::Dual) = Dual(x) * y\n",
    "*(x::Dual, y::Real) = x * Dual(y)\n",
    "\n",
    "# support x/2 (but not yet division of duals)\n",
    "/(x::Dual, k::Real) = Dual(x.a/k, x.b/k)\n",
    "\n",
    "# a simple recursive function to support x^2, x^3, etc.\n",
    "function ^(x::Dual, k::Integer)\n",
    "    if k < 0\n",
    "        error(\"Not implemented\")\n",
    "    elseif k == 1\n",
    "        x\n",
    "    else\n",
    "        x^(k-1) * x\n",
    "    end\n",
    "end\n",
    "\n",
    "# Algebraic operationds for duals\n",
    "-(x::Dual) = Dual(-x.a, -x.b)\n",
    "+(x::Dual, y::Dual) = Dual(x.a + y.a, x.b + y.b)\n",
    "-(x::Dual, y::Dual) = Dual(x.a - y.a, x.b - y.b)\n",
    "*(x::Dual, y::Dual) = Dual(x.a*y.a, x.a*y.b + x.b*y.a)\n",
    "\n",
    "exp(x::Dual) = Dual(exp(x.a), exp(x.a) * x.b)\n",
    "\n",
    "function cos(x::Dual, y::Dual)\n",
    "    # TODO: implement cos for Duals\n",
    "end\n",
    "\n",
    "function sin(x::Dual, y::Dual)\n",
    "    # TODO: implement sin for Duals\n",
    "end\n",
    "\n",
    "function /(x::Dual, y::Dual)\n",
    "    # TODO: implement division for Duals\n",
    "end"
   ]
  },
  {
   "cell_type": "markdown",
   "metadata": {},
   "source": [
    "**Problem 2.6** Use dual numbers to compute the derivatives to\n",
    "$$\n",
    "\\exp(\\exp x \\cos x + \\sin x), \\prod_{k=1}^{1000} \\left({x \\over k}-1\\right), \\hbox{ and } f^{\\rm s}_{1000}(x).\n",
    "$$\n",
    "Does your answer match (to 5 digits) Problem 1.4?\n",
    "\n",
    "\n",
    "## 3. Newton iteration\n",
    "\n",
    "Newton iteration is an algorithm for computed roots of a function $f$ using its derivative: given an initial guess $x_0$, one\n",
    "obtains a sequence of guesses via\n",
    "$$\n",
    "x_{k+1} = x_k - {f(x_k) \\over f'(x_k)}\n",
    "$$\n",
    "\n",
    "**Problem 3.1** Use `Dual` to implement the following function which returns $x_n$:"
   ]
  },
  {
   "cell_type": "code",
   "execution_count": 4,
   "metadata": {
    "execution": {
     "iopub.execute_input": "2022-01-16T20:33:57.591715Z",
     "iopub.status.busy": "2022-01-16T20:33:57.591168Z",
     "iopub.status.idle": "2022-01-16T20:33:57.691101Z",
     "shell.execute_reply": "2022-01-16T20:33:57.690673Z"
    }
   },
   "outputs": [
    {
     "data": {
      "text/plain": [
       "newton (generic function with 1 method)"
      ]
     },
     "execution_count": 4,
     "metadata": {},
     "output_type": "execute_result"
    }
   ],
   "source": [
    "function newton(f, x0, n)\n",
    "    ## TODO: compute x_n \n",
    "end"
   ]
  },
  {
   "cell_type": "markdown",
   "metadata": {},
   "source": [
    "**Problem 3.2** Compute points $y$ such that $|f(y)| \\leq 10^{-13}$ (i.e., approximate roots):\n",
    "$$\n",
    "\\exp(\\exp x \\cos x + \\sin x)-6\\hbox{ and } \\prod_{k=1}^1000 \\left({x \\over k}-1\\right) - {1 \\over 2}\n",
    "$$\n",
    "(Hint: you may need to try different `x0` and `n` to get convergence. Plotting the function should give an\n",
    "indication of a good initial guess.)\n",
    "\n",
    "**Problem 3.3** Compute points $y$ such that $|f^{\\rm s}_{1000}(y) - j| \\leq 10^{-13}$ for $j = 1,2,3$. \n",
    "Make a conjecture of what $f^{\\rm s}_n(x)$ converges to as $n → ∞$. (Bonus problem: Prove your conjecture.)"
   ]
  }
 ],
 "metadata": {
  "kernelspec": {
   "display_name": "Julia 1.7.1",
   "language": "julia",
   "name": "julia-1.7"
  },
  "language_info": {
   "file_extension": ".jl",
   "mimetype": "application/julia",
   "name": "julia",
   "version": "1.7.1"
  }
 },
 "nbformat": 4,
 "nbformat_minor": 2
}
