{
 "cells": [
  {
   "cell_type": "markdown",
   "metadata": {},
   "source": [
    "# MATH50003 Problem Sheet 2\n",
    "\n",
    "This week we look at other variants of finite-differences, including central differences and second-order\n",
    "finite-differences. We also investigate mathematical properties of dual numbers, extend their implementation to\n",
    "other functions. Finally, we see how dual numbers can be combined with Newton iteration for root finding."
   ]
  },
  {
   "cell_type": "code",
   "execution_count": 1,
   "metadata": {
    "execution": {
     "iopub.execute_input": "2022-01-16T20:33:56.587048Z",
     "iopub.status.busy": "2022-01-16T20:33:56.127845Z",
     "iopub.status.idle": "2022-01-16T20:33:56.816484Z",
     "shell.execute_reply": "2022-01-16T20:33:56.815555Z"
    }
   },
   "outputs": [],
   "source": [
    "using ColorBitstring, SetRounding"
   ]
  },
  {
   "cell_type": "markdown",
   "metadata": {},
   "source": [
    "Questions marked with a ⋆ are meant to be completed without using a computer.\n",
    "\n",
    "## 1. Finite-differences\n",
    "\n",
    "**Problem 1.1⋆** Use Taylor's theorem to derive an error bound for central differences\n",
    "$$\n",
    "f'(x) ≈ {f(x + h) - f(x - h) \\over h}\n",
    "$$\n",
    "Find an error bound when implemented in floating point arithmetic, assuming that\n",
    "$$\n",
    "f^{\\rm FP}(x) = f(x) + δ_x\n",
    "$$\n",
    "where $|δ_x| \\leq c ϵ_{\\rm m}$.\n",
    "\n",
    "**Problem 1.2** Implement central differences for $f(x) = 1 + x + x^2$ and $g(x) = 1 + x/3 + x^2$. \n",
    "Plot the errors. \n",
    "Derive the error exactly for the different cases to explain the observed behaviour.\n",
    "\n",
    "\n",
    "**Problem 1.3⋆** Use Taylor's theorem to derive an error bound on the second-order derivative approximation\n",
    "$$\n",
    "f''(x) ≈ {f(x+h) - 2f(x) + f(x-h) \\over h^2}\n",
    "$$\n",
    "Find an error bound when implemented in floating point arithmetic, assuming that\n",
    "$$\n",
    "f^{\\rm FP}(x) = f(x) + δ_x\n",
    "$$\n",
    "where $|δ_x| \\leq c ϵ_{\\rm m}$.\n",
    "\n",
    "**Problem 1.4** Use finite-differences, central differences, and second-order finite-differences to approximate to 5-digits the first and second \n",
    "derivatives to the following functions:\n",
    "at the point $x = 0.1$:\n",
    "$$\n",
    "\\exp(\\exp x \\cos x + \\sin x), \\prod_{k=1}^{1000} \\left({x \\over k}-1\\right), \\hbox{ and } f^{\\rm s}_{1000}(x)\n",
    "$$\n",
    "where $f^{\\rm s}_n(x)$ corresponds to $n$-terms of the following continued fraction:\n",
    "$$\n",
    "1 + {x-1 \\over 2 + {x-1 \\over 2 + {x-1 \\over 2 + \\ddots}}},\n",
    "$$\n",
    "e.g.:\n",
    "$$\n",
    "\\begin{align*}\n",
    "f^{\\rm s}_1(x) &= 1 + {x-1 \\over 2} \\\\\n",
    "f^{\\rm s}_2(x) &= 1 + {x-1 \\over 2 + {x -1 \\over 2}} \\\\\n",
    "f^{\\rm s}_3(x) &= 1 + {x-1 \\over 2 + {x -1 \\over 2 + {x-1 \\over 2}}}\n",
    "\\end{align*}\n",
    "$$\n",
    "\n",
    "\n",
    "**SOLUTION**"
   ]
  },
  {
   "cell_type": "code",
   "execution_count": 50,
   "metadata": {},
   "outputs": [
    {
     "name": "stdout",
     "output_type": "stream",
     "text": [
      "[0.029675163025407958, 0.020879070003199995, 0.000263226982400111, 0.00011258265600000428, 1.1919359999890133e-5, 1.4336000000447768e-6, NaN, NaN, NaN, NaN, NaN, NaN, NaN, NaN, NaN, NaN, 4.440892098500626e-16, 1.7763568394002505e-15, 2.2026824808563106e-13, 1.3304912727107876e-12, 2.000177801164682e-12, 5.751132903242251e-11, 5.751132903242251e-11, 1.21549419418443e-8, 5.445843953566509e-8, 1.6548074199818075e-7, 1.6548074199818075e-7, 6.677886221950757e-5, 0.0004883326500930707, 0.0015985556747182272, 0.10942374678779743, 0.8897769753748435, 2.0, 2.0, 2.0, 2.0, 2.0, 2.0, 2.0, 2.0, 2.0, 2.0, 2.0, 2.0, 2.0, 2.0]\n"
     ]
    },
    {
     "data": {
      "image/svg+xml": [
       "<?xml version=\"1.0\" encoding=\"utf-8\"?>\n",
       "<svg xmlns=\"http://www.w3.org/2000/svg\" xmlns:xlink=\"http://www.w3.org/1999/xlink\" width=\"600\" height=\"400\" viewBox=\"0 0 2400 1600\">\n",
       "<defs>\n",
       "  <clipPath id=\"clip410\">\n",
       "    <rect x=\"0\" y=\"0\" width=\"2400\" height=\"1600\"/>\n",
       "  </clipPath>\n",
       "</defs>\n",
       "<path clip-path=\"url(#clip410)\" d=\"\n",
       "M0 1600 L2400 1600 L2400 0 L0 0  Z\n",
       "  \" fill=\"#ffffff\" fill-rule=\"evenodd\" fill-opacity=\"1\"/>\n",
       "<defs>\n",
       "  <clipPath id=\"clip411\">\n",
       "    <rect x=\"480\" y=\"0\" width=\"1681\" height=\"1600\"/>\n",
       "  </clipPath>\n",
       "</defs>\n",
       "<path clip-path=\"url(#clip410)\" d=\"\n",
       "M213.607 1486.45 L2352.76 1486.45 L2352.76 47.2441 L213.607 47.2441  Z\n",
       "  \" fill=\"#ffffff\" fill-rule=\"evenodd\" fill-opacity=\"1\"/>\n",
       "<defs>\n",
       "  <clipPath id=\"clip412\">\n",
       "    <rect x=\"213\" y=\"47\" width=\"2140\" height=\"1440\"/>\n",
       "  </clipPath>\n",
       "</defs>\n",
       "<polyline clip-path=\"url(#clip412)\" style=\"stroke:#000000; stroke-linecap:butt; stroke-linejoin:round; stroke-width:2; stroke-opacity:0.1; fill:none\" points=\"\n",
       "  274.149,1486.45 274.149,47.2441 \n",
       "  \"/>\n",
       "<polyline clip-path=\"url(#clip412)\" style=\"stroke:#000000; stroke-linecap:butt; stroke-linejoin:round; stroke-width:2; stroke-opacity:0.1; fill:none\" points=\"\n",
       "  722.608,1486.45 722.608,47.2441 \n",
       "  \"/>\n",
       "<polyline clip-path=\"url(#clip412)\" style=\"stroke:#000000; stroke-linecap:butt; stroke-linejoin:round; stroke-width:2; stroke-opacity:0.1; fill:none\" points=\"\n",
       "  1171.07,1486.45 1171.07,47.2441 \n",
       "  \"/>\n",
       "<polyline clip-path=\"url(#clip412)\" style=\"stroke:#000000; stroke-linecap:butt; stroke-linejoin:round; stroke-width:2; stroke-opacity:0.1; fill:none\" points=\"\n",
       "  1619.53,1486.45 1619.53,47.2441 \n",
       "  \"/>\n",
       "<polyline clip-path=\"url(#clip412)\" style=\"stroke:#000000; stroke-linecap:butt; stroke-linejoin:round; stroke-width:2; stroke-opacity:0.1; fill:none\" points=\"\n",
       "  2067.98,1486.45 2067.98,47.2441 \n",
       "  \"/>\n",
       "<polyline clip-path=\"url(#clip410)\" style=\"stroke:#000000; stroke-linecap:butt; stroke-linejoin:round; stroke-width:4; stroke-opacity:1; fill:none\" points=\"\n",
       "  213.607,1486.45 2352.76,1486.45 \n",
       "  \"/>\n",
       "<polyline clip-path=\"url(#clip410)\" style=\"stroke:#000000; stroke-linecap:butt; stroke-linejoin:round; stroke-width:4; stroke-opacity:1; fill:none\" points=\"\n",
       "  274.149,1486.45 274.149,1467.55 \n",
       "  \"/>\n",
       "<polyline clip-path=\"url(#clip410)\" style=\"stroke:#000000; stroke-linecap:butt; stroke-linejoin:round; stroke-width:4; stroke-opacity:1; fill:none\" points=\"\n",
       "  722.608,1486.45 722.608,1467.55 \n",
       "  \"/>\n",
       "<polyline clip-path=\"url(#clip410)\" style=\"stroke:#000000; stroke-linecap:butt; stroke-linejoin:round; stroke-width:4; stroke-opacity:1; fill:none\" points=\"\n",
       "  1171.07,1486.45 1171.07,1467.55 \n",
       "  \"/>\n",
       "<polyline clip-path=\"url(#clip410)\" style=\"stroke:#000000; stroke-linecap:butt; stroke-linejoin:round; stroke-width:4; stroke-opacity:1; fill:none\" points=\"\n",
       "  1619.53,1486.45 1619.53,1467.55 \n",
       "  \"/>\n",
       "<polyline clip-path=\"url(#clip410)\" style=\"stroke:#000000; stroke-linecap:butt; stroke-linejoin:round; stroke-width:4; stroke-opacity:1; fill:none\" points=\"\n",
       "  2067.98,1486.45 2067.98,1467.55 \n",
       "  \"/>\n",
       "<path clip-path=\"url(#clip410)\" d=\"M228.212 1532.02 L257.888 1532.02 L257.888 1535.95 L228.212 1535.95 L228.212 1532.02 Z\" fill=\"#000000\" fill-rule=\"evenodd\" fill-opacity=\"1\" /><path clip-path=\"url(#clip410)\" d=\"M282.147 1530.21 Q285.504 1530.93 287.379 1533.2 Q289.277 1535.47 289.277 1538.8 Q289.277 1543.92 285.758 1546.72 Q282.24 1549.52 275.758 1549.52 Q273.582 1549.52 271.267 1549.08 Q268.976 1548.66 266.522 1547.81 L266.522 1543.29 Q268.467 1544.43 270.781 1545.01 Q273.096 1545.58 275.619 1545.58 Q280.017 1545.58 282.309 1543.85 Q284.624 1542.11 284.624 1538.8 Q284.624 1535.75 282.471 1534.03 Q280.342 1532.3 276.522 1532.3 L272.494 1532.3 L272.494 1528.45 L276.707 1528.45 Q280.156 1528.45 281.985 1527.09 Q283.814 1525.7 283.814 1523.11 Q283.814 1520.45 281.916 1519.03 Q280.041 1517.6 276.522 1517.6 Q274.601 1517.6 272.402 1518.01 Q270.203 1518.43 267.564 1519.31 L267.564 1515.14 Q270.226 1514.4 272.541 1514.03 Q274.879 1513.66 276.939 1513.66 Q282.263 1513.66 285.365 1516.09 Q288.466 1518.5 288.466 1522.62 Q288.466 1525.49 286.823 1527.48 Q285.179 1529.45 282.147 1530.21 Z\" fill=\"#000000\" fill-rule=\"evenodd\" fill-opacity=\"1\" /><path clip-path=\"url(#clip410)\" d=\"M308.142 1517.37 Q304.531 1517.37 302.703 1520.93 Q300.897 1524.47 300.897 1531.6 Q300.897 1538.71 302.703 1542.27 Q304.531 1545.82 308.142 1545.82 Q311.777 1545.82 313.582 1542.27 Q315.411 1538.71 315.411 1531.6 Q315.411 1524.47 313.582 1520.93 Q311.777 1517.37 308.142 1517.37 M308.142 1513.66 Q313.952 1513.66 317.008 1518.27 Q320.087 1522.85 320.087 1531.6 Q320.087 1540.33 317.008 1544.94 Q313.952 1549.52 308.142 1549.52 Q302.332 1549.52 299.253 1544.94 Q296.198 1540.33 296.198 1531.6 Q296.198 1522.85 299.253 1518.27 Q302.332 1513.66 308.142 1513.66 Z\" fill=\"#000000\" fill-rule=\"evenodd\" fill-opacity=\"1\" /><path clip-path=\"url(#clip410)\" d=\"M676.671 1532.02 L706.347 1532.02 L706.347 1535.95 L676.671 1535.95 L676.671 1532.02 Z\" fill=\"#000000\" fill-rule=\"evenodd\" fill-opacity=\"1\" /><path clip-path=\"url(#clip410)\" d=\"M720.467 1544.91 L736.786 1544.91 L736.786 1548.85 L714.842 1548.85 L714.842 1544.91 Q717.504 1542.16 722.087 1537.53 Q726.694 1532.88 727.874 1531.53 Q730.12 1529.01 730.999 1527.27 Q731.902 1525.51 731.902 1523.82 Q731.902 1521.07 729.958 1519.33 Q728.036 1517.6 724.935 1517.6 Q722.736 1517.6 720.282 1518.36 Q717.851 1519.13 715.074 1520.68 L715.074 1515.95 Q717.898 1514.82 720.351 1514.24 Q722.805 1513.66 724.842 1513.66 Q730.212 1513.66 733.407 1516.35 Q736.601 1519.03 736.601 1523.52 Q736.601 1525.65 735.791 1527.57 Q735.004 1529.47 732.898 1532.07 Q732.319 1532.74 729.217 1535.95 Q726.115 1539.15 720.467 1544.91 Z\" fill=\"#000000\" fill-rule=\"evenodd\" fill-opacity=\"1\" /><path clip-path=\"url(#clip410)\" d=\"M756.601 1517.37 Q752.99 1517.37 751.161 1520.93 Q749.356 1524.47 749.356 1531.6 Q749.356 1538.71 751.161 1542.27 Q752.99 1545.82 756.601 1545.82 Q760.235 1545.82 762.041 1542.27 Q763.87 1538.71 763.87 1531.6 Q763.87 1524.47 762.041 1520.93 Q760.235 1517.37 756.601 1517.37 M756.601 1513.66 Q762.411 1513.66 765.467 1518.27 Q768.545 1522.85 768.545 1531.6 Q768.545 1540.33 765.467 1544.94 Q762.411 1549.52 756.601 1549.52 Q750.791 1549.52 747.712 1544.94 Q744.657 1540.33 744.657 1531.6 Q744.657 1522.85 747.712 1518.27 Q750.791 1513.66 756.601 1513.66 Z\" fill=\"#000000\" fill-rule=\"evenodd\" fill-opacity=\"1\" /><path clip-path=\"url(#clip410)\" d=\"M1125.13 1532.02 L1154.81 1532.02 L1154.81 1535.95 L1125.13 1535.95 L1125.13 1532.02 Z\" fill=\"#000000\" fill-rule=\"evenodd\" fill-opacity=\"1\" /><path clip-path=\"url(#clip410)\" d=\"M1165.71 1544.91 L1173.35 1544.91 L1173.35 1518.55 L1165.04 1520.21 L1165.04 1515.95 L1173.3 1514.29 L1177.98 1514.29 L1177.98 1544.91 L1185.62 1544.91 L1185.62 1548.85 L1165.71 1548.85 L1165.71 1544.91 Z\" fill=\"#000000\" fill-rule=\"evenodd\" fill-opacity=\"1\" /><path clip-path=\"url(#clip410)\" d=\"M1205.06 1517.37 Q1201.45 1517.37 1199.62 1520.93 Q1197.81 1524.47 1197.81 1531.6 Q1197.81 1538.71 1199.62 1542.27 Q1201.45 1545.82 1205.06 1545.82 Q1208.69 1545.82 1210.5 1542.27 Q1212.33 1538.71 1212.33 1531.6 Q1212.33 1524.47 1210.5 1520.93 Q1208.69 1517.37 1205.06 1517.37 M1205.06 1513.66 Q1210.87 1513.66 1213.93 1518.27 Q1217 1522.85 1217 1531.6 Q1217 1540.33 1213.93 1544.94 Q1210.87 1549.52 1205.06 1549.52 Q1199.25 1549.52 1196.17 1544.94 Q1193.12 1540.33 1193.12 1531.6 Q1193.12 1522.85 1196.17 1518.27 Q1199.25 1513.66 1205.06 1513.66 Z\" fill=\"#000000\" fill-rule=\"evenodd\" fill-opacity=\"1\" /><path clip-path=\"url(#clip410)\" d=\"M1619.53 1517.37 Q1615.91 1517.37 1614.09 1520.93 Q1612.28 1524.47 1612.28 1531.6 Q1612.28 1538.71 1614.09 1542.27 Q1615.91 1545.82 1619.53 1545.82 Q1623.16 1545.82 1624.97 1542.27 Q1626.79 1538.71 1626.79 1531.6 Q1626.79 1524.47 1624.97 1520.93 Q1623.16 1517.37 1619.53 1517.37 M1619.53 1513.66 Q1625.34 1513.66 1628.39 1518.27 Q1631.47 1522.85 1631.47 1531.6 Q1631.47 1540.33 1628.39 1544.94 Q1625.34 1549.52 1619.53 1549.52 Q1613.72 1549.52 1610.64 1544.94 Q1607.58 1540.33 1607.58 1531.6 Q1607.58 1522.85 1610.64 1518.27 Q1613.72 1513.66 1619.53 1513.66 Z\" fill=\"#000000\" fill-rule=\"evenodd\" fill-opacity=\"1\" /><path clip-path=\"url(#clip410)\" d=\"M2042.67 1544.91 L2050.31 1544.91 L2050.31 1518.55 L2042 1520.21 L2042 1515.95 L2050.26 1514.29 L2054.94 1514.29 L2054.94 1544.91 L2062.58 1544.91 L2062.58 1548.85 L2042.67 1548.85 L2042.67 1544.91 Z\" fill=\"#000000\" fill-rule=\"evenodd\" fill-opacity=\"1\" /><path clip-path=\"url(#clip410)\" d=\"M2082.02 1517.37 Q2078.41 1517.37 2076.58 1520.93 Q2074.78 1524.47 2074.78 1531.6 Q2074.78 1538.71 2076.58 1542.27 Q2078.41 1545.82 2082.02 1545.82 Q2085.66 1545.82 2087.46 1542.27 Q2089.29 1538.71 2089.29 1531.6 Q2089.29 1524.47 2087.46 1520.93 Q2085.66 1517.37 2082.02 1517.37 M2082.02 1513.66 Q2087.83 1513.66 2090.89 1518.27 Q2093.97 1522.85 2093.97 1531.6 Q2093.97 1540.33 2090.89 1544.94 Q2087.83 1549.52 2082.02 1549.52 Q2076.21 1549.52 2073.14 1544.94 Q2070.08 1540.33 2070.08 1531.6 Q2070.08 1522.85 2073.14 1518.27 Q2076.21 1513.66 2082.02 1513.66 Z\" fill=\"#000000\" fill-rule=\"evenodd\" fill-opacity=\"1\" /><polyline clip-path=\"url(#clip412)\" style=\"stroke:#000000; stroke-linecap:butt; stroke-linejoin:round; stroke-width:2; stroke-opacity:0.1; fill:none\" points=\"\n",
       "  213.607,981.454 2352.76,981.454 \n",
       "  \"/>\n",
       "<polyline clip-path=\"url(#clip412)\" style=\"stroke:#000000; stroke-linecap:butt; stroke-linejoin:round; stroke-width:2; stroke-opacity:0.1; fill:none\" points=\"\n",
       "  213.607,114.087 2352.76,114.087 \n",
       "  \"/>\n",
       "<polyline clip-path=\"url(#clip410)\" style=\"stroke:#000000; stroke-linecap:butt; stroke-linejoin:round; stroke-width:4; stroke-opacity:1; fill:none\" points=\"\n",
       "  213.607,1486.45 213.607,47.2441 \n",
       "  \"/>\n",
       "<polyline clip-path=\"url(#clip410)\" style=\"stroke:#000000; stroke-linecap:butt; stroke-linejoin:round; stroke-width:4; stroke-opacity:1; fill:none\" points=\"\n",
       "  213.607,981.454 232.505,981.454 \n",
       "  \"/>\n",
       "<polyline clip-path=\"url(#clip410)\" style=\"stroke:#000000; stroke-linecap:butt; stroke-linejoin:round; stroke-width:4; stroke-opacity:1; fill:none\" points=\"\n",
       "  213.607,114.087 232.505,114.087 \n",
       "  \"/>\n",
       "<path clip-path=\"url(#clip410)\" d=\"M51.6634 1001.25 L59.3023 1001.25 L59.3023 974.881 L50.9921 976.548 L50.9921 972.289 L59.256 970.622 L63.9319 970.622 L63.9319 1001.25 L71.5707 1001.25 L71.5707 1005.18 L51.6634 1005.18 L51.6634 1001.25 Z\" fill=\"#000000\" fill-rule=\"evenodd\" fill-opacity=\"1\" /><path clip-path=\"url(#clip410)\" d=\"M91.0151 973.701 Q87.404 973.701 85.5753 977.266 Q83.7697 980.807 83.7697 987.937 Q83.7697 995.043 85.5753 998.608 Q87.404 1002.15 91.0151 1002.15 Q94.6493 1002.15 96.4548 998.608 Q98.2835 995.043 98.2835 987.937 Q98.2835 980.807 96.4548 977.266 Q94.6493 973.701 91.0151 973.701 M91.0151 969.997 Q96.8252 969.997 99.8808 974.604 Q102.959 979.187 102.959 987.937 Q102.959 996.664 99.8808 1001.27 Q96.8252 1005.85 91.0151 1005.85 Q85.2049 1005.85 82.1262 1001.27 Q79.0707 996.664 79.0707 987.937 Q79.0707 979.187 82.1262 974.604 Q85.2049 969.997 91.0151 969.997 Z\" fill=\"#000000\" fill-rule=\"evenodd\" fill-opacity=\"1\" /><path clip-path=\"url(#clip410)\" d=\"M102.959 964.098 L127.071 964.098 L127.071 967.296 L102.959 967.296 L102.959 964.098 Z\" fill=\"#000000\" fill-rule=\"evenodd\" fill-opacity=\"1\" /><path clip-path=\"url(#clip410)\" d=\"M135.929 974.574 L142.136 974.574 L142.136 953.152 L135.384 954.506 L135.384 951.046 L142.098 949.692 L145.898 949.692 L145.898 974.574 L152.104 974.574 L152.104 977.772 L135.929 977.772 L135.929 974.574 Z\" fill=\"#000000\" fill-rule=\"evenodd\" fill-opacity=\"1\" /><path clip-path=\"url(#clip410)\" d=\"M167.903 952.193 Q164.969 952.193 163.483 955.09 Q162.016 957.967 162.016 963.76 Q162.016 969.534 163.483 972.43 Q164.969 975.308 167.903 975.308 Q170.855 975.308 172.322 972.43 Q173.808 969.534 173.808 963.76 Q173.808 957.967 172.322 955.09 Q170.855 952.193 167.903 952.193 M167.903 949.184 Q172.623 949.184 175.106 952.927 Q177.607 956.651 177.607 963.76 Q177.607 970.85 175.106 974.593 Q172.623 978.317 167.903 978.317 Q163.182 978.317 160.68 974.593 Q158.198 970.85 158.198 963.76 Q158.198 956.651 160.68 952.927 Q163.182 949.184 167.903 949.184 Z\" fill=\"#000000\" fill-rule=\"evenodd\" fill-opacity=\"1\" /><path clip-path=\"url(#clip410)\" d=\"M106.902 133.879 L114.541 133.879 L114.541 107.513 L106.231 109.18 L106.231 104.921 L114.494 103.254 L119.17 103.254 L119.17 133.879 L126.809 133.879 L126.809 137.814 L106.902 137.814 L106.902 133.879 Z\" fill=\"#000000\" fill-rule=\"evenodd\" fill-opacity=\"1\" /><path clip-path=\"url(#clip410)\" d=\"M146.253 106.333 Q142.642 106.333 140.814 109.898 Q139.008 113.439 139.008 120.569 Q139.008 127.675 140.814 131.24 Q142.642 134.782 146.253 134.782 Q149.888 134.782 151.693 131.24 Q153.522 127.675 153.522 120.569 Q153.522 113.439 151.693 109.898 Q149.888 106.333 146.253 106.333 M146.253 102.629 Q152.064 102.629 155.119 107.236 Q158.198 111.819 158.198 120.569 Q158.198 129.296 155.119 133.902 Q152.064 138.486 146.253 138.486 Q140.443 138.486 137.365 133.902 Q134.309 129.296 134.309 120.569 Q134.309 111.819 137.365 107.236 Q140.443 102.629 146.253 102.629 Z\" fill=\"#000000\" fill-rule=\"evenodd\" fill-opacity=\"1\" /><path clip-path=\"url(#clip410)\" d=\"M167.903 84.8253 Q164.969 84.8253 163.483 87.7217 Q162.016 90.5993 162.016 96.3921 Q162.016 102.166 163.483 105.062 Q164.969 107.94 167.903 107.94 Q170.855 107.94 172.322 105.062 Q173.808 102.166 173.808 96.3921 Q173.808 90.5993 172.322 87.7217 Q170.855 84.8253 167.903 84.8253 M167.903 81.816 Q172.623 81.816 175.106 85.5588 Q177.607 89.2827 177.607 96.3921 Q177.607 103.483 175.106 107.225 Q172.623 110.949 167.903 110.949 Q163.182 110.949 160.68 107.225 Q158.198 103.483 158.198 96.3921 Q158.198 89.2827 160.68 85.5588 Q163.182 81.816 167.903 81.816 Z\" fill=\"#000000\" fill-rule=\"evenodd\" fill-opacity=\"1\" /><polyline clip-path=\"url(#clip412)\" style=\"stroke:#009af9; stroke-linecap:butt; stroke-linejoin:round; stroke-width:4; stroke-opacity:1; fill:none\" points=\"\n",
       "  2292.21,246.586 2247.37,259.829 2202.52,424.576 2157.68,456.569 2112.83,541.157 2067.98,620.939 \n",
       "  \"/>\n",
       "<polyline clip-path=\"url(#clip412)\" style=\"stroke:#009af9; stroke-linecap:butt; stroke-linejoin:round; stroke-width:4; stroke-opacity:1; fill:none\" points=\"\n",
       "  1574.68,1445.72 1529.83,1393.49 1484.99,1211.92 1440.14,1144.17 1395.3,1128.81 1350.45,1002.29 1305.6,1002.29 1260.76,800.63 1215.91,744.137 1171.07,702.271 \n",
       "  1126.22,702.271 1081.38,476.244 1036.53,401.297 991.683,356.626 946.838,197.431 901.992,118.486 857.146,87.9763 812.3,87.9763 767.454,87.9763 722.608,87.9763 \n",
       "  677.762,87.9763 632.916,87.9763 588.071,87.9763 543.225,87.9763 498.379,87.9763 453.533,87.9763 408.687,87.9763 363.841,87.9763 318.995,87.9763 274.149,87.9763 \n",
       "  \n",
       "  \"/>\n",
       "<path clip-path=\"url(#clip410)\" d=\"\n",
       "M1991.34 198.898 L2281.45 198.898 L2281.45 95.2176 L1991.34 95.2176  Z\n",
       "  \" fill=\"#ffffff\" fill-rule=\"evenodd\" fill-opacity=\"1\"/>\n",
       "<polyline clip-path=\"url(#clip410)\" style=\"stroke:#000000; stroke-linecap:butt; stroke-linejoin:round; stroke-width:4; stroke-opacity:1; fill:none\" points=\"\n",
       "  1991.34,198.898 2281.45,198.898 2281.45,95.2176 1991.34,95.2176 1991.34,198.898 \n",
       "  \"/>\n",
       "<polyline clip-path=\"url(#clip410)\" style=\"stroke:#009af9; stroke-linecap:butt; stroke-linejoin:round; stroke-width:4; stroke-opacity:1; fill:none\" points=\"\n",
       "  2015.11,147.058 2157.72,147.058 \n",
       "  \"/>\n",
       "<path clip-path=\"url(#clip410)\" d=\"M2195.33 166.745 Q2193.52 171.375 2191.81 172.787 Q2190.1 174.199 2187.22 174.199 L2183.82 174.199 L2183.82 170.634 L2186.32 170.634 Q2188.08 170.634 2189.05 169.8 Q2190.03 168.967 2191.21 165.865 L2191.97 163.921 L2181.48 138.412 L2186 138.412 L2194.1 158.689 L2202.2 138.412 L2206.72 138.412 L2195.33 166.745 Z\" fill=\"#000000\" fill-rule=\"evenodd\" fill-opacity=\"1\" /><path clip-path=\"url(#clip410)\" d=\"M2214.01 160.402 L2221.65 160.402 L2221.65 134.037 L2213.34 135.703 L2213.34 131.444 L2221.6 129.778 L2226.28 129.778 L2226.28 160.402 L2233.91 160.402 L2233.91 164.338 L2214.01 164.338 L2214.01 160.402 Z\" fill=\"#000000\" fill-rule=\"evenodd\" fill-opacity=\"1\" /></svg>\n"
      ]
     },
     "execution_count": 50,
     "metadata": {},
     "output_type": "execute_result"
    }
   ],
   "source": [
    "using Plots\n",
    "using ColorBitstring, SetRounding\n",
    "nanabs = x -> iszero(x) ? NaN : abs(x)\n",
    "f = x -> 1 + x + x^2\n",
    "g = x -> 1 + x/3 + x^2\n",
    "h_arr = Vector{Float64}(vec(collect(-30:15)))\n",
    "h = map(i -> i .^h_arr ,10)\n",
    "h = reverse(h)\n",
    "list = []\n",
    "for i in h\n",
    "    append!(list, (f(i) - f(-i))/i)\n",
    "end\n",
    "list = nanabs.(list .- 2)\n",
    "println(list)\n",
    "plot(reverse(h_arr), list; yscale=:log10)"
   ]
  },
  {
   "cell_type": "code",
   "execution_count": 2,
   "metadata": {
    "execution": {
     "iopub.execute_input": "2022-01-16T20:33:56.818892Z",
     "iopub.status.busy": "2022-01-16T20:33:56.818338Z",
     "iopub.status.idle": "2022-01-16T20:33:57.333414Z",
     "shell.execute_reply": "2022-01-16T20:33:57.332973Z"
    }
   },
   "outputs": [
    {
     "data": {
      "text/plain": [
       "1.5811387598514557"
      ]
     },
     "execution_count": 2,
     "metadata": {},
     "output_type": "execute_result"
    }
   ],
   "source": [
    "f = x -> exp(exp(x)cos(x) + sin(x))\n",
    "\n",
    "g = x -> prod(x ./ (1:1000) .- 1)\n",
    "\n",
    "function cont(n, x)\n",
    "    ret = 2one(x)\n",
    "    for k = 1:n-1\n",
    "        ret = 2 + (x-1)/ret\n",
    "    end\n",
    "    1 + (x-1)/ret\n",
    "end\n",
    "\n",
    "h = sqrt(eps())\n",
    "(cont(1000, 0.1+h)-cont(1000, 0.1))/h"
   ]
  },
  {
   "cell_type": "markdown",
   "metadata": {},
   "source": [
    "## 2. Dual numbers\n",
    "\n",
    "**Problem 2.1⋆** \n",
    "Show that dual numbers $𝔻$ are a _commutative ring_, that is, for all $a,b,c ∈ 𝔻$ the following are satisfied:\n",
    "1. _additive associativity_: $(a + b) + c = a + (b + c)$\n",
    "2. _additive commutativity_: $a + b = b + a$\n",
    "3. _additive identity_: There exists $0 ∈ 𝔻$ such that $a + 0 = a$.\n",
    "4. _additive inverse_: There exists $-a$ such that $(-a) + a = 0$.\n",
    "5. _multiplicative associativity_: $(ab)c = a(bc)$\n",
    "6. _multiplictive commutativity_: $ab = ba$\n",
    "7. _multiplictive identity_: There exists $1 ∈ 𝔻$ such that $1a= a$.\n",
    "8. _distributive_: $a(b+c) = ab + ac$\n",
    "\n",
    "**Problem 2.2⋆** A _field_ is a commutative ring such that $0 ≠ 1$ and all nonzero elements have a multiplicative inverse, i.e.,\n",
    "there exists $a^{-1}$ such that $a a^{-1} = 1$. Why isn't $𝔻$ a field?\n",
    "\n",
    "**Problem 2.3⋆** A _matrix representation_ of a ring/field are maps from a group/ring/field to matrices such that matrix addition and multiplication\n",
    "behaves exactly like addition and multiplication that of the ring/field. Show that the following are matrix representations of complex numbers and\n",
    "dual numbers (respectively):\n",
    "$$\n",
    "\\begin{align*}\n",
    "a + b {\\rm i} &\\mapsto \\begin{pmatrix} a & b \\\\ -b & a \\end{pmatrix} \\\\\n",
    "a + b {\\rm i} &\\mapsto \\begin{pmatrix} a & b \\\\ 0 & a \\end{pmatrix}\n",
    "\\end{align*}\n",
    "$$\n",
    "\n",
    "\n",
    "**Problem 2.4⋆** What is the correct definition of division on dual numbers, i.e.,\n",
    "$$\n",
    "(a + b \\epsilon )/(c + d \\epsilon ) = s + t \\epsilon\n",
    "$$\n",
    "for what choice of $s$ and $t$? Use dual numbers to compute the derivative of the following functions at $x = 0.1$:\n",
    "$$\n",
    "\\exp(\\exp x \\cos x + \\sin x), \\prod_{k=1}^3 \\left({x \\over k}-1\\right),\\hbox{ and } f^{\\rm s}_2(x) = {1 + {x - 1 \\over 2 + {x-1 \\over 2}}}\n",
    "$$\n",
    "\n",
    "\n",
    "**Problem 2.5** Add support for `cos`, `sin`, and `/` to the type `Dual`:"
   ]
  },
  {
   "cell_type": "code",
   "execution_count": 51,
   "metadata": {
    "execution": {
     "iopub.execute_input": "2022-01-16T20:33:57.335666Z",
     "iopub.status.busy": "2022-01-16T20:33:57.335081Z",
     "iopub.status.idle": "2022-01-16T20:33:57.589551Z",
     "shell.execute_reply": "2022-01-16T20:33:57.589122Z"
    }
   },
   "outputs": [
    {
     "data": {
      "text/plain": [
       "/ (generic function with 136 methods)"
      ]
     },
     "execution_count": 51,
     "metadata": {},
     "output_type": "execute_result"
    }
   ],
   "source": [
    "# Dual(a,b) represents a + b*ϵ\n",
    "struct Dual{T}\n",
    "    a::T\n",
    "    b::T\n",
    "end\n",
    "\n",
    "# Dual(a) represents a + 0*ϵ\n",
    "Dual(a::Real) = Dual(a, zero(a)) # for real numbers we use a + 0ϵ\n",
    "\n",
    "# Allow for a + b*ϵ syntax\n",
    "const ϵ = Dual(0, 1)\n",
    "\n",
    "import Base: +, *, -, /, ^, zero, exp, cos, sin\n",
    "\n",
    "# support polynomials like 1 + x, x - 1, 2x or x*2 by reducing to Dual\n",
    "+(x::Real, y::Dual) = Dual(x) + y\n",
    "+(x::Dual, y::Real) = x + Dual(y)\n",
    "-(x::Real, y::Dual) = Dual(x) - y\n",
    "-(x::Dual, y::Real) = x - Dual(y)\n",
    "*(x::Real, y::Dual) = Dual(x) * y\n",
    "*(x::Dual, y::Real) = x * Dual(y)\n",
    "\n",
    "# support x/2 (but not yet division of duals)\n",
    "/(x::Dual, k::Real) = Dual(x.a/k, x.b/k)\n",
    "\n",
    "# a simple recursive function to support x^2, x^3, etc.\n",
    "function ^(x::Dual, k::Integer)\n",
    "    if k < 0\n",
    "        error(\"Not implemented\")\n",
    "    elseif k == 1\n",
    "        x\n",
    "    else\n",
    "        x^(k-1) * x\n",
    "    end\n",
    "end\n",
    "\n",
    "# Algebraic operationds for duals\n",
    "-(x::Dual) = Dual(-x.a, -x.b)\n",
    "+(x::Dual, y::Dual) = Dual(x.a + y.a, x.b + y.b)\n",
    "-(x::Dual, y::Dual) = Dual(x.a - y.a, x.b - y.b)\n",
    "*(x::Dual, y::Dual) = Dual(x.a*y.a, x.a*y.b + x.b*y.a)\n",
    "\n",
    "exp(x::Dual) = Dual(exp(x.a), exp(x.a) * x.b)\n",
    "\n",
    "function cos(x::Dual)\n",
    "    return Dual(cos(x.a), - x.b * sin(x.a))\n",
    "end\n",
    "\n",
    "function sin(x::Dual)\n",
    "    return Dual(sin(x.a), x.b * cos(x.a))\n",
    "end\n",
    "\n",
    "function /(x::Dual, y::Dual)\n",
    "    return Dual(x.a / y.a, (x.b * y.a - x.a * y.b) / (y.a^2))\n",
    "end"
   ]
  },
  {
   "cell_type": "markdown",
   "metadata": {},
   "source": [
    "**Problem 2.6** Use dual numbers to compute the derivatives to\n",
    "$$\n",
    "\\exp(\\exp x \\cos x + \\sin x), \\prod_{k=1}^{1000} \\left({x \\over k}-1\\right), \\hbox{ and } f^{\\rm s}_{1000}(x).\n",
    "$$\n",
    "Does your answer match (to 5 digits) Problem 1.4?\n",
    "\n",
    "\n",
    "## 3. Newton iteration\n",
    "\n",
    "Newton iteration is an algorithm for computed roots of a function $f$ using its derivative: given an initial guess $x_0$, one\n",
    "obtains a sequence of guesses via\n",
    "$$\n",
    "x_{k+1} = x_k - {f(x_k) \\over f'(x_k)}\n",
    "$$\n",
    "\n",
    "**Problem 3.1** Use `Dual` to implement the following function which returns $x_n$:"
   ]
  },
  {
   "cell_type": "code",
   "execution_count": 4,
   "metadata": {
    "execution": {
     "iopub.execute_input": "2022-01-16T20:33:57.591715Z",
     "iopub.status.busy": "2022-01-16T20:33:57.591168Z",
     "iopub.status.idle": "2022-01-16T20:33:57.691101Z",
     "shell.execute_reply": "2022-01-16T20:33:57.690673Z"
    }
   },
   "outputs": [
    {
     "data": {
      "text/plain": [
       "newton (generic function with 1 method)"
      ]
     },
     "execution_count": 4,
     "metadata": {},
     "output_type": "execute_result"
    }
   ],
   "source": [
    "function newton(f, x0, n)\n",
    "    ## TODO: compute x_n \n",
    "end"
   ]
  },
  {
   "cell_type": "markdown",
   "metadata": {},
   "source": [
    "**Problem 3.2** Compute points $y$ such that $|f(y)| \\leq 10^{-13}$ (i.e., approximate roots):\n",
    "$$\n",
    "\\exp(\\exp x \\cos x + \\sin x)-6\\hbox{ and } \\prod_{k=1}^1000 \\left({x \\over k}-1\\right) - {1 \\over 2}\n",
    "$$\n",
    "(Hint: you may need to try different `x0` and `n` to get convergence. Plotting the function should give an\n",
    "indication of a good initial guess.)\n",
    "\n",
    "**Problem 3.3** Compute points $y$ such that $|f^{\\rm s}_{1000}(y) - j| \\leq 10^{-13}$ for $j = 1,2,3$. \n",
    "Make a conjecture of what $f^{\\rm s}_n(x)$ converges to as $n → ∞$. (Bonus problem: Prove your conjecture.)"
   ]
  }
 ],
 "metadata": {
  "kernelspec": {
   "display_name": "Julia 1.7.1",
   "language": "julia",
   "name": "julia-1.7"
  },
  "language_info": {
   "file_extension": ".jl",
   "mimetype": "application/julia",
   "name": "julia",
   "version": "1.7.1"
  }
 },
 "nbformat": 4,
 "nbformat_minor": 2
}
