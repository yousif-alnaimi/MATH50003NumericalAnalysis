{
 "cells": [
  {
   "cell_type": "markdown",
   "metadata": {},
   "source": [
    "# MATH50003 Numerical Analysis: Problem 3\n",
    "\n",
    "This problem sheet explores implementation of triangular solves,\n",
    "supporting a matrix with two super-diagonals, as well as\n",
    "permutation and Householder reflections that can be applied to a vector in\n",
    "$O(n)$ complexity."
   ]
  },
  {
   "cell_type": "code",
   "execution_count": 1,
   "metadata": {
    "execution": {
     "iopub.execute_input": "2022-01-21T15:14:34.786524Z",
     "iopub.status.busy": "2022-01-21T15:14:34.340567Z",
     "iopub.status.idle": "2022-01-21T15:14:35.019587Z",
     "shell.execute_reply": "2022-01-21T15:14:35.019006Z"
    }
   },
   "outputs": [],
   "source": [
    "using LinearAlgebra, Test, ColorBitstring\n",
    "\n",
    "# We will override these functions below\n",
    "import Base: getindex, setindex!, size, *, \\"
   ]
  },
  {
   "cell_type": "markdown",
   "metadata": {},
   "source": [
    "## 1. Dense Matrices\n",
    "\n",
    "**Problem 1.1** Show that `A*x` is not\n",
    "implemented as `mul(A, x)` from the lecture notes\n",
    "by finding a `Float64` example  where the bits do not match."
   ]
  },
  {
   "cell_type": "code",
   "execution_count": 2,
   "metadata": {},
   "outputs": [
    {
     "data": {
      "text/plain": [
       "mul (generic function with 1 method)"
      ]
     },
     "execution_count": 2,
     "metadata": {},
     "output_type": "execute_result"
    }
   ],
   "source": [
    "function mul(A, x)\n",
    "    m,n = size(A)\n",
    "    c = zeros(eltype(x), m) # eltype is the type of the elements of a vector/matrix\n",
    "    for j = 1:n, k = 1:m\n",
    "        c[k] += A[k, j] * x[j]\n",
    "    end\n",
    "    c\n",
    "end"
   ]
  },
  {
   "cell_type": "code",
   "execution_count": 3,
   "metadata": {},
   "outputs": [
    {
     "data": {
      "text/plain": [
       "10000-element Vector{Float64}:\n",
       " -66.21509737451514\n",
       "   9.83204179220349\n",
       "  53.82527651919909\n",
       " -27.637967072460707\n",
       "  70.03796093668643\n",
       " -43.06781800848224\n",
       " -15.702034630524413\n",
       " 155.7393546818086\n",
       "  44.494420083877\n",
       " -51.316301017445085\n",
       "  42.794435323241444\n",
       " -29.012851554495334\n",
       " -86.38901642799807\n",
       "   ⋮\n",
       "  -7.754419240590042\n",
       "   5.642377134042978\n",
       "  37.24338972829696\n",
       "  15.632250607672546\n",
       "  35.71289259782185\n",
       " -17.23657704953359\n",
       " -57.08740136009069\n",
       "  42.160844715282195\n",
       " -74.4338470233982\n",
       "  -8.428138399639208\n",
       " 117.74235181338253\n",
       "  39.83433219768665"
      ]
     },
     "execution_count": 3,
     "metadata": {},
     "output_type": "execute_result"
    }
   ],
   "source": [
    "n=10000\n",
    "A = randn(n,n)\n",
    "x = rand(n)\n",
    "ans1 = A*x\n",
    "ans2 = mul(A,x)"
   ]
  },
  {
   "cell_type": "code",
   "execution_count": 4,
   "metadata": {},
   "outputs": [
    {
     "name": "stdout",
     "output_type": "stream",
     "text": [
      "\u001b[31m1\u001b[0m\u001b[32m10000000101\u001b[0m\u001b[34m0000100011011100010000100111110001110011111111110010\u001b[0m"
     ]
    }
   ],
   "source": [
    "printbits(ans1[1])"
   ]
  },
  {
   "cell_type": "code",
   "execution_count": 5,
   "metadata": {},
   "outputs": [
    {
     "name": "stdout",
     "output_type": "stream",
     "text": [
      "\u001b[31m1\u001b[0m\u001b[32m10000000101\u001b[0m\u001b[34m0000100011011100010000100111110001110011111111011111\u001b[0m"
     ]
    }
   ],
   "source": [
    "printbits(ans2[1])"
   ]
  },
  {
   "cell_type": "markdown",
   "metadata": {},
   "source": [
    "## 2. Triangular Matrices\n",
    "\n",
    "**Problem 2.1** Complete the following functions for solving linear systems with\n",
    "triangular systems by implementing back and forward-substitution:"
   ]
  },
  {
   "cell_type": "code",
   "execution_count": 6,
   "metadata": {
    "execution": {
     "iopub.execute_input": "2022-01-21T15:14:35.021752Z",
     "iopub.status.busy": "2022-01-21T15:14:35.021115Z",
     "iopub.status.idle": "2022-01-21T15:14:35.453273Z",
     "shell.execute_reply": "2022-01-21T15:14:35.452865Z"
    }
   },
   "outputs": [
    {
     "data": {
      "text/plain": [
       "3-element Vector{Float64}:\n",
       " 0.0\n",
       " 0.0\n",
       " 0.3333333333333333"
      ]
     },
     "execution_count": 6,
     "metadata": {},
     "output_type": "execute_result"
    }
   ],
   "source": [
    "function ldiv(U::UpperTriangular, b)\n",
    "    n = size(U,1)\n",
    "    \n",
    "    if length(b) != n\n",
    "        error(\"The system is not compatible\")\n",
    "    end\n",
    "        \n",
    "    x = zeros(n)  # the solution vector\n",
    "    ## TODO: populate x using back-substitution\n",
    "    \n",
    "    for k = n:-1:1\n",
    "        r = b[k]\n",
    "        for j = k+1:n\n",
    "            r -= U[k,j]x[j]\n",
    "        end\n",
    "    x[k] = r/U[k,k]\n",
    "    end\n",
    "            \n",
    "    x\n",
    "end\n",
    "\n",
    "function ldiv(U::LowerTriangular, b)\n",
    "    n = size(U,1)\n",
    "    \n",
    "    if length(b) != n\n",
    "        error(\"The system is not compatible\")\n",
    "    end\n",
    "        \n",
    "    x = zeros(n)  # the solution vector\n",
    "    for k = 1:n\n",
    "        r = b[k]\n",
    "        for j = 1:k-1\n",
    "            r -= U[k,j]*b[j]\n",
    "        end\n",
    "    x[k] = r/U[k,k]\n",
    "    end\n",
    "    \n",
    "    x\n",
    "end\n",
    "\n",
    "A = [1 2 3;\n",
    "     4 5 6;\n",
    "     7 8 9]\n",
    "U = UpperTriangular(A)\n",
    "L = LowerTriangular(A)\n",
    "ldiv(U, [1,2,3])\n"
   ]
  },
  {
   "cell_type": "code",
   "execution_count": 7,
   "metadata": {},
   "outputs": [
    {
     "data": {
      "text/plain": [
       "3-element Vector{Float64}:\n",
       "  1.0\n",
       " -0.4\n",
       " -2.2222222222222223"
      ]
     },
     "execution_count": 7,
     "metadata": {},
     "output_type": "execute_result"
    }
   ],
   "source": [
    "ldiv(L, [1,2,3])"
   ]
  },
  {
   "cell_type": "markdown",
   "metadata": {},
   "source": [
    "**Problem 2.2⋆** Given $𝐱 ∈ ℝ^n$, find a lower triangular matrix of the form\n",
    "$$\n",
    "L = I - 2 𝐯 𝐞_1^⊤\n",
    "$$\n",
    "such that:\n",
    "$$\n",
    "L 𝐱 = x_1 𝐞_1.\n",
    "$$\n",
    "What does $L𝐲$ equal if $𝐲  ∈ ℝ^n$ satisfies $y_1 = 𝐞_1^⊤ 𝐲 = 0$?\n",
    "\n",
    "## 3. Banded matrices\n",
    "\n",
    "**Problem 3.1** Complete the implementation of `UpperTridiagonal` which represents a banded matrix with\n",
    "bandwidths $(l,u) = (0,2)$:"
   ]
  },
  {
   "cell_type": "code",
   "execution_count": 8,
   "metadata": {
    "execution": {
     "iopub.execute_input": "2022-01-21T15:14:35.455661Z",
     "iopub.status.busy": "2022-01-21T15:14:35.455040Z",
     "iopub.status.idle": "2022-01-21T15:14:35.552876Z",
     "shell.execute_reply": "2022-01-21T15:14:35.552441Z"
    }
   },
   "outputs": [
    {
     "data": {
      "text/plain": [
       "5×5 UpperTridiagonal{Int64}:\n",
       " 1  1  1  0  0\n",
       " 0  2  2  2  0\n",
       " 0  0  3  3  3\n",
       " 0  0  0  4  4\n",
       " 0  0  0  0  5"
      ]
     },
     "execution_count": 8,
     "metadata": {},
     "output_type": "execute_result"
    }
   ],
   "source": [
    "struct UpperTridiagonal{T} <: AbstractMatrix{T}\n",
    "    d::Vector{T}   # diagonal entries\n",
    "    du::Vector{T}  # super-diagonal enries\n",
    "    du2::Vector{T} # second-super-diagonal entries\n",
    "end\n",
    "\n",
    "size(U::UpperTridiagonal) = (length(U.d),length(U.d))\n",
    "\n",
    "function getindex(U::UpperTridiagonal, k::Int, j::Int)\n",
    "    d,du,du2 = U.d,U.du,U.du2\n",
    "    # TODO: return U[k,j]\n",
    "    if k == j\n",
    "        d[k]\n",
    "    elseif k + 1 == j\n",
    "        du[k]\n",
    "    elseif k + 2 == j\n",
    "        du2[k]\n",
    "    else\n",
    "        0\n",
    "    end\n",
    "end\n",
    "\n",
    "function setindex!(U::UpperTridiagonal, v, k::Int, j::Int)\n",
    "    d,du,du2 = U.d,U.du,U.du2\n",
    "    if j > k+2\n",
    "        error(\"Cannot modify off-band\")\n",
    "    end\n",
    "    \n",
    "    # TODO: modify d,du,du2 so that U[k,j] == v\n",
    "    if k == j\n",
    "        d[k] = v\n",
    "    elseif k + 1 == j\n",
    "        du[k] = v\n",
    "    elseif k + 2 == j\n",
    "        du2[k] = v\n",
    "    else\n",
    "        \"Failed\"\n",
    "    end\n",
    "    U # by convention we return the matrix\n",
    "end\n",
    "\n",
    "U = UpperTridiagonal([1,2,3,4,5], [1,2,3,4], [1,2,3])\n",
    "# setindex!(U,23,2,2)\n",
    "# getindex(U,2,2)"
   ]
  },
  {
   "cell_type": "markdown",
   "metadata": {},
   "source": [
    "**Problem 3.2** Complete the following implementations of `*` and `\\` for `UpperTridiagonal` so that\n",
    "they take only $O(n)$ operations."
   ]
  },
  {
   "cell_type": "code",
   "execution_count": 9,
   "metadata": {
    "execution": {
     "iopub.execute_input": "2022-01-21T15:14:35.554903Z",
     "iopub.status.busy": "2022-01-21T15:14:35.554376Z",
     "iopub.status.idle": "2022-01-21T15:14:35.653168Z",
     "shell.execute_reply": "2022-01-21T15:14:35.652641Z"
    }
   },
   "outputs": [
    {
     "ename": "LoadError",
     "evalue": "MethodError: no method matching (::Colon)(::Int64, ::Tuple{Int64})\n\u001b[0mClosest candidates are:\n\u001b[0m  (::Colon)(::T, ::Any, \u001b[91m::T\u001b[39m) where T<:Real at C:\\Users\\yousi\\AppData\\Local\\Programs\\Julia-1.7.1\\share\\julia\\base\\range.jl:41\n\u001b[0m  (::Colon)(::A, ::Any, \u001b[91m::C\u001b[39m) where {A<:Real, C<:Real} at C:\\Users\\yousi\\AppData\\Local\\Programs\\Julia-1.7.1\\share\\julia\\base\\range.jl:10\n\u001b[0m  (::Colon)(::T, ::Any, \u001b[91m::T\u001b[39m) where T at C:\\Users\\yousi\\AppData\\Local\\Programs\\Julia-1.7.1\\share\\julia\\base\\range.jl:40\n\u001b[0m  ...",
     "output_type": "error",
     "traceback": [
      "MethodError: no method matching (::Colon)(::Int64, ::Tuple{Int64})\n\u001b[0mClosest candidates are:\n\u001b[0m  (::Colon)(::T, ::Any, \u001b[91m::T\u001b[39m) where T<:Real at C:\\Users\\yousi\\AppData\\Local\\Programs\\Julia-1.7.1\\share\\julia\\base\\range.jl:41\n\u001b[0m  (::Colon)(::A, ::Any, \u001b[91m::C\u001b[39m) where {A<:Real, C<:Real} at C:\\Users\\yousi\\AppData\\Local\\Programs\\Julia-1.7.1\\share\\julia\\base\\range.jl:10\n\u001b[0m  (::Colon)(::T, ::Any, \u001b[91m::T\u001b[39m) where T at C:\\Users\\yousi\\AppData\\Local\\Programs\\Julia-1.7.1\\share\\julia\\base\\range.jl:40\n\u001b[0m  ...",
      "",
      "Stacktrace:",
      " [1] *(U::UpperTridiagonal{Int64}, x::Vector{Int64})",
      "   @ Main .\\In[9]:6",
      " [2] top-level scope",
      "   @ In[9]:24",
      " [3] eval",
      "   @ .\\boot.jl:373 [inlined]",
      " [4] include_string(mapexpr::typeof(REPL.softscope), mod::Module, code::String, filename::String)",
      "   @ Base .\\loading.jl:1196"
     ]
    }
   ],
   "source": [
    "function *(U::UpperTridiagonal, x::AbstractVector)\n",
    "    T = promote_type(eltype(U), eltype(x)) # make a type that contains both the element type of U and x\n",
    "    b = zeros(T, size(U,1)) # returned vector\n",
    "    d,du,du2 = U.d,U.du,U.du2\n",
    "    # TODO: populate b so that U*x == b (up to rounding)\n",
    "    for k = 1:size(d)\n",
    "        if k == 1 || k == size(d)\n",
    "            b[k] = x[k]*(d[k])\n",
    "        elseif k == 2 || k == size(d) - 1\n",
    "            b[k] = x[k]*(d[k] + du[k-1])\n",
    "        else\n",
    "            b[k] = x[k]*(d[k] + du[k-1] + du2[k-1])\n",
    "        end\n",
    "    end\n",
    "    b\n",
    "end\n",
    "\n",
    "function \\(U::UpperTridiagonal, b::AbstractVector)\n",
    "    T = promote_type(eltype(U), eltype(b)) # make a type that contains both the element type of U and b\n",
    "    x = zeros(T, size(U,2)) # returned vector\n",
    "    # TODO: populate x so that U*x == b (up to rounding)\n",
    "end\n",
    "\n",
    "U*[1,2,3,4]"
   ]
  },
  {
   "cell_type": "markdown",
   "metadata": {},
   "source": [
    "## 4. Permutations\n",
    "\n",
    "**Problem 4.1⋆** What are the permutation matrices corresponding to the following permutations?\n",
    "$$\n",
    "\\begin{pmatrix}\n",
    "1 & 2 & 3 \\\\\n",
    "3 & 2 & 1\n",
    "\\end{pmatrix}, \\begin{pmatrix}\n",
    "1 & 2 & 3 & 4 & 5 & 6\\\\\n",
    "2 & 1 & 4 & 3 & 6 & 5\n",
    "\\end{pmatrix}.\n",
    "$$\n",
    "\n",
    "\n",
    "**Problem 4.2** Complete the implementation of a type representing\n",
    "permutation matrices that supports `P[k,j]` and such that `*` takes $O(n)$ operations."
   ]
  },
  {
   "cell_type": "code",
   "execution_count": 10,
   "metadata": {
    "execution": {
     "iopub.execute_input": "2022-01-21T15:14:35.655304Z",
     "iopub.status.busy": "2022-01-21T15:14:35.654771Z",
     "iopub.status.idle": "2022-01-21T15:14:36.608293Z",
     "shell.execute_reply": "2022-01-21T15:14:36.607825Z"
    }
   },
   "outputs": [
    {
     "data": {
      "text/plain": [
       "\u001b[32m\u001b[1mTest Passed\u001b[22m\u001b[39m\n",
       "  Expression: P == (I(5))[p, :]\n",
       "   Evaluated: [1 0 … 0 0; 0 0 … 1 0; … ; 0 0 … 0 1; 0 0 … 0 0] == sparse([1, 3, 5, 2, 4], [1, 2, 3, 4, 5], Bool[1, 1, 1, 1, 1], 5, 5)"
      ]
     },
     "execution_count": 10,
     "metadata": {},
     "output_type": "execute_result"
    }
   ],
   "source": [
    "struct PermutationMatrix <: AbstractMatrix{Int}\n",
    "    p::Vector{Int} # represents the permutation whose action is v[p]\n",
    "    function PermutationMatrix(p::Vector)\n",
    "        sort(p) == 1:length(p) || error(\"input is not a valid permutation\")\n",
    "        new(p)\n",
    "    end\n",
    "end\n",
    "\n",
    "size(P::PermutationMatrix) = (length(P.p),length(P.p))\n",
    "\n",
    "function getindex(P::PermutationMatrix, k::Int, j::Int)\n",
    "    # TODO: Return P[k,j]\n",
    "    if j == P.p[k]\n",
    "        1\n",
    "    else\n",
    "        0\n",
    "    end\n",
    "end\n",
    "\n",
    "function *(P::PermutationMatrix, x::AbstractVector)\n",
    "    # TODO: permute the entries of x\n",
    "    for i = 1:size(P)[1]\n",
    "        b[i] = x[P.p[i]]\n",
    "    end\n",
    "    b\n",
    "end\n",
    "\n",
    "# If your code is correct, this \"unit test\" will succeed\n",
    "p = [1, 4, 2, 5, 3]\n",
    "P = PermutationMatrix(p)\n",
    "@test P == I(5)[p,:]"
   ]
  },
  {
   "cell_type": "markdown",
   "metadata": {},
   "source": [
    "## 5. Orthogonal matrices\n",
    "\n",
    "**Problem 5.1⋆** Show that orthogonal matrices preserve the 2-norm of vectors:\n",
    "$$\n",
    "\\|Q 𝐯\\| = \\|𝐯\\|.\n",
    "$$\n",
    "\n",
    "\n",
    "**Problem 5.2⋆** Show that the eigenvalues $λ$ of an orthogonal matrix $Q$ are\n",
    "on the unit circle: $|λ| = 1$.\n",
    "\n",
    "\n",
    "**Problem 5.3⋆** Explain why an orthogonal matrix $Q$ must be equal to $I$ if all its eigenvalues are 1.\n",
    "\n",
    "\n",
    "**Problem 5.4** Complete the implementation of a type representing\n",
    "reflections that supports `Q[k,j]` and such that `*` takes $O(n)$ operations."
   ]
  },
  {
   "cell_type": "code",
   "execution_count": 11,
   "metadata": {
    "execution": {
     "iopub.execute_input": "2022-01-21T15:14:36.610522Z",
     "iopub.status.busy": "2022-01-21T15:14:36.609942Z",
     "iopub.status.idle": "2022-01-21T15:14:38.094778Z",
     "shell.execute_reply": "2022-01-21T15:14:38.094388Z"
    }
   },
   "outputs": [
    {
     "data": {
      "text/plain": [
       "\u001b[32m\u001b[1mTest Passed\u001b[22m\u001b[39m\n",
       "  Expression: Q' * Q ≈ I\n",
       "   Evaluated: [0.9999999999999999 -5.551115123125783e-17 … 2.0816681711721685e-17 2.7755575615628914e-17; -5.551115123125783e-17 0.9999999999999998 … 1.3877787807814457e-16 5.551115123125783e-17; … ; 2.0816681711721685e-17 1.3877787807814457e-16 … 0.9999999999999999 -2.7755575615628914e-17; 2.7755575615628914e-17 5.551115123125783e-17 … -2.7755575615628914e-17 0.9999999999999999] ≈ UniformScaling{Bool}(true)"
      ]
     },
     "execution_count": 11,
     "metadata": {},
     "output_type": "execute_result"
    }
   ],
   "source": [
    "# Represents I - 2v*v'\n",
    "struct Reflection{T} <: AbstractMatrix{T}\n",
    "    v::Vector{T}\n",
    "end\n",
    "\n",
    "Reflection(x::Vector{T}) where T = Reflection{T}(x/norm(x))\n",
    "\n",
    "size(Q::Reflection) = (length(Q.v),length(Q.v))\n",
    "\n",
    "function getindex(Q::Reflection, k::Int, j::Int)\n",
    "    if k == j\n",
    "        1 - 2Q.v[k]*Q.v[j]\n",
    "    else\n",
    "        - 2Q.v[k] * Q.v[j]\n",
    "    end\n",
    "    # TODO: Return Q[k,j]\n",
    "end\n",
    "\n",
    "function *(P::Reflection, x::AbstractVector)\n",
    "    # TODO: permute the entries of x\n",
    "    x - 2Q.v * dot(Q.v, x)\n",
    "end\n",
    "\n",
    "# If your code is correct, these \"unit tests\" will succeed\n",
    "x = randn(5)\n",
    "Q = Reflection(x)\n",
    "v = x/norm(x)\n",
    "@test Q == I-2v*v'\n",
    "@test Q*v ≈ -v\n",
    "@test Q'Q ≈ I"
   ]
  },
  {
   "cell_type": "markdown",
   "metadata": {},
   "source": [
    "**Problem 5.5** Complete the following implementation of a Housholder reflection  so that the\n",
    "unit tests pass."
   ]
  },
  {
   "cell_type": "code",
   "execution_count": 28,
   "metadata": {
    "execution": {
     "iopub.execute_input": "2022-01-21T15:14:38.096777Z",
     "iopub.status.busy": "2022-01-21T15:14:38.096232Z",
     "iopub.status.idle": "2022-01-21T15:14:39.129435Z",
     "shell.execute_reply": "2022-01-21T15:14:39.129053Z"
    }
   },
   "outputs": [
    {
     "name": "stdout",
     "output_type": "stream",
     "text": [
      "2.2391399988575724"
     ]
    },
    {
     "data": {
      "text/plain": [
       "\u001b[32m\u001b[1mTest Passed\u001b[22m\u001b[39m\n",
       "  Expression: Q * x ≈ -(norm(x)) * [1; zeros(length(x) - 1)]\n",
       "   Evaluated: [-2.2391399988575724, 0.0, -1.3877787807814457e-17, 2.220446049250313e-16, -2.7755575615628914e-17] ≈ [-2.2391399988575724, -0.0, -0.0, -0.0, -0.0]"
      ]
     },
     "execution_count": 28,
     "metadata": {},
     "output_type": "execute_result"
    }
   ],
   "source": [
    "function householderreflection(s::Bool, x::AbstractVector)\n",
    "    # TODO: implement Householder reflection, returning a Reflection\n",
    "    tmp = zeros(length(x))\n",
    "    if s\n",
    "        tmp[1] = -norm(x)\n",
    "    else\n",
    "        tmp[1] = norm(x)\n",
    "    end\n",
    "    tmp2 = x + tmp\n",
    "    Reflection(tmp2)\n",
    "    \n",
    "end\n",
    "\n",
    "x = randn(5)\n",
    "print(norm(x))\n",
    "Q = householderreflection(true, x)\n",
    "@test Q isa Reflection\n",
    "@test Q*x ≈ norm(x)*[1; zeros(length(x)-1)]\n",
    "\n",
    "Q = householderreflection(false, x)\n",
    "@test Q isa Reflection\n",
    "@test Q*x ≈ -norm(x)*[1; zeros(length(x)-1)]"
   ]
  },
  {
   "cell_type": "code",
   "execution_count": null,
   "metadata": {},
   "outputs": [],
   "source": []
  }
 ],
 "metadata": {
  "kernelspec": {
   "display_name": "Julia 1.7.1",
   "language": "julia",
   "name": "julia-1.7"
  },
  "language_info": {
   "file_extension": ".jl",
   "mimetype": "application/julia",
   "name": "julia",
   "version": "1.7.1"
  }
 },
 "nbformat": 4,
 "nbformat_minor": 2
}
