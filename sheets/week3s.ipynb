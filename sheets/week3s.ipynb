{
 "cells": [
  {
   "cell_type": "markdown",
   "metadata": {},
   "source": [
    "# MATH50003 Numerical Analysis: Problem 3\n",
    "\n",
    "This problem sheet explores implementation of triangular solves,\n",
    "supporting a matrix with two super-diagonals, as well as\n",
    "permutation and Householder reflections that can be applied to a vector in\n",
    "$O(n)$ complexity.\n",
    "\n",
    "Questions marked with a ⋆ are meant to be completed without using a computer.\n",
    "Problems are denoted A/B/C to indicate their difficulty."
   ]
  },
  {
   "cell_type": "code",
   "execution_count": 1,
   "metadata": {
    "execution": {
     "iopub.execute_input": "2022-03-02T10:36:09.010419Z",
     "iopub.status.busy": "2022-03-02T10:36:08.585888Z",
     "iopub.status.idle": "2022-03-02T10:36:09.217626Z",
     "shell.execute_reply": "2022-03-02T10:36:09.217032Z"
    }
   },
   "outputs": [],
   "source": [
    "using LinearAlgebra, Test\n",
    "\n",
    "# We will override these functions below\n",
    "import Base: getindex, setindex!, size, *, \\"
   ]
  },
  {
   "cell_type": "markdown",
   "metadata": {},
   "source": [
    "## 1. Dense Matrices\n",
    "\n",
    "**Problem 1.1 (C)** Show that `A*x` is not\n",
    "implemented as `mul(A, x)` from the lecture notes\n",
    "by finding a `Float64` example  where the bits do not match.\n",
    "\n",
    "**SOLUTION**\n",
    "\n",
    "First we have to define `mul(A, x)` as in the lecture notes:"
   ]
  },
  {
   "cell_type": "code",
   "execution_count": 2,
   "metadata": {
    "execution": {
     "iopub.execute_input": "2022-03-02T10:36:09.219934Z",
     "iopub.status.busy": "2022-03-02T10:36:09.219317Z",
     "iopub.status.idle": "2022-03-02T10:36:09.650420Z",
     "shell.execute_reply": "2022-03-02T10:36:09.650012Z"
    }
   },
   "outputs": [
    {
     "data": {
      "text/plain": [
       "mul (generic function with 1 method)"
      ]
     },
     "execution_count": 2,
     "metadata": {},
     "output_type": "execute_result"
    }
   ],
   "source": [
    "function mul(A, x)\n",
    "    m,n = size(A)\n",
    "    c = zeros(eltype(x), m) # eltype is the type of the elements of a vector/matrix\n",
    "    for j = 1:n, k = 1:m\n",
    "        c[k] += A[k, j] * x[j]\n",
    "    end\n",
    "    c\n",
    "end"
   ]
  },
  {
   "cell_type": "markdown",
   "metadata": {},
   "source": [
    "Then we can easily find examples, in fact we can write a function that searches for examples:"
   ]
  },
  {
   "cell_type": "code",
   "execution_count": 3,
   "metadata": {
    "execution": {
     "iopub.execute_input": "2022-03-02T10:36:09.654726Z",
     "iopub.status.busy": "2022-03-02T10:36:09.653475Z",
     "iopub.status.idle": "2022-03-02T10:36:10.638702Z",
     "shell.execute_reply": "2022-03-02T10:36:10.638285Z"
    }
   },
   "outputs": [
    {
     "name": "stdout",
     "output_type": "stream",
     "text": [
      "Bits of obtained A*x\n",
      "\u001b[31m1\u001b[0m\u001b[32m01111111110\u001b[0m\u001b[34m1011101100000111101000111101010100101011000010011101\u001b[0m\n",
      "\u001b[31m1\u001b[0m\u001b[32m01111111111\u001b[0m\u001b[34m1100011110010101110111100101001111101101110001110100\u001b[0m\n",
      "\u001b[31m1\u001b[0m\u001b[32m10000000000\u001b[0m\u001b[34m0111010110000101110100000000101011000000101000000110\u001b[0m\n",
      "\u001b[31m1\u001b[0m\u001b[32m01111111110\u001b[0m\u001b[34m0110011000011010000000101010101010001010000100010100\u001b[0m\n",
      "\u001b[31m1\u001b[0m\u001b[32m10000000001\u001b[0m\u001b[34m1110010110000000010101010011010111011101000000011101\u001b[0m\n",
      "\u001b[31m0\u001b[0m\u001b[32m01111111111\u001b[0m\u001b[34m0001001101000000001110001101001110111010011001101010\u001b[0m\n",
      "\u001b[31m1\u001b[0m\u001b[32m10000000001\u001b[0m\u001b[34m1010111111100010000111110011110111100001101000110100\u001b[0m\n",
      "\u001b[31m0\u001b[0m\u001b[32m10000000000\u001b[0m\u001b[34m0110001110010111000110100011010001110101001111111110\u001b[0m\n",
      "\u001b[31m0\u001b[0m\u001b[32m01111111101\u001b[0m\u001b[34m0011001100000100111011111010101000111110101010001010\u001b[0m\n",
      "\u001b[31m0\u001b[0m\u001b[32m01111111101\u001b[0m\u001b[34m1001110010110101001001110011111111010011011001100011\u001b[0m\n",
      "Bits of obtained mul(A,x)\n",
      "\u001b[31m1\u001b[0m\u001b[32m01111111110\u001b[0m\u001b[34m1011101100000111101000111101010100101011000010011100\u001b[0m\n",
      "\u001b[31m1\u001b[0m\u001b[32m01111111111\u001b[0m\u001b[34m1100011110010101110111100101001111101101110001110100\u001b[0m\n",
      "\u001b[31m1\u001b[0m\u001b[32m10000000000\u001b[0m\u001b[34m0111010110000101110100000000101011000000101000000101\u001b[0m\n",
      "\u001b[31m1\u001b[0m\u001b[32m01111111110\u001b[0m\u001b[34m0110011000011010000000101010101010001010000100010010\u001b[0m\n",
      "\u001b[31m1\u001b[0m\u001b[32m10000000001\u001b[0m\u001b[34m1110010110000000010101010011010111011101000000011101\u001b[0m\n",
      "\u001b[31m0\u001b[0m\u001b[32m01111111111\u001b[0m\u001b[34m0001001101000000001110001101001110111010011001101100\u001b[0m\n",
      "\u001b[31m1\u001b[0m\u001b[32m10000000001\u001b[0m\u001b[34m1010111111100010000111110011110111100001101000110010\u001b[0m\n",
      "\u001b[31m0\u001b[0m\u001b[32m10000000000\u001b[0m\u001b[34m0110001110010111000110100011010001110101001111111110\u001b[0m\n",
      "\u001b[31m0\u001b[0m\u001b[32m01111111101\u001b[0m\u001b[34m0011001100000100111011111010101000111110101010001010\u001b[0m\n",
      "\u001b[31m0\u001b[0m\u001b[32m01111111101\u001b[0m\u001b[34m1001110010110101001001110011111111010011011001100011\u001b[0m\n",
      "Difference vector between the two solutions:\n",
      "[-1.1102230246251565e-16, 0.0, -4.440892098500626e-16, -2.220446049250313e-16, 0.0, -4.440892098500626e-16, -1.7763568394002505e-15, 0.0, 0.0, 0.0]\n"
     ]
    }
   ],
   "source": [
    "using ColorBitstring\n",
    "\n",
    "function findblasmuldifference(n,l)\n",
    "\tfor j = 1:n\n",
    "\t\tA = randn(l,l)\n",
    "\t\tx = rand(l)\n",
    "\t\tif A*x != mul(A,x) \n",
    "\t\t\treturn (A,x)\n",
    "\t\tend\n",
    "\tend\n",
    "end\n",
    "\n",
    "n = 100 # number of attempts\n",
    "l = 10 # size of objects\n",
    "(A,x) = findblasmuldifference(n,l) # find a difference\n",
    "\n",
    "println(\"Bits of obtained A*x\")\n",
    "printlnbits.(A*x);\n",
    "println(\"Bits of obtained mul(A,x)\")\n",
    "printlnbits.(mul(A,x));\n",
    "println(\"Difference vector between the two solutions:\")\n",
    "println(A*x-mul(A,x))"
   ]
  },
  {
   "cell_type": "markdown",
   "metadata": {},
   "source": [
    "## 2. Triangular Matrices\n",
    "\n",
    "**Problem 2.1 (B)** Complete the following functions for solving linear systems with\n",
    "triangular systems by implementing back and forward-substitution:"
   ]
  },
  {
   "cell_type": "code",
   "execution_count": 4,
   "metadata": {
    "execution": {
     "iopub.execute_input": "2022-03-02T10:36:10.640733Z",
     "iopub.status.busy": "2022-03-02T10:36:10.640218Z",
     "iopub.status.idle": "2022-03-02T10:36:10.719385Z",
     "shell.execute_reply": "2022-03-02T10:36:10.718986Z"
    }
   },
   "outputs": [
    {
     "data": {
      "text/plain": [
       "ldiv (generic function with 2 methods)"
      ]
     },
     "execution_count": 4,
     "metadata": {},
     "output_type": "execute_result"
    }
   ],
   "source": [
    "function ldiv(U::UpperTriangular, b)\n",
    "    n = size(U,1)\n",
    "    \n",
    "    if length(b) != n\n",
    "        error(\"The system is not compatible\")\n",
    "    end\n",
    "        \n",
    "    x = zeros(n)  # the solution vector\n",
    "    ## TODO: populate x using back-substitution\n",
    "end\n",
    "\n",
    "function ldiv(U::LowerTriangular, b)\n",
    "    n = size(U,1)\n",
    "    \n",
    "    if length(b) != n\n",
    "        error(\"The system is not compatible\")\n",
    "    end\n",
    "        \n",
    "    x = zeros(n)  # the solution vector\n",
    "    ## TODO: populate x using forward-substitution\n",
    "end"
   ]
  },
  {
   "cell_type": "markdown",
   "metadata": {},
   "source": [
    "**SOLUTION**"
   ]
  },
  {
   "cell_type": "code",
   "execution_count": 5,
   "metadata": {
    "execution": {
     "iopub.execute_input": "2022-03-02T10:36:10.722034Z",
     "iopub.status.busy": "2022-03-02T10:36:10.721346Z",
     "iopub.status.idle": "2022-03-02T10:36:10.726487Z",
     "shell.execute_reply": "2022-03-02T10:36:10.726106Z"
    }
   },
   "outputs": [
    {
     "data": {
      "text/plain": [
       "ldiv (generic function with 2 methods)"
      ]
     },
     "execution_count": 5,
     "metadata": {},
     "output_type": "execute_result"
    }
   ],
   "source": [
    "function ldiv(U::UpperTriangular, b)\n",
    "    n = size(U,1)\n",
    "    \n",
    "    if length(b) != n\n",
    "        error(\"The system is not compatible\")\n",
    "    end\n",
    "        \n",
    "    x = zeros(n)  # the solution vector\n",
    "    \n",
    "    for k = n:-1:1  # start with k=n, then k=n-1, ...\n",
    "        r = b[k]  # dummy variable\n",
    "        for j = k+1:n\n",
    "            r -= U[k,j]*x[j] # equivalent to r = r-U[k,j]*x[j]\n",
    "        end\n",
    "        x[k] = r/U[k,k]\n",
    "    end\n",
    "    x\n",
    "end\n",
    "\n",
    "function ldiv(U::LowerTriangular, b)\n",
    "    n = size(U,1)\n",
    "    \n",
    "    if length(b) != n\n",
    "        error(\"The system is not compatible\")\n",
    "    end\n",
    "        \n",
    "    x = zeros(n)  # the solution vector\n",
    "\n",
    "    for k = 1:n  # start with k=1\n",
    "        r = b[k]  # dummy variable\n",
    "        for j = 1:k-1\n",
    "            r -= U[k,j]*x[j]\n",
    "        end\n",
    "        x[k] = r/U[k,k]\n",
    "    end\n",
    "    x\n",
    "end"
   ]
  },
  {
   "cell_type": "markdown",
   "metadata": {},
   "source": [
    "Here is an example:"
   ]
  },
  {
   "cell_type": "code",
   "execution_count": 6,
   "metadata": {
    "execution": {
     "iopub.execute_input": "2022-03-02T10:36:10.728397Z",
     "iopub.status.busy": "2022-03-02T10:36:10.727873Z",
     "iopub.status.idle": "2022-03-02T10:36:11.870231Z",
     "shell.execute_reply": "2022-03-02T10:36:11.869799Z"
    }
   },
   "outputs": [
    {
     "data": {
      "text/plain": [
       "4×4 LowerTriangular{Int64, Matrix{Int64}}:\n",
       " 1  ⋅  ⋅   ⋅\n",
       " 2  3  ⋅   ⋅\n",
       " 4  5  6   ⋅\n",
       " 7  8  9  10"
      ]
     },
     "execution_count": 6,
     "metadata": {},
     "output_type": "execute_result"
    }
   ],
   "source": [
    "x = [1,2,3,4]\n",
    "Ldense = [1 0 0 0; 2 3 0 0; 4 5 6 0; 7 8 9 10]\n",
    "Ltriang = LowerTriangular(Ldense)"
   ]
  },
  {
   "cell_type": "code",
   "execution_count": 7,
   "metadata": {
    "execution": {
     "iopub.execute_input": "2022-03-02T10:36:11.872855Z",
     "iopub.status.busy": "2022-03-02T10:36:11.872175Z",
     "iopub.status.idle": "2022-03-02T10:36:13.695461Z",
     "shell.execute_reply": "2022-03-02T10:36:13.695018Z"
    }
   },
   "outputs": [
    {
     "data": {
      "text/plain": [
       "4-element Vector{Float64}:\n",
       " 0.0\n",
       " 0.0\n",
       " 0.0\n",
       " 0.0"
      ]
     },
     "execution_count": 7,
     "metadata": {},
     "output_type": "execute_result"
    }
   ],
   "source": [
    "Ldense\\x-ldiv(Ltriang,x)"
   ]
  },
  {
   "cell_type": "markdown",
   "metadata": {},
   "source": [
    "**Problem 2.2⋆ (B)** Given $𝐱 \\in \\mathbb{R}^n$, find a lower triangular matrix of the form\n",
    "$$\n",
    "L = I - 2 𝐯 𝐞_1^⊤\n",
    "$$\n",
    "such that:\n",
    "$$\n",
    "L 𝐱 = x_1 𝐞_1.\n",
    "$$\n",
    "What does $L𝐲$ equal if $𝐲  ∈ ℝ^n$ satisfies $y_1 = 𝐞_1^⊤ 𝐲 = 0$?\n",
    "\n",
    "**SOLUTION**\n",
    "\n",
    "By straightforward computation we find\n",
    "\n",
    "$$Lx = x - 2 𝐯 𝐞_1^⊤x = x - 2 𝐯 x_1$$\n",
    "\n",
    "and thus we find such a lower triangular $L$ by choosing $v_1 = 0$ and $v_k = \\frac{x_k}{2 x_1}$ for $k=2..n$ and $x_1 \\neq 0$.\n",
    "\n",
    "## 3. Banded matrices\n",
    "\n",
    "**Problem 3.1 (C)** Complete the implementation of `UpperTridiagonal` which represents a banded matrix with\n",
    "bandwidths $(l,u) = (0,2)$:"
   ]
  },
  {
   "cell_type": "code",
   "execution_count": 8,
   "metadata": {
    "execution": {
     "iopub.execute_input": "2022-03-02T10:36:13.697489Z",
     "iopub.status.busy": "2022-03-02T10:36:13.697003Z",
     "iopub.status.idle": "2022-03-02T10:36:13.793791Z",
     "shell.execute_reply": "2022-03-02T10:36:13.793413Z"
    }
   },
   "outputs": [
    {
     "data": {
      "text/plain": [
       "setindex! (generic function with 90 methods)"
      ]
     },
     "execution_count": 8,
     "metadata": {},
     "output_type": "execute_result"
    }
   ],
   "source": [
    "struct UpperTridiagonal{T} <: AbstractMatrix{T}\n",
    "    d::Vector{T}   # diagonal entries\n",
    "    du::Vector{T}  # super-diagonal enries\n",
    "    du2::Vector{T} # second-super-diagonal entries\n",
    "end\n",
    "\n",
    "size(U::UpperTridiagonal) = (length(U.d),length(U.d))\n",
    "\n",
    "function getindex(U::UpperTridiagonal, k::Int, j::Int)\n",
    "    d,du,du2 = U.d,U.du,U.du2\n",
    "    # TODO: return U[k,j]\n",
    "end\n",
    "\n",
    "function setindex!(U::UpperTridiagonal, v, k::Int, j::Int)\n",
    "    d,du,du2 = U.d,U.du,U.du2\n",
    "    if j > k+2\n",
    "        error(\"Cannot modify off-band\")\n",
    "    end\n",
    "\n",
    "    # TODO: modify d,du,du2 so that U[k,j] == v\n",
    "\n",
    "    U # by convention we return the matrix\n",
    "end"
   ]
  },
  {
   "cell_type": "markdown",
   "metadata": {},
   "source": [
    "**SOLUTION**"
   ]
  },
  {
   "cell_type": "code",
   "execution_count": 9,
   "metadata": {
    "execution": {
     "iopub.execute_input": "2022-03-02T10:36:13.795775Z",
     "iopub.status.busy": "2022-03-02T10:36:13.795255Z",
     "iopub.status.idle": "2022-03-02T10:36:13.803290Z",
     "shell.execute_reply": "2022-03-02T10:36:13.802624Z"
    }
   },
   "outputs": [
    {
     "data": {
      "text/plain": [
       "setindex! (generic function with 90 methods)"
      ]
     },
     "execution_count": 9,
     "metadata": {},
     "output_type": "execute_result"
    }
   ],
   "source": [
    "struct UpperTridiagonal{T} <: AbstractMatrix{T}\n",
    "    d::Vector{T}   # diagonal entries\n",
    "    du::Vector{T}  # super-diagonal enries\n",
    "    du2::Vector{T} # second-super-diagonal entries\n",
    "end\n",
    "\n",
    "size(U::UpperTridiagonal) = (length(U.d),length(U.d))\n",
    "\n",
    "function getindex(U::UpperTridiagonal, k::Int, j::Int)\n",
    "    d,du,du2 = U.d,U.du,U.du2\n",
    "\n",
    "    if j == k+2\n",
    "    \treturn U.du2[k]    \n",
    "    elseif j == k+1\n",
    "    \treturn U.du[k]\n",
    "    elseif j == k\n",
    "    \treturn U.d[k]\n",
    "    else # off band entries are zero\n",
    "    \treturn zero(eltype(U))\n",
    "    end\n",
    "end\n",
    "\n",
    "function setindex!(U::UpperTridiagonal, v, k::Int, j::Int)\n",
    "    d,du,du2 = U.d,U.du,U.du2\n",
    "    if (j > k+2)||(j<k)\n",
    "        error(\"Cannot modify off-band\")\n",
    "    end\n",
    "\n",
    "    if j == k+2\n",
    "    \tU.du2[k] = v  \n",
    "    elseif j == k+1\n",
    "    \tU.du[k] = v\n",
    "    elseif j == k\n",
    "    \tU.d[k] = v\n",
    "    end\n",
    "\n",
    "    U # by convention we return the matrix\n",
    "end"
   ]
  },
  {
   "cell_type": "markdown",
   "metadata": {},
   "source": [
    "We can check that the above methods to read and write entries work:"
   ]
  },
  {
   "cell_type": "code",
   "execution_count": 10,
   "metadata": {
    "execution": {
     "iopub.execute_input": "2022-03-02T10:36:13.806452Z",
     "iopub.status.busy": "2022-03-02T10:36:13.805481Z",
     "iopub.status.idle": "2022-03-02T10:36:14.156455Z",
     "shell.execute_reply": "2022-03-02T10:36:14.156056Z"
    }
   },
   "outputs": [
    {
     "data": {
      "text/plain": [
       "4×4 UpperTridiagonal{Int64}:\n",
       " 1  1  1  0\n",
       " 0  2  2  2\n",
       " 0  0  3  3\n",
       " 0  0  0  4"
      ]
     },
     "execution_count": 10,
     "metadata": {},
     "output_type": "execute_result"
    }
   ],
   "source": [
    "A = UpperTridiagonal([1,2,3,4], [1,2,3], [1,2])"
   ]
  },
  {
   "cell_type": "code",
   "execution_count": 11,
   "metadata": {
    "execution": {
     "iopub.execute_input": "2022-03-02T10:36:14.158394Z",
     "iopub.status.busy": "2022-03-02T10:36:14.157904Z",
     "iopub.status.idle": "2022-03-02T10:36:14.167576Z",
     "shell.execute_reply": "2022-03-02T10:36:14.167199Z"
    }
   },
   "outputs": [
    {
     "data": {
      "text/plain": [
       "4×4 UpperTridiagonal{Int64}:\n",
       " 2  1  1  0\n",
       " 0  2  2  2\n",
       " 0  0  3  3\n",
       " 0  0  0  4"
      ]
     },
     "execution_count": 11,
     "metadata": {},
     "output_type": "execute_result"
    }
   ],
   "source": [
    "A[1,1] = 2\n",
    "A"
   ]
  },
  {
   "cell_type": "markdown",
   "metadata": {},
   "source": [
    "**Problem 3.2 (B)** Complete the following implementations of `*` and `\\` for `UpperTridiagonal` so that\n",
    "they take only $O(n)$ operations."
   ]
  },
  {
   "cell_type": "code",
   "execution_count": 12,
   "metadata": {
    "execution": {
     "iopub.execute_input": "2022-03-02T10:36:14.169502Z",
     "iopub.status.busy": "2022-03-02T10:36:14.169008Z",
     "iopub.status.idle": "2022-03-02T10:36:14.255889Z",
     "shell.execute_reply": "2022-03-02T10:36:14.255241Z"
    }
   },
   "outputs": [
    {
     "data": {
      "text/plain": [
       "\\ (generic function with 136 methods)"
      ]
     },
     "execution_count": 12,
     "metadata": {},
     "output_type": "execute_result"
    }
   ],
   "source": [
    "function *(U::UpperTridiagonal, x::AbstractVector)\n",
    "    T = promote_type(eltype(U), eltype(x)) # make a type that contains both the element type of U and x\n",
    "    b = zeros(T, size(U,1)) # returned vector\n",
    "    # TODO: populate b so that U*x == b (up to rounding)\n",
    "end\n",
    "\n",
    "function \\(U::UpperTridiagonal, b::AbstractVector)\n",
    "    T = promote_type(eltype(U), eltype(b)) # make a type that contains both the element type of U and b\n",
    "    x = zeros(T, size(U,2)) # returned vector\n",
    "    # TODO: populate x so that U*x == b (up to rounding)\n",
    "end"
   ]
  },
  {
   "cell_type": "markdown",
   "metadata": {},
   "source": [
    "**SOLUTION**"
   ]
  },
  {
   "cell_type": "code",
   "execution_count": 13,
   "metadata": {
    "execution": {
     "iopub.execute_input": "2022-03-02T10:36:14.258281Z",
     "iopub.status.busy": "2022-03-02T10:36:14.257763Z",
     "iopub.status.idle": "2022-03-02T10:36:14.274586Z",
     "shell.execute_reply": "2022-03-02T10:36:14.274129Z"
    }
   },
   "outputs": [
    {
     "data": {
      "text/plain": [
       "\\ (generic function with 136 methods)"
      ]
     },
     "execution_count": 13,
     "metadata": {},
     "output_type": "execute_result"
    }
   ],
   "source": [
    "function *(U::UpperTridiagonal, x::AbstractVector)\n",
    "    T = promote_type(eltype(U), eltype(x)) # make a type that contains both the element type of U and x\n",
    "    b = zeros(T, size(U,1)) # returned vector\n",
    "    n = size(U)[1]\n",
    "    for k = 1:n-2\n",
    "    \tb[k] = dot(U[k,k:k+2],x[k:k+2])\n",
    "    end\n",
    "    # the last two rows need a bit more care\n",
    "    b[n-1] = dot(U[n-1,n-1:n],x[n-1:n])\n",
    "    b[n] = U[n,n]*x[n]\n",
    "    return b\n",
    "end\n",
    "\n",
    "function \\(U::UpperTridiagonal, b::AbstractVector)\n",
    "    T = promote_type(eltype(U), eltype(b)) # make a type that contains both the element type of U and b\n",
    "    x = zeros(T, size(U,2)) # returned vector\n",
    "    n = size(U)[1]\n",
    "    \n",
    "    if length(b) != n\n",
    "        error(\"The system is not compatible\")\n",
    "    end\n",
    "    \n",
    "    for k = n:-1:1  # start with k=n, then k=n-1, ...\n",
    "        r = b[k]  # dummy variable\n",
    "        for j = k+1:min(k+3,n)\n",
    "            r -= U[k,j]*x[j]\n",
    "        end\n",
    "        x[k] = r/U[k,k]\n",
    "    end\n",
    "    x\n",
    "end"
   ]
  },
  {
   "cell_type": "markdown",
   "metadata": {},
   "source": [
    "And here is an example of what we have implemented in action:"
   ]
  },
  {
   "cell_type": "code",
   "execution_count": 14,
   "metadata": {
    "execution": {
     "iopub.execute_input": "2022-03-02T10:36:14.276542Z",
     "iopub.status.busy": "2022-03-02T10:36:14.276026Z",
     "iopub.status.idle": "2022-03-02T10:36:14.614895Z",
     "shell.execute_reply": "2022-03-02T10:36:14.614384Z"
    }
   },
   "outputs": [
    {
     "data": {
      "text/plain": [
       "true"
      ]
     },
     "execution_count": 14,
     "metadata": {},
     "output_type": "execute_result"
    }
   ],
   "source": [
    "Abanded = UpperTridiagonal([1.1,2.2,3.3,4.4], [1.9,2.8,3.7], [1.5,2.4])\n",
    "Adense = Matrix(Abanded) # one of many easy ways to convert to dense storage\n",
    "\n",
    "Adense == Abanded"
   ]
  },
  {
   "cell_type": "code",
   "execution_count": 15,
   "metadata": {
    "execution": {
     "iopub.execute_input": "2022-03-02T10:36:14.616829Z",
     "iopub.status.busy": "2022-03-02T10:36:14.616290Z",
     "iopub.status.idle": "2022-03-02T10:36:14.627111Z",
     "shell.execute_reply": "2022-03-02T10:36:14.626664Z"
    }
   },
   "outputs": [
    {
     "data": {
      "text/plain": [
       "4-element Vector{Float64}:\n",
       "  8.145\n",
       " 25.456266666666668\n",
       " 36.02355000000001\n",
       " 40.22260000000001"
      ]
     },
     "execution_count": 15,
     "metadata": {},
     "output_type": "execute_result"
    }
   ],
   "source": [
    "x = [5.2,3/4,2/3,9.1415]\n",
    "Adense*x"
   ]
  },
  {
   "cell_type": "code",
   "execution_count": 16,
   "metadata": {
    "execution": {
     "iopub.execute_input": "2022-03-02T10:36:14.629056Z",
     "iopub.status.busy": "2022-03-02T10:36:14.628484Z",
     "iopub.status.idle": "2022-03-02T10:36:14.690748Z",
     "shell.execute_reply": "2022-03-02T10:36:14.690280Z"
    }
   },
   "outputs": [
    {
     "data": {
      "text/plain": [
       "4-element Vector{Float64}:\n",
       "  8.145\n",
       " 25.456266666666668\n",
       " 36.02355000000001\n",
       " 40.22260000000001"
      ]
     },
     "execution_count": 16,
     "metadata": {},
     "output_type": "execute_result"
    }
   ],
   "source": [
    "Abanded*x"
   ]
  },
  {
   "cell_type": "code",
   "execution_count": 17,
   "metadata": {
    "execution": {
     "iopub.execute_input": "2022-03-02T10:36:14.692652Z",
     "iopub.status.busy": "2022-03-02T10:36:14.692140Z",
     "iopub.status.idle": "2022-03-02T10:36:14.911113Z",
     "shell.execute_reply": "2022-03-02T10:36:14.910675Z"
    }
   },
   "outputs": [
    {
     "data": {
      "text/plain": [
       "4-element Vector{Float64}:\n",
       "  6.277487146066222\n",
       "  0.7820538024876866\n",
       " -2.1274253902662994\n",
       "  2.0776136363636364"
      ]
     },
     "execution_count": 17,
     "metadata": {},
     "output_type": "execute_result"
    }
   ],
   "source": [
    "Adense\\x"
   ]
  },
  {
   "cell_type": "code",
   "execution_count": 18,
   "metadata": {
    "execution": {
     "iopub.execute_input": "2022-03-02T10:36:14.912984Z",
     "iopub.status.busy": "2022-03-02T10:36:14.912457Z",
     "iopub.status.idle": "2022-03-02T10:36:14.939952Z",
     "shell.execute_reply": "2022-03-02T10:36:14.939426Z"
    }
   },
   "outputs": [
    {
     "data": {
      "text/plain": [
       "4-element Vector{Float64}:\n",
       "  6.277487146066222\n",
       "  0.7820538024876866\n",
       " -2.1274253902662994\n",
       "  2.0776136363636364"
      ]
     },
     "execution_count": 18,
     "metadata": {},
     "output_type": "execute_result"
    }
   ],
   "source": [
    "Abanded\\x"
   ]
  },
  {
   "cell_type": "markdown",
   "metadata": {},
   "source": [
    "And just for fun, let's do a larger scale dense speed comparison"
   ]
  },
  {
   "cell_type": "code",
   "execution_count": 19,
   "metadata": {
    "execution": {
     "iopub.execute_input": "2022-03-02T10:36:14.942004Z",
     "iopub.status.busy": "2022-03-02T10:36:14.941459Z",
     "iopub.status.idle": "2022-03-02T10:36:29.204122Z",
     "shell.execute_reply": "2022-03-02T10:36:29.202931Z"
    }
   },
   "outputs": [
    {
     "name": "stdout",
     "output_type": "stream",
     "text": [
      "  27.939 ms (2 allocations: 78.17 KiB)\n"
     ]
    },
    {
     "name": "stderr",
     "output_type": "stream",
     "text": [
      "┌ Info: Precompiling BenchmarkTools [6e4b80f9-dd63-53aa-95a3-0cdb28fa8baf]\n",
      "└ @ Base loading.jl:1423\n"
     ]
    }
   ],
   "source": [
    "using BenchmarkTools\n",
    "n = 10000\n",
    "Abanded = UpperTridiagonal(rand(n),rand(n-1),rand(n-2))\n",
    "Adense = Matrix(Abanded) # one of many easy ways to convert to dense storage\n",
    "x = rand(n)\n",
    "\n",
    "@btime Adense*x;"
   ]
  },
  {
   "cell_type": "code",
   "execution_count": 20,
   "metadata": {
    "execution": {
     "iopub.execute_input": "2022-03-02T10:36:29.208771Z",
     "iopub.status.busy": "2022-03-02T10:36:29.208039Z",
     "iopub.status.idle": "2022-03-02T10:36:39.841357Z",
     "shell.execute_reply": "2022-03-02T10:36:39.840940Z"
    }
   },
   "outputs": [
    {
     "name": "stdout",
     "output_type": "stream",
     "text": [
      "  855.645 μs (20000 allocations: 1.60 MiB)\n"
     ]
    }
   ],
   "source": [
    "@btime Abanded*x;"
   ]
  },
  {
   "cell_type": "code",
   "execution_count": 21,
   "metadata": {
    "execution": {
     "iopub.execute_input": "2022-03-02T10:36:39.843527Z",
     "iopub.status.busy": "2022-03-02T10:36:39.843037Z",
     "iopub.status.idle": "2022-03-02T10:36:50.872249Z",
     "shell.execute_reply": "2022-03-02T10:36:50.871754Z"
    }
   },
   "outputs": [
    {
     "name": "stdout",
     "output_type": "stream",
     "text": [
      "  75.769 ms (2 allocations: 78.17 KiB)\n"
     ]
    }
   ],
   "source": [
    "@btime Adense\\x;"
   ]
  },
  {
   "cell_type": "code",
   "execution_count": 22,
   "metadata": {
    "execution": {
     "iopub.execute_input": "2022-03-02T10:36:50.874488Z",
     "iopub.status.busy": "2022-03-02T10:36:50.873946Z",
     "iopub.status.idle": "2022-03-02T10:36:57.776036Z",
     "shell.execute_reply": "2022-03-02T10:36:57.775644Z"
    }
   },
   "outputs": [
    {
     "name": "stdout",
     "output_type": "stream",
     "text": [
      "  86.110 μs (2 allocations: 78.17 KiB)\n"
     ]
    }
   ],
   "source": [
    "@btime Abanded\\x;"
   ]
  },
  {
   "cell_type": "markdown",
   "metadata": {},
   "source": [
    "## 4. Permutations\n",
    "\n",
    "**Problem 4.1⋆ (C)** What are the permutation matrices corresponding to the following permutations?\n",
    "$$\n",
    "\\begin{pmatrix}\n",
    "1 & 2 & 3 \\\\\n",
    "3 & 2 & 1\n",
    "\\end{pmatrix}, \\begin{pmatrix}\n",
    "1 & 2 & 3 & 4 & 5 & 6\\\\\n",
    "2 & 1 & 4 & 3 & 6 & 5\n",
    "\\end{pmatrix}.\n",
    "$$\n",
    "\n",
    "**SOLUTION**\n",
    "\n",
    "Let $\\sigma=\\begin{pmatrix}1 & 2 & 3 \\\\ 3 & 2 & 1\\end{pmatrix}$ and $\\tau=\\begin{pmatrix}1 & 2 & 3 & 4 & 5 & 6\\\\ 2 & 1 & 4 & 3 & 6 & 5\\end{pmatrix}$. There are two ways to construct $P_\\sigma$ and $P_\\tau$.\n",
    "\n",
    "- Column by column:\n",
    "  $$P_\\sigma=\n",
    "  \\left(\\mathbf{e}_{\\sigma_1^{-1}}\\middle|\\mathbf{e}_{\\sigma_2^{-1}}\\middle|\\mathbf{e}_{\\sigma_3^{-1}}\\right)=\n",
    "  \\left(\\mathbf{e}_3\\middle|\\mathbf{e}_2\\middle|\\mathbf{e}_1\\right)$$\n",
    "  $$P_\\tau=\n",
    "  \\left(\\mathbf{e}_{\\tau_1^{-1}}\\middle|\\mathbf{e}_{\\tau_2^{-1}}\\middle|\\mathbf{e}_{\\tau_3^{-1}}\\middle|\\mathbf{e}_{\\tau_4^{-1}}\\middle|\\mathbf{e}_{\\tau_5^{-1}}\\middle|\\mathbf{e}_{\\tau_6^{-1}}\\right)=\n",
    "  \\left(\\mathbf{e}_2\\middle|\\mathbf{e}_1\\middle|\\mathbf{e}_4\\middle|\\mathbf{e}_3\\middle|\\mathbf{e}_6\\middle|\\mathbf{e}_5\\right)$$\n",
    "- Row by row:\n",
    "  $$P_\\sigma=I[\\mathbf{\\sigma},:]=\n",
    "  \\begin{pmatrix}\n",
    "  I[\\sigma_1,:]\\\\\n",
    "  I[\\sigma_2,:]\\\\\n",
    "  I[\\sigma_3,:]\n",
    "  \\end{pmatrix}=\n",
    "  \\begin{pmatrix}\n",
    "  I[3,:]\\\\\n",
    "  I[2,:]\\\\\n",
    "  I[1,:]\n",
    "  \\end{pmatrix}$$\n",
    "  $$P_\\tau=I[\\mathbf{\\tau},:]=\n",
    "  \\begin{pmatrix}\n",
    "  I[\\tau_1,:]\\\\\n",
    "  I[\\tau_2,:]\\\\\n",
    "  I[\\tau_3,:]\\\\\n",
    "  I[\\tau_4,:]\\\\\n",
    "  I[\\tau_5,:]\\\\\n",
    "  I[\\tau_6,:]\\\\\n",
    "  \\end{pmatrix}=\n",
    "  \\begin{pmatrix}\n",
    "  I[2,:]\\\\\n",
    "  I[1,:]\\\\\n",
    "  I[4,:]\\\\\n",
    "  I[3,:]\\\\\n",
    "  I[6,:]\\\\\n",
    "  I[5,:]\\\\\n",
    "  \\end{pmatrix}$$\n",
    "\n",
    "Either way, we have\n",
    "$$P_\\sigma=\n",
    "\\begin{pmatrix}\n",
    "0 & 0 & 1\\\\ \n",
    "0 & 1 & 0\\\\ \n",
    "1 & 0 & 0\n",
    "\\end{pmatrix}\n",
    "\\qquad\\text{and}\\qquad\n",
    "P_\\tau=\n",
    "\\begin{pmatrix}\n",
    "0 & 1 & 0 & 0 & 0 & 0 \\\\\n",
    "1 & 0 & 0 & 0 & 0 & 0 \\\\\n",
    "0 & 0 & 0 & 1 & 0 & 0 \\\\\n",
    "0 & 0 & 1 & 0 & 0 & 0 \\\\\n",
    "0 & 0 & 0 & 0 & 0 & 1 \\\\\n",
    "0 & 0 & 0 & 0 & 1 & 0\n",
    "\\end{pmatrix}$$\n",
    "\n",
    "**Problem 4.2 (B)** Complete the implementation of a type representing\n",
    "permutation matrices that supports `P[k,j]` and such that `*` takes $O(n)$ operations."
   ]
  },
  {
   "cell_type": "code",
   "execution_count": 23,
   "metadata": {
    "execution": {
     "iopub.execute_input": "2022-03-02T10:36:57.777903Z",
     "iopub.status.busy": "2022-03-02T10:36:57.777412Z",
     "iopub.status.idle": "2022-03-02T10:36:58.828983Z",
     "shell.execute_reply": "2022-03-02T10:36:58.828466Z"
    }
   },
   "outputs": [
    {
     "data": {
      "text/plain": [
       "\u001b[32m\u001b[1mTest Passed\u001b[22m\u001b[39m\n",
       "  Expression: P == (I(5))[p, :]\n",
       "   Evaluated: [1 0 … 0 0; 0 0 … 1 0; … ; 0 0 … 0 1; 0 0 … 0 0] == sparse([1, 3, 5, 2, 4], [1, 2, 3, 4, 5], Bool[1, 1, 1, 1, 1], 5, 5)"
      ]
     },
     "execution_count": 23,
     "metadata": {},
     "output_type": "execute_result"
    }
   ],
   "source": [
    "using LinearAlgebra, Test\n",
    "\n",
    "struct PermutationMatrix <: AbstractMatrix{Int}\n",
    "    p::Vector{Int} # represents the permutation whose action is v[p]\n",
    "    function PermutationMatrix(p::Vector)\n",
    "        sort(p) == 1:length(p) || error(\"input is not a valid permutation\")\n",
    "        new(p)\n",
    "    end\n",
    "end\n",
    "\n",
    "function size(P::PermutationMatrix)\n",
    "    (length(P.p),length(P.p))\n",
    "end\n",
    "function getindex(P::PermutationMatrix, k::Int, j::Int)\n",
    "    # P.p[k] == j ? 1 : 0 \n",
    "    if P.p[k] == j\n",
    "        1\n",
    "    else \n",
    "        0\n",
    "    end\n",
    "end\n",
    "function *(P::PermutationMatrix, x::AbstractVector)\n",
    "    x[P.p]\n",
    "end\n",
    "\n",
    "# If your code is correct, this \"unit test\" will succeed\n",
    "p = [1, 4, 2, 5, 3]\n",
    "P = PermutationMatrix(p)\n",
    "@test P == I(5)[p,:]"
   ]
  },
  {
   "cell_type": "markdown",
   "metadata": {},
   "source": [
    "The following codes show that `*` takes $O(n)$ of both time and space."
   ]
  },
  {
   "cell_type": "code",
   "execution_count": 24,
   "metadata": {
    "execution": {
     "iopub.execute_input": "2022-03-02T10:36:58.831091Z",
     "iopub.status.busy": "2022-03-02T10:36:58.830543Z",
     "iopub.status.idle": "2022-03-02T10:37:47.920378Z",
     "shell.execute_reply": "2022-03-02T10:37:47.919408Z"
    }
   },
   "outputs": [
    {
     "name": "stdout",
     "output_type": "stream",
     "text": [
      "n = 10  62.214 ns (1 allocation: 144 bytes)\n",
      "n = 100  136.891 ns (1 allocation: 896 bytes)\n",
      "n = 1000  930.067 ns (1 allocation: 7.94 KiB)\n",
      "n = 10000  9.787 μs (2 allocations: 78.17 KiB)\n",
      "n = 100000  165.042 μs (2 allocations: 781.30 KiB)\n",
      "n = 1000000  4.973 ms (2 allocations: 7.63 MiB)\n",
      "n = 10000000  96.246 ms (2 allocations: 76.29 MiB)\n"
     ]
    }
   ],
   "source": [
    "using BenchmarkTools, Random\n",
    "x=0 # for some reason, an error \"UndefVarError: x not defined\" will occur without this line. p and P are previously defined so they work fine.\n",
    "for n = 10 .^ (1:7)\n",
    "    print(\"n = \", n)\n",
    "    p = randperm(n)\n",
    "    P = PermutationMatrix(p)\n",
    "    x = randn(n)\n",
    "    @btime P*x\n",
    "end"
   ]
  },
  {
   "cell_type": "markdown",
   "metadata": {},
   "source": [
    "## 5. Orthogonal matrices\n",
    "\n",
    "**Problem 5.1⋆ (C)** Show that orthogonal matrices preserve the 2-norm of vectors:\n",
    "$$\n",
    "\\|Q 𝐯\\| = \\|𝐯\\|.\n",
    "$$\n",
    "\n",
    "**SOLUTION**\n",
    "$$\n",
    "\\|Q 𝐯\\|^2 = (Q 𝐯)^⊤ Q 𝐯 = 𝐯^⊤ Q^⊤ Q 𝐯 = 𝐯^⊤  𝐯 = \\|𝐯\\|^2\n",
    "$$\n",
    "∎\n",
    "\n",
    "**Problem 5.2⋆ (B)** Show that the eigenvalues $λ$ of an orthogonal matrix $Q$ are\n",
    "on the unit circle: $|λ| = 1$.\n",
    "\n",
    "**SOLUTION**\n",
    "Let $𝐯$ be a unit eigenvector corresponding to $λ$: $Q 𝐯 = λ 𝐯$ with $\\|𝐯\\| = 1$. Then\n",
    "$$\n",
    "1 = \\| 𝐯 \\| = \\|Q 𝐯 \\| =  \\| λ 𝐯 \\| = |λ|.\n",
    "$$\n",
    "∎\n",
    "\n",
    "**Problem 5.3⋆ (A)** Explain why an orthogonal matrix $Q$ must be equal to $I$ if all its eigenvalues are 1.\n",
    "\n",
    "**SOLUTION**\n",
    "\n",
    "Note that $Q$ is normal ($Q^⊤ Q = I$) and therefore by the spectral theorem for \n",
    "normal matrices we have\n",
    "$$\n",
    "Q = Q̃ Λ Q̃^⋆ = Q̃ Q̃^⋆ = I\n",
    "$$\n",
    "since $Q̃$ is unitary. \n",
    "\n",
    "**Problem 5.4 (B)** Complete the implementation of a type representing\n",
    "reflections that supports `Q[k,j]` and such that `*` takes $O(n)$ operations."
   ]
  },
  {
   "cell_type": "code",
   "execution_count": 25,
   "metadata": {
    "execution": {
     "iopub.execute_input": "2022-03-02T10:37:47.923227Z",
     "iopub.status.busy": "2022-03-02T10:37:47.922680Z",
     "iopub.status.idle": "2022-03-02T10:37:49.251329Z",
     "shell.execute_reply": "2022-03-02T10:37:49.250880Z"
    }
   },
   "outputs": [
    {
     "data": {
      "text/plain": [
       "\u001b[32m\u001b[1mTest Passed\u001b[22m\u001b[39m\n",
       "  Expression: Q' * Q ≈ I\n",
       "   Evaluated: [0.9999999999999998 0.0 … 2.7755575615628914e-17 -2.7755575615628914e-17; 0.0 0.9999999999999998 … -2.7755575615628914e-17 5.551115123125783e-17; … ; 2.7755575615628914e-17 -2.7755575615628914e-17 … 1.0 0.0; -2.7755575615628914e-17 5.551115123125783e-17 … 0.0 0.9999999999999998] ≈ UniformScaling{Bool}(true)"
      ]
     },
     "execution_count": 25,
     "metadata": {},
     "output_type": "execute_result"
    }
   ],
   "source": [
    "using LinearAlgebra, Test\n",
    "\n",
    "# Represents I - 2v*v'\n",
    "struct Reflection{T} <: AbstractMatrix{T}\n",
    "    v::Vector{T}\n",
    "end\n",
    "\n",
    "Reflection(x::Vector{T}) where T = Reflection{T}(x/norm(x))\n",
    "\n",
    "function size(Q::Reflection)\n",
    "    (length(Q.v),length(Q.v))\n",
    "end\n",
    "function getindex(Q::Reflection, k::Int, j::Int)\n",
    "    (k == j) - 2Q.v[k]*Q.v[j] # note true is treated like 1 and false like 0\n",
    "end\n",
    "function *(Q::Reflection, x::AbstractVector)\n",
    "    x - 2*Q.v * dot(Q.v,x) # (Q.v'*x) also works instead of dot\n",
    "end\n",
    "\n",
    "# If your code is correct, these \"unit tests\" will succeed\n",
    "x = randn(5)\n",
    "Q = Reflection(x)\n",
    "v = x/norm(x)\n",
    "@test Q == I-2v*v'\n",
    "@test Q*v ≈ -v\n",
    "@test Q'Q ≈ I"
   ]
  },
  {
   "cell_type": "markdown",
   "metadata": {},
   "source": [
    "The following codes show that `*` takes $O(n)$ of both time and space."
   ]
  },
  {
   "cell_type": "code",
   "execution_count": 26,
   "metadata": {
    "execution": {
     "iopub.execute_input": "2022-03-02T10:37:49.253374Z",
     "iopub.status.busy": "2022-03-02T10:37:49.252860Z",
     "iopub.status.idle": "2022-03-02T10:38:40.437487Z",
     "shell.execute_reply": "2022-03-02T10:38:40.437041Z"
    }
   },
   "outputs": [
    {
     "name": "stdout",
     "output_type": "stream",
     "text": [
      "n = 10  251.238 ns (6 allocations: 480 bytes)\n",
      "n = 100  328.023 ns (6 allocations: 2.67 KiB)\n",
      "n = 1000  2.079 μs (6 allocations: 23.86 KiB)\n",
      "n = 10000  17.285 μs (9 allocations: 234.56 KiB)\n",
      "n = 100000  210.256 μs (9 allocations: 2.29 MiB)\n",
      "n = 1000000  3.811 ms (9 allocations: 22.89 MiB)\n",
      "n = 10000000  42.649 ms (9 allocations: 228.88 MiB)\n"
     ]
    }
   ],
   "source": [
    "using BenchmarkTools, Random\n",
    "for n = 10 .^ (1:7)\n",
    "    print(\"n = \", n)\n",
    "    x = randn(n)\n",
    "    Q = Reflection(x)\n",
    "    v = randn(n)\n",
    "    @btime Q*v\n",
    "end"
   ]
  },
  {
   "cell_type": "markdown",
   "metadata": {},
   "source": [
    "**Problem 5.5 (C)** Complete the following implementation of a Housholder reflection  so that the\n",
    "unit tests pass."
   ]
  },
  {
   "cell_type": "code",
   "execution_count": 27,
   "metadata": {
    "execution": {
     "iopub.execute_input": "2022-03-02T10:38:40.440510Z",
     "iopub.status.busy": "2022-03-02T10:38:40.439857Z",
     "iopub.status.idle": "2022-03-02T10:38:40.743017Z",
     "shell.execute_reply": "2022-03-02T10:38:40.742632Z"
    }
   },
   "outputs": [
    {
     "data": {
      "text/plain": [
       "\u001b[32m\u001b[1mTest Passed\u001b[22m\u001b[39m\n",
       "  Expression: Q * x ≈ [-(norm(x)); zeros(eltype(x), length(x) - 1)]\n",
       "   Evaluated: [-1.7460135217046133, -1.1102230246251565e-16, 2.220446049250313e-16, -1.1102230246251565e-16, 5.551115123125783e-17] ≈ [-1.746013521704613, 0.0, 0.0, 0.0, 0.0]"
      ]
     },
     "execution_count": 27,
     "metadata": {},
     "output_type": "execute_result"
    }
   ],
   "source": [
    "function householderreflection(s::Bool, x::AbstractVector)\n",
    "    y = copy(x) # don't modify `x`\n",
    "    if s\n",
    "        y[1] -= norm(x)\n",
    "    else\n",
    "        y[1] += norm(x)\n",
    "    end\n",
    "    Reflection(y)\n",
    "end\n",
    "\n",
    "x = randn(5)\n",
    "Q = householderreflection(true, x)\n",
    "@test Q isa Reflection\n",
    "@test Q*x ≈ [norm(x);zeros(eltype(x),length(x)-1)]\n",
    "\n",
    "Q = householderreflection(false, x)\n",
    "@test Q isa Reflection\n",
    "@test Q*x ≈ [-norm(x);zeros(eltype(x),length(x)-1)]"
   ]
  },
  {
   "cell_type": "markdown",
   "metadata": {},
   "source": [
    "**Problem 5.6⋆ (A)** Consider a Householder reflection with $𝐱 = [1,h]$\n",
    "with $h = 2^{-n}$. What is the floating point error in\n",
    "computing $𝐲 = ∓ \\|𝐱\\| 𝐞_1 + 𝐱$ for each choice of sign.\n",
    "\n",
    "**SOLUTION**\n",
    "\n",
    "Since $\\|𝐱\\|=\\sqrt{1+h^2}$, we have $𝐲=[1∓\\sqrt{1+h^2},h]$. We note first that $h^{fp}$ and $(h^2)^{fp}$ are exact due to the choice of $h$, so we only need to discuss the floating error in computing $1\\mp\\sqrt{1+h^2}$.\n",
    "\n",
    "Numerically, let the length of the significand be $S$, then\n",
    "$$\n",
    "1\\oplus h^2=\n",
    "\\begin{cases}\n",
    "1+h^2 & n\\le S/2 \\\\\n",
    "1 & n>S/2\n",
    "\\end{cases}\n",
    "=1+h^2+\\delta_1\n",
    "$$\n",
    "where $|\\delta_1|\\le \\frac{\\epsilon_m}{2}$.\n",
    "\n",
    "$+$ PLUS $+$\n",
    "\n",
    "Since $\\sqrt{1\\oplus h^2}^{fp}>0$, we know that\n",
    "$$\\begin{split}\n",
    "1\\oplus\\sqrt{1\\oplus h^2}^{fp}=&(1+\\delta_2)(1+\\sqrt{1\\oplus h^2}^{fp})\\\\\n",
    "=&(1+\\delta_2)(1+\\sqrt{1+h^2+\\delta_1}(1+\\delta_3))\n",
    "\\end{split}$$\n",
    "where $|\\delta_2|,|\\delta_3|\\le \\frac{\\epsilon_m}{2}$. Then\n",
    "$$\\begin{split}\n",
    "\\frac{1\\oplus\\sqrt{1\\oplus h^2}^{fp}}{1+\\sqrt{1+h^2}}=&(1+\\delta_2)\\left(1+\\frac{\\sqrt{1+h^2+\\delta_1}(1+\\delta_3)-\\sqrt{1+h^2}}{1+\\sqrt{1+h^2}}\\right)\\\\\n",
    "=&(1+\\delta_2)\\left(1+\\frac{(1+\\delta_3)(\\sqrt{1+h^2+\\delta_1}-\\sqrt{1+h^2})+\\delta_3\\sqrt{1+h^2}}{1+\\sqrt{1+h^2}}\\right)\\\\\n",
    "\\approx &(1+\\delta_2)\\left(1+\\frac{\\delta_1}{2(1+\\sqrt{1+h^2})\\sqrt{1+h^2}}+\\delta_3\\frac{\\sqrt{1+h^2}}{1+\\sqrt{1+h^2}}\\right)\n",
    "\\end{split}$$\n",
    "and we can bound the relative error by\n",
    "$$|\\delta_2|+|\\delta_1|\\frac{1}{2(1+\\sqrt{1+h^2})\\sqrt{1+h^2}}+|\\delta_3|\\frac{\\sqrt{1+h^2}}{1+\\sqrt{1+h^2}}\\le |\\delta_2|+\\frac{|\\delta_1|}{4}+\\frac{3|\\delta_3|}{4}\\le \\epsilon_m.$$\n",
    "\n",
    "In conclusion, it's very accurate to compute $1+\\sqrt{1+h^2}$. Let us verify this:"
   ]
  },
  {
   "cell_type": "code",
   "execution_count": 28,
   "metadata": {
    "execution": {
     "iopub.execute_input": "2022-03-02T10:38:40.746087Z",
     "iopub.status.busy": "2022-03-02T10:38:40.745546Z",
     "iopub.status.idle": "2022-03-02T10:38:47.934901Z",
     "shell.execute_reply": "2022-03-02T10:38:47.934365Z"
    }
   },
   "outputs": [
    {
     "name": "stdout",
     "output_type": "stream",
     "text": [
      "2.220446049250313e-16\n"
     ]
    },
    {
     "data": {
      "text/plain": [
       "1.137500569478947e-16"
      ]
     },
     "execution_count": 28,
     "metadata": {},
     "output_type": "execute_result"
    }
   ],
   "source": [
    "using Plots\n",
    "S = precision(Float64)-1;\n",
    "relative_error = zeros(S)\n",
    "for n = 1:S\n",
    "    h = 2.0^(-n)\n",
    "    exact = 1+sqrt(1+BigFloat(h)^2)\n",
    "    numerical = 1+sqrt(1+h^2)\n",
    "    relative_error[n] = abs(numerical-exact)/exact\n",
    "end\n",
    "println(eps())\n",
    "maximum(relative_error)"
   ]
  },
  {
   "cell_type": "markdown",
   "metadata": {},
   "source": [
    "$-$ MINUS $-$\n",
    "\n",
    "If $n>S/2$, then $1\\ominus\\sqrt{1\\oplus h^2}^{fp}=1\\ominus\\sqrt{1}^{fp}=1\\ominus 1=0$ so the relative error is 100%.\n",
    "\n",
    "If $n\\le S/2$ but not too small, $1\\oplus h^2$ is exactly $1+h^2$ but $\\sqrt{1+h^2}^{fp}$ can have rounding error. Expand $\\sqrt{1+h^2}$ into Taylor series:\n",
    "$$\\sqrt{1+h^2}=1+\\frac{1}{2}h^2-\\frac{1}{8}h^4+\\frac{1}{16}h^6-O(h^8)=1+2^{-2n-1}-2^{-4n-3}+2^{-6n-4}-O(2^{-8n})$$\n",
    "so\n",
    "$$\\sqrt{1+h^2}^{fp}=\n",
    "\\begin{cases}\n",
    "1 & n=S/2\\\\\n",
    "1+\\frac{1}{2}h^2 & \\frac{S-3}{4}\\le n<S/2\\\\\n",
    "1+\\frac{1}{2}h^2-\\frac{1}{8}h^4 & \\frac{S-4}{6}\\le n<\\frac{S-3}{4}\\\\\n",
    "\\vdots & \\vdots\n",
    "\\end{cases}$$\n",
    "where we can conclude that the absolute error is approximately $\\frac{1}{2}h^2,\\frac{1}{8}h^4,\\frac{1}{16}h^6,\\dots$ for each stage when $h$ is small. Keeping in mind that $1-\\sqrt{1+h^2}\\approx -\\frac{1}{2}h^2$ when $h$ is small, the relative error is approximately $1, \\frac{1}{4}h^2,\\frac{1}{8}h^4,\\dots$ for each stage. Special note: the relative error is exactly 1 in the first stage when $n=S/2$.\n",
    "\n",
    "If $n$ is so small that $\\sqrt{1+h^2}$ is noticably larger than 1, the absolute error can be bounded by $\\frac{\\epsilon_m}{2}$ so the relative error is bounded by $\\frac{\\epsilon_m}{2(\\sqrt{1+h^2}-1)}\\approx \\frac{\\epsilon_m}{h^2}$.\n",
    "\n",
    "Let us verify these conclusions:"
   ]
  },
  {
   "cell_type": "code",
   "execution_count": 29,
   "metadata": {
    "execution": {
     "iopub.execute_input": "2022-03-02T10:38:49.023066Z",
     "iopub.status.busy": "2022-03-02T10:38:47.936525Z",
     "iopub.status.idle": "2022-03-02T10:38:58.128063Z",
     "shell.execute_reply": "2022-03-02T10:38:58.127548Z"
    }
   },
   "outputs": [
    {
     "data": {
      "image/svg+xml": [
       "<?xml version=\"1.0\" encoding=\"utf-8\"?>\n",
       "<svg xmlns=\"http://www.w3.org/2000/svg\" xmlns:xlink=\"http://www.w3.org/1999/xlink\" width=\"600\" height=\"400\" viewBox=\"0 0 2400 1600\">\n",
       "<defs>\n",
       "  <clipPath id=\"clip390\">\n",
       "    <rect x=\"0\" y=\"0\" width=\"2400\" height=\"1600\"/>\n",
       "  </clipPath>\n",
       "</defs>\n",
       "<path clip-path=\"url(#clip390)\" d=\"\n",
       "M0 1600 L2400 1600 L2400 0 L0 0  Z\n",
       "  \" fill=\"#ffffff\" fill-rule=\"evenodd\" fill-opacity=\"1\"/>\n",
       "<defs>\n",
       "  <clipPath id=\"clip391\">\n",
       "    <rect x=\"480\" y=\"0\" width=\"1681\" height=\"1600\"/>\n",
       "  </clipPath>\n",
       "</defs>\n",
       "<path clip-path=\"url(#clip390)\" d=\"\n",
       "M242.135 1423.18 L2352.76 1423.18 L2352.76 47.2441 L242.135 47.2441  Z\n",
       "  \" fill=\"#ffffff\" fill-rule=\"evenodd\" fill-opacity=\"1\"/>\n",
       "<defs>\n",
       "  <clipPath id=\"clip392\">\n",
       "    <rect x=\"242\" y=\"47\" width=\"2112\" height=\"1377\"/>\n",
       "  </clipPath>\n",
       "</defs>\n",
       "<polyline clip-path=\"url(#clip392)\" style=\"stroke:#000000; stroke-linecap:butt; stroke-linejoin:round; stroke-width:2; stroke-opacity:0.1; fill:none\" points=\"\n",
       "  262.827,1423.18 262.827,47.2441 \n",
       "  \"/>\n",
       "<polyline clip-path=\"url(#clip392)\" style=\"stroke:#000000; stroke-linecap:butt; stroke-linejoin:round; stroke-width:2; stroke-opacity:0.1; fill:none\" points=\"\n",
       "  653.249,1423.18 653.249,47.2441 \n",
       "  \"/>\n",
       "<polyline clip-path=\"url(#clip392)\" style=\"stroke:#000000; stroke-linecap:butt; stroke-linejoin:round; stroke-width:2; stroke-opacity:0.1; fill:none\" points=\"\n",
       "  1043.67,1423.18 1043.67,47.2441 \n",
       "  \"/>\n",
       "<polyline clip-path=\"url(#clip392)\" style=\"stroke:#000000; stroke-linecap:butt; stroke-linejoin:round; stroke-width:2; stroke-opacity:0.1; fill:none\" points=\"\n",
       "  1434.09,1423.18 1434.09,47.2441 \n",
       "  \"/>\n",
       "<polyline clip-path=\"url(#clip392)\" style=\"stroke:#000000; stroke-linecap:butt; stroke-linejoin:round; stroke-width:2; stroke-opacity:0.1; fill:none\" points=\"\n",
       "  1824.51,1423.18 1824.51,47.2441 \n",
       "  \"/>\n",
       "<polyline clip-path=\"url(#clip392)\" style=\"stroke:#000000; stroke-linecap:butt; stroke-linejoin:round; stroke-width:2; stroke-opacity:0.1; fill:none\" points=\"\n",
       "  2214.94,1423.18 2214.94,47.2441 \n",
       "  \"/>\n",
       "<polyline clip-path=\"url(#clip390)\" style=\"stroke:#000000; stroke-linecap:butt; stroke-linejoin:round; stroke-width:4; stroke-opacity:1; fill:none\" points=\"\n",
       "  242.135,1423.18 2352.76,1423.18 \n",
       "  \"/>\n",
       "<polyline clip-path=\"url(#clip390)\" style=\"stroke:#000000; stroke-linecap:butt; stroke-linejoin:round; stroke-width:4; stroke-opacity:1; fill:none\" points=\"\n",
       "  262.827,1423.18 262.827,1404.28 \n",
       "  \"/>\n",
       "<polyline clip-path=\"url(#clip390)\" style=\"stroke:#000000; stroke-linecap:butt; stroke-linejoin:round; stroke-width:4; stroke-opacity:1; fill:none\" points=\"\n",
       "  653.249,1423.18 653.249,1404.28 \n",
       "  \"/>\n",
       "<polyline clip-path=\"url(#clip390)\" style=\"stroke:#000000; stroke-linecap:butt; stroke-linejoin:round; stroke-width:4; stroke-opacity:1; fill:none\" points=\"\n",
       "  1043.67,1423.18 1043.67,1404.28 \n",
       "  \"/>\n",
       "<polyline clip-path=\"url(#clip390)\" style=\"stroke:#000000; stroke-linecap:butt; stroke-linejoin:round; stroke-width:4; stroke-opacity:1; fill:none\" points=\"\n",
       "  1434.09,1423.18 1434.09,1404.28 \n",
       "  \"/>\n",
       "<polyline clip-path=\"url(#clip390)\" style=\"stroke:#000000; stroke-linecap:butt; stroke-linejoin:round; stroke-width:4; stroke-opacity:1; fill:none\" points=\"\n",
       "  1824.51,1423.18 1824.51,1404.28 \n",
       "  \"/>\n",
       "<polyline clip-path=\"url(#clip390)\" style=\"stroke:#000000; stroke-linecap:butt; stroke-linejoin:round; stroke-width:4; stroke-opacity:1; fill:none\" points=\"\n",
       "  2214.94,1423.18 2214.94,1404.28 \n",
       "  \"/>\n",
       "<path clip-path=\"url(#clip390)\" d=\"M262.827 1454.1 Q259.216 1454.1 257.387 1457.66 Q255.582 1461.2 255.582 1468.33 Q255.582 1475.44 257.387 1479.01 Q259.216 1482.55 262.827 1482.55 Q266.461 1482.55 268.267 1479.01 Q270.096 1475.44 270.096 1468.33 Q270.096 1461.2 268.267 1457.66 Q266.461 1454.1 262.827 1454.1 M262.827 1450.39 Q268.637 1450.39 271.693 1455 Q274.771 1459.58 274.771 1468.33 Q274.771 1477.06 271.693 1481.67 Q268.637 1486.25 262.827 1486.25 Q257.017 1486.25 253.938 1481.67 Q250.883 1477.06 250.883 1468.33 Q250.883 1459.58 253.938 1455 Q257.017 1450.39 262.827 1450.39 Z\" fill=\"#000000\" fill-rule=\"evenodd\" fill-opacity=\"1\" /><path clip-path=\"url(#clip390)\" d=\"M627.937 1481.64 L635.575 1481.64 L635.575 1455.28 L627.265 1456.95 L627.265 1452.69 L635.529 1451.02 L640.205 1451.02 L640.205 1481.64 L647.844 1481.64 L647.844 1485.58 L627.937 1485.58 L627.937 1481.64 Z\" fill=\"#000000\" fill-rule=\"evenodd\" fill-opacity=\"1\" /><path clip-path=\"url(#clip390)\" d=\"M667.288 1454.1 Q663.677 1454.1 661.849 1457.66 Q660.043 1461.2 660.043 1468.33 Q660.043 1475.44 661.849 1479.01 Q663.677 1482.55 667.288 1482.55 Q670.923 1482.55 672.728 1479.01 Q674.557 1475.44 674.557 1468.33 Q674.557 1461.2 672.728 1457.66 Q670.923 1454.1 667.288 1454.1 M667.288 1450.39 Q673.098 1450.39 676.154 1455 Q679.233 1459.58 679.233 1468.33 Q679.233 1477.06 676.154 1481.67 Q673.098 1486.25 667.288 1486.25 Q661.478 1486.25 658.399 1481.67 Q655.344 1477.06 655.344 1468.33 Q655.344 1459.58 658.399 1455 Q661.478 1450.39 667.288 1450.39 Z\" fill=\"#000000\" fill-rule=\"evenodd\" fill-opacity=\"1\" /><path clip-path=\"url(#clip390)\" d=\"M1022.44 1481.64 L1038.76 1481.64 L1038.76 1485.58 L1016.82 1485.58 L1016.82 1481.64 Q1019.48 1478.89 1024.06 1474.26 Q1028.67 1469.61 1029.85 1468.27 Q1032.1 1465.74 1032.98 1464.01 Q1033.88 1462.25 1033.88 1460.56 Q1033.88 1457.8 1031.93 1456.07 Q1030.01 1454.33 1026.91 1454.33 Q1024.71 1454.33 1022.26 1455.09 Q1019.83 1455.86 1017.05 1457.41 L1017.05 1452.69 Q1019.87 1451.55 1022.33 1450.97 Q1024.78 1450.39 1026.82 1450.39 Q1032.19 1450.39 1035.38 1453.08 Q1038.58 1455.77 1038.58 1460.26 Q1038.58 1462.39 1037.77 1464.31 Q1036.98 1466.2 1034.87 1468.8 Q1034.3 1469.47 1031.19 1472.69 Q1028.09 1475.88 1022.44 1481.64 Z\" fill=\"#000000\" fill-rule=\"evenodd\" fill-opacity=\"1\" /><path clip-path=\"url(#clip390)\" d=\"M1058.58 1454.1 Q1054.97 1454.1 1053.14 1457.66 Q1051.33 1461.2 1051.33 1468.33 Q1051.33 1475.44 1053.14 1479.01 Q1054.97 1482.55 1058.58 1482.55 Q1062.21 1482.55 1064.02 1479.01 Q1065.85 1475.44 1065.85 1468.33 Q1065.85 1461.2 1064.02 1457.66 Q1062.21 1454.1 1058.58 1454.1 M1058.58 1450.39 Q1064.39 1450.39 1067.44 1455 Q1070.52 1459.58 1070.52 1468.33 Q1070.52 1477.06 1067.44 1481.67 Q1064.39 1486.25 1058.58 1486.25 Q1052.77 1486.25 1049.69 1481.67 Q1046.63 1477.06 1046.63 1468.33 Q1046.63 1459.58 1049.69 1455 Q1052.77 1450.39 1058.58 1450.39 Z\" fill=\"#000000\" fill-rule=\"evenodd\" fill-opacity=\"1\" /><path clip-path=\"url(#clip390)\" d=\"M1422.94 1466.95 Q1426.29 1467.66 1428.17 1469.93 Q1430.07 1472.2 1430.07 1475.53 Q1430.07 1480.65 1426.55 1483.45 Q1423.03 1486.25 1416.55 1486.25 Q1414.37 1486.25 1412.06 1485.81 Q1409.76 1485.39 1407.31 1484.54 L1407.31 1480.02 Q1409.26 1481.16 1411.57 1481.74 Q1413.88 1482.32 1416.41 1482.32 Q1420.81 1482.32 1423.1 1480.58 Q1425.41 1478.84 1425.41 1475.53 Q1425.41 1472.48 1423.26 1470.77 Q1421.13 1469.03 1417.31 1469.03 L1413.28 1469.03 L1413.28 1465.19 L1417.5 1465.19 Q1420.94 1465.19 1422.77 1463.82 Q1424.6 1462.43 1424.6 1459.84 Q1424.6 1457.18 1422.7 1455.77 Q1420.83 1454.33 1417.31 1454.33 Q1415.39 1454.33 1413.19 1454.75 Q1410.99 1455.16 1408.35 1456.04 L1408.35 1451.88 Q1411.01 1451.14 1413.33 1450.77 Q1415.67 1450.39 1417.73 1450.39 Q1423.05 1450.39 1426.15 1452.83 Q1429.26 1455.23 1429.26 1459.35 Q1429.26 1462.22 1427.61 1464.21 Q1425.97 1466.18 1422.94 1466.95 Z\" fill=\"#000000\" fill-rule=\"evenodd\" fill-opacity=\"1\" /><path clip-path=\"url(#clip390)\" d=\"M1448.93 1454.1 Q1445.32 1454.1 1443.49 1457.66 Q1441.69 1461.2 1441.69 1468.33 Q1441.69 1475.44 1443.49 1479.01 Q1445.32 1482.55 1448.93 1482.55 Q1452.57 1482.55 1454.37 1479.01 Q1456.2 1475.44 1456.2 1468.33 Q1456.2 1461.2 1454.37 1457.66 Q1452.57 1454.1 1448.93 1454.1 M1448.93 1450.39 Q1454.74 1450.39 1457.8 1455 Q1460.88 1459.58 1460.88 1468.33 Q1460.88 1477.06 1457.8 1481.67 Q1454.74 1486.25 1448.93 1486.25 Q1443.12 1486.25 1440.04 1481.67 Q1436.99 1477.06 1436.99 1468.33 Q1436.99 1459.58 1440.04 1455 Q1443.12 1450.39 1448.93 1450.39 Z\" fill=\"#000000\" fill-rule=\"evenodd\" fill-opacity=\"1\" /><path clip-path=\"url(#clip390)\" d=\"M1812.69 1455.09 L1800.88 1473.54 L1812.69 1473.54 L1812.69 1455.09 M1811.46 1451.02 L1817.34 1451.02 L1817.34 1473.54 L1822.27 1473.54 L1822.27 1477.43 L1817.34 1477.43 L1817.34 1485.58 L1812.69 1485.58 L1812.69 1477.43 L1797.08 1477.43 L1797.08 1472.92 L1811.46 1451.02 Z\" fill=\"#000000\" fill-rule=\"evenodd\" fill-opacity=\"1\" /><path clip-path=\"url(#clip390)\" d=\"M1840 1454.1 Q1836.39 1454.1 1834.56 1457.66 Q1832.76 1461.2 1832.76 1468.33 Q1832.76 1475.44 1834.56 1479.01 Q1836.39 1482.55 1840 1482.55 Q1843.64 1482.55 1845.44 1479.01 Q1847.27 1475.44 1847.27 1468.33 Q1847.27 1461.2 1845.44 1457.66 Q1843.64 1454.1 1840 1454.1 M1840 1450.39 Q1845.81 1450.39 1848.87 1455 Q1851.95 1459.58 1851.95 1468.33 Q1851.95 1477.06 1848.87 1481.67 Q1845.81 1486.25 1840 1486.25 Q1834.19 1486.25 1831.11 1481.67 Q1828.06 1477.06 1828.06 1468.33 Q1828.06 1459.58 1831.11 1455 Q1834.19 1450.39 1840 1450.39 Z\" fill=\"#000000\" fill-rule=\"evenodd\" fill-opacity=\"1\" /><path clip-path=\"url(#clip390)\" d=\"M2189.64 1451.02 L2207.99 1451.02 L2207.99 1454.96 L2193.92 1454.96 L2193.92 1463.43 Q2194.94 1463.08 2195.96 1462.92 Q2196.97 1462.73 2197.99 1462.73 Q2203.78 1462.73 2207.16 1465.9 Q2210.54 1469.08 2210.54 1474.49 Q2210.54 1480.07 2207.07 1483.17 Q2203.59 1486.25 2197.28 1486.25 Q2195.1 1486.25 2192.83 1485.88 Q2190.59 1485.51 2188.18 1484.77 L2188.18 1480.07 Q2190.26 1481.2 2192.48 1481.76 Q2194.71 1482.32 2197.18 1482.32 Q2201.19 1482.32 2203.52 1480.21 Q2205.86 1478.1 2205.86 1474.49 Q2205.86 1470.88 2203.52 1468.77 Q2201.19 1466.67 2197.18 1466.67 Q2195.31 1466.67 2193.43 1467.08 Q2191.58 1467.5 2189.64 1468.38 L2189.64 1451.02 Z\" fill=\"#000000\" fill-rule=\"evenodd\" fill-opacity=\"1\" /><path clip-path=\"url(#clip390)\" d=\"M2229.75 1454.1 Q2226.14 1454.1 2224.31 1457.66 Q2222.51 1461.2 2222.51 1468.33 Q2222.51 1475.44 2224.31 1479.01 Q2226.14 1482.55 2229.75 1482.55 Q2233.39 1482.55 2235.19 1479.01 Q2237.02 1475.44 2237.02 1468.33 Q2237.02 1461.2 2235.19 1457.66 Q2233.39 1454.1 2229.75 1454.1 M2229.75 1450.39 Q2235.56 1450.39 2238.62 1455 Q2241.7 1459.58 2241.7 1468.33 Q2241.7 1477.06 2238.62 1481.67 Q2235.56 1486.25 2229.75 1486.25 Q2223.94 1486.25 2220.86 1481.67 Q2217.81 1477.06 2217.81 1468.33 Q2217.81 1459.58 2220.86 1455 Q2223.94 1450.39 2229.75 1450.39 Z\" fill=\"#000000\" fill-rule=\"evenodd\" fill-opacity=\"1\" /><path clip-path=\"url(#clip390)\" d=\"M1312.37 1546.53 L1312.37 1568.04 L1306.52 1568.04 L1306.52 1546.72 Q1306.52 1541.66 1304.54 1539.14 Q1302.57 1536.63 1298.62 1536.63 Q1293.88 1536.63 1291.14 1539.65 Q1288.41 1542.68 1288.41 1547.9 L1288.41 1568.04 L1282.52 1568.04 L1282.52 1532.4 L1288.41 1532.4 L1288.41 1537.93 Q1290.51 1534.72 1293.34 1533.13 Q1296.2 1531.54 1299.93 1531.54 Q1306.07 1531.54 1309.22 1535.36 Q1312.37 1539.14 1312.37 1546.53 Z\" fill=\"#000000\" fill-rule=\"evenodd\" fill-opacity=\"1\" /><polyline clip-path=\"url(#clip392)\" style=\"stroke:#000000; stroke-linecap:butt; stroke-linejoin:round; stroke-width:2; stroke-opacity:0.1; fill:none\" points=\"\n",
       "  242.135,1334.31 2352.76,1334.31 \n",
       "  \"/>\n",
       "<polyline clip-path=\"url(#clip392)\" style=\"stroke:#000000; stroke-linecap:butt; stroke-linejoin:round; stroke-width:2; stroke-opacity:0.1; fill:none\" points=\"\n",
       "  242.135,1084.69 2352.76,1084.69 \n",
       "  \"/>\n",
       "<polyline clip-path=\"url(#clip392)\" style=\"stroke:#000000; stroke-linecap:butt; stroke-linejoin:round; stroke-width:2; stroke-opacity:0.1; fill:none\" points=\"\n",
       "  242.135,835.062 2352.76,835.062 \n",
       "  \"/>\n",
       "<polyline clip-path=\"url(#clip392)\" style=\"stroke:#000000; stroke-linecap:butt; stroke-linejoin:round; stroke-width:2; stroke-opacity:0.1; fill:none\" points=\"\n",
       "  242.135,585.437 2352.76,585.437 \n",
       "  \"/>\n",
       "<polyline clip-path=\"url(#clip392)\" style=\"stroke:#000000; stroke-linecap:butt; stroke-linejoin:round; stroke-width:2; stroke-opacity:0.1; fill:none\" points=\"\n",
       "  242.135,335.811 2352.76,335.811 \n",
       "  \"/>\n",
       "<polyline clip-path=\"url(#clip392)\" style=\"stroke:#000000; stroke-linecap:butt; stroke-linejoin:round; stroke-width:2; stroke-opacity:0.1; fill:none\" points=\"\n",
       "  242.135,86.1857 2352.76,86.1857 \n",
       "  \"/>\n",
       "<polyline clip-path=\"url(#clip390)\" style=\"stroke:#000000; stroke-linecap:butt; stroke-linejoin:round; stroke-width:4; stroke-opacity:1; fill:none\" points=\"\n",
       "  242.135,1423.18 242.135,47.2441 \n",
       "  \"/>\n",
       "<polyline clip-path=\"url(#clip390)\" style=\"stroke:#000000; stroke-linecap:butt; stroke-linejoin:round; stroke-width:4; stroke-opacity:1; fill:none\" points=\"\n",
       "  242.135,1334.31 261.032,1334.31 \n",
       "  \"/>\n",
       "<polyline clip-path=\"url(#clip390)\" style=\"stroke:#000000; stroke-linecap:butt; stroke-linejoin:round; stroke-width:4; stroke-opacity:1; fill:none\" points=\"\n",
       "  242.135,1084.69 261.032,1084.69 \n",
       "  \"/>\n",
       "<polyline clip-path=\"url(#clip390)\" style=\"stroke:#000000; stroke-linecap:butt; stroke-linejoin:round; stroke-width:4; stroke-opacity:1; fill:none\" points=\"\n",
       "  242.135,835.062 261.032,835.062 \n",
       "  \"/>\n",
       "<polyline clip-path=\"url(#clip390)\" style=\"stroke:#000000; stroke-linecap:butt; stroke-linejoin:round; stroke-width:4; stroke-opacity:1; fill:none\" points=\"\n",
       "  242.135,585.437 261.032,585.437 \n",
       "  \"/>\n",
       "<polyline clip-path=\"url(#clip390)\" style=\"stroke:#000000; stroke-linecap:butt; stroke-linejoin:round; stroke-width:4; stroke-opacity:1; fill:none\" points=\"\n",
       "  242.135,335.811 261.032,335.811 \n",
       "  \"/>\n",
       "<polyline clip-path=\"url(#clip390)\" style=\"stroke:#000000; stroke-linecap:butt; stroke-linejoin:round; stroke-width:4; stroke-opacity:1; fill:none\" points=\"\n",
       "  242.135,86.1857 261.032,86.1857 \n",
       "  \"/>\n",
       "<path clip-path=\"url(#clip390)\" d=\"M114.26 1334.76 L143.936 1334.76 L143.936 1338.7 L114.26 1338.7 L114.26 1334.76 Z\" fill=\"#000000\" fill-rule=\"evenodd\" fill-opacity=\"1\" /><path clip-path=\"url(#clip390)\" d=\"M154.075 1317.03 L172.431 1317.03 L172.431 1320.97 L158.357 1320.97 L158.357 1329.44 Q159.376 1329.09 160.394 1328.93 Q161.413 1328.75 162.431 1328.75 Q168.218 1328.75 171.598 1331.92 Q174.977 1335.09 174.977 1340.51 Q174.977 1346.08 171.505 1349.19 Q168.033 1352.26 161.714 1352.26 Q159.538 1352.26 157.269 1351.89 Q155.024 1351.52 152.616 1350.78 L152.616 1346.08 Q154.7 1347.22 156.922 1347.77 Q159.144 1348.33 161.621 1348.33 Q165.626 1348.33 167.964 1346.22 Q170.302 1344.12 170.302 1340.51 Q170.302 1336.89 167.964 1334.79 Q165.626 1332.68 161.621 1332.68 Q159.746 1332.68 157.871 1333.1 Q156.019 1333.51 154.075 1334.39 L154.075 1317.03 Z\" fill=\"#000000\" fill-rule=\"evenodd\" fill-opacity=\"1\" /><path clip-path=\"url(#clip390)\" d=\"M194.19 1320.11 Q190.579 1320.11 188.75 1323.68 Q186.945 1327.22 186.945 1334.35 Q186.945 1341.45 188.75 1345.02 Q190.579 1348.56 194.19 1348.56 Q197.825 1348.56 199.63 1345.02 Q201.459 1341.45 201.459 1334.35 Q201.459 1327.22 199.63 1323.68 Q197.825 1320.11 194.19 1320.11 M194.19 1316.41 Q200 1316.41 203.056 1321.01 Q206.135 1325.6 206.135 1334.35 Q206.135 1343.07 203.056 1347.68 Q200 1352.26 194.19 1352.26 Q188.38 1352.26 185.301 1347.68 Q182.246 1343.07 182.246 1334.35 Q182.246 1325.6 185.301 1321.01 Q188.38 1316.41 194.19 1316.41 Z\" fill=\"#000000\" fill-rule=\"evenodd\" fill-opacity=\"1\" /><path clip-path=\"url(#clip390)\" d=\"M114.26 1085.14 L143.936 1085.14 L143.936 1089.07 L114.26 1089.07 L114.26 1085.14 Z\" fill=\"#000000\" fill-rule=\"evenodd\" fill-opacity=\"1\" /><path clip-path=\"url(#clip390)\" d=\"M166.876 1071.48 L155.07 1089.93 L166.876 1089.93 L166.876 1071.48 M165.649 1067.41 L171.528 1067.41 L171.528 1089.93 L176.459 1089.93 L176.459 1093.82 L171.528 1093.82 L171.528 1101.97 L166.876 1101.97 L166.876 1093.82 L151.274 1093.82 L151.274 1089.31 L165.649 1067.41 Z\" fill=\"#000000\" fill-rule=\"evenodd\" fill-opacity=\"1\" /><path clip-path=\"url(#clip390)\" d=\"M194.19 1070.49 Q190.579 1070.49 188.75 1074.05 Q186.945 1077.59 186.945 1084.72 Q186.945 1091.83 188.75 1095.39 Q190.579 1098.94 194.19 1098.94 Q197.825 1098.94 199.63 1095.39 Q201.459 1091.83 201.459 1084.72 Q201.459 1077.59 199.63 1074.05 Q197.825 1070.49 194.19 1070.49 M194.19 1066.78 Q200 1066.78 203.056 1071.39 Q206.135 1075.97 206.135 1084.72 Q206.135 1093.45 203.056 1098.06 Q200 1102.64 194.19 1102.64 Q188.38 1102.64 185.301 1098.06 Q182.246 1093.45 182.246 1084.72 Q182.246 1075.97 185.301 1071.39 Q188.38 1066.78 194.19 1066.78 Z\" fill=\"#000000\" fill-rule=\"evenodd\" fill-opacity=\"1\" /><path clip-path=\"url(#clip390)\" d=\"M114.26 835.514 L143.936 835.514 L143.936 839.449 L114.26 839.449 L114.26 835.514 Z\" fill=\"#000000\" fill-rule=\"evenodd\" fill-opacity=\"1\" /><path clip-path=\"url(#clip390)\" d=\"M168.195 833.708 Q171.552 834.426 173.427 836.694 Q175.325 838.963 175.325 842.296 Q175.325 847.412 171.806 850.213 Q168.288 853.013 161.806 853.013 Q159.63 853.013 157.315 852.574 Q155.024 852.157 152.57 851.301 L152.57 846.787 Q154.515 847.921 156.829 848.5 Q159.144 849.078 161.667 849.078 Q166.065 849.078 168.357 847.342 Q170.672 845.606 170.672 842.296 Q170.672 839.24 168.519 837.527 Q166.39 835.791 162.57 835.791 L158.542 835.791 L158.542 831.949 L162.755 831.949 Q166.204 831.949 168.033 830.583 Q169.862 829.194 169.862 826.602 Q169.862 823.94 167.964 822.528 Q166.089 821.092 162.57 821.092 Q160.649 821.092 158.45 821.509 Q156.251 821.926 153.612 822.805 L153.612 818.639 Q156.274 817.898 158.589 817.528 Q160.927 817.157 162.987 817.157 Q168.311 817.157 171.413 819.588 Q174.514 821.995 174.514 826.115 Q174.514 828.986 172.871 830.977 Q171.227 832.944 168.195 833.708 Z\" fill=\"#000000\" fill-rule=\"evenodd\" fill-opacity=\"1\" /><path clip-path=\"url(#clip390)\" d=\"M194.19 820.861 Q190.579 820.861 188.75 824.426 Q186.945 827.967 186.945 835.097 Q186.945 842.203 188.75 845.768 Q190.579 849.31 194.19 849.31 Q197.825 849.31 199.63 845.768 Q201.459 842.203 201.459 835.097 Q201.459 827.967 199.63 824.426 Q197.825 820.861 194.19 820.861 M194.19 817.157 Q200 817.157 203.056 821.764 Q206.135 826.347 206.135 835.097 Q206.135 843.824 203.056 848.43 Q200 853.013 194.19 853.013 Q188.38 853.013 185.301 848.43 Q182.246 843.824 182.246 835.097 Q182.246 826.347 185.301 821.764 Q188.38 817.157 194.19 817.157 Z\" fill=\"#000000\" fill-rule=\"evenodd\" fill-opacity=\"1\" /><path clip-path=\"url(#clip390)\" d=\"M114.26 585.888 L143.936 585.888 L143.936 589.823 L114.26 589.823 L114.26 585.888 Z\" fill=\"#000000\" fill-rule=\"evenodd\" fill-opacity=\"1\" /><path clip-path=\"url(#clip390)\" d=\"M158.056 598.782 L174.376 598.782 L174.376 602.717 L152.431 602.717 L152.431 598.782 Q155.093 596.027 159.677 591.397 Q164.283 586.745 165.464 585.402 Q167.709 582.879 168.589 581.143 Q169.491 579.383 169.491 577.694 Q169.491 574.939 167.547 573.203 Q165.626 571.467 162.524 571.467 Q160.325 571.467 157.871 572.231 Q155.44 572.995 152.663 574.546 L152.663 569.823 Q155.487 568.689 157.94 568.11 Q160.394 567.532 162.431 567.532 Q167.802 567.532 170.996 570.217 Q174.19 572.902 174.19 577.393 Q174.19 579.522 173.38 581.444 Q172.593 583.342 170.487 585.934 Q169.908 586.606 166.806 589.823 Q163.704 593.018 158.056 598.782 Z\" fill=\"#000000\" fill-rule=\"evenodd\" fill-opacity=\"1\" /><path clip-path=\"url(#clip390)\" d=\"M194.19 571.235 Q190.579 571.235 188.75 574.8 Q186.945 578.342 186.945 585.471 Q186.945 592.578 188.75 596.143 Q190.579 599.684 194.19 599.684 Q197.825 599.684 199.63 596.143 Q201.459 592.578 201.459 585.471 Q201.459 578.342 199.63 574.8 Q197.825 571.235 194.19 571.235 M194.19 567.532 Q200 567.532 203.056 572.138 Q206.135 576.721 206.135 585.471 Q206.135 594.198 203.056 598.805 Q200 603.388 194.19 603.388 Q188.38 603.388 185.301 598.805 Q182.246 594.198 182.246 585.471 Q182.246 576.721 185.301 572.138 Q188.38 567.532 194.19 567.532 Z\" fill=\"#000000\" fill-rule=\"evenodd\" fill-opacity=\"1\" /><path clip-path=\"url(#clip390)\" d=\"M114.26 336.263 L143.936 336.263 L143.936 340.198 L114.26 340.198 L114.26 336.263 Z\" fill=\"#000000\" fill-rule=\"evenodd\" fill-opacity=\"1\" /><path clip-path=\"url(#clip390)\" d=\"M154.839 349.156 L162.477 349.156 L162.477 322.79 L154.167 324.457 L154.167 320.198 L162.431 318.531 L167.107 318.531 L167.107 349.156 L174.746 349.156 L174.746 353.091 L154.839 353.091 L154.839 349.156 Z\" fill=\"#000000\" fill-rule=\"evenodd\" fill-opacity=\"1\" /><path clip-path=\"url(#clip390)\" d=\"M194.19 321.61 Q190.579 321.61 188.75 325.175 Q186.945 328.716 186.945 335.846 Q186.945 342.952 188.75 346.517 Q190.579 350.059 194.19 350.059 Q197.825 350.059 199.63 346.517 Q201.459 342.952 201.459 335.846 Q201.459 328.716 199.63 325.175 Q197.825 321.61 194.19 321.61 M194.19 317.906 Q200 317.906 203.056 322.513 Q206.135 327.096 206.135 335.846 Q206.135 344.573 203.056 349.179 Q200 353.762 194.19 353.762 Q188.38 353.762 185.301 349.179 Q182.246 344.573 182.246 335.846 Q182.246 327.096 185.301 322.513 Q188.38 317.906 194.19 317.906 Z\" fill=\"#000000\" fill-rule=\"evenodd\" fill-opacity=\"1\" /><path clip-path=\"url(#clip390)\" d=\"M194.19 71.9844 Q190.579 71.9844 188.75 75.5492 Q186.945 79.0908 186.945 86.2204 Q186.945 93.3268 188.75 96.8916 Q190.579 100.433 194.19 100.433 Q197.825 100.433 199.63 96.8916 Q201.459 93.3268 201.459 86.2204 Q201.459 79.0908 199.63 75.5492 Q197.825 71.9844 194.19 71.9844 M194.19 68.2807 Q200 68.2807 203.056 72.8871 Q206.135 77.4704 206.135 86.2204 Q206.135 94.9472 203.056 99.5537 Q200 104.137 194.19 104.137 Q188.38 104.137 185.301 99.5537 Q182.246 94.9472 182.246 86.2204 Q182.246 77.4704 185.301 72.8871 Q188.38 68.2807 194.19 68.2807 Z\" fill=\"#000000\" fill-rule=\"evenodd\" fill-opacity=\"1\" /><path clip-path=\"url(#clip390)\" d=\"M33.8307 1026.98 Q33.2578 1027.97 33.0032 1029.15 Q32.7167 1030.29 32.7167 1031.69 Q32.7167 1036.66 35.9632 1039.33 Q39.1779 1041.98 45.2253 1041.98 L64.0042 1041.98 L64.0042 1047.86 L28.3562 1047.86 L28.3562 1041.98 L33.8944 1041.98 Q30.6479 1040.13 29.0883 1037.17 Q27.4968 1034.21 27.4968 1029.98 Q27.4968 1029.37 27.5923 1028.64 Q27.656 1027.91 27.8151 1027.02 L33.8307 1026.98 Z\" fill=\"#000000\" fill-rule=\"evenodd\" fill-opacity=\"1\" /><path clip-path=\"url(#clip390)\" d=\"M44.7161 991.782 L47.5806 991.782 L47.5806 1018.71 Q53.6281 1018.33 56.8109 1015.08 Q59.9619 1011.8 59.9619 1005.98 Q59.9619 1002.6 59.1344 999.452 Q58.3069 996.27 56.6518 993.15 L62.1899 993.15 Q63.5267 996.301 64.227 999.612 Q64.9272 1002.92 64.9272 1006.33 Q64.9272 1014.86 59.9619 1019.85 Q54.9967 1024.82 46.5303 1024.82 Q37.7774 1024.82 32.6531 1020.11 Q27.4968 1015.37 27.4968 1007.35 Q27.4968 1000.15 32.1438 995.983 Q36.7589 991.782 44.7161 991.782 M42.9973 997.638 Q38.1912 997.702 35.3266 1000.34 Q32.4621 1002.95 32.4621 1007.28 Q32.4621 1012.18 35.2312 1015.14 Q38.0002 1018.07 43.0292 1018.52 L42.9973 997.638 Z\" fill=\"#000000\" fill-rule=\"evenodd\" fill-opacity=\"1\" /><path clip-path=\"url(#clip390)\" d=\"M14.479 982.17 L14.479 976.313 L64.0042 976.313 L64.0042 982.17 L14.479 982.17 Z\" fill=\"#000000\" fill-rule=\"evenodd\" fill-opacity=\"1\" /><path clip-path=\"url(#clip390)\" d=\"M46.0847 947.858 Q46.0847 954.956 47.7079 957.693 Q49.3312 960.431 53.2461 960.431 Q56.3653 960.431 58.2114 958.394 Q60.0256 956.325 60.0256 952.792 Q60.0256 947.922 56.5881 944.994 Q53.1188 942.034 47.3897 942.034 L46.0847 942.034 L46.0847 947.858 M43.6657 936.177 L64.0042 936.177 L64.0042 942.034 L58.5933 942.034 Q61.8398 944.039 63.3994 947.031 Q64.9272 950.023 64.9272 954.351 Q64.9272 959.826 61.8716 963.072 Q58.7843 966.287 53.6281 966.287 Q47.6125 966.287 44.5569 962.277 Q41.5014 958.235 41.5014 950.246 L41.5014 942.034 L40.9285 942.034 Q36.8862 942.034 34.6901 944.707 Q32.4621 947.349 32.4621 952.155 Q32.4621 955.211 33.1941 958.107 Q33.9262 961.004 35.3903 963.677 L29.9795 963.677 Q28.7381 960.462 28.1334 957.439 Q27.4968 954.415 27.4968 951.551 Q27.4968 943.816 31.5072 939.997 Q35.5176 936.177 43.6657 936.177 Z\" fill=\"#000000\" fill-rule=\"evenodd\" fill-opacity=\"1\" /><path clip-path=\"url(#clip390)\" d=\"M18.2347 918.322 L28.3562 918.322 L28.3562 906.259 L32.9077 906.259 L32.9077 918.322 L52.2594 918.322 Q56.6199 918.322 57.8613 917.144 Q59.1026 915.934 59.1026 912.274 L59.1026 906.259 L64.0042 906.259 L64.0042 912.274 Q64.0042 919.054 61.4897 921.632 Q58.9434 924.21 52.2594 924.21 L32.9077 924.21 L32.9077 928.507 L28.3562 928.507 L28.3562 924.21 L18.2347 924.21 L18.2347 918.322 Z\" fill=\"#000000\" fill-rule=\"evenodd\" fill-opacity=\"1\" /><path clip-path=\"url(#clip390)\" d=\"M28.3562 898.556 L28.3562 892.7 L64.0042 892.7 L64.0042 898.556 L28.3562 898.556 M14.479 898.556 L14.479 892.7 L21.895 892.7 L21.895 898.556 L14.479 898.556 Z\" fill=\"#000000\" fill-rule=\"evenodd\" fill-opacity=\"1\" /><path clip-path=\"url(#clip390)\" d=\"M28.3562 884.647 L28.3562 878.44 L58.275 867.3 L28.3562 856.16 L28.3562 849.954 L64.0042 863.322 L64.0042 871.279 L28.3562 884.647 Z\" fill=\"#000000\" fill-rule=\"evenodd\" fill-opacity=\"1\" /><path clip-path=\"url(#clip390)\" d=\"M44.7161 811.378 L47.5806 811.378 L47.5806 838.305 Q53.6281 837.923 56.8109 834.676 Q59.9619 831.398 59.9619 825.573 Q59.9619 822.199 59.1344 819.048 Q58.3069 815.865 56.6518 812.746 L62.1899 812.746 Q63.5267 815.897 64.227 819.207 Q64.9272 822.518 64.9272 825.923 Q64.9272 834.453 59.9619 839.45 Q54.9967 844.416 46.5303 844.416 Q37.7774 844.416 32.6531 839.705 Q27.4968 834.963 27.4968 826.942 Q27.4968 819.749 32.1438 815.579 Q36.7589 811.378 44.7161 811.378 M42.9973 817.234 Q38.1912 817.298 35.3266 819.94 Q32.4621 822.549 32.4621 826.878 Q32.4621 831.78 35.2312 834.74 Q38.0002 837.668 43.0292 838.114 L42.9973 817.234 Z\" fill=\"#000000\" fill-rule=\"evenodd\" fill-opacity=\"1\" /><path clip-path=\"url(#clip390)\" d=\"M44.7161 750.553 L47.5806 750.553 L47.5806 777.48 Q53.6281 777.098 56.8109 773.852 Q59.9619 770.573 59.9619 764.749 Q59.9619 761.375 59.1344 758.224 Q58.3069 755.041 56.6518 751.922 L62.1899 751.922 Q63.5267 755.073 64.227 758.383 Q64.9272 761.693 64.9272 765.099 Q64.9272 773.629 59.9619 778.626 Q54.9967 783.591 46.5303 783.591 Q37.7774 783.591 32.6531 778.881 Q27.4968 774.138 27.4968 766.117 Q27.4968 758.924 32.1438 754.755 Q36.7589 750.553 44.7161 750.553 M42.9973 756.41 Q38.1912 756.473 35.3266 759.115 Q32.4621 761.725 32.4621 766.054 Q32.4621 770.955 35.2312 773.915 Q38.0002 776.844 43.0292 777.289 L42.9973 756.41 Z\" fill=\"#000000\" fill-rule=\"evenodd\" fill-opacity=\"1\" /><path clip-path=\"url(#clip390)\" d=\"M33.8307 720.284 Q33.2578 721.271 33.0032 722.449 Q32.7167 723.595 32.7167 724.995 Q32.7167 729.96 35.9632 732.634 Q39.1779 735.276 45.2253 735.276 L64.0042 735.276 L64.0042 741.164 L28.3562 741.164 L28.3562 735.276 L33.8944 735.276 Q30.6479 733.43 29.0883 730.47 Q27.4968 727.509 27.4968 723.276 Q27.4968 722.672 27.5923 721.939 Q27.656 721.207 27.8151 720.316 L33.8307 720.284 Z\" fill=\"#000000\" fill-rule=\"evenodd\" fill-opacity=\"1\" /><path clip-path=\"url(#clip390)\" d=\"M33.8307 694.631 Q33.2578 695.617 33.0032 696.795 Q32.7167 697.941 32.7167 699.341 Q32.7167 704.306 35.9632 706.98 Q39.1779 709.622 45.2253 709.622 L64.0042 709.622 L64.0042 715.51 L28.3562 715.51 L28.3562 709.622 L33.8944 709.622 Q30.6479 707.776 29.0883 704.816 Q27.4968 701.856 27.4968 697.622 Q27.4968 697.018 27.5923 696.286 Q27.656 695.554 27.8151 694.662 L33.8307 694.631 Z\" fill=\"#000000\" fill-rule=\"evenodd\" fill-opacity=\"1\" /><path clip-path=\"url(#clip390)\" d=\"M32.4621 676.106 Q32.4621 680.817 36.1542 683.554 Q39.8145 686.292 46.212 686.292 Q52.6095 686.292 56.3017 683.586 Q59.9619 680.849 59.9619 676.106 Q59.9619 671.428 56.2698 668.69 Q52.5777 665.953 46.212 665.953 Q39.8781 665.953 36.186 668.69 Q32.4621 671.428 32.4621 676.106 M27.4968 676.106 Q27.4968 668.468 32.4621 664.107 Q37.4273 659.747 46.212 659.747 Q54.9649 659.747 59.9619 664.107 Q64.9272 668.468 64.9272 676.106 Q64.9272 683.777 59.9619 688.138 Q54.9649 692.466 46.212 692.466 Q37.4273 692.466 32.4621 688.138 Q27.4968 683.777 27.4968 676.106 Z\" fill=\"#000000\" fill-rule=\"evenodd\" fill-opacity=\"1\" /><path clip-path=\"url(#clip390)\" d=\"M33.8307 629.382 Q33.2578 630.369 33.0032 631.546 Q32.7167 632.692 32.7167 634.093 Q32.7167 639.058 35.9632 641.732 Q39.1779 644.373 45.2253 644.373 L64.0042 644.373 L64.0042 650.262 L28.3562 650.262 L28.3562 644.373 L33.8944 644.373 Q30.6479 642.527 29.0883 639.567 Q27.4968 636.607 27.4968 632.374 Q27.4968 631.769 27.5923 631.037 Q27.656 630.305 27.8151 629.414 L33.8307 629.382 Z\" fill=\"#000000\" fill-rule=\"evenodd\" fill-opacity=\"1\" /><path clip-path=\"url(#clip390)\" d=\"M14.5426 588.451 Q21.8632 592.716 29.0246 594.784 Q36.186 596.853 43.5384 596.853 Q50.8908 596.853 58.1159 594.784 Q65.3091 592.684 72.5979 588.451 L72.5979 593.543 Q65.1182 598.317 57.8931 600.705 Q50.668 603.06 43.5384 603.06 Q36.4406 603.06 29.2474 600.705 Q22.0542 598.349 14.5426 593.543 L14.5426 588.451 Z\" fill=\"#000000\" fill-rule=\"evenodd\" fill-opacity=\"1\" /><path clip-path=\"url(#clip390)\" d=\"M14.479 577.088 L14.479 571.231 L64.0042 571.231 L64.0042 577.088 L14.479 577.088 Z\" fill=\"#000000\" fill-rule=\"evenodd\" fill-opacity=\"1\" /><path clip-path=\"url(#clip390)\" d=\"M32.4621 545.164 Q32.4621 549.874 36.1542 552.612 Q39.8145 555.349 46.212 555.349 Q52.6095 555.349 56.3017 552.644 Q59.9619 549.906 59.9619 545.164 Q59.9619 540.485 56.2698 537.748 Q52.5777 535.01 46.212 535.01 Q39.8781 535.01 36.186 537.748 Q32.4621 540.485 32.4621 545.164 M27.4968 545.164 Q27.4968 537.525 32.4621 533.164 Q37.4273 528.804 46.212 528.804 Q54.9649 528.804 59.9619 533.164 Q64.9272 537.525 64.9272 545.164 Q64.9272 552.834 59.9619 557.195 Q54.9649 561.524 46.212 561.524 Q37.4273 561.524 32.4621 557.195 Q27.4968 552.834 27.4968 545.164 Z\" fill=\"#000000\" fill-rule=\"evenodd\" fill-opacity=\"1\" /><path clip-path=\"url(#clip390)\" d=\"M45.7664 495.639 Q39.4007 495.639 35.8996 498.28 Q32.3984 500.89 32.3984 505.633 Q32.3984 510.343 35.8996 512.985 Q39.4007 515.595 45.7664 515.595 Q52.1003 515.595 55.6014 512.985 Q59.1026 510.343 59.1026 505.633 Q59.1026 500.89 55.6014 498.28 Q52.1003 495.639 45.7664 495.639 M59.58 489.782 Q68.683 489.782 73.1071 493.824 Q77.5631 497.867 77.5631 506.206 Q77.5631 509.293 77.0857 512.03 Q76.6401 514.768 75.6852 517.346 L69.9879 517.346 Q71.3884 514.768 72.0568 512.253 Q72.7252 509.739 72.7252 507.129 Q72.7252 501.368 69.7015 498.503 Q66.7096 495.639 60.6303 495.639 L57.7339 495.639 Q60.885 497.453 62.4446 500.286 Q64.0042 503.118 64.0042 507.065 Q64.0042 513.622 59.0071 517.632 Q54.01 521.643 45.7664 521.643 Q37.491 521.643 32.4939 517.632 Q27.4968 513.622 27.4968 507.065 Q27.4968 503.118 29.0564 500.286 Q30.616 497.453 33.7671 495.639 L28.3562 495.639 L28.3562 489.782 L59.58 489.782 Z\" fill=\"#000000\" fill-rule=\"evenodd\" fill-opacity=\"1\" /><path clip-path=\"url(#clip390)\" d=\"M58.5933 471.353 L58.5933 448.914 L64.0042 448.914 L64.0042 479.088 L58.5933 479.088 Q54.8057 475.427 48.44 469.125 Q42.0425 462.792 40.1964 461.168 Q36.7271 458.081 34.34 456.871 Q31.921 455.63 29.5975 455.63 Q25.8099 455.63 23.4228 458.304 Q21.0356 460.945 21.0356 465.211 Q21.0356 468.234 22.086 471.608 Q23.1363 474.95 25.2688 478.769 L18.7758 478.769 Q17.2162 474.886 16.4205 471.513 Q15.6248 468.139 15.6248 465.338 Q15.6248 457.954 19.3169 453.561 Q23.009 449.169 29.1837 449.169 Q32.112 449.169 34.7537 450.283 Q37.3637 451.365 40.9285 454.262 Q41.8515 455.057 46.2757 459.322 Q50.668 463.587 58.5933 471.353 Z\" fill=\"#000000\" fill-rule=\"evenodd\" fill-opacity=\"1\" /><path clip-path=\"url(#clip390)\" d=\"M14.5426 437.17 L14.5426 432.077 Q22.0542 427.303 29.2474 424.947 Q36.4406 422.56 43.5384 422.56 Q50.668 422.56 57.8931 424.947 Q65.1182 427.303 72.5979 432.077 L72.5979 437.17 Q65.3091 432.936 58.1159 430.868 Q50.8908 428.767 43.5384 428.767 Q36.186 428.767 29.0246 430.868 Q21.8632 432.936 14.5426 437.17 Z\" fill=\"#000000\" fill-rule=\"evenodd\" fill-opacity=\"1\" /><polyline clip-path=\"url(#clip392)\" style=\"stroke:#009af9; stroke-linecap:butt; stroke-linejoin:round; stroke-width:4; stroke-opacity:1; fill:none\" points=\"\n",
       "  301.869,1357.99 340.911,1374.5 379.954,1253.54 418.996,1199.78 458.038,1189.36 497.08,1095.04 536.122,1226.43 575.165,1376.2 614.207,1059.73 653.249,1159.58 \n",
       "  692.291,1259.43 731.333,1359.28 770.376,785.137 809.418,835.062 848.46,884.987 887.502,934.912 926.544,984.837 965.587,1034.76 1004.63,1084.69 1043.67,1134.61 \n",
       "  1082.71,1184.54 1121.76,1234.46 1160.8,1284.39 1199.84,1334.31 1238.88,1384.24 1277.92,86.1857 1316.97,86.1857 1356.01,86.1857 1395.05,86.1857 1434.09,86.1857 \n",
       "  1473.14,86.1857 1512.18,86.1857 1551.22,86.1857 1590.26,86.1857 1629.3,86.1857 1668.35,86.1857 1707.39,86.1857 1746.43,86.1857 1785.47,86.1857 1824.51,86.1857 \n",
       "  1863.56,86.1857 1902.6,86.1857 1941.64,86.1857 1980.68,86.1857 2019.73,86.1857 2058.77,86.1857 2097.81,86.1857 2136.85,86.1857 2175.89,86.1857 2214.94,86.1857 \n",
       "  2253.98,86.1857 2293.02,86.1857 \n",
       "  \"/>\n",
       "<path clip-path=\"url(#clip390)\" d=\"\n",
       "M1989.97 196.789 L2282.4 196.789 L2282.4 93.1086 L1989.97 93.1086  Z\n",
       "  \" fill=\"#ffffff\" fill-rule=\"evenodd\" fill-opacity=\"1\"/>\n",
       "<polyline clip-path=\"url(#clip390)\" style=\"stroke:#000000; stroke-linecap:butt; stroke-linejoin:round; stroke-width:4; stroke-opacity:1; fill:none\" points=\"\n",
       "  1989.97,196.789 2282.4,196.789 2282.4,93.1086 1989.97,93.1086 1989.97,196.789 \n",
       "  \"/>\n",
       "<polyline clip-path=\"url(#clip390)\" style=\"stroke:#009af9; stroke-linecap:butt; stroke-linejoin:round; stroke-width:4; stroke-opacity:1; fill:none\" points=\"\n",
       "  2013.97,144.949 2157.97,144.949 \n",
       "  \"/>\n",
       "<path clip-path=\"url(#clip390)\" d=\"M2195.81 164.636 Q2194.01 169.266 2192.3 170.678 Q2190.58 172.09 2187.71 172.09 L2184.31 172.09 L2184.31 168.525 L2186.81 168.525 Q2188.57 168.525 2189.54 167.692 Q2190.51 166.858 2191.69 163.756 L2192.46 161.812 L2181.97 136.303 L2186.49 136.303 L2194.59 156.581 L2202.69 136.303 L2207.2 136.303 L2195.81 164.636 Z\" fill=\"#000000\" fill-rule=\"evenodd\" fill-opacity=\"1\" /><path clip-path=\"url(#clip390)\" d=\"M2214.49 158.293 L2222.13 158.293 L2222.13 131.928 L2213.82 133.595 L2213.82 129.335 L2222.09 127.669 L2226.76 127.669 L2226.76 158.293 L2234.4 158.293 L2234.4 162.229 L2214.49 162.229 L2214.49 158.293 Z\" fill=\"#000000\" fill-rule=\"evenodd\" fill-opacity=\"1\" /></svg>\n"
      ]
     },
     "execution_count": 29,
     "metadata": {},
     "output_type": "execute_result"
    }
   ],
   "source": [
    "using Plots\n",
    "S=precision(Float64)-1;\n",
    "relative_error=zeros(S)\n",
    "for n=1:S\n",
    "    h=2.0^(-n)\n",
    "    exact=1-sqrt(1+BigFloat(h)^2)\n",
    "    numerical=1-sqrt(1+h^2)\n",
    "    relative_error[n]=-abs(numerical-exact)/exact\n",
    "end\n",
    "plot(1:S,log2.(relative_error), xlabel=\"n\", ylabel=\"relative error (log2)\")"
   ]
  },
  {
   "cell_type": "markdown",
   "metadata": {},
   "source": [
    "From this plot we can clearly identify the 3 phases:\n",
    "1. When $n$ is very small, the relative error grows smoothly with $n$;\n",
    "2. When $n$ is neither too large nor too small, the relative error has jumps at around $S/2=26$, $(S-3)/4=12.25$, $(S-4)/6=8$. In each stage, the slope is as predicted. For example, the first stage from $S/2$ to $(S-3)/4$ has relative error of $\\frac{1}{4}h^2$, hence the slope is -2 between 13 and 25.\n",
    "3. When $n\\ge S/2$, the relative error is 100%;\n",
    "\n",
    "The transition point between phase 1 and 2 is at the stage for $O(h^8)$ of relative error from phase 2 which meets $\\frac{\\epsilon_m}{h^2}$ from phase 1."
   ]
  }
 ],
 "metadata": {
  "kernelspec": {
   "display_name": "Julia 1.7.0",
   "language": "julia",
   "name": "julia-1.7"
  },
  "language_info": {
   "file_extension": ".jl",
   "mimetype": "application/julia",
   "name": "julia",
   "version": "1.7.1"
  }
 },
 "nbformat": 4,
 "nbformat_minor": 2
}
