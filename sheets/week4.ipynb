{
 "cells": [
  {
   "cell_type": "markdown",
   "metadata": {},
   "source": [
    "# MATH50003 Numerical Analysis: Problem Sheet 4\n",
    "\n",
    "This problem sheet explores least squares, the QR decomposition including for\n",
    "tridiagonal matrices,\n",
    "and the PLU decompositions.\n",
    "\n",
    "Questions marked with a ⋆ are meant to be completed without using a computer.\n",
    "Problems are denoted A/B/C to indicate their difficulty."
   ]
  },
  {
   "cell_type": "code",
   "execution_count": 1,
   "metadata": {
    "execution": {
     "iopub.execute_input": "2022-03-02T14:24:56.565993Z",
     "iopub.status.busy": "2022-03-02T14:24:56.144738Z",
     "iopub.status.idle": "2022-03-02T14:25:01.803641Z",
     "shell.execute_reply": "2022-03-02T14:25:01.803106Z"
    }
   },
   "outputs": [],
   "source": [
    "using LinearAlgebra, Plots, Test"
   ]
  },
  {
   "cell_type": "markdown",
   "metadata": {},
   "source": [
    "## 1. Least squares and QR decompositions\n",
    "\n",
    "**Problem 1.1 (B)** Find and plot the best least squares fit of ${1 \\over 5x^2 + 1}$ by degree $n$\n",
    "polynomials for $n = 0,\\ldots,10$ at 1000 evenly spaced points between $0$ and $1$.\n",
    "\n",
    "\n",
    "\n",
    "**Problem 1.2⋆ (B)** Show that every matrix has a QR decomposition such that the diagonal of $R$ is non-negative.\n",
    "Make sure to include the case of more columns than rows.\n",
    "\n",
    "\n",
    "\n",
    "**Problem 1.3⋆ (B)** Show that the QR decomposition of a square invertible matrix is unique,\n",
    "provided that the diagonal of $R$ is positive.\n",
    "\n",
    "\n",
    "\n",
    "\n",
    "## 2. Gram–Schmidt\n",
    "\n",
    "**Problem 2.1⋆ (B)** The modified Gram–Schmidt algorithm is a slight variation of Gram–Schmidt where\n",
    "instead of computing\n",
    "$$\n",
    "𝐯_j := 𝐚_j - \\sum_{k=1}^{j-1} \\underbrace{𝐪_k^\\top 𝐚_j}_{r_{kj}} 𝐪_k\n",
    "$$\n",
    "we compute it step-by-step:\n",
    "$$\n",
    "\\begin{align*}\n",
    "𝐯_j^1 &:= 𝐚_j \\\\\n",
    "𝐯_j^{k+1} &:= 𝐯_j^k - 𝐪_k^\\top 𝐯_j^k 𝐪_k\n",
    "\\end{align*}\n",
    "$$\n",
    "Show that $𝐯_j^j = 𝐯_j$.\n",
    "\n",
    "\n",
    "\n",
    "**Problem 2.2 (B)** Complete the following\n",
    "function implementing the modified Gram–Schmidt algorithm:"
   ]
  },
  {
   "cell_type": "code",
   "execution_count": null,
   "metadata": {
    "execution": {
     "iopub.execute_input": "2022-03-02T14:25:02.992470Z",
     "iopub.status.busy": "2022-03-02T14:25:01.805107Z",
     "iopub.status.idle": "2022-03-02T14:25:06.736617Z",
     "shell.execute_reply": "2022-03-02T14:25:06.736217Z"
    }
   },
   "outputs": [],
   "source": [
    "function modifiedgramschmidt(A)\n",
    "    m,n = size(A)\n",
    "    m ≥ n || error(\"Not supported\")\n",
    "    R = zeros(n,n)\n",
    "    Q = zeros(m,n)\n",
    "    for j = 1:n\n",
    "        # TODO: Implement the Modified Gram–Schmidt algorthm\n",
    "    end\n",
    "    Q,R\n",
    "end\n",
    "\n",
    "A = randn(300,300)\n",
    "Q,R = modifiedgramschmidt(A)\n",
    "@test A ≈ Q*R\n",
    "@test Q'Q ≈ I"
   ]
  },
  {
   "cell_type": "markdown",
   "metadata": {},
   "source": [
    "**Problem 2.3 (B)** Compare the orthogonality of `Q` between `gramschmidt` and `modifiedgramschmidt`\n",
    "when applied to a `300 × 300` random matrix.\n",
    "\n",
    "\n",
    "\n",
    "## 3. Householder reflections\n",
    "\n",
    "**Problem 3.1 (B)**\n",
    "Complete the definition of `Reflections` which supports a sequence of reflections,\n",
    "that is,\n",
    "$$\n",
    "Q = Q_{𝐯_1} \\cdots Q_{𝐯_n}\n",
    "$$\n",
    "where the vectors are stored as a matrix `V` whose $j$-th column is $𝐯_j$, and\n",
    "$$\n",
    "Q_{𝐯_j} = I - 2 𝐯_j 𝐯_j^\\top.\n",
    "$$"
   ]
  },
  {
   "cell_type": "code",
   "execution_count": null,
   "metadata": {
    "execution": {
     "iopub.execute_input": "2022-03-02T14:25:06.738982Z",
     "iopub.status.busy": "2022-03-02T14:25:06.738407Z",
     "iopub.status.idle": "2022-03-02T14:25:08.874971Z",
     "shell.execute_reply": "2022-03-02T14:25:08.874494Z"
    }
   },
   "outputs": [],
   "source": [
    "struct Reflections{T} <: AbstractMatrix{T}\n",
    "    V::Matrix{T}\n",
    "end\n",
    "\n",
    "import Base: *, size, getindex\n",
    "\n",
    "size(Q::Reflections) = (size(Q.V,1), size(Q.V,1))\n",
    "\n",
    "\n",
    "function *(Q::Reflections, x::AbstractVector)\n",
    "    T = eltype(Q)\n",
    "    r = Vector{T}(x) # convert x to a vector of type T\n",
    "    # TODO: Apply Q in O(mn) operations by applying\n",
    "    # the reflection corresponding to each column of Q.V to r\n",
    "\n",
    "    r\n",
    "end\n",
    "\n",
    "function getindex(Q::Reflections, k::Int, j::Int)\n",
    "    # TODO: Return Q[k,j] in O(mn) operations (hint: use *)\n",
    "end\n",
    "\n",
    "Y = randn(5,3)\n",
    "V = Y * Diagonal([1/norm(Y[:,j]) for j=1:3])\n",
    "Q = Reflections(V)\n",
    "@test Q ≈ (I - 2V[:,1]*V[:,1]')*(I - 2V[:,2]*V[:,2]')*(I - 2V[:,3]*V[:,3]')\n",
    "@test Q'Q ≈ I"
   ]
  },
  {
   "cell_type": "markdown",
   "metadata": {},
   "source": [
    "**Problem 3.2 (B)** Complete the following function that implements\n",
    " Householder QR using only $O(mn^2)$ operations."
   ]
  },
  {
   "cell_type": "code",
   "execution_count": null,
   "metadata": {
    "execution": {
     "iopub.execute_input": "2022-03-02T14:25:08.877255Z",
     "iopub.status.busy": "2022-03-02T14:25:08.876623Z",
     "iopub.status.idle": "2022-03-02T14:25:09.109713Z",
     "shell.execute_reply": "2022-03-02T14:25:09.109307Z"
    }
   },
   "outputs": [],
   "source": [
    "function householderqr(A)\n",
    "    m,n = size(A)\n",
    "    if m < n\n",
    "        error(\"Only support more rows than columns\")\n",
    "    end\n",
    "    # R begins as A, modify it in place\n",
    "    R = copy(A)\n",
    "    Q = Reflections(Matrix(1.0I, m, n))\n",
    "    for j = 1:n\n",
    "        # TODO: populate Q and R using O(m*(n-j)) operations\n",
    "    end\n",
    "    Q,R\n",
    "end\n",
    "\n",
    "A = randn(4,6)\n",
    "Q,R = householderqr(A)\n",
    "@test Q*R ≈ A\n",
    "@test Q'Q ≈ I"
   ]
  },
  {
   "cell_type": "markdown",
   "metadata": {},
   "source": [
    "## 4. Banded QR with Given's rotations\n",
    "\n",
    "**Problem 4.1⋆ (A)**  Describe an algorithm for computing the QR decomposition\n",
    "of a tridiagonal matrix using rotations instead of reflections to upper-triangularise\n",
    "column-by-column.\n",
    "\n",
    "\n",
    "\n",
    "**Problem 4.2 (B)** Implement `Rotations` which represents an orthogonal matrix `Q` that is a product\n",
    "of rotations of angle `θ[k]`, each acting on the entries `k:k+1`. That is, it returns $Q = Q_1⋯Q_k$ such that\n",
    "$$\n",
    "Q_k[k:k+1,k:k+1] = \n",
    "\\begin{bmatrix}\n",
    "cos(θ[k]) -sin(θ[k])\n",
    "sin(θ[k]) cos(θ[k])\n",
    "\\end{bmatrix}\n",
    "$$"
   ]
  },
  {
   "cell_type": "code",
   "execution_count": null,
   "metadata": {
    "execution": {
     "iopub.execute_input": "2022-03-02T14:25:09.112733Z",
     "iopub.status.busy": "2022-03-02T14:25:09.112091Z",
     "iopub.status.idle": "2022-03-02T14:25:09.362697Z",
     "shell.execute_reply": "2022-03-02T14:25:09.360732Z"
    }
   },
   "outputs": [],
   "source": [
    "struct Rotations{T} <: AbstractMatrix{T}\n",
    "    θ::Vector{T}\n",
    "end\n",
    "\n",
    "import Base: *, size, getindex\n",
    "\n",
    "size(Q::Rotations) = (length(Q.θ)+1, length(Q.θ)+1)\n",
    "\n",
    "\n",
    "function *(Q::Rotations, x::AbstractVector)\n",
    "    T = eltype(Q)\n",
    "    y = convert(Vector{T}, x)\n",
    "    # TODO: Apply Q in O(n) operations, modifying y in-place\n",
    "\n",
    "    y\n",
    "end\n",
    "\n",
    "function getindex(Q::Rotations, k::Int, j::Int)\n",
    "    # TODO: Return Q[k,j] in O(n) operations (hint: use *)\n",
    "end\n",
    "\n",
    "θ1 = randn(5)\n",
    "Q = Rotations(θ1)\n",
    "@test Q'Q ≈ I\n",
    "@test Rotations([π/2, -π/2]) ≈ [0 0 -1; 1 0 0; 0 -1 0]"
   ]
  },
  {
   "cell_type": "markdown",
   "metadata": {},
   "source": [
    "**Problem 4.3 (A)** Combine `Rotations` and `UpperTridiagonal` from last problem sheet\n",
    "to implement a banded QR decomposition, `bandedqr`, that only takes $O(n)$ operations. Hint: use `atan(y,x)`\n",
    "to determine the angle."
   ]
  },
  {
   "cell_type": "code",
   "execution_count": null,
   "metadata": {
    "execution": {
     "iopub.execute_input": "2022-03-02T14:25:09.365745Z",
     "iopub.status.busy": "2022-03-02T14:25:09.365100Z",
     "iopub.status.idle": "2022-03-02T14:25:10.877830Z",
     "shell.execute_reply": "2022-03-02T14:25:10.877400Z"
    }
   },
   "outputs": [],
   "source": [
    "# First we include UpperTridiagonal from last problem sheet.\n",
    "# bandedqr is below.\n",
    "import Base: *, size, getindex, setindex!\n",
    "struct UpperTridiagonal{T} <: AbstractMatrix{T}\n",
    "    d::Vector{T}   # diagonal entries\n",
    "    du::Vector{T}  # super-diagonal enries\n",
    "    du2::Vector{T} # second-super-diagonal entries\n",
    "end\n",
    "\n",
    "size(U::UpperTridiagonal) = (length(U.d),length(U.d))\n",
    "\n",
    "function getindex(U::UpperTridiagonal, k::Int, j::Int)\n",
    "    d,du,du2 = U.d,U.du,U.du2\n",
    "    # TODO: return U[k,j]\n",
    "    if j - k == 0\n",
    "        d[j]\n",
    "    elseif j - k == 1\n",
    "        du[k]\n",
    "    elseif j - k == 2\n",
    "        du2[k]\n",
    "    else\n",
    "        0\n",
    "    end\n",
    "end\n",
    "\n",
    "function setindex!(U::UpperTridiagonal, v, k::Int, j::Int)\n",
    "    d,du,du2 = U.d,U.du,U.du2\n",
    "    if j > k+2\n",
    "        error(\"Cannot modify off-band\")\n",
    "    end\n",
    "\n",
    "    # TODO: modify d,du,du2 so that U[k,j] == v\n",
    "    if j - k == 0\n",
    "        d[k] = v\n",
    "    elseif j - k == 1\n",
    "        du[k] = v\n",
    "    elseif j - k == 2\n",
    "        du2[k] = v\n",
    "    else\n",
    "        error(\"Cannot modify off-band\")\n",
    "    end\n",
    "    U = UpperTridiagonal(d,du,du2)\n",
    "\n",
    "    U # by convention we return the matrix\n",
    "end\n",
    "\n",
    "function bandedqr(A::Tridiagonal)\n",
    "    n = size(A, 1)\n",
    "    Q = Rotations(zeros(n - 1)) # Assume Float64\n",
    "    R = UpperTridiagonal(zeros(n), zeros(n - 1), zeros(n - 2))\n",
    "    R[1, 1:2] = A[1, 1:2]\n",
    "        \n",
    "    for j = 1:n-1\n",
    "        # angle of rotation\n",
    "        Q.θ[j] = atan(A[j+1, j], R[j, j])\n",
    "        θ = -Q.θ[j] # rotate in oppoiste direction \n",
    "\n",
    "        c, s = cos(θ), sin(θ)\n",
    "        # [c -s; s c] represents the rotation that introduces a zero.\n",
    "\n",
    "        ## TODO: modify rows k and k+1 of R to represent\n",
    "        # applying the rotation. Note you will need to use row k+1 of A.\n",
    "    end\n",
    "    Q, R\n",
    "end\n",
    "\n",
    "A = Tridiagonal([1, 2, 3, 4], [1, 2, 3, 4, 5], [1, 2, 3, 4])\n",
    "Q, R = bandedqr(A)\n",
    "@test Q*R ≈ A"
   ]
  },
  {
   "cell_type": "markdown",
   "metadata": {},
   "source": [
    "**Problem 4.4⋆ (B)** Could one redesign the above to only use IEEE operatations (addition, multiplication, square-roots,\n",
    "avoiding calls `atan`, `cos`, and `sin`)?\n",
    "Would it have been possible to implement this algorithm using reflections?\n",
    "If so, what would be the structure of a matrix whose columns are the vectors of reflections?\n",
    "\n",
    "\n",
    "\n",
    "## 5. PLU decomposition\n",
    "\n",
    "**Problem 5.1⋆ (C)** Compute the PLU decompositions for the following matrices:\n",
    "$$\n",
    "\\begin{bmatrix}\n",
    "0 & 2 & 1 \\\\\n",
    "2 & 6 & 1 \\\\\n",
    "1 & 1 & 4\n",
    "\\end{bmatrix},\n",
    "\\begin{bmatrix}\n",
    "1 & 2 & -1 & 0 \\\\\n",
    "2 & 4 & -2 & 1 \\\\\n",
    "-3 & -5 & 6 & 1 \\\\\n",
    "-1 & 2 & 8 & -2\n",
    "\\end{bmatrix}\n",
    "$$"
   ]
  }
 ],
 "metadata": {
  "kernelspec": {
   "display_name": "Julia 1.7.0",
   "language": "julia",
   "name": "julia-1.7"
  },
  "language_info": {
   "file_extension": ".jl",
   "mimetype": "application/julia",
   "name": "julia",
   "version": "1.7.1"
  }
 },
 "nbformat": 4,
 "nbformat_minor": 2
}