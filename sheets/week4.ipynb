{
 "cells": [
  {
   "cell_type": "markdown",
   "metadata": {},
   "source": [
    "# MATH50003 Numerical Analysis: Problem Sheet 4\n",
    "\n",
    "This problem sheet explores least squares, the QR decomposition including for\n",
    "tridiagonal matrices,\n",
    "and the PLU decompositions.\n",
    "\n",
    "Questions marked with a ⋆ are meant to be completed without using a computer."
   ]
  },
  {
   "cell_type": "code",
   "execution_count": 1,
   "metadata": {
    "execution": {
     "iopub.execute_input": "2022-02-01T14:19:44.244695Z",
     "iopub.status.busy": "2022-02-01T14:19:43.844091Z",
     "iopub.status.idle": "2022-02-01T14:19:48.981001Z",
     "shell.execute_reply": "2022-02-01T14:19:48.980377Z"
    }
   },
   "outputs": [],
   "source": [
    "using LinearAlgebra, Plots"
   ]
  },
  {
   "cell_type": "markdown",
   "metadata": {},
   "source": [
    "## 1. Least squares and QR decompositions\n",
    "\n",
    "**Problem 1.1** Find and plot the best least squares fit of ${1 \\over 5x^2 + 1}$ by degree $n$\n",
    "polynomials for $n = 0,\\ldots,10$ at 1000 evenly spaced points between $0$ and $1$."
   ]
  },
  {
   "cell_type": "markdown",
   "metadata": {},
   "source": [
    "**Problem 1.2⋆** Show that every matrix has a QR decomposition such that the diagonal of $R$ is non-negative.\n",
    "Make sure to inlude the case of more columns than rows.\n",
    "\n",
    "**Problem 1.3⋆** Show that the QR decomposition of a square invertible matrix is unique, \n",
    "provided that the diagonal of $R$ is positive.\n",
    "\n",
    "\n",
    "## 2. Gram–Schmidt\n",
    "\n",
    "**Problem 2.1⋆** The modified Gram–Schmidt algorithm is a slight variation of Gram–Schmidt where\n",
    "instead of computing\n",
    "$$\n",
    "𝐯_j := 𝐚_j - \\sum_{k=1}^{j-1} \\underbrace{𝐪_k^\\top 𝐚_j}_{r_{kj}} 𝐪_k\n",
    "$$\n",
    "we compute it step-by-step:\n",
    "$$\n",
    "\\begin{align*}\n",
    "𝐯_j^1 &:= 𝐚_j \\\\\n",
    "𝐯_j^{k+1} &:= 𝐯_j^k - 𝐪_k^\\top 𝐯_j^k 𝐪_k\n",
    "\\end{align*}\n",
    "$$\n",
    "Show that $𝐯_j^k = 𝐯_j$. \n",
    "\n",
    "**Problem 2.2** Complete the following\n",
    "function implementing the modified Gram–Schmidt algorithm:"
   ]
  },
  {
   "cell_type": "code",
   "execution_count": null,
   "metadata": {
    "execution": {
     "iopub.execute_input": "2022-02-01T14:19:59.469262Z",
     "iopub.status.busy": "2022-02-01T14:19:59.468516Z",
     "iopub.status.idle": "2022-02-01T14:19:59.905478Z",
     "shell.execute_reply": "2022-02-01T14:19:59.904706Z"
    }
   },
   "outputs": [],
   "source": [
    "function modifiedgramschmidt(A)\n",
    "    m,n = size(A)\n",
    "    m ≥ n || error(\"Not supported\")\n",
    "    R = zeros(n,n)\n",
    "    Q = zeros(m,n)\n",
    "    for j = 1:n\n",
    "        # TODO: Implement the Modified Gram–Schmidt algorthm\n",
    "    end\n",
    "    Q,R\n",
    "end"
   ]
  },
  {
   "cell_type": "markdown",
   "metadata": {},
   "source": [
    "**Problem 2.3** Compare the orthogonality of `Q` between `gramschmidt` and `modifiedgramschmidt`\n",
    "when applied to a `300 × 300` random matrix.\n",
    "\n",
    "## 3. Householder reflections\n",
    "\n",
    "\n",
    "**Problem 3.1**\n",
    "Complete the definition of `Reflections` which supports a sequence of Householder reflections,\n",
    "that is, \n",
    "$$\n",
    "Q = Q_{𝐯_1} \\cdots Q_{𝐯_n}\n",
    "$$\n",
    "where the vectors are stored as a matrix `V` whose $j$-th column is $𝐯_j$."
   ]
  },
  {
   "cell_type": "code",
   "execution_count": 4,
   "metadata": {
    "execution": {
     "iopub.execute_input": "2022-02-01T14:19:59.907693Z",
     "iopub.status.busy": "2022-02-01T14:19:59.907133Z",
     "iopub.status.idle": "2022-02-01T14:20:00.004750Z",
     "shell.execute_reply": "2022-02-01T14:20:00.004187Z"
    }
   },
   "outputs": [
    {
     "data": {
      "text/plain": [
       "getindex (generic function with 325 methods)"
      ]
     },
     "execution_count": 4,
     "metadata": {},
     "output_type": "execute_result"
    }
   ],
   "source": [
    "struct Reflections{T} <: AbstractMatrix{T}\n",
    "    V::Matrix{T}\n",
    "end\n",
    "\n",
    "import Base: *, size, getindex\n",
    "\n",
    "size(Q::Reflections) = (size(Q.v,1), size(Q.v,1))\n",
    "\n",
    "\n",
    "function *(Q::Reflections, x::AbstractVector)\n",
    "    # TODO: Apply Q in O(mn) operations\n",
    "end\n",
    "\n",
    "function getindex(Q::Reflections, k::Int, j::Int)\n",
    "    # TODO: Return Q[k,j] in O(mn) operations (hint: use *)\n",
    "end"
   ]
  },
  {
   "cell_type": "markdown",
   "metadata": {},
   "source": [
    "**Problem 3.2** Complete the following function that implements\n",
    " Householder QR using only $O(mn^2)$ operations:"
   ]
  },
  {
   "cell_type": "code",
   "execution_count": 5,
   "metadata": {
    "execution": {
     "iopub.execute_input": "2022-02-01T14:20:00.007333Z",
     "iopub.status.busy": "2022-02-01T14:20:00.006455Z",
     "iopub.status.idle": "2022-02-01T14:20:00.103701Z",
     "shell.execute_reply": "2022-02-01T14:20:00.103316Z"
    }
   },
   "outputs": [
    {
     "data": {
      "text/plain": [
       "householderqr (generic function with 1 method)"
      ]
     },
     "execution_count": 5,
     "metadata": {},
     "output_type": "execute_result"
    }
   ],
   "source": [
    "function householderqr(A)\n",
    "    m,n = size(A)\n",
    "    R = copy(A)\n",
    "    Q = Reflections(Matrix(1.0I, m, n))\n",
    "    for j = 1:n\n",
    "        # TODO: populate Q and R using O(m*j) operations\n",
    "    end\n",
    "    Q,R\n",
    "end"
   ]
  },
  {
   "cell_type": "markdown",
   "metadata": {},
   "source": [
    "## 4. Banded QR with Given's rotations\n",
    "\n",
    "**Problem 4.1⋆**  Describe an algorithm for computing the QR decomposition\n",
    "of a tridiagonal matrix using rotations instead of reflections to upper-triangularise\n",
    "column-by-column.\n",
    "\n",
    "**Problem 4.2** Implement `Rotations` which represents an orthogonal matrix `Q` that is a product\n",
    " of rotations of angle `θ[k]`, each acting on the entries `k:k+1`."
   ]
  },
  {
   "cell_type": "code",
   "execution_count": 6,
   "metadata": {
    "execution": {
     "iopub.execute_input": "2022-02-01T14:20:00.106138Z",
     "iopub.status.busy": "2022-02-01T14:20:00.105298Z",
     "iopub.status.idle": "2022-02-01T14:20:00.119092Z",
     "shell.execute_reply": "2022-02-01T14:20:00.118654Z"
    }
   },
   "outputs": [
    {
     "data": {
      "text/plain": [
       "getindex (generic function with 326 methods)"
      ]
     },
     "execution_count": 6,
     "metadata": {},
     "output_type": "execute_result"
    }
   ],
   "source": [
    "struct Rotations{T} <: AbstractMatrix{T}\n",
    "    θ::Vector{T}\n",
    "end\n",
    "\n",
    "import Base: *, size, getindex\n",
    "\n",
    "size(Q::Rotations) = (length(Q.θ)+1, length(Q.θ)+1)\n",
    "\n",
    "\n",
    "function *(Q::Rotations, x::AbstractVector)\n",
    "    # TODO: Apply Q in O(n) operations\n",
    "end\n",
    "\n",
    "function getindex(Q::Rotations, k::Int, j::Int)\n",
    "    # TODO: Return Q[k,j] in O(n) operations (hint: use *)\n",
    "end"
   ]
  },
  {
   "cell_type": "markdown",
   "metadata": {},
   "source": [
    "**Problem 4.3** Combine `Rotations` and `UpperTridiagonal` from last problem sheet\n",
    "to implement a banded QR decomposition that only takes $O(n)$ operations:"
   ]
  },
  {
   "cell_type": "code",
   "execution_count": 7,
   "metadata": {
    "execution": {
     "iopub.execute_input": "2022-02-01T14:20:00.120995Z",
     "iopub.status.busy": "2022-02-01T14:20:00.120507Z",
     "iopub.status.idle": "2022-02-01T14:20:00.201815Z",
     "shell.execute_reply": "2022-02-01T14:20:00.201279Z"
    }
   },
   "outputs": [
    {
     "data": {
      "text/plain": [
       "bandedqr (generic function with 1 method)"
      ]
     },
     "execution_count": 7,
     "metadata": {},
     "output_type": "execute_result"
    }
   ],
   "source": [
    "function bandedqr(A::Tridiagonal)\n",
    "    n = size(A,1)\n",
    "    Q = Rotations(zeros(n)) # Assume Float64\n",
    "    R = UpperTridiagonal(zeros(n), zeros(n-1), zeros(n-2))\n",
    "    for j = 1:n-1\n",
    "        # TODO: populate Q and R\n",
    "    end\n",
    "    Q,R\n",
    "end"
   ]
  },
  {
   "cell_type": "markdown",
   "metadata": {},
   "source": [
    "**Problem 4.4⋆** Could one redesign the above to only use IEEE operatations (addition, multiplication, square-roots, \n",
    "avoiding calls `atan`, `cos`, and `sin`)?\n",
    "Would it have been possible to implement this algorithm using reflections?\n",
    "If so, what would be the structure of a matrix whose columns are the vectors of reflections?\n",
    "\n",
    "## 5. PLU decomposition\n",
    "\n",
    "**Problem 5.1⋆** Compute the PLU decompositions for the following matrices:\n",
    "$$\n",
    "\\begin{bmatrix}\n",
    "0 & 2 & 1 \\\\\n",
    "2 & 6 & 1 \\\\\n",
    "1 & 1 & 4\n",
    "\\end{bmatrix},\n",
    "\\begin{bmatrix}\n",
    "1 & 2 & -1 & 0 \\\\\n",
    "2 & 4 & -2 & 1 \\\\\n",
    "-3 & -5 & 6 & 1 \\\\\n",
    "-1 & 2 & 8 & -2\n",
    "\\end{bmatrix}\n",
    "$$"
   ]
  }
 ],
 "metadata": {
  "kernelspec": {
   "display_name": "Julia 1.7.0",
   "language": "julia",
   "name": "julia-1.7"
  },
  "language_info": {
   "file_extension": ".jl",
   "mimetype": "application/julia",
   "name": "julia",
   "version": "1.7.1"
  }
 },
 "nbformat": 4,
 "nbformat_minor": 2
}
