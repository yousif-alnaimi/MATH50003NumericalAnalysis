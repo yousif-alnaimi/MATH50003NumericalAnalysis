{
 "cells": [
  {
   "cell_type": "markdown",
   "metadata": {},
   "source": [
    "# MATH50003 Numerical Analysis: Problem Sheet 5\n",
    "\n",
    "This problem sheet explores positive definite matrices,\n",
    "Cholesky decompositions, matrix norms, and the singular value decomposition.\n",
    "\n",
    "Questions marked with a ⋆ are meant to be completed without using a computer."
   ]
  },
  {
   "cell_type": "code",
   "execution_count": 1,
   "metadata": {
    "execution": {
     "iopub.execute_input": "2022-02-08T10:13:56.357994Z",
     "iopub.status.busy": "2022-02-08T10:13:55.970910Z",
     "iopub.status.idle": "2022-02-08T10:14:00.890627Z",
     "shell.execute_reply": "2022-02-08T10:14:00.890122Z"
    }
   },
   "outputs": [],
   "source": [
    "using LinearAlgebra, Plots"
   ]
  },
  {
   "cell_type": "markdown",
   "metadata": {},
   "source": [
    "## 1. Positive definite matrices and Cholesky decompositions\n",
    "\n",
    "\n",
    "**Problem 1.1⋆** Use the Cholesky decomposition to determine\n",
    "which of the following matrices are symmetric positive definite:\n",
    "$$\n",
    "\\begin{bmatrix} 1 & -1  \\\\\n",
    "-1 & 3\n",
    "\\end{bmatrix}, \\begin{bmatrix} 1 & 2 & 2  \\\\\n",
    "2 & 1 & 2\\\\\n",
    "2 & 2 & 1\n",
    "\\end{bmatrix}, \\begin{bmatrix} 3 & 2 & 1  \\\\\n",
    "2 & 4 & 2\\\\\n",
    "1 & 2 & 5\n",
    "\\end{bmatrix}, \n",
    "\\begin{bmatrix} 4 & 2 & 2 & 1  \\\\\n",
    "2 & 4 & 2 & 2\\\\\n",
    "2 & 2 & 4 & 2 \\\\\n",
    "1 & 2 & 2 & 4\n",
    "\\end{bmatrix}\n",
    "$$\n",
    "\n",
    "**Problem 1.2⋆** Recall that an inner product $⟨𝐱, 𝐲⟩$ on $ℝ^n$\n",
    "over the reals $ℝ$ satisfies, for all $𝐱,𝐲,𝐳 ∈ ℝ$ and $a,b ∈ ℝ$:\n",
    "1. Symmetry: $⟨𝐱, 𝐲⟩ = ⟨𝐲, 𝐱⟩$\n",
    "2. Linearity: $⟨a𝐱+b𝐲, 𝐳⟩ = a ⟨𝐱, 𝐳⟩+ b⟨𝐲, 𝐳⟩$\n",
    "3. Posive-definite: $⟨𝐱, 𝐱⟩ > 0$\n",
    "Prove that $⟨𝐱, 𝐲⟩$ is an inner product if and only if\n",
    "$$\n",
    "⟨𝐱, 𝐲⟩ = 𝐱^⊤ K 𝐲\n",
    "$$\n",
    "where $K$ is a symmetric positive definite matrix.\n",
    "\n",
    "\n",
    "**Problem 1.3⋆** Show that a matrix is symmetric positive definite if and only if it has a Cholesky\n",
    "decomposition of the form\n",
    "$$\n",
    "A = U U^⊤\n",
    "$$\n",
    "where $U$ is upper triangular with positive entries on the diagonal.\n",
    "\n",
    "\n",
    "**Problem 1.4⋆** Prove that the following $n × n$ matrix is symmetric positive definite\n",
    "for any $n$:\n",
    "$$\n",
    "Δ_n := \\begin{bmatrix}\n",
    "2 & -1 \\\\\n",
    "-1 & 2 & -1 \\\\\n",
    "& -1 & 2 & ⋱ \\\\\n",
    "&& ⋱ & ⋱ & -1 \\\\\n",
    "&&& -1 & 2\n",
    "\\end{bmatrix}\n",
    "$$\n",
    "Deduce its two Cholesky decompositions: $Δ_n = L_n L_n^⊤ = U_n U_n^⊤$ where\n",
    "$L_n$ is lower triangular and $U_n$ is upper triangular.\n",
    "\n",
    "**Problem 1.4** `SymTridiagonal(dv, eu)` is a type for representing symmetric tridiagonal\n",
    "matrices (that is, `SymTridiagonal(dv, ev) == Tridiagonal(ev, dv, ev)`). Complete the following\n",
    "implementation of `cholesky` to return a `Bidiagonal` cholesky factor in $O(n)$ operations, \n",
    "and check your result\n",
    "compared to your solution of Problem 1.3 for `n = 1_000_000`."
   ]
  },
  {
   "cell_type": "code",
   "execution_count": 2,
   "metadata": {
    "execution": {
     "iopub.execute_input": "2022-02-08T10:14:01.957078Z",
     "iopub.status.busy": "2022-02-08T10:14:00.892063Z",
     "iopub.status.idle": "2022-02-08T10:14:02.515755Z",
     "shell.execute_reply": "2022-02-08T10:14:02.515363Z"
    }
   },
   "outputs": [
    {
     "data": {
      "text/plain": [
       "cholesky! (generic function with 1 method)"
      ]
     },
     "execution_count": 2,
     "metadata": {},
     "output_type": "execute_result"
    }
   ],
   "source": [
    "using LinearAlgebra\n",
    "import LinearAlgebra: cholesky\n",
    "\n",
    "# return a Bidiagonal L such that L'L == A (up to machine precision)\n",
    "cholesky(A::SymTridiagonal) = cholesky!(copy(A))\n",
    "\n",
    "# return a Bidiagonal L such that L'L == A (up to machine precision)\n",
    "# You are allowed to change A\n",
    "function cholesky!(A::SymTridiagonal)\n",
    "    d = A.dv # diagonal entries of A\n",
    "    u = A.ev # sub/super-diagonal entries of A\n",
    "    T = float(eltype(A)) # return type, make float in case A has Ints\n",
    "    n = length(d)\n",
    "    ld = zeros(T, n) # diagonal entries of L\n",
    "    ll = zeros(T, n-1) # sub-diagonal entries of L\n",
    "\n",
    "    # TODO: populate ld and ll\n",
    "    \n",
    "\n",
    "    Bidiagonal(ld, l, :L)\n",
    "end"
   ]
  },
  {
   "cell_type": "markdown",
   "metadata": {},
   "source": [
    "## 2. Matrix norms\n",
    "\n",
    "**Problem 2.1⋆** Prove the following:\n",
    "$$\n",
    "\\begin{align*}\n",
    "\\|A\\|_∞ &= \\max_k \\|A[k,:]\\|_1 \\\\\n",
    "\\|A\\|_{1 → ∞} &= \\|\\hbox{vec}(A)\\|_∞ = \\max_{kj} |a_{kj}|\n",
    "\\end{align*}\n",
    "$$\n",
    "\n",
    "**Problem 2.2⋆** For a rank-1 matrix $A = 𝐱 𝐲^⊤$ prove that\n",
    "$$\n",
    "\\|A \\|_2 = \\|𝐱\\|_2 \\|𝐲\\|_2.\n",
    "$$\n",
    "\n",
    "**Problem 2.3⋆** Show for any orthogonal matrix $Q ∈ ℝ^m$ and\n",
    "matrix $A ∈ ℝ^{m × n}$ that\n",
    "$$\n",
    "\\|Q A\\|_F = \\|A\\|_F\n",
    "$$\n",
    "by first showing that $\\|A \\|_F = \\sqrt{\\hbox{tr}(A^⊤ A)}$ using the\n",
    "_trace_ of an $m × m$ matrix:\n",
    "$$\n",
    "\\hbox{tr}(A) = a_{11} + a_{22} + ⋯ + a_{mm}.\n",
    "$$\n",
    "\n",
    "\n",
    "## 3. Singular value decomposition\n",
    "\n",
    "**Problem 3.1⋆** Show that $\\|A \\|_2 ≤ \\|A\\|_F ≤ \\sqrt{r} \\|A \\|_2$ where\n",
    "$r$ is the rank of $A$.\n",
    "\n",
    "**Problem 3.2** Consider functions sampled on a $(n+1) × (n+1)$ 2D grid \n",
    "$(x_k,y_j) = (k/n, j/n)$ where $k,j = 0,…,n$. \n",
    "For $n = 100$, what is the lowest rank $r$ such that\n",
    "the  best rank-$r$ approximation to the samples \n",
    "that is accurate to within $10^{-5}$ accuracy for the following functions:\n",
    "$$\n",
    "(x + 2y)^2, \\cos(\\sin x {\\rm e}^y), 1/(x + y + 1), \\hbox{sign}(x-y)\n",
    "$$\n",
    "For which examples does the answer change when $n = 1000$?"
   ]
  },
  {
   "cell_type": "markdown",
   "metadata": {},
   "source": [
    "**Problem 3.3⋆** Define the _pseudo-inverse_:\n",
    "$$\n",
    "A^+ := V Σ^{-1} U^⊤.\n",
    "$$\n",
    "Show that it satisfies the _Moore-Penrose conditions_:\n",
    "1. $A A^+ A = A$\n",
    "2. $A^+ A A^+ = A^+$\n",
    "3. $(A A^+)^⊤  = A A^+$ and $(A^+ A)^⊤ = A^+ A$\n",
    "\n",
    "**Problem 3.4⋆** Show for $A ∈ ℝ^{m × n}$ with $m ≥ n$ and full rank\n",
    "that $𝐱 =  A^+ 𝐛$ is the least squares solution, i.e., minimises $\\| A 𝐱 - 𝐛 \\|_2$.\n",
    "\n",
    "**Problem 3.5⋆**\n",
    "If $A ∈ ℝ^{m × n}$ has a non-empty kernel there are multiple solutions to the least\n",
    "squares problem as \n",
    "we can add any element of the kernel. Show that $𝐱 = A^+ 𝐛$ gives the least squares solution\n",
    "such that $\\| 𝐱 \\|_2$ is minimised."
   ]
  }
 ],
 "metadata": {
  "kernelspec": {
   "display_name": "Julia 1.7.1",
   "language": "julia",
   "name": "julia-1.7"
  },
  "language_info": {
   "file_extension": ".jl",
   "mimetype": "application/julia",
   "name": "julia",
   "version": "1.7.1"
  }
 },
 "nbformat": 4,
 "nbformat_minor": 2
}
