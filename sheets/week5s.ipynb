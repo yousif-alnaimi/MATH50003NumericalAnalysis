{
 "cells": [
  {
   "cell_type": "markdown",
   "metadata": {},
   "source": [
    "# MATH50003 Numerical Analysis: Problem Sheet 4\n",
    "\n",
    "This problem sheet explores positive definite matrices,\n",
    "Cholesky decompositions, matrix norms, and the singular value decomposition.\n",
    "\n",
    "Questions marked with a ⋆ are meant to be completed without using a computer."
   ]
  },
  {
   "cell_type": "code",
   "execution_count": 1,
   "metadata": {
    "execution": {
     "iopub.execute_input": "2022-02-01T16:20:04.815419Z",
     "iopub.status.busy": "2022-02-01T16:20:04.419455Z",
     "iopub.status.idle": "2022-02-01T16:20:09.502285Z",
     "shell.execute_reply": "2022-02-01T16:20:09.501714Z"
    }
   },
   "outputs": [],
   "source": [
    "using LinearAlgebra, Plots"
   ]
  },
  {
   "cell_type": "markdown",
   "metadata": {},
   "source": [
    "## 1. Positive definite matrices and Cholesky decompositions\n",
    "\n",
    "\n",
    "**Problem 1.1⋆** Show that the following matrices are symmetric positive definite.\n",
    "\n",
    "\n",
    "**Problem 1.2⋆** Show that a matrix is symmetric positive definite if and only if it has a Cholesky\n",
    "decomposition of the form\n",
    "$$\n",
    "A = U U^⊤\n",
    "$$\n",
    "where $U$ has positive entries on the diagonal.\n",
    "\n",
    "\n",
    "**Problem 1.3⋆** Prove that the following $n × n$ matrix is symmetric positive definite\n",
    "for any $n$:\n",
    "$$\n",
    "\\begin{bmatrix}\n",
    "2 & -1 \\\\\n",
    "-1 & 2 & -1 \\\\\n",
    "& -1 & 2 & ⋱ \\\\\n",
    "&& ⋱ & ⋱ & -1 \\\\\n",
    "&&& -1 & 2\n",
    "\\end{bmatrix}\n",
    "$$"
   ]
  }
 ],
 "metadata": {
  "kernelspec": {
   "display_name": "Julia 1.7.0",
   "language": "julia",
   "name": "julia-1.7"
  },
  "language_info": {
   "file_extension": ".jl",
   "mimetype": "application/julia",
   "name": "julia",
   "version": "1.7.1"
  }
 },
 "nbformat": 4,
 "nbformat_minor": 2
}
