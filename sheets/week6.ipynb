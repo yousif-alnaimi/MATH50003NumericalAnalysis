{
 "cells": [
  {
   "cell_type": "markdown",
   "metadata": {},
   "source": [
    "# MATH50003 Numerical Analysis: Problem Sheet 6\n",
    "\n",
    "This problem sheet explores condition numbers, indefinite integration,\n",
    "and Euler's method.\n",
    "\n",
    "Questions marked with a ⋆ are meant to be completed without using a computer."
   ]
  },
  {
   "cell_type": "code",
   "execution_count": 1,
   "metadata": {
    "execution": {
     "iopub.execute_input": "2022-02-19T09:43:36.704804Z",
     "iopub.status.busy": "2022-02-19T09:43:36.266066Z",
     "iopub.status.idle": "2022-02-19T09:43:41.717205Z",
     "shell.execute_reply": "2022-02-19T09:43:41.716188Z"
    }
   },
   "outputs": [],
   "source": [
    "using LinearAlgebra, Plots"
   ]
  },
  {
   "cell_type": "markdown",
   "metadata": {},
   "source": [
    "## 1. Condition numbers\n",
    "\n",
    "\n",
    "**Problem 1.1⋆** Prove that, if $|ϵ_i| ≤ ϵ$ and $n ϵ < 1$, then\n",
    "$$\n",
    "\\prod_{k=1}^n (1+ϵ_i) = 1+θ_n\n",
    "$$\n",
    "for some constant $θ_n$ satisfying $|θ_n| ≤ {n ϵ \\over 1-nϵ}$.\n",
    "\n",
    "**Problem 1.2⋆** Let $A,B ∈ ℝ^{m × n}$. Prove that if the columns satisfy $\\|𝐚_j\\|_2 ≤ \\| 𝐛_j\\|_2$ then\n",
    "$\\|A\\|_F ≤ \\|B\\|_F$ and $\\|A \\|_2 ≤ \\sqrt{\\hbox{rank}(B)} \\|B\\|_2$.\n",
    "\n",
    "**Problem 1.3⋆** Compute the 1-norm, 2-norm, and ∞-norm condition numbers for the following matrices:\n",
    "$$\n",
    "\\begin{bmatrix}\n",
    "1 & 2 \\\\ 3 & 4\n",
    "\\end{bmatrix}, \\begin{bmatrix}\n",
    "1/3 & 1/5 \\\\ 0 & 1/7\n",
    "\\end{bmatrix}, \\begin{bmatrix} 1 \\\\ & 1/2 \\\\ && ⋯ \\\\ &&& 1/2^n \\end{bmatrix}\n",
    "$$\n",
    "(Hint: recall that the singular values of a matrix $A$ are the square roots of the eigenvalues of the Gram matrix\n",
    "$A^⊤A$.)\n",
    "\n",
    "\n",
    "**Problem 1.4**\n",
    "State a bound on the relative error on $A 𝐯$ for $\\|𝐯\\|_2 = 1$ for the following matrices:\n",
    "$$\n",
    "\\begin{bmatrix}\n",
    "1/3 & 1/5 \\\\ 0 & 1/10^3\n",
    "\\end{bmatrix},\n",
    " \\begin{bmatrix} 1 \\\\ & 1/2 \\\\ && ⋯ \\\\ &&& 1/2^{10} \\end{bmatrix}\n",
    "$$\n",
    "Compute the relative error in computing $A 𝐯$ (using `big` for a high-precision version to compare against)\n",
    "where $𝐯$ is the last column of $V$ in the SVD $A = U Σ V^⊤$, computed using the `svd` command with\n",
    "`Float64` inputs. How does the error compare to the predicted error bound?\n",
    "\n",
    "\n",
    "\n",
    "\n",
    "\n",
    "## 2. Indefinite integration\n",
    "\n",
    "**Problem 2.1** Implement backward differences to approximate\n",
    "indefinite-integration. How does the error compare to forward\n",
    "and mid-point versions  for $f(x) = \\cos x$ on the interval $[0,1]$?\n",
    "Use the method to approximate the integrals of\n",
    "$$\n",
    "\\exp(\\exp x \\cos x + \\sin x), \\prod_{k=1}^{1000} \\left({x \\over k}-1\\right), \\hbox{ and } f^{\\rm s}_{1000}(x)\n",
    "$$\n",
    "to 3 digits, where $f^{\\rm s}_{1000}(x)$ was defined in PS2.\n",
    "\n",
    "\n",
    "**Problem 2.2** Implement indefinite-integration \n",
    "where we take the average of the two grid points:\n",
    "$$\n",
    "{u'(x_{k+1}) + u'(x_k) \\over 2} ≈ {u_{k+1} - u_k \\over h}\n",
    "$$\n",
    "What is the observed rate-of-convergence using the ∞-norm for $f(x) = \\cos x$\n",
    "on the interval $[0,1]$?\n",
    "Does the method converge if the error is measured in the $1$-norm?"
   ]
  },
  {
   "cell_type": "markdown",
   "metadata": {},
   "source": [
    "## 3. Euler methods\n",
    "\n",
    "**Problem 3.1** Solve the following ODEs \n",
    "using forward and/or backward Euler and increasing $n$, the number of time-steps, \n",
    "until $u(1)$ is determined to 3 digits:\n",
    "$$\n",
    "\\begin{align*}\n",
    "u(0) &= 1, u'(t) = \\cos(t) u(t) + t \\\\\n",
    "v(0) &= 1, v'(0) = 0, v''(t) = \\cos(t) v(t) + t \\\\\n",
    "w(0) &= 1, w'(0) = 0, w''(t) = t w(t) + 2 w(t)^2\n",
    "\\end{align*}\n",
    "$$\n",
    "If we increase the initial condition $w(0) = c > 1$, $w'(0)$\n",
    "the solution may blow up in finite time. Find the smallest positive integer $c$\n",
    "such that the numerical approximation suggests the equation\n",
    "does not blow up."
   ]
  },
  {
   "cell_type": "markdown",
   "metadata": {},
   "source": [
    "**Problem 3.2⋆** For an evenly spaced grid $t_1, …, t_n$, use the approximation\n",
    "$$\n",
    "{u'(t_{k+1}) + u'(t_k) \\over 2} ≈ {u_{k+1} - u_k \\over h}\n",
    "$$\n",
    "to recast\n",
    "$$\n",
    "\\begin{align*}\n",
    "u(0) &= c \\\\\n",
    "u'(t) &= a(t) u(t) + f(t)\n",
    "\\end{align*}\n",
    "$$\n",
    "as a lower bidiagonal linear system. Use forward-substitution to extend this to vector linear problems:\n",
    "$$\n",
    "\\begin{align*}\n",
    "𝐮(0) &= 𝐜 \\\\\n",
    "𝐮'(t) &= A(t) 𝐮(t) + 𝐟(t)\n",
    "\\end{align*}\n",
    "$$\n",
    "\n",
    "\n",
    "**Problem 3.3** Implement the method designed in Problem 3.1 for the negative time Airy equation \n",
    "$$\n",
    "u(0) = 1, u'(0) = 0, u''(t) = -t u(t)\n",
    "$$\n",
    "on $[0,50]$.\n",
    "How many time-steps are needed to get convergence to 1% accuracy (the \"eyeball norm\")?\n",
    "\n",
    "**Problem 3.4** Implement Heat on a graph with $m = 50$ nodes with no forcing\n",
    "and initial condition $u_{m/2}(0) = 1$ and $u_k(0) = 0$, but where the first and last node are fixed\n",
    "to  zero, that is replace the first and last rows of the differential equation with\n",
    "the conditions:\n",
    "$$\n",
    "u_1(t) = u_m(t) = 0.\n",
    "$$\n",
    "Find the time $t$ such that  $\\|𝐮(t)\\|_∞ <10^{-3}$ to 2 digits.\n",
    "Hint: Differentiate to recast the conditions as a differential equation.\n",
    "Vary $n$, the number of time-steps used in Forward Euler, and increase $T$ in the interval $[0,T]$\n",
    "until the answer doesn't change.\n",
    "Do a for loop over the time-slices to find the first that satisfies the condition.\n",
    "(You may wish to call `println` to print the answer and `break` to exit the for loop).\n"
   ]
  },
  {
   "cell_type": "markdown",
   "metadata": {},
   "source": [
    "**Problem 3.5** Consider the equation\n",
    "$$\n",
    "u(0) = 1, u'(t) = -10u(t)\n",
    "$$\n",
    "What behaviour do you observe on $[0,10]$ of forward, backward, and that of Problem 3.1\n",
    "with a step-size of 0.5? What happens if you decrease the step-size to $0.01$? (Hint: you may wish to do a plot and scale the $y$-axis logarithmically,)"
   ]
  }
 ],
 "metadata": {
  "kernelspec": {
   "display_name": "Julia 1.7.0",
   "language": "julia",
   "name": "julia-1.7"
  },
  "language_info": {
   "file_extension": ".jl",
   "mimetype": "application/julia",
   "name": "julia",
   "version": "1.7.0"
  }
 },
 "nbformat": 4,
 "nbformat_minor": 2
}
