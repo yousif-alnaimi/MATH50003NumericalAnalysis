{
 "cells": [
  {
   "cell_type": "markdown",
   "metadata": {},
   "source": [
    "# MATH50003 Numerical Analysis: Problem Sheet 8\n",
    "\n",
    "This problem sheet explores the Discrete Fourier Transform (DFT),\n",
    "the Fast Fourier Transform (FFT), and orthogonal polynomials,\n",
    "\n",
    "Questions marked with a ⋆ are meant to be completed without using a computer.\n",
    "Problems are denoted A/B/C to indicate their difficulty."
   ]
  },
  {
   "cell_type": "code",
   "execution_count": 1,
   "metadata": {
    "execution": {
     "iopub.execute_input": "2022-03-09T10:21:34.698459Z",
     "iopub.status.busy": "2022-03-09T10:21:34.327164Z",
     "iopub.status.idle": "2022-03-09T10:21:39.451268Z",
     "shell.execute_reply": "2022-03-09T10:21:39.450671Z"
    }
   },
   "outputs": [],
   "source": [
    "using LinearAlgebra, Plots, Test"
   ]
  },
  {
   "cell_type": "markdown",
   "metadata": {},
   "source": [
    "## 1. DFT\n",
    "\n",
    "**Problem 1.1⋆ (C)** Show that the DFT $Q_n$ is symmetric ($Q_n = Q_n^⊤$) but not Hermitian ($Q_n ≠ Q_n^⋆$).\n",
    "\n",
    "**Problem 1.2⋆ (A)** Show for $0 ≤ k,ℓ ≤ n-1$\n",
    "$$\n",
    "{1 \\over n} \\sum_{j=1}^n \\cos k θ_j \\cos ℓ θ_j = \\begin{cases} 1 & k = ℓ = 0 \\\\\n",
    "                                                  1/2 & k = ℓ \\\\\n",
    "                                                  0 & \\hbox{otherwise}\n",
    "                                                  \\end{cases}\n",
    "$$\n",
    "for $θ_j = π(j-1/2)/n$. Hint: Be careful as the $\\theta_j$ differ from before, \n",
    "and only cover half the period, $[0,\\pi]$. Using symmetry may help.\n",
    "You may also consider replacing $\\cos$ with \n",
    "complex exponentials:\n",
    "$$\n",
    "\\cos θ = {{\\rm e}^{{\\rm i}θ} + {\\rm e}^{-{\\rm i}θ} \\over 2}.\n",
    "$$\n",
    "\n",
    "\n",
    "**Proof**\n",
    "We have\n",
    "$$\n",
    "{1 \\over n} \\sum_{j=1}^n \\cos k θ_j \\cos ℓ θ_j = Σ_n[{\\rm e}^{{\\rm i} (k+ℓ) θ_j}] + \n",
    "Σ_n[{\\rm e}^{{\\rm i} (k-ℓ) θ_j}] + \n",
    "Σ_n[{\\rm e}^{{\\rm i} (ℓ-k) θ_j}] + Σ_n[{\\rm e}^{{\\rm i} (-k-ℓ) θ_j}] = \n",
    "\\begin{cases}\n",
    "1 & k+ \\\\\n",
    "0\n",
    "\\end{cases}\n",
    "$$\n",
    "\n",
    "**Problem 1.3⋆ (B)** Consider the Discrete Cosine Transform (DCT)\n",
    "$$\n",
    "C_n := \\begin{bmatrix}\n",
    "\\sqrt{1/n} \\\\\n",
    " & \\sqrt{2/n} \\\\ \n",
    " && ⋱ \\\\\n",
    " &&& \\sqrt{2/n}\n",
    " \\end{bmatrix}\n",
    "\\begin{bmatrix}\n",
    "    1 & ⋯ & 1\\\\\n",
    "    \\cos θ_1 & ⋯ & \\cos θ_n \\\\\n",
    "    ⋮ & ⋱ & ⋮ \\\\\n",
    "    \\cos (n-1)θ_1 & ⋯ & \\cos (n-1)θ_n\n",
    "\\end{bmatrix}\n",
    "$$\n",
    "for $θ_j = π(j-1/2)/n$. Prove that $C_n$ is orthogonal: $C_n^⊤ C_n = C_n C_n^⊤ = I$.\n",
    "Hint: $C_n C_n^⊤ = I$ might be easier to show than $C_n^⊤ C_n = I$ using the previous problem.\n",
    "\n",
    "\n",
    "\n",
    "\n",
    "**SOLUTION**\n",
    "\n",
    "For \n",
    "$$\n",
    "\\begin{bmatrix}\n",
    "    1 & ⋯ & 1\\\\\n",
    "    \\cos θ_1 & ⋯ & \\cos θ_n \\\\\n",
    "    ⋮ & ⋱ & ⋮ \\\\\n",
    "    \\cos (n-1)θ_1 & ⋯ & \\cos (n-1)θ_n\n",
    "\\end{bmatrix}\n",
    "$$\n",
    "\n",
    "\n",
    "Here is a computer-based demonstration:"
   ]
  },
  {
   "cell_type": "code",
   "execution_count": 2,
   "metadata": {
    "execution": {
     "iopub.execute_input": "2022-03-09T10:21:40.356938Z",
     "iopub.status.busy": "2022-03-09T10:21:39.470186Z",
     "iopub.status.idle": "2022-03-09T10:21:42.528978Z",
     "shell.execute_reply": "2022-03-09T10:21:42.528356Z"
    }
   },
   "outputs": [
    {
     "data": {
      "text/plain": [
       "10×10 Matrix{Float64}:\n",
       "  1.0           3.18525e-17  -1.9692e-17   …  -1.04161e-18   1.59817e-16\n",
       "  3.18525e-17   1.0           3.15615e-17      1.94168e-16  -3.39467e-16\n",
       " -1.9692e-17    3.15615e-17   1.0              3.4151e-17    4.29005e-17\n",
       "  1.46173e-17   6.18906e-17  -8.71939e-17     -4.8386e-16    2.37214e-16\n",
       " -3.83754e-17   1.23093e-16  -7.59471e-17     -5.04681e-17   3.96805e-16\n",
       "  1.29409e-16  -1.73389e-16   2.77887e-17  …   3.22809e-16  -8.83356e-16\n",
       "  1.81485e-16  -2.80487e-16   7.24884e-17      4.9429e-16    3.05676e-16\n",
       "  2.77165e-17  -8.61478e-17   3.11149e-16      2.14724e-16  -2.17458e-16\n",
       " -1.04161e-18   1.94168e-16   3.4151e-17       1.0          -7.06392e-18\n",
       "  1.59817e-16  -3.39467e-16   4.29005e-17     -7.06392e-18   1.0"
      ]
     },
     "execution_count": 2,
     "metadata": {},
     "output_type": "execute_result"
    }
   ],
   "source": [
    "n = 10\n",
    "θ = range(π/(2n); step=π/n, length=n) # n evenly spaced points starting at π/(2n) with step size π/n\n",
    "C = Diagonal([1/sqrt(n); fill(sqrt(2/n), n-1)]) * [cos((k-1)*θ[j]) for k=1:n, j=1:n]\n",
    "C'C"
   ]
  },
  {
   "cell_type": "markdown",
   "metadata": {},
   "source": [
    "**Problem 1.4 (B)**  A function with a jump does not have uniformly\n",
    "converging coefficients. Plot interpolant for ${\\rm sign}(θ-1/2)$.\n",
    "Conjecture where the approximation converges. (This is known as\n",
    "Gibb's phenomena.) **Note** This is non-examinable as it is computer-based.\n",
    "\n",
    "## 2. FFT \n",
    "\n",
    "**Problem 2.1⋆ (B)** Show that $Q_{2n}$ can also be reduced to $Q_n$ applied\n",
    "to two vectors.\n",
    "\n",
    "\n",
    "\n",
    "## 3. Orthogonal polynomials\n",
    "\n",
    "**Problem 3.1 (B)** Construct  $p_0(x),p_1(x),p_2(x),p_3(x)$, monic OPs\n",
    "for the weight $\\sqrt{1-x^2}$ on $[-1,1]$.\n",
    "Hint: first compute $\\int_{-1}^1 x^k \\sqrt{1-x^2} {\\rm d} x$ for $0 ≤ k ≤ 2$\n",
    "using a change-of-variables.\n",
    "\n",
    "\n",
    "\n",
    "**Problem 3.2 (C, 3-term recurrence, 1st form)**\n",
    "Show that if $\\{p_n\\}$ are OPs then there exist real constants $A_n ≠ 0$, $B_n$, and C_n$\n",
    "such that\n",
    "$$\n",
    "\\begin{align*}\n",
    "p_1(x) &= (A_0 x + B_0) p_0(x) \\\\\n",
    "p_{n+1}(x) &= (A_n x + B_n) p_n(x) - C_n p_{n-1}(x)\n",
    "\\end{align*}\n",
    "$$\n",
    "Write this as a lower triangular linear system, given $p_0(x) = c$:\n",
    "$$\n",
    "L_x \\begin{bmatrix} p_0(x) \\\\ \\vdots \\\\ p_{n-1}(x) \\end{bmatrix} = \\begin{bmatrix} c \\\\ 0 \\\\ \\vdots \\\\ 0 \\end{bmatrix}\n",
    "$$\n",
    "\n",
    "\n",
    "**Problem 3.3 (B)** Show that if $f(x)$ is a degree $n-1$ polynomial\n",
    "$$\n",
    "f(x) = [p_0(x) | ⋯ | p_{n-1}(x)] \\underbrace{\\begin{bmatrix} c_0 \\\\ \\vdots \\\\ c_{n-1} \\end{bmatrix}}_{\\bf c}\n",
    "$$\n",
    "then evaluation at a point can be recast as inverting an upper triangular system\n",
    "(_Clenshaw's algorithm_):\n",
    "$$\n",
    "f(x) = 𝐞_1^⊤ U_x^{-1} {\\bf c}.\n",
    "$$\n",
    "\n",
    "**Problem** If $w(-x) = w(x)$ for a weight supported on $[-b,b]$ show that $a_n = 0$.\n",
    "Hint: first show that the (monic) polynomials $p_{2n}(x)$ are even and $p_{2n+1}(x) are odd.\n",
    "\n",
    "**SOLUTION**\n",
    "\n",
    "Note that $p_0(x)$ is even. $a_0$ is zero:\n",
    "$$\n",
    "⟨p_0,x p_0(x)⟩ = \\int_{-b}^b x w(x) {\\rm d} x = 0\n",
    "$$\n",
    "which shows that\n",
    "$$\n",
    "p_1(x) = xp_0(x)\n",
    "$$\n",
    "is odd. We now proceed by induction. We have:\n",
    "$$\n",
    "⟨p_{2n},x p_{2n}(x)⟩ = \\int_{-b}^b x w(x) p_{2n}(x)^2 {\\rm d} x = 0\n",
    "$$\n",
    "since $x w(x) p_{2n}(x)^2$ is odd$. Meanwhile. This show that if $p_{2n}$ and\n",
    "$p_{2n-1}(x)$ is odd then\n",
    "$$\n",
    "p_{2n+1}(x) \n",
    "$$\n",
    "\n",
    "\n",
    "\n",
    "**END**"
   ]
  }
 ],
 "metadata": {
  "kernelspec": {
   "display_name": "Julia 1.7.0",
   "language": "julia",
   "name": "julia-1.7"
  },
  "language_info": {
   "file_extension": ".jl",
   "mimetype": "application/julia",
   "name": "julia",
   "version": "1.7.1"
  }
 },
 "nbformat": 4,
 "nbformat_minor": 2
}
